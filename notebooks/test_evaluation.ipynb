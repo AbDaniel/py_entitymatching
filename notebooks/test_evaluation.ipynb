{
 "cells": [
  {
   "cell_type": "code",
   "execution_count": 1,
   "metadata": {
    "collapsed": true
   },
   "outputs": [],
   "source": [
    "import sys"
   ]
  },
  {
   "cell_type": "code",
   "execution_count": 2,
   "metadata": {
    "collapsed": true
   },
   "outputs": [],
   "source": [
    "sys.path.append('/Users/pradap/Documents/Research/Python-Package/anhaid/magellan/')"
   ]
  },
  {
   "cell_type": "code",
   "execution_count": 3,
   "metadata": {
    "collapsed": true
   },
   "outputs": [],
   "source": [
    "import magellan as mg\n",
    "import magellan.catalog.catalog_manager as cm"
   ]
  },
  {
   "cell_type": "code",
   "execution_count": 18,
   "metadata": {
    "collapsed": false
   },
   "outputs": [],
   "source": [
    "import os\n",
    "import pandas as pd\n",
    "datasets_path = os.sep.join([mg.get_install_path(), 'datasets', 'test_datasets'])\n",
    "path_a = os.sep.join([datasets_path, 'A.csv'])\n",
    "path_b = os.sep.join([datasets_path, 'B.csv'])\n",
    "path_c = os.sep.join([datasets_path, 'C.csv'])"
   ]
  },
  {
   "cell_type": "code",
   "execution_count": 19,
   "metadata": {
    "collapsed": true
   },
   "outputs": [],
   "source": [
    "A = mg.read_csv_metadata(path_a)\n",
    "B = mg.read_csv_metadata(path_b, key='ID')\n",
    "C = mg.read_csv_metadata(path_c, ltable=A, rtable=B)"
   ]
  },
  {
   "cell_type": "code",
   "execution_count": 26,
   "metadata": {
    "collapsed": false
   },
   "outputs": [
    {
     "data": {
      "text/plain": [
       "True"
      ]
     },
     "execution_count": 26,
     "metadata": {},
     "output_type": "execute_result"
    }
   ],
   "source": [
    "C1 = C[['_id', 'ltable_ID', 'rtable_ID']]\n",
    "\n",
    "num_ones = 1\n",
    "num_zeros = len(C1) - num_ones\n",
    "gold = [0]*num_ones\n",
    "gold.extend([1]*num_zeros)\n",
    "predicted = [1]* (num_zeros + num_ones)\n",
    "\n",
    "ln = len(C1.columns)\n",
    "C1.insert(ln, 'gold', gold)\n",
    "C1.insert(ln+1, 'predicted', predicted)\n",
    "cm.copy_properties(C, C1)"
   ]
  },
  {
   "cell_type": "code",
   "execution_count": 27,
   "metadata": {
    "collapsed": false
   },
   "outputs": [],
   "source": [
    "results = mg.eval_matches(C1, 'gold', 'predicted')"
   ]
  },
  {
   "cell_type": "code",
   "execution_count": 8,
   "metadata": {
    "collapsed": false
   },
   "outputs": [
    {
     "data": {
      "text/plain": [
       "odict_keys(['prec_numerator', 'prec_denominator', 'precision', 'recall_numerator', 'recall_denominator', 'recall', 'f1', 'pred_pos_num', 'false_pos_num', 'false_pos_ls', 'pred_neg_num', 'false_neg_num', 'false_neg_ls'])"
      ]
     },
     "execution_count": 8,
     "metadata": {},
     "output_type": "execute_result"
    }
   ],
   "source": [
    "results.keys()"
   ]
  },
  {
   "cell_type": "code",
   "execution_count": 28,
   "metadata": {
    "collapsed": true
   },
   "outputs": [],
   "source": [
    "import six"
   ]
  },
  {
   "cell_type": "code",
   "execution_count": 29,
   "metadata": {
    "collapsed": false
   },
   "outputs": [
    {
     "name": "stdout",
     "output_type": "stream",
     "text": [
      "prec_numerator\n",
      "14.0\n",
      "prec_denominator\n",
      "15.0\n",
      "precision\n",
      "0.9333333333333333\n",
      "recall_numerator\n",
      "14.0\n",
      "recall_denominator\n",
      "14.0\n",
      "recall\n",
      "1.0\n",
      "f1\n",
      "0.9655172413793104\n",
      "pred_pos_num\n",
      "15.0\n",
      "false_pos_num\n",
      "1.0\n",
      "false_pos_ls\n",
      "[('a1', 'b1')]\n",
      "pred_neg_num\n",
      "0.0\n",
      "false_neg_num\n",
      "0.0\n",
      "false_neg_ls\n",
      "[]\n"
     ]
    }
   ],
   "source": [
    "for k, v in six.iteritems(results):\n",
    "    print(k), print(v)\n",
    "    "
   ]
  },
  {
   "cell_type": "code",
   "execution_count": 30,
   "metadata": {
    "collapsed": true
   },
   "outputs": [],
   "source": [
    "results = mg.eval_matches(C1, 'predicted', 'gold')"
   ]
  },
  {
   "cell_type": "code",
   "execution_count": 31,
   "metadata": {
    "collapsed": false
   },
   "outputs": [
    {
     "name": "stdout",
     "output_type": "stream",
     "text": [
      "prec_numerator\n",
      "14.0\n",
      "prec_denominator\n",
      "14.0\n",
      "precision\n",
      "1.0\n",
      "recall_numerator\n",
      "14.0\n",
      "recall_denominator\n",
      "15.0\n",
      "recall\n",
      "0.9333333333333333\n",
      "f1\n",
      "0.9655172413793104\n",
      "pred_pos_num\n",
      "14.0\n",
      "false_pos_num\n",
      "0.0\n",
      "false_pos_ls\n",
      "[]\n",
      "pred_neg_num\n",
      "1.0\n",
      "false_neg_num\n",
      "1.0\n",
      "false_neg_ls\n",
      "[('a1', 'b1')]\n"
     ]
    }
   ],
   "source": [
    "for k, v in six.iteritems(results):\n",
    "    print(k), print(v)\n",
    "    "
   ]
  },
  {
   "cell_type": "code",
   "execution_count": 13,
   "metadata": {
    "collapsed": false
   },
   "outputs": [
    {
     "data": {
      "text/html": [
       "<div>\n",
       "<table border=\"1\" class=\"dataframe\">\n",
       "  <thead>\n",
       "    <tr style=\"text-align: right;\">\n",
       "      <th></th>\n",
       "      <th>_id</th>\n",
       "      <th>ltable_ID</th>\n",
       "      <th>rtable_ID</th>\n",
       "      <th>gold</th>\n",
       "      <th>predicted</th>\n",
       "    </tr>\n",
       "  </thead>\n",
       "  <tbody>\n",
       "    <tr>\n",
       "      <th>0</th>\n",
       "      <td>0</td>\n",
       "      <td>a1</td>\n",
       "      <td>b1</td>\n",
       "      <td>0</td>\n",
       "      <td>1</td>\n",
       "    </tr>\n",
       "    <tr>\n",
       "      <th>1</th>\n",
       "      <td>1</td>\n",
       "      <td>a1</td>\n",
       "      <td>b2</td>\n",
       "      <td>1</td>\n",
       "      <td>1</td>\n",
       "    </tr>\n",
       "    <tr>\n",
       "      <th>2</th>\n",
       "      <td>2</td>\n",
       "      <td>a1</td>\n",
       "      <td>b6</td>\n",
       "      <td>1</td>\n",
       "      <td>1</td>\n",
       "    </tr>\n",
       "    <tr>\n",
       "      <th>3</th>\n",
       "      <td>6</td>\n",
       "      <td>a2</td>\n",
       "      <td>b3</td>\n",
       "      <td>1</td>\n",
       "      <td>1</td>\n",
       "    </tr>\n",
       "    <tr>\n",
       "      <th>4</th>\n",
       "      <td>7</td>\n",
       "      <td>a2</td>\n",
       "      <td>b4</td>\n",
       "      <td>1</td>\n",
       "      <td>1</td>\n",
       "    </tr>\n",
       "    <tr>\n",
       "      <th>5</th>\n",
       "      <td>8</td>\n",
       "      <td>a2</td>\n",
       "      <td>b5</td>\n",
       "      <td>1</td>\n",
       "      <td>1</td>\n",
       "    </tr>\n",
       "    <tr>\n",
       "      <th>6</th>\n",
       "      <td>3</td>\n",
       "      <td>a3</td>\n",
       "      <td>b1</td>\n",
       "      <td>1</td>\n",
       "      <td>1</td>\n",
       "    </tr>\n",
       "    <tr>\n",
       "      <th>7</th>\n",
       "      <td>4</td>\n",
       "      <td>a3</td>\n",
       "      <td>b2</td>\n",
       "      <td>1</td>\n",
       "      <td>1</td>\n",
       "    </tr>\n",
       "    <tr>\n",
       "      <th>8</th>\n",
       "      <td>5</td>\n",
       "      <td>a3</td>\n",
       "      <td>b6</td>\n",
       "      <td>1</td>\n",
       "      <td>1</td>\n",
       "    </tr>\n",
       "    <tr>\n",
       "      <th>9</th>\n",
       "      <td>9</td>\n",
       "      <td>a4</td>\n",
       "      <td>b3</td>\n",
       "      <td>1</td>\n",
       "      <td>1</td>\n",
       "    </tr>\n",
       "    <tr>\n",
       "      <th>10</th>\n",
       "      <td>10</td>\n",
       "      <td>a4</td>\n",
       "      <td>b4</td>\n",
       "      <td>1</td>\n",
       "      <td>1</td>\n",
       "    </tr>\n",
       "    <tr>\n",
       "      <th>11</th>\n",
       "      <td>11</td>\n",
       "      <td>a4</td>\n",
       "      <td>b5</td>\n",
       "      <td>1</td>\n",
       "      <td>1</td>\n",
       "    </tr>\n",
       "    <tr>\n",
       "      <th>12</th>\n",
       "      <td>12</td>\n",
       "      <td>a5</td>\n",
       "      <td>b3</td>\n",
       "      <td>1</td>\n",
       "      <td>1</td>\n",
       "    </tr>\n",
       "    <tr>\n",
       "      <th>13</th>\n",
       "      <td>13</td>\n",
       "      <td>a5</td>\n",
       "      <td>b4</td>\n",
       "      <td>1</td>\n",
       "      <td>1</td>\n",
       "    </tr>\n",
       "    <tr>\n",
       "      <th>14</th>\n",
       "      <td>14</td>\n",
       "      <td>a5</td>\n",
       "      <td>b5</td>\n",
       "      <td>1</td>\n",
       "      <td>1</td>\n",
       "    </tr>\n",
       "  </tbody>\n",
       "</table>\n",
       "</div>"
      ],
      "text/plain": [
       "    _id ltable_ID rtable_ID  gold  predicted\n",
       "0     0        a1        b1     0          1\n",
       "1     1        a1        b2     1          1\n",
       "2     2        a1        b6     1          1\n",
       "3     6        a2        b3     1          1\n",
       "4     7        a2        b4     1          1\n",
       "5     8        a2        b5     1          1\n",
       "6     3        a3        b1     1          1\n",
       "7     4        a3        b2     1          1\n",
       "8     5        a3        b6     1          1\n",
       "9     9        a4        b3     1          1\n",
       "10   10        a4        b4     1          1\n",
       "11   11        a4        b5     1          1\n",
       "12   12        a5        b3     1          1\n",
       "13   13        a5        b4     1          1\n",
       "14   14        a5        b5     1          1"
      ]
     },
     "execution_count": 13,
     "metadata": {},
     "output_type": "execute_result"
    }
   ],
   "source": [
    "C1"
   ]
  },
  {
   "cell_type": "code",
   "execution_count": 14,
   "metadata": {
    "collapsed": false
   },
   "outputs": [
    {
     "name": "stdout",
     "output_type": "stream",
     "text": [
      "Help on method insert in module pandas.core.frame:\n",
      "\n",
      "insert(loc, column, value, allow_duplicates=False) method of pandas.core.frame.DataFrame instance\n",
      "    Insert column into DataFrame at specified location.\n",
      "    \n",
      "    If `allow_duplicates` is False, raises Exception if column\n",
      "    is already contained in the DataFrame.\n",
      "    \n",
      "    Parameters\n",
      "    ----------\n",
      "    loc : int\n",
      "        Must have 0 <= loc <= len(columns)\n",
      "    column : object\n",
      "    value : int, Series, or array-like\n",
      "\n"
     ]
    }
   ],
   "source": [
    "help(C1.insert)"
   ]
  },
  {
   "cell_type": "code",
   "execution_count": 32,
   "metadata": {
    "collapsed": false
   },
   "outputs": [
    {
     "data": {
      "text/plain": [
       "True"
      ]
     },
     "execution_count": 32,
     "metadata": {},
     "output_type": "execute_result"
    }
   ],
   "source": [
    "C1 = C[['_id', 'ltable_ID', 'rtable_ID']]\n",
    "\n",
    "num_ones = len(C1)\n",
    "num_zeros = len(C1) - num_ones\n",
    "gold = [0]*num_ones\n",
    "# gold.extend([1]*num_zeros)\n",
    "predicted = [1]* (num_zeros + num_ones)\n",
    "\n",
    "ln = len(C1.columns)\n",
    "C1.insert(ln, 'gold', gold)\n",
    "C1.insert(ln+1, 'predicted', predicted)\n",
    "cm.copy_properties(C, C1)"
   ]
  },
  {
   "cell_type": "code",
   "execution_count": 36,
   "metadata": {
    "collapsed": false
   },
   "outputs": [],
   "source": [
    "D = pd.DataFrame(columns=C1.columns)\n",
    "cm.copy_properties(C, D)\n",
    "result = mg.eval_matches(D, 'gold', 'predicted')"
   ]
  },
  {
   "cell_type": "code",
   "execution_count": 38,
   "metadata": {
    "collapsed": false
   },
   "outputs": [
    {
     "name": "stdout",
     "output_type": "stream",
     "text": [
      "prec_numerator\n",
      "0.0\n",
      "prec_denominator\n",
      "0.0\n",
      "precision\n",
      "0.0\n",
      "recall_numerator\n",
      "0.0\n",
      "recall_denominator\n",
      "0.0\n",
      "recall\n",
      "0.0\n",
      "f1\n",
      "0.0\n",
      "pred_pos_num\n",
      "0.0\n",
      "false_pos_num\n",
      "0.0\n",
      "false_pos_ls\n",
      "[]\n",
      "pred_neg_num\n",
      "0.0\n",
      "false_neg_num\n",
      "0.0\n",
      "false_neg_ls\n",
      "[]\n"
     ]
    }
   ],
   "source": [
    "for k, v in six.iteritems(result):\n",
    "    print(k), print(v)"
   ]
  }
 ],
 "metadata": {
  "kernelspec": {
   "display_name": "Python 3",
   "language": "python",
   "name": "python3"
  },
  "language_info": {
   "codemirror_mode": {
    "name": "ipython",
    "version": 3
   },
   "file_extension": ".py",
   "mimetype": "text/x-python",
   "name": "python",
   "nbconvert_exporter": "python",
   "pygments_lexer": "ipython3",
   "version": "3.5.1"
  }
 },
 "nbformat": 4,
 "nbformat_minor": 0
}
