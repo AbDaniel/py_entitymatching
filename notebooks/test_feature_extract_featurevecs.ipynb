{
 "cells": [
  {
   "cell_type": "code",
   "execution_count": 1,
   "metadata": {
    "collapsed": true
   },
   "outputs": [],
   "source": [
    "%load_ext autotime"
   ]
  },
  {
   "cell_type": "code",
   "execution_count": 2,
   "metadata": {
    "collapsed": false
   },
   "outputs": [
    {
     "name": "stdout",
     "output_type": "stream",
     "text": [
      "time: 712 µs\n"
     ]
    }
   ],
   "source": [
    "import sys"
   ]
  },
  {
   "cell_type": "code",
   "execution_count": 3,
   "metadata": {
    "collapsed": false
   },
   "outputs": [
    {
     "name": "stdout",
     "output_type": "stream",
     "text": [
      "time: 1.01 ms\n"
     ]
    }
   ],
   "source": [
    "#sys.path.append('/scratch/pradap/python-work/anhaidgroup/magellan')\n",
    "sys.path.append('/Users/pradap/Documents/Research/Python-Package/anhaid/magellan/')"
   ]
  },
  {
   "cell_type": "code",
   "execution_count": 4,
   "metadata": {
    "collapsed": false
   },
   "outputs": [
    {
     "name": "stdout",
     "output_type": "stream",
     "text": [
      "time: 3.05 s\n"
     ]
    }
   ],
   "source": [
    "import magellan as mg"
   ]
  },
  {
   "cell_type": "code",
   "execution_count": 5,
   "metadata": {
    "collapsed": false
   },
   "outputs": [
    {
     "name": "stdout",
     "output_type": "stream",
     "text": [
      "time: 795 µs\n"
     ]
    }
   ],
   "source": [
    "import os"
   ]
  },
  {
   "cell_type": "code",
   "execution_count": 6,
   "metadata": {
    "collapsed": false
   },
   "outputs": [
    {
     "name": "stdout",
     "output_type": "stream",
     "text": [
      "time: 3.69 ms\n"
     ]
    }
   ],
   "source": [
    "datasets_path = os.sep.join([mg.get_install_path(), 'datasets', 'test_datasets'])\n",
    "path_a = os.sep.join([datasets_path, 'A.csv'])\n",
    "path_b = os.sep.join([datasets_path, 'B.csv'])\n",
    "path_c = os.sep.join([datasets_path, 'C.csv'])\n"
   ]
  },
  {
   "cell_type": "code",
   "execution_count": 7,
   "metadata": {
    "collapsed": false
   },
   "outputs": [
    {
     "name": "stdout",
     "output_type": "stream",
     "text": [
      "time: 15.3 ms\n"
     ]
    }
   ],
   "source": [
    "A = mg.read_csv_metadata(path_a)\n",
    "B = mg.read_csv_metadata(path_b, key='ID')\n",
    "C = mg.read_csv_metadata(path_c, ltable=A, rtable=B)\n",
    "col_pos = len(C.columns)\n",
    "C.insert(col_pos, 'label', [0]*len(C))"
   ]
  },
  {
   "cell_type": "code",
   "execution_count": null,
   "metadata": {
    "collapsed": true
   },
   "outputs": [],
   "source": []
  },
  {
   "cell_type": "code",
   "execution_count": 8,
   "metadata": {
    "collapsed": false
   },
   "outputs": [
    {
     "name": "stdout",
     "output_type": "stream",
     "text": [
      "time: 23.6 ms\n"
     ]
    }
   ],
   "source": [
    "feature_table = mg.get_features_for_matching(A, B)"
   ]
  },
  {
   "cell_type": "code",
   "execution_count": 9,
   "metadata": {
    "collapsed": false
   },
   "outputs": [
    {
     "name": "stdout",
     "output_type": "stream",
     "text": [
      "time: 3.81 ms\n"
     ]
    }
   ],
   "source": [
    "feat_table =feature_table.ix[[5, 15, 15, 18]]"
   ]
  },
  {
   "cell_type": "code",
   "execution_count": 10,
   "metadata": {
    "collapsed": false
   },
   "outputs": [
    {
     "name": "stdout",
     "output_type": "stream",
     "text": [
      "time: 25.5 ms\n"
     ]
    }
   ],
   "source": [
    "F1 = mg.extract_feature_vecs(C, attrs_before=['ltable_name', 'rtable_name'], feature_table=feat_table, attrs_after='label')"
   ]
  },
  {
   "cell_type": "code",
   "execution_count": 11,
   "metadata": {
    "collapsed": false
   },
   "outputs": [
    {
     "data": {
      "text/html": [
       "<div>\n",
       "<table border=\"1\" class=\"dataframe\">\n",
       "  <thead>\n",
       "    <tr style=\"text-align: right;\">\n",
       "      <th></th>\n",
       "      <th>_id</th>\n",
       "      <th>ltable_ID</th>\n",
       "      <th>rtable_ID</th>\n",
       "      <th>ltable_name</th>\n",
       "      <th>rtable_name</th>\n",
       "      <th>name_name_jac_qgm_3_qgm_3</th>\n",
       "      <th>hourly_wage_hourly_wage_exm</th>\n",
       "      <th>hourly_wage_hourly_wage_exm</th>\n",
       "      <th>zipcode_zipcode_exm</th>\n",
       "      <th>label</th>\n",
       "    </tr>\n",
       "  </thead>\n",
       "  <tbody>\n",
       "    <tr>\n",
       "      <th>0</th>\n",
       "      <td>0</td>\n",
       "      <td>a1</td>\n",
       "      <td>b1</td>\n",
       "      <td>Kevin Smith</td>\n",
       "      <td>Mark Levene</td>\n",
       "      <td>0.000000</td>\n",
       "      <td>0</td>\n",
       "      <td>0</td>\n",
       "      <td>1</td>\n",
       "      <td>0</td>\n",
       "    </tr>\n",
       "    <tr>\n",
       "      <th>1</th>\n",
       "      <td>1</td>\n",
       "      <td>a1</td>\n",
       "      <td>b2</td>\n",
       "      <td>Kevin Smith</td>\n",
       "      <td>Bill Bridge</td>\n",
       "      <td>0.000000</td>\n",
       "      <td>0</td>\n",
       "      <td>0</td>\n",
       "      <td>1</td>\n",
       "      <td>0</td>\n",
       "    </tr>\n",
       "    <tr>\n",
       "      <th>2</th>\n",
       "      <td>2</td>\n",
       "      <td>a1</td>\n",
       "      <td>b6</td>\n",
       "      <td>Kevin Smith</td>\n",
       "      <td>Michael Brodie</td>\n",
       "      <td>0.000000</td>\n",
       "      <td>0</td>\n",
       "      <td>0</td>\n",
       "      <td>1</td>\n",
       "      <td>0</td>\n",
       "    </tr>\n",
       "    <tr>\n",
       "      <th>3</th>\n",
       "      <td>6</td>\n",
       "      <td>a2</td>\n",
       "      <td>b3</td>\n",
       "      <td>Michael Franklin</td>\n",
       "      <td>Mike Franklin</td>\n",
       "      <td>0.388889</td>\n",
       "      <td>1</td>\n",
       "      <td>1</td>\n",
       "      <td>1</td>\n",
       "      <td>0</td>\n",
       "    </tr>\n",
       "    <tr>\n",
       "      <th>4</th>\n",
       "      <td>7</td>\n",
       "      <td>a2</td>\n",
       "      <td>b4</td>\n",
       "      <td>Michael Franklin</td>\n",
       "      <td>Joseph Kuan</td>\n",
       "      <td>0.000000</td>\n",
       "      <td>0</td>\n",
       "      <td>0</td>\n",
       "      <td>1</td>\n",
       "      <td>0</td>\n",
       "    </tr>\n",
       "    <tr>\n",
       "      <th>5</th>\n",
       "      <td>8</td>\n",
       "      <td>a2</td>\n",
       "      <td>b5</td>\n",
       "      <td>Michael Franklin</td>\n",
       "      <td>Alfons Kemper</td>\n",
       "      <td>0.000000</td>\n",
       "      <td>0</td>\n",
       "      <td>0</td>\n",
       "      <td>1</td>\n",
       "      <td>0</td>\n",
       "    </tr>\n",
       "    <tr>\n",
       "      <th>6</th>\n",
       "      <td>3</td>\n",
       "      <td>a3</td>\n",
       "      <td>b1</td>\n",
       "      <td>William Bridge</td>\n",
       "      <td>Mark Levene</td>\n",
       "      <td>0.000000</td>\n",
       "      <td>0</td>\n",
       "      <td>0</td>\n",
       "      <td>1</td>\n",
       "      <td>0</td>\n",
       "    </tr>\n",
       "    <tr>\n",
       "      <th>7</th>\n",
       "      <td>4</td>\n",
       "      <td>a3</td>\n",
       "      <td>b2</td>\n",
       "      <td>William Bridge</td>\n",
       "      <td>Bill Bridge</td>\n",
       "      <td>0.400000</td>\n",
       "      <td>1</td>\n",
       "      <td>1</td>\n",
       "      <td>1</td>\n",
       "      <td>0</td>\n",
       "    </tr>\n",
       "    <tr>\n",
       "      <th>8</th>\n",
       "      <td>5</td>\n",
       "      <td>a3</td>\n",
       "      <td>b6</td>\n",
       "      <td>William Bridge</td>\n",
       "      <td>Michael Brodie</td>\n",
       "      <td>0.043478</td>\n",
       "      <td>0</td>\n",
       "      <td>0</td>\n",
       "      <td>1</td>\n",
       "      <td>0</td>\n",
       "    </tr>\n",
       "    <tr>\n",
       "      <th>9</th>\n",
       "      <td>9</td>\n",
       "      <td>a4</td>\n",
       "      <td>b3</td>\n",
       "      <td>Binto George</td>\n",
       "      <td>Mike Franklin</td>\n",
       "      <td>0.000000</td>\n",
       "      <td>0</td>\n",
       "      <td>0</td>\n",
       "      <td>1</td>\n",
       "      <td>0</td>\n",
       "    </tr>\n",
       "    <tr>\n",
       "      <th>10</th>\n",
       "      <td>10</td>\n",
       "      <td>a4</td>\n",
       "      <td>b4</td>\n",
       "      <td>Binto George</td>\n",
       "      <td>Joseph Kuan</td>\n",
       "      <td>0.000000</td>\n",
       "      <td>0</td>\n",
       "      <td>0</td>\n",
       "      <td>1</td>\n",
       "      <td>0</td>\n",
       "    </tr>\n",
       "    <tr>\n",
       "      <th>11</th>\n",
       "      <td>11</td>\n",
       "      <td>a4</td>\n",
       "      <td>b5</td>\n",
       "      <td>Binto George</td>\n",
       "      <td>Alfons Kemper</td>\n",
       "      <td>0.000000</td>\n",
       "      <td>0</td>\n",
       "      <td>0</td>\n",
       "      <td>1</td>\n",
       "      <td>0</td>\n",
       "    </tr>\n",
       "    <tr>\n",
       "      <th>12</th>\n",
       "      <td>12</td>\n",
       "      <td>a5</td>\n",
       "      <td>b3</td>\n",
       "      <td>Alphonse Kemper</td>\n",
       "      <td>Mike Franklin</td>\n",
       "      <td>0.000000</td>\n",
       "      <td>0</td>\n",
       "      <td>0</td>\n",
       "      <td>1</td>\n",
       "      <td>0</td>\n",
       "    </tr>\n",
       "    <tr>\n",
       "      <th>13</th>\n",
       "      <td>13</td>\n",
       "      <td>a5</td>\n",
       "      <td>b4</td>\n",
       "      <td>Alphonse Kemper</td>\n",
       "      <td>Joseph Kuan</td>\n",
       "      <td>0.000000</td>\n",
       "      <td>0</td>\n",
       "      <td>0</td>\n",
       "      <td>1</td>\n",
       "      <td>0</td>\n",
       "    </tr>\n",
       "    <tr>\n",
       "      <th>14</th>\n",
       "      <td>14</td>\n",
       "      <td>a5</td>\n",
       "      <td>b5</td>\n",
       "      <td>Alphonse Kemper</td>\n",
       "      <td>Alfons Kemper</td>\n",
       "      <td>0.333333</td>\n",
       "      <td>1</td>\n",
       "      <td>1</td>\n",
       "      <td>1</td>\n",
       "      <td>0</td>\n",
       "    </tr>\n",
       "  </tbody>\n",
       "</table>\n",
       "</div>"
      ],
      "text/plain": [
       "    _id ltable_ID rtable_ID       ltable_name     rtable_name  \\\n",
       "0     0        a1        b1       Kevin Smith     Mark Levene   \n",
       "1     1        a1        b2       Kevin Smith     Bill Bridge   \n",
       "2     2        a1        b6       Kevin Smith  Michael Brodie   \n",
       "3     6        a2        b3  Michael Franklin   Mike Franklin   \n",
       "4     7        a2        b4  Michael Franklin     Joseph Kuan   \n",
       "5     8        a2        b5  Michael Franklin   Alfons Kemper   \n",
       "6     3        a3        b1    William Bridge     Mark Levene   \n",
       "7     4        a3        b2    William Bridge     Bill Bridge   \n",
       "8     5        a3        b6    William Bridge  Michael Brodie   \n",
       "9     9        a4        b3      Binto George   Mike Franklin   \n",
       "10   10        a4        b4      Binto George     Joseph Kuan   \n",
       "11   11        a4        b5      Binto George   Alfons Kemper   \n",
       "12   12        a5        b3   Alphonse Kemper   Mike Franklin   \n",
       "13   13        a5        b4   Alphonse Kemper     Joseph Kuan   \n",
       "14   14        a5        b5   Alphonse Kemper   Alfons Kemper   \n",
       "\n",
       "    name_name_jac_qgm_3_qgm_3  hourly_wage_hourly_wage_exm  \\\n",
       "0                    0.000000                            0   \n",
       "1                    0.000000                            0   \n",
       "2                    0.000000                            0   \n",
       "3                    0.388889                            1   \n",
       "4                    0.000000                            0   \n",
       "5                    0.000000                            0   \n",
       "6                    0.000000                            0   \n",
       "7                    0.400000                            1   \n",
       "8                    0.043478                            0   \n",
       "9                    0.000000                            0   \n",
       "10                   0.000000                            0   \n",
       "11                   0.000000                            0   \n",
       "12                   0.000000                            0   \n",
       "13                   0.000000                            0   \n",
       "14                   0.333333                            1   \n",
       "\n",
       "    hourly_wage_hourly_wage_exm  zipcode_zipcode_exm  label  \n",
       "0                             0                    1      0  \n",
       "1                             0                    1      0  \n",
       "2                             0                    1      0  \n",
       "3                             1                    1      0  \n",
       "4                             0                    1      0  \n",
       "5                             0                    1      0  \n",
       "6                             0                    1      0  \n",
       "7                             1                    1      0  \n",
       "8                             0                    1      0  \n",
       "9                             0                    1      0  \n",
       "10                            0                    1      0  \n",
       "11                            0                    1      0  \n",
       "12                            0                    1      0  \n",
       "13                            0                    1      0  \n",
       "14                            1                    1      0  "
      ]
     },
     "execution_count": 11,
     "metadata": {},
     "output_type": "execute_result"
    },
    {
     "name": "stdout",
     "output_type": "stream",
     "text": [
      "time: 29 ms\n"
     ]
    }
   ],
   "source": [
    "F1"
   ]
  },
  {
   "cell_type": "code",
   "execution_count": 17,
   "metadata": {
    "collapsed": false
   },
   "outputs": [
    {
     "name": "stdout",
     "output_type": "stream",
     "text": [
      "time: 17.3 ms\n"
     ]
    }
   ],
   "source": [
    "F1 = mg.extract_feature_vecs(C, attrs_before=['ltable_name', 'rtable_ID', 'rtable_name'], feature_table=feat_table, attrs_after='label')"
   ]
  },
  {
   "cell_type": "code",
   "execution_count": 19,
   "metadata": {
    "collapsed": false
   },
   "outputs": [
    {
     "name": "stdout",
     "output_type": "stream",
     "text": [
      "time: 603 µs\n"
     ]
    }
   ],
   "source": [
    "import pandas as pd"
   ]
  },
  {
   "cell_type": "code",
   "execution_count": 20,
   "metadata": {
    "collapsed": false
   },
   "outputs": [
    {
     "name": "stdout",
     "output_type": "stream",
     "text": [
      "time: 15.1 ms\n"
     ]
    }
   ],
   "source": [
    "F1 = mg.extract_feature_vecs(C, attrs_before=['ltable_name', 'rtable_ID', 'rtable_name'], feature_table=pd.DataFrame(columns=feat_table.columns), attrs_after='label')"
   ]
  },
  {
   "cell_type": "code",
   "execution_count": 28,
   "metadata": {
    "collapsed": false
   },
   "outputs": [
    {
     "name": "stdout",
     "output_type": "stream",
     "text": [
      "time: 15.3 ms\n"
     ]
    }
   ],
   "source": [
    "F1 = mg.extract_feature_vecs(C, attrs_before=['ltable_name', 'rtable_ID', 'rtable_name'], feature_table=pd.DataFrame(columns=feat_table.columns), \n",
    "                             attrs_after=['label', '_id'])"
   ]
  },
  {
   "cell_type": "code",
   "execution_count": 29,
   "metadata": {
    "collapsed": false
   },
   "outputs": [
    {
     "data": {
      "text/html": [
       "<div>\n",
       "<table border=\"1\" class=\"dataframe\">\n",
       "  <thead>\n",
       "    <tr style=\"text-align: right;\">\n",
       "      <th></th>\n",
       "      <th>_id</th>\n",
       "      <th>ltable_ID</th>\n",
       "      <th>rtable_ID</th>\n",
       "      <th>ltable_name</th>\n",
       "      <th>rtable_name</th>\n",
       "      <th>label</th>\n",
       "    </tr>\n",
       "  </thead>\n",
       "  <tbody>\n",
       "    <tr>\n",
       "      <th>0</th>\n",
       "      <td>0</td>\n",
       "      <td>a1</td>\n",
       "      <td>b1</td>\n",
       "      <td>Kevin Smith</td>\n",
       "      <td>Mark Levene</td>\n",
       "      <td>0</td>\n",
       "    </tr>\n",
       "    <tr>\n",
       "      <th>1</th>\n",
       "      <td>1</td>\n",
       "      <td>a1</td>\n",
       "      <td>b2</td>\n",
       "      <td>Kevin Smith</td>\n",
       "      <td>Bill Bridge</td>\n",
       "      <td>0</td>\n",
       "    </tr>\n",
       "    <tr>\n",
       "      <th>2</th>\n",
       "      <td>2</td>\n",
       "      <td>a1</td>\n",
       "      <td>b6</td>\n",
       "      <td>Kevin Smith</td>\n",
       "      <td>Michael Brodie</td>\n",
       "      <td>0</td>\n",
       "    </tr>\n",
       "    <tr>\n",
       "      <th>3</th>\n",
       "      <td>6</td>\n",
       "      <td>a2</td>\n",
       "      <td>b3</td>\n",
       "      <td>Michael Franklin</td>\n",
       "      <td>Mike Franklin</td>\n",
       "      <td>0</td>\n",
       "    </tr>\n",
       "    <tr>\n",
       "      <th>4</th>\n",
       "      <td>7</td>\n",
       "      <td>a2</td>\n",
       "      <td>b4</td>\n",
       "      <td>Michael Franklin</td>\n",
       "      <td>Joseph Kuan</td>\n",
       "      <td>0</td>\n",
       "    </tr>\n",
       "    <tr>\n",
       "      <th>5</th>\n",
       "      <td>8</td>\n",
       "      <td>a2</td>\n",
       "      <td>b5</td>\n",
       "      <td>Michael Franklin</td>\n",
       "      <td>Alfons Kemper</td>\n",
       "      <td>0</td>\n",
       "    </tr>\n",
       "    <tr>\n",
       "      <th>6</th>\n",
       "      <td>3</td>\n",
       "      <td>a3</td>\n",
       "      <td>b1</td>\n",
       "      <td>William Bridge</td>\n",
       "      <td>Mark Levene</td>\n",
       "      <td>0</td>\n",
       "    </tr>\n",
       "    <tr>\n",
       "      <th>7</th>\n",
       "      <td>4</td>\n",
       "      <td>a3</td>\n",
       "      <td>b2</td>\n",
       "      <td>William Bridge</td>\n",
       "      <td>Bill Bridge</td>\n",
       "      <td>0</td>\n",
       "    </tr>\n",
       "    <tr>\n",
       "      <th>8</th>\n",
       "      <td>5</td>\n",
       "      <td>a3</td>\n",
       "      <td>b6</td>\n",
       "      <td>William Bridge</td>\n",
       "      <td>Michael Brodie</td>\n",
       "      <td>0</td>\n",
       "    </tr>\n",
       "    <tr>\n",
       "      <th>9</th>\n",
       "      <td>9</td>\n",
       "      <td>a4</td>\n",
       "      <td>b3</td>\n",
       "      <td>Binto George</td>\n",
       "      <td>Mike Franklin</td>\n",
       "      <td>0</td>\n",
       "    </tr>\n",
       "    <tr>\n",
       "      <th>10</th>\n",
       "      <td>10</td>\n",
       "      <td>a4</td>\n",
       "      <td>b4</td>\n",
       "      <td>Binto George</td>\n",
       "      <td>Joseph Kuan</td>\n",
       "      <td>0</td>\n",
       "    </tr>\n",
       "    <tr>\n",
       "      <th>11</th>\n",
       "      <td>11</td>\n",
       "      <td>a4</td>\n",
       "      <td>b5</td>\n",
       "      <td>Binto George</td>\n",
       "      <td>Alfons Kemper</td>\n",
       "      <td>0</td>\n",
       "    </tr>\n",
       "    <tr>\n",
       "      <th>12</th>\n",
       "      <td>12</td>\n",
       "      <td>a5</td>\n",
       "      <td>b3</td>\n",
       "      <td>Alphonse Kemper</td>\n",
       "      <td>Mike Franklin</td>\n",
       "      <td>0</td>\n",
       "    </tr>\n",
       "    <tr>\n",
       "      <th>13</th>\n",
       "      <td>13</td>\n",
       "      <td>a5</td>\n",
       "      <td>b4</td>\n",
       "      <td>Alphonse Kemper</td>\n",
       "      <td>Joseph Kuan</td>\n",
       "      <td>0</td>\n",
       "    </tr>\n",
       "    <tr>\n",
       "      <th>14</th>\n",
       "      <td>14</td>\n",
       "      <td>a5</td>\n",
       "      <td>b5</td>\n",
       "      <td>Alphonse Kemper</td>\n",
       "      <td>Alfons Kemper</td>\n",
       "      <td>0</td>\n",
       "    </tr>\n",
       "  </tbody>\n",
       "</table>\n",
       "</div>"
      ],
      "text/plain": [
       "    _id ltable_ID rtable_ID       ltable_name     rtable_name  label\n",
       "0     0        a1        b1       Kevin Smith     Mark Levene      0\n",
       "1     1        a1        b2       Kevin Smith     Bill Bridge      0\n",
       "2     2        a1        b6       Kevin Smith  Michael Brodie      0\n",
       "3     6        a2        b3  Michael Franklin   Mike Franklin      0\n",
       "4     7        a2        b4  Michael Franklin     Joseph Kuan      0\n",
       "5     8        a2        b5  Michael Franklin   Alfons Kemper      0\n",
       "6     3        a3        b1    William Bridge     Mark Levene      0\n",
       "7     4        a3        b2    William Bridge     Bill Bridge      0\n",
       "8     5        a3        b6    William Bridge  Michael Brodie      0\n",
       "9     9        a4        b3      Binto George   Mike Franklin      0\n",
       "10   10        a4        b4      Binto George     Joseph Kuan      0\n",
       "11   11        a4        b5      Binto George   Alfons Kemper      0\n",
       "12   12        a5        b3   Alphonse Kemper   Mike Franklin      0\n",
       "13   13        a5        b4   Alphonse Kemper     Joseph Kuan      0\n",
       "14   14        a5        b5   Alphonse Kemper   Alfons Kemper      0"
      ]
     },
     "execution_count": 29,
     "metadata": {},
     "output_type": "execute_result"
    },
    {
     "name": "stdout",
     "output_type": "stream",
     "text": [
      "time: 17.5 ms\n"
     ]
    }
   ],
   "source": [
    "F1"
   ]
  },
  {
   "cell_type": "code",
   "execution_count": 13,
   "metadata": {
    "collapsed": false
   },
   "outputs": [
    {
     "data": {
      "text/plain": [
       "0.5"
      ]
     },
     "execution_count": 13,
     "metadata": {},
     "output_type": "execute_result"
    },
    {
     "name": "stdout",
     "output_type": "stream",
     "text": [
      "time: 2.5 ms\n"
     ]
    }
   ],
   "source": [
    "mg._match_s['jaccard'](['muruga', 'saranam'], ['muruga', 'muruga'])"
   ]
  }
 ],
 "metadata": {
  "kernelspec": {
   "display_name": "Python 3",
   "language": "python",
   "name": "python3"
  },
  "language_info": {
   "codemirror_mode": {
    "name": "ipython",
    "version": 3
   },
   "file_extension": ".py",
   "mimetype": "text/x-python",
   "name": "python",
   "nbconvert_exporter": "python",
   "pygments_lexer": "ipython3",
   "version": "3.5.1"
  }
 },
 "nbformat": 4,
 "nbformat_minor": 0
}
