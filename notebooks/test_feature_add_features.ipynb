{
 "cells": [
  {
   "cell_type": "code",
   "execution_count": 2,
   "metadata": {
    "collapsed": true
   },
   "outputs": [],
   "source": [
    "%load_ext autotime"
   ]
  },
  {
   "cell_type": "code",
   "execution_count": 3,
   "metadata": {
    "collapsed": false
   },
   "outputs": [
    {
     "name": "stdout",
     "output_type": "stream",
     "text": [
      "time: 802 µs\n"
     ]
    }
   ],
   "source": [
    "import sys\n",
    "sys.path.append('/scratch/pradap/python-work/anhaidgroup/magellan/')"
   ]
  },
  {
   "cell_type": "code",
   "execution_count": 4,
   "metadata": {
    "collapsed": false
   },
   "outputs": [
    {
     "name": "stdout",
     "output_type": "stream",
     "text": [
      "time: 592 ms\n"
     ]
    }
   ],
   "source": [
    "import os\n",
    "import magellan as mg"
   ]
  },
  {
   "cell_type": "code",
   "execution_count": 5,
   "metadata": {
    "collapsed": false
   },
   "outputs": [
    {
     "name": "stdout",
     "output_type": "stream",
     "text": [
      "time: 2.13 ms\n"
     ]
    }
   ],
   "source": [
    "datasets_path = os.sep.join([mg.get_install_path(), 'datasets', 'test_datasets'])\n",
    "path_a = os.sep.join([datasets_path, 'A.csv'])\n",
    "path_b = os.sep.join([datasets_path, 'B.csv'])\n",
    "path_c = os.sep.join([datasets_path, 'C.csv'])"
   ]
  },
  {
   "cell_type": "code",
   "execution_count": 6,
   "metadata": {
    "collapsed": false
   },
   "outputs": [
    {
     "name": "stderr",
     "output_type": "stream",
     "text": [
      "WARNING:magellan.io.parsers:Metadata file is not present in the given path; proceeding to read the csv file.\n"
     ]
    },
    {
     "name": "stdout",
     "output_type": "stream",
     "text": [
      "time: 5.12 ms\n"
     ]
    }
   ],
   "source": [
    "A = mg.read_csv_metadata(path_a)\n",
    "B = mg.read_csv_metadata(path_b, key='ID')"
   ]
  },
  {
   "cell_type": "code",
   "execution_count": 7,
   "metadata": {
    "collapsed": false
   },
   "outputs": [
    {
     "name": "stderr",
     "output_type": "stream",
     "text": [
      "WARNING:magellan.feature.autofeaturegen:Magellan types: address type (str_bt_1w_5w) and address type (str_bt_5w_10w) are different.If you want to set them to be same and generate features, update output from get_attr_types and use get_features command.\n",
      "\n"
     ]
    },
    {
     "name": "stdout",
     "output_type": "stream",
     "text": [
      "time: 14.1 ms\n"
     ]
    }
   ],
   "source": [
    "feature_table = mg.get_features_for_blocking(A, B)"
   ]
  },
  {
   "cell_type": "code",
   "execution_count": 8,
   "metadata": {
    "collapsed": false
   },
   "outputs": [
    {
     "data": {
      "text/plain": [
       "{'dlm_dc0': <function magellan.feature.tokenizers.tok_delim>,\n",
       " 'qgm_2': <function magellan.feature.tokenizers.tok_qgram>,\n",
       " 'qgm_3': <function magellan.feature.tokenizers.tok_qgram>}"
      ]
     },
     "execution_count": 8,
     "metadata": {},
     "output_type": "execute_result"
    },
    {
     "name": "stdout",
     "output_type": "stream",
     "text": [
      "time: 9.39 ms\n"
     ]
    }
   ],
   "source": [
    "mg.get_tokenizers_for_blocking()"
   ]
  },
  {
   "cell_type": "code",
   "execution_count": 9,
   "metadata": {
    "collapsed": false
   },
   "outputs": [
    {
     "name": "stdout",
     "output_type": "stream",
     "text": [
      "time: 631 µs\n"
     ]
    }
   ],
   "source": [
    "feature_str = 'jaccard(qgm_3(ltuple[\"zipcode\"]), qgm_3(rtuple[\"zipcode\"]))'"
   ]
  },
  {
   "cell_type": "code",
   "execution_count": 10,
   "metadata": {
    "collapsed": false
   },
   "outputs": [
    {
     "name": "stdout",
     "output_type": "stream",
     "text": [
      "time: 691 µs\n"
     ]
    }
   ],
   "source": [
    "from magellan.feature.addfeatures import parse_feat_str"
   ]
  },
  {
   "cell_type": "code",
   "execution_count": 11,
   "metadata": {
    "collapsed": false
   },
   "outputs": [
    {
     "data": {
      "text/plain": [
       "{'left_attr_tokenizer': 'PARSE_EXP',\n",
       " 'left_attribute': 'zipcode',\n",
       " 'right_attr_tokenizer': 'PARSE_EXP',\n",
       " 'right_attribute': 'zipcode',\n",
       " 'simfunction': 'PARSE_EXP'}"
      ]
     },
     "execution_count": 11,
     "metadata": {},
     "output_type": "execute_result"
    },
    {
     "name": "stdout",
     "output_type": "stream",
     "text": [
      "time: 3.1 ms\n"
     ]
    }
   ],
   "source": [
    "parse_feat_str(feature_str, mg.get_sim_funs_for_matching(), mg.get_tokenizers_for_matching())"
   ]
  },
  {
   "cell_type": "code",
   "execution_count": 9,
   "metadata": {
    "collapsed": false
   },
   "outputs": [
    {
     "name": "stdout",
     "output_type": "stream",
     "text": [
      "time: 627 µs\n"
     ]
    }
   ],
   "source": [
    "feature_string = \"exact_match(ltuple['zipcode'], rtuple['zipcode'])\""
   ]
  },
  {
   "cell_type": "code",
   "execution_count": 10,
   "metadata": {
    "collapsed": false
   },
   "outputs": [
    {
     "name": "stdout",
     "output_type": "stream",
     "text": [
      "time: 2.11 ms\n"
     ]
    }
   ],
   "source": [
    "f_dict = mg.get_feature_fn(feature_string, mg.get_sim_funs_for_matching(), mg.get_tokenizers_for_blocking())"
   ]
  },
  {
   "cell_type": "code",
   "execution_count": 11,
   "metadata": {
    "collapsed": false
   },
   "outputs": [
    {
     "data": {
      "text/plain": [
       "{'function': <function fn>,\n",
       " 'function_source': \"def fn(ltuple, rtuple):\\n    return exact_match(ltuple['zipcode'], rtuple['zipcode'])\",\n",
       " 'left_attr_tokenizer': 'PARSE_EXP',\n",
       " 'left_attribute': 'zipcode',\n",
       " 'right_attr_tokenizer': 'PARSE_EXP',\n",
       " 'right_attribute': 'zipcode',\n",
       " 'simfunction': 'PARSE_EXP'}"
      ]
     },
     "execution_count": 11,
     "metadata": {},
     "output_type": "execute_result"
    },
    {
     "name": "stdout",
     "output_type": "stream",
     "text": [
      "time: 1.83 ms\n"
     ]
    }
   ],
   "source": [
    "f_dict"
   ]
  },
  {
   "cell_type": "code",
   "execution_count": 12,
   "metadata": {
    "collapsed": false
   },
   "outputs": [
    {
     "name": "stdout",
     "output_type": "stream",
     "text": [
      "time: 629 µs\n"
     ]
    }
   ],
   "source": [
    "import pandas as pd"
   ]
  },
  {
   "cell_type": "code",
   "execution_count": 13,
   "metadata": {
    "collapsed": false
   },
   "outputs": [
    {
     "data": {
      "text/plain": [
       "True"
      ]
     },
     "execution_count": 13,
     "metadata": {},
     "output_type": "execute_result"
    },
    {
     "name": "stdout",
     "output_type": "stream",
     "text": [
      "time: 37.6 ms\n"
     ]
    }
   ],
   "source": [
    "mg.add_feature(feature_table, 'jtest', f_dict)"
   ]
  },
  {
   "cell_type": "code",
   "execution_count": 14,
   "metadata": {
    "collapsed": false
   },
   "outputs": [
    {
     "data": {
      "text/plain": [
       "1"
      ]
     },
     "execution_count": 14,
     "metadata": {},
     "output_type": "execute_result"
    },
    {
     "name": "stdout",
     "output_type": "stream",
     "text": [
      "time: 2.87 ms\n"
     ]
    }
   ],
   "source": [
    "feature_table.ix[len(feature_table)-1, 'function'](A.ix[1], B.ix[2])"
   ]
  },
  {
   "cell_type": "code",
   "execution_count": 13,
   "metadata": {
    "collapsed": false
   },
   "outputs": [
    {
     "name": "stdout",
     "output_type": "stream",
     "text": [
      "time: 676 µs\n"
     ]
    }
   ],
   "source": [
    "import magellan.feature.addfeatures as af"
   ]
  },
  {
   "cell_type": "code",
   "execution_count": 14,
   "metadata": {
    "collapsed": false
   },
   "outputs": [
    {
     "data": {
      "text/plain": [
       "True"
      ]
     },
     "execution_count": 14,
     "metadata": {},
     "output_type": "execute_result"
    },
    {
     "name": "stdout",
     "output_type": "stream",
     "text": [
      "time: 6.8 ms\n"
     ]
    }
   ],
   "source": [
    "mg.add_feature(af.create_feature_table(), 'jtest', f_dict)"
   ]
  },
  {
   "cell_type": "code",
   "execution_count": 17,
   "metadata": {
    "collapsed": false
   },
   "outputs": [
    {
     "name": "stderr",
     "output_type": "stream",
     "text": [
      "ERROR:magellan.feature.addfeatures:Input feature name is already present in feature table\n"
     ]
    },
    {
     "ename": "AssertionError",
     "evalue": "Input feature name is already present in feature table",
     "output_type": "error",
     "traceback": [
      "\u001b[1;31m---------------------------------------------------------------------------\u001b[0m",
      "\u001b[1;31mAssertionError\u001b[0m                            Traceback (most recent call last)",
      "\u001b[1;32m<ipython-input-17-1a9a10e53f36>\u001b[0m in \u001b[0;36m<module>\u001b[1;34m()\u001b[0m\n\u001b[0;32m      1\u001b[0m \u001b[1;33m\u001b[0m\u001b[0m\n\u001b[1;32m----> 2\u001b[1;33m \u001b[0mmg\u001b[0m\u001b[1;33m.\u001b[0m\u001b[0madd_feature\u001b[0m\u001b[1;33m(\u001b[0m\u001b[0mfeature_table\u001b[0m\u001b[1;33m,\u001b[0m \u001b[1;34m'jtest'\u001b[0m\u001b[1;33m,\u001b[0m \u001b[0mf_dict\u001b[0m\u001b[1;33m)\u001b[0m\u001b[1;33m\u001b[0m\u001b[0m\n\u001b[0m",
      "\u001b[1;32m/scratch/pradap/python-work/anhaidgroup/magellan/magellan/feature/addfeatures.py\u001b[0m in \u001b[0;36madd_feature\u001b[1;34m(feat_table, feat_name, feat_dict)\u001b[0m\n\u001b[0;32m    126\u001b[0m     \u001b[1;32mif\u001b[0m \u001b[0mfeat_name\u001b[0m \u001b[1;32min\u001b[0m \u001b[0mfeat_names\u001b[0m\u001b[1;33m:\u001b[0m\u001b[1;33m\u001b[0m\u001b[0m\n\u001b[0;32m    127\u001b[0m         \u001b[0mlogger\u001b[0m\u001b[1;33m.\u001b[0m\u001b[0merror\u001b[0m\u001b[1;33m(\u001b[0m\u001b[1;34m'Input feature name is already present in feature table'\u001b[0m\u001b[1;33m)\u001b[0m\u001b[1;33m\u001b[0m\u001b[0m\n\u001b[1;32m--> 128\u001b[1;33m         \u001b[1;32mraise\u001b[0m \u001b[0mAssertionError\u001b[0m\u001b[1;33m(\u001b[0m\u001b[1;34m'Input feature name is already present in feature table'\u001b[0m\u001b[1;33m)\u001b[0m\u001b[1;33m\u001b[0m\u001b[0m\n\u001b[0m\u001b[0;32m    129\u001b[0m \u001b[1;33m\u001b[0m\u001b[0m\n\u001b[0;32m    130\u001b[0m \u001b[1;33m\u001b[0m\u001b[0m\n",
      "\u001b[1;31mAssertionError\u001b[0m: Input feature name is already present in feature table"
     ]
    },
    {
     "name": "stdout",
     "output_type": "stream",
     "text": [
      "time: 13.6 ms\n"
     ]
    }
   ],
   "source": [
    "\n",
    "mg.add_feature(feature_table, 'jtest', f_dict)"
   ]
  },
  {
   "cell_type": "code",
   "execution_count": 18,
   "metadata": {
    "collapsed": false
   },
   "outputs": [
    {
     "name": "stdout",
     "output_type": "stream",
     "text": [
      "time: 791 µs\n"
     ]
    }
   ],
   "source": [
    "def feat(ltuple, rtuple):\n",
    "    return 1.0"
   ]
  },
  {
   "cell_type": "code",
   "execution_count": 19,
   "metadata": {
    "collapsed": false
   },
   "outputs": [
    {
     "data": {
      "text/plain": [
       "True"
      ]
     },
     "execution_count": 19,
     "metadata": {},
     "output_type": "execute_result"
    },
    {
     "name": "stdout",
     "output_type": "stream",
     "text": [
      "time: 4.43 ms\n"
     ]
    }
   ],
   "source": [
    "mg.add_blackbox_feature(feature_table, 'btest', feat)"
   ]
  },
  {
   "cell_type": "code",
   "execution_count": 20,
   "metadata": {
    "collapsed": false
   },
   "outputs": [
    {
     "data": {
      "text/html": [
       "<div>\n",
       "<table border=\"1\" class=\"dataframe\">\n",
       "  <thead>\n",
       "    <tr style=\"text-align: right;\">\n",
       "      <th></th>\n",
       "      <th>feature_name</th>\n",
       "      <th>left_attribute</th>\n",
       "      <th>right_attribute</th>\n",
       "      <th>left_attr_tokenizer</th>\n",
       "      <th>right_attr_tokenizer</th>\n",
       "      <th>simfunction</th>\n",
       "      <th>function</th>\n",
       "      <th>function_source</th>\n",
       "    </tr>\n",
       "  </thead>\n",
       "  <tbody>\n",
       "    <tr>\n",
       "      <th>0</th>\n",
       "      <td>ID_ID_lev</td>\n",
       "      <td>ID</td>\n",
       "      <td>ID</td>\n",
       "      <td>None</td>\n",
       "      <td>None</td>\n",
       "      <td>lev</td>\n",
       "      <td>&lt;function ID_ID_lev at 0x7f28de9e3758&gt;</td>\n",
       "      <td>from magellan.feature.simfunctions import *\\nf...</td>\n",
       "    </tr>\n",
       "    <tr>\n",
       "      <th>1</th>\n",
       "      <td>ID_ID_jar</td>\n",
       "      <td>ID</td>\n",
       "      <td>ID</td>\n",
       "      <td>None</td>\n",
       "      <td>None</td>\n",
       "      <td>jaro</td>\n",
       "      <td>&lt;function ID_ID_jar at 0x7f28de9e37d0&gt;</td>\n",
       "      <td>from magellan.feature.simfunctions import *\\nf...</td>\n",
       "    </tr>\n",
       "    <tr>\n",
       "      <th>2</th>\n",
       "      <td>ID_ID_jwn</td>\n",
       "      <td>ID</td>\n",
       "      <td>ID</td>\n",
       "      <td>None</td>\n",
       "      <td>None</td>\n",
       "      <td>jaro_winkler</td>\n",
       "      <td>&lt;function ID_ID_jwn at 0x7f28de9e3848&gt;</td>\n",
       "      <td>from magellan.feature.simfunctions import *\\nf...</td>\n",
       "    </tr>\n",
       "    <tr>\n",
       "      <th>3</th>\n",
       "      <td>ID_ID_exm</td>\n",
       "      <td>ID</td>\n",
       "      <td>ID</td>\n",
       "      <td>None</td>\n",
       "      <td>None</td>\n",
       "      <td>exact_match</td>\n",
       "      <td>&lt;function ID_ID_exm at 0x7f28de9e38c0&gt;</td>\n",
       "      <td>from magellan.feature.simfunctions import *\\nf...</td>\n",
       "    </tr>\n",
       "    <tr>\n",
       "      <th>4</th>\n",
       "      <td>ID_ID_jac_qgm_3_qgm_3</td>\n",
       "      <td>ID</td>\n",
       "      <td>ID</td>\n",
       "      <td>qgm_3</td>\n",
       "      <td>qgm_3</td>\n",
       "      <td>jaccard</td>\n",
       "      <td>&lt;function ID_ID_jac_qgm_3_qgm_3 at 0x7f28de9e3...</td>\n",
       "      <td>from magellan.feature.simfunctions import *\\nf...</td>\n",
       "    </tr>\n",
       "    <tr>\n",
       "      <th>5</th>\n",
       "      <td>name_name_jac_qgm_3_qgm_3</td>\n",
       "      <td>name</td>\n",
       "      <td>name</td>\n",
       "      <td>qgm_3</td>\n",
       "      <td>qgm_3</td>\n",
       "      <td>jaccard</td>\n",
       "      <td>&lt;function name_name_jac_qgm_3_qgm_3 at 0x7f28d...</td>\n",
       "      <td>from magellan.feature.simfunctions import *\\nf...</td>\n",
       "    </tr>\n",
       "    <tr>\n",
       "      <th>6</th>\n",
       "      <td>name_name_cos_dlm_dc0_dlm_dc0</td>\n",
       "      <td>name</td>\n",
       "      <td>name</td>\n",
       "      <td>dlm_dc0</td>\n",
       "      <td>dlm_dc0</td>\n",
       "      <td>cosine</td>\n",
       "      <td>&lt;function name_name_cos_dlm_dc0_dlm_dc0 at 0x7...</td>\n",
       "      <td>from magellan.feature.simfunctions import *\\nf...</td>\n",
       "    </tr>\n",
       "    <tr>\n",
       "      <th>7</th>\n",
       "      <td>name_name_jac_dlm_dc0_dlm_dc0</td>\n",
       "      <td>name</td>\n",
       "      <td>name</td>\n",
       "      <td>dlm_dc0</td>\n",
       "      <td>dlm_dc0</td>\n",
       "      <td>jaccard</td>\n",
       "      <td>&lt;function name_name_jac_dlm_dc0_dlm_dc0 at 0x7...</td>\n",
       "      <td>from magellan.feature.simfunctions import *\\nf...</td>\n",
       "    </tr>\n",
       "    <tr>\n",
       "      <th>8</th>\n",
       "      <td>name_name_mel</td>\n",
       "      <td>name</td>\n",
       "      <td>name</td>\n",
       "      <td>None</td>\n",
       "      <td>None</td>\n",
       "      <td>monge_elkan</td>\n",
       "      <td>&lt;function name_name_mel at 0x7f28de9e3b18&gt;</td>\n",
       "      <td>from magellan.feature.simfunctions import *\\nf...</td>\n",
       "    </tr>\n",
       "    <tr>\n",
       "      <th>9</th>\n",
       "      <td>name_name_lev</td>\n",
       "      <td>name</td>\n",
       "      <td>name</td>\n",
       "      <td>None</td>\n",
       "      <td>None</td>\n",
       "      <td>lev</td>\n",
       "      <td>&lt;function name_name_lev at 0x7f28de9e3b90&gt;</td>\n",
       "      <td>from magellan.feature.simfunctions import *\\nf...</td>\n",
       "    </tr>\n",
       "    <tr>\n",
       "      <th>10</th>\n",
       "      <td>name_name_nmw</td>\n",
       "      <td>name</td>\n",
       "      <td>name</td>\n",
       "      <td>None</td>\n",
       "      <td>None</td>\n",
       "      <td>needleman_wunsch</td>\n",
       "      <td>&lt;function name_name_nmw at 0x7f28de9e3c08&gt;</td>\n",
       "      <td>from magellan.feature.simfunctions import *\\nf...</td>\n",
       "    </tr>\n",
       "    <tr>\n",
       "      <th>11</th>\n",
       "      <td>name_name_sw</td>\n",
       "      <td>name</td>\n",
       "      <td>name</td>\n",
       "      <td>None</td>\n",
       "      <td>None</td>\n",
       "      <td>smith_waterman</td>\n",
       "      <td>&lt;function name_name_sw at 0x7f28de9e3c80&gt;</td>\n",
       "      <td>from magellan.feature.simfunctions import *\\nf...</td>\n",
       "    </tr>\n",
       "    <tr>\n",
       "      <th>12</th>\n",
       "      <td>birth_year_birth_year_exm</td>\n",
       "      <td>birth_year</td>\n",
       "      <td>birth_year</td>\n",
       "      <td>None</td>\n",
       "      <td>None</td>\n",
       "      <td>exact_match</td>\n",
       "      <td>&lt;function birth_year_birth_year_exm at 0x7f28d...</td>\n",
       "      <td>from magellan.feature.simfunctions import *\\nf...</td>\n",
       "    </tr>\n",
       "    <tr>\n",
       "      <th>13</th>\n",
       "      <td>birth_year_birth_year_anm</td>\n",
       "      <td>birth_year</td>\n",
       "      <td>birth_year</td>\n",
       "      <td>None</td>\n",
       "      <td>None</td>\n",
       "      <td>abs_norm</td>\n",
       "      <td>&lt;function birth_year_birth_year_anm at 0x7f28d...</td>\n",
       "      <td>from magellan.feature.simfunctions import *\\nf...</td>\n",
       "    </tr>\n",
       "    <tr>\n",
       "      <th>14</th>\n",
       "      <td>birth_year_birth_year_lev</td>\n",
       "      <td>birth_year</td>\n",
       "      <td>birth_year</td>\n",
       "      <td>None</td>\n",
       "      <td>None</td>\n",
       "      <td>lev</td>\n",
       "      <td>&lt;function birth_year_birth_year_lev at 0x7f28d...</td>\n",
       "      <td>from magellan.feature.simfunctions import *\\nf...</td>\n",
       "    </tr>\n",
       "    <tr>\n",
       "      <th>15</th>\n",
       "      <td>hourly_wage_hourly_wage_exm</td>\n",
       "      <td>hourly_wage</td>\n",
       "      <td>hourly_wage</td>\n",
       "      <td>None</td>\n",
       "      <td>None</td>\n",
       "      <td>exact_match</td>\n",
       "      <td>&lt;function hourly_wage_hourly_wage_exm at 0x7f2...</td>\n",
       "      <td>from magellan.feature.simfunctions import *\\nf...</td>\n",
       "    </tr>\n",
       "    <tr>\n",
       "      <th>16</th>\n",
       "      <td>hourly_wage_hourly_wage_anm</td>\n",
       "      <td>hourly_wage</td>\n",
       "      <td>hourly_wage</td>\n",
       "      <td>None</td>\n",
       "      <td>None</td>\n",
       "      <td>abs_norm</td>\n",
       "      <td>&lt;function hourly_wage_hourly_wage_anm at 0x7f2...</td>\n",
       "      <td>from magellan.feature.simfunctions import *\\nf...</td>\n",
       "    </tr>\n",
       "    <tr>\n",
       "      <th>17</th>\n",
       "      <td>hourly_wage_hourly_wage_lev</td>\n",
       "      <td>hourly_wage</td>\n",
       "      <td>hourly_wage</td>\n",
       "      <td>None</td>\n",
       "      <td>None</td>\n",
       "      <td>lev</td>\n",
       "      <td>&lt;function hourly_wage_hourly_wage_lev at 0x7f2...</td>\n",
       "      <td>from magellan.feature.simfunctions import *\\nf...</td>\n",
       "    </tr>\n",
       "    <tr>\n",
       "      <th>18</th>\n",
       "      <td>zipcode_zipcode_exm</td>\n",
       "      <td>zipcode</td>\n",
       "      <td>zipcode</td>\n",
       "      <td>None</td>\n",
       "      <td>None</td>\n",
       "      <td>exact_match</td>\n",
       "      <td>&lt;function zipcode_zipcode_exm at 0x7f28dbcfe050&gt;</td>\n",
       "      <td>from magellan.feature.simfunctions import *\\nf...</td>\n",
       "    </tr>\n",
       "    <tr>\n",
       "      <th>19</th>\n",
       "      <td>zipcode_zipcode_anm</td>\n",
       "      <td>zipcode</td>\n",
       "      <td>zipcode</td>\n",
       "      <td>None</td>\n",
       "      <td>None</td>\n",
       "      <td>abs_norm</td>\n",
       "      <td>&lt;function zipcode_zipcode_anm at 0x7f28dbcfe0c8&gt;</td>\n",
       "      <td>from magellan.feature.simfunctions import *\\nf...</td>\n",
       "    </tr>\n",
       "    <tr>\n",
       "      <th>20</th>\n",
       "      <td>zipcode_zipcode_lev</td>\n",
       "      <td>zipcode</td>\n",
       "      <td>zipcode</td>\n",
       "      <td>None</td>\n",
       "      <td>None</td>\n",
       "      <td>lev</td>\n",
       "      <td>&lt;function zipcode_zipcode_lev at 0x7f28dbcfe140&gt;</td>\n",
       "      <td>from magellan.feature.simfunctions import *\\nf...</td>\n",
       "    </tr>\n",
       "    <tr>\n",
       "      <th>21</th>\n",
       "      <td>jtest</td>\n",
       "      <td>zipcode</td>\n",
       "      <td>zipcode</td>\n",
       "      <td>PARSE_EXP</td>\n",
       "      <td>PARSE_EXP</td>\n",
       "      <td>jaccard</td>\n",
       "      <td>&lt;function fn at 0x7f28dbcfe410&gt;</td>\n",
       "      <td>def fn(ltuple, rtuple):\\n    return jaccard(qg...</td>\n",
       "    </tr>\n",
       "    <tr>\n",
       "      <th>22</th>\n",
       "      <td>btest</td>\n",
       "      <td>None</td>\n",
       "      <td>None</td>\n",
       "      <td>None</td>\n",
       "      <td>None</td>\n",
       "      <td>None</td>\n",
       "      <td>&lt;function feat at 0x7f28dbb43c80&gt;</td>\n",
       "      <td>None</td>\n",
       "    </tr>\n",
       "  </tbody>\n",
       "</table>\n",
       "</div>"
      ],
      "text/plain": [
       "                     feature_name left_attribute right_attribute  \\\n",
       "0                       ID_ID_lev             ID              ID   \n",
       "1                       ID_ID_jar             ID              ID   \n",
       "2                       ID_ID_jwn             ID              ID   \n",
       "3                       ID_ID_exm             ID              ID   \n",
       "4           ID_ID_jac_qgm_3_qgm_3             ID              ID   \n",
       "5       name_name_jac_qgm_3_qgm_3           name            name   \n",
       "6   name_name_cos_dlm_dc0_dlm_dc0           name            name   \n",
       "7   name_name_jac_dlm_dc0_dlm_dc0           name            name   \n",
       "8                   name_name_mel           name            name   \n",
       "9                   name_name_lev           name            name   \n",
       "10                  name_name_nmw           name            name   \n",
       "11                   name_name_sw           name            name   \n",
       "12      birth_year_birth_year_exm     birth_year      birth_year   \n",
       "13      birth_year_birth_year_anm     birth_year      birth_year   \n",
       "14      birth_year_birth_year_lev     birth_year      birth_year   \n",
       "15    hourly_wage_hourly_wage_exm    hourly_wage     hourly_wage   \n",
       "16    hourly_wage_hourly_wage_anm    hourly_wage     hourly_wage   \n",
       "17    hourly_wage_hourly_wage_lev    hourly_wage     hourly_wage   \n",
       "18            zipcode_zipcode_exm        zipcode         zipcode   \n",
       "19            zipcode_zipcode_anm        zipcode         zipcode   \n",
       "20            zipcode_zipcode_lev        zipcode         zipcode   \n",
       "21                          jtest        zipcode         zipcode   \n",
       "22                          btest           None            None   \n",
       "\n",
       "   left_attr_tokenizer right_attr_tokenizer       simfunction  \\\n",
       "0                 None                 None               lev   \n",
       "1                 None                 None              jaro   \n",
       "2                 None                 None      jaro_winkler   \n",
       "3                 None                 None       exact_match   \n",
       "4                qgm_3                qgm_3           jaccard   \n",
       "5                qgm_3                qgm_3           jaccard   \n",
       "6              dlm_dc0              dlm_dc0            cosine   \n",
       "7              dlm_dc0              dlm_dc0           jaccard   \n",
       "8                 None                 None       monge_elkan   \n",
       "9                 None                 None               lev   \n",
       "10                None                 None  needleman_wunsch   \n",
       "11                None                 None    smith_waterman   \n",
       "12                None                 None       exact_match   \n",
       "13                None                 None          abs_norm   \n",
       "14                None                 None               lev   \n",
       "15                None                 None       exact_match   \n",
       "16                None                 None          abs_norm   \n",
       "17                None                 None               lev   \n",
       "18                None                 None       exact_match   \n",
       "19                None                 None          abs_norm   \n",
       "20                None                 None               lev   \n",
       "21           PARSE_EXP            PARSE_EXP           jaccard   \n",
       "22                None                 None              None   \n",
       "\n",
       "                                             function  \\\n",
       "0              <function ID_ID_lev at 0x7f28de9e3758>   \n",
       "1              <function ID_ID_jar at 0x7f28de9e37d0>   \n",
       "2              <function ID_ID_jwn at 0x7f28de9e3848>   \n",
       "3              <function ID_ID_exm at 0x7f28de9e38c0>   \n",
       "4   <function ID_ID_jac_qgm_3_qgm_3 at 0x7f28de9e3...   \n",
       "5   <function name_name_jac_qgm_3_qgm_3 at 0x7f28d...   \n",
       "6   <function name_name_cos_dlm_dc0_dlm_dc0 at 0x7...   \n",
       "7   <function name_name_jac_dlm_dc0_dlm_dc0 at 0x7...   \n",
       "8          <function name_name_mel at 0x7f28de9e3b18>   \n",
       "9          <function name_name_lev at 0x7f28de9e3b90>   \n",
       "10         <function name_name_nmw at 0x7f28de9e3c08>   \n",
       "11          <function name_name_sw at 0x7f28de9e3c80>   \n",
       "12  <function birth_year_birth_year_exm at 0x7f28d...   \n",
       "13  <function birth_year_birth_year_anm at 0x7f28d...   \n",
       "14  <function birth_year_birth_year_lev at 0x7f28d...   \n",
       "15  <function hourly_wage_hourly_wage_exm at 0x7f2...   \n",
       "16  <function hourly_wage_hourly_wage_anm at 0x7f2...   \n",
       "17  <function hourly_wage_hourly_wage_lev at 0x7f2...   \n",
       "18   <function zipcode_zipcode_exm at 0x7f28dbcfe050>   \n",
       "19   <function zipcode_zipcode_anm at 0x7f28dbcfe0c8>   \n",
       "20   <function zipcode_zipcode_lev at 0x7f28dbcfe140>   \n",
       "21                    <function fn at 0x7f28dbcfe410>   \n",
       "22                  <function feat at 0x7f28dbb43c80>   \n",
       "\n",
       "                                      function_source  \n",
       "0   from magellan.feature.simfunctions import *\\nf...  \n",
       "1   from magellan.feature.simfunctions import *\\nf...  \n",
       "2   from magellan.feature.simfunctions import *\\nf...  \n",
       "3   from magellan.feature.simfunctions import *\\nf...  \n",
       "4   from magellan.feature.simfunctions import *\\nf...  \n",
       "5   from magellan.feature.simfunctions import *\\nf...  \n",
       "6   from magellan.feature.simfunctions import *\\nf...  \n",
       "7   from magellan.feature.simfunctions import *\\nf...  \n",
       "8   from magellan.feature.simfunctions import *\\nf...  \n",
       "9   from magellan.feature.simfunctions import *\\nf...  \n",
       "10  from magellan.feature.simfunctions import *\\nf...  \n",
       "11  from magellan.feature.simfunctions import *\\nf...  \n",
       "12  from magellan.feature.simfunctions import *\\nf...  \n",
       "13  from magellan.feature.simfunctions import *\\nf...  \n",
       "14  from magellan.feature.simfunctions import *\\nf...  \n",
       "15  from magellan.feature.simfunctions import *\\nf...  \n",
       "16  from magellan.feature.simfunctions import *\\nf...  \n",
       "17  from magellan.feature.simfunctions import *\\nf...  \n",
       "18  from magellan.feature.simfunctions import *\\nf...  \n",
       "19  from magellan.feature.simfunctions import *\\nf...  \n",
       "20  from magellan.feature.simfunctions import *\\nf...  \n",
       "21  def fn(ltuple, rtuple):\\n    return jaccard(qg...  \n",
       "22                                               None  "
      ]
     },
     "execution_count": 20,
     "metadata": {},
     "output_type": "execute_result"
    },
    {
     "name": "stdout",
     "output_type": "stream",
     "text": [
      "time: 33.8 ms\n"
     ]
    }
   ],
   "source": [
    "feature_table"
   ]
  },
  {
   "cell_type": "code",
   "execution_count": null,
   "metadata": {
    "collapsed": true
   },
   "outputs": [],
   "source": []
  }
 ],
 "metadata": {
  "kernelspec": {
   "display_name": "Python 2",
   "language": "python",
   "name": "python2"
  },
  "language_info": {
   "codemirror_mode": {
    "name": "ipython",
    "version": 2
   },
   "file_extension": ".py",
   "mimetype": "text/x-python",
   "name": "python",
   "nbconvert_exporter": "python",
   "pygments_lexer": "ipython2",
   "version": "2.7.11"
  }
 },
 "nbformat": 4,
 "nbformat_minor": 0
}
