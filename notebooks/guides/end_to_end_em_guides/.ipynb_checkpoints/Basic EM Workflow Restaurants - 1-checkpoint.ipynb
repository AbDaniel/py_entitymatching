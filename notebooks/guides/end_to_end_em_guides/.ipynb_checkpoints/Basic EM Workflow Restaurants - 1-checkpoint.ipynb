{
 "cells": [
  {
   "cell_type": "code",
   "execution_count": 1,
   "metadata": {
    "collapsed": true
   },
   "outputs": [],
   "source": [
    "import sys\n",
    "sys.path.append('/Users/pradap/Documents/Research/Python-Package/anhaid/py_entitymatching/')\n",
    "\n",
    "import py_entitymatching as em\n",
    "import pandas as pd\n",
    "import os\n",
    "\n",
    "import helper_functions"
   ]
  },
  {
   "cell_type": "code",
   "execution_count": 2,
   "metadata": {
    "collapsed": true
   },
   "outputs": [],
   "source": [
    "# Get the paths\n",
    "path_A = em.get_install_path() + os.sep + 'datasets' + os.sep + 'end-to-end' + os.sep + 'restaurants/fodors.csv'\n",
    "path_B = em.get_install_path() + os.sep + 'datasets' + os.sep + 'end-to-end' + os.sep + 'restaurants/zagats.csv'\n",
    "path_L = em.get_install_path() + os.sep + 'datasets' + os.sep + 'end-to-end' + os.sep + 'restaurants/match_fodors_zagats_more_attrs.csv'"
   ]
  },
  {
   "cell_type": "code",
   "execution_count": 3,
   "metadata": {
    "collapsed": false
   },
   "outputs": [
    {
     "name": "stderr",
     "output_type": "stream",
     "text": [
      "Metadata file is not present in the given path; proceeding to read the csv file.\n",
      "Metadata file is not present in the given path; proceeding to read the csv file.\n"
     ]
    }
   ],
   "source": [
    "A = em.read_csv_metadata(path_A, key='id')\n",
    "B = em.read_csv_metadata(path_B, key='id')\n",
    "L = em.read_csv_metadata(path_L, ltable=A, rtable=B)"
   ]
  },
  {
   "cell_type": "code",
   "execution_count": 4,
   "metadata": {
    "collapsed": false
   },
   "outputs": [
    {
     "data": {
      "text/html": [
       "<div>\n",
       "<table border=\"1\" class=\"dataframe\">\n",
       "  <thead>\n",
       "    <tr style=\"text-align: right;\">\n",
       "      <th></th>\n",
       "      <th>id</th>\n",
       "      <th>name</th>\n",
       "      <th>addr</th>\n",
       "      <th>city</th>\n",
       "      <th>phone</th>\n",
       "      <th>type</th>\n",
       "    </tr>\n",
       "  </thead>\n",
       "  <tbody>\n",
       "    <tr>\n",
       "      <th>0</th>\n",
       "      <td>534</td>\n",
       "      <td>arnie mortons of chicago</td>\n",
       "      <td>435 s. la cienega blv.</td>\n",
       "      <td>los angeles</td>\n",
       "      <td>310/246-1501</td>\n",
       "      <td>american</td>\n",
       "    </tr>\n",
       "    <tr>\n",
       "      <th>1</th>\n",
       "      <td>535</td>\n",
       "      <td>arts delicatessen</td>\n",
       "      <td>12224 ventura blvd.</td>\n",
       "      <td>studio city</td>\n",
       "      <td>818/762-1221</td>\n",
       "      <td>american</td>\n",
       "    </tr>\n",
       "    <tr>\n",
       "      <th>2</th>\n",
       "      <td>536</td>\n",
       "      <td>hotel bel-air</td>\n",
       "      <td>701 stone canyon rd.</td>\n",
       "      <td>bel air</td>\n",
       "      <td>310/472-1211</td>\n",
       "      <td>californian</td>\n",
       "    </tr>\n",
       "    <tr>\n",
       "      <th>3</th>\n",
       "      <td>537</td>\n",
       "      <td>cafe bizou</td>\n",
       "      <td>14016 ventura blvd.</td>\n",
       "      <td>sherman oaks</td>\n",
       "      <td>818/788-3536</td>\n",
       "      <td>french</td>\n",
       "    </tr>\n",
       "    <tr>\n",
       "      <th>4</th>\n",
       "      <td>538</td>\n",
       "      <td>campanile</td>\n",
       "      <td>624 s. la brea ave.</td>\n",
       "      <td>los angeles</td>\n",
       "      <td>213/938-1447</td>\n",
       "      <td>american</td>\n",
       "    </tr>\n",
       "  </tbody>\n",
       "</table>\n",
       "</div>"
      ],
      "text/plain": [
       "    id                      name                    addr          city  \\\n",
       "0  534  arnie mortons of chicago  435 s. la cienega blv.   los angeles   \n",
       "1  535         arts delicatessen     12224 ventura blvd.   studio city   \n",
       "2  536             hotel bel-air    701 stone canyon rd.       bel air   \n",
       "3  537                cafe bizou     14016 ventura blvd.  sherman oaks   \n",
       "4  538                 campanile     624 s. la brea ave.   los angeles   \n",
       "\n",
       "          phone         type  \n",
       "0  310/246-1501     american  \n",
       "1  818/762-1221     american  \n",
       "2  310/472-1211  californian  \n",
       "3  818/788-3536       french  \n",
       "4  213/938-1447     american  "
      ]
     },
     "execution_count": 4,
     "metadata": {},
     "output_type": "execute_result"
    }
   ],
   "source": [
    "A.head()"
   ]
  },
  {
   "cell_type": "code",
   "execution_count": 5,
   "metadata": {
    "collapsed": false
   },
   "outputs": [
    {
     "data": {
      "text/html": [
       "<div>\n",
       "<table border=\"1\" class=\"dataframe\">\n",
       "  <thead>\n",
       "    <tr style=\"text-align: right;\">\n",
       "      <th></th>\n",
       "      <th>id</th>\n",
       "      <th>name</th>\n",
       "      <th>addr</th>\n",
       "      <th>city</th>\n",
       "      <th>phone</th>\n",
       "      <th>type</th>\n",
       "    </tr>\n",
       "  </thead>\n",
       "  <tbody>\n",
       "    <tr>\n",
       "      <th>0</th>\n",
       "      <td>1</td>\n",
       "      <td>apple pan  the</td>\n",
       "      <td>10801 w. pico blvd.</td>\n",
       "      <td>west la</td>\n",
       "      <td>310-475-3585</td>\n",
       "      <td>american</td>\n",
       "    </tr>\n",
       "    <tr>\n",
       "      <th>1</th>\n",
       "      <td>2</td>\n",
       "      <td>asahi ramen</td>\n",
       "      <td>2027 sawtelle blvd.</td>\n",
       "      <td>west la</td>\n",
       "      <td>310-479-2231</td>\n",
       "      <td>noodle shops</td>\n",
       "    </tr>\n",
       "    <tr>\n",
       "      <th>2</th>\n",
       "      <td>3</td>\n",
       "      <td>baja fresh</td>\n",
       "      <td>3345 kimber dr.</td>\n",
       "      <td>westlake village</td>\n",
       "      <td>805-498-4049</td>\n",
       "      <td>mexican</td>\n",
       "    </tr>\n",
       "    <tr>\n",
       "      <th>3</th>\n",
       "      <td>4</td>\n",
       "      <td>belvedere  the</td>\n",
       "      <td>9882 little santa monica blvd.</td>\n",
       "      <td>beverly hills</td>\n",
       "      <td>310-788-2306</td>\n",
       "      <td>pacific new wave</td>\n",
       "    </tr>\n",
       "    <tr>\n",
       "      <th>4</th>\n",
       "      <td>5</td>\n",
       "      <td>benitas frites</td>\n",
       "      <td>1433 third st. promenade</td>\n",
       "      <td>santa monica</td>\n",
       "      <td>310-458-2889</td>\n",
       "      <td>fast food</td>\n",
       "    </tr>\n",
       "  </tbody>\n",
       "</table>\n",
       "</div>"
      ],
      "text/plain": [
       "   id            name                            addr              city  \\\n",
       "0   1  apple pan  the             10801 w. pico blvd.           west la   \n",
       "1   2     asahi ramen             2027 sawtelle blvd.           west la   \n",
       "2   3      baja fresh                 3345 kimber dr.  westlake village   \n",
       "3   4  belvedere  the  9882 little santa monica blvd.     beverly hills   \n",
       "4   5  benitas frites        1433 third st. promenade      santa monica   \n",
       "\n",
       "          phone              type  \n",
       "0  310-475-3585          american  \n",
       "1  310-479-2231      noodle shops  \n",
       "2  805-498-4049           mexican  \n",
       "3  310-788-2306  pacific new wave  \n",
       "4  310-458-2889         fast food  "
      ]
     },
     "execution_count": 5,
     "metadata": {},
     "output_type": "execute_result"
    }
   ],
   "source": [
    "B.head()"
   ]
  },
  {
   "cell_type": "code",
   "execution_count": 6,
   "metadata": {
    "collapsed": false
   },
   "outputs": [
    {
     "data": {
      "text/html": [
       "<div>\n",
       "<table border=\"1\" class=\"dataframe\">\n",
       "  <thead>\n",
       "    <tr style=\"text-align: right;\">\n",
       "      <th></th>\n",
       "      <th>_id</th>\n",
       "      <th>fodors_id</th>\n",
       "      <th>zagats_id</th>\n",
       "      <th>ltable_name</th>\n",
       "      <th>ltable_addr</th>\n",
       "      <th>ltable_city</th>\n",
       "      <th>ltable_phone</th>\n",
       "      <th>rtable_name</th>\n",
       "      <th>rtable_addr</th>\n",
       "      <th>rtable_city</th>\n",
       "      <th>rtable_phone</th>\n",
       "      <th>gold</th>\n",
       "    </tr>\n",
       "  </thead>\n",
       "  <tbody>\n",
       "    <tr>\n",
       "      <th>0</th>\n",
       "      <td>0</td>\n",
       "      <td>534</td>\n",
       "      <td>219</td>\n",
       "      <td>arnie mortons of chicago</td>\n",
       "      <td>435 s. la cienega blv.</td>\n",
       "      <td>los angeles</td>\n",
       "      <td>310/246-1501</td>\n",
       "      <td>arnie mortons of chicago</td>\n",
       "      <td>435 s. la cienega blvd.</td>\n",
       "      <td>los angeles</td>\n",
       "      <td>310-246-1501</td>\n",
       "      <td>1</td>\n",
       "    </tr>\n",
       "    <tr>\n",
       "      <th>1</th>\n",
       "      <td>1</td>\n",
       "      <td>535</td>\n",
       "      <td>220</td>\n",
       "      <td>arts delicatessen</td>\n",
       "      <td>12224 ventura blvd.</td>\n",
       "      <td>studio city</td>\n",
       "      <td>818/762-1221</td>\n",
       "      <td>arts deli</td>\n",
       "      <td>12224 ventura blvd.</td>\n",
       "      <td>studio city</td>\n",
       "      <td>818-762-1221</td>\n",
       "      <td>1</td>\n",
       "    </tr>\n",
       "    <tr>\n",
       "      <th>2</th>\n",
       "      <td>2</td>\n",
       "      <td>536</td>\n",
       "      <td>221</td>\n",
       "      <td>hotel bel-air</td>\n",
       "      <td>701 stone canyon rd.</td>\n",
       "      <td>bel air</td>\n",
       "      <td>310/472-1211</td>\n",
       "      <td>bel-air hotel</td>\n",
       "      <td>701 stone canyon rd.</td>\n",
       "      <td>bel air</td>\n",
       "      <td>310-472-1211</td>\n",
       "      <td>1</td>\n",
       "    </tr>\n",
       "    <tr>\n",
       "      <th>3</th>\n",
       "      <td>3</td>\n",
       "      <td>537</td>\n",
       "      <td>222</td>\n",
       "      <td>cafe bizou</td>\n",
       "      <td>14016 ventura blvd.</td>\n",
       "      <td>sherman oaks</td>\n",
       "      <td>818/788-3536</td>\n",
       "      <td>cafe bizou</td>\n",
       "      <td>14016 ventura blvd.</td>\n",
       "      <td>sherman oaks</td>\n",
       "      <td>818-788-3536</td>\n",
       "      <td>1</td>\n",
       "    </tr>\n",
       "    <tr>\n",
       "      <th>4</th>\n",
       "      <td>4</td>\n",
       "      <td>538</td>\n",
       "      <td>223</td>\n",
       "      <td>campanile</td>\n",
       "      <td>624 s. la brea ave.</td>\n",
       "      <td>los angeles</td>\n",
       "      <td>213/938-1447</td>\n",
       "      <td>campanile</td>\n",
       "      <td>624 s. la brea ave.</td>\n",
       "      <td>los angeles</td>\n",
       "      <td>213-938-1447</td>\n",
       "      <td>1</td>\n",
       "    </tr>\n",
       "  </tbody>\n",
       "</table>\n",
       "</div>"
      ],
      "text/plain": [
       "   _id  fodors_id  zagats_id               ltable_name  \\\n",
       "0    0        534        219  arnie mortons of chicago   \n",
       "1    1        535        220         arts delicatessen   \n",
       "2    2        536        221             hotel bel-air   \n",
       "3    3        537        222                cafe bizou   \n",
       "4    4        538        223                 campanile   \n",
       "\n",
       "              ltable_addr   ltable_city  ltable_phone  \\\n",
       "0  435 s. la cienega blv.   los angeles  310/246-1501   \n",
       "1     12224 ventura blvd.   studio city  818/762-1221   \n",
       "2    701 stone canyon rd.       bel air  310/472-1211   \n",
       "3     14016 ventura blvd.  sherman oaks  818/788-3536   \n",
       "4     624 s. la brea ave.   los angeles  213/938-1447   \n",
       "\n",
       "                rtable_name              rtable_addr   rtable_city  \\\n",
       "0  arnie mortons of chicago  435 s. la cienega blvd.   los angeles   \n",
       "1                 arts deli      12224 ventura blvd.   studio city   \n",
       "2             bel-air hotel     701 stone canyon rd.       bel air   \n",
       "3                cafe bizou      14016 ventura blvd.  sherman oaks   \n",
       "4                 campanile      624 s. la brea ave.   los angeles   \n",
       "\n",
       "   rtable_phone  gold  \n",
       "0  310-246-1501     1  \n",
       "1  818-762-1221     1  \n",
       "2  310-472-1211     1  \n",
       "3  818-788-3536     1  \n",
       "4  213-938-1447     1  "
      ]
     },
     "execution_count": 6,
     "metadata": {},
     "output_type": "execute_result"
    }
   ],
   "source": [
    "L.head()"
   ]
  },
  {
   "cell_type": "code",
   "execution_count": 7,
   "metadata": {
    "collapsed": false
   },
   "outputs": [],
   "source": [
    "ob = em.OverlapBlocker()\n",
    "C = ob.block_tables(A, B, 'name', 'name', \n",
    "                    l_output_attrs=['name', 'addr', 'city', 'phone'], \n",
    "                    r_output_attrs=['name', 'addr', 'city', 'phone'],\n",
    "                    overlap_size=1, show_progress=False)"
   ]
  },
  {
   "cell_type": "code",
   "execution_count": 8,
   "metadata": {
    "collapsed": false
   },
   "outputs": [
    {
     "data": {
      "text/html": [
       "<div>\n",
       "<table border=\"1\" class=\"dataframe\">\n",
       "  <thead>\n",
       "    <tr style=\"text-align: right;\">\n",
       "      <th></th>\n",
       "      <th>_id</th>\n",
       "      <th>ltable_id</th>\n",
       "      <th>rtable_id</th>\n",
       "      <th>ltable_name</th>\n",
       "      <th>ltable_addr</th>\n",
       "      <th>ltable_city</th>\n",
       "      <th>ltable_phone</th>\n",
       "      <th>rtable_name</th>\n",
       "      <th>rtable_addr</th>\n",
       "      <th>rtable_city</th>\n",
       "      <th>rtable_phone</th>\n",
       "    </tr>\n",
       "  </thead>\n",
       "  <tbody>\n",
       "    <tr>\n",
       "      <th>0</th>\n",
       "      <td>0</td>\n",
       "      <td>1036</td>\n",
       "      <td>1</td>\n",
       "      <td>pacific pan pacific hotel</td>\n",
       "      <td>500 post st.</td>\n",
       "      <td>san francisco</td>\n",
       "      <td>415/929-2087</td>\n",
       "      <td>apple pan  the</td>\n",
       "      <td>10801 w. pico blvd.</td>\n",
       "      <td>west la</td>\n",
       "      <td>310-475-3585</td>\n",
       "    </tr>\n",
       "    <tr>\n",
       "      <th>1</th>\n",
       "      <td>1</td>\n",
       "      <td>1016</td>\n",
       "      <td>7</td>\n",
       "      <td>hyde street bistro</td>\n",
       "      <td>1521 hyde st.</td>\n",
       "      <td>san francisco</td>\n",
       "      <td>415/441-7778</td>\n",
       "      <td>bistro 45</td>\n",
       "      <td>45 s. mentor ave.</td>\n",
       "      <td>pasadena</td>\n",
       "      <td>818-795-2478</td>\n",
       "    </tr>\n",
       "    <tr>\n",
       "      <th>2</th>\n",
       "      <td>2</td>\n",
       "      <td>552</td>\n",
       "      <td>7</td>\n",
       "      <td>pinot bistro</td>\n",
       "      <td>12969 ventura blvd.</td>\n",
       "      <td>los angeles</td>\n",
       "      <td>818/990-0500</td>\n",
       "      <td>bistro 45</td>\n",
       "      <td>45 s. mentor ave.</td>\n",
       "      <td>pasadena</td>\n",
       "      <td>818-795-2478</td>\n",
       "    </tr>\n",
       "    <tr>\n",
       "      <th>3</th>\n",
       "      <td>3</td>\n",
       "      <td>652</td>\n",
       "      <td>7</td>\n",
       "      <td>bistro garden</td>\n",
       "      <td>176 n. canon dr.</td>\n",
       "      <td>los angeles</td>\n",
       "      <td>310/550-3900</td>\n",
       "      <td>bistro 45</td>\n",
       "      <td>45 s. mentor ave.</td>\n",
       "      <td>pasadena</td>\n",
       "      <td>818-795-2478</td>\n",
       "    </tr>\n",
       "    <tr>\n",
       "      <th>4</th>\n",
       "      <td>4</td>\n",
       "      <td>991</td>\n",
       "      <td>7</td>\n",
       "      <td>bistro roti</td>\n",
       "      <td>155 steuart st.</td>\n",
       "      <td>san francisco</td>\n",
       "      <td>415/495-6500</td>\n",
       "      <td>bistro 45</td>\n",
       "      <td>45 s. mentor ave.</td>\n",
       "      <td>pasadena</td>\n",
       "      <td>818-795-2478</td>\n",
       "    </tr>\n",
       "  </tbody>\n",
       "</table>\n",
       "</div>"
      ],
      "text/plain": [
       "   _id  ltable_id  rtable_id                ltable_name          ltable_addr  \\\n",
       "0    0       1036          1  pacific pan pacific hotel         500 post st.   \n",
       "1    1       1016          7         hyde street bistro        1521 hyde st.   \n",
       "2    2        552          7               pinot bistro  12969 ventura blvd.   \n",
       "3    3        652          7              bistro garden     176 n. canon dr.   \n",
       "4    4        991          7                bistro roti      155 steuart st.   \n",
       "\n",
       "     ltable_city  ltable_phone     rtable_name          rtable_addr  \\\n",
       "0  san francisco  415/929-2087  apple pan  the  10801 w. pico blvd.   \n",
       "1  san francisco  415/441-7778       bistro 45    45 s. mentor ave.   \n",
       "2    los angeles  818/990-0500       bistro 45    45 s. mentor ave.   \n",
       "3    los angeles  310/550-3900       bistro 45    45 s. mentor ave.   \n",
       "4  san francisco  415/495-6500       bistro 45    45 s. mentor ave.   \n",
       "\n",
       "  rtable_city  rtable_phone  \n",
       "0     west la  310-475-3585  \n",
       "1    pasadena  818-795-2478  \n",
       "2    pasadena  818-795-2478  \n",
       "3    pasadena  818-795-2478  \n",
       "4    pasadena  818-795-2478  "
      ]
     },
     "execution_count": 8,
     "metadata": {},
     "output_type": "execute_result"
    }
   ],
   "source": [
    "C.head()"
   ]
  },
  {
   "cell_type": "code",
   "execution_count": 9,
   "metadata": {
    "collapsed": false
   },
   "outputs": [],
   "source": [
    "path_lbl = em.get_install_path() + os.sep + 'datasets' + os.sep + 'end-to-end' + os.sep + 'restaurants/lbl_restnt_wf1.csv'"
   ]
  },
  {
   "cell_type": "code",
   "execution_count": 10,
   "metadata": {
    "collapsed": true
   },
   "outputs": [],
   "source": [
    "# sample candidate set\n",
    "S = em.sample_table(C, 450)"
   ]
  },
  {
   "cell_type": "code",
   "execution_count": 11,
   "metadata": {
    "collapsed": false
   },
   "outputs": [],
   "source": [
    "# Label S\n",
    "# G = em.label_table(S, 'gold')"
   ]
  },
  {
   "cell_type": "code",
   "execution_count": 12,
   "metadata": {
    "collapsed": false
   },
   "outputs": [
    {
     "data": {
      "text/plain": [
       "450"
      ]
     },
     "execution_count": 12,
     "metadata": {},
     "output_type": "execute_result"
    }
   ],
   "source": [
    "path_G = em.get_install_path() + os.sep + 'datasets' + os.sep + 'end-to-end' + os.sep + 'restaurants/lbl_restnt_wf1.csv'\n",
    "G = em.read_csv_metadata(path_G, \n",
    "                         key='_id',\n",
    "                         ltable=A, rtable=B, \n",
    "                         fk_ltable='ltable_id', fk_rtable='rtable_id')\n",
    "len(G)"
   ]
  },
  {
   "cell_type": "code",
   "execution_count": 13,
   "metadata": {
    "collapsed": true
   },
   "outputs": [],
   "source": [
    "# Generate features automatically \n",
    "feature_table = em.get_features_for_matching(A, B)"
   ]
  },
  {
   "cell_type": "code",
   "execution_count": 14,
   "metadata": {
    "collapsed": false
   },
   "outputs": [
    {
     "data": {
      "text/plain": [
       "0                         id_id_exm\n",
       "1                         id_id_anm\n",
       "2                    id_id_lev_dist\n",
       "3                     id_id_lev_sim\n",
       "4         name_name_jac_qgm_3_qgm_3\n",
       "5     name_name_cos_dlm_dc0_dlm_dc0\n",
       "6     name_name_jac_dlm_dc0_dlm_dc0\n",
       "7                     name_name_mel\n",
       "8                name_name_lev_dist\n",
       "9                 name_name_lev_sim\n",
       "10                    name_name_nmw\n",
       "11                     name_name_sw\n",
       "12        addr_addr_jac_qgm_3_qgm_3\n",
       "13    addr_addr_cos_dlm_dc0_dlm_dc0\n",
       "14    addr_addr_jac_dlm_dc0_dlm_dc0\n",
       "15                    addr_addr_mel\n",
       "16               addr_addr_lev_dist\n",
       "17                addr_addr_lev_sim\n",
       "18                    addr_addr_nmw\n",
       "19                     addr_addr_sw\n",
       "20        city_city_jac_qgm_3_qgm_3\n",
       "21    city_city_cos_dlm_dc0_dlm_dc0\n",
       "22    city_city_jac_dlm_dc0_dlm_dc0\n",
       "23                    city_city_mel\n",
       "24               city_city_lev_dist\n",
       "25                city_city_lev_sim\n",
       "26                    city_city_nmw\n",
       "27                     city_city_sw\n",
       "28        type_type_jac_qgm_3_qgm_3\n",
       "29    type_type_cos_dlm_dc0_dlm_dc0\n",
       "30    type_type_jac_dlm_dc0_dlm_dc0\n",
       "31                    type_type_mel\n",
       "32               type_type_lev_dist\n",
       "33                type_type_lev_sim\n",
       "34                    type_type_nmw\n",
       "35                     type_type_sw\n",
       "Name: feature_name, dtype: object"
      ]
     },
     "execution_count": 14,
     "metadata": {},
     "output_type": "execute_result"
    }
   ],
   "source": [
    "feature_table.feature_name"
   ]
  },
  {
   "cell_type": "code",
   "execution_count": 15,
   "metadata": {
    "collapsed": true
   },
   "outputs": [],
   "source": [
    "# Convert the labeled data to feature vectors using the feature table\n",
    "attrs_from_table = ['ltable_name', 'ltable_addr', 'ltable_city', 'ltable_phone',\n",
    "                'rtable_name', 'rtable_addr', 'rtable_city', 'rtable_phone'\n",
    "               ]\n",
    "\n",
    "H = em.extract_feature_vecs(G, \n",
    "                            feature_table=feature_table, \n",
    "                            attrs_before = attrs_from_table,\n",
    "                            attrs_after='gold',\n",
    "                            show_progress=False) "
   ]
  },
  {
   "cell_type": "code",
   "execution_count": 19,
   "metadata": {
    "collapsed": true
   },
   "outputs": [],
   "source": [
    "attrs_to_be_excluded = []\n"
   ]
  },
  {
   "cell_type": "code",
   "execution_count": 20,
   "metadata": {
    "collapsed": false
   },
   "outputs": [
    {
     "data": {
      "text/plain": [
       "['_id',\n",
       " 'ltable_id',\n",
       " 'rtable_id',\n",
       " 'gold',\n",
       " 'ltable_name',\n",
       " 'ltable_addr',\n",
       " 'ltable_city',\n",
       " 'ltable_phone',\n",
       " 'rtable_name',\n",
       " 'rtable_addr',\n",
       " 'rtable_city',\n",
       " 'rtable_phone']"
      ]
     },
     "execution_count": 20,
     "metadata": {},
     "output_type": "execute_result"
    }
   ],
   "source": [
    "attrs_to_be_excluded"
   ]
  },
  {
   "cell_type": "code",
   "execution_count": 17,
   "metadata": {
    "collapsed": false
   },
   "outputs": [
    {
     "ename": "SyntaxError",
     "evalue": "The arguments supplied does not match the signatures supported !!! (<string>)",
     "output_type": "error",
     "traceback": [
      "\u001b[0;36m  File \u001b[0;32m\"<string>\"\u001b[0;36m, line \u001b[0;32munknown\u001b[0m\n\u001b[0;31mSyntaxError\u001b[0m\u001b[0;31m:\u001b[0m The arguments supplied does not match the signatures supported !!!\n"
     ]
    }
   ],
   "source": [
    "# Lets use RF matcher for matching purposes\n",
    "\n",
    "# Instantiate the RF Matcher\n",
    "rf = em.RFMatcher()"
   ]
  },
  {
   "cell_type": "code",
   "execution_count": null,
   "metadata": {
    "collapsed": true
   },
   "outputs": [],
   "source": [
    "# Train using feature vectors from I \n",
    "rf.fit(table=H, exclude_attrs=attrs_to_be_excluded, target_attr='gold')"
   ]
  },
  {
   "cell_type": "code",
   "execution_count": null,
   "metadata": {
    "collapsed": false
   },
   "outputs": [],
   "source": [
    "# Next, Convert the candidate set to feature vectors using the feature table\n",
    "\n",
    "# Get the list of attrs (apart from feature vectors) that should be included from the canidate set table.\n",
    "attrs_from_table = ['ltable_name', 'ltable_addr', 'ltable_city', 'ltable_phone',\n",
    "                'rtable_name', 'rtable_addr', 'rtable_city', 'rtable_phone'\n",
    "               ]\n",
    "L = em.extract_feature_vecs(C, feature_table=feature_table,\n",
    "                             attrs_before= attrs_from_table,\n",
    "                             show_progress=False)"
   ]
  },
  {
   "cell_type": "code",
   "execution_count": null,
   "metadata": {
    "collapsed": false
   },
   "outputs": [],
   "source": [
    "# Get the attributes to be excluded while predicting \n",
    "attrs_to_be_excluded = []\n",
    "attrs_to_be_excluded.extend(['_id', 'ltable_id', 'rtable_id', 'gold'])\n",
    "attrs_to_be_excluded.extend(attrs_from_table)"
   ]
  },
  {
   "cell_type": "code",
   "execution_count": null,
   "metadata": {
    "collapsed": false
   },
   "outputs": [],
   "source": [
    "predictions = rf.predict(table=L, exclude_attrs=attrs_to_be_excluded,                          \n",
    "              append=True, target_attr='predicted', inplace=False)"
   ]
  },
  {
   "cell_type": "code",
   "execution_count": null,
   "metadata": {
    "collapsed": false
   },
   "outputs": [],
   "source": [
    "predictions.head()"
   ]
  }
 ],
 "metadata": {
  "anaconda-cloud": {},
  "kernelspec": {
   "display_name": "Python [default]",
   "language": "python",
   "name": "python3"
  },
  "language_info": {
   "codemirror_mode": {
    "name": "ipython",
    "version": 3
   },
   "file_extension": ".py",
   "mimetype": "text/x-python",
   "name": "python",
   "nbconvert_exporter": "python",
   "pygments_lexer": "ipython3",
   "version": "3.5.2"
  }
 },
 "nbformat": 4,
 "nbformat_minor": 2
}
