{
 "cells": [
  {
   "cell_type": "code",
   "execution_count": 1,
   "metadata": {
    "collapsed": true
   },
   "outputs": [],
   "source": [
    "import sys"
   ]
  },
  {
   "cell_type": "code",
   "execution_count": 3,
   "metadata": {
    "collapsed": true
   },
   "outputs": [],
   "source": [
    "#sys.path.append('/scratch/pradap/python-work/anhaidgroup/magellan')\n",
    "sys.path.append('/Users/pradap/Documents/Research/Python-Package/anhaid/magellan/')"
   ]
  },
  {
   "cell_type": "code",
   "execution_count": 4,
   "metadata": {
    "collapsed": true
   },
   "outputs": [],
   "source": [
    "import magellan as mg"
   ]
  },
  {
   "cell_type": "code",
   "execution_count": 5,
   "metadata": {
    "collapsed": true
   },
   "outputs": [],
   "source": [
    "stri = 'jaccard(qgm_3(ltuple[\"zipcode\"]), qgm_3(rtuple[\"zipcode\"]))'"
   ]
  },
  {
   "cell_type": "code",
   "execution_count": 6,
   "metadata": {
    "collapsed": true
   },
   "outputs": [],
   "source": [
    "def bbfunction(ltuple, rtuple):\n",
    "    return 1.0"
   ]
  },
  {
   "cell_type": "code",
   "execution_count": 8,
   "metadata": {
    "collapsed": true
   },
   "outputs": [],
   "source": [
    "A = mg.load_dataset('table_A', key='ID')\n",
    "B = mg.load_dataset('table_B', key='ID')"
   ]
  },
  {
   "cell_type": "code",
   "execution_count": 9,
   "metadata": {
    "collapsed": false
   },
   "outputs": [],
   "source": [
    "F = mg.get_features_for_matching(A, B)"
   ]
  },
  {
   "cell_type": "code",
   "execution_count": 10,
   "metadata": {
    "collapsed": false
   },
   "outputs": [
    {
     "data": {
      "text/plain": [
       "0     True\n",
       "1     True\n",
       "2     True\n",
       "3     True\n",
       "4     True\n",
       "5     True\n",
       "6     True\n",
       "7     True\n",
       "8     True\n",
       "9     True\n",
       "10    True\n",
       "11    True\n",
       "12    True\n",
       "13    True\n",
       "14    True\n",
       "15    True\n",
       "16    True\n",
       "17    True\n",
       "18    True\n",
       "19    True\n",
       "20    True\n",
       "Name: is_auto_generated, dtype: bool"
      ]
     },
     "execution_count": 10,
     "metadata": {},
     "output_type": "execute_result"
    }
   ],
   "source": [
    "F['is_auto_generated']"
   ]
  },
  {
   "cell_type": "code",
   "execution_count": 11,
   "metadata": {
    "collapsed": false
   },
   "outputs": [
    {
     "name": "stdout",
     "output_type": "stream",
     "text": [
      "Help on function add_blackbox_feature in module magellan.feature.addfeatures:\n",
      "\n",
      "add_blackbox_feature(feat_table, feat_name, feat_fn)\n",
      "\n"
     ]
    }
   ],
   "source": [
    "help(mg.add_blackbox_feature)"
   ]
  },
  {
   "cell_type": "code",
   "execution_count": 12,
   "metadata": {
    "collapsed": false
   },
   "outputs": [
    {
     "data": {
      "text/plain": [
       "True"
      ]
     },
     "execution_count": 12,
     "metadata": {},
     "output_type": "execute_result"
    }
   ],
   "source": [
    "mg.add_blackbox_feature(F, 'bbfunction', bbfunction)"
   ]
  },
  {
   "cell_type": "code",
   "execution_count": 16,
   "metadata": {
    "collapsed": false
   },
   "outputs": [],
   "source": [
    "import magellan\n",
    "import magellan.feature.addfeatures as af"
   ]
  },
  {
   "cell_type": "code",
   "execution_count": 17,
   "metadata": {
    "collapsed": false
   },
   "outputs": [
    {
     "data": {
      "text/html": [
       "<div>\n",
       "<table border=\"1\" class=\"dataframe\">\n",
       "  <thead>\n",
       "    <tr style=\"text-align: right;\">\n",
       "      <th></th>\n",
       "      <th>feature_name</th>\n",
       "      <th>left_attribute</th>\n",
       "      <th>right_attribute</th>\n",
       "      <th>left_attr_tokenizer</th>\n",
       "      <th>right_attr_tokenizer</th>\n",
       "      <th>simfunction</th>\n",
       "      <th>function</th>\n",
       "      <th>function_source</th>\n",
       "      <th>is_auto_generated</th>\n",
       "    </tr>\n",
       "  </thead>\n",
       "  <tbody>\n",
       "  </tbody>\n",
       "</table>\n",
       "</div>"
      ],
      "text/plain": [
       "Empty DataFrame\n",
       "Columns: [feature_name, left_attribute, right_attribute, left_attr_tokenizer, right_attr_tokenizer, simfunction, function, function_source, is_auto_generated]\n",
       "Index: []"
      ]
     },
     "execution_count": 17,
     "metadata": {},
     "output_type": "execute_result"
    }
   ],
   "source": [
    "af.create_feature_table()"
   ]
  },
  {
   "cell_type": "code",
   "execution_count": 31,
   "metadata": {
    "collapsed": false
   },
   "outputs": [],
   "source": [
    "from pyparsing import Word, alphas, alphanums, Literal, ParseException\n",
    "\n",
    "# initialization \n",
    "exp_flag = False\n",
    "left_attribute = 'PARSE_EXP'\n",
    "right_attribute = 'PARSE_EXP'\n",
    "left_attr_tokenizer = 'PARSE_EXP'\n",
    "right_attr_tokenizer = 'PARSE_EXP'\n",
    "sim_function = 'PARSE_EXP' "
   ]
  },
  {
   "cell_type": "code",
   "execution_count": null,
   "metadata": {
    "collapsed": true
   },
   "outputs": [],
   "source": []
  },
  {
   "cell_type": "code",
   "execution_count": 32,
   "metadata": {
    "collapsed": true
   },
   "outputs": [],
   "source": [
    "tok=mg.get_tokenizers_for_blocking()\n",
    "sim = mg.get_sim_funs_for_blocking()"
   ]
  },
  {
   "cell_type": "code",
   "execution_count": 33,
   "metadata": {
    "collapsed": true
   },
   "outputs": [],
   "source": [
    "exp_flag=False"
   ]
  },
  {
   "cell_type": "code",
   "execution_count": 34,
   "metadata": {
    "collapsed": false
   },
   "outputs": [],
   "source": [
    "attr_name = Word(alphanums + \"_\" + \".\" + \"[\" + \"]\" + '\"' + \"'\")\n",
    "tok_fn = Word(alphanums + \"_\") + \"(\" + attr_name + \")\"\n",
    "wo_tok = Word(alphanums + \"_\") + \"(\" + attr_name + \",\" + attr_name + \")\"\n",
    "wi_tok = Word(alphanums + \"_\") + \"(\" + tok_fn + \",\" + tok_fn + \")\"\n",
    "feat = wi_tok | wo_tok\n",
    "try:\n",
    "    f = feat.parseString(stri)\n",
    "except ParseException as e:\n",
    "    exp_flag = True\n",
    "\n",
    "if exp_flag == False:\n",
    "    t = [val for val in f if val in tok.keys()]\n",
    "    if len(t) is 2:\n",
    "        left_attr_tokenizer = t[0]\n",
    "        right_attr_tokenizer = t[1]\n",
    "    s = [val for val in f if val in sim.keys()]\n",
    "    if len(s) is 1:\n",
    "        sim_function = s[0]\n",
    "        # get left_attribute \n",
    "    lt = [val for val in f if val.startswith('ltuple[')]\n",
    "    if len(lt) is 1:\n",
    "        lt = lt[0]\n",
    "        left_attribute = lt[7:len(lt) - 1].strip('\"').strip(\"'\")\n",
    "        # get right_attribute \n",
    "    rt = [val for val in f if val.startswith('rtuple[')]\n",
    "    if len(rt) is 1:\n",
    "        rt = rt[0]\n",
    "        right_attribute = rt[7:len(rt) - 1].strip('\"').strip(\"'\")\n",
    "else:\n",
    "    pass \n",
    "d = {}\n",
    "d['left_attribute'] = left_attribute\n",
    "d['right_attribute'] = right_attribute\n",
    "d['left_attr_tokenizer'] = left_attr_tokenizer\n",
    "d['right_attr_tokenizer'] = right_attr_tokenizer\n",
    "d['simfunction'] = sim_function"
   ]
  },
  {
   "cell_type": "code",
   "execution_count": 35,
   "metadata": {
    "collapsed": false
   },
   "outputs": [
    {
     "data": {
      "text/plain": [
       "(['jaccard', '(', 'qgm_3', '(', 'ltuple[\"zipcode\"]', ')', ',', 'qgm_3', '(', 'rtuple[\"zipcode\"]', ')', ')'], {})"
      ]
     },
     "execution_count": 35,
     "metadata": {},
     "output_type": "execute_result"
    }
   ],
   "source": [
    "f"
   ]
  },
  {
   "cell_type": "code",
   "execution_count": 28,
   "metadata": {
    "collapsed": false
   },
   "outputs": [
    {
     "ename": "SyntaxError",
     "evalue": "invalid syntax (<ipython-input-28-96f20abfed97>, line 1)",
     "output_type": "error",
     "traceback": [
      "\u001b[1;36m  File \u001b[1;32m\"<ipython-input-28-96f20abfed97>\"\u001b[1;36m, line \u001b[1;32m1\u001b[0m\n\u001b[1;33m    from magellan.\u001b[0m\n\u001b[1;37m                  ^\u001b[0m\n\u001b[1;31mSyntaxError\u001b[0m\u001b[1;31m:\u001b[0m invalid syntax\n"
     ]
    }
   ],
   "source": [
    "from magellan."
   ]
  },
  {
   "cell_type": "code",
   "execution_count": 36,
   "metadata": {
    "collapsed": false
   },
   "outputs": [
    {
     "data": {
      "text/plain": [
       "{'left_attr_tokenizer': 'qgm_3',\n",
       " 'left_attribute': 'zipcode',\n",
       " 'right_attr_tokenizer': 'qgm_3',\n",
       " 'right_attribute': 'zipcode',\n",
       " 'simfunction': 'jaccard'}"
      ]
     },
     "execution_count": 36,
     "metadata": {},
     "output_type": "execute_result"
    }
   ],
   "source": [
    "d"
   ]
  },
  {
   "cell_type": "code",
   "execution_count": 38,
   "metadata": {
    "collapsed": false
   },
   "outputs": [],
   "source": [
    "A = mg.load_dataset('table_A', key='ID')\n",
    "B = mg.load_dataset('table_B', key='ID')"
   ]
  },
  {
   "cell_type": "code",
   "execution_count": 39,
   "metadata": {
    "collapsed": true
   },
   "outputs": [],
   "source": [
    "A1 = A.copy()"
   ]
  },
  {
   "cell_type": "code",
   "execution_count": 43,
   "metadata": {
    "collapsed": false
   },
   "outputs": [
    {
     "data": {
      "text/plain": [
       "True"
      ]
     },
     "execution_count": 43,
     "metadata": {},
     "output_type": "execute_result"
    }
   ],
   "source": [
    "all(A1 == A)"
   ]
  },
  {
   "cell_type": "code",
   "execution_count": 44,
   "metadata": {
    "collapsed": true
   },
   "outputs": [],
   "source": [
    "from magellan.feature.attributeutils import get_type"
   ]
  },
  {
   "cell_type": "code",
   "execution_count": 45,
   "metadata": {
    "collapsed": true
   },
   "outputs": [],
   "source": [
    "import pandas as pd"
   ]
  },
  {
   "cell_type": "code",
   "execution_count": 47,
   "metadata": {
    "collapsed": false
   },
   "outputs": [
    {
     "name": "stderr",
     "output_type": "stream",
     "text": [
      "WARNING:magellan.feature.attributeutils:Column None does not seem to qualify as any atomic type. It may contain all NaNs. Currently, setting its type to be numeric.We recommend the users to manually update the returned types or features later. \n",
      "\n"
     ]
    },
    {
     "data": {
      "text/plain": [
       "'numeric'"
      ]
     },
     "execution_count": 47,
     "metadata": {},
     "output_type": "execute_result"
    }
   ],
   "source": [
    "get_type(pd.Series())"
   ]
  }
 ],
 "metadata": {
  "kernelspec": {
   "display_name": "Python 3",
   "language": "python",
   "name": "python3"
  },
  "language_info": {
   "codemirror_mode": {
    "name": "ipython",
    "version": 3
   },
   "file_extension": ".py",
   "mimetype": "text/x-python",
   "name": "python",
   "nbconvert_exporter": "python",
   "pygments_lexer": "ipython3",
   "version": "3.5.1"
  }
 },
 "nbformat": 4,
 "nbformat_minor": 0
}
