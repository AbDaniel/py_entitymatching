{
 "cells": [
  {
   "cell_type": "code",
   "execution_count": 1,
   "metadata": {},
   "outputs": [],
   "source": [
    "import sys\n",
    "sys.path.append('/Users/pradap/Documents/Research/Python-Package/anhaid/magellan/')"
   ]
  },
  {
   "cell_type": "code",
   "execution_count": 2,
   "metadata": {},
   "outputs": [],
   "source": [
    "import magellan as mg"
   ]
  },
  {
   "cell_type": "code",
   "execution_count": 3,
   "metadata": {},
   "outputs": [],
   "source": [
    "A = mg.load_dataset('table_A')\n",
    "B = mg.load_dataset('table_B')"
   ]
  },
  {
   "cell_type": "code",
   "execution_count": 4,
   "metadata": {},
   "outputs": [],
   "source": [
    "feature_table = mg.get_features_for_blocking(A, B)"
   ]
  },
  {
   "cell_type": "code",
   "execution_count": 5,
   "metadata": {},
   "outputs": [
    {
     "name": "stdout",
     "output_type": "stream",
     "text": [
      "Help on function add_feature in module magellan.feature.addfeatures:\n",
      "\n",
      "add_feature(feat_table, feat_name, feat_dict)\n",
      "\n"
     ]
    }
   ],
   "source": [
    "help(mg.add_feature)"
   ]
  },
  {
   "cell_type": "code",
   "execution_count": 6,
   "metadata": {},
   "outputs": [
    {
     "data": {
      "text/plain": [
       "{'dlm_dc0': <function magellan.feature.tokenizers.tok_delim>,\n",
       " 'qgm_2': <function magellan.feature.tokenizers.tok_qgram>,\n",
       " 'qgm_3': <function magellan.feature.tokenizers.tok_qgram>}"
      ]
     },
     "execution_count": 6,
     "output_type": "execute_result",
     "metadata": {}
    }
   ],
   "source": [
    "mg._block_t"
   ]
  },
  {
   "cell_type": "code",
   "execution_count": 7,
   "metadata": {},
   "outputs": [],
   "source": [
    "import six"
   ]
  },
  {
   "cell_type": "code",
   "execution_count": 8,
   "metadata": {},
   "outputs": [],
   "source": [
    "xx = \"\"\"\n",
    "def temp__(ltuple, rtuple):\n",
    "    return lev(ltuple.name, rtuple.name)\n",
    "\"\"\""
   ]
  },
  {
   "cell_type": "code",
   "execution_count": 9,
   "metadata": {},
   "outputs": [],
   "source": [
    "t = {}\n",
    "t.update(mg._block_s)\n",
    "t.update(mg._block_t)"
   ]
  },
  {
   "cell_type": "code",
   "execution_count": 10,
   "metadata": {},
   "outputs": [],
   "source": [
    "feat_dict = mg.get_feature_fn('lev(ltuple[\"name\"], rtuple[\"name\"])', mg._block_t, mg._block_s)"
   ]
  },
  {
   "cell_type": "code",
   "execution_count": 11,
   "metadata": {},
   "outputs": [
    {
     "name": "stdout",
     "output_type": "stream",
     "text": [
      "Help on function add_feature in module magellan.feature.addfeatures:\n",
      "\n",
      "add_feature(feat_table, feat_name, feat_dict)\n",
      "\n"
     ]
    }
   ],
   "source": [
    "help(mg.add_feature)"
   ]
  },
  {
   "cell_type": "code",
   "execution_count": 12,
   "metadata": {},
   "outputs": [
    {
     "data": {
      "text/plain": [
       "{'function': <function fn>,\n",
       " 'function_source': 'def fn(ltuple, rtuple):\\n    return lev(ltuple[\"name\"], rtuple[\"name\"])',\n",
       " 'left_attr_tokenizer': 'PARSE_EXP',\n",
       " 'left_attribute': 'name',\n",
       " 'right_attr_tokenizer': 'PARSE_EXP',\n",
       " 'right_attribute': 'name',\n",
       " 'simfunction': 'lev'}"
      ]
     },
     "execution_count": 12,
     "output_type": "execute_result",
     "metadata": {}
    }
   ],
   "source": [
    "feat_dict"
   ]
  },
  {
   "cell_type": "code",
   "execution_count": 13,
   "metadata": {},
   "outputs": [
    {
     "data": {
      "text/plain": [
       "True"
      ]
     },
     "execution_count": 13,
     "output_type": "execute_result",
     "metadata": {}
    }
   ],
   "source": [
    "mg.add_feature(feature_table, 'lev_name_name1', feat_dict)"
   ]
  },
  {
   "cell_type": "code",
   "execution_count": null,
   "metadata": {},
   "outputs": [],
   "source": [
    ""
   ]
  },
  {
   "cell_type": "code",
   "execution_count": 14,
   "metadata": {},
   "outputs": [
    {
     "data": {
      "text/html": [
       "<div>\n",
       "<table border=\"1\" class=\"dataframe\">\n",
       "  <thead>\n",
       "    <tr style=\"text-align: right;\">\n",
       "      <th></th>\n",
       "      <th>feature_name</th>\n",
       "      <th>left_attribute</th>\n",
       "      <th>right_attribute</th>\n",
       "      <th>left_attr_tokenizer</th>\n",
       "      <th>right_attr_tokenizer</th>\n",
       "      <th>simfunction</th>\n",
       "      <th>function</th>\n",
       "      <th>function_source</th>\n",
       "    </tr>\n",
       "  </thead>\n",
       "  <tbody>\n",
       "    <tr>\n",
       "      <th>0</th>\n",
       "      <td>ID_ID_exm</td>\n",
       "      <td>ID</td>\n",
       "      <td>ID</td>\n",
       "      <td>None</td>\n",
       "      <td>None</td>\n",
       "      <td>exact_match</td>\n",
       "      <td>&lt;function ID_ID_exm at 0x109dbfed8&gt;</td>\n",
       "      <td>from magellan.feature.simfunctions import *\\nf...</td>\n",
       "    </tr>\n",
       "    <tr>\n",
       "      <th>1</th>\n",
       "      <td>ID_ID_anm</td>\n",
       "      <td>ID</td>\n",
       "      <td>ID</td>\n",
       "      <td>None</td>\n",
       "      <td>None</td>\n",
       "      <td>abs_norm</td>\n",
       "      <td>&lt;function ID_ID_anm at 0x109dbff50&gt;</td>\n",
       "      <td>from magellan.feature.simfunctions import *\\nf...</td>\n",
       "    </tr>\n",
       "    <tr>\n",
       "      <th>2</th>\n",
       "      <td>ID_ID_lev</td>\n",
       "      <td>ID</td>\n",
       "      <td>ID</td>\n",
       "      <td>None</td>\n",
       "      <td>None</td>\n",
       "      <td>lev</td>\n",
       "      <td>&lt;function ID_ID_lev at 0x109dd7050&gt;</td>\n",
       "      <td>from magellan.feature.simfunctions import *\\nf...</td>\n",
       "    </tr>\n",
       "    <tr>\n",
       "      <th>3</th>\n",
       "      <td>name_name_exm</td>\n",
       "      <td>name</td>\n",
       "      <td>name</td>\n",
       "      <td>None</td>\n",
       "      <td>None</td>\n",
       "      <td>exact_match</td>\n",
       "      <td>&lt;function name_name_exm at 0x109dd70c8&gt;</td>\n",
       "      <td>from magellan.feature.simfunctions import *\\nf...</td>\n",
       "    </tr>\n",
       "    <tr>\n",
       "      <th>4</th>\n",
       "      <td>name_name_anm</td>\n",
       "      <td>name</td>\n",
       "      <td>name</td>\n",
       "      <td>None</td>\n",
       "      <td>None</td>\n",
       "      <td>abs_norm</td>\n",
       "      <td>&lt;function name_name_anm at 0x109dd7140&gt;</td>\n",
       "      <td>from magellan.feature.simfunctions import *\\nf...</td>\n",
       "    </tr>\n",
       "    <tr>\n",
       "      <th>5</th>\n",
       "      <td>name_name_lev</td>\n",
       "      <td>name</td>\n",
       "      <td>name</td>\n",
       "      <td>None</td>\n",
       "      <td>None</td>\n",
       "      <td>lev</td>\n",
       "      <td>&lt;function name_name_lev at 0x109dd71b8&gt;</td>\n",
       "      <td>from magellan.feature.simfunctions import *\\nf...</td>\n",
       "    </tr>\n",
       "    <tr>\n",
       "      <th>6</th>\n",
       "      <td>birth_year_birth_year_exm</td>\n",
       "      <td>birth_year</td>\n",
       "      <td>birth_year</td>\n",
       "      <td>None</td>\n",
       "      <td>None</td>\n",
       "      <td>exact_match</td>\n",
       "      <td>&lt;function birth_year_birth_year_exm at 0x109dd...</td>\n",
       "      <td>from magellan.feature.simfunctions import *\\nf...</td>\n",
       "    </tr>\n",
       "    <tr>\n",
       "      <th>7</th>\n",
       "      <td>birth_year_birth_year_anm</td>\n",
       "      <td>birth_year</td>\n",
       "      <td>birth_year</td>\n",
       "      <td>None</td>\n",
       "      <td>None</td>\n",
       "      <td>abs_norm</td>\n",
       "      <td>&lt;function birth_year_birth_year_anm at 0x109dd...</td>\n",
       "      <td>from magellan.feature.simfunctions import *\\nf...</td>\n",
       "    </tr>\n",
       "    <tr>\n",
       "      <th>8</th>\n",
       "      <td>birth_year_birth_year_lev</td>\n",
       "      <td>birth_year</td>\n",
       "      <td>birth_year</td>\n",
       "      <td>None</td>\n",
       "      <td>None</td>\n",
       "      <td>lev</td>\n",
       "      <td>&lt;function birth_year_birth_year_lev at 0x109dd...</td>\n",
       "      <td>from magellan.feature.simfunctions import *\\nf...</td>\n",
       "    </tr>\n",
       "    <tr>\n",
       "      <th>9</th>\n",
       "      <td>hourly_wage_hourly_wage_exm</td>\n",
       "      <td>hourly_wage</td>\n",
       "      <td>hourly_wage</td>\n",
       "      <td>None</td>\n",
       "      <td>None</td>\n",
       "      <td>exact_match</td>\n",
       "      <td>&lt;function hourly_wage_hourly_wage_exm at 0x109...</td>\n",
       "      <td>from magellan.feature.simfunctions import *\\nf...</td>\n",
       "    </tr>\n",
       "    <tr>\n",
       "      <th>10</th>\n",
       "      <td>hourly_wage_hourly_wage_anm</td>\n",
       "      <td>hourly_wage</td>\n",
       "      <td>hourly_wage</td>\n",
       "      <td>None</td>\n",
       "      <td>None</td>\n",
       "      <td>abs_norm</td>\n",
       "      <td>&lt;function hourly_wage_hourly_wage_anm at 0x109...</td>\n",
       "      <td>from magellan.feature.simfunctions import *\\nf...</td>\n",
       "    </tr>\n",
       "    <tr>\n",
       "      <th>11</th>\n",
       "      <td>hourly_wage_hourly_wage_lev</td>\n",
       "      <td>hourly_wage</td>\n",
       "      <td>hourly_wage</td>\n",
       "      <td>None</td>\n",
       "      <td>None</td>\n",
       "      <td>lev</td>\n",
       "      <td>&lt;function hourly_wage_hourly_wage_lev at 0x109...</td>\n",
       "      <td>from magellan.feature.simfunctions import *\\nf...</td>\n",
       "    </tr>\n",
       "    <tr>\n",
       "      <th>12</th>\n",
       "      <td>address_address_exm</td>\n",
       "      <td>address</td>\n",
       "      <td>address</td>\n",
       "      <td>None</td>\n",
       "      <td>None</td>\n",
       "      <td>exact_match</td>\n",
       "      <td>&lt;function address_address_exm at 0x109dd7500&gt;</td>\n",
       "      <td>from magellan.feature.simfunctions import *\\nf...</td>\n",
       "    </tr>\n",
       "    <tr>\n",
       "      <th>13</th>\n",
       "      <td>address_address_anm</td>\n",
       "      <td>address</td>\n",
       "      <td>address</td>\n",
       "      <td>None</td>\n",
       "      <td>None</td>\n",
       "      <td>abs_norm</td>\n",
       "      <td>&lt;function address_address_anm at 0x109dd7578&gt;</td>\n",
       "      <td>from magellan.feature.simfunctions import *\\nf...</td>\n",
       "    </tr>\n",
       "    <tr>\n",
       "      <th>14</th>\n",
       "      <td>address_address_lev</td>\n",
       "      <td>address</td>\n",
       "      <td>address</td>\n",
       "      <td>None</td>\n",
       "      <td>None</td>\n",
       "      <td>lev</td>\n",
       "      <td>&lt;function address_address_lev at 0x109dd75f0&gt;</td>\n",
       "      <td>from magellan.feature.simfunctions import *\\nf...</td>\n",
       "    </tr>\n",
       "    <tr>\n",
       "      <th>15</th>\n",
       "      <td>zipcode_zipcode_exm</td>\n",
       "      <td>zipcode</td>\n",
       "      <td>zipcode</td>\n",
       "      <td>None</td>\n",
       "      <td>None</td>\n",
       "      <td>exact_match</td>\n",
       "      <td>&lt;function zipcode_zipcode_exm at 0x109dd7668&gt;</td>\n",
       "      <td>from magellan.feature.simfunctions import *\\nf...</td>\n",
       "    </tr>\n",
       "    <tr>\n",
       "      <th>16</th>\n",
       "      <td>zipcode_zipcode_anm</td>\n",
       "      <td>zipcode</td>\n",
       "      <td>zipcode</td>\n",
       "      <td>None</td>\n",
       "      <td>None</td>\n",
       "      <td>abs_norm</td>\n",
       "      <td>&lt;function zipcode_zipcode_anm at 0x109dd76e0&gt;</td>\n",
       "      <td>from magellan.feature.simfunctions import *\\nf...</td>\n",
       "    </tr>\n",
       "    <tr>\n",
       "      <th>17</th>\n",
       "      <td>zipcode_zipcode_lev</td>\n",
       "      <td>zipcode</td>\n",
       "      <td>zipcode</td>\n",
       "      <td>None</td>\n",
       "      <td>None</td>\n",
       "      <td>lev</td>\n",
       "      <td>&lt;function zipcode_zipcode_lev at 0x109dd7758&gt;</td>\n",
       "      <td>from magellan.feature.simfunctions import *\\nf...</td>\n",
       "    </tr>\n",
       "    <tr>\n",
       "      <th>18</th>\n",
       "      <td>lev_name_name1</td>\n",
       "      <td>name</td>\n",
       "      <td>name</td>\n",
       "      <td>PARSE_EXP</td>\n",
       "      <td>PARSE_EXP</td>\n",
       "      <td>lev</td>\n",
       "      <td>&lt;function fn at 0x109dd7b18&gt;</td>\n",
       "      <td>def fn(ltuple, rtuple):\\n    return lev(ltuple...</td>\n",
       "    </tr>\n",
       "  </tbody>\n",
       "</table>\n",
       "</div>"
      ]
     },
     "output_type": "execute_result",
     "metadata": {}
    }
   ],
   "source": [
    "feature_table"
   ]
  },
  {
   "cell_type": "code",
   "execution_count": 15,
   "metadata": {},
   "outputs": [
    {
     "data": {
      "text/plain": [
       "{'feature_name': 'lev_name_name1',\n",
       " 'function': <function fn>,\n",
       " 'function_source': 'def fn(ltuple, rtuple):\\n    return lev(ltuple[\"name\"], rtuple[\"name\"])',\n",
       " 'left_attr_tokenizer': 'PARSE_EXP',\n",
       " 'left_attribute': 'name',\n",
       " 'right_attr_tokenizer': 'PARSE_EXP',\n",
       " 'right_attribute': 'name',\n",
       " 'simfunction': 'lev'}"
      ]
     },
     "execution_count": 15,
     "output_type": "execute_result",
     "metadata": {}
    }
   ],
   "source": [
    "feat_dict"
   ]
  },
  {
   "cell_type": "code",
   "execution_count": 16,
   "metadata": {},
   "outputs": [
    {
     "data": {
      "text/plain": [
       "4"
      ]
     },
     "execution_count": 16,
     "output_type": "execute_result",
     "metadata": {}
    }
   ],
   "source": [
    "feature_table.ix[18, 'function'](A.ix[1], B.ix[2])"
   ]
  }
 ],
 "metadata": {
  "kernelspec": {
   "display_name": "Python 2",
   "language": "python",
   "name": "python2"
  },
  "language_info": {
   "codemirror_mode": {
    "name": "ipython",
    "version": 2.0
   },
   "file_extension": ".py",
   "mimetype": "text/x-python",
   "name": "python",
   "nbconvert_exporter": "python",
   "pygments_lexer": "ipython2",
   "version": "2.7.11"
  }
 },
 "nbformat": 4,
 "nbformat_minor": 0
}