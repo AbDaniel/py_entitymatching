{
 "cells": [
  {
   "cell_type": "code",
   "execution_count": 1,
   "metadata": {
    "collapsed": true
   },
   "outputs": [],
   "source": [
    "%load_ext autotime"
   ]
  },
  {
   "cell_type": "code",
   "execution_count": 2,
   "metadata": {
    "collapsed": false
   },
   "outputs": [
    {
     "name": "stdout",
     "output_type": "stream",
     "text": [
      "time: 106 ms\n"
     ]
    }
   ],
   "source": [
    "import sys\n",
    "sys.path.append('/scratch/pradap/python-work/magellan')"
   ]
  },
  {
   "cell_type": "code",
   "execution_count": 3,
   "metadata": {
    "collapsed": false
   },
   "outputs": [
    {
     "name": "stderr",
     "output_type": "stream",
     "text": [
      "DEBUG:Cloud:Log file (/u/p/r/pradap/.picloud/cloud.log) opened\n"
     ]
    },
    {
     "name": "stdout",
     "output_type": "stream",
     "text": [
      "time: 668 ms\n"
     ]
    }
   ],
   "source": [
    "import magellan as mg"
   ]
  },
  {
   "cell_type": "code",
   "execution_count": 4,
   "metadata": {
    "collapsed": false
   },
   "outputs": [
    {
     "name": "stdout",
     "output_type": "stream",
     "text": [
      "time: 4.43 ms\n"
     ]
    }
   ],
   "source": [
    "A = mg.load_dataset('table_A')\n",
    "B = mg.load_dataset('table_B')"
   ]
  },
  {
   "cell_type": "code",
   "execution_count": 11,
   "metadata": {
    "collapsed": false
   },
   "outputs": [
    {
     "name": "stdout",
     "output_type": "stream",
     "text": [
      "time: 7.23 ms\n"
     ]
    }
   ],
   "source": [
    "ab = mg.AttrEquivalenceBlocker()\n",
    "C = ab.block_tables(A, B, 'zipcode', 'zipcode', ['name', 'address'], ['name', 'address'])"
   ]
  },
  {
   "cell_type": "code",
   "execution_count": 6,
   "metadata": {
    "collapsed": false
   },
   "outputs": [
    {
     "name": "stdout",
     "output_type": "stream",
     "text": [
      "time: 77.1 ms\n"
     ]
    }
   ],
   "source": [
    "from magellan.utils.generic_helper import add_output_attributes"
   ]
  },
  {
   "cell_type": "code",
   "execution_count": 12,
   "metadata": {
    "collapsed": false
   },
   "outputs": [
    {
     "name": "stdout",
     "output_type": "stream",
     "text": [
      "time: 8.83 ms\n"
     ]
    }
   ],
   "source": [
    "C = add_output_attributes(C, ['name', 'address'], ['name', 'address'])"
   ]
  },
  {
   "cell_type": "code",
   "execution_count": 8,
   "metadata": {
    "collapsed": false
   },
   "outputs": [
    {
     "data": {
      "text/html": [
       "<div>\n",
       "<table border=\"1\" class=\"dataframe\">\n",
       "  <thead>\n",
       "    <tr style=\"text-align: right;\">\n",
       "      <th></th>\n",
       "      <th>_id</th>\n",
       "      <th>ltable_ID</th>\n",
       "      <th>rtable_ID</th>\n",
       "      <th>ltable_name</th>\n",
       "      <th>ltable_address</th>\n",
       "      <th>rtable_name</th>\n",
       "      <th>rtable_address</th>\n",
       "    </tr>\n",
       "  </thead>\n",
       "  <tbody>\n",
       "    <tr>\n",
       "      <th>0</th>\n",
       "      <td>0</td>\n",
       "      <td>a1</td>\n",
       "      <td>b1</td>\n",
       "      <td>Kevin Smith</td>\n",
       "      <td>607 From St, San Francisco</td>\n",
       "      <td>Mark Levene</td>\n",
       "      <td>108 Clement St, San Francisco</td>\n",
       "    </tr>\n",
       "    <tr>\n",
       "      <th>1</th>\n",
       "      <td>1</td>\n",
       "      <td>a1</td>\n",
       "      <td>b2</td>\n",
       "      <td>Kevin Smith</td>\n",
       "      <td>607 From St, San Francisco</td>\n",
       "      <td>Bill Bridge</td>\n",
       "      <td>3131 Webster St, San Francisco</td>\n",
       "    </tr>\n",
       "    <tr>\n",
       "      <th>2</th>\n",
       "      <td>2</td>\n",
       "      <td>a1</td>\n",
       "      <td>b6</td>\n",
       "      <td>Kevin Smith</td>\n",
       "      <td>607 From St, San Francisco</td>\n",
       "      <td>Michael Brodie</td>\n",
       "      <td>133 Clement Street, San Francisco</td>\n",
       "    </tr>\n",
       "    <tr>\n",
       "      <th>3</th>\n",
       "      <td>3</td>\n",
       "      <td>a3</td>\n",
       "      <td>b1</td>\n",
       "      <td>William Bridge</td>\n",
       "      <td>3131 Webster St, San Francisco</td>\n",
       "      <td>Mark Levene</td>\n",
       "      <td>108 Clement St, San Francisco</td>\n",
       "    </tr>\n",
       "    <tr>\n",
       "      <th>4</th>\n",
       "      <td>4</td>\n",
       "      <td>a3</td>\n",
       "      <td>b2</td>\n",
       "      <td>William Bridge</td>\n",
       "      <td>3131 Webster St, San Francisco</td>\n",
       "      <td>Bill Bridge</td>\n",
       "      <td>3131 Webster St, San Francisco</td>\n",
       "    </tr>\n",
       "    <tr>\n",
       "      <th>5</th>\n",
       "      <td>5</td>\n",
       "      <td>a3</td>\n",
       "      <td>b6</td>\n",
       "      <td>William Bridge</td>\n",
       "      <td>3131 Webster St, San Francisco</td>\n",
       "      <td>Michael Brodie</td>\n",
       "      <td>133 Clement Street, San Francisco</td>\n",
       "    </tr>\n",
       "    <tr>\n",
       "      <th>6</th>\n",
       "      <td>6</td>\n",
       "      <td>a2</td>\n",
       "      <td>b3</td>\n",
       "      <td>Michael Franklin</td>\n",
       "      <td>1652 Stockton St, San Francisco</td>\n",
       "      <td>Mike Franklin</td>\n",
       "      <td>1652 Stockton St, San Francisco</td>\n",
       "    </tr>\n",
       "    <tr>\n",
       "      <th>7</th>\n",
       "      <td>7</td>\n",
       "      <td>a2</td>\n",
       "      <td>b4</td>\n",
       "      <td>Michael Franklin</td>\n",
       "      <td>1652 Stockton St, San Francisco</td>\n",
       "      <td>Joseph Kuan</td>\n",
       "      <td>108 South Park, San Francisco</td>\n",
       "    </tr>\n",
       "    <tr>\n",
       "      <th>8</th>\n",
       "      <td>8</td>\n",
       "      <td>a2</td>\n",
       "      <td>b5</td>\n",
       "      <td>Michael Franklin</td>\n",
       "      <td>1652 Stockton St, San Francisco</td>\n",
       "      <td>Alfons Kemper</td>\n",
       "      <td>170 Post St, Apt 4,  San Francisco</td>\n",
       "    </tr>\n",
       "    <tr>\n",
       "      <th>9</th>\n",
       "      <td>9</td>\n",
       "      <td>a4</td>\n",
       "      <td>b3</td>\n",
       "      <td>Binto George</td>\n",
       "      <td>423 Powell St, San Francisco</td>\n",
       "      <td>Mike Franklin</td>\n",
       "      <td>1652 Stockton St, San Francisco</td>\n",
       "    </tr>\n",
       "    <tr>\n",
       "      <th>10</th>\n",
       "      <td>10</td>\n",
       "      <td>a4</td>\n",
       "      <td>b4</td>\n",
       "      <td>Binto George</td>\n",
       "      <td>423 Powell St, San Francisco</td>\n",
       "      <td>Joseph Kuan</td>\n",
       "      <td>108 South Park, San Francisco</td>\n",
       "    </tr>\n",
       "    <tr>\n",
       "      <th>11</th>\n",
       "      <td>11</td>\n",
       "      <td>a4</td>\n",
       "      <td>b5</td>\n",
       "      <td>Binto George</td>\n",
       "      <td>423 Powell St, San Francisco</td>\n",
       "      <td>Alfons Kemper</td>\n",
       "      <td>170 Post St, Apt 4,  San Francisco</td>\n",
       "    </tr>\n",
       "    <tr>\n",
       "      <th>12</th>\n",
       "      <td>12</td>\n",
       "      <td>a5</td>\n",
       "      <td>b3</td>\n",
       "      <td>Alphonse Kemper</td>\n",
       "      <td>1702 Post Street, San Francisco</td>\n",
       "      <td>Mike Franklin</td>\n",
       "      <td>1652 Stockton St, San Francisco</td>\n",
       "    </tr>\n",
       "    <tr>\n",
       "      <th>13</th>\n",
       "      <td>13</td>\n",
       "      <td>a5</td>\n",
       "      <td>b4</td>\n",
       "      <td>Alphonse Kemper</td>\n",
       "      <td>1702 Post Street, San Francisco</td>\n",
       "      <td>Joseph Kuan</td>\n",
       "      <td>108 South Park, San Francisco</td>\n",
       "    </tr>\n",
       "    <tr>\n",
       "      <th>14</th>\n",
       "      <td>14</td>\n",
       "      <td>a5</td>\n",
       "      <td>b5</td>\n",
       "      <td>Alphonse Kemper</td>\n",
       "      <td>1702 Post Street, San Francisco</td>\n",
       "      <td>Alfons Kemper</td>\n",
       "      <td>170 Post St, Apt 4,  San Francisco</td>\n",
       "    </tr>\n",
       "  </tbody>\n",
       "</table>\n",
       "</div>"
      ],
      "text/plain": [
       "    _id ltable_ID rtable_ID       ltable_name  \\\n",
       "0     0        a1        b1       Kevin Smith   \n",
       "1     1        a1        b2       Kevin Smith   \n",
       "2     2        a1        b6       Kevin Smith   \n",
       "3     3        a3        b1    William Bridge   \n",
       "4     4        a3        b2    William Bridge   \n",
       "5     5        a3        b6    William Bridge   \n",
       "6     6        a2        b3  Michael Franklin   \n",
       "7     7        a2        b4  Michael Franklin   \n",
       "8     8        a2        b5  Michael Franklin   \n",
       "9     9        a4        b3      Binto George   \n",
       "10   10        a4        b4      Binto George   \n",
       "11   11        a4        b5      Binto George   \n",
       "12   12        a5        b3   Alphonse Kemper   \n",
       "13   13        a5        b4   Alphonse Kemper   \n",
       "14   14        a5        b5   Alphonse Kemper   \n",
       "\n",
       "                     ltable_address     rtable_name  \\\n",
       "0        607 From St, San Francisco     Mark Levene   \n",
       "1        607 From St, San Francisco     Bill Bridge   \n",
       "2        607 From St, San Francisco  Michael Brodie   \n",
       "3    3131 Webster St, San Francisco     Mark Levene   \n",
       "4    3131 Webster St, San Francisco     Bill Bridge   \n",
       "5    3131 Webster St, San Francisco  Michael Brodie   \n",
       "6   1652 Stockton St, San Francisco   Mike Franklin   \n",
       "7   1652 Stockton St, San Francisco     Joseph Kuan   \n",
       "8   1652 Stockton St, San Francisco   Alfons Kemper   \n",
       "9      423 Powell St, San Francisco   Mike Franklin   \n",
       "10     423 Powell St, San Francisco     Joseph Kuan   \n",
       "11     423 Powell St, San Francisco   Alfons Kemper   \n",
       "12  1702 Post Street, San Francisco   Mike Franklin   \n",
       "13  1702 Post Street, San Francisco     Joseph Kuan   \n",
       "14  1702 Post Street, San Francisco   Alfons Kemper   \n",
       "\n",
       "                        rtable_address  \n",
       "0        108 Clement St, San Francisco  \n",
       "1       3131 Webster St, San Francisco  \n",
       "2    133 Clement Street, San Francisco  \n",
       "3        108 Clement St, San Francisco  \n",
       "4       3131 Webster St, San Francisco  \n",
       "5    133 Clement Street, San Francisco  \n",
       "6      1652 Stockton St, San Francisco  \n",
       "7        108 South Park, San Francisco  \n",
       "8   170 Post St, Apt 4,  San Francisco  \n",
       "9      1652 Stockton St, San Francisco  \n",
       "10       108 South Park, San Francisco  \n",
       "11  170 Post St, Apt 4,  San Francisco  \n",
       "12     1652 Stockton St, San Francisco  \n",
       "13       108 South Park, San Francisco  \n",
       "14  170 Post St, Apt 4,  San Francisco  "
      ]
     },
     "execution_count": 8,
     "metadata": {},
     "output_type": "execute_result"
    },
    {
     "name": "stdout",
     "output_type": "stream",
     "text": [
      "time: 28.4 ms\n"
     ]
    }
   ],
   "source": [
    "C"
   ]
  },
  {
   "cell_type": "code",
   "execution_count": 10,
   "metadata": {
    "collapsed": false
   },
   "outputs": [
    {
     "data": {
      "text/plain": [
       "3"
      ]
     },
     "execution_count": 10,
     "metadata": {},
     "output_type": "execute_result"
    },
    {
     "name": "stdout",
     "output_type": "stream",
     "text": [
      "time: 1.5 ms\n"
     ]
    }
   ],
   "source": [
    "mg.get_catalog_len()"
   ]
  },
  {
   "cell_type": "code",
   "execution_count": 20,
   "metadata": {
    "collapsed": false
   },
   "outputs": [
    {
     "name": "stderr",
     "output_type": "stream",
     "text": [
      "0%  100%\n",
      "[######] | ETA[sec]: 0.000 "
     ]
    },
    {
     "name": "stdout",
     "output_type": "stream",
     "text": [
      "time: 38.9 ms\n"
     ]
    },
    {
     "name": "stderr",
     "output_type": "stream",
     "text": [
      "\n",
      "Total time elapsed: 0.021 sec\n"
     ]
    }
   ],
   "source": [
    "ob = mg.OverlapBlocker()\n",
    "D = ob.block_tables(A, B, 'address', 'address')"
   ]
  },
  {
   "cell_type": "code",
   "execution_count": 21,
   "metadata": {
    "collapsed": false
   },
   "outputs": [
    {
     "name": "stdout",
     "output_type": "stream",
     "text": [
      "time: 962 µs\n"
     ]
    }
   ],
   "source": [
    "D.reset_index(inplace=True, drop=True)"
   ]
  },
  {
   "cell_type": "code",
   "execution_count": 24,
   "metadata": {
    "collapsed": false
   },
   "outputs": [
    {
     "data": {
      "text/html": [
       "<div>\n",
       "<table border=\"1\" class=\"dataframe\">\n",
       "  <thead>\n",
       "    <tr style=\"text-align: right;\">\n",
       "      <th></th>\n",
       "      <th>ltable_ID</th>\n",
       "      <th>rtable_ID</th>\n",
       "    </tr>\n",
       "  </thead>\n",
       "  <tbody>\n",
       "    <tr>\n",
       "      <th>0</th>\n",
       "      <td>a1</td>\n",
       "      <td>b1</td>\n",
       "    </tr>\n",
       "    <tr>\n",
       "      <th>1</th>\n",
       "      <td>a1</td>\n",
       "      <td>b2</td>\n",
       "    </tr>\n",
       "    <tr>\n",
       "      <th>2</th>\n",
       "      <td>a1</td>\n",
       "      <td>b6</td>\n",
       "    </tr>\n",
       "    <tr>\n",
       "      <th>3</th>\n",
       "      <td>a3</td>\n",
       "      <td>b1</td>\n",
       "    </tr>\n",
       "    <tr>\n",
       "      <th>4</th>\n",
       "      <td>a3</td>\n",
       "      <td>b2</td>\n",
       "    </tr>\n",
       "    <tr>\n",
       "      <th>5</th>\n",
       "      <td>a3</td>\n",
       "      <td>b6</td>\n",
       "    </tr>\n",
       "    <tr>\n",
       "      <th>6</th>\n",
       "      <td>a2</td>\n",
       "      <td>b3</td>\n",
       "    </tr>\n",
       "    <tr>\n",
       "      <th>7</th>\n",
       "      <td>a2</td>\n",
       "      <td>b4</td>\n",
       "    </tr>\n",
       "    <tr>\n",
       "      <th>8</th>\n",
       "      <td>a2</td>\n",
       "      <td>b5</td>\n",
       "    </tr>\n",
       "    <tr>\n",
       "      <th>9</th>\n",
       "      <td>a4</td>\n",
       "      <td>b3</td>\n",
       "    </tr>\n",
       "    <tr>\n",
       "      <th>10</th>\n",
       "      <td>a4</td>\n",
       "      <td>b4</td>\n",
       "    </tr>\n",
       "    <tr>\n",
       "      <th>11</th>\n",
       "      <td>a4</td>\n",
       "      <td>b5</td>\n",
       "    </tr>\n",
       "    <tr>\n",
       "      <th>12</th>\n",
       "      <td>a5</td>\n",
       "      <td>b3</td>\n",
       "    </tr>\n",
       "    <tr>\n",
       "      <th>13</th>\n",
       "      <td>a5</td>\n",
       "      <td>b4</td>\n",
       "    </tr>\n",
       "    <tr>\n",
       "      <th>14</th>\n",
       "      <td>a5</td>\n",
       "      <td>b5</td>\n",
       "    </tr>\n",
       "  </tbody>\n",
       "</table>\n",
       "</div>"
      ],
      "text/plain": [
       "   ltable_ID rtable_ID\n",
       "0         a1        b1\n",
       "1         a1        b2\n",
       "2         a1        b6\n",
       "3         a3        b1\n",
       "4         a3        b2\n",
       "5         a3        b6\n",
       "6         a2        b3\n",
       "7         a2        b4\n",
       "8         a2        b5\n",
       "9         a4        b3\n",
       "10        a4        b4\n",
       "11        a4        b5\n",
       "12        a5        b3\n",
       "13        a5        b4\n",
       "14        a5        b5"
      ]
     },
     "execution_count": 24,
     "metadata": {},
     "output_type": "execute_result"
    },
    {
     "name": "stdout",
     "output_type": "stream",
     "text": [
      "time: 9.64 ms\n"
     ]
    }
   ],
   "source": [
    "pd.conC[['ltable_ID', 'rtable_ID']]"
   ]
  }
 ],
 "metadata": {
  "kernelspec": {
   "display_name": "Python 2",
   "language": "python",
   "name": "python2"
  },
  "language_info": {
   "codemirror_mode": {
    "name": "ipython",
    "version": 2
   },
   "file_extension": ".py",
   "mimetype": "text/x-python",
   "name": "python",
   "nbconvert_exporter": "python",
   "pygments_lexer": "ipython2",
   "version": "2.7.11"
  }
 },
 "nbformat": 4,
 "nbformat_minor": 0
}
