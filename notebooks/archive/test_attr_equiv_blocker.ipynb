{
 "cells": [
  {
   "cell_type": "code",
   "execution_count": 1,
   "metadata": {},
   "outputs": [],
   "source": [
    "%load_ext autotime"
   ]
  },
  {
   "cell_type": "code",
   "execution_count": 2,
   "metadata": {},
   "outputs": [
    {
     "name": "stdout",
     "output_type": "stream",
     "text": [
      "time: 1.38 ms\n"
     ]
    }
   ],
   "source": [
    "import sys\n",
    "#sys.path.append('/scratch/pradap/python-work/magellan/')\n",
    "sys.path.append('/Users/pradap/Documents/Research/Python-Package/anhaid/magellan/')"
   ]
  },
  {
   "cell_type": "code",
   "execution_count": 3,
   "metadata": {},
   "outputs": [
    {
     "name": "stderr",
     "output_type": "stream",
     "text": [
      "DEBUG:Cloud:Log file (/Users/pradap/.picloud/cloud.log) opened\n"
     ]
    },
    {
     "name": "stdout",
     "output_type": "stream",
     "text": [
      "time: 1.69 s\n"
     ]
    }
   ],
   "source": [
    "import magellan as mg"
   ]
  },
  {
   "cell_type": "code",
   "execution_count": 4,
   "metadata": {},
   "outputs": [
    {
     "name": "stdout",
     "output_type": "stream",
     "text": [
      "time: 5.55 ms\n"
     ]
    }
   ],
   "source": [
    "A = mg.load_dataset('table_A', key='ID')\n",
    "B = mg.load_dataset('table_B', key='ID')"
   ]
  },
  {
   "cell_type": "code",
   "execution_count": 5,
   "metadata": {},
   "outputs": [
    {
     "name": "stdout",
     "output_type": "stream",
     "text": [
      "time: 10.8 ms\n"
     ]
    }
   ],
   "source": [
    "ab = mg.AttrEquivalenceBlocker()\n",
    "C = ab.block_tables(A, B, 'zipcode', 'zipcode', l_output_attrs=['name', 'zipcode', 'birth_year'], \n",
    "                    r_output_attrs=['name', 'zipcode', 'birth_year'])"
   ]
  },
  {
   "cell_type": "code",
   "execution_count": 6,
   "metadata": {},
   "outputs": [
    {
     "data": {
      "text/plain": [
       "'/Users/pradap/Documents/Research/Python-Package/anhaid/magellan/magellan/datasets/test_datasets/io'"
      ]
     },
     "execution_count": 6,
     "output_type": "execute_result",
     "metadata": {}
    },
    {
     "name": "stdout",
     "output_type": "stream",
     "text": [
      "time: 10 ms\n"
     ]
    }
   ],
   "source": [
    "import os\n",
    "os.sep.join([mg.get_install_path(), 'datasets/test_datasets/io'])"
   ]
  },
  {
   "cell_type": "code",
   "execution_count": 7,
   "metadata": {},
   "outputs": [
    {
     "name": "stderr",
     "output_type": "stream",
     "text": [
      "WARNING:magellan.io.parsers:File already exists at /Users/pradap/Documents/Research/Python-Package/anhaid/magellan/magellan/datasets/test_datasets/io/C.csv; Overwriting it\n",
      "WARNING:magellan.io.parsers:Metadata file already exists at /Users/pradap/Documents/Research/Python-Package/anhaid/magellan/magellan/datasets/test_datasets/io/C.metadata. Overwriting it\n"
     ]
    },
    {
     "data": {
      "text/plain": [
       "True"
      ]
     },
     "execution_count": 7,
     "output_type": "execute_result",
     "metadata": {}
    },
    {
     "name": "stdout",
     "output_type": "stream",
     "text": [
      "time: 18.6 ms\n"
     ]
    }
   ],
   "source": [
    "mg.to_csv_metadata(C, os.sep.join([mg.get_install_path(), 'datasets/test_datasets/io/C.csv']))"
   ]
  },
  {
   "cell_type": "code",
   "execution_count": 11,
   "metadata": {},
   "outputs": [
    {
     "name": "stderr",
     "output_type": "stream",
     "text": [
      "0%           100%\n",
      "[###############] | ETA[sec]: 0.000 "
     ]
    },
    {
     "name": "stdout",
     "output_type": "stream",
     "text": [
      "time: 17 ms\n"
     ]
    },
    {
     "name": "stderr",
     "output_type": "stream",
     "text": [
      "\n",
      "Total time elapsed: 0.013 sec\n"
     ]
    }
   ],
   "source": [
    "D = ab.block_candset(C, 'birth_year', 'birth_year')"
   ]
  },
  {
   "cell_type": "code",
   "execution_count": 12,
   "metadata": {},
   "outputs": [
    {
     "data": {
      "text/html": [
       "<div>\n",
       "<table border=\"1\" class=\"dataframe\">\n",
       "  <thead>\n",
       "    <tr style=\"text-align: right;\">\n",
       "      <th></th>\n",
       "      <th>_id</th>\n",
       "      <th>ltable_ID</th>\n",
       "      <th>rtable_ID</th>\n",
       "      <th>ltable_name</th>\n",
       "      <th>ltable_zipcode</th>\n",
       "      <th>ltable_birth_year</th>\n",
       "      <th>rtable_name</th>\n",
       "      <th>rtable_zipcode</th>\n",
       "      <th>rtable_birth_year</th>\n",
       "    </tr>\n",
       "  </thead>\n",
       "  <tbody>\n",
       "    <tr>\n",
       "      <th>4</th>\n",
       "      <td>4</td>\n",
       "      <td>a3</td>\n",
       "      <td>b2</td>\n",
       "      <td>William Bridge</td>\n",
       "      <td>94107</td>\n",
       "      <td>1986</td>\n",
       "      <td>Bill Bridge</td>\n",
       "      <td>94107</td>\n",
       "      <td>1986</td>\n",
       "    </tr>\n",
       "    <tr>\n",
       "      <th>6</th>\n",
       "      <td>6</td>\n",
       "      <td>a2</td>\n",
       "      <td>b3</td>\n",
       "      <td>Michael Franklin</td>\n",
       "      <td>94122</td>\n",
       "      <td>1988</td>\n",
       "      <td>Mike Franklin</td>\n",
       "      <td>94122</td>\n",
       "      <td>1988</td>\n",
       "    </tr>\n",
       "    <tr>\n",
       "      <th>14</th>\n",
       "      <td>14</td>\n",
       "      <td>a5</td>\n",
       "      <td>b5</td>\n",
       "      <td>Alphonse Kemper</td>\n",
       "      <td>94122</td>\n",
       "      <td>1984</td>\n",
       "      <td>Alfons Kemper</td>\n",
       "      <td>94122</td>\n",
       "      <td>1984</td>\n",
       "    </tr>\n",
       "  </tbody>\n",
       "</table>\n",
       "</div>"
      ]
     },
     "output_type": "execute_result",
     "metadata": {}
    },
    {
     "name": "stdout",
     "output_type": "stream",
     "text": [
      "time: 11.7 ms\n"
     ]
    }
   ],
   "source": [
    "D"
   ]
  },
  {
   "cell_type": "code",
   "execution_count": 16,
   "metadata": {},
   "outputs": [
    {
     "data": {
      "text/plain": [
       "False"
      ]
     },
     "execution_count": 16,
     "output_type": "execute_result",
     "metadata": {}
    },
    {
     "name": "stdout",
     "output_type": "stream",
     "text": [
      "time: 2.46 ms\n"
     ]
    }
   ],
   "source": [
    "ab.block_tuples(A.ix[1], B.ix[2], 'zipcode', 'zipcode')"
   ]
  },
  {
   "cell_type": "code",
   "execution_count": 19,
   "metadata": {},
   "outputs": [
    {
     "data": {
      "text/plain": [
       "True"
      ]
     },
     "execution_count": 19,
     "output_type": "execute_result",
     "metadata": {}
    },
    {
     "name": "stdout",
     "output_type": "stream",
     "text": [
      "time: 2.34 ms\n"
     ]
    }
   ],
   "source": [
    "ab.block_tuples(A.ix[1], B.ix[1], 'zipcode', 'zipcode')"
   ]
  }
 ],
 "metadata": {
  "kernelspec": {
   "display_name": "Python 2",
   "language": "python",
   "name": "python2"
  },
  "language_info": {
   "codemirror_mode": {
    "name": "ipython",
    "version": 2.0
   },
   "file_extension": ".py",
   "mimetype": "text/x-python",
   "name": "python",
   "nbconvert_exporter": "python",
   "pygments_lexer": "ipython2",
   "version": "2.7.11"
  }
 },
 "nbformat": 4,
 "nbformat_minor": 0
}