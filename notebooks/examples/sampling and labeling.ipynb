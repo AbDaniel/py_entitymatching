{
 "cells": [
  {
   "cell_type": "code",
   "execution_count": 1,
   "metadata": {
    "collapsed": true
   },
   "outputs": [],
   "source": [
    "%load_ext autotime"
   ]
  },
  {
   "cell_type": "code",
   "execution_count": 2,
   "metadata": {
    "collapsed": false
   },
   "outputs": [
    {
     "name": "stdout",
     "output_type": "stream",
     "text": [
      "time: 592 µs\n"
     ]
    }
   ],
   "source": [
    "### imports and basic setup"
   ]
  },
  {
   "cell_type": "code",
   "execution_count": 3,
   "metadata": {
    "collapsed": false
   },
   "outputs": [
    {
     "name": "stdout",
     "output_type": "stream",
     "text": [
      "time: 4.63 ms\n"
     ]
    }
   ],
   "source": [
    "import imp # need to be done for python 3\n",
    "import logging\n",
    "imp.reload(logging)\n",
    "logging.basicConfig(format='%(asctime)s %(levelname)s:%(message)s', \n",
    "                    level=logging.DEBUG, datefmt='%I:%M:%S')"
   ]
  },
  {
   "cell_type": "code",
   "execution_count": 4,
   "metadata": {
    "collapsed": false
   },
   "outputs": [
    {
     "name": "stdout",
     "output_type": "stream",
     "text": [
      "time: 829 µs\n"
     ]
    }
   ],
   "source": [
    "import sys\n",
    "import os"
   ]
  },
  {
   "cell_type": "code",
   "execution_count": 5,
   "metadata": {
    "collapsed": false
   },
   "outputs": [
    {
     "name": "stdout",
     "output_type": "stream",
     "text": [
      "time: 843 µs\n"
     ]
    }
   ],
   "source": [
    "sys.path.append('/Users/pradap/Documents/Research/Python-Package/anhaid/magellan/')"
   ]
  },
  {
   "cell_type": "code",
   "execution_count": 6,
   "metadata": {
    "collapsed": false
   },
   "outputs": [
    {
     "name": "stdout",
     "output_type": "stream",
     "text": [
      "time: 2.11 s\n"
     ]
    }
   ],
   "source": [
    "import magellan as mg"
   ]
  },
  {
   "cell_type": "code",
   "execution_count": 7,
   "metadata": {
    "collapsed": false
   },
   "outputs": [
    {
     "name": "stdout",
     "output_type": "stream",
     "text": [
      "time: 1.45 ms\n"
     ]
    }
   ],
   "source": [
    "path_acm = os.sep.join(['data', 'ACM_demo.csv'])\n",
    "path_dblp = os.sep.join(['data', 'DBLP_demo.csv'])"
   ]
  },
  {
   "cell_type": "code",
   "execution_count": 10,
   "metadata": {
    "collapsed": false
   },
   "outputs": [
    {
     "name": "stderr",
     "output_type": "stream",
     "text": [
      "02:22:44 WARNING:Metadata file is not present in the given path; proceeding to read the csv file.\n",
      "02:22:44 WARNING:Metadata file is not present in the given path; proceeding to read the csv file.\n"
     ]
    },
    {
     "name": "stdout",
     "output_type": "stream",
     "text": [
      "time: 12.5 ms\n"
     ]
    }
   ],
   "source": [
    "A = mg.read_csv_metadata(path_acm, key='id')\n",
    "B = mg.read_csv_metadata(path_dblp, key='id')"
   ]
  },
  {
   "cell_type": "code",
   "execution_count": 12,
   "metadata": {
    "collapsed": false
   },
   "outputs": [
    {
     "name": "stderr",
     "output_type": "stream",
     "text": [
      "0%  100%\n",
      "[#####] | ETA: 00:00:00"
     ]
    },
    {
     "name": "stdout",
     "output_type": "stream",
     "text": [
      "time: 29.6 ms\n"
     ]
    },
    {
     "name": "stderr",
     "output_type": "stream",
     "text": [
      "\n",
      "Total time elapsed: 00:00:00\n"
     ]
    }
   ],
   "source": [
    "ab = mg.AttrEquivalenceBlocker()\n",
    "C = ab.block_tables(A, B, 'year', 'year', \n",
    "                   l_output_attrs = ['title', 'venue', 'authors'],\n",
    "                   r_output_attrs = ['title', 'venue', 'authors'],\n",
    "                   )"
   ]
  },
  {
   "cell_type": "code",
   "execution_count": 16,
   "metadata": {
    "collapsed": false
   },
   "outputs": [
    {
     "name": "stderr",
     "output_type": "stream",
     "text": [
      "0%                          100%\n",
      "[##############################] | ETA: 00:00:00"
     ]
    },
    {
     "name": "stdout",
     "output_type": "stream",
     "text": [
      "candset cols: Index(['_id', 'ltable_id', 'rtable_id'], dtype='object')\n",
      "retain_cols: ['ltable_id', 'rtable_id']\n",
      "time: 237 ms\n"
     ]
    },
    {
     "name": "stderr",
     "output_type": "stream",
     "text": [
      "\n",
      "Total time elapsed: 00:00:00\n"
     ]
    }
   ],
   "source": [
    "ob = mg.OverlapBlocker()\n",
    "D = ob.block_tables(A, B, 'authors', 'authors', word_level=True, overlap_size=1)"
   ]
  },
  {
   "cell_type": "code",
   "execution_count": 19,
   "metadata": {
    "collapsed": false
   },
   "outputs": [
    {
     "name": "stdout",
     "output_type": "stream",
     "text": [
      "time: 59.6 ms\n"
     ]
    }
   ],
   "source": [
    "E = mg.combine_blocker_outputs_via_union([C, D])"
   ]
  },
  {
   "cell_type": "code",
   "execution_count": 20,
   "metadata": {
    "collapsed": false
   },
   "outputs": [
    {
     "data": {
      "text/plain": [
       "25969"
      ]
     },
     "execution_count": 20,
     "metadata": {},
     "output_type": "execute_result"
    },
    {
     "name": "stdout",
     "output_type": "stream",
     "text": [
      "time: 2.11 ms\n"
     ]
    }
   ],
   "source": [
    "len(E)"
   ]
  },
  {
   "cell_type": "code",
   "execution_count": 22,
   "metadata": {
    "collapsed": false
   },
   "outputs": [
    {
     "name": "stdout",
     "output_type": "stream",
     "text": [
      "Help on function sample_table in module magellan.sampler.single_table:\n",
      "\n",
      "sample_table(table, sample_size, replace=False, verbose=False)\n",
      "    Sample a pandas DataFrame (for labeling purposes).\n",
      "    \n",
      "    This function samples a DataFrame, typically used for labeling\n",
      "    purposes. This function expects the input DataFrame containing the\n",
      "    metadata of a candidate set (such as key, fk_ltable, fk_rtable, ltable,\n",
      "    rtable). Specifically, this function creates a copy of the input\n",
      "    DataFrame, samples the data using uniform random sampling (uses 'random'\n",
      "    function from numpy to sample) and returns the sampled DataFrame.\n",
      "    Further, also copies the properties from the input DataFrame to the output\n",
      "    DataFrame.\n",
      "    \n",
      "    Args:\n",
      "        table (DataFrame): Input DataFrame to be sampled. Specifically,\n",
      "            a DataFrame containing the metadata of a candidate set (such as\n",
      "            key, fk_ltable, fk_rtable, ltable, rtable) in the catalog.\n",
      "        sample_size (int): Number of samples to be picked up from the input\n",
      "            DataFrame.\n",
      "        replace (boolean): Flag to indicate whether sampling should be done\n",
      "            with replacement or not (default value is False).\n",
      "        verbose (boolean): Flag to indicate whether more detailed information\n",
      "            about the execution steps should be printed out (default value is\n",
      "            False).\n",
      "    \n",
      "    Returns:\n",
      "        A new DataFrame with 'sample_size' number of rows. Further,\n",
      "        this function sets the output DataFrame's properties same as input\n",
      "        DataFrame.\n",
      "    \n",
      "    Raises:\n",
      "        AssertionError: If the input table is not of type pandas DataFrame.\n",
      "        AssertionError: If the input DataFrame size is 0.\n",
      "        AssertionError: If the sample_size is greater than the input\n",
      "            DataFrame size.\n",
      "    \n",
      "    Notes:\n",
      "        As mentioned in the above description, the output DataFrame is\n",
      "        updated (in the catalog) with the properties from the input\n",
      "        DataFrame. A subtle point to note here is, when the replace flag is\n",
      "        set to True, then the output  DataFrame can contain duplicate keys.\n",
      "        In that case, this function  will not set the key and it is up to\n",
      "        the user to fix it after the function returns.\n",
      "\n",
      "time: 1.12 ms\n"
     ]
    }
   ],
   "source": [
    "help(mg.sample_table)"
   ]
  },
  {
   "cell_type": "code",
   "execution_count": 24,
   "metadata": {
    "collapsed": false
   },
   "outputs": [
    {
     "name": "stdout",
     "output_type": "stream",
     "text": [
      "id: 4671474096\n",
      "rtable(obj.id): 4669650984\n",
      "key: _id\n",
      "fk_rtable: rtable_id\n",
      "fk_ltable: ltable_id\n",
      "ltable(obj.id): 4669650088\n",
      "time: 1.21 ms\n"
     ]
    }
   ],
   "source": [
    "mg.show_properties(E)"
   ]
  },
  {
   "cell_type": "code",
   "execution_count": 25,
   "metadata": {
    "collapsed": false
   },
   "outputs": [
    {
     "name": "stderr",
     "output_type": "stream",
     "text": [
      "02:30:49 INFO:Required metadata: cand.set key, fk ltable, fk rtable, ltable, rtable, ltable key, rtable key\n",
      "02:30:49 INFO:Getting metadata from the catalog\n",
      "02:30:49 INFO:..... Done\n",
      "02:30:49 INFO:Validating candset key: _id\n",
      "02:30:49 INFO:..... Done\n",
      "02:30:49 INFO:Validating foreign key constraint for left table\n",
      "02:30:49 INFO:..... Done\n",
      "02:30:49 INFO:Validating foreign key constraint for right table\n",
      "02:30:49 INFO:..... Done\n"
     ]
    },
    {
     "name": "stdout",
     "output_type": "stream",
     "text": [
      "time: 109 ms\n"
     ]
    }
   ],
   "source": [
    "S = mg.sample_table(E, 450, verbose=True)"
   ]
  },
  {
   "cell_type": "code",
   "execution_count": 26,
   "metadata": {
    "collapsed": false
   },
   "outputs": [
    {
     "name": "stdout",
     "output_type": "stream",
     "text": [
      "id: 4669652048\n",
      "rtable(obj.id): 4669650984\n",
      "key: _id\n",
      "fk_rtable: rtable_id\n",
      "fk_ltable: ltable_id\n",
      "ltable(obj.id): 4669650088\n",
      "time: 884 µs\n"
     ]
    }
   ],
   "source": [
    "mg.show_properties(S)"
   ]
  },
  {
   "cell_type": "code",
   "execution_count": 27,
   "metadata": {
    "collapsed": false
   },
   "outputs": [
    {
     "name": "stdout",
     "output_type": "stream",
     "text": [
      "Help on function label_table in module magellan.labeler.labeler:\n",
      "\n",
      "label_table(table, label_column_name, verbose=False)\n",
      "    Label a pandas DataFrame (for supervised learning purposes).\n",
      "    \n",
      "    This functions labels a DataFrame, typically used for supervised learning\n",
      "    purposes. This function expects the input DataFrame containing the metadata\n",
      "    of a candidate set (such as key, fk_ltable, fk_rtable, ltable, rtable).\n",
      "    This function creates a copy of the input DataFrame, adds label column\n",
      "    at the end of the DataFrame, fills the column values with 0, invokes a\n",
      "    GUI for the user to enter labels (0/1, 0:non-match, 1:match) and finally\n",
      "    returns the labeled DataFrame. Further, this function also copies the\n",
      "    properties from the input DataFrame to the output DataFrame.\n",
      "    \n",
      "    Args:\n",
      "        table (DataFrame): Input DataFrame to be labeled. Specifically,\n",
      "            a DataFrame containing the metadata of a candidate set (such as\n",
      "            key, fk_ltable, fk_rtable, ltable, rtable) in the catalog.\n",
      "        label_column_name (string): Column name to be given for the labels\n",
      "            entered by the user.\n",
      "        verbose (boolean): Flag to indicate whether more detailed information\n",
      "            about the execution steps should be printed out (default value is\n",
      "            False).\n",
      "    \n",
      "    Returns:\n",
      "        A new ataFrame with the labels entered by the user. Further,\n",
      "        this function sets the output DataFrame's properties same as input\n",
      "        DataFrame.\n",
      "    \n",
      "    Raises:\n",
      "        AssertionError: If the input table is not of type pandas DataFrame.\n",
      "        AssertionError: If the input column name is not of type string.\n",
      "        AssertionError: If the label column name is already present in the\n",
      "            input table.\n",
      "\n",
      "time: 1.1 ms\n"
     ]
    }
   ],
   "source": [
    "help(mg.label_table)"
   ]
  },
  {
   "cell_type": "code",
   "execution_count": 30,
   "metadata": {
    "collapsed": false
   },
   "outputs": [
    {
     "name": "stderr",
     "output_type": "stream",
     "text": [
      "02:32:22 WARNING:Column name (gold) is not present in dataframe\n",
      "02:32:22 INFO:Required metadata: cand.set key, fk ltable, fk rtable, ltable, rtable, ltable key, rtable key\n",
      "02:32:22 INFO:Getting metadata from the catalog\n",
      "02:32:22 INFO:..... Done\n",
      "02:32:22 INFO:Validating candset key: _id\n",
      "02:32:22 INFO:..... Done\n",
      "02:32:22 INFO:Validating foreign key constraint for left table\n",
      "02:32:22 INFO:..... Done\n",
      "02:32:22 INFO:Validating foreign key constraint for right table\n",
      "02:32:22 INFO:..... Done\n"
     ]
    },
    {
     "name": "stdout",
     "output_type": "stream",
     "text": [
      "time: 8.14 s\n"
     ]
    }
   ],
   "source": [
    "G = mg.label_table(S, 'gold', verbose=True)"
   ]
  },
  {
   "cell_type": "code",
   "execution_count": 34,
   "metadata": {
    "collapsed": false
   },
   "outputs": [
    {
     "name": "stdout",
     "output_type": "stream",
     "text": [
      "id: 4674741696\n",
      "rtable(obj.id): 4669650984\n",
      "key: _id\n",
      "fk_rtable: rtable_id\n",
      "fk_ltable: ltable_id\n",
      "ltable(obj.id): 4669650088\n",
      "time: 1 ms\n"
     ]
    }
   ],
   "source": [
    "mg.show_properties(G)"
   ]
  }
 ],
 "metadata": {
  "kernelspec": {
   "display_name": "Python 3",
   "language": "python",
   "name": "python3"
  },
  "language_info": {
   "codemirror_mode": {
    "name": "ipython",
    "version": 3
   },
   "file_extension": ".py",
   "mimetype": "text/x-python",
   "name": "python",
   "nbconvert_exporter": "python",
   "pygments_lexer": "ipython3",
   "version": "3.5.1"
  }
 },
 "nbformat": 4,
 "nbformat_minor": 0
}
