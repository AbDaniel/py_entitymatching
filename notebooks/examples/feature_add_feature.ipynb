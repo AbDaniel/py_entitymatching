{
 "cells": [
  {
   "cell_type": "code",
   "execution_count": 1,
   "metadata": {
    "collapsed": true
   },
   "outputs": [],
   "source": [
    "%load_ext autotime"
   ]
  },
  {
   "cell_type": "code",
   "execution_count": 2,
   "metadata": {
    "collapsed": false
   },
   "outputs": [
    {
     "name": "stdout",
     "output_type": "stream",
     "text": [
      "time: 1e+03 µs\n"
     ]
    }
   ],
   "source": [
    "### import and basic setup"
   ]
  },
  {
   "cell_type": "code",
   "execution_count": 3,
   "metadata": {
    "collapsed": false
   },
   "outputs": [
    {
     "name": "stdout",
     "output_type": "stream",
     "text": [
      "time: 5.58 ms\n"
     ]
    }
   ],
   "source": [
    "import imp # need to be done for python 3\n",
    "import logging\n",
    "imp.reload(logging)\n",
    "logging.basicConfig(format='%(asctime)s %(levelname)s:%(message)s', \n",
    "                    level=logging.DEBUG, datefmt='%I:%M:%S')"
   ]
  },
  {
   "cell_type": "code",
   "execution_count": 4,
   "metadata": {
    "collapsed": false
   },
   "outputs": [
    {
     "name": "stdout",
     "output_type": "stream",
     "text": [
      "time: 1.05 ms\n"
     ]
    }
   ],
   "source": [
    "import sys\n",
    "import os"
   ]
  },
  {
   "cell_type": "code",
   "execution_count": 5,
   "metadata": {
    "collapsed": false
   },
   "outputs": [
    {
     "name": "stdout",
     "output_type": "stream",
     "text": [
      "time: 1.27 ms\n"
     ]
    }
   ],
   "source": [
    "sys.path.append('/Users/pradap/Documents/Research/Python-Package/anhaid/magellan/')"
   ]
  },
  {
   "cell_type": "code",
   "execution_count": 6,
   "metadata": {
    "collapsed": false
   },
   "outputs": [
    {
     "name": "stdout",
     "output_type": "stream",
     "text": [
      "time: 2.49 s\n"
     ]
    }
   ],
   "source": [
    "import magellan as mg"
   ]
  },
  {
   "cell_type": "code",
   "execution_count": 7,
   "metadata": {
    "collapsed": false
   },
   "outputs": [
    {
     "name": "stdout",
     "output_type": "stream",
     "text": [
      "Help on function get_feature_fn in module magellan.feature.addfeatures:\n",
      "\n",
      "get_feature_fn(feature_string, tokenizers, similarity_functions)\n",
      "    This function creates a feature in a declarative manner.\n",
      "    Specifically, this function uses the feature string and compiles it into\n",
      "    an function using tokenizers and similarity functions. This compiled\n",
      "    function will take in two tuples and return the feature (typically a\n",
      "    number).\n",
      "    Args:\n",
      "        feature_string (str): Feature expression to be converted into a\n",
      "            function.\n",
      "        tokenizers (dictionary): A python dictionary containing tokenizers.\n",
      "            Specifically, the dictionary contains tokenizer names as keys and\n",
      "            tokenizer functions as values. The tokenizer function typically\n",
      "            takes in a string and returns a list of tokens.\n",
      "        similarity_functions (dictionary): A python dictionary containing\n",
      "            similarity functions. Specifically, the dictionary contains\n",
      "            similarity function names as keys and similarity functions as\n",
      "            values. The similarity function typically\n",
      "            takes in a string or two lists and returns a number.\n",
      "    Returns:\n",
      "        This function returns a dictionary which contains sufficient information\n",
      "        (such as parsed information, function code) to be added to the\n",
      "        feature table. The created function is self contained function\n",
      "        which means that it the tokenizers or sim function that it calls is\n",
      "        bundled along with the returned function code.\n",
      "    Raises:\n",
      "        AssertionError: If the input feature string is not of type string.\n",
      "        AssertionError: If th input object tokenizers is not of type\n",
      "            dictionary.\n",
      "        AssertionError: If the input object similarity_functions is not of\n",
      "            type dictionary.\n",
      "\n",
      "time: 3.6 ms\n"
     ]
    }
   ],
   "source": [
    "help(mg.get_feature_fn)"
   ]
  },
  {
   "cell_type": "code",
   "execution_count": 8,
   "metadata": {
    "collapsed": false
   },
   "outputs": [
    {
     "name": "stdout",
     "output_type": "stream",
     "text": [
      "time: 4.03 ms\n"
     ]
    }
   ],
   "source": [
    "tok = mg.get_tokenizers_for_matching()\n",
    "sim = mg.get_sim_funs_for_matching()"
   ]
  },
  {
   "cell_type": "code",
   "execution_count": 9,
   "metadata": {
    "collapsed": false
   },
   "outputs": [
    {
     "data": {
      "text/plain": [
       "({'alphabetic': <function magellan.feature.tokenizers.tok_alphabetic>,\n",
       "  'alphanumeric': <function magellan.feature.tokenizers.tok_alphanumeric>,\n",
       "  'dlm_dc0': <function magellan.feature.tokenizers._make_tok_delim.<locals>.tok_delim>,\n",
       "  'qgm_2': <function magellan.feature.tokenizers._make_tok_qgram.<locals>.tok_qgram>,\n",
       "  'qgm_3': <function magellan.feature.tokenizers._make_tok_qgram.<locals>.tok_qgram>,\n",
       "  'wspace': <function magellan.feature.tokenizers.tok_wspace>},\n",
       " {'abs_norm': <function magellan.feature.simfunctions.abs_norm>,\n",
       "  'affine': <function magellan.feature.simfunctions.affine>,\n",
       "  'cosine': <function magellan.feature.simfunctions.cosine>,\n",
       "  'dice': <function magellan.feature.simfunctions.dice>,\n",
       "  'exact_match': <function magellan.feature.simfunctions.exact_match>,\n",
       "  'hamming_dist': <function magellan.feature.simfunctions.hamming_dist>,\n",
       "  'hamming_sim': <function magellan.feature.simfunctions.hamming_sim>,\n",
       "  'jaccard': <function magellan.feature.simfunctions.jaccard>,\n",
       "  'jaro': <function magellan.feature.simfunctions.jaro>,\n",
       "  'jaro_winkler': <function magellan.feature.simfunctions.jaro_winkler>,\n",
       "  'lev_dist': <function magellan.feature.simfunctions.lev_dist>,\n",
       "  'lev_sim': <function magellan.feature.simfunctions.lev_sim>,\n",
       "  'monge_elkan': <function magellan.feature.simfunctions.monge_elkan>,\n",
       "  'needleman_wunsch': <function magellan.feature.simfunctions.needleman_wunsch>,\n",
       "  'overlap_coeff': <function magellan.feature.simfunctions.overlap_coeff>,\n",
       "  'rel_diff': <function magellan.feature.simfunctions.rel_diff>,\n",
       "  'smith_waterman': <function magellan.feature.simfunctions.smith_waterman>})"
      ]
     },
     "execution_count": 9,
     "metadata": {},
     "output_type": "execute_result"
    },
    {
     "name": "stdout",
     "output_type": "stream",
     "text": [
      "time: 47.3 ms\n"
     ]
    }
   ],
   "source": [
    "tok, sim"
   ]
  },
  {
   "cell_type": "code",
   "execution_count": 10,
   "metadata": {
    "collapsed": false
   },
   "outputs": [
    {
     "name": "stdout",
     "output_type": "stream",
     "text": [
      "time: 1.8 ms\n"
     ]
    }
   ],
   "source": [
    "feature_string = \"jaccard(wspace(ltuple['name']), wspace(rtuple['name']))\""
   ]
  },
  {
   "cell_type": "code",
   "execution_count": 11,
   "metadata": {
    "collapsed": false
   },
   "outputs": [
    {
     "name": "stdout",
     "output_type": "stream",
     "text": [
      "time: 2.26 ms\n"
     ]
    }
   ],
   "source": [
    "d = mg.get_feature_fn(feature_string, tok, sim)"
   ]
  },
  {
   "cell_type": "code",
   "execution_count": 12,
   "metadata": {
    "collapsed": false
   },
   "outputs": [
    {
     "data": {
      "text/plain": [
       "{'function': <function fn>,\n",
       " 'function_source': \"def fn(ltuple, rtuple):\\n    return jaccard(wspace(ltuple['name']), wspace(rtuple['name']))\",\n",
       " 'is_auto_generated': False,\n",
       " 'left_attr_tokenizer': 'wspace',\n",
       " 'left_attribute': 'name',\n",
       " 'right_attr_tokenizer': 'wspace',\n",
       " 'right_attribute': 'name',\n",
       " 'simfunction': 'jaccard'}"
      ]
     },
     "execution_count": 12,
     "metadata": {},
     "output_type": "execute_result"
    },
    {
     "name": "stdout",
     "output_type": "stream",
     "text": [
      "time: 2.68 ms\n"
     ]
    }
   ],
   "source": [
    "d"
   ]
  },
  {
   "cell_type": "code",
   "execution_count": 13,
   "metadata": {
    "collapsed": false
   },
   "outputs": [
    {
     "name": "stdout",
     "output_type": "stream",
     "text": [
      "time: 1.29 ms\n"
     ]
    }
   ],
   "source": [
    "path_a = os.sep.join([mg.get_install_path(), 'datasets', 'table_A.csv'])\n",
    "path_b = os.sep.join([mg.get_install_path(), 'datasets', 'table_B.csv'])\n"
   ]
  },
  {
   "cell_type": "code",
   "execution_count": 14,
   "metadata": {
    "collapsed": false
   },
   "outputs": [
    {
     "name": "stdout",
     "output_type": "stream",
     "text": [
      "time: 12.8 ms\n"
     ]
    }
   ],
   "source": [
    "A = mg.read_csv_metadata(path_a)\n",
    "B = mg.read_csv_metadata(path_b)"
   ]
  },
  {
   "cell_type": "code",
   "execution_count": 15,
   "metadata": {
    "collapsed": false
   },
   "outputs": [
    {
     "data": {
      "text/html": [
       "<div>\n",
       "<table border=\"1\" class=\"dataframe\">\n",
       "  <thead>\n",
       "    <tr style=\"text-align: right;\">\n",
       "      <th></th>\n",
       "      <th>ID</th>\n",
       "      <th>name</th>\n",
       "      <th>birth_year</th>\n",
       "      <th>hourly_wage</th>\n",
       "      <th>address</th>\n",
       "      <th>zipcode</th>\n",
       "    </tr>\n",
       "  </thead>\n",
       "  <tbody>\n",
       "    <tr>\n",
       "      <th>0</th>\n",
       "      <td>a1</td>\n",
       "      <td>Kevin Smith</td>\n",
       "      <td>1989</td>\n",
       "      <td>30.0</td>\n",
       "      <td>607 From St, San Francisco</td>\n",
       "      <td>94107</td>\n",
       "    </tr>\n",
       "    <tr>\n",
       "      <th>1</th>\n",
       "      <td>a2</td>\n",
       "      <td>Michael Franklin</td>\n",
       "      <td>1988</td>\n",
       "      <td>27.5</td>\n",
       "      <td>1652 Stockton St, San Francisco</td>\n",
       "      <td>94122</td>\n",
       "    </tr>\n",
       "    <tr>\n",
       "      <th>2</th>\n",
       "      <td>a3</td>\n",
       "      <td>William Bridge</td>\n",
       "      <td>1986</td>\n",
       "      <td>32.0</td>\n",
       "      <td>3131 Webster St, San Francisco</td>\n",
       "      <td>94107</td>\n",
       "    </tr>\n",
       "    <tr>\n",
       "      <th>3</th>\n",
       "      <td>a4</td>\n",
       "      <td>Binto George</td>\n",
       "      <td>1987</td>\n",
       "      <td>32.5</td>\n",
       "      <td>423 Powell St, San Francisco</td>\n",
       "      <td>94122</td>\n",
       "    </tr>\n",
       "    <tr>\n",
       "      <th>4</th>\n",
       "      <td>a5</td>\n",
       "      <td>Alphonse Kemper</td>\n",
       "      <td>1984</td>\n",
       "      <td>35.0</td>\n",
       "      <td>1702 Post Street, San Francisco</td>\n",
       "      <td>94122</td>\n",
       "    </tr>\n",
       "  </tbody>\n",
       "</table>\n",
       "</div>"
      ],
      "text/plain": [
       "   ID              name  birth_year  hourly_wage  \\\n",
       "0  a1       Kevin Smith        1989         30.0   \n",
       "1  a2  Michael Franklin        1988         27.5   \n",
       "2  a3    William Bridge        1986         32.0   \n",
       "3  a4      Binto George        1987         32.5   \n",
       "4  a5   Alphonse Kemper        1984         35.0   \n",
       "\n",
       "                           address  zipcode  \n",
       "0       607 From St, San Francisco    94107  \n",
       "1  1652 Stockton St, San Francisco    94122  \n",
       "2   3131 Webster St, San Francisco    94107  \n",
       "3     423 Powell St, San Francisco    94122  \n",
       "4  1702 Post Street, San Francisco    94122  "
      ]
     },
     "execution_count": 15,
     "metadata": {},
     "output_type": "execute_result"
    },
    {
     "name": "stdout",
     "output_type": "stream",
     "text": [
      "time: 11.6 ms\n"
     ]
    }
   ],
   "source": [
    "A"
   ]
  },
  {
   "cell_type": "code",
   "execution_count": 16,
   "metadata": {
    "collapsed": false
   },
   "outputs": [
    {
     "data": {
      "text/html": [
       "<div>\n",
       "<table border=\"1\" class=\"dataframe\">\n",
       "  <thead>\n",
       "    <tr style=\"text-align: right;\">\n",
       "      <th></th>\n",
       "      <th>ID</th>\n",
       "      <th>name</th>\n",
       "      <th>birth_year</th>\n",
       "      <th>hourly_wage</th>\n",
       "      <th>address</th>\n",
       "      <th>zipcode</th>\n",
       "    </tr>\n",
       "  </thead>\n",
       "  <tbody>\n",
       "    <tr>\n",
       "      <th>0</th>\n",
       "      <td>b1</td>\n",
       "      <td>Mark Levene</td>\n",
       "      <td>1987</td>\n",
       "      <td>29.5</td>\n",
       "      <td>108 Clement St, San Francisco</td>\n",
       "      <td>94107</td>\n",
       "    </tr>\n",
       "    <tr>\n",
       "      <th>1</th>\n",
       "      <td>b2</td>\n",
       "      <td>Bill Bridge</td>\n",
       "      <td>1986</td>\n",
       "      <td>32.0</td>\n",
       "      <td>3131 Webster St, San Francisco</td>\n",
       "      <td>94107</td>\n",
       "    </tr>\n",
       "    <tr>\n",
       "      <th>2</th>\n",
       "      <td>b3</td>\n",
       "      <td>Mike Franklin</td>\n",
       "      <td>1988</td>\n",
       "      <td>27.5</td>\n",
       "      <td>1652 Stockton St, San Francisco</td>\n",
       "      <td>94122</td>\n",
       "    </tr>\n",
       "    <tr>\n",
       "      <th>3</th>\n",
       "      <td>b4</td>\n",
       "      <td>Joseph Kuan</td>\n",
       "      <td>1982</td>\n",
       "      <td>26.0</td>\n",
       "      <td>108 South Park, San Francisco</td>\n",
       "      <td>94122</td>\n",
       "    </tr>\n",
       "    <tr>\n",
       "      <th>4</th>\n",
       "      <td>b5</td>\n",
       "      <td>Alfons Kemper</td>\n",
       "      <td>1984</td>\n",
       "      <td>35.0</td>\n",
       "      <td>170 Post St, Apt 4,  San Francisco</td>\n",
       "      <td>94122</td>\n",
       "    </tr>\n",
       "    <tr>\n",
       "      <th>5</th>\n",
       "      <td>b6</td>\n",
       "      <td>Michael Brodie</td>\n",
       "      <td>1987</td>\n",
       "      <td>32.5</td>\n",
       "      <td>133 Clement Street, San Francisco</td>\n",
       "      <td>94107</td>\n",
       "    </tr>\n",
       "  </tbody>\n",
       "</table>\n",
       "</div>"
      ],
      "text/plain": [
       "   ID            name  birth_year  hourly_wage  \\\n",
       "0  b1     Mark Levene        1987         29.5   \n",
       "1  b2     Bill Bridge        1986         32.0   \n",
       "2  b3   Mike Franklin        1988         27.5   \n",
       "3  b4     Joseph Kuan        1982         26.0   \n",
       "4  b5   Alfons Kemper        1984         35.0   \n",
       "5  b6  Michael Brodie        1987         32.5   \n",
       "\n",
       "                              address  zipcode  \n",
       "0       108 Clement St, San Francisco    94107  \n",
       "1      3131 Webster St, San Francisco    94107  \n",
       "2     1652 Stockton St, San Francisco    94122  \n",
       "3       108 South Park, San Francisco    94122  \n",
       "4  170 Post St, Apt 4,  San Francisco    94122  \n",
       "5   133 Clement Street, San Francisco    94107  "
      ]
     },
     "execution_count": 16,
     "metadata": {},
     "output_type": "execute_result"
    },
    {
     "name": "stdout",
     "output_type": "stream",
     "text": [
      "time: 17.3 ms\n"
     ]
    }
   ],
   "source": [
    "B"
   ]
  },
  {
   "cell_type": "code",
   "execution_count": 17,
   "metadata": {
    "collapsed": false
   },
   "outputs": [
    {
     "data": {
      "text/plain": [
       "0.3333333333333333"
      ]
     },
     "execution_count": 17,
     "metadata": {},
     "output_type": "execute_result"
    },
    {
     "name": "stdout",
     "output_type": "stream",
     "text": [
      "time: 3.59 ms\n"
     ]
    }
   ],
   "source": [
    "d['function'](A.ix[4], B.ix[4])"
   ]
  },
  {
   "cell_type": "code",
   "execution_count": 18,
   "metadata": {
    "collapsed": false
   },
   "outputs": [
    {
     "name": "stdout",
     "output_type": "stream",
     "text": [
      "Help on function add_feature in module magellan.feature.addfeatures:\n",
      "\n",
      "add_feature(feature_table, feature_name, feature_dict)\n",
      "    Adds feature to the feature table.\n",
      "    Specifically, this function is used in combination with  get_feature_fn.\n",
      "    First the user creates a dictionary using get_feature_fn, then the user\n",
      "    uses this function to add it to the feature table.\n",
      "    Args:\n",
      "        feature_table (DataFrame): A DataFrame containing features.\n",
      "        feature_names (str): Name that should be given to the feature.\n",
      "        feature_dict (dictionary): Python dictionary, that is typically\n",
      "            returned by executing get_feature_fn\n",
      "    Returns:\n",
      "        A boolean value of True is returned if the addition was successful.\n",
      "    Raises:\n",
      "        AssertionError: If the input object (feature_table) is not of type\n",
      "            pandas DataFrame.\n",
      "        AssertionError: If the input object (feature_name) is not of type\n",
      "            string.\n",
      "        AssertionError: If the input object (feature_dict) is not of type\n",
      "            python dictionary.\n",
      "        AssertionError: If the feature_table does not have necessary columns\n",
      "            such as 'feature_name', 'left_attribute', 'right_attribute',\n",
      "            'left_attr_tokenizer',\n",
      "            'right_attr_tokenizer', 'simfunction', 'function',\n",
      "            'function_source' in the DataFrame.\n",
      "        AssertionError: If the feature name is already present in the feature\n",
      "            table.\n",
      "\n",
      "time: 1.13 ms\n"
     ]
    }
   ],
   "source": [
    "help(mg.add_feature)"
   ]
  },
  {
   "cell_type": "code",
   "execution_count": 20,
   "metadata": {
    "collapsed": false
   },
   "outputs": [
    {
     "name": "stdout",
     "output_type": "stream",
     "text": [
      "Help on function create_feature_table in module magellan.feature.addfeatures:\n",
      "\n",
      "create_feature_table()\n",
      "    Creates an empty feature table.\n",
      "\n",
      "time: 943 µs\n"
     ]
    }
   ],
   "source": [
    "help(mg.create_feature_table)"
   ]
  },
  {
   "cell_type": "code",
   "execution_count": 21,
   "metadata": {
    "collapsed": false
   },
   "outputs": [
    {
     "name": "stdout",
     "output_type": "stream",
     "text": [
      "time: 3 ms\n"
     ]
    }
   ],
   "source": [
    "# create feature table\n",
    "feature_table = mg.create_feature_table()"
   ]
  },
  {
   "cell_type": "code",
   "execution_count": 22,
   "metadata": {
    "collapsed": false
   },
   "outputs": [
    {
     "data": {
      "text/html": [
       "<div>\n",
       "<table border=\"1\" class=\"dataframe\">\n",
       "  <thead>\n",
       "    <tr style=\"text-align: right;\">\n",
       "      <th></th>\n",
       "      <th>feature_name</th>\n",
       "      <th>left_attribute</th>\n",
       "      <th>right_attribute</th>\n",
       "      <th>left_attr_tokenizer</th>\n",
       "      <th>right_attr_tokenizer</th>\n",
       "      <th>simfunction</th>\n",
       "      <th>function</th>\n",
       "      <th>function_source</th>\n",
       "      <th>is_auto_generated</th>\n",
       "    </tr>\n",
       "  </thead>\n",
       "  <tbody>\n",
       "  </tbody>\n",
       "</table>\n",
       "</div>"
      ],
      "text/plain": [
       "Empty DataFrame\n",
       "Columns: [feature_name, left_attribute, right_attribute, left_attr_tokenizer, right_attr_tokenizer, simfunction, function, function_source, is_auto_generated]\n",
       "Index: []"
      ]
     },
     "execution_count": 22,
     "metadata": {},
     "output_type": "execute_result"
    },
    {
     "name": "stdout",
     "output_type": "stream",
     "text": [
      "time: 6.3 ms\n"
     ]
    }
   ],
   "source": [
    "feature_table"
   ]
  },
  {
   "cell_type": "code",
   "execution_count": 23,
   "metadata": {
    "collapsed": false
   },
   "outputs": [
    {
     "data": {
      "text/plain": [
       "True"
      ]
     },
     "execution_count": 23,
     "metadata": {},
     "output_type": "execute_result"
    },
    {
     "name": "stdout",
     "output_type": "stream",
     "text": [
      "time: 12.6 ms\n"
     ]
    }
   ],
   "source": [
    "mg.add_feature(feature_table, 'jac_name_ws_ws', d)"
   ]
  },
  {
   "cell_type": "code",
   "execution_count": 24,
   "metadata": {
    "collapsed": false
   },
   "outputs": [
    {
     "data": {
      "text/html": [
       "<div>\n",
       "<table border=\"1\" class=\"dataframe\">\n",
       "  <thead>\n",
       "    <tr style=\"text-align: right;\">\n",
       "      <th></th>\n",
       "      <th>feature_name</th>\n",
       "      <th>left_attribute</th>\n",
       "      <th>right_attribute</th>\n",
       "      <th>left_attr_tokenizer</th>\n",
       "      <th>right_attr_tokenizer</th>\n",
       "      <th>simfunction</th>\n",
       "      <th>function</th>\n",
       "      <th>function_source</th>\n",
       "      <th>is_auto_generated</th>\n",
       "    </tr>\n",
       "  </thead>\n",
       "  <tbody>\n",
       "    <tr>\n",
       "      <th>0</th>\n",
       "      <td>jac_name_ws_ws</td>\n",
       "      <td>name</td>\n",
       "      <td>name</td>\n",
       "      <td>wspace</td>\n",
       "      <td>wspace</td>\n",
       "      <td>jaccard</td>\n",
       "      <td>&lt;function fn at 0x1163bdae8&gt;</td>\n",
       "      <td>def fn(ltuple, rtuple):\\n    return jaccard(wspace(ltuple['name']), wspace(rtuple['name']))</td>\n",
       "      <td>False</td>\n",
       "    </tr>\n",
       "  </tbody>\n",
       "</table>\n",
       "</div>"
      ],
      "text/plain": [
       "     feature_name left_attribute right_attribute left_attr_tokenizer  \\\n",
       "0  jac_name_ws_ws           name            name              wspace   \n",
       "\n",
       "  right_attr_tokenizer simfunction                      function  \\\n",
       "0               wspace     jaccard  <function fn at 0x1163bdae8>   \n",
       "\n",
       "                                                                               function_source  \\\n",
       "0  def fn(ltuple, rtuple):\\n    return jaccard(wspace(ltuple['name']), wspace(rtuple['name']))   \n",
       "\n",
       "  is_auto_generated  \n",
       "0             False  "
      ]
     },
     "execution_count": 24,
     "metadata": {},
     "output_type": "execute_result"
    },
    {
     "name": "stdout",
     "output_type": "stream",
     "text": [
      "time: 14.4 ms\n"
     ]
    }
   ],
   "source": [
    "feature_table"
   ]
  },
  {
   "cell_type": "code",
   "execution_count": null,
   "metadata": {
    "collapsed": true
   },
   "outputs": [],
   "source": [
    "# Fill an already existing table"
   ]
  },
  {
   "cell_type": "code",
   "execution_count": 25,
   "metadata": {
    "collapsed": false
   },
   "outputs": [
    {
     "name": "stderr",
     "output_type": "stream",
     "text": [
      "06:56:31 WARNING:Magellan types: address type (str_bt_1w_5w) and address type (str_bt_5w_10w) are different.If you want to set them to be same and generate features, update output from get_attr_types and use get_features command.\n",
      "\n"
     ]
    },
    {
     "name": "stdout",
     "output_type": "stream",
     "text": [
      "time: 22.4 ms\n"
     ]
    }
   ],
   "source": [
    "feature_table = mg.get_features_for_matching(A, B)"
   ]
  },
  {
   "cell_type": "code",
   "execution_count": 26,
   "metadata": {
    "collapsed": false
   },
   "outputs": [
    {
     "data": {
      "text/plain": [
       "True"
      ]
     },
     "execution_count": 26,
     "metadata": {},
     "output_type": "execute_result"
    },
    {
     "name": "stdout",
     "output_type": "stream",
     "text": [
      "time: 56.2 ms\n"
     ]
    }
   ],
   "source": [
    "mg.add_feature(feature_table, 'jac_name_ws_ws', d)"
   ]
  },
  {
   "cell_type": "code",
   "execution_count": 27,
   "metadata": {
    "collapsed": false
   },
   "outputs": [
    {
     "data": {
      "text/html": [
       "<div>\n",
       "<table border=\"1\" class=\"dataframe\">\n",
       "  <thead>\n",
       "    <tr style=\"text-align: right;\">\n",
       "      <th></th>\n",
       "      <th>feature_name</th>\n",
       "      <th>left_attribute</th>\n",
       "      <th>right_attribute</th>\n",
       "      <th>left_attr_tokenizer</th>\n",
       "      <th>right_attr_tokenizer</th>\n",
       "      <th>simfunction</th>\n",
       "      <th>function</th>\n",
       "      <th>function_source</th>\n",
       "      <th>is_auto_generated</th>\n",
       "    </tr>\n",
       "  </thead>\n",
       "  <tbody>\n",
       "    <tr>\n",
       "      <th>0</th>\n",
       "      <td>ID_ID_lev_dist</td>\n",
       "      <td>ID</td>\n",
       "      <td>ID</td>\n",
       "      <td>None</td>\n",
       "      <td>None</td>\n",
       "      <td>lev_dist</td>\n",
       "      <td>&lt;function ID_ID_lev_dist at 0x1163bd620&gt;</td>\n",
       "      <td>from magellan.feature.simfunctions import *\\nfrom magellan.feature.tokenizers import *\\ndef ID_I...</td>\n",
       "      <td>True</td>\n",
       "    </tr>\n",
       "    <tr>\n",
       "      <th>1</th>\n",
       "      <td>ID_ID_lev_sim</td>\n",
       "      <td>ID</td>\n",
       "      <td>ID</td>\n",
       "      <td>None</td>\n",
       "      <td>None</td>\n",
       "      <td>lev_sim</td>\n",
       "      <td>&lt;function ID_ID_lev_sim at 0x11656aa60&gt;</td>\n",
       "      <td>from magellan.feature.simfunctions import *\\nfrom magellan.feature.tokenizers import *\\ndef ID_I...</td>\n",
       "      <td>True</td>\n",
       "    </tr>\n",
       "    <tr>\n",
       "      <th>2</th>\n",
       "      <td>ID_ID_jar</td>\n",
       "      <td>ID</td>\n",
       "      <td>ID</td>\n",
       "      <td>None</td>\n",
       "      <td>None</td>\n",
       "      <td>jaro</td>\n",
       "      <td>&lt;function ID_ID_jar at 0x11656a488&gt;</td>\n",
       "      <td>from magellan.feature.simfunctions import *\\nfrom magellan.feature.tokenizers import *\\ndef ID_I...</td>\n",
       "      <td>True</td>\n",
       "    </tr>\n",
       "    <tr>\n",
       "      <th>3</th>\n",
       "      <td>ID_ID_jwn</td>\n",
       "      <td>ID</td>\n",
       "      <td>ID</td>\n",
       "      <td>None</td>\n",
       "      <td>None</td>\n",
       "      <td>jaro_winkler</td>\n",
       "      <td>&lt;function ID_ID_jwn at 0x11656abf8&gt;</td>\n",
       "      <td>from magellan.feature.simfunctions import *\\nfrom magellan.feature.tokenizers import *\\ndef ID_I...</td>\n",
       "      <td>True</td>\n",
       "    </tr>\n",
       "    <tr>\n",
       "      <th>4</th>\n",
       "      <td>ID_ID_exm</td>\n",
       "      <td>ID</td>\n",
       "      <td>ID</td>\n",
       "      <td>None</td>\n",
       "      <td>None</td>\n",
       "      <td>exact_match</td>\n",
       "      <td>&lt;function ID_ID_exm at 0x11656ac80&gt;</td>\n",
       "      <td>from magellan.feature.simfunctions import *\\nfrom magellan.feature.tokenizers import *\\ndef ID_I...</td>\n",
       "      <td>True</td>\n",
       "    </tr>\n",
       "    <tr>\n",
       "      <th>5</th>\n",
       "      <td>ID_ID_jac_qgm_3_qgm_3</td>\n",
       "      <td>ID</td>\n",
       "      <td>ID</td>\n",
       "      <td>qgm_3</td>\n",
       "      <td>qgm_3</td>\n",
       "      <td>jaccard</td>\n",
       "      <td>&lt;function ID_ID_jac_qgm_3_qgm_3 at 0x11656ab70&gt;</td>\n",
       "      <td>from magellan.feature.simfunctions import *\\nfrom magellan.feature.tokenizers import *\\ndef ID_I...</td>\n",
       "      <td>True</td>\n",
       "    </tr>\n",
       "    <tr>\n",
       "      <th>6</th>\n",
       "      <td>name_name_jac_qgm_3_qgm_3</td>\n",
       "      <td>name</td>\n",
       "      <td>name</td>\n",
       "      <td>qgm_3</td>\n",
       "      <td>qgm_3</td>\n",
       "      <td>jaccard</td>\n",
       "      <td>&lt;function name_name_jac_qgm_3_qgm_3 at 0x11656a9d8&gt;</td>\n",
       "      <td>from magellan.feature.simfunctions import *\\nfrom magellan.feature.tokenizers import *\\ndef name...</td>\n",
       "      <td>True</td>\n",
       "    </tr>\n",
       "    <tr>\n",
       "      <th>7</th>\n",
       "      <td>name_name_cos_dlm_dc0_dlm_dc0</td>\n",
       "      <td>name</td>\n",
       "      <td>name</td>\n",
       "      <td>dlm_dc0</td>\n",
       "      <td>dlm_dc0</td>\n",
       "      <td>cosine</td>\n",
       "      <td>&lt;function name_name_cos_dlm_dc0_dlm_dc0 at 0x11656a730&gt;</td>\n",
       "      <td>from magellan.feature.simfunctions import *\\nfrom magellan.feature.tokenizers import *\\ndef name...</td>\n",
       "      <td>True</td>\n",
       "    </tr>\n",
       "    <tr>\n",
       "      <th>8</th>\n",
       "      <td>name_name_jac_dlm_dc0_dlm_dc0</td>\n",
       "      <td>name</td>\n",
       "      <td>name</td>\n",
       "      <td>dlm_dc0</td>\n",
       "      <td>dlm_dc0</td>\n",
       "      <td>jaccard</td>\n",
       "      <td>&lt;function name_name_jac_dlm_dc0_dlm_dc0 at 0x11656ad08&gt;</td>\n",
       "      <td>from magellan.feature.simfunctions import *\\nfrom magellan.feature.tokenizers import *\\ndef name...</td>\n",
       "      <td>True</td>\n",
       "    </tr>\n",
       "    <tr>\n",
       "      <th>9</th>\n",
       "      <td>name_name_mel</td>\n",
       "      <td>name</td>\n",
       "      <td>name</td>\n",
       "      <td>None</td>\n",
       "      <td>None</td>\n",
       "      <td>monge_elkan</td>\n",
       "      <td>&lt;function name_name_mel at 0x11656ad90&gt;</td>\n",
       "      <td>from magellan.feature.simfunctions import *\\nfrom magellan.feature.tokenizers import *\\ndef name...</td>\n",
       "      <td>True</td>\n",
       "    </tr>\n",
       "    <tr>\n",
       "      <th>10</th>\n",
       "      <td>name_name_lev_dist</td>\n",
       "      <td>name</td>\n",
       "      <td>name</td>\n",
       "      <td>None</td>\n",
       "      <td>None</td>\n",
       "      <td>lev_dist</td>\n",
       "      <td>&lt;function name_name_lev_dist at 0x11656ae18&gt;</td>\n",
       "      <td>from magellan.feature.simfunctions import *\\nfrom magellan.feature.tokenizers import *\\ndef name...</td>\n",
       "      <td>True</td>\n",
       "    </tr>\n",
       "    <tr>\n",
       "      <th>11</th>\n",
       "      <td>name_name_lev_sim</td>\n",
       "      <td>name</td>\n",
       "      <td>name</td>\n",
       "      <td>None</td>\n",
       "      <td>None</td>\n",
       "      <td>lev_sim</td>\n",
       "      <td>&lt;function name_name_lev_sim at 0x11656aea0&gt;</td>\n",
       "      <td>from magellan.feature.simfunctions import *\\nfrom magellan.feature.tokenizers import *\\ndef name...</td>\n",
       "      <td>True</td>\n",
       "    </tr>\n",
       "    <tr>\n",
       "      <th>12</th>\n",
       "      <td>name_name_nmw</td>\n",
       "      <td>name</td>\n",
       "      <td>name</td>\n",
       "      <td>None</td>\n",
       "      <td>None</td>\n",
       "      <td>needleman_wunsch</td>\n",
       "      <td>&lt;function name_name_nmw at 0x11656af28&gt;</td>\n",
       "      <td>from magellan.feature.simfunctions import *\\nfrom magellan.feature.tokenizers import *\\ndef name...</td>\n",
       "      <td>True</td>\n",
       "    </tr>\n",
       "    <tr>\n",
       "      <th>13</th>\n",
       "      <td>name_name_sw</td>\n",
       "      <td>name</td>\n",
       "      <td>name</td>\n",
       "      <td>None</td>\n",
       "      <td>None</td>\n",
       "      <td>smith_waterman</td>\n",
       "      <td>&lt;function name_name_sw at 0x116599048&gt;</td>\n",
       "      <td>from magellan.feature.simfunctions import *\\nfrom magellan.feature.tokenizers import *\\ndef name...</td>\n",
       "      <td>True</td>\n",
       "    </tr>\n",
       "    <tr>\n",
       "      <th>14</th>\n",
       "      <td>birth_year_birth_year_exm</td>\n",
       "      <td>birth_year</td>\n",
       "      <td>birth_year</td>\n",
       "      <td>None</td>\n",
       "      <td>None</td>\n",
       "      <td>exact_match</td>\n",
       "      <td>&lt;function birth_year_birth_year_exm at 0x1165990d0&gt;</td>\n",
       "      <td>from magellan.feature.simfunctions import *\\nfrom magellan.feature.tokenizers import *\\ndef birt...</td>\n",
       "      <td>True</td>\n",
       "    </tr>\n",
       "    <tr>\n",
       "      <th>15</th>\n",
       "      <td>birth_year_birth_year_anm</td>\n",
       "      <td>birth_year</td>\n",
       "      <td>birth_year</td>\n",
       "      <td>None</td>\n",
       "      <td>None</td>\n",
       "      <td>abs_norm</td>\n",
       "      <td>&lt;function birth_year_birth_year_anm at 0x116599158&gt;</td>\n",
       "      <td>from magellan.feature.simfunctions import *\\nfrom magellan.feature.tokenizers import *\\ndef birt...</td>\n",
       "      <td>True</td>\n",
       "    </tr>\n",
       "    <tr>\n",
       "      <th>16</th>\n",
       "      <td>birth_year_birth_year_lev_dist</td>\n",
       "      <td>birth_year</td>\n",
       "      <td>birth_year</td>\n",
       "      <td>None</td>\n",
       "      <td>None</td>\n",
       "      <td>lev_dist</td>\n",
       "      <td>&lt;function birth_year_birth_year_lev_dist at 0x1165991e0&gt;</td>\n",
       "      <td>from magellan.feature.simfunctions import *\\nfrom magellan.feature.tokenizers import *\\ndef birt...</td>\n",
       "      <td>True</td>\n",
       "    </tr>\n",
       "    <tr>\n",
       "      <th>17</th>\n",
       "      <td>birth_year_birth_year_lev_sim</td>\n",
       "      <td>birth_year</td>\n",
       "      <td>birth_year</td>\n",
       "      <td>None</td>\n",
       "      <td>None</td>\n",
       "      <td>lev_sim</td>\n",
       "      <td>&lt;function birth_year_birth_year_lev_sim at 0x116599268&gt;</td>\n",
       "      <td>from magellan.feature.simfunctions import *\\nfrom magellan.feature.tokenizers import *\\ndef birt...</td>\n",
       "      <td>True</td>\n",
       "    </tr>\n",
       "    <tr>\n",
       "      <th>18</th>\n",
       "      <td>hourly_wage_hourly_wage_exm</td>\n",
       "      <td>hourly_wage</td>\n",
       "      <td>hourly_wage</td>\n",
       "      <td>None</td>\n",
       "      <td>None</td>\n",
       "      <td>exact_match</td>\n",
       "      <td>&lt;function hourly_wage_hourly_wage_exm at 0x1165992f0&gt;</td>\n",
       "      <td>from magellan.feature.simfunctions import *\\nfrom magellan.feature.tokenizers import *\\ndef hour...</td>\n",
       "      <td>True</td>\n",
       "    </tr>\n",
       "    <tr>\n",
       "      <th>19</th>\n",
       "      <td>hourly_wage_hourly_wage_anm</td>\n",
       "      <td>hourly_wage</td>\n",
       "      <td>hourly_wage</td>\n",
       "      <td>None</td>\n",
       "      <td>None</td>\n",
       "      <td>abs_norm</td>\n",
       "      <td>&lt;function hourly_wage_hourly_wage_anm at 0x116599378&gt;</td>\n",
       "      <td>from magellan.feature.simfunctions import *\\nfrom magellan.feature.tokenizers import *\\ndef hour...</td>\n",
       "      <td>True</td>\n",
       "    </tr>\n",
       "    <tr>\n",
       "      <th>20</th>\n",
       "      <td>hourly_wage_hourly_wage_lev_dist</td>\n",
       "      <td>hourly_wage</td>\n",
       "      <td>hourly_wage</td>\n",
       "      <td>None</td>\n",
       "      <td>None</td>\n",
       "      <td>lev_dist</td>\n",
       "      <td>&lt;function hourly_wage_hourly_wage_lev_dist at 0x116599400&gt;</td>\n",
       "      <td>from magellan.feature.simfunctions import *\\nfrom magellan.feature.tokenizers import *\\ndef hour...</td>\n",
       "      <td>True</td>\n",
       "    </tr>\n",
       "    <tr>\n",
       "      <th>21</th>\n",
       "      <td>hourly_wage_hourly_wage_lev_sim</td>\n",
       "      <td>hourly_wage</td>\n",
       "      <td>hourly_wage</td>\n",
       "      <td>None</td>\n",
       "      <td>None</td>\n",
       "      <td>lev_sim</td>\n",
       "      <td>&lt;function hourly_wage_hourly_wage_lev_sim at 0x116599488&gt;</td>\n",
       "      <td>from magellan.feature.simfunctions import *\\nfrom magellan.feature.tokenizers import *\\ndef hour...</td>\n",
       "      <td>True</td>\n",
       "    </tr>\n",
       "    <tr>\n",
       "      <th>22</th>\n",
       "      <td>zipcode_zipcode_exm</td>\n",
       "      <td>zipcode</td>\n",
       "      <td>zipcode</td>\n",
       "      <td>None</td>\n",
       "      <td>None</td>\n",
       "      <td>exact_match</td>\n",
       "      <td>&lt;function zipcode_zipcode_exm at 0x116599840&gt;</td>\n",
       "      <td>from magellan.feature.simfunctions import *\\nfrom magellan.feature.tokenizers import *\\ndef zipc...</td>\n",
       "      <td>True</td>\n",
       "    </tr>\n",
       "    <tr>\n",
       "      <th>23</th>\n",
       "      <td>zipcode_zipcode_anm</td>\n",
       "      <td>zipcode</td>\n",
       "      <td>zipcode</td>\n",
       "      <td>None</td>\n",
       "      <td>None</td>\n",
       "      <td>abs_norm</td>\n",
       "      <td>&lt;function zipcode_zipcode_anm at 0x1165997b8&gt;</td>\n",
       "      <td>from magellan.feature.simfunctions import *\\nfrom magellan.feature.tokenizers import *\\ndef zipc...</td>\n",
       "      <td>True</td>\n",
       "    </tr>\n",
       "    <tr>\n",
       "      <th>24</th>\n",
       "      <td>zipcode_zipcode_lev_dist</td>\n",
       "      <td>zipcode</td>\n",
       "      <td>zipcode</td>\n",
       "      <td>None</td>\n",
       "      <td>None</td>\n",
       "      <td>lev_dist</td>\n",
       "      <td>&lt;function zipcode_zipcode_lev_dist at 0x1165996a8&gt;</td>\n",
       "      <td>from magellan.feature.simfunctions import *\\nfrom magellan.feature.tokenizers import *\\ndef zipc...</td>\n",
       "      <td>True</td>\n",
       "    </tr>\n",
       "    <tr>\n",
       "      <th>25</th>\n",
       "      <td>zipcode_zipcode_lev_sim</td>\n",
       "      <td>zipcode</td>\n",
       "      <td>zipcode</td>\n",
       "      <td>None</td>\n",
       "      <td>None</td>\n",
       "      <td>lev_sim</td>\n",
       "      <td>&lt;function zipcode_zipcode_lev_sim at 0x116599598&gt;</td>\n",
       "      <td>from magellan.feature.simfunctions import *\\nfrom magellan.feature.tokenizers import *\\ndef zipc...</td>\n",
       "      <td>True</td>\n",
       "    </tr>\n",
       "    <tr>\n",
       "      <th>26</th>\n",
       "      <td>jac_name_ws_ws</td>\n",
       "      <td>name</td>\n",
       "      <td>name</td>\n",
       "      <td>wspace</td>\n",
       "      <td>wspace</td>\n",
       "      <td>jaccard</td>\n",
       "      <td>&lt;function fn at 0x1163bdae8&gt;</td>\n",
       "      <td>def fn(ltuple, rtuple):\\n    return jaccard(wspace(ltuple['name']), wspace(rtuple['name']))</td>\n",
       "      <td>False</td>\n",
       "    </tr>\n",
       "  </tbody>\n",
       "</table>\n",
       "</div>"
      ],
      "text/plain": [
       "                        feature_name left_attribute right_attribute  \\\n",
       "0                     ID_ID_lev_dist             ID              ID   \n",
       "1                      ID_ID_lev_sim             ID              ID   \n",
       "2                          ID_ID_jar             ID              ID   \n",
       "3                          ID_ID_jwn             ID              ID   \n",
       "4                          ID_ID_exm             ID              ID   \n",
       "5              ID_ID_jac_qgm_3_qgm_3             ID              ID   \n",
       "6          name_name_jac_qgm_3_qgm_3           name            name   \n",
       "7      name_name_cos_dlm_dc0_dlm_dc0           name            name   \n",
       "8      name_name_jac_dlm_dc0_dlm_dc0           name            name   \n",
       "9                      name_name_mel           name            name   \n",
       "10                name_name_lev_dist           name            name   \n",
       "11                 name_name_lev_sim           name            name   \n",
       "12                     name_name_nmw           name            name   \n",
       "13                      name_name_sw           name            name   \n",
       "14         birth_year_birth_year_exm     birth_year      birth_year   \n",
       "15         birth_year_birth_year_anm     birth_year      birth_year   \n",
       "16    birth_year_birth_year_lev_dist     birth_year      birth_year   \n",
       "17     birth_year_birth_year_lev_sim     birth_year      birth_year   \n",
       "18       hourly_wage_hourly_wage_exm    hourly_wage     hourly_wage   \n",
       "19       hourly_wage_hourly_wage_anm    hourly_wage     hourly_wage   \n",
       "20  hourly_wage_hourly_wage_lev_dist    hourly_wage     hourly_wage   \n",
       "21   hourly_wage_hourly_wage_lev_sim    hourly_wage     hourly_wage   \n",
       "22               zipcode_zipcode_exm        zipcode         zipcode   \n",
       "23               zipcode_zipcode_anm        zipcode         zipcode   \n",
       "24          zipcode_zipcode_lev_dist        zipcode         zipcode   \n",
       "25           zipcode_zipcode_lev_sim        zipcode         zipcode   \n",
       "26                    jac_name_ws_ws           name            name   \n",
       "\n",
       "   left_attr_tokenizer right_attr_tokenizer       simfunction  \\\n",
       "0                 None                 None          lev_dist   \n",
       "1                 None                 None           lev_sim   \n",
       "2                 None                 None              jaro   \n",
       "3                 None                 None      jaro_winkler   \n",
       "4                 None                 None       exact_match   \n",
       "5                qgm_3                qgm_3           jaccard   \n",
       "6                qgm_3                qgm_3           jaccard   \n",
       "7              dlm_dc0              dlm_dc0            cosine   \n",
       "8              dlm_dc0              dlm_dc0           jaccard   \n",
       "9                 None                 None       monge_elkan   \n",
       "10                None                 None          lev_dist   \n",
       "11                None                 None           lev_sim   \n",
       "12                None                 None  needleman_wunsch   \n",
       "13                None                 None    smith_waterman   \n",
       "14                None                 None       exact_match   \n",
       "15                None                 None          abs_norm   \n",
       "16                None                 None          lev_dist   \n",
       "17                None                 None           lev_sim   \n",
       "18                None                 None       exact_match   \n",
       "19                None                 None          abs_norm   \n",
       "20                None                 None          lev_dist   \n",
       "21                None                 None           lev_sim   \n",
       "22                None                 None       exact_match   \n",
       "23                None                 None          abs_norm   \n",
       "24                None                 None          lev_dist   \n",
       "25                None                 None           lev_sim   \n",
       "26              wspace               wspace           jaccard   \n",
       "\n",
       "                                                      function  \\\n",
       "0                     <function ID_ID_lev_dist at 0x1163bd620>   \n",
       "1                      <function ID_ID_lev_sim at 0x11656aa60>   \n",
       "2                          <function ID_ID_jar at 0x11656a488>   \n",
       "3                          <function ID_ID_jwn at 0x11656abf8>   \n",
       "4                          <function ID_ID_exm at 0x11656ac80>   \n",
       "5              <function ID_ID_jac_qgm_3_qgm_3 at 0x11656ab70>   \n",
       "6          <function name_name_jac_qgm_3_qgm_3 at 0x11656a9d8>   \n",
       "7      <function name_name_cos_dlm_dc0_dlm_dc0 at 0x11656a730>   \n",
       "8      <function name_name_jac_dlm_dc0_dlm_dc0 at 0x11656ad08>   \n",
       "9                      <function name_name_mel at 0x11656ad90>   \n",
       "10                <function name_name_lev_dist at 0x11656ae18>   \n",
       "11                 <function name_name_lev_sim at 0x11656aea0>   \n",
       "12                     <function name_name_nmw at 0x11656af28>   \n",
       "13                      <function name_name_sw at 0x116599048>   \n",
       "14         <function birth_year_birth_year_exm at 0x1165990d0>   \n",
       "15         <function birth_year_birth_year_anm at 0x116599158>   \n",
       "16    <function birth_year_birth_year_lev_dist at 0x1165991e0>   \n",
       "17     <function birth_year_birth_year_lev_sim at 0x116599268>   \n",
       "18       <function hourly_wage_hourly_wage_exm at 0x1165992f0>   \n",
       "19       <function hourly_wage_hourly_wage_anm at 0x116599378>   \n",
       "20  <function hourly_wage_hourly_wage_lev_dist at 0x116599400>   \n",
       "21   <function hourly_wage_hourly_wage_lev_sim at 0x116599488>   \n",
       "22               <function zipcode_zipcode_exm at 0x116599840>   \n",
       "23               <function zipcode_zipcode_anm at 0x1165997b8>   \n",
       "24          <function zipcode_zipcode_lev_dist at 0x1165996a8>   \n",
       "25           <function zipcode_zipcode_lev_sim at 0x116599598>   \n",
       "26                                <function fn at 0x1163bdae8>   \n",
       "\n",
       "                                                                                        function_source  \\\n",
       "0   from magellan.feature.simfunctions import *\\nfrom magellan.feature.tokenizers import *\\ndef ID_I...   \n",
       "1   from magellan.feature.simfunctions import *\\nfrom magellan.feature.tokenizers import *\\ndef ID_I...   \n",
       "2   from magellan.feature.simfunctions import *\\nfrom magellan.feature.tokenizers import *\\ndef ID_I...   \n",
       "3   from magellan.feature.simfunctions import *\\nfrom magellan.feature.tokenizers import *\\ndef ID_I...   \n",
       "4   from magellan.feature.simfunctions import *\\nfrom magellan.feature.tokenizers import *\\ndef ID_I...   \n",
       "5   from magellan.feature.simfunctions import *\\nfrom magellan.feature.tokenizers import *\\ndef ID_I...   \n",
       "6   from magellan.feature.simfunctions import *\\nfrom magellan.feature.tokenizers import *\\ndef name...   \n",
       "7   from magellan.feature.simfunctions import *\\nfrom magellan.feature.tokenizers import *\\ndef name...   \n",
       "8   from magellan.feature.simfunctions import *\\nfrom magellan.feature.tokenizers import *\\ndef name...   \n",
       "9   from magellan.feature.simfunctions import *\\nfrom magellan.feature.tokenizers import *\\ndef name...   \n",
       "10  from magellan.feature.simfunctions import *\\nfrom magellan.feature.tokenizers import *\\ndef name...   \n",
       "11  from magellan.feature.simfunctions import *\\nfrom magellan.feature.tokenizers import *\\ndef name...   \n",
       "12  from magellan.feature.simfunctions import *\\nfrom magellan.feature.tokenizers import *\\ndef name...   \n",
       "13  from magellan.feature.simfunctions import *\\nfrom magellan.feature.tokenizers import *\\ndef name...   \n",
       "14  from magellan.feature.simfunctions import *\\nfrom magellan.feature.tokenizers import *\\ndef birt...   \n",
       "15  from magellan.feature.simfunctions import *\\nfrom magellan.feature.tokenizers import *\\ndef birt...   \n",
       "16  from magellan.feature.simfunctions import *\\nfrom magellan.feature.tokenizers import *\\ndef birt...   \n",
       "17  from magellan.feature.simfunctions import *\\nfrom magellan.feature.tokenizers import *\\ndef birt...   \n",
       "18  from magellan.feature.simfunctions import *\\nfrom magellan.feature.tokenizers import *\\ndef hour...   \n",
       "19  from magellan.feature.simfunctions import *\\nfrom magellan.feature.tokenizers import *\\ndef hour...   \n",
       "20  from magellan.feature.simfunctions import *\\nfrom magellan.feature.tokenizers import *\\ndef hour...   \n",
       "21  from magellan.feature.simfunctions import *\\nfrom magellan.feature.tokenizers import *\\ndef hour...   \n",
       "22  from magellan.feature.simfunctions import *\\nfrom magellan.feature.tokenizers import *\\ndef zipc...   \n",
       "23  from magellan.feature.simfunctions import *\\nfrom magellan.feature.tokenizers import *\\ndef zipc...   \n",
       "24  from magellan.feature.simfunctions import *\\nfrom magellan.feature.tokenizers import *\\ndef zipc...   \n",
       "25  from magellan.feature.simfunctions import *\\nfrom magellan.feature.tokenizers import *\\ndef zipc...   \n",
       "26          def fn(ltuple, rtuple):\\n    return jaccard(wspace(ltuple['name']), wspace(rtuple['name']))   \n",
       "\n",
       "   is_auto_generated  \n",
       "0               True  \n",
       "1               True  \n",
       "2               True  \n",
       "3               True  \n",
       "4               True  \n",
       "5               True  \n",
       "6               True  \n",
       "7               True  \n",
       "8               True  \n",
       "9               True  \n",
       "10              True  \n",
       "11              True  \n",
       "12              True  \n",
       "13              True  \n",
       "14              True  \n",
       "15              True  \n",
       "16              True  \n",
       "17              True  \n",
       "18              True  \n",
       "19              True  \n",
       "20              True  \n",
       "21              True  \n",
       "22              True  \n",
       "23              True  \n",
       "24              True  \n",
       "25              True  \n",
       "26             False  "
      ]
     },
     "execution_count": 27,
     "metadata": {},
     "output_type": "execute_result"
    },
    {
     "name": "stdout",
     "output_type": "stream",
     "text": [
      "time: 24.6 ms\n"
     ]
    }
   ],
   "source": [
    "feature_table"
   ]
  }
 ],
 "metadata": {
  "kernelspec": {
   "display_name": "Python 3",
   "language": "python",
   "name": "python3"
  },
  "language_info": {
   "codemirror_mode": {
    "name": "ipython",
    "version": 3
   },
   "file_extension": ".py",
   "mimetype": "text/x-python",
   "name": "python",
   "nbconvert_exporter": "python",
   "pygments_lexer": "ipython3",
   "version": "3.5.1"
  }
 },
 "nbformat": 4,
 "nbformat_minor": 0
}
