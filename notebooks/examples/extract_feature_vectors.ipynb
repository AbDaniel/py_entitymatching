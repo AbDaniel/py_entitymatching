{
 "cells": [
  {
   "cell_type": "code",
   "execution_count": 1,
   "metadata": {
    "collapsed": true
   },
   "outputs": [],
   "source": [
    "%load_ext autotime"
   ]
  },
  {
   "cell_type": "code",
   "execution_count": 2,
   "metadata": {
    "collapsed": false
   },
   "outputs": [
    {
     "name": "stdout",
     "output_type": "stream",
     "text": [
      "time: 6.52 ms\n"
     ]
    }
   ],
   "source": [
    "import imp # need to be done for python 3\n",
    "import logging\n",
    "imp.reload(logging)\n",
    "logging.basicConfig(format='%(asctime)s %(levelname)s:%(message)s', \n",
    "                    level=logging.DEBUG, datefmt='%I:%M:%S')"
   ]
  },
  {
   "cell_type": "code",
   "execution_count": 3,
   "metadata": {
    "collapsed": false
   },
   "outputs": [
    {
     "name": "stdout",
     "output_type": "stream",
     "text": [
      "time: 875 µs\n"
     ]
    }
   ],
   "source": [
    "import sys\n",
    "import os"
   ]
  },
  {
   "cell_type": "code",
   "execution_count": 5,
   "metadata": {
    "collapsed": false
   },
   "outputs": [
    {
     "name": "stdout",
     "output_type": "stream",
     "text": [
      "time: 835 µs\n"
     ]
    }
   ],
   "source": [
    "sys.path.append('/Users/pradap/Documents/Research/Python-Package/anhaid/magellan/')"
   ]
  },
  {
   "cell_type": "code",
   "execution_count": 7,
   "metadata": {
    "collapsed": false
   },
   "outputs": [
    {
     "name": "stdout",
     "output_type": "stream",
     "text": [
      "time: 2.47 s\n"
     ]
    }
   ],
   "source": [
    "import magellan as mg"
   ]
  },
  {
   "cell_type": "code",
   "execution_count": 18,
   "metadata": {
    "collapsed": false
   },
   "outputs": [
    {
     "name": "stdout",
     "output_type": "stream",
     "text": [
      "time: 1.86 ms\n"
     ]
    }
   ],
   "source": [
    "path_a = os.sep.join(['data', 'DBLP_demo.csv'])\n",
    "path_b = os.sep.join(['data', 'ACM_demo.csv'])\n",
    "path_c = os.sep.join(['data', 'dblp_acm_demo_labels.csv'])"
   ]
  },
  {
   "cell_type": "code",
   "execution_count": null,
   "metadata": {
    "collapsed": true
   },
   "outputs": [],
   "source": []
  },
  {
   "cell_type": "code",
   "execution_count": 21,
   "metadata": {
    "collapsed": false
   },
   "outputs": [
    {
     "name": "stderr",
     "output_type": "stream",
     "text": [
      "08:44:00 WARNING:Metadata file is not present in the given path; proceeding to read the csv file.\n",
      "08:44:00 WARNING:Metadata file is not present in the given path; proceeding to read the csv file.\n",
      "08:44:00 WARNING:Metadata file is not present in the given path; proceeding to read the csv file.\n"
     ]
    },
    {
     "name": "stdout",
     "output_type": "stream",
     "text": [
      "time: 28.1 ms\n"
     ]
    }
   ],
   "source": [
    "A = mg.read_csv_metadata(path_a, key='id')\n",
    "B = mg.read_csv_metadata(path_b, key='id')\n",
    "C = mg.read_csv_metadata(path_c, key='_id', ltable=A, rtable=B, fk_ltable='ltable.id', \n",
    "                        fk_rtable='rtable.id')"
   ]
  },
  {
   "cell_type": "code",
   "execution_count": 30,
   "metadata": {
    "collapsed": false
   },
   "outputs": [
    {
     "name": "stderr",
     "output_type": "stream",
     "text": [
      "08:53:24 WARNING:Magellan types: id type (str_eq_1w) and id type (numeric) are different.If you want to set them to be same and generate features, update output from get_attr_types and use get_features command.\n",
      "\n",
      "08:53:24 WARNING:Magellan types: venue type (str_bt_1w_5w) and venue type (str_bt_5w_10w) are different.If you want to set them to be same and generate features, update output from get_attr_types and use get_features command.\n",
      "\n"
     ]
    },
    {
     "name": "stdout",
     "output_type": "stream",
     "text": [
      "time: 88.4 ms\n"
     ]
    }
   ],
   "source": [
    "feature_table = mg.get_features_for_matching(A, B)"
   ]
  },
  {
   "cell_type": "code",
   "execution_count": 31,
   "metadata": {
    "collapsed": false
   },
   "outputs": [
    {
     "name": "stdout",
     "output_type": "stream",
     "text": [
      "time: 911 µs\n"
     ]
    }
   ],
   "source": [
    "def fn(ltuple, rtuple):\n",
    "    return 1.0"
   ]
  },
  {
   "cell_type": "code",
   "execution_count": 32,
   "metadata": {
    "collapsed": false
   },
   "outputs": [
    {
     "name": "stdout",
     "output_type": "stream",
     "text": [
      "Help on function extract_feature_vecs in module magellan.feature.extractfeatures:\n",
      "\n",
      "extract_feature_vecs(candset, attrs_before=None, feature_table=None, attrs_after=None, verbose=True)\n",
      "    This function extracts feature vectors from a DataFrame (typically a\n",
      "    labeled candidate set). Specifically, this function uses the feature\n",
      "    table, and the ltable and rtable (that is present in the candset's\n",
      "    metadata) tuples to generate features.\n",
      "    \n",
      "    Args:\n",
      "        candset (DataFrame): Input pandas DataFrame for which the features\n",
      "            vectors should be generated.\n",
      "        attrs_before (list): The list of attributes from the input candset,\n",
      "            that should added before the feature vectors (defaults to None).\n",
      "        feature_table (DataFrame): A pandas DataFrame containing a list of\n",
      "            features that should be used to compute the feature vectors (\n",
      "            defaults to None).\n",
      "        attrs_after (list): The list of attributes from the input candset\n",
      "            that should be added after the feature vectors (defaults to None).\n",
      "        verbose (boolean): A flag to indicate whether the debug information\n",
      "            should be displayed.\n",
      "    \n",
      "    Returns:\n",
      "        A DataFrame containing feature vectors is returned. The\n",
      "        DataFrame will have metadata such as ltable and rtable, pointing to the\n",
      "        same ltable and rtable as the input candset. Also, the output\n",
      "        DataFrame will have three columns: key, foreign key ltable, foreign\n",
      "        key rtable copied from input candset to the output DataFrame.\n",
      "    \n",
      "    Raises:\n",
      "        AssertionError: If the input object (candset) is not of type pandas\n",
      "            DataFrame.\n",
      "        AssertionError: If the input list (attrs_before) has attributes that\n",
      "            are not present in the input candset.\n",
      "        AssertionError: If the input list (attrs_after) has attribtues that\n",
      "            are not present in the input candset.\n",
      "        AssertionError: If the feature table is set to None.\n",
      "\n",
      "time: 2.14 ms\n"
     ]
    }
   ],
   "source": [
    "help(mg.extract_feature_vecs)"
   ]
  },
  {
   "cell_type": "code",
   "execution_count": 33,
   "metadata": {
    "collapsed": false
   },
   "outputs": [
    {
     "data": {
      "text/plain": [
       "True"
      ]
     },
     "execution_count": 33,
     "metadata": {},
     "output_type": "execute_result"
    },
    {
     "name": "stdout",
     "output_type": "stream",
     "text": [
      "time: 167 ms\n"
     ]
    }
   ],
   "source": [
    "mg.add_blackbox_feature(feature_table, 'temp_feature', fn)"
   ]
  },
  {
   "cell_type": "code",
   "execution_count": 34,
   "metadata": {
    "collapsed": false
   },
   "outputs": [
    {
     "name": "stdout",
     "output_type": "stream",
     "text": [
      "time: 860 ms\n"
     ]
    }
   ],
   "source": [
    "feature_vectors = mg.extract_feature_vecs(C, feature_table=feature_table, attrs_after='gold', \n",
    "                                          verbose=False)"
   ]
  },
  {
   "cell_type": "code",
   "execution_count": 26,
   "metadata": {
    "collapsed": false
   },
   "outputs": [
    {
     "name": "stderr",
     "output_type": "stream",
     "text": [
      "08:45:28 INFO:Required metadata: cand.set key, fk ltable, fk rtable, ltable, rtable, ltable key, rtable key\n",
      "08:45:28 INFO:Getting metadata from the catalog\n",
      "08:45:28 INFO:..... Done\n",
      "08:45:28 INFO:Validating candset key: _id\n",
      "08:45:28 INFO:..... Done\n",
      "08:45:28 INFO:Validating foreign key constraint for left table\n",
      "08:45:28 INFO:..... Done\n",
      "08:45:28 INFO:Validating foreign key constraint for right table\n",
      "08:45:28 INFO:..... Done\n"
     ]
    },
    {
     "name": "stdout",
     "output_type": "stream",
     "text": [
      "time: 1.06 s\n"
     ]
    }
   ],
   "source": [
    "feature_vectors = mg.extract_feature_vecs(C, feature_table=feature_table, attrs_after='gold', \n",
    "                                          verbose=True)"
   ]
  },
  {
   "cell_type": "code",
   "execution_count": 37,
   "metadata": {
    "collapsed": false
   },
   "outputs": [
    {
     "name": "stdout",
     "output_type": "stream",
     "text": [
      "id: 4675234336\n",
      "fk_ltable: ltable.id\n",
      "key: _id\n",
      "ltable(obj.id): 4674988072\n",
      "fk_rtable: rtable.id\n",
      "rtable(obj.id): 4674988576\n",
      "time: 4.31 ms\n"
     ]
    }
   ],
   "source": [
    "mg.show_properties(feature_vectors)"
   ]
  }
 ],
 "metadata": {
  "kernelspec": {
   "display_name": "Python 3",
   "language": "python",
   "name": "python3"
  },
  "language_info": {
   "codemirror_mode": {
    "name": "ipython",
    "version": 3
   },
   "file_extension": ".py",
   "mimetype": "text/x-python",
   "name": "python",
   "nbconvert_exporter": "python",
   "pygments_lexer": "ipython3",
   "version": "3.5.1"
  }
 },
 "nbformat": 4,
 "nbformat_minor": 0
}
