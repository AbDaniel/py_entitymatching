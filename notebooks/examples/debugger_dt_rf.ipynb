{
 "cells": [
  {
   "cell_type": "code",
   "execution_count": 1,
   "metadata": {
    "collapsed": true
   },
   "outputs": [],
   "source": [
    "%load_ext autotime"
   ]
  },
  {
   "cell_type": "code",
   "execution_count": 2,
   "metadata": {
    "collapsed": false
   },
   "outputs": [
    {
     "name": "stdout",
     "output_type": "stream",
     "text": [
      "time: 6.8 ms\n"
     ]
    }
   ],
   "source": [
    "import imp # need to be done for python 3\n",
    "import logging\n",
    "imp.reload(logging)\n",
    "logging.basicConfig(format='%(asctime)s %(levelname)s:%(message)s', \n",
    "                    level=logging.DEBUG, datefmt='%I:%M:%S')"
   ]
  },
  {
   "cell_type": "code",
   "execution_count": 3,
   "metadata": {
    "collapsed": false
   },
   "outputs": [
    {
     "name": "stdout",
     "output_type": "stream",
     "text": [
      "time: 821 µs\n"
     ]
    }
   ],
   "source": [
    "import sys\n",
    "import os"
   ]
  },
  {
   "cell_type": "code",
   "execution_count": 4,
   "metadata": {
    "collapsed": false
   },
   "outputs": [
    {
     "name": "stdout",
     "output_type": "stream",
     "text": [
      "time: 759 µs\n"
     ]
    }
   ],
   "source": [
    "sys.path.append('/Users/pradap/Documents/Research/Python-Package/anhaid/magellan/')"
   ]
  },
  {
   "cell_type": "code",
   "execution_count": 5,
   "metadata": {
    "collapsed": false
   },
   "outputs": [
    {
     "name": "stdout",
     "output_type": "stream",
     "text": [
      "time: 2.45 s\n"
     ]
    }
   ],
   "source": [
    "import magellan as mg"
   ]
  },
  {
   "cell_type": "code",
   "execution_count": 6,
   "metadata": {
    "collapsed": false
   },
   "outputs": [
    {
     "name": "stdout",
     "output_type": "stream",
     "text": [
      "time: 2.07 ms\n"
     ]
    }
   ],
   "source": [
    "path_a = os.sep.join(['data', 'DBLP_demo.csv'])\n",
    "path_b = os.sep.join(['data', 'ACM_demo.csv'])\n",
    "path_c = os.sep.join(['data', 'dblp_acm_demo_labels.csv'])"
   ]
  },
  {
   "cell_type": "code",
   "execution_count": 7,
   "metadata": {
    "collapsed": false
   },
   "outputs": [
    {
     "name": "stderr",
     "output_type": "stream",
     "text": [
      "10:27:05 WARNING:Metadata file is not present in the given path; proceeding to read the csv file.\n",
      "10:27:05 WARNING:Metadata file is not present in the given path; proceeding to read the csv file.\n",
      "10:27:05 WARNING:Metadata file is not present in the given path; proceeding to read the csv file.\n"
     ]
    },
    {
     "name": "stdout",
     "output_type": "stream",
     "text": [
      "time: 20.6 ms\n"
     ]
    }
   ],
   "source": [
    "A = mg.read_csv_metadata(path_a, key='id')\n",
    "B = mg.read_csv_metadata(path_b, key='id')\n",
    "C = mg.read_csv_metadata(path_c, key='_id', ltable=A, rtable=B, fk_ltable='ltable.id', \n",
    "                        fk_rtable='rtable.id')"
   ]
  },
  {
   "cell_type": "code",
   "execution_count": 8,
   "metadata": {
    "collapsed": false
   },
   "outputs": [
    {
     "name": "stderr",
     "output_type": "stream",
     "text": [
      "10:27:23 WARNING:Magellan types: id type (str_eq_1w) and id type (numeric) are different.If you want to set them to be same and generate features, update output from get_attr_types and use get_features command.\n",
      "\n",
      "10:27:24 WARNING:Magellan types: venue type (str_bt_1w_5w) and venue type (str_bt_5w_10w) are different.If you want to set them to be same and generate features, update output from get_attr_types and use get_features command.\n",
      "\n"
     ]
    },
    {
     "name": "stdout",
     "output_type": "stream",
     "text": [
      "time: 51.3 ms\n"
     ]
    }
   ],
   "source": [
    "feature_table = mg.get_features_for_matching(A, B)"
   ]
  },
  {
   "cell_type": "code",
   "execution_count": 10,
   "metadata": {
    "collapsed": false
   },
   "outputs": [
    {
     "name": "stderr",
     "output_type": "stream",
     "text": [
      "10:27:57 INFO:Required metadata: cand.set key, fk ltable, fk rtable, ltable, rtable, ltable key, rtable key\n",
      "10:27:57 INFO:Getting metadata from the catalog\n",
      "10:27:57 INFO:..... Done\n",
      "10:27:57 INFO:Validating candset key: _id\n",
      "10:27:57 INFO:..... Done\n",
      "10:27:57 INFO:Validating foreign key constraint for left table\n",
      "10:27:57 INFO:..... Done\n",
      "10:27:57 INFO:Validating foreign key constraint for right table\n",
      "10:27:57 INFO:..... Done\n"
     ]
    },
    {
     "name": "stdout",
     "output_type": "stream",
     "text": [
      "time: 986 ms\n"
     ]
    }
   ],
   "source": [
    "feature_vectors = mg.extract_feature_vecs(C, feature_table=feature_table,\n",
    "                                         attrs_after='gold')"
   ]
  },
  {
   "cell_type": "code",
   "execution_count": 11,
   "metadata": {
    "collapsed": false
   },
   "outputs": [
    {
     "name": "stdout",
     "output_type": "stream",
     "text": [
      "time: 1.15 ms\n"
     ]
    }
   ],
   "source": [
    "dt = mg.DTMatcher()\n",
    "rf = mg.RFMatcher()"
   ]
  },
  {
   "cell_type": "code",
   "execution_count": 15,
   "metadata": {
    "collapsed": false
   },
   "outputs": [
    {
     "name": "stdout",
     "output_type": "stream",
     "text": [
      "time: 119 ms\n"
     ]
    }
   ],
   "source": [
    "feature_vectors.fillna(0, inplace=True)"
   ]
  },
  {
   "cell_type": "code",
   "execution_count": 16,
   "metadata": {
    "collapsed": false
   },
   "outputs": [
    {
     "name": "stderr",
     "output_type": "stream",
     "text": [
      "10:31:07 INFO:Required metadata: cand.set key, fk ltable, fk rtable, ltable, rtable, ltable key, rtable key\n",
      "10:31:07 INFO:Getting metadata from the catalog\n",
      "10:31:07 INFO:..... Done\n",
      "10:31:07 INFO:Validating candset key: _id\n",
      "10:31:07 INFO:..... Done\n",
      "10:31:07 INFO:Validating foreign key constraint for left table\n",
      "10:31:07 INFO:..... Done\n",
      "10:31:07 INFO:Validating foreign key constraint for right table\n",
      "10:31:07 INFO:..... Done\n"
     ]
    },
    {
     "name": "stdout",
     "output_type": "stream",
     "text": [
      "time: 17.6 ms\n"
     ]
    }
   ],
   "source": [
    "train_test = mg.train_test_split(feature_vectors)\n",
    "train = train_test['train']\n",
    "test = train_test['test']"
   ]
  },
  {
   "cell_type": "code",
   "execution_count": 17,
   "metadata": {
    "collapsed": false
   },
   "outputs": [
    {
     "name": "stdout",
     "output_type": "stream",
     "text": [
      "time: 31.2 s\n"
     ]
    }
   ],
   "source": [
    "mg.vis_debug_rf(rf, train, test, \n",
    "                exclude_attrs=['_id', 'ltable.id', 'rtable.id', 'gold'],\n",
    "               target_attr='gold')"
   ]
  },
  {
   "cell_type": "code",
   "execution_count": 18,
   "metadata": {
    "collapsed": false
   },
   "outputs": [
    {
     "name": "stdout",
     "output_type": "stream",
     "text": [
      "time: 15.5 s\n"
     ]
    }
   ],
   "source": [
    "mg.vis_debug_dt(dt, train, test, \n",
    "                exclude_attrs=['_id', 'ltable.id', 'rtable.id', 'gold'],\n",
    "               target_attr='gold')"
   ]
  },
  {
   "cell_type": "code",
   "execution_count": 21,
   "metadata": {
    "collapsed": false
   },
   "outputs": [
    {
     "name": "stdout",
     "output_type": "stream",
     "text": [
      "Help on function visualize_tree in module magellan.debugmatcher.debug_decisiontree_matcher:\n",
      "\n",
      "visualize_tree(decision_tree, table_columns, exclude_attrs=None)\n",
      "    This function is used to visualize the decision tree learned from the\n",
      "    training data using the 'fit' method.\n",
      "    \n",
      "    Note that, this function does not pop up a visualization of a decision tree.\n",
      "    It creates a png file in the local directory and the user has to\n",
      "    explicitly open the file to view the tree. More over, this function uses\n",
      "    'dot'  command and graphviz to create the\n",
      "    visualization. It is assumed that the 'dot' command is present and\n",
      "    graphviz is installed in the local machine, which this function is executed.\n",
      "    \n",
      "    Args:\n",
      "        decision_tree (DTMatcher or DecisionTreeClassifier): The decision tree\n",
      "            matcher for which the visualization needs to be generated.\n",
      "        table_columns (list): Attributes that were\n",
      "            from the input table that was used to train the decision tree.\n",
      "        exclude_attrs (list): Attributes that should be removed from the\n",
      "            table columns to get the actual feature vectors (defaults to None).\n",
      "\n",
      "time: 961 µs\n"
     ]
    }
   ],
   "source": [
    "help(mg.visualize_tree)"
   ]
  },
  {
   "cell_type": "code",
   "execution_count": 23,
   "metadata": {
    "collapsed": false
   },
   "outputs": [
    {
     "name": "stdout",
     "output_type": "stream",
     "text": [
      "Execute the following command in IPython command prompt:\n",
      "\n",
      "from IPython.display import Image\n",
      "Image(filename='dt_.png') \n",
      "time: 493 ms\n"
     ]
    }
   ],
   "source": [
    "mg.visualize_tree(dt, feature_vectors.columns, \n",
    "                  exclude_attrs=['_id', 'ltable.id', 'rtable.id', 'gold'])"
   ]
  },
  {
   "cell_type": "code",
   "execution_count": 24,
   "metadata": {
    "collapsed": false
   },
   "outputs": [
    {
     "data": {
      "image/png": "[encoded data removed]",
      "text/plain": [
       "<IPython.core.display.Image object>"
      ]
     },
     "execution_count": 24,
     "metadata": {},
     "output_type": "execute_result"
    },
    {
     "name": "stdout",
     "output_type": "stream",
     "text": [
      "time: 19 ms\n"
     ]
    }
   ],
   "source": [
    "from IPython.display import Image\n",
    "Image(filename='dt_.png') "
   ]
  },
  {
   "cell_type": "code",
   "execution_count": 25,
   "metadata": {
    "collapsed": false
   },
   "outputs": [
    {
     "name": "stdout",
     "output_type": "stream",
     "text": [
      "Help on function vis_tuple_debug_dt_matcher in module magellan.debugmatcher.debug_gui_decisiontree_matcher:\n",
      "\n",
      "vis_tuple_debug_dt_matcher(matcher, t, exclude_attrs)\n",
      "    Visualize a matcher debugging a tuple.\n",
      "\n",
      "time: 1.16 ms\n"
     ]
    }
   ],
   "source": [
    "help(mg.vis_tuple_debug_dt_matcher)"
   ]
  },
  {
   "cell_type": "code",
   "execution_count": 26,
   "metadata": {
    "collapsed": false
   },
   "outputs": [
    {
     "name": "stdout",
     "output_type": "stream",
     "text": [
      "Help on function debug_decisiontree_matcher in module magellan.debugmatcher.debug_decisiontree_matcher:\n",
      "\n",
      "debug_decisiontree_matcher(decision_tree, tuple_1, tuple_2, feature_table, table_columns, exclude_attrs=None)\n",
      "    This function is used to debug a tree, using two input tuples.\n",
      "    Specifically, this function takes in two tuples, gets the feature vector\n",
      "    using the feature table and finally passes it to the decision tree and\n",
      "    displays the path that the feature vector takes in the decision tree.\n",
      "    Args:\n",
      "        decision_tree (DTMatcher or Decision Tree Classifier): The input\n",
      "            decision tree object that should be debugged.\n",
      "        tuple_1, tuple_2 (Series): Input tuples that should be debugged.\n",
      "        feature_table (DataFrame): Feature table containing the functions\n",
      "            for the features.\n",
      "        table_columns (list): List of all columns that will be outputted\n",
      "            after generation of feature vectors.\n",
      "        exclude_attrs (list): List of attributes that should be removed from\n",
      "            the table columns.\n",
      "    Raises:\n",
      "        AssertionError: If the input feature table is not of type pandas\n",
      "            DataFrame.\n",
      "\n",
      "time: 1.4 ms\n"
     ]
    }
   ],
   "source": [
    "help(mg.debug_decisiontree_matcher)"
   ]
  },
  {
   "cell_type": "code",
   "execution_count": 27,
   "metadata": {
    "collapsed": false
   },
   "outputs": [
    {
     "name": "stdout",
     "output_type": "stream",
     "text": [
      "    title_title_lev_sim <= 0.545714259148 is False (  value : 0.9066666666666666)\n",
      "    year_year_lev_dist <= 2.5 is True (  value : 2)\n",
      "Match status : True\n",
      "time: 5.9 ms\n"
     ]
    }
   ],
   "source": [
    "mg.debug_decisiontree_matcher(dt, A.ix[1], B.ix[2], feature_table, feature_vectors.columns, \n",
    "                             exclude_attrs=['_id', 'ltable.id', 'rtable.id', 'gold'])"
   ]
  },
  {
   "cell_type": "code",
   "execution_count": 28,
   "metadata": {
    "collapsed": false
   },
   "outputs": [
    {
     "name": "stdout",
     "output_type": "stream",
     "text": [
      "Summary: Num trees = 10; Mean Prob. for non-match = 0.0; Mean Prob for match = 1.0; Match status =  True\n",
      "\n",
      "Tree 1\n",
      "    title_title_lev_sim <= 0.449342131615 is False (  value : 0.9066666666666666)\n",
      "    year_year_lev_dist <= 2.5 is True (  value : 2)\n",
      "    Prob. for non-match : 0.0\n",
      "    Prob for match : 1.0\n",
      "\n",
      "Tree 2\n",
      "    title_title_lev_dist <= 18.5 is True (  value : 7)\n",
      "    year_year_lev_dist <= 2.5 is True (  value : 2)\n",
      "    Prob. for non-match : 0.0\n",
      "    Prob for match : 1.0\n",
      "\n",
      "Tree 3\n",
      "    title_title_lev_sim <= 0.560000002384 is False (  value : 0.9066666666666666)\n",
      "    authors_authors_mel <= 0.484920650721 is False (  value : 0.7264027437940482)\n",
      "    Prob. for non-match : 0.0\n",
      "    Prob for match : 1.0\n",
      "\n",
      "Tree 4\n",
      "    title_title_jac_qgm_3_qgm_3 <= 0.39411765337 is False (  value : 0.5851063829787234)\n",
      "    year_year_lev_sim <= 0.58333337307 is False (  value : 0.6666666666666667)\n",
      "    Prob. for non-match : 0.0\n",
      "    Prob for match : 1.0\n",
      "\n",
      "Tree 5\n",
      "    title_title_lev_sim <= 0.545714259148 is False (  value : 0.9066666666666666)\n",
      "    year_year_anm <= 0.999749660492 is False (  value : 1.0)\n",
      "    Prob. for non-match : 0.0\n",
      "    Prob for match : 1.0\n",
      "\n",
      "Tree 6\n",
      "    title_title_jac_qgm_3_qgm_3 <= 0.377200573683 is False (  value : 0.5851063829787234)\n",
      "    year_year_lev_dist <= 2.5 is True (  value : 2)\n",
      "    title_title_lev_sim <= 0.527380943298 is False (  value : 0.9066666666666666)\n",
      "    Prob. for non-match : 0.0\n",
      "    Prob for match : 1.0\n",
      "\n",
      "Tree 7\n",
      "    title_title_lev_sim <= 0.449342131615 is False (  value : 0.9066666666666666)\n",
      "    year_year_lev_sim <= 0.58333337307 is False (  value : 0.6666666666666667)\n",
      "    Prob. for non-match : 0.0\n",
      "    Prob for match : 1.0\n",
      "\n",
      "Tree 8\n",
      "    authors_authors_cos_dlm_dc0_dlm_dc0 <= 0.490192234516 is False (  value : 0.6708203932499369)\n",
      "    title_title_mel <= 0.829145729542 is False (  value : 0.8959994700582935)\n",
      "    authors_authors_jac_qgm_3_qgm_3 <= 0.668087124825 is False (  value : 0.6753246753246753)\n",
      "    Prob. for non-match : 0.0\n",
      "    Prob for match : 1.0\n",
      "\n",
      "Tree 9\n",
      "    authors_authors_cos_dlm_dc0_dlm_dc0 <= 0.414208292961 is False (  value : 0.6708203932499369)\n",
      "    year_year_lev_sim <= 0.58333337307 is False (  value : 0.6666666666666667)\n",
      "    authors_authors_mel <= 0.88366150856 is True (  value : 0.7264027437940482)\n",
      "    title_title_lev_dist <= 30.5 is True (  value : 7)\n",
      "    Prob. for non-match : 0.0\n",
      "    Prob for match : 1.0\n",
      "\n",
      "Tree 10\n",
      "    title_title_mel <= 0.816804945469 is False (  value : 0.8959994700582935)\n",
      "    year_year_lev_dist <= 2.5 is True (  value : 2)\n",
      "    Prob. for non-match : 0.0\n",
      "    Prob for match : 1.0\n",
      "\n",
      "time: 85.3 ms\n"
     ]
    }
   ],
   "source": [
    "mg.debug_randomforest_matcher(rf, A.ix[1], B.ix[2], feature_table, feature_vectors.columns, \n",
    "                             exclude_attrs=['_id', 'ltable.id', 'rtable.id', 'gold'])"
   ]
  }
 ],
 "metadata": {
  "kernelspec": {
   "display_name": "Python 3",
   "language": "python",
   "name": "python3"
  },
  "language_info": {
   "codemirror_mode": {
    "name": "ipython",
    "version": 3
   },
   "file_extension": ".py",
   "mimetype": "text/x-python",
   "name": "python",
   "nbconvert_exporter": "python",
   "pygments_lexer": "ipython3",
   "version": "3.5.1"
  }
 },
 "nbformat": 4,
 "nbformat_minor": 0
}
