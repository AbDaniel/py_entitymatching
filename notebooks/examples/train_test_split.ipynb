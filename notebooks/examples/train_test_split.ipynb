{
 "cells": [
  {
   "cell_type": "code",
   "execution_count": 1,
   "metadata": {
    "collapsed": true
   },
   "outputs": [],
   "source": [
    "%load_ext autotime"
   ]
  },
  {
   "cell_type": "code",
   "execution_count": 2,
   "metadata": {
    "collapsed": false
   },
   "outputs": [
    {
     "name": "stdout",
     "output_type": "stream",
     "text": [
      "time: 8.88 ms\n"
     ]
    }
   ],
   "source": [
    "import imp # need to be done for python 3\n",
    "import logging\n",
    "imp.reload(logging)\n",
    "logging.basicConfig(format='%(asctime)s %(levelname)s:%(message)s', \n",
    "                    level=logging.DEBUG, datefmt='%I:%M:%S')"
   ]
  },
  {
   "cell_type": "code",
   "execution_count": 3,
   "metadata": {
    "collapsed": false
   },
   "outputs": [
    {
     "name": "stdout",
     "output_type": "stream",
     "text": [
      "time: 822 µs\n"
     ]
    }
   ],
   "source": [
    "import sys\n",
    "import os"
   ]
  },
  {
   "cell_type": "code",
   "execution_count": 4,
   "metadata": {
    "collapsed": false
   },
   "outputs": [
    {
     "name": "stdout",
     "output_type": "stream",
     "text": [
      "time: 828 µs\n"
     ]
    }
   ],
   "source": [
    "sys.path.append('/Users/pradap/Documents/Research/Python-Package/anhaid/magellan/')"
   ]
  },
  {
   "cell_type": "code",
   "execution_count": 5,
   "metadata": {
    "collapsed": false
   },
   "outputs": [
    {
     "name": "stdout",
     "output_type": "stream",
     "text": [
      "time: 2.38 s\n"
     ]
    }
   ],
   "source": [
    "import magellan as mg"
   ]
  },
  {
   "cell_type": "code",
   "execution_count": 6,
   "metadata": {
    "collapsed": false
   },
   "outputs": [
    {
     "name": "stdout",
     "output_type": "stream",
     "text": [
      "time: 1.86 ms\n"
     ]
    }
   ],
   "source": [
    "path_a = os.sep.join(['data', 'DBLP_demo.csv'])\n",
    "path_b = os.sep.join(['data', 'ACM_demo.csv'])\n",
    "path_c = os.sep.join(['data', 'dblp_acm_demo_labels.csv'])"
   ]
  },
  {
   "cell_type": "code",
   "execution_count": 7,
   "metadata": {
    "collapsed": false
   },
   "outputs": [
    {
     "name": "stderr",
     "output_type": "stream",
     "text": [
      "10:17:33 WARNING:Metadata file is not present in the given path; proceeding to read the csv file.\n",
      "10:17:33 WARNING:Metadata file is not present in the given path; proceeding to read the csv file.\n",
      "10:17:33 WARNING:Metadata file is not present in the given path; proceeding to read the csv file.\n"
     ]
    },
    {
     "name": "stdout",
     "output_type": "stream",
     "text": [
      "time: 22.8 ms\n"
     ]
    }
   ],
   "source": [
    "A = mg.read_csv_metadata(path_a, key='id')\n",
    "B = mg.read_csv_metadata(path_b, key='id')\n",
    "C = mg.read_csv_metadata(path_c, key='_id', ltable=A, rtable=B, fk_ltable='ltable.id', \n",
    "                        fk_rtable='rtable.id')"
   ]
  },
  {
   "cell_type": "code",
   "execution_count": 8,
   "metadata": {
    "collapsed": false
   },
   "outputs": [
    {
     "name": "stdout",
     "output_type": "stream",
     "text": [
      "Help on function train_test_split in module magellan.matcher.matcherutils:\n",
      "\n",
      "train_test_split(labeled_data, train_proportion=0.5, random_state=None, verbose=True)\n",
      "    This function splits the input data into train and test.\n",
      "    \n",
      "    Specifically, this function is just a wrapper of scikit-learn's\n",
      "    train_test_split function. This function also takes care to metadata to\n",
      "    be copied properly to train and test splits.\n",
      "    \n",
      "    Args:\n",
      "        labeled_data (DataFrame): Input pandas DataFrame that needs to be\n",
      "            split into train and test.\n",
      "        train_proportion (float): A number between 0 and 1, indicating the\n",
      "            proportion of tuples that should be included in the train split (\n",
      "            defaults to 0.5).\n",
      "        random_state (object): A number of random number object (as in\n",
      "            scikit-learn).\n",
      "        verbose (boolean): A flag to indicate whether the debug information\n",
      "            should be displayed.\n",
      "    \n",
      "    Returns:\n",
      "        The command returns a dictionary with two keys: train, and test.\n",
      "        The value for the key 'train' is an MTable containing tuples\n",
      "        allocated from the input table based on train_proportion.\n",
      "        Similarly, the value for the key 'test' is an MTable containing\n",
      "        tuples for evaluation.\n",
      "\n",
      "time: 1.62 ms\n"
     ]
    }
   ],
   "source": [
    "help(mg.train_test_split)"
   ]
  },
  {
   "cell_type": "code",
   "execution_count": 9,
   "metadata": {
    "collapsed": false
   },
   "outputs": [
    {
     "name": "stderr",
     "output_type": "stream",
     "text": [
      "10:19:23 INFO:Required metadata: cand.set key, fk ltable, fk rtable, ltable, rtable, ltable key, rtable key\n",
      "10:19:23 INFO:Getting metadata from the catalog\n",
      "10:19:23 INFO:..... Done\n",
      "10:19:23 INFO:Validating candset key: _id\n",
      "10:19:23 INFO:..... Done\n",
      "10:19:23 INFO:Validating foreign key constraint for left table\n",
      "10:19:23 INFO:..... Done\n",
      "10:19:23 INFO:Validating foreign key constraint for right table\n",
      "10:19:23 INFO:..... Done\n"
     ]
    },
    {
     "name": "stdout",
     "output_type": "stream",
     "text": [
      "time: 19.3 ms\n"
     ]
    }
   ],
   "source": [
    "result = mg.train_test_split(C, verbose=True)"
   ]
  },
  {
   "cell_type": "code",
   "execution_count": 13,
   "metadata": {
    "collapsed": false
   },
   "outputs": [
    {
     "name": "stdout",
     "output_type": "stream",
     "text": [
      "id: 4668075536\n",
      "fk_ltable: ltable.id\n",
      "key: _id\n",
      "ltable(obj.id): 4668129968\n",
      "fk_rtable: rtable.id\n",
      "rtable(obj.id): 4668130304\n",
      "time: 838 µs\n"
     ]
    }
   ],
   "source": [
    "mg.show_properties(result['train'])"
   ]
  },
  {
   "cell_type": "code",
   "execution_count": 14,
   "metadata": {
    "collapsed": false
   },
   "outputs": [
    {
     "name": "stdout",
     "output_type": "stream",
     "text": [
      "id: 4668075480\n",
      "fk_ltable: ltable.id\n",
      "key: _id\n",
      "ltable(obj.id): 4668129968\n",
      "fk_rtable: rtable.id\n",
      "rtable(obj.id): 4668130304\n",
      "time: 866 µs\n"
     ]
    }
   ],
   "source": [
    "mg.show_properties(result['test'])"
   ]
  }
 ],
 "metadata": {
  "kernelspec": {
   "display_name": "Python 3",
   "language": "python",
   "name": "python3"
  },
  "language_info": {
   "codemirror_mode": {
    "name": "ipython",
    "version": 3
   },
   "file_extension": ".py",
   "mimetype": "text/x-python",
   "name": "python",
   "nbconvert_exporter": "python",
   "pygments_lexer": "ipython3",
   "version": "3.5.1"
  }
 },
 "nbformat": 4,
 "nbformat_minor": 0
}
