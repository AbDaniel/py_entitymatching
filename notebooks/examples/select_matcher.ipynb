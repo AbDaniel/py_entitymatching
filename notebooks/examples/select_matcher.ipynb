{
 "cells": [
  {
   "cell_type": "code",
   "execution_count": 1,
   "metadata": {
    "collapsed": true
   },
   "outputs": [],
   "source": [
    "%load_ext autotime"
   ]
  },
  {
   "cell_type": "code",
   "execution_count": 2,
   "metadata": {
    "collapsed": false
   },
   "outputs": [
    {
     "name": "stdout",
     "output_type": "stream",
     "text": [
      "time: 577 µs\n"
     ]
    }
   ],
   "source": [
    "### import and basic setup"
   ]
  },
  {
   "cell_type": "code",
   "execution_count": 3,
   "metadata": {
    "collapsed": false
   },
   "outputs": [
    {
     "name": "stdout",
     "output_type": "stream",
     "text": [
      "time: 6.15 ms\n"
     ]
    }
   ],
   "source": [
    "import imp # need to be done for python 3\n",
    "import logging\n",
    "imp.reload(logging)\n",
    "logging.basicConfig(format='%(asctime)s %(levelname)s:%(message)s', \n",
    "                    level=logging.DEBUG, datefmt='%I:%M:%S')"
   ]
  },
  {
   "cell_type": "code",
   "execution_count": 4,
   "metadata": {
    "collapsed": false
   },
   "outputs": [
    {
     "name": "stdout",
     "output_type": "stream",
     "text": [
      "time: 763 µs\n"
     ]
    }
   ],
   "source": [
    "import sys\n",
    "import os"
   ]
  },
  {
   "cell_type": "code",
   "execution_count": 5,
   "metadata": {
    "collapsed": false
   },
   "outputs": [
    {
     "name": "stdout",
     "output_type": "stream",
     "text": [
      "time: 734 µs\n"
     ]
    }
   ],
   "source": [
    "sys.path.append('/Users/pradap/Documents/Research/Python-Package/anhaid/magellan/')"
   ]
  },
  {
   "cell_type": "code",
   "execution_count": 6,
   "metadata": {
    "collapsed": false
   },
   "outputs": [
    {
     "name": "stdout",
     "output_type": "stream",
     "text": [
      "time: 2.45 s\n"
     ]
    }
   ],
   "source": [
    "import magellan as mg"
   ]
  },
  {
   "cell_type": "code",
   "execution_count": 7,
   "metadata": {
    "collapsed": false
   },
   "outputs": [
    {
     "name": "stdout",
     "output_type": "stream",
     "text": [
      "time: 1.66 ms\n"
     ]
    }
   ],
   "source": [
    "path_a = os.sep.join(['data', 'DBLP_demo.csv'])\n",
    "path_b = os.sep.join(['data', 'ACM_demo.csv'])\n",
    "path_c = os.sep.join(['data', 'dblp_acm_demo_labels.csv'])"
   ]
  },
  {
   "cell_type": "code",
   "execution_count": 8,
   "metadata": {
    "collapsed": false
   },
   "outputs": [
    {
     "name": "stderr",
     "output_type": "stream",
     "text": [
      "08:50:51 WARNING:Metadata file is not present in the given path; proceeding to read the csv file.\n",
      "08:50:51 WARNING:Metadata file is not present in the given path; proceeding to read the csv file.\n",
      "08:50:51 WARNING:Metadata file is not present in the given path; proceeding to read the csv file.\n"
     ]
    },
    {
     "name": "stdout",
     "output_type": "stream",
     "text": [
      "time: 21.7 ms\n"
     ]
    }
   ],
   "source": [
    "A = mg.read_csv_metadata(path_a, key='id')\n",
    "B = mg.read_csv_metadata(path_b, key='id')\n",
    "C = mg.read_csv_metadata(path_c, key='_id', ltable=A, rtable=B, fk_ltable='ltable.id', \n",
    "                        fk_rtable='rtable.id')"
   ]
  },
  {
   "cell_type": "code",
   "execution_count": 11,
   "metadata": {
    "collapsed": false
   },
   "outputs": [
    {
     "name": "stderr",
     "output_type": "stream",
     "text": [
      "08:58:02 WARNING:Magellan types: id type (str_eq_1w) and id type (numeric) are different.If you want to set them to be same and generate features, update output from get_attr_types and use get_features command.\n",
      "\n",
      "08:58:02 WARNING:Magellan types: venue type (str_bt_1w_5w) and venue type (str_bt_5w_10w) are different.If you want to set them to be same and generate features, update output from get_attr_types and use get_features command.\n",
      "\n"
     ]
    },
    {
     "name": "stdout",
     "output_type": "stream",
     "text": [
      "time: 57.6 ms\n"
     ]
    }
   ],
   "source": [
    "feature_table = mg.get_features_for_matching(A, B)"
   ]
  },
  {
   "cell_type": "code",
   "execution_count": 12,
   "metadata": {
    "collapsed": false
   },
   "outputs": [
    {
     "name": "stderr",
     "output_type": "stream",
     "text": [
      "08:58:30 INFO:Required metadata: cand.set key, fk ltable, fk rtable, ltable, rtable, ltable key, rtable key\n",
      "08:58:30 INFO:Getting metadata from the catalog\n",
      "08:58:30 INFO:..... Done\n",
      "08:58:30 INFO:Validating candset key: _id\n",
      "08:58:30 INFO:..... Done\n",
      "08:58:30 INFO:Validating foreign key constraint for left table\n",
      "08:58:30 INFO:..... Done\n",
      "08:58:30 INFO:Validating foreign key constraint for right table\n",
      "08:58:30 INFO:..... Done\n"
     ]
    },
    {
     "name": "stdout",
     "output_type": "stream",
     "text": [
      "time: 1.12 s\n"
     ]
    }
   ],
   "source": [
    "feature_vectors = mg.extract_feature_vecs(C, feature_table=feature_table, attrs_after='gold')"
   ]
  },
  {
   "cell_type": "code",
   "execution_count": 9,
   "metadata": {
    "collapsed": false
   },
   "outputs": [
    {
     "name": "stdout",
     "output_type": "stream",
     "text": [
      "time: 4.42 ms\n"
     ]
    }
   ],
   "source": [
    "# create matchers\n",
    "dt = mg.DTMatcher(name='dt')\n",
    "rf = mg.RFMatcher(name='rf')\n",
    "svm = mg.SVMMatcher(name='svm')\n",
    "lreg = mg.LogRegMatcher(name='logreg')\n",
    "linreg = mg.LinRegMatcher(name='linreg')\n",
    "nb = mg.NBMatcher(name='nb')"
   ]
  },
  {
   "cell_type": "code",
   "execution_count": 10,
   "metadata": {
    "collapsed": false
   },
   "outputs": [
    {
     "name": "stdout",
     "output_type": "stream",
     "text": [
      "Help on function select_matcher in module magellan.matcherselector.mlmatcherselection:\n",
      "\n",
      "select_matcher(matchers, x=None, y=None, table=None, exclude_attrs=None, target_attr=None, metric='precision', k=5, random_state=None)\n",
      "    This function selects a matcher from a given list of matchers based on a\n",
      "    given metric.\n",
      "    Specifically, this function internally uses scikit-learn's\n",
      "    cross validation function to select a matcher. There are two ways the\n",
      "    user can call the fit method. First, interface similar to scikit-learn\n",
      "    where the feature vectors and target attribute given as projected DataFrame.\n",
      "    Second, give the DataFrame and explicitly specify the feature vectors\n",
      "    (by specifying the attributes to be excluded) and the target attribute\n",
      "    A point to note is all the input parameters have a default value of\n",
      "    None. This is done to support both the interfaces in a single function.\n",
      "    \n",
      "    Args:\n",
      "        matchers (MLMatcher): List of ML matchers to be selected from.\n",
      "        x (DataFrame): Input feature vectors given as pandas DataFrame (\n",
      "            defaults to None).\n",
      "        y (DatFrame): Input target attribute given as pandas\n",
      "            DataFrame with a single column (defaults to None).\n",
      "        table (DataFrame): Input pandas DataFrame containing feature\n",
      "            vectors and target attribute (defaults to None).\n",
      "        exclude_attrs (list): The list of attributes that should be\n",
      "            excluded from the input table to get the feature vectors.\n",
      "        target_attr (str): The target attribute in the input table (defaults\n",
      "            to None).\n",
      "        metric (str): The metric based on which the matchers must be\n",
      "            selected. The string can be one of 'precision', 'recall',\n",
      "            'f1' (defaults to 'precision').\n",
      "        k (int): The k value for cross-validation (defaults to 5).\n",
      "        random_state (object): Pseudo random number generator that should be\n",
      "            used for splitting the data into folds (defaults to None).\n",
      "    \n",
      "    Returns:\n",
      "        A dictionary containing two keys: selected matcher and the cv_stats.\n",
      "        The selected matcher has a value that is a matcher (MLMatcher) object\n",
      "        and cv_stats has a value that is a dictionary containing\n",
      "        cross-validation statistics.\n",
      "\n",
      "time: 1.47 ms\n"
     ]
    }
   ],
   "source": [
    "help(mg.select_matcher)"
   ]
  },
  {
   "cell_type": "code",
   "execution_count": 18,
   "metadata": {
    "collapsed": false
   },
   "outputs": [
    {
     "name": "stdout",
     "output_type": "stream",
     "text": [
      "time: 92.5 ms\n"
     ]
    }
   ],
   "source": [
    "feature_vectors.fillna(0, inplace=True)"
   ]
  },
  {
   "cell_type": "code",
   "execution_count": 23,
   "metadata": {
    "collapsed": false
   },
   "outputs": [
    {
     "name": "stdout",
     "output_type": "stream",
     "text": [
      "time: 181 ms\n"
     ]
    }
   ],
   "source": [
    "result = mg.select_matcher([dt, rf, svm, lreg, linreg, nb], table=feature_vectors,\n",
    "                        exclude_attrs=['_id', 'ltable.id', 'rtable.id', 'gold'],\n",
    "                       target_attr='gold', metric='f1')"
   ]
  },
  {
   "cell_type": "code",
   "execution_count": 24,
   "metadata": {
    "collapsed": false
   },
   "outputs": [
    {
     "data": {
      "text/html": [
       "<div>\n",
       "<table border=\"1\" class=\"dataframe\">\n",
       "  <thead>\n",
       "    <tr style=\"text-align: right;\">\n",
       "      <th></th>\n",
       "      <th>Name</th>\n",
       "      <th>Matcher</th>\n",
       "      <th>Num folds</th>\n",
       "      <th>Fold 1</th>\n",
       "      <th>Fold 2</th>\n",
       "      <th>Fold 3</th>\n",
       "      <th>Fold 4</th>\n",
       "      <th>Fold 5</th>\n",
       "      <th>Mean score</th>\n",
       "    </tr>\n",
       "  </thead>\n",
       "  <tbody>\n",
       "    <tr>\n",
       "      <th>0</th>\n",
       "      <td>dt</td>\n",
       "      <td>&lt;magellan.matcher.dtmatcher.DTMatcher object at 0x1161dac88&gt;</td>\n",
       "      <td>5</td>\n",
       "      <td>0.971429</td>\n",
       "      <td>1.000000</td>\n",
       "      <td>0.988764</td>\n",
       "      <td>0.988506</td>\n",
       "      <td>0.967033</td>\n",
       "      <td>0.983146</td>\n",
       "    </tr>\n",
       "    <tr>\n",
       "      <th>1</th>\n",
       "      <td>rf</td>\n",
       "      <td>&lt;magellan.matcher.rfmatcher.RFMatcher object at 0x1161dacc0&gt;</td>\n",
       "      <td>5</td>\n",
       "      <td>0.970874</td>\n",
       "      <td>1.000000</td>\n",
       "      <td>0.989247</td>\n",
       "      <td>1.000000</td>\n",
       "      <td>0.977778</td>\n",
       "      <td>0.987580</td>\n",
       "    </tr>\n",
       "    <tr>\n",
       "      <th>2</th>\n",
       "      <td>svm</td>\n",
       "      <td>&lt;magellan.matcher.svmmatcher.SVMMatcher object at 0x1161dad68&gt;</td>\n",
       "      <td>5</td>\n",
       "      <td>0.880000</td>\n",
       "      <td>0.925000</td>\n",
       "      <td>0.924731</td>\n",
       "      <td>0.968750</td>\n",
       "      <td>0.971963</td>\n",
       "      <td>0.934089</td>\n",
       "    </tr>\n",
       "    <tr>\n",
       "      <th>3</th>\n",
       "      <td>logreg</td>\n",
       "      <td>&lt;magellan.matcher.logregmatcher.LogRegMatcher object at 0x1161dae10&gt;</td>\n",
       "      <td>5</td>\n",
       "      <td>1.000000</td>\n",
       "      <td>1.000000</td>\n",
       "      <td>0.950495</td>\n",
       "      <td>0.976744</td>\n",
       "      <td>0.988764</td>\n",
       "      <td>0.983201</td>\n",
       "    </tr>\n",
       "    <tr>\n",
       "      <th>4</th>\n",
       "      <td>linreg</td>\n",
       "      <td>&lt;magellan.matcher.linregmatcher.LinRegMatcher object at 0x1161dae80&gt;</td>\n",
       "      <td>5</td>\n",
       "      <td>0.969072</td>\n",
       "      <td>0.988764</td>\n",
       "      <td>0.989247</td>\n",
       "      <td>0.969697</td>\n",
       "      <td>1.000000</td>\n",
       "      <td>0.983356</td>\n",
       "    </tr>\n",
       "    <tr>\n",
       "      <th>5</th>\n",
       "      <td>nb</td>\n",
       "      <td>&lt;magellan.matcher.nbmatcher.NBMatcher object at 0x1161daef0&gt;</td>\n",
       "      <td>5</td>\n",
       "      <td>0.988235</td>\n",
       "      <td>0.945055</td>\n",
       "      <td>1.000000</td>\n",
       "      <td>0.979592</td>\n",
       "      <td>0.981132</td>\n",
       "      <td>0.978803</td>\n",
       "    </tr>\n",
       "  </tbody>\n",
       "</table>\n",
       "</div>"
      ],
      "text/plain": [
       "     Name  \\\n",
       "0      dt   \n",
       "1      rf   \n",
       "2     svm   \n",
       "3  logreg   \n",
       "4  linreg   \n",
       "5      nb   \n",
       "\n",
       "                                                                Matcher  \\\n",
       "0          <magellan.matcher.dtmatcher.DTMatcher object at 0x1161dac88>   \n",
       "1          <magellan.matcher.rfmatcher.RFMatcher object at 0x1161dacc0>   \n",
       "2        <magellan.matcher.svmmatcher.SVMMatcher object at 0x1161dad68>   \n",
       "3  <magellan.matcher.logregmatcher.LogRegMatcher object at 0x1161dae10>   \n",
       "4  <magellan.matcher.linregmatcher.LinRegMatcher object at 0x1161dae80>   \n",
       "5          <magellan.matcher.nbmatcher.NBMatcher object at 0x1161daef0>   \n",
       "\n",
       "   Num folds    Fold 1    Fold 2    Fold 3    Fold 4    Fold 5  Mean score  \n",
       "0          5  0.971429  1.000000  0.988764  0.988506  0.967033    0.983146  \n",
       "1          5  0.970874  1.000000  0.989247  1.000000  0.977778    0.987580  \n",
       "2          5  0.880000  0.925000  0.924731  0.968750  0.971963    0.934089  \n",
       "3          5  1.000000  1.000000  0.950495  0.976744  0.988764    0.983201  \n",
       "4          5  0.969072  0.988764  0.989247  0.969697  1.000000    0.983356  \n",
       "5          5  0.988235  0.945055  1.000000  0.979592  0.981132    0.978803  "
      ]
     },
     "execution_count": 24,
     "metadata": {},
     "output_type": "execute_result"
    },
    {
     "name": "stdout",
     "output_type": "stream",
     "text": [
      "time: 15 ms\n"
     ]
    }
   ],
   "source": [
    "result['cv_stats']"
   ]
  }
 ],
 "metadata": {
  "kernelspec": {
   "display_name": "Python 3",
   "language": "python",
   "name": "python3"
  },
  "language_info": {
   "codemirror_mode": {
    "name": "ipython",
    "version": 3
   },
   "file_extension": ".py",
   "mimetype": "text/x-python",
   "name": "python",
   "nbconvert_exporter": "python",
   "pygments_lexer": "ipython3",
   "version": "3.5.1"
  }
 },
 "nbformat": 4,
 "nbformat_minor": 0
}
