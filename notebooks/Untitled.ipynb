{
 "cells": [
  {
   "cell_type": "code",
   "execution_count": 1,
   "metadata": {
    "collapsed": true
   },
   "outputs": [],
   "source": [
    "import sys\n",
    "sys.path.append('/Users/pradap/Documents/Research/Python-Package/anhaid/magellan/')"
   ]
  },
  {
   "cell_type": "code",
   "execution_count": 2,
   "metadata": {
    "collapsed": false
   },
   "outputs": [],
   "source": [
    "import os\n",
    "import magellan as mg\n",
    "\n",
    "datasets_path = os.sep.join([mg.get_install_path(), 'datasets', 'test_datasets'])\n",
    "path_c = os.sep.join([datasets_path, 'C.csv'])\n",
    "A = mg.load_dataset('table_A', key='ID')\n",
    "B = mg.load_dataset('table_B', key='ID')\n",
    "C = mg.read_csv_metadata(path_c, ltable=A, rtable=B)\n",
    "feature_table = mg.get_features_for_matching(A, B)\n",
    "\n",
    "labels = [0]*7\n",
    "labels.extend([1]*8)\n",
    "C['labels'] = labels\n",
    "\n",
    "feature_vectors = mg.extract_feature_vecs(C, feature_table=feature_table,\n",
    "                                         attrs_after='labels')\n",
    "\n",
    "\n",
    "# rf = mg.RFMatcher()\n",
    "dt = mg.DTMatcher()\n",
    "train_test = mg.train_test_split(feature_vectors)\n",
    "\n",
    "train = train_test['train']\n",
    "test = train_test['test']\n",
    "\n",
    "mg.vis_debug_dt(dt, train, test,\n",
    "                exclude_attrs=['_id', 'ltable_ID', 'rtable_ID', 'labels'],\n",
    "               target_attr='labels')"
   ]
  },
  {
   "cell_type": "code",
   "execution_count": 3,
   "metadata": {
    "collapsed": false
   },
   "outputs": [],
   "source": [
    "from collections import OrderedDict"
   ]
  },
  {
   "cell_type": "code",
   "execution_count": 4,
   "metadata": {
    "collapsed": true
   },
   "outputs": [],
   "source": [
    "d = OrderedDict()"
   ]
  },
  {
   "cell_type": "code",
   "execution_count": 5,
   "metadata": {
    "collapsed": true
   },
   "outputs": [],
   "source": [
    "d['temp'] = 1.0\n",
    "d['save'] = 2.0"
   ]
  },
  {
   "cell_type": "code",
   "execution_count": 6,
   "metadata": {
    "collapsed": false
   },
   "outputs": [],
   "source": [
    "import six"
   ]
  },
  {
   "cell_type": "code",
   "execution_count": 7,
   "metadata": {
    "collapsed": false
   },
   "outputs": [
    {
     "name": "stdout",
     "output_type": "stream",
     "text": [
      "temp\n",
      "save\n"
     ]
    }
   ],
   "source": [
    "for k, v in six.iteritems(d):\n",
    "    print(k)"
   ]
  }
 ],
 "metadata": {
  "kernelspec": {
   "display_name": "Python 3",
   "language": "python",
   "name": "python3"
  },
  "language_info": {
   "codemirror_mode": {
    "name": "ipython",
    "version": 3
   },
   "file_extension": ".py",
   "mimetype": "text/x-python",
   "name": "python",
   "nbconvert_exporter": "python",
   "pygments_lexer": "ipython3",
   "version": "3.5.1"
  }
 },
 "nbformat": 4,
 "nbformat_minor": 0
}
