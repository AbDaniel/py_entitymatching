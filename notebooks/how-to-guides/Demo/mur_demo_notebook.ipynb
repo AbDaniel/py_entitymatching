{
 "cells": [
  {
   "cell_type": "code",
   "execution_count": 1,
   "metadata": {
    "collapsed": true
   },
   "outputs": [],
   "source": [
    "%load_ext autotime\n",
    "%matplotlib inline\n",
    "import sys\n",
    "sys.path.append('/Users/pradap/Documents/Research/Python-Package/anhaid/py_entitymatching/')"
   ]
  },
  {
   "cell_type": "code",
   "execution_count": 2,
   "metadata": {
    "collapsed": false
   },
   "outputs": [
    {
     "name": "stdout",
     "output_type": "stream",
     "text": [
      "time: 1.93 s\n"
     ]
    }
   ],
   "source": [
    "import py_entitymatching as em\n",
    "import py_stringsimjoin as ssj\n",
    "import profiler\n",
    "import pandas as pd\n",
    "import qgrid"
   ]
  },
  {
   "cell_type": "code",
   "execution_count": 3,
   "metadata": {
    "collapsed": false
   },
   "outputs": [
    {
     "name": "stdout",
     "output_type": "stream",
     "text": [
      "time: 35.5 ms\n"
     ]
    }
   ],
   "source": [
    "A = em.read_csv_metadata('./ORIG_DBLP_ACM/dblp_mur_clean.csv', key='id')\n",
    "B = em.read_csv_metadata('./ORIG_DBLP_ACM/acm_mur_clean.csv', key='id')"
   ]
  },
  {
   "cell_type": "code",
   "execution_count": 4,
   "metadata": {
    "collapsed": false
   },
   "outputs": [
    {
     "data": {
      "text/html": [
       "<div>\n",
       "<table border=\"1\" class=\"dataframe\">\n",
       "  <thead>\n",
       "    <tr style=\"text-align: right;\">\n",
       "      <th></th>\n",
       "      <th>id</th>\n",
       "      <th>title</th>\n",
       "      <th>authors</th>\n",
       "      <th>venue</th>\n",
       "      <th>year</th>\n",
       "    </tr>\n",
       "  </thead>\n",
       "  <tbody>\n",
       "    <tr>\n",
       "      <th>0</th>\n",
       "      <td>conf/sigmod/RamaswamyK95</td>\n",
       "      <td>OODB Indexing by Class-Division</td>\n",
       "      <td>Sridhar Ramaswamy, Paris C. Kanellakis</td>\n",
       "      <td>SIGMOD Conference</td>\n",
       "      <td>1995</td>\n",
       "    </tr>\n",
       "    <tr>\n",
       "      <th>1</th>\n",
       "      <td>journals/sigmod/GottlobKP03a</td>\n",
       "      <td>XPath processing in a nutshell</td>\n",
       "      <td>Reinhard Pichler, Christoph Koch, Georg Gottlob</td>\n",
       "      <td>SIGMOD Record</td>\n",
       "      <td>2003</td>\n",
       "    </tr>\n",
       "  </tbody>\n",
       "</table>\n",
       "</div>"
      ],
      "text/plain": [
       "                             id                            title  \\\n",
       "0      conf/sigmod/RamaswamyK95  OODB Indexing by Class-Division   \n",
       "1  journals/sigmod/GottlobKP03a   XPath processing in a nutshell   \n",
       "\n",
       "                                           authors              venue  year  \n",
       "0           Sridhar Ramaswamy, Paris C. Kanellakis  SIGMOD Conference  1995  \n",
       "1  Reinhard Pichler, Christoph Koch, Georg Gottlob      SIGMOD Record  2003  "
      ]
     },
     "execution_count": 4,
     "metadata": {},
     "output_type": "execute_result"
    },
    {
     "name": "stdout",
     "output_type": "stream",
     "text": [
      "time: 13.9 ms\n"
     ]
    }
   ],
   "source": [
    "A.head(2)"
   ]
  },
  {
   "cell_type": "code",
   "execution_count": 5,
   "metadata": {
    "collapsed": false
   },
   "outputs": [
    {
     "data": {
      "text/html": [
       "<div>\n",
       "<table border=\"1\" class=\"dataframe\">\n",
       "  <thead>\n",
       "    <tr style=\"text-align: right;\">\n",
       "      <th></th>\n",
       "      <th>id</th>\n",
       "      <th>title</th>\n",
       "      <th>authors</th>\n",
       "      <th>venue</th>\n",
       "      <th>year</th>\n",
       "    </tr>\n",
       "  </thead>\n",
       "  <tbody>\n",
       "    <tr>\n",
       "      <th>0</th>\n",
       "      <td>245896</td>\n",
       "      <td>Pixel-oriented database visualizations</td>\n",
       "      <td>Daniel A. Keim</td>\n",
       "      <td>ACM SIGMOD Record</td>\n",
       "      <td>1996</td>\n",
       "    </tr>\n",
       "    <tr>\n",
       "      <th>1</th>\n",
       "      <td>672175</td>\n",
       "      <td>Storage and Querying of E-Commerce Data</td>\n",
       "      <td>Rakesh Agrawal, Amit Somani, Yirong Xu</td>\n",
       "      <td>Very Large Data Bases</td>\n",
       "      <td>2001</td>\n",
       "    </tr>\n",
       "  </tbody>\n",
       "</table>\n",
       "</div>"
      ],
      "text/plain": [
       "       id                                    title  \\\n",
       "0  245896   Pixel-oriented database visualizations   \n",
       "1  672175  Storage and Querying of E-Commerce Data   \n",
       "\n",
       "                                  authors                  venue  year  \n",
       "0                          Daniel A. Keim      ACM SIGMOD Record  1996  \n",
       "1  Rakesh Agrawal, Amit Somani, Yirong Xu  Very Large Data Bases  2001  "
      ]
     },
     "execution_count": 5,
     "metadata": {},
     "output_type": "execute_result"
    },
    {
     "name": "stdout",
     "output_type": "stream",
     "text": [
      "time: 8.4 ms\n"
     ]
    }
   ],
   "source": [
    "B.head(2)"
   ]
  },
  {
   "cell_type": "code",
   "execution_count": 6,
   "metadata": {
    "collapsed": false
   },
   "outputs": [
    {
     "data": {
      "text/plain": [
       "(1979, 1991)"
      ]
     },
     "execution_count": 6,
     "metadata": {},
     "output_type": "execute_result"
    },
    {
     "name": "stdout",
     "output_type": "stream",
     "text": [
      "time: 2.45 ms\n"
     ]
    }
   ],
   "source": [
    "len(A), len(B)"
   ]
  },
  {
   "cell_type": "code",
   "execution_count": 7,
   "metadata": {
    "collapsed": false
   },
   "outputs": [
    {
     "data": {
      "text/plain": [
       "(291, 300)"
      ]
     },
     "execution_count": 7,
     "metadata": {},
     "output_type": "execute_result"
    },
    {
     "name": "stdout",
     "output_type": "stream",
     "text": [
      "time: 388 ms\n"
     ]
    }
   ],
   "source": [
    "A1, B1 = em.down_sample(A, B, 300, 1, show_progress=False)\n",
    "len(A1), len(B1)"
   ]
  },
  {
   "cell_type": "code",
   "execution_count": 10,
   "metadata": {
    "collapsed": false
   },
   "outputs": [
    {
     "name": "stdout",
     "output_type": "stream",
     "text": [
      "time: 689 µs\n"
     ]
    }
   ],
   "source": [
    "# Blocking"
   ]
  },
  {
   "cell_type": "code",
   "execution_count": 13,
   "metadata": {
    "collapsed": false
   },
   "outputs": [
    {
     "name": "stdout",
     "output_type": "stream",
     "text": [
      "Number of unique values: 5\n",
      "Number of missing values: 0\n",
      "\n",
      "Unique values: \n",
      "['ACM Trans. Database Syst.', 'SIGMOD Conference', 'SIGMOD Record', 'VLDB', 'VLDB J.']\n",
      "\n",
      "Frequency plot:\n",
      "\n"
     ]
    },
    {
     "data": {
      "image/png": "[encoded data removed]",
      "text/plain": [
       "<matplotlib.figure.Figure at 0x1162d92e8>"
      ]
     },
     "metadata": {},
     "output_type": "display_data"
    },
    {
     "name": "stdout",
     "output_type": "stream",
     "text": [
      "time: 226 ms\n"
     ]
    }
   ],
   "source": [
    "profiler.profile_table(A, 'venue')"
   ]
  },
  {
   "cell_type": "code",
   "execution_count": 14,
   "metadata": {
    "collapsed": false
   },
   "outputs": [
    {
     "name": "stdout",
     "output_type": "stream",
     "text": [
      "Number of unique values: 5\n",
      "Number of missing values: 0\n",
      "\n",
      "Unique values: \n",
      "['ACM SIGMOD Record', 'ACM Transactions on Database Systems (TODS)', 'International Conference on Management of Data', 'The VLDB Journal — The International Journal on Very Large Data Bases', 'Very Large Data Bases']\n",
      "\n",
      "Frequency plot:\n",
      "\n"
     ]
    },
    {
     "data": {
      "image/png": "[encoded data removed]",
      "text/plain": [
       "<matplotlib.figure.Figure at 0x116325c50>"
      ]
     },
     "metadata": {},
     "output_type": "display_data"
    },
    {
     "name": "stdout",
     "output_type": "stream",
     "text": [
      "time: 255 ms\n"
     ]
    }
   ],
   "source": [
    "profiler.profile_table(B, 'venue')"
   ]
  },
  {
   "cell_type": "code",
   "execution_count": 11,
   "metadata": {
    "collapsed": false
   },
   "outputs": [
    {
     "name": "stdout",
     "output_type": "stream",
     "text": [
      "Number of unique values: 10\n",
      "Number of missing values: 0\n",
      "\n",
      "Unique values: \n",
      "[1994, 1995, 1996, 1997, 1998, 1999, 2000, 2001, 2002, 2003]\n",
      "\n",
      "Frequency plot:\n",
      "\n"
     ]
    },
    {
     "data": {
      "image/png": "[encoded data removed]",
      "text/plain": [
       "<matplotlib.figure.Figure at 0x1163b7eb8>"
      ]
     },
     "metadata": {},
     "output_type": "display_data"
    },
    {
     "name": "stdout",
     "output_type": "stream",
     "text": [
      "time: 361 ms\n"
     ]
    }
   ],
   "source": [
    "profiler.profile_table(A, 'year')"
   ]
  },
  {
   "cell_type": "code",
   "execution_count": 12,
   "metadata": {
    "collapsed": false
   },
   "outputs": [
    {
     "name": "stdout",
     "output_type": "stream",
     "text": [
      "Number of unique values: 10\n",
      "Number of missing values: 0\n",
      "\n",
      "Unique values: \n",
      "[1994, 1995, 1996, 1997, 1998, 1999, 2000, 2001, 2002, 2003]\n",
      "\n",
      "Frequency plot:\n",
      "\n"
     ]
    },
    {
     "data": {
      "image/png": "[encoded data removed]",
      "text/plain": [
       "<matplotlib.figure.Figure at 0x1163be3c8>"
      ]
     },
     "metadata": {},
     "output_type": "display_data"
    },
    {
     "name": "stdout",
     "output_type": "stream",
     "text": [
      "time: 238 ms\n"
     ]
    }
   ],
   "source": [
    "profiler.profile_table(B, 'year')"
   ]
  },
  {
   "cell_type": "code",
   "execution_count": 15,
   "metadata": {
    "collapsed": false
   },
   "outputs": [
    {
     "name": "stdout",
     "output_type": "stream",
     "text": [
      "time: 814 µs\n"
     ]
    }
   ],
   "source": [
    "# Plan\n",
    "### Plan\n",
    "\n",
    "### A, B -- AttrEquivalnce blocker [year]--------------------------| Candidate set"
   ]
  },
  {
   "cell_type": "code",
   "execution_count": 16,
   "metadata": {
    "collapsed": false
   },
   "outputs": [
    {
     "name": "stdout",
     "output_type": "stream",
     "text": [
      "time: 167 ms\n"
     ]
    }
   ],
   "source": [
    "# Create attribute equivalence blocker\n",
    "ab = em.AttrEquivalenceBlocker()\n",
    "# Block tables using 'year' attribute : same year include in candidate set\n",
    "C1 = ab.block_tables(A, B, 'year', 'year', \n",
    "                     l_output_attrs=['title', 'authors', 'year'],\n",
    "                     r_output_attrs=['title', 'authors', 'year']\n",
    "                    )"
   ]
  },
  {
   "cell_type": "code",
   "execution_count": 17,
   "metadata": {
    "collapsed": false
   },
   "outputs": [
    {
     "data": {
      "text/html": [
       "<div>\n",
       "<table border=\"1\" class=\"dataframe\">\n",
       "  <thead>\n",
       "    <tr style=\"text-align: right;\">\n",
       "      <th></th>\n",
       "      <th>_id</th>\n",
       "      <th>ltable_id</th>\n",
       "      <th>rtable_id</th>\n",
       "      <th>ltable_title</th>\n",
       "      <th>ltable_authors</th>\n",
       "      <th>ltable_year</th>\n",
       "      <th>rtable_title</th>\n",
       "      <th>rtable_authors</th>\n",
       "      <th>rtable_year</th>\n",
       "    </tr>\n",
       "  </thead>\n",
       "  <tbody>\n",
       "    <tr>\n",
       "      <th>0</th>\n",
       "      <td>0</td>\n",
       "      <td>conf/sigmod/RamaswamyK95</td>\n",
       "      <td>223898</td>\n",
       "      <td>OODB Indexing by Class-Division</td>\n",
       "      <td>Sridhar Ramaswamy, Paris C. Kanellakis</td>\n",
       "      <td>1995</td>\n",
       "      <td>Paradise: a database system for GIS applications</td>\n",
       "      <td>CORPORATE The Paradise Team</td>\n",
       "      <td>1995</td>\n",
       "    </tr>\n",
       "    <tr>\n",
       "      <th>1</th>\n",
       "      <td>1</td>\n",
       "      <td>conf/sigmod/RamaswamyK95</td>\n",
       "      <td>210202</td>\n",
       "      <td>OODB Indexing by Class-Division</td>\n",
       "      <td>Sridhar Ramaswamy, Paris C. Kanellakis</td>\n",
       "      <td>1995</td>\n",
       "      <td>Fast algorithms for universal quantification in large databases</td>\n",
       "      <td>Goetz Graefe, Richard L. Cole</td>\n",
       "      <td>1995</td>\n",
       "    </tr>\n",
       "  </tbody>\n",
       "</table>\n",
       "</div>"
      ],
      "text/plain": [
       "   _id                 ltable_id  rtable_id                     ltable_title  \\\n",
       "0    0  conf/sigmod/RamaswamyK95     223898  OODB Indexing by Class-Division   \n",
       "1    1  conf/sigmod/RamaswamyK95     210202  OODB Indexing by Class-Division   \n",
       "\n",
       "                           ltable_authors  ltable_year  \\\n",
       "0  Sridhar Ramaswamy, Paris C. Kanellakis         1995   \n",
       "1  Sridhar Ramaswamy, Paris C. Kanellakis         1995   \n",
       "\n",
       "                                                      rtable_title  \\\n",
       "0                 Paradise: a database system for GIS applications   \n",
       "1  Fast algorithms for universal quantification in large databases   \n",
       "\n",
       "                  rtable_authors  rtable_year  \n",
       "0    CORPORATE The Paradise Team         1995  \n",
       "1  Goetz Graefe, Richard L. Cole         1995  "
      ]
     },
     "execution_count": 17,
     "metadata": {},
     "output_type": "execute_result"
    },
    {
     "name": "stdout",
     "output_type": "stream",
     "text": [
      "time: 11.6 ms\n"
     ]
    }
   ],
   "source": [
    "C1.head(2)"
   ]
  },
  {
   "cell_type": "code",
   "execution_count": 19,
   "metadata": {
    "collapsed": false
   },
   "outputs": [
    {
     "name": "stdout",
     "output_type": "stream",
     "text": [
      "time: 1.23 s\n"
     ]
    }
   ],
   "source": [
    "# Debug blocking output\n",
    "\n",
    "# check whether the current blocking method has dropped a lot of potential matches\n",
    "dbg = em.debug_blocker(C1, A, B, output_size=30)"
   ]
  },
  {
   "cell_type": "code",
   "execution_count": 20,
   "metadata": {
    "collapsed": false
   },
   "outputs": [
    {
     "name": "stdout",
     "output_type": "stream",
     "text": [
      "time: 1min 58s\n"
     ]
    }
   ],
   "source": [
    "em.view_table(dbg)"
   ]
  },
  {
   "cell_type": "code",
   "execution_count": 21,
   "metadata": {
    "collapsed": false
   },
   "outputs": [
    {
     "name": "stdout",
     "output_type": "stream",
     "text": [
      "time: 918 µs\n"
     ]
    }
   ],
   "source": [
    "# Revised blocking plan\n",
    "\n",
    "# A, B -- AttrEquivalnce blocker [year] --------------------|\n",
    "#                                                           |---> candidate set\n",
    "# A, B -- Overlap blocker [title]---------------------------|"
   ]
  },
  {
   "cell_type": "code",
   "execution_count": 25,
   "metadata": {
    "collapsed": false
   },
   "outputs": [
    {
     "name": "stdout",
     "output_type": "stream",
     "text": [
      "Number of unique values: 1970\n",
      "Number of missing values: 0\n",
      "time: 5.82 ms\n"
     ]
    }
   ],
   "source": [
    "profiler.profile_table(A, 'title')"
   ]
  },
  {
   "cell_type": "code",
   "execution_count": 23,
   "metadata": {
    "collapsed": false
   },
   "outputs": [
    {
     "name": "stdout",
     "output_type": "stream",
     "text": [
      "Number of unique values: 1978\n",
      "Number of missing values: 0\n",
      "time: 5.88 ms\n"
     ]
    }
   ],
   "source": [
    "profiler.profile_table(B, 'title')"
   ]
  },
  {
   "cell_type": "code",
   "execution_count": 26,
   "metadata": {
    "collapsed": false
   },
   "outputs": [
    {
     "name": "stdout",
     "output_type": "stream",
     "text": [
      "time: 1.47 s\n"
     ]
    }
   ],
   "source": [
    "ob = em.OverlapBlocker()\n",
    "C2 = ob.block_tables(A, B, 'title', 'title', show_progress=False, overlap_size=1)"
   ]
  },
  {
   "cell_type": "code",
   "execution_count": 27,
   "metadata": {
    "collapsed": false
   },
   "outputs": [
    {
     "name": "stdout",
     "output_type": "stream",
     "text": [
      "time: 1.28 s\n"
     ]
    }
   ],
   "source": [
    "C = em.combine_blocker_outputs_via_union([C1, C2])"
   ]
  },
  {
   "cell_type": "code",
   "execution_count": 28,
   "metadata": {
    "collapsed": false
   },
   "outputs": [
    {
     "name": "stdout",
     "output_type": "stream",
     "text": [
      "time: 2.29 s\n"
     ]
    }
   ],
   "source": [
    "# debug blocker\n",
    "# check again with the updated blocking pipleline\n",
    "dbg = em.debug_blocker(C, A, B, output_size=50)"
   ]
  },
  {
   "cell_type": "code",
   "execution_count": 31,
   "metadata": {
    "collapsed": false
   },
   "outputs": [
    {
     "name": "stdout",
     "output_type": "stream",
     "text": [
      "time: 12.4 ms\n"
     ]
    }
   ],
   "source": [
    "em.set_ltable(dbg, A)\n",
    "em.set_rtable(dbg, B)\n",
    "dbg = em.add_output_attributes(dbg, l_output_attrs=['year'], r_output_attrs=['year'], delete_from_catalog=False)"
   ]
  },
  {
   "cell_type": "code",
   "execution_count": 32,
   "metadata": {
    "collapsed": false
   },
   "outputs": [
    {
     "name": "stdout",
     "output_type": "stream",
     "text": [
      "time: 3min 38s\n"
     ]
    }
   ],
   "source": [
    "em.view_table(dbg)"
   ]
  },
  {
   "cell_type": "code",
   "execution_count": null,
   "metadata": {
    "collapsed": true
   },
   "outputs": [],
   "source": [
    "# Sampling and labeling"
   ]
  },
  {
   "cell_type": "code",
   "execution_count": 34,
   "metadata": {
    "collapsed": false
   },
   "outputs": [
    {
     "name": "stdout",
     "output_type": "stream",
     "text": [
      "time: 309 ms\n"
     ]
    }
   ],
   "source": [
    "# Sample candidate set\n",
    "S = em.sample_table(C, 450)"
   ]
  },
  {
   "cell_type": "code",
   "execution_count": 35,
   "metadata": {
    "collapsed": false
   },
   "outputs": [
    {
     "name": "stdout",
     "output_type": "stream",
     "text": [
      "time: 5.18 s\n"
     ]
    }
   ],
   "source": [
    "# Label S\n",
    "L = em.label_table(S, 'gold')"
   ]
  },
  {
   "cell_type": "code",
   "execution_count": 45,
   "metadata": {
    "collapsed": false
   },
   "outputs": [
    {
     "name": "stdout",
     "output_type": "stream",
     "text": [
      "time: 6.82 ms\n"
     ]
    }
   ],
   "source": [
    "# Use pre-labeled data\n",
    "L = em.read_csv_metadata('./ORIG_DBLP_ACM/dblp_acm_demo_labels_clean.csv', ltable=A, rtable=B)"
   ]
  },
  {
   "cell_type": "code",
   "execution_count": 46,
   "metadata": {
    "collapsed": false
   },
   "outputs": [
    {
     "name": "stdout",
     "output_type": "stream",
     "text": [
      "310\n",
      "time: 46.2 ms\n"
     ]
    }
   ],
   "source": [
    "l_list_vals, r_list_vals = list(A.id.values), list(B.id.values)\n",
    "prune_list_a = []\n",
    "prune_list_b = []\n",
    "count = 0\n",
    "for row in L.itertuples(index=False):\n",
    "    l_val, r_val = row[1], row[2]\n",
    "    if l_val not in l_list_vals:\n",
    "        prune_list_a.append(l_val)\n",
    "    if r_val not in r_list_vals:\n",
    "        prune_list_b.append(r_val)\n",
    "    if l_val in l_list_vals and r_val in r_list_vals:\n",
    "        count += 1\n",
    "print(count)\n",
    "        \n",
    "    "
   ]
  },
  {
   "cell_type": "code",
   "execution_count": 50,
   "metadata": {
    "collapsed": false
   },
   "outputs": [
    {
     "name": "stdout",
     "output_type": "stream",
     "text": [
      "time: 7.29 ms\n"
     ]
    }
   ],
   "source": [
    "gold = em.read_csv_metadata('./ORIG_DBLP_ACM/goldWithLabel.csv', key=\"_id\")"
   ]
  },
  {
   "cell_type": "code",
   "execution_count": 51,
   "metadata": {
    "collapsed": false
   },
   "outputs": [
    {
     "name": "stdout",
     "output_type": "stream",
     "text": [
      "time: 6.67 ms\n"
     ]
    }
   ],
   "source": [
    "l_list_vals, r_list_vals = list(A.id.values), list(B.id.values)\n",
    "\n",
    "for row in gold.itertuples(index=False):\n",
    "    pass"
   ]
  },
  {
   "cell_type": "code",
   "execution_count": 48,
   "metadata": {
    "collapsed": false
   },
   "outputs": [
    {
     "data": {
      "text/plain": [
       "(69, 40)"
      ]
     },
     "execution_count": 48,
     "metadata": {},
     "output_type": "execute_result"
    },
    {
     "name": "stdout",
     "output_type": "stream",
     "text": [
      "time: 2.8 ms\n"
     ]
    }
   ],
   "source": [
    "len(set(prune_list_a)), len(set(prune_list_b))"
   ]
  },
  {
   "cell_type": "code",
   "execution_count": 49,
   "metadata": {
    "collapsed": false
   },
   "outputs": [
    {
     "data": {
      "text/plain": [
       "['conf/sigmod/AbadiCCCCEGHMRSSTXYZ03',\n",
       " 'conf/sigmod/AbadiCCCCEGHMRSSTXYZ03',\n",
       " 'conf/sigmod/Bierman03',\n",
       " 'conf/sigmod/Brewer98',\n",
       " 'conf/sigmod/CareyCNVDRSM99',\n",
       " 'conf/sigmod/ChristophidesCS00',\n",
       " 'conf/sigmod/CookKWZ96',\n",
       " 'conf/sigmod/DeutschFS99',\n",
       " 'conf/sigmod/HellersteinA00',\n",
       " 'conf/sigmod/LometW98',\n",
       " 'conf/sigmod/MatiasVW98',\n",
       " 'conf/sigmod/PaparizosACJLNPSWWY03',\n",
       " 'conf/sigmod/RamaswamyRS00',\n",
       " 'conf/sigmod/StoltePAG03',\n",
       " 'conf/sigmod/Stonebraker03',\n",
       " 'conf/sigmod/WhiteCF98',\n",
       " 'conf/sigmod/ZhugeGHW95',\n",
       " 'conf/vldb/AggarwalHWY03',\n",
       " 'conf/vldb/AggarwalY02',\n",
       " 'conf/vldb/AlexandrovABBBCDFHJKKKLLMMMPNPPRRSSW02',\n",
       " 'conf/vldb/AnciauxBP03',\n",
       " 'conf/vldb/Banerjee00',\n",
       " 'conf/vldb/BrightR02',\n",
       " 'conf/vldb/ChaudhuriW00',\n",
       " 'conf/vldb/Dasgupta96',\n",
       " 'conf/vldb/DittrichSTW02',\n",
       " 'conf/vldb/DongHLPW01',\n",
       " 'conf/vldb/GhoshPSH02',\n",
       " 'conf/vldb/GoldmanSVG98',\n",
       " 'conf/vldb/HageJPST03',\n",
       " 'conf/vldb/JagadishMN99',\n",
       " 'conf/vldb/Kiessling02',\n",
       " 'conf/vldb/KornMZ03',\n",
       " 'conf/vldb/KoudasMJ99',\n",
       " 'conf/vldb/LakshmananPH02',\n",
       " 'conf/vldb/LakshmananSS99',\n",
       " 'conf/vldb/LiCHPALHAY01',\n",
       " 'conf/vldb/LiPHCAAT03',\n",
       " 'conf/vldb/ManegoldBK02',\n",
       " 'conf/vldb/NathDKGKS03',\n",
       " 'conf/vldb/RiedelGF98',\n",
       " 'conf/vldb/RoussopoulosK98',\n",
       " 'conf/vldb/SadriZZA01',\n",
       " 'conf/vldb/Shenker03',\n",
       " 'conf/vldb/TsoisS03',\n",
       " 'conf/vldb/VieiraM03',\n",
       " 'conf/vldb/WeikumMHZ02',\n",
       " 'conf/vldb/YuV00',\n",
       " 'journals/sigmod/Aberer02a',\n",
       " 'journals/sigmod/AilamakiG03',\n",
       " 'journals/sigmod/Bernstein01',\n",
       " 'journals/sigmod/ChangASS98',\n",
       " 'journals/sigmod/CherniakV03',\n",
       " 'journals/sigmod/ChrysanthisSZ03',\n",
       " 'journals/sigmod/DogacDKOONEHAKKM95',\n",
       " 'journals/sigmod/Etzion99',\n",
       " 'journals/sigmod/FowlerPNB99',\n",
       " 'journals/sigmod/Franklin98b',\n",
       " 'journals/sigmod/HalkidiBV02',\n",
       " 'journals/sigmod/KeetonPH98',\n",
       " 'journals/sigmod/Naughton00',\n",
       " 'journals/sigmod/RossCGLLM01',\n",
       " 'journals/sigmod/RossFS02',\n",
       " 'journals/sigmod/RossHLW01',\n",
       " 'journals/sigmod/Snodgrass98a',\n",
       " 'journals/sigmod/SnodgrassGIMSU98',\n",
       " 'journals/tods/SrivastavaSRN95',\n",
       " 'journals/tods/StolboushkinT98',\n",
       " 'journals/vldb/BernsteinPS00',\n",
       " 'journals/vldb/RamakrishnanSSS94']"
      ]
     },
     "execution_count": 49,
     "metadata": {},
     "output_type": "execute_result"
    },
    {
     "name": "stdout",
     "output_type": "stream",
     "text": [
      "time: 3.07 ms\n"
     ]
    }
   ],
   "source": [
    "prune_list_a"
   ]
  },
  {
   "cell_type": "code",
   "execution_count": 44,
   "metadata": {
    "collapsed": false
   },
   "outputs": [
    {
     "ename": "AssertionError",
     "evalue": "Candset does not satisfy foreign key constraint with the left table",
     "output_type": "error",
     "traceback": [
      "\u001b[0;31m---------------------------------------------------------------------------\u001b[0m",
      "\u001b[0;31mAssertionError\u001b[0m                            Traceback (most recent call last)",
      "\u001b[0;32m<ipython-input-44-d6eb7efe4a27>\u001b[0m in \u001b[0;36m<module>\u001b[0;34m()\u001b[0m\n\u001b[1;32m      1\u001b[0m \u001b[0;31m# Split L into development  and evaluation\u001b[0m\u001b[0;34m\u001b[0m\u001b[0;34m\u001b[0m\u001b[0m\n\u001b[0;32m----> 2\u001b[0;31m \u001b[0mdevelopment_evaluation\u001b[0m \u001b[0;34m=\u001b[0m \u001b[0mem\u001b[0m\u001b[0;34m.\u001b[0m\u001b[0msplit_train_test\u001b[0m\u001b[0;34m(\u001b[0m\u001b[0mL\u001b[0m\u001b[0;34m,\u001b[0m \u001b[0mtrain_proportion\u001b[0m\u001b[0;34m=\u001b[0m\u001b[0;36m0.7\u001b[0m\u001b[0;34m)\u001b[0m\u001b[0;34m\u001b[0m\u001b[0m\n\u001b[0m\u001b[1;32m      3\u001b[0m \u001b[0mdevelopment\u001b[0m \u001b[0;34m=\u001b[0m \u001b[0mdevelopment_evaluation\u001b[0m\u001b[0;34m[\u001b[0m\u001b[0;34m'train'\u001b[0m\u001b[0;34m]\u001b[0m\u001b[0;34m\u001b[0m\u001b[0m\n\u001b[1;32m      4\u001b[0m \u001b[0mevaluation\u001b[0m \u001b[0;34m=\u001b[0m \u001b[0mdevelopment_evaluation\u001b[0m\u001b[0;34m[\u001b[0m\u001b[0;34m'test'\u001b[0m\u001b[0;34m]\u001b[0m\u001b[0;34m\u001b[0m\u001b[0m\n",
      "\u001b[0;32m/Users/pradap/Documents/Research/Python-Package/anhaid/py_entitymatching/py_entitymatching/matcher/matcherutils.py\u001b[0m in \u001b[0;36msplit_train_test\u001b[0;34m(labeled_data, train_proportion, random_state, verbose)\u001b[0m\n\u001b[1;32m     73\u001b[0m     cm._validate_metadata_for_candset(labeled_data, key, fk_ltable, fk_rtable,\n\u001b[1;32m     74\u001b[0m                                       \u001b[0mltable\u001b[0m\u001b[0;34m,\u001b[0m \u001b[0mrtable\u001b[0m\u001b[0;34m,\u001b[0m \u001b[0ml_key\u001b[0m\u001b[0;34m,\u001b[0m \u001b[0mr_key\u001b[0m\u001b[0;34m,\u001b[0m\u001b[0;34m\u001b[0m\u001b[0m\n\u001b[0;32m---> 75\u001b[0;31m                                       logger, verbose)\n\u001b[0m\u001b[1;32m     76\u001b[0m \u001b[0;34m\u001b[0m\u001b[0m\n\u001b[1;32m     77\u001b[0m     \u001b[0mnum_rows\u001b[0m \u001b[0;34m=\u001b[0m \u001b[0mlen\u001b[0m\u001b[0;34m(\u001b[0m\u001b[0mlabeled_data\u001b[0m\u001b[0;34m)\u001b[0m\u001b[0;34m\u001b[0m\u001b[0m\n",
      "\u001b[0;32m/Users/pradap/Documents/Research/Python-Package/anhaid/py_entitymatching/py_entitymatching/catalog/catalog_manager.py\u001b[0m in \u001b[0;36m_validate_metadata_for_candset\u001b[0;34m(candset, key, foreign_key_ltable, foreign_key_rtable, ltable, rtable, ltable_key, rtable_key, lgr, verbose)\u001b[0m\n\u001b[1;32m   1134\u001b[0m                      'the left table')\n\u001b[1;32m   1135\u001b[0m         raise AssertionError(\n\u001b[0;32m-> 1136\u001b[0;31m             \u001b[0;34m'Candset does not satisfy foreign key constraint with '\u001b[0m\u001b[0;34m\u001b[0m\u001b[0m\n\u001b[0m\u001b[1;32m   1137\u001b[0m             'the left table')\n\u001b[1;32m   1138\u001b[0m \u001b[0;34m\u001b[0m\u001b[0m\n",
      "\u001b[0;31mAssertionError\u001b[0m: Candset does not satisfy foreign key constraint with the left table"
     ]
    },
    {
     "name": "stdout",
     "output_type": "stream",
     "text": [
      "time: 12.9 ms\n"
     ]
    }
   ],
   "source": [
    "# Split L into development  and evaluation\n",
    "development_evaluation = em.split_train_test(L, train_proportion=0.7)\n",
    "development = development_evaluation['train']\n",
    "evaluation = development_evaluation['test']"
   ]
  }
 ],
 "metadata": {
  "anaconda-cloud": {},
  "kernelspec": {
   "display_name": "Python [Root]",
   "language": "python",
   "name": "Python [Root]"
  },
  "language_info": {
   "codemirror_mode": {
    "name": "ipython",
    "version": 3
   },
   "file_extension": ".py",
   "mimetype": "text/x-python",
   "name": "python",
   "nbconvert_exporter": "python",
   "pygments_lexer": "ipython3",
   "version": "3.5.2"
  }
 },
 "nbformat": 4,
 "nbformat_minor": 0
}
