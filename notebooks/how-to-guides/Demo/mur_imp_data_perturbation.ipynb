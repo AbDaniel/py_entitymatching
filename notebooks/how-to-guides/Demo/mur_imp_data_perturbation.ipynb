{
 "cells": [
  {
   "cell_type": "code",
   "execution_count": 1,
   "metadata": {
    "collapsed": true
   },
   "outputs": [],
   "source": [
    "import sys\n",
    "sys.path.append('/scratch/pradap/python-work/anhaidgroup/py_entitymatching/')"
   ]
  },
  {
   "cell_type": "code",
   "execution_count": 13,
   "metadata": {
    "collapsed": true
   },
   "outputs": [],
   "source": [
    "import py_entitymatching as em\n",
    "import pandas as pd"
   ]
  },
  {
   "cell_type": "code",
   "execution_count": 3,
   "metadata": {
    "collapsed": true
   },
   "outputs": [],
   "source": [
    "import mur_utils as mu"
   ]
  },
  {
   "cell_type": "code",
   "execution_count": 4,
   "metadata": {
    "collapsed": true
   },
   "outputs": [],
   "source": [
    "A = em.read_csv_metadata('ORIG_DBLP_ACM/dblp_mur_clean.csv', key='id', dtype=str)\n",
    "B = em.read_csv_metadata('ORIG_DBLP_ACM/acm_mur_clean.csv',  key='id', dtype=str)"
   ]
  },
  {
   "cell_type": "code",
   "execution_count": 5,
   "metadata": {
    "collapsed": true
   },
   "outputs": [],
   "source": [
    "# load gold\n",
    "gold = em.read_csv_metadata('ORIG_DBLP_ACM/goldWithLabel.csv', key='_id', fk_ltable='ltable_id', fk_rtable='rtable_id',\n",
    "                           ltable=A, rtable=B, dtype=str)"
   ]
  },
  {
   "cell_type": "code",
   "execution_count": 6,
   "metadata": {
    "collapsed": true
   },
   "outputs": [],
   "source": [
    "count, a_indices, b_indices = mu.get_num_positives_tables(A, B, gold)"
   ]
  },
  {
   "cell_type": "code",
   "execution_count": 7,
   "metadata": {
    "collapsed": true
   },
   "outputs": [],
   "source": [
    "ab = em.AttrEquivalenceBlocker()\n",
    "C1 = ab.block_tables(A, B, 'year', 'year', ['title', 'authors', 'year'], ['title', 'authors', 'year'])"
   ]
  },
  {
   "cell_type": "code",
   "execution_count": 8,
   "metadata": {
    "collapsed": true
   },
   "outputs": [],
   "source": [
    "dbg = em.debug_blocker(C1, A, B)"
   ]
  },
  {
   "cell_type": "code",
   "execution_count": 16,
   "metadata": {
    "collapsed": false
   },
   "outputs": [
    {
     "data": {
      "text/plain": [
       "(179, 178)"
      ]
     },
     "execution_count": 16,
     "metadata": {},
     "output_type": "execute_result"
    }
   ],
   "source": [
    "len(pd.unique(dbg['ltable_id'])), len(pd.unique(dbg['rtable_id']))"
   ]
  },
  {
   "cell_type": "code",
   "execution_count": 23,
   "metadata": {
    "collapsed": true
   },
   "outputs": [],
   "source": [
    "A1 = A.set_index('id', drop=False)\n",
    "B1 = B.set_index('id', drop=False)"
   ]
  },
  {
   "cell_type": "code",
   "execution_count": 24,
   "metadata": {
    "collapsed": false
   },
   "outputs": [
    {
     "data": {
      "text/plain": [
       "(1979, 1991)"
      ]
     },
     "execution_count": 24,
     "metadata": {},
     "output_type": "execute_result"
    }
   ],
   "source": [
    "len(A1), len(B1)"
   ]
  },
  {
   "cell_type": "code",
   "execution_count": 25,
   "metadata": {
    "collapsed": false
   },
   "outputs": [],
   "source": [
    "A2 = A1.ix[(set(A1.index.values).difference(pd.unique(dbg['ltable_id'])))]\n",
    "B2 = B1.ix[(set(B1.index.values).difference(pd.unique(dbg['rtable_id'])))]"
   ]
  },
  {
   "cell_type": "code",
   "execution_count": 27,
   "metadata": {
    "collapsed": false
   },
   "outputs": [
    {
     "data": {
      "text/plain": [
       "(1800, 1813)"
      ]
     },
     "execution_count": 27,
     "metadata": {},
     "output_type": "execute_result"
    }
   ],
   "source": [
    "len(A2), len(B2)"
   ]
  },
  {
   "cell_type": "code",
   "execution_count": 28,
   "metadata": {
    "collapsed": true
   },
   "outputs": [],
   "source": [
    "count, a_indices, b_indices = mu.get_num_positives_tables(A2, B2, gold)"
   ]
  },
  {
   "cell_type": "code",
   "execution_count": 29,
   "metadata": {
    "collapsed": false
   },
   "outputs": [
    {
     "name": "stdout",
     "output_type": "stream",
     "text": [
      "1575\n"
     ]
    }
   ],
   "source": [
    "print(count)"
   ]
  },
  {
   "cell_type": "code",
   "execution_count": 30,
   "metadata": {
    "collapsed": false
   },
   "outputs": [
    {
     "data": {
      "text/plain": [
       "True"
      ]
     },
     "execution_count": 30,
     "metadata": {},
     "output_type": "execute_result"
    }
   ],
   "source": [
    "em.set_key(A2, 'id')\n",
    "em.set_key(B2, 'id')"
   ]
  },
  {
   "cell_type": "code",
   "execution_count": 34,
   "metadata": {
    "collapsed": false
   },
   "outputs": [],
   "source": [
    "A2.reset_index(inplace=True, drop=True)\n",
    "B2.reset_index(inplace=True, drop=True)"
   ]
  },
  {
   "cell_type": "code",
   "execution_count": 35,
   "metadata": {
    "collapsed": false
   },
   "outputs": [
    {
     "data": {
      "text/plain": [
       "True"
      ]
     },
     "execution_count": 35,
     "metadata": {},
     "output_type": "execute_result"
    }
   ],
   "source": [
    "em.to_csv_metadata(A2, 'ORIG_DBLP_ACM/dblp_mur_diff_year_sim_title_removed.csv')\n",
    "em.to_csv_metadata(B2, 'ORIG_DBLP_ACM/acm_mur_diff_year_sim_title_removed.csv')"
   ]
  },
  {
   "cell_type": "code",
   "execution_count": 37,
   "metadata": {
    "collapsed": false
   },
   "outputs": [
    {
     "data": {
      "text/plain": [
       "'1994'"
      ]
     },
     "execution_count": 37,
     "metadata": {},
     "output_type": "execute_result"
    }
   ],
   "source": [
    "min(A1.year)"
   ]
  },
  {
   "cell_type": "code",
   "execution_count": 38,
   "metadata": {
    "collapsed": true
   },
   "outputs": [],
   "source": [
    "ab = em.AttrEquivalenceBlocker()\n",
    "C2 = ab.block_tables(A2, B2, 'year', 'year', ['title', 'authors', 'year'], ['title', 'authors', 'year'])"
   ]
  },
  {
   "cell_type": "code",
   "execution_count": 40,
   "metadata": {
    "collapsed": false
   },
   "outputs": [],
   "source": [
    "dbg = em.debug_blocker(C2, A2, B2)"
   ]
  },
  {
   "cell_type": "code",
   "execution_count": 41,
   "metadata": {
    "collapsed": true
   },
   "outputs": [],
   "source": [
    "em.view_table(dbg)"
   ]
  },
  {
   "cell_type": "code",
   "execution_count": 43,
   "metadata": {
    "collapsed": false
   },
   "outputs": [
    {
     "name": "stdout",
     "output_type": "stream",
     "text": [
      "1575\n"
     ]
    }
   ],
   "source": [
    "count, a_indices, b_indices = mu.get_num_positives_tables(A2, B2, gold)\n",
    "print(count)"
   ]
  },
  {
   "cell_type": "code",
   "execution_count": 44,
   "metadata": {
    "collapsed": true
   },
   "outputs": [],
   "source": [
    "import numpy as np"
   ]
  },
  {
   "cell_type": "code",
   "execution_count": 61,
   "metadata": {
    "collapsed": true
   },
   "outputs": [],
   "source": [
    "indices = list(np.random.choice(list(b_indices), 200))"
   ]
  },
  {
   "cell_type": "code",
   "execution_count": 62,
   "metadata": {
    "collapsed": true
   },
   "outputs": [],
   "source": [
    "B3 = B2.set_index('id', drop=False)"
   ]
  },
  {
   "cell_type": "code",
   "execution_count": 63,
   "metadata": {
    "collapsed": false
   },
   "outputs": [
    {
     "name": "stdout",
     "output_type": "stream",
     "text": [
      "[index: 344869] old: 1999\n",
      "new: 2000\n",
      "[index: 381879] old: 1996\n",
      "new: 1997\n",
      "[index: 872814] old: 2003\n",
      "new: 2003\n",
      "[index: 765556] old: 1997\n",
      "new: 1998\n",
      "[index: 276392] old: 1998\n",
      "new: 1999\n",
      "[index: 290596] old: 1998\n",
      "new: 1999\n",
      "[index: 673144] old: 1995\n",
      "new: 1996\n",
      "[index: 672020] old: 2000\n",
      "new: 2001\n",
      "[index: 227624] old: 1996\n",
      "new: 1997\n",
      "[index: 615186] old: 1994\n",
      "new: 1995\n",
      "[index: 276346] old: 1998\n",
      "new: 1999\n",
      "[index: 673656] old: 1997\n",
      "new: 1998\n",
      "[index: 615194] old: 1994\n",
      "new: 1995\n",
      "[index: 671330] old: 1998\n",
      "new: 1999\n",
      "[index: 253368] old: 1997\n",
      "new: 1998\n",
      "[index: 765528] old: 1998\n",
      "new: 1999\n",
      "[index: 273271] old: 1998\n",
      "new: 1999\n",
      "[index: 671670] old: 1999\n",
      "new: 2000\n",
      "[index: 375757] old: 2001\n",
      "new: 2002\n",
      "[index: 352982] old: 2000\n",
      "new: 2001\n",
      "[index: 234900] old: 1996\n",
      "new: 1997\n",
      "[index: 369276] old: 2000\n",
      "new: 2001\n",
      "[index: 276347] old: 1998\n",
      "new: 1999\n",
      "[index: 234900] old: 1997\n",
      "new: 1998\n",
      "[index: 872777] old: 2003\n",
      "new: 2003\n",
      "[index: 672181] old: 2001\n",
      "new: 2002\n",
      "[index: 673137] old: 1995\n",
      "new: 1996\n",
      "[index: 767148] old: 2001\n",
      "new: 2002\n",
      "[index: 373631] old: 2001\n",
      "new: 2002\n",
      "[index: 290598] old: 1998\n",
      "new: 1999\n",
      "[index: 335469] old: 2000\n",
      "new: 2001\n",
      "[index: 336564] old: 2000\n",
      "new: 2001\n",
      "[index: 945728] old: 2003\n",
      "new: 2003\n",
      "[index: 767095] old: 2002\n",
      "new: 2003\n",
      "[index: 276334] old: 1998\n",
      "new: 1999\n",
      "[index: 615233] old: 1995\n",
      "new: 1996\n",
      "[index: 672969] old: 1994\n",
      "new: 1995\n",
      "[index: 253288] old: 1997\n",
      "new: 1998\n",
      "[index: 375736] old: 2001\n",
      "new: 2002\n",
      "[index: 673500] old: 1996\n",
      "new: 1997\n",
      "[index: 671203] old: 1998\n",
      "new: 1999\n",
      "[index: 375679] old: 2001\n",
      "new: 2002\n",
      "[index: 245905] old: 1996\n",
      "new: 1997\n",
      "[index: 253338] old: 1997\n",
      "new: 1998\n",
      "[index: 672010] old: 2000\n",
      "new: 2001\n",
      "[index: 335462] old: 2000\n",
      "new: 2001\n",
      "[index: 671186] old: 1998\n",
      "new: 1999\n",
      "[index: 872786] old: 2003\n",
      "new: 2003\n",
      "[index: 375672] old: 2001\n",
      "new: 2002\n",
      "[index: 280352] old: 1996\n",
      "new: 1997\n",
      "[index: 672179] old: 2001\n",
      "new: 2002\n",
      "[index: 375671] old: 2001\n",
      "new: 2002\n",
      "[index: 181564] old: 1994\n",
      "new: 1995\n",
      "[index: 191986] old: 1994\n",
      "new: 1995\n",
      "[index: 671505] old: 1999\n",
      "new: 2000\n",
      "[index: 673163] old: 1995\n",
      "new: 1996\n",
      "[index: 375773] old: 2001\n",
      "new: 2002\n",
      "[index: 335430] old: 2000\n",
      "new: 2001\n",
      "[index: 767154] old: 2001\n",
      "new: 2002\n",
      "[index: 673479] old: 1996\n",
      "new: 1997\n",
      "[index: 306105] old: 1998\n",
      "new: 1999\n",
      "[index: 187460] old: 1994\n",
      "new: 1995\n",
      "[index: 671355] old: 1999\n",
      "new: 2000\n",
      "[index: 671867] old: 2000\n",
      "new: 2001\n",
      "[index: 673313] old: 1995\n",
      "new: 1996\n",
      "[index: 191944] old: 1994\n",
      "new: 1995\n",
      "[index: 273247] old: 1998\n",
      "new: 1999\n",
      "[index: 233327] old: 1996\n",
      "new: 1997\n",
      "[index: 765221] old: 2000\n",
      "new: 2001\n",
      "[index: 673487] old: 1996\n",
      "new: 1997\n",
      "[index: 765533] old: 1998\n",
      "new: 1999\n",
      "[index: 671185] old: 1998\n",
      "new: 1999\n",
      "[index: 190628] old: 1994\n",
      "new: 1995\n",
      "[index: 671506] old: 1999\n",
      "new: 2000\n",
      "[index: 290596] old: 1999\n",
      "new: 2000\n",
      "[index: 181556] old: 1994\n",
      "new: 1995\n",
      "[index: 765507] old: 2001\n",
      "new: 2002\n",
      "[index: 335454] old: 2000\n",
      "new: 2001\n",
      "[index: 615216] old: 1995\n",
      "new: 1996\n",
      "[index: 357776] old: 2000\n",
      "new: 2001\n",
      "[index: 672831] old: 1994\n",
      "new: 1995\n",
      "[index: 673635] old: 1996\n",
      "new: 1997\n",
      "[index: 672837] old: 1994\n",
      "new: 1995\n",
      "[index: 181569] old: 1994\n",
      "new: 1995\n",
      "[index: 672833] old: 1994\n",
      "new: 1995\n",
      "[index: 671191] old: 1998\n",
      "new: 1999\n",
      "[index: 276359] old: 1998\n",
      "new: 1999\n",
      "[index: 671514] old: 1999\n",
      "new: 2000\n",
      "[index: 362096] old: 2000\n",
      "new: 2001\n",
      "[index: 673152] old: 1995\n",
      "new: 1996\n",
      "[index: 202107] old: 1995\n",
      "new: 1996\n",
      "[index: 276354] old: 1998\n",
      "new: 1999\n",
      "[index: 375739] old: 2001\n",
      "new: 2002\n",
      "[index: 233340] old: 1996\n",
      "new: 1997\n",
      "[index: 672186] old: 2001\n",
      "new: 2002\n",
      "[index: 672371] old: 2001\n",
      "new: 2002\n",
      "[index: 758367] old: 1996\n",
      "new: 1997\n",
      "[index: 304245] old: 1999\n",
      "new: 2000\n",
      "[index: 950484] old: 2003\n",
      "new: 2003\n",
      "[index: 336579] old: 2000\n",
      "new: 2001\n",
      "[index: 872779]Old: 2003\n",
      "New: 2002\n",
      "[index: 671033]Old: 1998\n",
      "New: 1997\n",
      "[index: 872803]Old: 2003\n",
      "New: 2002\n",
      "[index: 375765]Old: 2001\n",
      "New: 2000\n",
      "[index: 375774]Old: 2001\n",
      "New: 2000\n",
      "[index: 219735]Old: 1995\n",
      "New: 1994\n",
      "[index: 671876]Old: 2000\n",
      "New: 1999\n",
      "[index: 335390]Old: 2000\n",
      "New: 1999\n",
      "[index: 344853]Old: 1999\n",
      "New: 1998\n",
      "[index: 673149]Old: 1995\n",
      "New: 1994\n",
      "[index: 671520]Old: 1999\n",
      "New: 1998\n",
      "[index: 276340]Old: 1998\n",
      "New: 1997\n",
      "[index: 381886]Old: 1996\n",
      "New: 1995\n",
      "[index: 671855]Old: 2000\n",
      "New: 1999\n",
      "[index: 673326]Old: 1996\n",
      "New: 1995\n",
      "[index: 765755]Old: 1996\n",
      "New: 1995\n",
      "[index: 333613]Old: 1999\n",
      "New: 1998\n",
      "[index: 290607]Old: 1998\n",
      "New: 1997\n",
      "[index: 223883]Old: 1995\n",
      "New: 1994\n",
      "[index: 672352]Old: 2001\n",
      "New: 2000\n",
      "[index: 671678]Old: 2000\n",
      "New: 1999\n",
      "[index: 671500]Old: 1999\n",
      "New: 1998\n",
      "[index: 276375]Old: 1998\n",
      "New: 1997\n",
      "[index: 673328]Old: 1996\n",
      "New: 1995\n",
      "[index: 765219]Old: 2000\n",
      "New: 1999\n",
      "[index: 673642]Old: 1997\n",
      "New: 1996\n",
      "[index: 373691]Old: 2001\n",
      "New: 2000\n",
      "[index: 276373]Old: 1998\n",
      "New: 1997\n",
      "[index: 564721]Old: 2002\n",
      "New: 2001\n",
      "[index: 671837]Old: 2000\n",
      "New: 1999\n",
      "[index: 672195]Old: 2001\n",
      "New: 2000\n",
      "[index: 670992]Old: 1997\n",
      "New: 1996\n",
      "[index: 383735]Old: 2001\n",
      "New: 2000\n",
      "[index: 344850]Old: 1999\n",
      "New: 1998\n",
      "[index: 375666]Old: 2001\n",
      "New: 2000\n",
      "[index: 375792]Old: 2001\n",
      "New: 2000\n",
      "[index: 672838]Old: 1994\n",
      "New: 1994\n",
      "[index: 671160]Old: 1998\n",
      "New: 1997\n",
      "[index: 959087]Old: 2003\n",
      "New: 2002\n",
      "[index: 191872]Old: 1994\n",
      "New: 1994\n",
      "[index: 276324]Old: 1998\n",
      "New: 1997\n",
      "[index: 671687]Old: 2000\n",
      "New: 1999\n",
      "[index: 604276]Old: 2001\n",
      "New: 2000\n",
      "[index: 671174]Old: 1998\n",
      "New: 1997\n",
      "[index: 672966]Old: 1994\n",
      "New: 1994\n",
      "[index: 304202]Old: 1999\n",
      "New: 1998\n",
      "[index: 604269]Old: 2001\n",
      "New: 2000\n",
      "[index: 673465]Old: 1996\n",
      "New: 1995\n",
      "[index: 672820]Old: 1994\n",
      "New: 1994\n",
      "[index: 671857]Old: 2000\n",
      "New: 1999\n",
      "[index: 304248]Old: 1999\n",
      "New: 1998\n",
      "[index: 331989]Old: 1999\n",
      "New: 1998\n",
      "[index: 306137]Old: 1998\n",
      "New: 1997\n",
      "[index: 672361]Old: 2001\n",
      "New: 2000\n",
      "[index: 872798]Old: 2003\n",
      "New: 2002\n",
      "[index: 672207]Old: 2001\n",
      "New: 2000\n",
      "[index: 335463]Old: 2000\n",
      "New: 1999\n",
      "[index: 673297]Old: 1995\n",
      "New: 1994\n",
      "[index: 671181]Old: 1998\n",
      "New: 1997\n",
      "[index: 276320]Old: 1998\n",
      "New: 1997\n",
      "[index: 304188]Old: 1999\n",
      "New: 1998\n",
      "[index: 375808]Old: 2001\n",
      "New: 2000\n",
      "[index: 304573]Old: 1999\n",
      "New: 1998\n",
      "[index: 671666]Old: 1999\n",
      "New: 1998\n",
      "[index: 671200]Old: 1998\n",
      "New: 1997\n",
      "[index: 191928]Old: 1994\n",
      "New: 1994\n",
      "[index: 191988]Old: 1994\n",
      "New: 1994\n",
      "[index: 671673]Old: 1999\n",
      "New: 1998\n",
      "[index: 233321]Old: 1996\n",
      "New: 1995\n",
      "[index: 673315]Old: 1995\n",
      "New: 1994\n",
      "[index: 304569]Old: 1999\n",
      "New: 1998\n",
      "[index: 233358]Old: 1996\n",
      "New: 1995\n",
      "[index: 564769]Old: 2002\n",
      "New: 2001\n",
      "[index: 223865]Old: 1995\n",
      "New: 1994\n",
      "[index: 673332]Old: 1996\n",
      "New: 1995\n",
      "[index: 564745]Old: 2002\n",
      "New: 2001\n",
      "[index: 335477]Old: 2000\n",
      "New: 1999\n",
      "[index: 253379]Old: 1997\n",
      "New: 1996\n",
      "[index: 671702]Old: 2000\n",
      "New: 1999\n",
      "[index: 673644]Old: 1997\n",
      "New: 1996\n",
      "[index: 950493]Old: 2003\n",
      "New: 2002\n",
      "[index: 362136]Old: 2000\n",
      "New: 1999\n",
      "[index: 191932]Old: 1994\n",
      "New: 1994\n",
      "[index: 959079]Old: 2003\n",
      "New: 2002\n",
      "[index: 564735]Old: 2002\n",
      "New: 2001\n",
      "[index: 253280]Old: 1997\n",
      "New: 1996\n",
      "[index: 604266]Old: 2001\n",
      "New: 2000\n",
      "[index: 233371]Old: 1996\n",
      "New: 1995\n",
      "[index: 248608]Old: 1997\n",
      "New: 1996\n",
      "[index: 671529]Old: 1999\n",
      "New: 1998\n",
      "[index: 672822]Old: 1994\n",
      "New: 1994\n",
      "[index: 637431]Old: 2002\n",
      "New: 2001\n",
      "[index: 507349]Old: 2002\n",
      "New: 2001\n",
      "[index: 615222]Old: 1995\n",
      "New: 1994\n"
     ]
    }
   ],
   "source": [
    "B4 = mu.perturb_year(B3, indices, 2003, 1994)"
   ]
  },
  {
   "cell_type": "code",
   "execution_count": 64,
   "metadata": {
    "collapsed": false
   },
   "outputs": [
    {
     "data": {
      "text/plain": [
       "True"
      ]
     },
     "execution_count": 64,
     "metadata": {},
     "output_type": "execute_result"
    }
   ],
   "source": [
    "em.set_key(B4, 'id')"
   ]
  },
  {
   "cell_type": "code",
   "execution_count": 98,
   "metadata": {
    "collapsed": false
   },
   "outputs": [],
   "source": [
    "ab = em.AttrEquivalenceBlocker()\n",
    "C2 = ab.block_tables(A2, B4, 'year', 'year', ['title', 'authors', 'year'], ['title', 'authors', 'year'])"
   ]
  },
  {
   "cell_type": "code",
   "execution_count": 99,
   "metadata": {
    "collapsed": true
   },
   "outputs": [],
   "source": [
    "dbg = em.debug_blocker(C2, A2, B4)"
   ]
  },
  {
   "cell_type": "code",
   "execution_count": 100,
   "metadata": {
    "collapsed": true
   },
   "outputs": [],
   "source": [
    "em.view_table(dbg)"
   ]
  },
  {
   "cell_type": "code",
   "execution_count": 68,
   "metadata": {
    "collapsed": true
   },
   "outputs": [],
   "source": [
    "B4.reset_index(inplace=True, drop=True)"
   ]
  },
  {
   "cell_type": "code",
   "execution_count": 69,
   "metadata": {
    "collapsed": false
   },
   "outputs": [
    {
     "data": {
      "text/html": [
       "<div>\n",
       "<table border=\"1\" class=\"dataframe\">\n",
       "  <thead>\n",
       "    <tr style=\"text-align: right;\">\n",
       "      <th></th>\n",
       "      <th>id</th>\n",
       "      <th>title</th>\n",
       "      <th>authors</th>\n",
       "      <th>venue</th>\n",
       "      <th>year</th>\n",
       "    </tr>\n",
       "  </thead>\n",
       "  <tbody>\n",
       "    <tr>\n",
       "      <th>0</th>\n",
       "      <td>304201</td>\n",
       "      <td>An efficient bitmap encoding scheme for selection queries</td>\n",
       "      <td>Chee-Yong Chan, Yannis E. Ioannidis</td>\n",
       "      <td>International Conference on Management of Data</td>\n",
       "      <td>1999</td>\n",
       "    </tr>\n",
       "    <tr>\n",
       "      <th>1</th>\n",
       "      <td>672964</td>\n",
       "      <td>Integrating a Structured-Text Retrieval System with an Object-Oriented Database System</td>\n",
       "      <td>Tak W. Yan, Jurgen Annevelink</td>\n",
       "      <td>Very Large Data Bases</td>\n",
       "      <td>1994</td>\n",
       "    </tr>\n",
       "    <tr>\n",
       "      <th>2</th>\n",
       "      <td>223794</td>\n",
       "      <td>Nearest neighbor queries</td>\n",
       "      <td>Nick Roussopoulos, Stephen Kelley, Frédéric Vincent</td>\n",
       "      <td>International Conference on Management of Data</td>\n",
       "      <td>1995</td>\n",
       "    </tr>\n",
       "    <tr>\n",
       "      <th>3</th>\n",
       "      <td>223788</td>\n",
       "      <td>The LyriC language: querying constraint objects</td>\n",
       "      <td>Alexander Brodsky, Yoram Kornatzky</td>\n",
       "      <td>International Conference on Management of Data</td>\n",
       "      <td>1995</td>\n",
       "    </tr>\n",
       "    <tr>\n",
       "      <th>4</th>\n",
       "      <td>672012</td>\n",
       "      <td>E.piphany Epicenter Technology Overview</td>\n",
       "      <td>Sridhar Ramaswamy</td>\n",
       "      <td>Very Large Data Bases</td>\n",
       "      <td>2000</td>\n",
       "    </tr>\n",
       "  </tbody>\n",
       "</table>\n",
       "</div>"
      ],
      "text/plain": [
       "       id  \\\n",
       "0  304201   \n",
       "1  672964   \n",
       "2  223794   \n",
       "3  223788   \n",
       "4  672012   \n",
       "\n",
       "                                                                                    title  \\\n",
       "0                               An efficient bitmap encoding scheme for selection queries   \n",
       "1  Integrating a Structured-Text Retrieval System with an Object-Oriented Database System   \n",
       "2                                                                Nearest neighbor queries   \n",
       "3                                         The LyriC language: querying constraint objects   \n",
       "4                                                 E.piphany Epicenter Technology Overview   \n",
       "\n",
       "                                               authors  \\\n",
       "0                  Chee-Yong Chan, Yannis E. Ioannidis   \n",
       "1                        Tak W. Yan, Jurgen Annevelink   \n",
       "2  Nick Roussopoulos, Stephen Kelley, Frédéric Vincent   \n",
       "3                   Alexander Brodsky, Yoram Kornatzky   \n",
       "4                                    Sridhar Ramaswamy   \n",
       "\n",
       "                                            venue  year  \n",
       "0  International Conference on Management of Data  1999  \n",
       "1                           Very Large Data Bases  1994  \n",
       "2  International Conference on Management of Data  1995  \n",
       "3  International Conference on Management of Data  1995  \n",
       "4                           Very Large Data Bases  2000  "
      ]
     },
     "execution_count": 69,
     "metadata": {},
     "output_type": "execute_result"
    }
   ],
   "source": [
    "B4.head()"
   ]
  },
  {
   "cell_type": "code",
   "execution_count": 71,
   "metadata": {
    "collapsed": false
   },
   "outputs": [
    {
     "data": {
      "text/plain": [
       "True"
      ]
     },
     "execution_count": 71,
     "metadata": {},
     "output_type": "execute_result"
    }
   ],
   "source": [
    "em.to_csv_metadata(B4, './ORIG_DBLP_ACM/acm_sim_title_rem_perturb_year.csv')"
   ]
  },
  {
   "cell_type": "code",
   "execution_count": 101,
   "metadata": {
    "collapsed": false
   },
   "outputs": [
    {
     "name": "stderr",
     "output_type": "stream",
     "text": [
      "0%                          100%\n",
      "[##############################] | ETA: 00:00:00\n",
      "Total time elapsed: 00:00:01\n"
     ]
    }
   ],
   "source": [
    "ob = em.OverlapBlocker()\n",
    "C3 = ob.block_tables(A2, B4, 'title', 'title', l_output_attrs=['title', 'authors', 'year'], r_output_attrs=['title', 'authors', 'year'])"
   ]
  },
  {
   "cell_type": "code",
   "execution_count": 102,
   "metadata": {
    "collapsed": false
   },
   "outputs": [],
   "source": [
    "C = em.combine_blocker_outputs_via_union([C2, C3])"
   ]
  },
  {
   "cell_type": "code",
   "execution_count": 103,
   "metadata": {
    "collapsed": true
   },
   "outputs": [],
   "source": [
    "count, tuple_ids = mu.get_num_positives_candset(C, gold)"
   ]
  },
  {
   "cell_type": "code",
   "execution_count": 104,
   "metadata": {
    "collapsed": false
   },
   "outputs": [
    {
     "data": {
      "text/plain": [
       "1575"
      ]
     },
     "execution_count": 104,
     "metadata": {},
     "output_type": "execute_result"
    }
   ],
   "source": [
    "count"
   ]
  },
  {
   "cell_type": "code",
   "execution_count": 204,
   "metadata": {
    "collapsed": true
   },
   "outputs": [],
   "source": [
    "g = gold.set_index(['ltable_id', 'rtable_id'], drop=False)"
   ]
  },
  {
   "cell_type": "code",
   "execution_count": 208,
   "metadata": {
    "collapsed": true
   },
   "outputs": [],
   "source": [
    "g1 = g.ix[tuple_ids]"
   ]
  },
  {
   "cell_type": "code",
   "execution_count": 210,
   "metadata": {
    "collapsed": false
   },
   "outputs": [
    {
     "data": {
      "text/plain": [
       "True"
      ]
     },
     "execution_count": 210,
     "metadata": {},
     "output_type": "execute_result"
    }
   ],
   "source": [
    "em.set_fk_ltable(g1, 'ltable_id')\n",
    "em.set_fk_rtable(g1, 'rtable_id')\n",
    "em.set_ltable(g1, A2)\n",
    "em.set_rtable(g1, B4)\n",
    "em.set_key(g1, '_id')\n"
   ]
  },
  {
   "cell_type": "code",
   "execution_count": 215,
   "metadata": {
    "collapsed": false
   },
   "outputs": [],
   "source": [
    "g1.reset_index(drop=True, inplace=True)"
   ]
  },
  {
   "cell_type": "code",
   "execution_count": 216,
   "metadata": {
    "collapsed": false
   },
   "outputs": [],
   "source": [
    "g1 = em.add_output_attributes(g1, l_output_attrs=['year'], r_output_attrs=['year'])"
   ]
  },
  {
   "cell_type": "code",
   "execution_count": 217,
   "metadata": {
    "collapsed": false
   },
   "outputs": [
    {
     "data": {
      "text/html": [
       "<div>\n",
       "<table border=\"1\" class=\"dataframe\">\n",
       "  <thead>\n",
       "    <tr style=\"text-align: right;\">\n",
       "      <th></th>\n",
       "      <th>_id</th>\n",
       "      <th>ltable_id</th>\n",
       "      <th>rtable_id</th>\n",
       "      <th>label</th>\n",
       "      <th>ltable_year</th>\n",
       "      <th>rtable_year</th>\n",
       "    </tr>\n",
       "  </thead>\n",
       "  <tbody>\n",
       "    <tr>\n",
       "      <th>0</th>\n",
       "      <td>769</td>\n",
       "      <td>conf/sigmod/FlorescuGKR02</td>\n",
       "      <td>564779</td>\n",
       "      <td>1</td>\n",
       "      <td>2002</td>\n",
       "      <td>2002</td>\n",
       "    </tr>\n",
       "    <tr>\n",
       "      <th>1</th>\n",
       "      <td>653</td>\n",
       "      <td>conf/sigmod/WangPFY03</td>\n",
       "      <td>872774</td>\n",
       "      <td>1</td>\n",
       "      <td>2003</td>\n",
       "      <td>2003</td>\n",
       "    </tr>\n",
       "    <tr>\n",
       "      <th>2</th>\n",
       "      <td>174</td>\n",
       "      <td>conf/sigmod/AggarwalWY99</td>\n",
       "      <td>304218</td>\n",
       "      <td>1</td>\n",
       "      <td>1999</td>\n",
       "      <td>1999</td>\n",
       "    </tr>\n",
       "    <tr>\n",
       "      <th>3</th>\n",
       "      <td>342</td>\n",
       "      <td>conf/sigmod/LlirbatFS97</td>\n",
       "      <td>253357</td>\n",
       "      <td>1</td>\n",
       "      <td>1997</td>\n",
       "      <td>1997</td>\n",
       "    </tr>\n",
       "    <tr>\n",
       "      <th>4</th>\n",
       "      <td>234</td>\n",
       "      <td>conf/sigmod/ZhouLP99</td>\n",
       "      <td>304580</td>\n",
       "      <td>1</td>\n",
       "      <td>1999</td>\n",
       "      <td>1999</td>\n",
       "    </tr>\n",
       "  </tbody>\n",
       "</table>\n",
       "</div>"
      ],
      "text/plain": [
       "   _id                  ltable_id rtable_id label ltable_year rtable_year\n",
       "0  769  conf/sigmod/FlorescuGKR02    564779     1        2002        2002\n",
       "1  653      conf/sigmod/WangPFY03    872774     1        2003        2003\n",
       "2  174   conf/sigmod/AggarwalWY99    304218     1        1999        1999\n",
       "3  342    conf/sigmod/LlirbatFS97    253357     1        1997        1997\n",
       "4  234       conf/sigmod/ZhouLP99    304580     1        1999        1999"
      ]
     },
     "execution_count": 217,
     "metadata": {},
     "output_type": "execute_result"
    }
   ],
   "source": [
    "g1.head()"
   ]
  },
  {
   "cell_type": "code",
   "execution_count": 218,
   "metadata": {
    "collapsed": true
   },
   "outputs": [],
   "source": [
    "g1.rename(columns={'rtable_year': 'rtable_year_perturbed'}, inplace=True)"
   ]
  },
  {
   "cell_type": "code",
   "execution_count": 219,
   "metadata": {
    "collapsed": false
   },
   "outputs": [
    {
     "data": {
      "text/plain": [
       "True"
      ]
     },
     "execution_count": 219,
     "metadata": {},
     "output_type": "execute_result"
    }
   ],
   "source": [
    "em.set_fk_ltable(g1, 'ltable_id')\n",
    "em.set_fk_rtable(g1, 'rtable_id')\n",
    "em.set_ltable(g1, A2)\n",
    "em.set_rtable(g1, B2)\n",
    "em.set_key(g1, '_id')"
   ]
  },
  {
   "cell_type": "code",
   "execution_count": 221,
   "metadata": {
    "collapsed": false
   },
   "outputs": [],
   "source": [
    "g1 = em.add_output_attributes(g1, r_output_attrs=['year'])"
   ]
  },
  {
   "cell_type": "code",
   "execution_count": 222,
   "metadata": {
    "collapsed": false
   },
   "outputs": [
    {
     "data": {
      "text/html": [
       "<div>\n",
       "<table border=\"1\" class=\"dataframe\">\n",
       "  <thead>\n",
       "    <tr style=\"text-align: right;\">\n",
       "      <th></th>\n",
       "      <th>_id</th>\n",
       "      <th>ltable_id</th>\n",
       "      <th>rtable_id</th>\n",
       "      <th>label</th>\n",
       "      <th>ltable_year</th>\n",
       "      <th>rtable_year_perturbed</th>\n",
       "      <th>rtable_year</th>\n",
       "    </tr>\n",
       "  </thead>\n",
       "  <tbody>\n",
       "    <tr>\n",
       "      <th>0</th>\n",
       "      <td>769</td>\n",
       "      <td>conf/sigmod/FlorescuGKR02</td>\n",
       "      <td>564779</td>\n",
       "      <td>1</td>\n",
       "      <td>2002</td>\n",
       "      <td>2002</td>\n",
       "      <td>2002</td>\n",
       "    </tr>\n",
       "    <tr>\n",
       "      <th>1</th>\n",
       "      <td>653</td>\n",
       "      <td>conf/sigmod/WangPFY03</td>\n",
       "      <td>872774</td>\n",
       "      <td>1</td>\n",
       "      <td>2003</td>\n",
       "      <td>2003</td>\n",
       "      <td>2003</td>\n",
       "    </tr>\n",
       "    <tr>\n",
       "      <th>2</th>\n",
       "      <td>174</td>\n",
       "      <td>conf/sigmod/AggarwalWY99</td>\n",
       "      <td>304218</td>\n",
       "      <td>1</td>\n",
       "      <td>1999</td>\n",
       "      <td>1999</td>\n",
       "      <td>1999</td>\n",
       "    </tr>\n",
       "    <tr>\n",
       "      <th>3</th>\n",
       "      <td>342</td>\n",
       "      <td>conf/sigmod/LlirbatFS97</td>\n",
       "      <td>253357</td>\n",
       "      <td>1</td>\n",
       "      <td>1997</td>\n",
       "      <td>1997</td>\n",
       "      <td>1997</td>\n",
       "    </tr>\n",
       "    <tr>\n",
       "      <th>4</th>\n",
       "      <td>234</td>\n",
       "      <td>conf/sigmod/ZhouLP99</td>\n",
       "      <td>304580</td>\n",
       "      <td>1</td>\n",
       "      <td>1999</td>\n",
       "      <td>1999</td>\n",
       "      <td>1999</td>\n",
       "    </tr>\n",
       "  </tbody>\n",
       "</table>\n",
       "</div>"
      ],
      "text/plain": [
       "   _id                  ltable_id rtable_id label ltable_year  \\\n",
       "0  769  conf/sigmod/FlorescuGKR02    564779     1        2002   \n",
       "1  653      conf/sigmod/WangPFY03    872774     1        2003   \n",
       "2  174   conf/sigmod/AggarwalWY99    304218     1        1999   \n",
       "3  342    conf/sigmod/LlirbatFS97    253357     1        1997   \n",
       "4  234       conf/sigmod/ZhouLP99    304580     1        1999   \n",
       "\n",
       "  rtable_year_perturbed rtable_year  \n",
       "0                  2002        2002  \n",
       "1                  2003        2003  \n",
       "2                  1999        1999  \n",
       "3                  1997        1997  \n",
       "4                  1999        1999  "
      ]
     },
     "execution_count": 222,
     "metadata": {},
     "output_type": "execute_result"
    }
   ],
   "source": [
    "g1.head()"
   ]
  },
  {
   "cell_type": "code",
   "execution_count": 224,
   "metadata": {
    "collapsed": false
   },
   "outputs": [
    {
     "data": {
      "text/plain": [
       "1396"
      ]
     },
     "execution_count": 224,
     "metadata": {},
     "output_type": "execute_result"
    }
   ],
   "source": [
    "g1_same_year = em.filter_rows(g1, 'ltable_year == rtable_year_perturbed')\n",
    "len(g1_same_year)"
   ]
  },
  {
   "cell_type": "code",
   "execution_count": 406,
   "metadata": {
    "collapsed": false
   },
   "outputs": [
    {
     "data": {
      "text/plain": [
       "179"
      ]
     },
     "execution_count": 406,
     "metadata": {},
     "output_type": "execute_result"
    }
   ],
   "source": [
    "g1_diff_year = em.filter_rows(g1, 'ltable_year != rtable_year_perturbed')\n",
    "len(g1_diff_year)"
   ]
  },
  {
   "cell_type": "code",
   "execution_count": 407,
   "metadata": {
    "collapsed": true
   },
   "outputs": [],
   "source": [
    "g1_diff_year_sampled = em.sample_table(g1_diff_year, 100)"
   ]
  },
  {
   "cell_type": "code",
   "execution_count": 408,
   "metadata": {
    "collapsed": true
   },
   "outputs": [],
   "source": [
    "g1_same_year_splitted_2 = em.split_train_test(g1_same_year, train_proportion=0.5)"
   ]
  },
  {
   "cell_type": "code",
   "execution_count": 409,
   "metadata": {
    "collapsed": true
   },
   "outputs": [],
   "source": [
    "g1_same_year_to_be_swapped_sample = em.sample_table(g1_same_year_splitted_2['train'], 50)\n",
    "g1_same_year_not_to_be_swapped_sample = em.sample_table(g1_same_year_splitted_2['test'], 150)"
   ]
  },
  {
   "cell_type": "code",
   "execution_count": 410,
   "metadata": {
    "collapsed": false
   },
   "outputs": [
    {
     "data": {
      "text/plain": [
       "(50, 150)"
      ]
     },
     "execution_count": 410,
     "metadata": {},
     "output_type": "execute_result"
    }
   ],
   "source": [
    "len(g1_same_year_to_be_swapped_sample), len(g1_same_year_not_to_be_swapped_sample)"
   ]
  },
  {
   "cell_type": "code",
   "execution_count": 411,
   "metadata": {
    "collapsed": false
   },
   "outputs": [
    {
     "data": {
      "text/html": [
       "<div>\n",
       "<table border=\"1\" class=\"dataframe\">\n",
       "  <thead>\n",
       "    <tr style=\"text-align: right;\">\n",
       "      <th></th>\n",
       "      <th>_id</th>\n",
       "      <th>ltable_id</th>\n",
       "      <th>rtable_id</th>\n",
       "      <th>label</th>\n",
       "      <th>ltable_year</th>\n",
       "      <th>rtable_year_perturbed</th>\n",
       "      <th>rtable_year</th>\n",
       "    </tr>\n",
       "  </thead>\n",
       "  <tbody>\n",
       "    <tr>\n",
       "      <th>15</th>\n",
       "      <td>1622</td>\n",
       "      <td>conf/vldb/MengLYWCR98</td>\n",
       "      <td>671185</td>\n",
       "      <td>1</td>\n",
       "      <td>1998</td>\n",
       "      <td>1999</td>\n",
       "      <td>1998</td>\n",
       "    </tr>\n",
       "    <tr>\n",
       "      <th>74</th>\n",
       "      <td>2137</td>\n",
       "      <td>journals/vldb/HelmerM03</td>\n",
       "      <td>950493</td>\n",
       "      <td>1</td>\n",
       "      <td>2003</td>\n",
       "      <td>2002</td>\n",
       "      <td>2003</td>\n",
       "    </tr>\n",
       "    <tr>\n",
       "      <th>81</th>\n",
       "      <td>1122</td>\n",
       "      <td>journals/sigmod/SonDT96</td>\n",
       "      <td>381879</td>\n",
       "      <td>1</td>\n",
       "      <td>1996</td>\n",
       "      <td>1997</td>\n",
       "      <td>1996</td>\n",
       "    </tr>\n",
       "    <tr>\n",
       "      <th>82</th>\n",
       "      <td>1258</td>\n",
       "      <td>journals/tods/WandSW99</td>\n",
       "      <td>331989</td>\n",
       "      <td>1</td>\n",
       "      <td>1999</td>\n",
       "      <td>1998</td>\n",
       "      <td>1999</td>\n",
       "    </tr>\n",
       "    <tr>\n",
       "      <th>121</th>\n",
       "      <td>704</td>\n",
       "      <td>conf/sigmod/LuoEHN02</td>\n",
       "      <td>564721</td>\n",
       "      <td>1</td>\n",
       "      <td>2002</td>\n",
       "      <td>2001</td>\n",
       "      <td>2002</td>\n",
       "    </tr>\n",
       "    <tr>\n",
       "      <th>127</th>\n",
       "      <td>113</td>\n",
       "      <td>conf/sigmod/LiuPBHPT00</td>\n",
       "      <td>336579</td>\n",
       "      <td>1</td>\n",
       "      <td>2000</td>\n",
       "      <td>2001</td>\n",
       "      <td>2000</td>\n",
       "    </tr>\n",
       "    <tr>\n",
       "      <th>147</th>\n",
       "      <td>939</td>\n",
       "      <td>journals/sigmod/FengJH01</td>\n",
       "      <td>373691</td>\n",
       "      <td>1</td>\n",
       "      <td>2001</td>\n",
       "      <td>2000</td>\n",
       "      <td>2001</td>\n",
       "    </tr>\n",
       "    <tr>\n",
       "      <th>151</th>\n",
       "      <td>664</td>\n",
       "      <td>conf/sigmod/KementsietsidisAM03</td>\n",
       "      <td>872798</td>\n",
       "      <td>1</td>\n",
       "      <td>2003</td>\n",
       "      <td>2002</td>\n",
       "      <td>2003</td>\n",
       "    </tr>\n",
       "    <tr>\n",
       "      <th>152</th>\n",
       "      <td>1393</td>\n",
       "      <td>conf/vldb/BlokWZPAKJ01</td>\n",
       "      <td>672179</td>\n",
       "      <td>1</td>\n",
       "      <td>2001</td>\n",
       "      <td>2002</td>\n",
       "      <td>2001</td>\n",
       "    </tr>\n",
       "    <tr>\n",
       "      <th>155</th>\n",
       "      <td>311</td>\n",
       "      <td>conf/sigmod/Spiro98</td>\n",
       "      <td>276359</td>\n",
       "      <td>1</td>\n",
       "      <td>1998</td>\n",
       "      <td>1999</td>\n",
       "      <td>1998</td>\n",
       "    </tr>\n",
       "  </tbody>\n",
       "</table>\n",
       "</div>"
      ],
      "text/plain": [
       "      _id                        ltable_id rtable_id label ltable_year  \\\n",
       "15   1622            conf/vldb/MengLYWCR98    671185     1        1998   \n",
       "74   2137          journals/vldb/HelmerM03    950493     1        2003   \n",
       "81   1122          journals/sigmod/SonDT96    381879     1        1996   \n",
       "82   1258           journals/tods/WandSW99    331989     1        1999   \n",
       "121   704             conf/sigmod/LuoEHN02    564721     1        2002   \n",
       "127   113           conf/sigmod/LiuPBHPT00    336579     1        2000   \n",
       "147   939         journals/sigmod/FengJH01    373691     1        2001   \n",
       "151   664  conf/sigmod/KementsietsidisAM03    872798     1        2003   \n",
       "152  1393           conf/vldb/BlokWZPAKJ01    672179     1        2001   \n",
       "155   311              conf/sigmod/Spiro98    276359     1        1998   \n",
       "\n",
       "    rtable_year_perturbed rtable_year  \n",
       "15                   1999        1998  \n",
       "74                   2002        2003  \n",
       "81                   1997        1996  \n",
       "82                   1998        1999  \n",
       "121                  2001        2002  \n",
       "127                  2001        2000  \n",
       "147                  2000        2001  \n",
       "151                  2002        2003  \n",
       "152                  2002        2001  \n",
       "155                  1999        1998  "
      ]
     },
     "execution_count": 411,
     "metadata": {},
     "output_type": "execute_result"
    }
   ],
   "source": [
    "g1_diff_year_sampled.head(10)"
   ]
  },
  {
   "cell_type": "code",
   "execution_count": 412,
   "metadata": {
    "collapsed": false
   },
   "outputs": [
    {
     "data": {
      "text/plain": [
       "50"
      ]
     },
     "execution_count": 412,
     "metadata": {},
     "output_type": "execute_result"
    }
   ],
   "source": [
    "len(g1_same_year_to_be_swapped_sample.ltable_id.values)"
   ]
  },
  {
   "cell_type": "code",
   "execution_count": 413,
   "metadata": {
    "collapsed": true
   },
   "outputs": [],
   "source": [
    "A3 = A2.set_index('id', drop=False)"
   ]
  },
  {
   "cell_type": "code",
   "execution_count": 414,
   "metadata": {
    "collapsed": false
   },
   "outputs": [],
   "source": [
    "titles = A3.ix[g1_same_year_to_be_swapped_sample.ltable_id.values, 'title']"
   ]
  },
  {
   "cell_type": "code",
   "execution_count": 415,
   "metadata": {
    "collapsed": false
   },
   "outputs": [
    {
     "data": {
      "text/plain": [
       "id\n",
       "conf/sigmod/WynblattN01                 The Network is the Database: Data Management for Highly Distributed Systems\n",
       "journals/sigmod/FrankGGJKLMNPSSSTW99           Chorochronos: A Research Network for Spatiotemporal Database Systems\n",
       "journals/vldb/DoanMDDH03                                           Learning to match ontologies on the Semantic Web\n",
       "conf/sigmod/Dullmann99                                                                           Petabyte Databases\n",
       "conf/vldb/MuntzR94                                 A Requirement-Based Approach to Data Modeling and Re-Engineering\n",
       "Name: title, dtype: object"
      ]
     },
     "execution_count": 415,
     "metadata": {},
     "output_type": "execute_result"
    }
   ],
   "source": [
    "titles.head()"
   ]
  },
  {
   "cell_type": "code",
   "execution_count": 416,
   "metadata": {
    "collapsed": true
   },
   "outputs": [],
   "source": [
    "authors = A3.ix[g1_same_year_to_be_swapped_sample.ltable_id.values, 'authors']"
   ]
  },
  {
   "cell_type": "code",
   "execution_count": 417,
   "metadata": {
    "collapsed": true
   },
   "outputs": [],
   "source": [
    "A4 = A3.copy()"
   ]
  },
  {
   "cell_type": "code",
   "execution_count": 418,
   "metadata": {
    "collapsed": false
   },
   "outputs": [],
   "source": [
    "A4.ix[g1_same_year_to_be_swapped_sample.ltable_id.values, 'authors'] = titles"
   ]
  },
  {
   "cell_type": "code",
   "execution_count": 419,
   "metadata": {
    "collapsed": true
   },
   "outputs": [],
   "source": [
    "A4.ix[g1_same_year_to_be_swapped_sample.ltable_id.values, 'title'] = authors"
   ]
  },
  {
   "cell_type": "code",
   "execution_count": 420,
   "metadata": {
    "collapsed": false
   },
   "outputs": [
    {
     "data": {
      "text/html": [
       "<div>\n",
       "<table border=\"1\" class=\"dataframe\">\n",
       "  <thead>\n",
       "    <tr style=\"text-align: right;\">\n",
       "      <th></th>\n",
       "      <th>id</th>\n",
       "      <th>title</th>\n",
       "      <th>authors</th>\n",
       "      <th>venue</th>\n",
       "      <th>year</th>\n",
       "    </tr>\n",
       "    <tr>\n",
       "      <th>id</th>\n",
       "      <th></th>\n",
       "      <th></th>\n",
       "      <th></th>\n",
       "      <th></th>\n",
       "      <th></th>\n",
       "    </tr>\n",
       "  </thead>\n",
       "  <tbody>\n",
       "    <tr>\n",
       "      <th>conf/sigmod/WynblattN01</th>\n",
       "      <td>conf/sigmod/WynblattN01</td>\n",
       "      <td>Michael J. Wynblatt, Julio C. Navas</td>\n",
       "      <td>The Network is the Database: Data Management for Highly Distributed Systems</td>\n",
       "      <td>SIGMOD Conference</td>\n",
       "      <td>2001</td>\n",
       "    </tr>\n",
       "    <tr>\n",
       "      <th>journals/sigmod/FrankGGJKLMNPSSSTW99</th>\n",
       "      <td>journals/sigmod/FrankGGJKLMNPSSSTW99</td>\n",
       "      <td>Enrico Nardelli, Timos K. Sellis, Andrew U. Frank, Stphane Grumbach, Hans-Jrg Schek, Manolis Kou...</td>\n",
       "      <td>Chorochronos: A Research Network for Spatiotemporal Database Systems</td>\n",
       "      <td>SIGMOD Record</td>\n",
       "      <td>1999</td>\n",
       "    </tr>\n",
       "    <tr>\n",
       "      <th>journals/vldb/DoanMDDH03</th>\n",
       "      <td>journals/vldb/DoanMDDH03</td>\n",
       "      <td>Jayant Madhavan, Robin Dhamankar, Alon Y. Halevy, Pedro Domingos, AnHai Doan</td>\n",
       "      <td>Learning to match ontologies on the Semantic Web</td>\n",
       "      <td>VLDB J.</td>\n",
       "      <td>2003</td>\n",
       "    </tr>\n",
       "    <tr>\n",
       "      <th>conf/sigmod/Dullmann99</th>\n",
       "      <td>conf/sigmod/Dullmann99</td>\n",
       "      <td>Dirk Dllmann</td>\n",
       "      <td>Petabyte Databases</td>\n",
       "      <td>SIGMOD Conference</td>\n",
       "      <td>1999</td>\n",
       "    </tr>\n",
       "    <tr>\n",
       "      <th>conf/vldb/MuntzR94</th>\n",
       "      <td>conf/vldb/MuntzR94</td>\n",
       "      <td>Christian T. Ramiller, Alice H. Muntz</td>\n",
       "      <td>A Requirement-Based Approach to Data Modeling and Re-Engineering</td>\n",
       "      <td>VLDB</td>\n",
       "      <td>1994</td>\n",
       "    </tr>\n",
       "  </tbody>\n",
       "</table>\n",
       "</div>"
      ],
      "text/plain": [
       "                                                                        id  \\\n",
       "id                                                                           \n",
       "conf/sigmod/WynblattN01                            conf/sigmod/WynblattN01   \n",
       "journals/sigmod/FrankGGJKLMNPSSSTW99  journals/sigmod/FrankGGJKLMNPSSSTW99   \n",
       "journals/vldb/DoanMDDH03                          journals/vldb/DoanMDDH03   \n",
       "conf/sigmod/Dullmann99                              conf/sigmod/Dullmann99   \n",
       "conf/vldb/MuntzR94                                      conf/vldb/MuntzR94   \n",
       "\n",
       "                                                                                                                                    title  \\\n",
       "id                                                                                                                                          \n",
       "conf/sigmod/WynblattN01                                                                               Michael J. Wynblatt, Julio C. Navas   \n",
       "journals/sigmod/FrankGGJKLMNPSSSTW99  Enrico Nardelli, Timos K. Sellis, Andrew U. Frank, Stphane Grumbach, Hans-Jrg Schek, Manolis Kou...   \n",
       "journals/vldb/DoanMDDH03                                     Jayant Madhavan, Robin Dhamankar, Alon Y. Halevy, Pedro Domingos, AnHai Doan   \n",
       "conf/sigmod/Dullmann99                                                                                                       Dirk Dllmann   \n",
       "conf/vldb/MuntzR94                                                                                  Christian T. Ramiller, Alice H. Muntz   \n",
       "\n",
       "                                                                                                          authors  \\\n",
       "id                                                                                                                  \n",
       "conf/sigmod/WynblattN01               The Network is the Database: Data Management for Highly Distributed Systems   \n",
       "journals/sigmod/FrankGGJKLMNPSSSTW99         Chorochronos: A Research Network for Spatiotemporal Database Systems   \n",
       "journals/vldb/DoanMDDH03                                         Learning to match ontologies on the Semantic Web   \n",
       "conf/sigmod/Dullmann99                                                                         Petabyte Databases   \n",
       "conf/vldb/MuntzR94                               A Requirement-Based Approach to Data Modeling and Re-Engineering   \n",
       "\n",
       "                                                  venue  year  \n",
       "id                                                             \n",
       "conf/sigmod/WynblattN01               SIGMOD Conference  2001  \n",
       "journals/sigmod/FrankGGJKLMNPSSSTW99      SIGMOD Record  1999  \n",
       "journals/vldb/DoanMDDH03                        VLDB J.  2003  \n",
       "conf/sigmod/Dullmann99                SIGMOD Conference  1999  \n",
       "conf/vldb/MuntzR94                                 VLDB  1994  "
      ]
     },
     "execution_count": 420,
     "metadata": {},
     "output_type": "execute_result"
    }
   ],
   "source": [
    "A4.ix[g1_same_year_to_be_swapped_sample.ltable_id.values].head()"
   ]
  },
  {
   "cell_type": "code",
   "execution_count": 421,
   "metadata": {
    "collapsed": false
   },
   "outputs": [
    {
     "data": {
      "text/plain": [
       "True"
      ]
     },
     "execution_count": 421,
     "metadata": {},
     "output_type": "execute_result"
    }
   ],
   "source": [
    "em.set_key(A4, 'id')"
   ]
  },
  {
   "cell_type": "code",
   "execution_count": 422,
   "metadata": {
    "collapsed": true
   },
   "outputs": [],
   "source": [
    "A4.reset_index(inplace=True, drop=True)"
   ]
  },
  {
   "cell_type": "code",
   "execution_count": 423,
   "metadata": {
    "collapsed": false
   },
   "outputs": [
    {
     "data": {
      "text/html": [
       "<div>\n",
       "<table border=\"1\" class=\"dataframe\">\n",
       "  <thead>\n",
       "    <tr style=\"text-align: right;\">\n",
       "      <th></th>\n",
       "      <th>id</th>\n",
       "      <th>title</th>\n",
       "      <th>authors</th>\n",
       "      <th>venue</th>\n",
       "      <th>year</th>\n",
       "    </tr>\n",
       "  </thead>\n",
       "  <tbody>\n",
       "    <tr>\n",
       "      <th>0</th>\n",
       "      <td>conf/sigmod/Team95a</td>\n",
       "      <td>Paradise: A Database System for GIS Applications</td>\n",
       "      <td>Paradise Team</td>\n",
       "      <td>SIGMOD Conference</td>\n",
       "      <td>1995</td>\n",
       "    </tr>\n",
       "    <tr>\n",
       "      <th>1</th>\n",
       "      <td>conf/sigmod/BunemanDHS96</td>\n",
       "      <td>A Query Language and Optimization Techniques for Unstructured Data</td>\n",
       "      <td>Gerd G. Hillebrand, Peter Buneman, Susan B. Davidson, Dan Suciu</td>\n",
       "      <td>SIGMOD Conference</td>\n",
       "      <td>1996</td>\n",
       "    </tr>\n",
       "    <tr>\n",
       "      <th>2</th>\n",
       "      <td>conf/sigmod/ShenoyHSBBS00</td>\n",
       "      <td>Turbo-charging Vertical Mining of Large Databases</td>\n",
       "      <td>Jayant R. Haritsa, Devavrat Shah, S. Sudarshan, Pradeep Shenoy, Mayank Bawa, Gaurav Bhalotia</td>\n",
       "      <td>SIGMOD Conference</td>\n",
       "      <td>2000</td>\n",
       "    </tr>\n",
       "    <tr>\n",
       "      <th>3</th>\n",
       "      <td>conf/sigmod/MumickQM97</td>\n",
       "      <td>Maintenance of Data Cubes and Summary Tables in a Warehouse</td>\n",
       "      <td>Inderpal Singh Mumick, Dallan Quass, Barinderpal Singh Mumick</td>\n",
       "      <td>SIGMOD Conference</td>\n",
       "      <td>1997</td>\n",
       "    </tr>\n",
       "    <tr>\n",
       "      <th>4</th>\n",
       "      <td>conf/sigmod/ChaudhuriKN03</td>\n",
       "      <td>On Relational Support for XML Publishing: Beyond Sorting and Tagging</td>\n",
       "      <td>Raghav Kaushik, Jeffrey F. Naughton, Surajit Chaudhuri</td>\n",
       "      <td>SIGMOD Conference</td>\n",
       "      <td>2003</td>\n",
       "    </tr>\n",
       "    <tr>\n",
       "      <th>5</th>\n",
       "      <td>conf/vldb/XieH94</td>\n",
       "      <td>Join Index Hierarchies for Supporting Efficient Navigations in Object-Oriented Databases</td>\n",
       "      <td>Jiawei Han, Zhaohui Xie</td>\n",
       "      <td>VLDB</td>\n",
       "      <td>1994</td>\n",
       "    </tr>\n",
       "    <tr>\n",
       "      <th>6</th>\n",
       "      <td>conf/sigmod/TrisoliniLN99</td>\n",
       "      <td>Data Integration and Warehousing in Telecom Italia</td>\n",
       "      <td>Daniele Nardi, Maurizio Lenzerini, Stefano Trisolini</td>\n",
       "      <td>SIGMOD Conference</td>\n",
       "      <td>1999</td>\n",
       "    </tr>\n",
       "    <tr>\n",
       "      <th>7</th>\n",
       "      <td>conf/vldb/DeutschPT99</td>\n",
       "      <td>Physical Data Independence, Constraints, and Optimization with Universal Plans</td>\n",
       "      <td>Lucian Popa, Alin Deutsch, Val Tannen</td>\n",
       "      <td>VLDB</td>\n",
       "      <td>1999</td>\n",
       "    </tr>\n",
       "    <tr>\n",
       "      <th>8</th>\n",
       "      <td>journals/sigmod/PourabbasR02</td>\n",
       "      <td>A Pictorial Query Language for Querying Geographic Databases using Positional and OLAP Operators</td>\n",
       "      <td>Elaheh Pourabbas, Maurizio Rafanelli</td>\n",
       "      <td>SIGMOD Record</td>\n",
       "      <td>2002</td>\n",
       "    </tr>\n",
       "    <tr>\n",
       "      <th>9</th>\n",
       "      <td>conf/vldb/Galindo-LegariaPK94</td>\n",
       "      <td>Fast, Randomized Join-Order Selection - Why Use Transformations?</td>\n",
       "      <td>Arjan Pellenkoft, Csar A. Galindo-Legaria, Martin L. Kersten</td>\n",
       "      <td>VLDB</td>\n",
       "      <td>1994</td>\n",
       "    </tr>\n",
       "  </tbody>\n",
       "</table>\n",
       "</div>"
      ],
      "text/plain": [
       "                              id  \\\n",
       "0            conf/sigmod/Team95a   \n",
       "1       conf/sigmod/BunemanDHS96   \n",
       "2      conf/sigmod/ShenoyHSBBS00   \n",
       "3         conf/sigmod/MumickQM97   \n",
       "4      conf/sigmod/ChaudhuriKN03   \n",
       "5               conf/vldb/XieH94   \n",
       "6      conf/sigmod/TrisoliniLN99   \n",
       "7          conf/vldb/DeutschPT99   \n",
       "8   journals/sigmod/PourabbasR02   \n",
       "9  conf/vldb/Galindo-LegariaPK94   \n",
       "\n",
       "                                                                                              title  \\\n",
       "0                                                  Paradise: A Database System for GIS Applications   \n",
       "1                                A Query Language and Optimization Techniques for Unstructured Data   \n",
       "2                                                 Turbo-charging Vertical Mining of Large Databases   \n",
       "3                                       Maintenance of Data Cubes and Summary Tables in a Warehouse   \n",
       "4                              On Relational Support for XML Publishing: Beyond Sorting and Tagging   \n",
       "5          Join Index Hierarchies for Supporting Efficient Navigations in Object-Oriented Databases   \n",
       "6                                                Data Integration and Warehousing in Telecom Italia   \n",
       "7                    Physical Data Independence, Constraints, and Optimization with Universal Plans   \n",
       "8  A Pictorial Query Language for Querying Geographic Databases using Positional and OLAP Operators   \n",
       "9                                  Fast, Randomized Join-Order Selection - Why Use Transformations?   \n",
       "\n",
       "                                                                                        authors  \\\n",
       "0                                                                                 Paradise Team   \n",
       "1                               Gerd G. Hillebrand, Peter Buneman, Susan B. Davidson, Dan Suciu   \n",
       "2  Jayant R. Haritsa, Devavrat Shah, S. Sudarshan, Pradeep Shenoy, Mayank Bawa, Gaurav Bhalotia   \n",
       "3                                 Inderpal Singh Mumick, Dallan Quass, Barinderpal Singh Mumick   \n",
       "4                                        Raghav Kaushik, Jeffrey F. Naughton, Surajit Chaudhuri   \n",
       "5                                                                       Jiawei Han, Zhaohui Xie   \n",
       "6                                          Daniele Nardi, Maurizio Lenzerini, Stefano Trisolini   \n",
       "7                                                         Lucian Popa, Alin Deutsch, Val Tannen   \n",
       "8                                                          Elaheh Pourabbas, Maurizio Rafanelli   \n",
       "9                                  Arjan Pellenkoft, Csar A. Galindo-Legaria, Martin L. Kersten   \n",
       "\n",
       "               venue  year  \n",
       "0  SIGMOD Conference  1995  \n",
       "1  SIGMOD Conference  1996  \n",
       "2  SIGMOD Conference  2000  \n",
       "3  SIGMOD Conference  1997  \n",
       "4  SIGMOD Conference  2003  \n",
       "5               VLDB  1994  \n",
       "6  SIGMOD Conference  1999  \n",
       "7               VLDB  1999  \n",
       "8      SIGMOD Record  2002  \n",
       "9               VLDB  1994  "
      ]
     },
     "execution_count": 423,
     "metadata": {},
     "output_type": "execute_result"
    }
   ],
   "source": [
    "A4.head(10)"
   ]
  },
  {
   "cell_type": "code",
   "execution_count": 424,
   "metadata": {
    "collapsed": false
   },
   "outputs": [
    {
     "data": {
      "text/plain": [
       "True"
      ]
     },
     "execution_count": 424,
     "metadata": {},
     "output_type": "execute_result"
    }
   ],
   "source": [
    "em.to_csv_metadata(A4, 'ORIG_DBLP_ACM/dblp_sim_title_rem_title_auth_swapped.csv')"
   ]
  },
  {
   "cell_type": "code",
   "execution_count": 425,
   "metadata": {
    "collapsed": false
   },
   "outputs": [
    {
     "data": {
      "text/html": [
       "<div>\n",
       "<table border=\"1\" class=\"dataframe\">\n",
       "  <thead>\n",
       "    <tr style=\"text-align: right;\">\n",
       "      <th></th>\n",
       "      <th>id</th>\n",
       "      <th>title</th>\n",
       "      <th>authors</th>\n",
       "      <th>venue</th>\n",
       "      <th>year</th>\n",
       "    </tr>\n",
       "  </thead>\n",
       "  <tbody>\n",
       "    <tr>\n",
       "      <th>0</th>\n",
       "      <td>conf/sigmod/Team95a</td>\n",
       "      <td>Paradise: A Database System for GIS Applications</td>\n",
       "      <td>Paradise Team</td>\n",
       "      <td>SIGMOD Conference</td>\n",
       "      <td>1995</td>\n",
       "    </tr>\n",
       "    <tr>\n",
       "      <th>1</th>\n",
       "      <td>conf/sigmod/BunemanDHS96</td>\n",
       "      <td>A Query Language and Optimization Techniques for Unstructured Data</td>\n",
       "      <td>Gerd G. Hillebrand, Peter Buneman, Susan B. Davidson, Dan Suciu</td>\n",
       "      <td>SIGMOD Conference</td>\n",
       "      <td>1996</td>\n",
       "    </tr>\n",
       "    <tr>\n",
       "      <th>2</th>\n",
       "      <td>conf/sigmod/ShenoyHSBBS00</td>\n",
       "      <td>Turbo-charging Vertical Mining of Large Databases</td>\n",
       "      <td>Jayant R. Haritsa, Devavrat Shah, S. Sudarshan, Pradeep Shenoy, Mayank Bawa, Gaurav Bhalotia</td>\n",
       "      <td>SIGMOD Conference</td>\n",
       "      <td>2000</td>\n",
       "    </tr>\n",
       "    <tr>\n",
       "      <th>3</th>\n",
       "      <td>conf/sigmod/MumickQM97</td>\n",
       "      <td>Maintenance of Data Cubes and Summary Tables in a Warehouse</td>\n",
       "      <td>Inderpal Singh Mumick, Dallan Quass, Barinderpal Singh Mumick</td>\n",
       "      <td>SIGMOD Conference</td>\n",
       "      <td>1997</td>\n",
       "    </tr>\n",
       "    <tr>\n",
       "      <th>4</th>\n",
       "      <td>conf/sigmod/ChaudhuriKN03</td>\n",
       "      <td>On Relational Support for XML Publishing: Beyond Sorting and Tagging</td>\n",
       "      <td>Raghav Kaushik, Jeffrey F. Naughton, Surajit Chaudhuri</td>\n",
       "      <td>SIGMOD Conference</td>\n",
       "      <td>2003</td>\n",
       "    </tr>\n",
       "  </tbody>\n",
       "</table>\n",
       "</div>"
      ],
      "text/plain": [
       "                          id  \\\n",
       "0        conf/sigmod/Team95a   \n",
       "1   conf/sigmod/BunemanDHS96   \n",
       "2  conf/sigmod/ShenoyHSBBS00   \n",
       "3     conf/sigmod/MumickQM97   \n",
       "4  conf/sigmod/ChaudhuriKN03   \n",
       "\n",
       "                                                                  title  \\\n",
       "0                      Paradise: A Database System for GIS Applications   \n",
       "1    A Query Language and Optimization Techniques for Unstructured Data   \n",
       "2                     Turbo-charging Vertical Mining of Large Databases   \n",
       "3           Maintenance of Data Cubes and Summary Tables in a Warehouse   \n",
       "4  On Relational Support for XML Publishing: Beyond Sorting and Tagging   \n",
       "\n",
       "                                                                                        authors  \\\n",
       "0                                                                                 Paradise Team   \n",
       "1                               Gerd G. Hillebrand, Peter Buneman, Susan B. Davidson, Dan Suciu   \n",
       "2  Jayant R. Haritsa, Devavrat Shah, S. Sudarshan, Pradeep Shenoy, Mayank Bawa, Gaurav Bhalotia   \n",
       "3                                 Inderpal Singh Mumick, Dallan Quass, Barinderpal Singh Mumick   \n",
       "4                                        Raghav Kaushik, Jeffrey F. Naughton, Surajit Chaudhuri   \n",
       "\n",
       "               venue  year  \n",
       "0  SIGMOD Conference  1995  \n",
       "1  SIGMOD Conference  1996  \n",
       "2  SIGMOD Conference  2000  \n",
       "3  SIGMOD Conference  1997  \n",
       "4  SIGMOD Conference  2003  "
      ]
     },
     "execution_count": 425,
     "metadata": {},
     "output_type": "execute_result"
    }
   ],
   "source": [
    "A4.head()"
   ]
  },
  {
   "cell_type": "code",
   "execution_count": 426,
   "metadata": {
    "collapsed": true
   },
   "outputs": [],
   "source": [
    "dbg = em.debug_blocker(C, A2, B4)"
   ]
  },
  {
   "cell_type": "code",
   "execution_count": 427,
   "metadata": {
    "collapsed": false
   },
   "outputs": [
    {
     "data": {
      "text/plain": [
       "200"
      ]
     },
     "execution_count": 427,
     "metadata": {},
     "output_type": "execute_result"
    }
   ],
   "source": [
    "len(dbg)"
   ]
  },
  {
   "cell_type": "code",
   "execution_count": 428,
   "metadata": {
    "collapsed": true
   },
   "outputs": [],
   "source": [
    "em.view_table(dbg)"
   ]
  },
  {
   "cell_type": "code",
   "execution_count": 429,
   "metadata": {
    "collapsed": true
   },
   "outputs": [],
   "source": [
    "d1 = dbg[0:150]"
   ]
  },
  {
   "cell_type": "code",
   "execution_count": 430,
   "metadata": {
    "collapsed": false
   },
   "outputs": [
    {
     "data": {
      "text/plain": [
       "150"
      ]
     },
     "execution_count": 430,
     "metadata": {},
     "output_type": "execute_result"
    }
   ],
   "source": [
    "len(d1)"
   ]
  },
  {
   "cell_type": "code",
   "execution_count": 431,
   "metadata": {
    "collapsed": false
   },
   "outputs": [
    {
     "data": {
      "text/html": [
       "<div>\n",
       "<table border=\"1\" class=\"dataframe\">\n",
       "  <thead>\n",
       "    <tr style=\"text-align: right;\">\n",
       "      <th></th>\n",
       "      <th>_id</th>\n",
       "      <th>ltable_id</th>\n",
       "      <th>rtable_id</th>\n",
       "      <th>label</th>\n",
       "      <th>ltable_year</th>\n",
       "      <th>rtable_year_perturbed</th>\n",
       "      <th>rtable_year</th>\n",
       "    </tr>\n",
       "  </thead>\n",
       "  <tbody>\n",
       "    <tr>\n",
       "      <th>0</th>\n",
       "      <td>362</td>\n",
       "      <td>conf/sigmod/HanKK97</td>\n",
       "      <td>253330</td>\n",
       "      <td>1</td>\n",
       "      <td>1997</td>\n",
       "      <td>1997</td>\n",
       "      <td>1997</td>\n",
       "    </tr>\n",
       "    <tr>\n",
       "      <th>2</th>\n",
       "      <td>432</td>\n",
       "      <td>conf/sigmod/PoosalaIHS96</td>\n",
       "      <td>233342</td>\n",
       "      <td>1</td>\n",
       "      <td>1996</td>\n",
       "      <td>1996</td>\n",
       "      <td>1996</td>\n",
       "    </tr>\n",
       "    <tr>\n",
       "      <th>13</th>\n",
       "      <td>126</td>\n",
       "      <td>conf/sigmod/KornM00</td>\n",
       "      <td>335415</td>\n",
       "      <td>1</td>\n",
       "      <td>2000</td>\n",
       "      <td>2000</td>\n",
       "      <td>2000</td>\n",
       "    </tr>\n",
       "    <tr>\n",
       "      <th>16</th>\n",
       "      <td>825</td>\n",
       "      <td>journals/sigmod/dOnofrioP03</td>\n",
       "      <td>776990</td>\n",
       "      <td>1</td>\n",
       "      <td>2003</td>\n",
       "      <td>2003</td>\n",
       "      <td>2003</td>\n",
       "    </tr>\n",
       "    <tr>\n",
       "      <th>20</th>\n",
       "      <td>1897</td>\n",
       "      <td>conf/vldb/AgrawalPWZ95</td>\n",
       "      <td>673157</td>\n",
       "      <td>1</td>\n",
       "      <td>1995</td>\n",
       "      <td>1995</td>\n",
       "      <td>1995</td>\n",
       "    </tr>\n",
       "  </tbody>\n",
       "</table>\n",
       "</div>"
      ],
      "text/plain": [
       "     _id                    ltable_id rtable_id label ltable_year  \\\n",
       "0    362          conf/sigmod/HanKK97    253330     1        1997   \n",
       "2    432     conf/sigmod/PoosalaIHS96    233342     1        1996   \n",
       "13   126          conf/sigmod/KornM00    335415     1        2000   \n",
       "16   825  journals/sigmod/dOnofrioP03    776990     1        2003   \n",
       "20  1897       conf/vldb/AgrawalPWZ95    673157     1        1995   \n",
       "\n",
       "   rtable_year_perturbed rtable_year  \n",
       "0                   1997        1997  \n",
       "2                   1996        1996  \n",
       "13                  2000        2000  \n",
       "16                  2003        2003  \n",
       "20                  1995        1995  "
      ]
     },
     "execution_count": 431,
     "metadata": {},
     "output_type": "execute_result"
    }
   ],
   "source": [
    "g3.head()"
   ]
  },
  {
   "cell_type": "code",
   "execution_count": 432,
   "metadata": {
    "collapsed": false
   },
   "outputs": [],
   "source": [
    "d2 = d1[['_id', 'ltable_id', 'rtable_id']]"
   ]
  },
  {
   "cell_type": "code",
   "execution_count": 433,
   "metadata": {
    "collapsed": false
   },
   "outputs": [
    {
     "data": {
      "text/plain": [
       "(100, 150, 50, 150)"
      ]
     },
     "execution_count": 433,
     "metadata": {},
     "output_type": "execute_result"
    }
   ],
   "source": [
    "len(g1_diff_year_sampled), len(g1_same_year_not_to_be_swapped_sample), len(g1_same_year_to_be_swapped_sample), len(d2)"
   ]
  },
  {
   "cell_type": "code",
   "execution_count": 434,
   "metadata": {
    "collapsed": true
   },
   "outputs": [],
   "source": [
    "g1_diff_year_sampled_prj = g1_diff_year_sampled[['_id', 'ltable_id', 'rtable_id', 'label']]\n",
    "g1_same_year_not_to_be_swapped_sample = g1_same_year_not_to_be_swapped_sample[['_id', 'ltable_id', 'rtable_id', 'label']]\n",
    "g1_same_year_to_be_swapped_sample = g1_same_year_to_be_swapped_sample[['_id', 'ltable_id', 'rtable_id', 'label']]"
   ]
  },
  {
   "cell_type": "code",
   "execution_count": 435,
   "metadata": {
    "collapsed": false
   },
   "outputs": [
    {
     "name": "stderr",
     "output_type": "stream",
     "text": [
      "/scratch/pradap/local/share/miniconda3/lib/python3.5/site-packages/ipykernel/__main__.py:1: SettingWithCopyWarning: \n",
      "A value is trying to be set on a copy of a slice from a DataFrame.\n",
      "Try using .loc[row_indexer,col_indexer] = value instead\n",
      "\n",
      "See the caveats in the documentation: http://pandas.pydata.org/pandas-docs/stable/indexing.html#indexing-view-versus-copy\n",
      "  if __name__ == '__main__':\n"
     ]
    }
   ],
   "source": [
    "d2['label'] = 0"
   ]
  },
  {
   "cell_type": "code",
   "execution_count": 436,
   "metadata": {
    "collapsed": false
   },
   "outputs": [],
   "source": [
    "labeled_data = pd.concat([g1_diff_year_sampled_prj, g1_same_year_not_to_be_swapped_sample, g1_same_year_to_be_swapped_sample, d2], \n",
    "          ignore_index=True)"
   ]
  },
  {
   "cell_type": "code",
   "execution_count": 437,
   "metadata": {
    "collapsed": false
   },
   "outputs": [
    {
     "data": {
      "text/plain": [
       "300"
      ]
     },
     "execution_count": 437,
     "metadata": {},
     "output_type": "execute_result"
    }
   ],
   "source": [
    "sum(labeled_data.label.astype(int))"
   ]
  },
  {
   "cell_type": "code",
   "execution_count": 438,
   "metadata": {
    "collapsed": false
   },
   "outputs": [],
   "source": [
    "labeled_data = labeled_data.sample(frac=1)"
   ]
  },
  {
   "cell_type": "code",
   "execution_count": 439,
   "metadata": {
    "collapsed": false
   },
   "outputs": [],
   "source": [
    "labeled_data['_id'] = range(0, len(labeled_data))"
   ]
  },
  {
   "cell_type": "code",
   "execution_count": 440,
   "metadata": {
    "collapsed": true
   },
   "outputs": [],
   "source": [
    "labeled_data.reset_index(inplace=True)"
   ]
  },
  {
   "cell_type": "code",
   "execution_count": 441,
   "metadata": {
    "collapsed": false
   },
   "outputs": [
    {
     "data": {
      "text/html": [
       "<div>\n",
       "<table border=\"1\" class=\"dataframe\">\n",
       "  <thead>\n",
       "    <tr style=\"text-align: right;\">\n",
       "      <th></th>\n",
       "      <th>index</th>\n",
       "      <th>_id</th>\n",
       "      <th>ltable_id</th>\n",
       "      <th>rtable_id</th>\n",
       "      <th>label</th>\n",
       "    </tr>\n",
       "  </thead>\n",
       "  <tbody>\n",
       "    <tr>\n",
       "      <th>0</th>\n",
       "      <td>345</td>\n",
       "      <td>0</td>\n",
       "      <td>journals/sigmod/Hellerstein03</td>\n",
       "      <td>191904</td>\n",
       "      <td>0</td>\n",
       "    </tr>\n",
       "    <tr>\n",
       "      <th>1</th>\n",
       "      <td>394</td>\n",
       "      <td>1</td>\n",
       "      <td>journals/sigmod/Qian97</td>\n",
       "      <td>381901</td>\n",
       "      <td>0</td>\n",
       "    </tr>\n",
       "    <tr>\n",
       "      <th>2</th>\n",
       "      <td>247</td>\n",
       "      <td>2</td>\n",
       "      <td>conf/vldb/Guting94</td>\n",
       "      <td>672980</td>\n",
       "      <td>1</td>\n",
       "    </tr>\n",
       "    <tr>\n",
       "      <th>3</th>\n",
       "      <td>120</td>\n",
       "      <td>3</td>\n",
       "      <td>conf/sigmod/Toyama98</td>\n",
       "      <td>276389</td>\n",
       "      <td>1</td>\n",
       "    </tr>\n",
       "    <tr>\n",
       "      <th>4</th>\n",
       "      <td>403</td>\n",
       "      <td>4</td>\n",
       "      <td>journals/sigmod/EisenbergM99a</td>\n",
       "      <td>945739</td>\n",
       "      <td>0</td>\n",
       "    </tr>\n",
       "  </tbody>\n",
       "</table>\n",
       "</div>"
      ],
      "text/plain": [
       "   index  _id                      ltable_id rtable_id label\n",
       "0    345    0  journals/sigmod/Hellerstein03    191904     0\n",
       "1    394    1         journals/sigmod/Qian97    381901     0\n",
       "2    247    2             conf/vldb/Guting94    672980     1\n",
       "3    120    3           conf/sigmod/Toyama98    276389     1\n",
       "4    403    4  journals/sigmod/EisenbergM99a    945739     0"
      ]
     },
     "execution_count": 441,
     "metadata": {},
     "output_type": "execute_result"
    }
   ],
   "source": [
    "labeled_data.head()"
   ]
  },
  {
   "cell_type": "code",
   "execution_count": 442,
   "metadata": {
    "collapsed": true
   },
   "outputs": [],
   "source": [
    "labeled_data = labeled_data[['_id', 'ltable_id', 'rtable_id', 'label']]"
   ]
  },
  {
   "cell_type": "code",
   "execution_count": 443,
   "metadata": {
    "collapsed": false
   },
   "outputs": [
    {
     "data": {
      "text/plain": [
       "True"
      ]
     },
     "execution_count": 443,
     "metadata": {},
     "output_type": "execute_result"
    }
   ],
   "source": [
    "em.set_key(labeled_data, '_id')\n",
    "em.set_ltable(labeled_data, A4)\n",
    "em.set_rtable(labeled_data, B4)\n",
    "em.set_fk_ltable(labeled_data, 'ltable_id')\n",
    "em.set_fk_rtable(labeled_data, 'rtable_id')"
   ]
  },
  {
   "cell_type": "code",
   "execution_count": 444,
   "metadata": {
    "collapsed": false
   },
   "outputs": [
    {
     "data": {
      "text/plain": [
       "True"
      ]
     },
     "execution_count": 444,
     "metadata": {},
     "output_type": "execute_result"
    }
   ],
   "source": [
    "em.to_csv_metadata(labeled_data, 'ORIG_DBLP_ACM/labeled_data_dblp_acm_after_monkey_tricks.csv')"
   ]
  }
 ],
 "metadata": {
  "kernelspec": {
   "display_name": "Python [Root]",
   "language": "python",
   "name": "Python [Root]"
  },
  "language_info": {
   "codemirror_mode": {
    "name": "ipython",
    "version": 3
   },
   "file_extension": ".py",
   "mimetype": "text/x-python",
   "name": "python",
   "nbconvert_exporter": "python",
   "pygments_lexer": "ipython3",
   "version": "3.5.2"
  }
 },
 "nbformat": 4,
 "nbformat_minor": 0
}
