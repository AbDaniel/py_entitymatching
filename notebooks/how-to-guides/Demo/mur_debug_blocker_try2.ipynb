{
 "cells": [
  {
   "cell_type": "code",
   "execution_count": 1,
   "metadata": {
    "collapsed": true
   },
   "outputs": [],
   "source": [
    "%load_ext autotime\n",
    "import sys\n",
    "sys.path.append('/Users/pradap/Documents/Research/Python-Package/anhaid/py_entitymatching/')"
   ]
  },
  {
   "cell_type": "code",
   "execution_count": 19,
   "metadata": {
    "collapsed": false
   },
   "outputs": [
    {
     "name": "stdout",
     "output_type": "stream",
     "text": [
      "time: 1.36 ms\n"
     ]
    }
   ],
   "source": [
    "import py_entitymatching as em\n",
    "from py_entitymatching.utils.generic_helper import list_diff\n",
    "from py_entitymatching.matcherselector.mlmatcherselection import get_xy_data"
   ]
  },
  {
   "cell_type": "code",
   "execution_count": 10,
   "metadata": {
    "collapsed": false
   },
   "outputs": [
    {
     "name": "stdout",
     "output_type": "stream",
     "text": [
      "time: 1.85 ms\n"
     ]
    }
   ],
   "source": [
    "from sklearn.cross_validation import KFold, cross_val_score"
   ]
  },
  {
   "cell_type": "code",
   "execution_count": 15,
   "metadata": {
    "collapsed": false
   },
   "outputs": [
    {
     "data": {
      "text/plain": [
       "True"
      ]
     },
     "execution_count": 15,
     "metadata": {},
     "output_type": "execute_result"
    },
    {
     "name": "stdout",
     "output_type": "stream",
     "text": [
      "time: 30.1 ms\n"
     ]
    }
   ],
   "source": [
    "A = em.load_dataset('person_table_A', key='ID')\n",
    "B = em.load_dataset('person_table_B', key='ID')\n",
    "\n",
    "L = em.read_csv_metadata('person_labeled_data.csv', key='_id')\n",
    "\n",
    "A1 = A[list_diff(list(A.columns), [em.get_key(A)])]\n",
    "B1 = B[list_diff(list(B.columns), [em.get_key(B)])]\n",
    "\n",
    "feature_table = em.get_features_for_matching(A1, B1)\n",
    "\n",
    "em.set_fk_ltable(L, 'ltable_ID')\n",
    "em.set_fk_rtable(L, 'rtable_ID')\n",
    "em.set_ltable(L, A)\n",
    "em.set_rtable(L, B)"
   ]
  },
  {
   "cell_type": "code",
   "execution_count": 48,
   "metadata": {
    "collapsed": false
   },
   "outputs": [
    {
     "name": "stdout",
     "output_type": "stream",
     "text": [
      "time: 1.45 ms\n"
     ]
    }
   ],
   "source": [
    "L.ix[2, 'label'] = 0"
   ]
  },
  {
   "cell_type": "code",
   "execution_count": 49,
   "metadata": {
    "collapsed": false
   },
   "outputs": [
    {
     "data": {
      "text/html": [
       "<div>\n",
       "<table border=\"1\" class=\"dataframe\">\n",
       "  <thead>\n",
       "    <tr style=\"text-align: right;\">\n",
       "      <th></th>\n",
       "      <th>_id</th>\n",
       "      <th>ltable_ID</th>\n",
       "      <th>rtable_ID</th>\n",
       "      <th>label</th>\n",
       "    </tr>\n",
       "  </thead>\n",
       "  <tbody>\n",
       "    <tr>\n",
       "      <th>0</th>\n",
       "      <td>0</td>\n",
       "      <td>a2</td>\n",
       "      <td>b3</td>\n",
       "      <td>1</td>\n",
       "    </tr>\n",
       "    <tr>\n",
       "      <th>1</th>\n",
       "      <td>1</td>\n",
       "      <td>a3</td>\n",
       "      <td>b2</td>\n",
       "      <td>1</td>\n",
       "    </tr>\n",
       "    <tr>\n",
       "      <th>2</th>\n",
       "      <td>2</td>\n",
       "      <td>a5</td>\n",
       "      <td>b5</td>\n",
       "      <td>0</td>\n",
       "    </tr>\n",
       "    <tr>\n",
       "      <th>3</th>\n",
       "      <td>3</td>\n",
       "      <td>a1</td>\n",
       "      <td>b1</td>\n",
       "      <td>0</td>\n",
       "    </tr>\n",
       "    <tr>\n",
       "      <th>4</th>\n",
       "      <td>4</td>\n",
       "      <td>a2</td>\n",
       "      <td>b2</td>\n",
       "      <td>0</td>\n",
       "    </tr>\n",
       "    <tr>\n",
       "      <th>5</th>\n",
       "      <td>5</td>\n",
       "      <td>a2</td>\n",
       "      <td>b4</td>\n",
       "      <td>0</td>\n",
       "    </tr>\n",
       "    <tr>\n",
       "      <th>6</th>\n",
       "      <td>6</td>\n",
       "      <td>a2</td>\n",
       "      <td>b5</td>\n",
       "      <td>0</td>\n",
       "    </tr>\n",
       "    <tr>\n",
       "      <th>7</th>\n",
       "      <td>7</td>\n",
       "      <td>a3</td>\n",
       "      <td>b1</td>\n",
       "      <td>0</td>\n",
       "    </tr>\n",
       "    <tr>\n",
       "      <th>8</th>\n",
       "      <td>8</td>\n",
       "      <td>a4</td>\n",
       "      <td>b4</td>\n",
       "      <td>0</td>\n",
       "    </tr>\n",
       "    <tr>\n",
       "      <th>9</th>\n",
       "      <td>9</td>\n",
       "      <td>a5</td>\n",
       "      <td>b4</td>\n",
       "      <td>0</td>\n",
       "    </tr>\n",
       "  </tbody>\n",
       "</table>\n",
       "</div>"
      ],
      "text/plain": [
       "   _id ltable_ID rtable_ID  label\n",
       "0    0        a2        b3      1\n",
       "1    1        a3        b2      1\n",
       "2    2        a5        b5      0\n",
       "3    3        a1        b1      0\n",
       "4    4        a2        b2      0\n",
       "5    5        a2        b4      0\n",
       "6    6        a2        b5      0\n",
       "7    7        a3        b1      0\n",
       "8    8        a4        b4      0\n",
       "9    9        a5        b4      0"
      ]
     },
     "execution_count": 49,
     "metadata": {},
     "output_type": "execute_result"
    },
    {
     "name": "stdout",
     "output_type": "stream",
     "text": [
      "time: 8.33 ms\n"
     ]
    }
   ],
   "source": [
    "L"
   ]
  },
  {
   "cell_type": "code",
   "execution_count": 50,
   "metadata": {
    "collapsed": false
   },
   "outputs": [
    {
     "name": "stdout",
     "output_type": "stream",
     "text": [
      "time: 35.7 ms\n"
     ]
    }
   ],
   "source": [
    "k=9\n",
    "\n",
    "E = em.extract_feature_vecs(L, feature_table=feature_table, attrs_after='label', show_progress=False)\n",
    "\n",
    "cv = KFold(len(L), k, shuffle=True, random_state=0)"
   ]
  },
  {
   "cell_type": "code",
   "execution_count": 51,
   "metadata": {
    "collapsed": false
   },
   "outputs": [
    {
     "name": "stdout",
     "output_type": "stream",
     "text": [
      "time: 175 ms\n"
     ]
    }
   ],
   "source": [
    "rf = em.RFMatcher()\n",
    "list_test = []\n",
    "for train_index, prediction_index in cv:\n",
    "    train = E.iloc[train_index]\n",
    "    test = E.iloc[prediction_index]\n",
    "    ltest = L.iloc[prediction_index]\n",
    "    rf.fit(table=train, exclude_attrs=['_id', 'ltable_ID', 'rtable_ID', 'label'], target_attr='label') \n",
    "    predictions = rf.predict(table=test, exclude_attrs=['_id', 'ltable_ID', 'rtable_ID', 'label'], \n",
    "                             target_attr='predicted')\n",
    "    x,y=get_xy_data(x=None, y=None, table=test, exclude_attrs=['_id', 'ltable_ID', 'rtable_ID', 'label'], target_attr='label') \n",
    "    predict_probas = rf.clf.predict_proba(x)\n",
    "    ltest = ltest.copy()\n",
    "    ltest['predicted'] = predictions\n",
    "    ltest['pred_proba_nonmatch'] = predict_probas[:,0]\n",
    "    ltest['pred_proba_match'] = predict_probas[:,1]\n",
    "    list_test.append(ltest)\n",
    "    \n",
    "    \n",
    "    "
   ]
  },
  {
   "cell_type": "code",
   "execution_count": 37,
   "metadata": {
    "collapsed": false
   },
   "outputs": [
    {
     "name": "stdout",
     "output_type": "stream",
     "text": [
      "time: 1.07 ms\n"
     ]
    }
   ],
   "source": [
    "import pandas as pd"
   ]
  },
  {
   "cell_type": "code",
   "execution_count": 53,
   "metadata": {
    "collapsed": false
   },
   "outputs": [
    {
     "name": "stdout",
     "output_type": "stream",
     "text": [
      "time: 4.54 ms\n"
     ]
    }
   ],
   "source": [
    "pp = pd.concat(list_test)"
   ]
  },
  {
   "cell_type": "code",
   "execution_count": 55,
   "metadata": {
    "collapsed": false
   },
   "outputs": [
    {
     "name": "stdout",
     "output_type": "stream",
     "text": [
      "time: 1.21 ms\n"
     ]
    }
   ],
   "source": [
    "pp['conf'] = -1"
   ]
  },
  {
   "cell_type": "code",
   "execution_count": 63,
   "metadata": {
    "collapsed": false
   },
   "outputs": [
    {
     "name": "stdout",
     "output_type": "stream",
     "text": [
      "time: 2.47 ms\n"
     ]
    }
   ],
   "source": [
    "def fn(t):\n",
    "    if t['label'] == 0 and t['predicted'] == 1:\n",
    "        t['conf'] = t['pred_proba_match']\n",
    "    elif t['label'] == 1 and t['predicted'] == 0:\n",
    "        t['conf'] = t['pred_proba_nonmatch']\n",
    "    return t"
   ]
  },
  {
   "cell_type": "code",
   "execution_count": 64,
   "metadata": {
    "collapsed": false
   },
   "outputs": [
    {
     "data": {
      "text/html": [
       "<div>\n",
       "<table border=\"1\" class=\"dataframe\">\n",
       "  <thead>\n",
       "    <tr style=\"text-align: right;\">\n",
       "      <th></th>\n",
       "      <th>_id</th>\n",
       "      <th>ltable_ID</th>\n",
       "      <th>rtable_ID</th>\n",
       "      <th>label</th>\n",
       "      <th>predicted</th>\n",
       "      <th>pred_proba_nonmatch</th>\n",
       "      <th>pred_proba_match</th>\n",
       "      <th>conf</th>\n",
       "    </tr>\n",
       "  </thead>\n",
       "  <tbody>\n",
       "    <tr>\n",
       "      <th>2</th>\n",
       "      <td>2</td>\n",
       "      <td>a5</td>\n",
       "      <td>b5</td>\n",
       "      <td>0</td>\n",
       "      <td>1</td>\n",
       "      <td>0.1</td>\n",
       "      <td>0.9</td>\n",
       "      <td>-1</td>\n",
       "    </tr>\n",
       "    <tr>\n",
       "      <th>8</th>\n",
       "      <td>8</td>\n",
       "      <td>a4</td>\n",
       "      <td>b4</td>\n",
       "      <td>0</td>\n",
       "      <td>0</td>\n",
       "      <td>1.0</td>\n",
       "      <td>0.0</td>\n",
       "      <td>-1</td>\n",
       "    </tr>\n",
       "    <tr>\n",
       "      <th>4</th>\n",
       "      <td>4</td>\n",
       "      <td>a2</td>\n",
       "      <td>b2</td>\n",
       "      <td>0</td>\n",
       "      <td>0</td>\n",
       "      <td>1.0</td>\n",
       "      <td>0.0</td>\n",
       "      <td>-1</td>\n",
       "    </tr>\n",
       "    <tr>\n",
       "      <th>9</th>\n",
       "      <td>9</td>\n",
       "      <td>a5</td>\n",
       "      <td>b4</td>\n",
       "      <td>0</td>\n",
       "      <td>0</td>\n",
       "      <td>1.0</td>\n",
       "      <td>0.0</td>\n",
       "      <td>-1</td>\n",
       "    </tr>\n",
       "    <tr>\n",
       "      <th>1</th>\n",
       "      <td>1</td>\n",
       "      <td>a3</td>\n",
       "      <td>b2</td>\n",
       "      <td>1</td>\n",
       "      <td>0</td>\n",
       "      <td>0.5</td>\n",
       "      <td>0.5</td>\n",
       "      <td>-1</td>\n",
       "    </tr>\n",
       "    <tr>\n",
       "      <th>6</th>\n",
       "      <td>6</td>\n",
       "      <td>a2</td>\n",
       "      <td>b5</td>\n",
       "      <td>0</td>\n",
       "      <td>0</td>\n",
       "      <td>1.0</td>\n",
       "      <td>0.0</td>\n",
       "      <td>-1</td>\n",
       "    </tr>\n",
       "    <tr>\n",
       "      <th>7</th>\n",
       "      <td>7</td>\n",
       "      <td>a3</td>\n",
       "      <td>b1</td>\n",
       "      <td>0</td>\n",
       "      <td>0</td>\n",
       "      <td>1.0</td>\n",
       "      <td>0.0</td>\n",
       "      <td>-1</td>\n",
       "    </tr>\n",
       "    <tr>\n",
       "      <th>3</th>\n",
       "      <td>3</td>\n",
       "      <td>a1</td>\n",
       "      <td>b1</td>\n",
       "      <td>0</td>\n",
       "      <td>0</td>\n",
       "      <td>1.0</td>\n",
       "      <td>0.0</td>\n",
       "      <td>-1</td>\n",
       "    </tr>\n",
       "    <tr>\n",
       "      <th>0</th>\n",
       "      <td>0</td>\n",
       "      <td>a2</td>\n",
       "      <td>b3</td>\n",
       "      <td>1</td>\n",
       "      <td>1</td>\n",
       "      <td>0.4</td>\n",
       "      <td>0.6</td>\n",
       "      <td>-1</td>\n",
       "    </tr>\n",
       "    <tr>\n",
       "      <th>5</th>\n",
       "      <td>5</td>\n",
       "      <td>a2</td>\n",
       "      <td>b4</td>\n",
       "      <td>0</td>\n",
       "      <td>0</td>\n",
       "      <td>1.0</td>\n",
       "      <td>0.0</td>\n",
       "      <td>-1</td>\n",
       "    </tr>\n",
       "  </tbody>\n",
       "</table>\n",
       "</div>"
      ],
      "text/plain": [
       "   _id ltable_ID rtable_ID  label  predicted  pred_proba_nonmatch  \\\n",
       "2    2        a5        b5      0          1                  0.1   \n",
       "8    8        a4        b4      0          0                  1.0   \n",
       "4    4        a2        b2      0          0                  1.0   \n",
       "9    9        a5        b4      0          0                  1.0   \n",
       "1    1        a3        b2      1          0                  0.5   \n",
       "6    6        a2        b5      0          0                  1.0   \n",
       "7    7        a3        b1      0          0                  1.0   \n",
       "3    3        a1        b1      0          0                  1.0   \n",
       "0    0        a2        b3      1          1                  0.4   \n",
       "5    5        a2        b4      0          0                  1.0   \n",
       "\n",
       "   pred_proba_match  conf  \n",
       "2               0.9    -1  \n",
       "8               0.0    -1  \n",
       "4               0.0    -1  \n",
       "9               0.0    -1  \n",
       "1               0.5    -1  \n",
       "6               0.0    -1  \n",
       "7               0.0    -1  \n",
       "3               0.0    -1  \n",
       "0               0.6    -1  \n",
       "5               0.0    -1  "
      ]
     },
     "execution_count": 64,
     "metadata": {},
     "output_type": "execute_result"
    },
    {
     "name": "stdout",
     "output_type": "stream",
     "text": [
      "time: 13.1 ms\n"
     ]
    }
   ],
   "source": [
    "pp"
   ]
  },
  {
   "cell_type": "code",
   "execution_count": 66,
   "metadata": {
    "collapsed": false
   },
   "outputs": [
    {
     "name": "stdout",
     "output_type": "stream",
     "text": [
      "time: 4.76 ms\n"
     ]
    }
   ],
   "source": [
    "pp1 = pp.apply(fn, axis=1)"
   ]
  },
  {
   "cell_type": "code",
   "execution_count": 67,
   "metadata": {
    "collapsed": false
   },
   "outputs": [
    {
     "data": {
      "text/html": [
       "<div>\n",
       "<table border=\"1\" class=\"dataframe\">\n",
       "  <thead>\n",
       "    <tr style=\"text-align: right;\">\n",
       "      <th></th>\n",
       "      <th>_id</th>\n",
       "      <th>ltable_ID</th>\n",
       "      <th>rtable_ID</th>\n",
       "      <th>label</th>\n",
       "      <th>predicted</th>\n",
       "      <th>pred_proba_nonmatch</th>\n",
       "      <th>pred_proba_match</th>\n",
       "      <th>conf</th>\n",
       "    </tr>\n",
       "  </thead>\n",
       "  <tbody>\n",
       "    <tr>\n",
       "      <th>2</th>\n",
       "      <td>2</td>\n",
       "      <td>a5</td>\n",
       "      <td>b5</td>\n",
       "      <td>0</td>\n",
       "      <td>1</td>\n",
       "      <td>0.1</td>\n",
       "      <td>0.9</td>\n",
       "      <td>0.9</td>\n",
       "    </tr>\n",
       "    <tr>\n",
       "      <th>1</th>\n",
       "      <td>1</td>\n",
       "      <td>a3</td>\n",
       "      <td>b2</td>\n",
       "      <td>1</td>\n",
       "      <td>0</td>\n",
       "      <td>0.5</td>\n",
       "      <td>0.5</td>\n",
       "      <td>0.5</td>\n",
       "    </tr>\n",
       "  </tbody>\n",
       "</table>\n",
       "</div>"
      ],
      "text/plain": [
       "   _id ltable_ID rtable_ID  label  predicted  pred_proba_nonmatch  \\\n",
       "2    2        a5        b5      0          1                  0.1   \n",
       "1    1        a3        b2      1          0                  0.5   \n",
       "\n",
       "   pred_proba_match  conf  \n",
       "2               0.9   0.9  \n",
       "1               0.5   0.5  "
      ]
     },
     "execution_count": 67,
     "metadata": {},
     "output_type": "execute_result"
    },
    {
     "name": "stdout",
     "output_type": "stream",
     "text": [
      "time: 15.1 ms\n"
     ]
    }
   ],
   "source": [
    "em.filter_rows(pp1, 'conf != -1')"
   ]
  },
  {
   "cell_type": "code",
   "execution_count": 69,
   "metadata": {
    "collapsed": false
   },
   "outputs": [
    {
     "name": "stdout",
     "output_type": "stream",
     "text": [
      "time: 3.04 ms\n"
     ]
    }
   ],
   "source": [
    "pp1.insert(0, 'temp', -1)"
   ]
  },
  {
   "cell_type": "code",
   "execution_count": 70,
   "metadata": {
    "collapsed": false
   },
   "outputs": [
    {
     "data": {
      "text/html": [
       "<div>\n",
       "<table border=\"1\" class=\"dataframe\">\n",
       "  <thead>\n",
       "    <tr style=\"text-align: right;\">\n",
       "      <th></th>\n",
       "      <th>temp</th>\n",
       "      <th>_id</th>\n",
       "      <th>ltable_ID</th>\n",
       "      <th>rtable_ID</th>\n",
       "      <th>label</th>\n",
       "      <th>predicted</th>\n",
       "      <th>pred_proba_nonmatch</th>\n",
       "      <th>pred_proba_match</th>\n",
       "      <th>conf</th>\n",
       "    </tr>\n",
       "  </thead>\n",
       "  <tbody>\n",
       "    <tr>\n",
       "      <th>2</th>\n",
       "      <td>-1</td>\n",
       "      <td>2</td>\n",
       "      <td>a5</td>\n",
       "      <td>b5</td>\n",
       "      <td>0</td>\n",
       "      <td>1</td>\n",
       "      <td>0.1</td>\n",
       "      <td>0.9</td>\n",
       "      <td>0.9</td>\n",
       "    </tr>\n",
       "    <tr>\n",
       "      <th>8</th>\n",
       "      <td>-1</td>\n",
       "      <td>8</td>\n",
       "      <td>a4</td>\n",
       "      <td>b4</td>\n",
       "      <td>0</td>\n",
       "      <td>0</td>\n",
       "      <td>1.0</td>\n",
       "      <td>0.0</td>\n",
       "      <td>-1.0</td>\n",
       "    </tr>\n",
       "    <tr>\n",
       "      <th>4</th>\n",
       "      <td>-1</td>\n",
       "      <td>4</td>\n",
       "      <td>a2</td>\n",
       "      <td>b2</td>\n",
       "      <td>0</td>\n",
       "      <td>0</td>\n",
       "      <td>1.0</td>\n",
       "      <td>0.0</td>\n",
       "      <td>-1.0</td>\n",
       "    </tr>\n",
       "    <tr>\n",
       "      <th>9</th>\n",
       "      <td>-1</td>\n",
       "      <td>9</td>\n",
       "      <td>a5</td>\n",
       "      <td>b4</td>\n",
       "      <td>0</td>\n",
       "      <td>0</td>\n",
       "      <td>1.0</td>\n",
       "      <td>0.0</td>\n",
       "      <td>-1.0</td>\n",
       "    </tr>\n",
       "    <tr>\n",
       "      <th>1</th>\n",
       "      <td>-1</td>\n",
       "      <td>1</td>\n",
       "      <td>a3</td>\n",
       "      <td>b2</td>\n",
       "      <td>1</td>\n",
       "      <td>0</td>\n",
       "      <td>0.5</td>\n",
       "      <td>0.5</td>\n",
       "      <td>0.5</td>\n",
       "    </tr>\n",
       "    <tr>\n",
       "      <th>6</th>\n",
       "      <td>-1</td>\n",
       "      <td>6</td>\n",
       "      <td>a2</td>\n",
       "      <td>b5</td>\n",
       "      <td>0</td>\n",
       "      <td>0</td>\n",
       "      <td>1.0</td>\n",
       "      <td>0.0</td>\n",
       "      <td>-1.0</td>\n",
       "    </tr>\n",
       "    <tr>\n",
       "      <th>7</th>\n",
       "      <td>-1</td>\n",
       "      <td>7</td>\n",
       "      <td>a3</td>\n",
       "      <td>b1</td>\n",
       "      <td>0</td>\n",
       "      <td>0</td>\n",
       "      <td>1.0</td>\n",
       "      <td>0.0</td>\n",
       "      <td>-1.0</td>\n",
       "    </tr>\n",
       "    <tr>\n",
       "      <th>3</th>\n",
       "      <td>-1</td>\n",
       "      <td>3</td>\n",
       "      <td>a1</td>\n",
       "      <td>b1</td>\n",
       "      <td>0</td>\n",
       "      <td>0</td>\n",
       "      <td>1.0</td>\n",
       "      <td>0.0</td>\n",
       "      <td>-1.0</td>\n",
       "    </tr>\n",
       "    <tr>\n",
       "      <th>0</th>\n",
       "      <td>-1</td>\n",
       "      <td>0</td>\n",
       "      <td>a2</td>\n",
       "      <td>b3</td>\n",
       "      <td>1</td>\n",
       "      <td>1</td>\n",
       "      <td>0.4</td>\n",
       "      <td>0.6</td>\n",
       "      <td>-1.0</td>\n",
       "    </tr>\n",
       "    <tr>\n",
       "      <th>5</th>\n",
       "      <td>-1</td>\n",
       "      <td>5</td>\n",
       "      <td>a2</td>\n",
       "      <td>b4</td>\n",
       "      <td>0</td>\n",
       "      <td>0</td>\n",
       "      <td>1.0</td>\n",
       "      <td>0.0</td>\n",
       "      <td>-1.0</td>\n",
       "    </tr>\n",
       "  </tbody>\n",
       "</table>\n",
       "</div>"
      ],
      "text/plain": [
       "   temp  _id ltable_ID rtable_ID  label  predicted  pred_proba_nonmatch  \\\n",
       "2    -1    2        a5        b5      0          1                  0.1   \n",
       "8    -1    8        a4        b4      0          0                  1.0   \n",
       "4    -1    4        a2        b2      0          0                  1.0   \n",
       "9    -1    9        a5        b4      0          0                  1.0   \n",
       "1    -1    1        a3        b2      1          0                  0.5   \n",
       "6    -1    6        a2        b5      0          0                  1.0   \n",
       "7    -1    7        a3        b1      0          0                  1.0   \n",
       "3    -1    3        a1        b1      0          0                  1.0   \n",
       "0    -1    0        a2        b3      1          1                  0.4   \n",
       "5    -1    5        a2        b4      0          0                  1.0   \n",
       "\n",
       "   pred_proba_match  conf  \n",
       "2               0.9   0.9  \n",
       "8               0.0  -1.0  \n",
       "4               0.0  -1.0  \n",
       "9               0.0  -1.0  \n",
       "1               0.5   0.5  \n",
       "6               0.0  -1.0  \n",
       "7               0.0  -1.0  \n",
       "3               0.0  -1.0  \n",
       "0               0.6  -1.0  \n",
       "5               0.0  -1.0  "
      ]
     },
     "execution_count": 70,
     "metadata": {},
     "output_type": "execute_result"
    },
    {
     "name": "stdout",
     "output_type": "stream",
     "text": [
      "time: 14.1 ms\n"
     ]
    }
   ],
   "source": [
    "pp1"
   ]
  }
 ],
 "metadata": {
  "anaconda-cloud": {},
  "kernelspec": {
   "display_name": "Python [Root]",
   "language": "python",
   "name": "Python [Root]"
  },
  "language_info": {
   "codemirror_mode": {
    "name": "ipython",
    "version": 3
   },
   "file_extension": ".py",
   "mimetype": "text/x-python",
   "name": "python",
   "nbconvert_exporter": "python",
   "pygments_lexer": "ipython3",
   "version": "3.5.2"
  }
 },
 "nbformat": 4,
 "nbformat_minor": 0
}
