{
 "cells": [
  {
   "cell_type": "code",
   "execution_count": 1,
   "metadata": {
    "collapsed": true
   },
   "outputs": [],
   "source": [
    "import sys\n",
    "# sys.path.append('/scratch/pradap/python-work/anhaidgroup/py_entitymatching/')\n",
    "sys.path.append('/Users/pradap/Documents/Research/Python-Package/anhaid/py_entitymatching/')"
   ]
  },
  {
   "cell_type": "code",
   "execution_count": 2,
   "metadata": {
    "collapsed": true
   },
   "outputs": [],
   "source": [
    "import py_entitymatching as em\n",
    "import pandas as pd"
   ]
  },
  {
   "cell_type": "code",
   "execution_count": 3,
   "metadata": {
    "collapsed": true
   },
   "outputs": [],
   "source": [
    "import mur_utils as mu"
   ]
  },
  {
   "cell_type": "code",
   "execution_count": 4,
   "metadata": {
    "collapsed": false
   },
   "outputs": [],
   "source": [
    "num_pos_diff_year = 0\n",
    "num_pos_same_year_swapped = 75\n",
    "num_pos_same_year_not_swapped = 75\n",
    "num_neg_samples = 300\n",
    "num_neg_samples_to_be_swapped = 100 #200"
   ]
  },
  {
   "cell_type": "code",
   "execution_count": 5,
   "metadata": {
    "collapsed": false
   },
   "outputs": [],
   "source": [
    "A2 = em.read_csv_metadata('ORIG_DBLP_ACM/dblp_mur_diff_year_sim_title_removed.csv', key='id', dtype=str)\n",
    "B4 = em.read_csv_metadata('ORIG_DBLP_ACM/acm_sim_title_rem_perturb_year.csv',  key='id', dtype=str)\n",
    "B2 = em.read_csv_metadata('ORIG_DBLP_ACM/acm_mur_diff_year_sim_title_removed.csv',  key='id', dtype=str)\n"
   ]
  },
  {
   "cell_type": "code",
   "execution_count": 6,
   "metadata": {
    "collapsed": true
   },
   "outputs": [],
   "source": [
    "gold = em.read_csv_metadata('ORIG_DBLP_ACM/goldWithLabel.csv', key='_id', fk_ltable='ltable_id', fk_rtable='rtable_id',\n",
    "                           ltable=A2, rtable=B4, dtype=str)"
   ]
  },
  {
   "cell_type": "code",
   "execution_count": 7,
   "metadata": {
    "collapsed": true
   },
   "outputs": [],
   "source": [
    "ab = em.AttrEquivalenceBlocker()\n",
    "C2 = ab.block_tables(A2, B4, 'year', 'year', ['title', 'authors', 'year'], ['title', 'authors', 'year'])"
   ]
  },
  {
   "cell_type": "code",
   "execution_count": 8,
   "metadata": {
    "collapsed": false
   },
   "outputs": [
    {
     "name": "stderr",
     "output_type": "stream",
     "text": [
      "0%                          100%\n",
      "[##############################] | ETA: 00:00:00\n",
      "Total time elapsed: 00:00:01\n"
     ]
    }
   ],
   "source": [
    "ob = em.OverlapBlocker()\n",
    "C3 = ob.block_tables(A2, B4, 'title', 'title', l_output_attrs=['title', 'authors', 'year'], r_output_attrs=['title', 'authors', 'year'])"
   ]
  },
  {
   "cell_type": "code",
   "execution_count": 9,
   "metadata": {
    "collapsed": true
   },
   "outputs": [],
   "source": [
    "C = em.combine_blocker_outputs_via_union([C2, C3])"
   ]
  },
  {
   "cell_type": "code",
   "execution_count": 10,
   "metadata": {
    "collapsed": false
   },
   "outputs": [
    {
     "name": "stdout",
     "output_type": "stream",
     "text": [
      "1575\n"
     ]
    }
   ],
   "source": [
    "count, tuple_ids = mu.get_num_positives_candset(C, gold)\n",
    "print(count)"
   ]
  },
  {
   "cell_type": "code",
   "execution_count": 11,
   "metadata": {
    "collapsed": false
   },
   "outputs": [
    {
     "data": {
      "text/plain": [
       "True"
      ]
     },
     "execution_count": 11,
     "metadata": {},
     "output_type": "execute_result"
    }
   ],
   "source": [
    "g = gold.set_index(['ltable_id', 'rtable_id'], drop=False)\n",
    "g1 = g.ix[tuple_ids]\n",
    "em.set_fk_ltable(g1, 'ltable_id')\n",
    "em.set_fk_rtable(g1, 'rtable_id')\n",
    "em.set_ltable(g1, A2)\n",
    "em.set_rtable(g1, B4)\n",
    "em.set_key(g1, '_id')"
   ]
  },
  {
   "cell_type": "code",
   "execution_count": 12,
   "metadata": {
    "collapsed": false
   },
   "outputs": [],
   "source": [
    "g1.reset_index(drop=True, inplace=True)\n",
    "g1 = em.add_output_attributes(g1, l_output_attrs=['year'], r_output_attrs=['year'])\n",
    "g1.head()\n",
    "g1.rename(columns={'rtable_year': 'rtable_year_perturbed'}, inplace=True)\n",
    "em.set_fk_ltable(g1, 'ltable_id')\n",
    "em.set_fk_rtable(g1, 'rtable_id')\n",
    "em.set_ltable(g1, A2)\n",
    "em.set_rtable(g1, B2)\n",
    "em.set_key(g1, '_id')\n",
    "g1 = em.add_output_attributes(g1, r_output_attrs=['year'])"
   ]
  },
  {
   "cell_type": "code",
   "execution_count": 13,
   "metadata": {
    "collapsed": false
   },
   "outputs": [
    {
     "data": {
      "text/plain": [
       "1396"
      ]
     },
     "execution_count": 13,
     "metadata": {},
     "output_type": "execute_result"
    }
   ],
   "source": [
    "g1_same_year = em.filter_rows(g1, 'ltable_year == rtable_year_perturbed')\n",
    "len(g1_same_year)"
   ]
  },
  {
   "cell_type": "code",
   "execution_count": 14,
   "metadata": {
    "collapsed": false
   },
   "outputs": [
    {
     "data": {
      "text/plain": [
       "179"
      ]
     },
     "execution_count": 14,
     "metadata": {},
     "output_type": "execute_result"
    }
   ],
   "source": [
    "g1_diff_year = em.filter_rows(g1, 'ltable_year != rtable_year_perturbed')\n",
    "len(g1_diff_year)"
   ]
  },
  {
   "cell_type": "code",
   "execution_count": 15,
   "metadata": {
    "collapsed": false
   },
   "outputs": [
    {
     "data": {
      "text/plain": [
       "(75, 75, 0)"
      ]
     },
     "execution_count": 15,
     "metadata": {},
     "output_type": "execute_result"
    }
   ],
   "source": [
    "g1_diff_year_sampled = em.sample_table(g1_diff_year, num_pos_diff_year)\n",
    "g1_same_year_splitted_2 = em.split_train_test(g1_same_year, train_proportion=0.5)\n",
    "g1_same_year_to_be_swapped_sample = em.sample_table(g1_same_year_splitted_2['train'], num_pos_same_year_swapped)\n",
    "g1_same_year_not_to_be_swapped_sample = em.sample_table(g1_same_year_splitted_2['test'], num_pos_same_year_not_swapped)\n",
    "len(g1_same_year_to_be_swapped_sample), len(g1_same_year_not_to_be_swapped_sample), len(g1_diff_year_sampled)"
   ]
  },
  {
   "cell_type": "code",
   "execution_count": 16,
   "metadata": {
    "collapsed": false
   },
   "outputs": [
    {
     "data": {
      "text/plain": [
       "75"
      ]
     },
     "execution_count": 16,
     "metadata": {},
     "output_type": "execute_result"
    }
   ],
   "source": [
    "len(g1_same_year_to_be_swapped_sample.ltable_id.values)"
   ]
  },
  {
   "cell_type": "code",
   "execution_count": 17,
   "metadata": {
    "collapsed": false
   },
   "outputs": [
    {
     "data": {
      "text/html": [
       "<div>\n",
       "<table border=\"1\" class=\"dataframe\">\n",
       "  <thead>\n",
       "    <tr style=\"text-align: right;\">\n",
       "      <th></th>\n",
       "      <th>id</th>\n",
       "      <th>title</th>\n",
       "      <th>authors</th>\n",
       "      <th>venue</th>\n",
       "      <th>year</th>\n",
       "    </tr>\n",
       "    <tr>\n",
       "      <th>id</th>\n",
       "      <th></th>\n",
       "      <th></th>\n",
       "      <th></th>\n",
       "      <th></th>\n",
       "      <th></th>\n",
       "    </tr>\n",
       "  </thead>\n",
       "  <tbody>\n",
       "    <tr>\n",
       "      <th>conf/sigmod/GionisGK01</th>\n",
       "      <td>conf/sigmod/GionisGK01</td>\n",
       "      <td>Dimitrios Gunopulos, Aristides Gionis, Nick Koudas</td>\n",
       "      <td>Efficient and Tunable Similar Set Retrieval</td>\n",
       "      <td>SIGMOD Conference</td>\n",
       "      <td>2001</td>\n",
       "    </tr>\n",
       "    <tr>\n",
       "      <th>conf/sigmod/Moore95</th>\n",
       "      <td>conf/sigmod/Moore95</td>\n",
       "      <td>Kenneth Moore</td>\n",
       "      <td>The Lotus Notes Storage System</td>\n",
       "      <td>SIGMOD Conference</td>\n",
       "      <td>1995</td>\n",
       "    </tr>\n",
       "    <tr>\n",
       "      <th>journals/sigmod/Kim94</th>\n",
       "      <td>journals/sigmod/Kim94</td>\n",
       "      <td>Won Kim</td>\n",
       "      <td>Observations on the ODMG-93 Proposal</td>\n",
       "      <td>SIGMOD Record</td>\n",
       "      <td>1994</td>\n",
       "    </tr>\n",
       "    <tr>\n",
       "      <th>conf/vldb/ZurekS99</th>\n",
       "      <td>conf/vldb/ZurekS99</td>\n",
       "      <td>Thomas Zurek, Markus Sinnwell</td>\n",
       "      <td>Datawarehousing Has More Colours Than Just Black &amp; White</td>\n",
       "      <td>VLDB</td>\n",
       "      <td>1999</td>\n",
       "    </tr>\n",
       "    <tr>\n",
       "      <th>journals/sigmod/Gardels97</th>\n",
       "      <td>journals/sigmod/Gardels97</td>\n",
       "      <td>Kenn Gardels</td>\n",
       "      <td>Open GIS and On-Line Environmental Libraries</td>\n",
       "      <td>SIGMOD Record</td>\n",
       "      <td>1997</td>\n",
       "    </tr>\n",
       "  </tbody>\n",
       "</table>\n",
       "</div>"
      ],
      "text/plain": [
       "                                                  id  \\\n",
       "id                                                     \n",
       "conf/sigmod/GionisGK01        conf/sigmod/GionisGK01   \n",
       "conf/sigmod/Moore95              conf/sigmod/Moore95   \n",
       "journals/sigmod/Kim94          journals/sigmod/Kim94   \n",
       "conf/vldb/ZurekS99                conf/vldb/ZurekS99   \n",
       "journals/sigmod/Gardels97  journals/sigmod/Gardels97   \n",
       "\n",
       "                                                                        title  \\\n",
       "id                                                                              \n",
       "conf/sigmod/GionisGK01     Dimitrios Gunopulos, Aristides Gionis, Nick Koudas   \n",
       "conf/sigmod/Moore95                                             Kenneth Moore   \n",
       "journals/sigmod/Kim94                                                 Won Kim   \n",
       "conf/vldb/ZurekS99                              Thomas Zurek, Markus Sinnwell   \n",
       "journals/sigmod/Gardels97                                        Kenn Gardels   \n",
       "\n",
       "                                                                            authors  \\\n",
       "id                                                                                    \n",
       "conf/sigmod/GionisGK01                  Efficient and Tunable Similar Set Retrieval   \n",
       "conf/sigmod/Moore95                                  The Lotus Notes Storage System   \n",
       "journals/sigmod/Kim94                          Observations on the ODMG-93 Proposal   \n",
       "conf/vldb/ZurekS99         Datawarehousing Has More Colours Than Just Black & White   \n",
       "journals/sigmod/Gardels97              Open GIS and On-Line Environmental Libraries   \n",
       "\n",
       "                                       venue  year  \n",
       "id                                                  \n",
       "conf/sigmod/GionisGK01     SIGMOD Conference  2001  \n",
       "conf/sigmod/Moore95        SIGMOD Conference  1995  \n",
       "journals/sigmod/Kim94          SIGMOD Record  1994  \n",
       "conf/vldb/ZurekS99                      VLDB  1999  \n",
       "journals/sigmod/Gardels97      SIGMOD Record  1997  "
      ]
     },
     "execution_count": 17,
     "metadata": {},
     "output_type": "execute_result"
    }
   ],
   "source": [
    "A3 = A2.set_index('id', drop=False)\n",
    "titles = A3.ix[g1_same_year_to_be_swapped_sample.ltable_id.values, 'title']\n",
    "authors = A3.ix[g1_same_year_to_be_swapped_sample.ltable_id.values, 'authors']\n",
    "A4 = A3.copy()\n",
    "A4.ix[g1_same_year_to_be_swapped_sample.ltable_id.values, 'authors'] = titles\n",
    "A4.ix[g1_same_year_to_be_swapped_sample.ltable_id.values, 'title'] = authors\n",
    "A4.ix[g1_same_year_to_be_swapped_sample.ltable_id.values].head()"
   ]
  },
  {
   "cell_type": "code",
   "execution_count": 18,
   "metadata": {
    "collapsed": true
   },
   "outputs": [],
   "source": [
    "em.set_key(A4, 'id')\n",
    "A4.reset_index(inplace=True, drop=True)"
   ]
  },
  {
   "cell_type": "code",
   "execution_count": 19,
   "metadata": {
    "collapsed": false
   },
   "outputs": [
    {
     "data": {
      "text/plain": [
       "True"
      ]
     },
     "execution_count": 19,
     "metadata": {},
     "output_type": "execute_result"
    }
   ],
   "source": [
    "em.to_csv_metadata(A4, 'ORIG_DBLP_ACM/dblp_sim_title_rem_title_auth_swapped.csv')"
   ]
  },
  {
   "cell_type": "code",
   "execution_count": 20,
   "metadata": {
    "collapsed": true
   },
   "outputs": [],
   "source": [
    "A5 = A4.set_index('id', drop=False)\n",
    "# l_output_attrs=['title', 'authors', 'year']"
   ]
  },
  {
   "cell_type": "code",
   "execution_count": 21,
   "metadata": {
    "collapsed": false
   },
   "outputs": [],
   "source": [
    "indices_not_swapped = set(A5.index.values).difference(g1_same_year_to_be_swapped_sample.ltable_id.values)"
   ]
  },
  {
   "cell_type": "code",
   "execution_count": 22,
   "metadata": {
    "collapsed": false
   },
   "outputs": [
    {
     "data": {
      "text/plain": [
       "1725"
      ]
     },
     "execution_count": 22,
     "metadata": {},
     "output_type": "execute_result"
    }
   ],
   "source": [
    "len(indices_not_swapped)"
   ]
  },
  {
   "cell_type": "code",
   "execution_count": 23,
   "metadata": {
    "collapsed": true
   },
   "outputs": [],
   "source": [
    "count, a_indices, b_indices = mu.get_num_positives_tables(A2, B4, gold)"
   ]
  },
  {
   "cell_type": "code",
   "execution_count": 24,
   "metadata": {
    "collapsed": false
   },
   "outputs": [
    {
     "data": {
      "text/plain": [
       "(1575, 1575, 1800)"
      ]
     },
     "execution_count": 24,
     "metadata": {},
     "output_type": "execute_result"
    }
   ],
   "source": [
    "count, len(a_indices), len(A2)"
   ]
  },
  {
   "cell_type": "code",
   "execution_count": 25,
   "metadata": {
    "collapsed": true
   },
   "outputs": [],
   "source": [
    "A6 = A5.ix[set(A5.index.values).difference(a_indices)]"
   ]
  },
  {
   "cell_type": "code",
   "execution_count": 26,
   "metadata": {
    "collapsed": false
   },
   "outputs": [],
   "source": [
    "A6.dropna(inplace=True)"
   ]
  },
  {
   "cell_type": "code",
   "execution_count": 27,
   "metadata": {
    "collapsed": true
   },
   "outputs": [],
   "source": [
    "B3 = B2.set_index('id', drop=False)"
   ]
  },
  {
   "cell_type": "code",
   "execution_count": 28,
   "metadata": {
    "collapsed": true
   },
   "outputs": [],
   "source": [
    "B4 = B3.ix[set(B3.index.values).difference(b_indices)]"
   ]
  },
  {
   "cell_type": "code",
   "execution_count": 29,
   "metadata": {
    "collapsed": false
   },
   "outputs": [],
   "source": [
    "B4.dropna(inplace=True)"
   ]
  },
  {
   "cell_type": "code",
   "execution_count": 30,
   "metadata": {
    "collapsed": false
   },
   "outputs": [
    {
     "data": {
      "text/plain": [
       "(234, 225)"
      ]
     },
     "execution_count": 30,
     "metadata": {},
     "output_type": "execute_result"
    }
   ],
   "source": [
    "len(B4), len(A6)"
   ]
  },
  {
   "cell_type": "code",
   "execution_count": 31,
   "metadata": {
    "collapsed": false
   },
   "outputs": [
    {
     "data": {
      "text/plain": [
       "True"
      ]
     },
     "execution_count": 31,
     "metadata": {},
     "output_type": "execute_result"
    }
   ],
   "source": [
    "em.set_key(B4, 'id')\n",
    "em.set_key(A6, 'id')"
   ]
  },
  {
   "cell_type": "code",
   "execution_count": 32,
   "metadata": {
    "collapsed": true
   },
   "outputs": [],
   "source": [
    "C5 = ab.block_tables(A6, B4, 'year', 'year', l_output_attrs=['title', 'authors', 'year'], \n",
    "                     r_output_attrs=['title', 'authors', 'year'])"
   ]
  },
  {
   "cell_type": "code",
   "execution_count": 33,
   "metadata": {
    "collapsed": false
   },
   "outputs": [
    {
     "data": {
      "text/plain": [
       "5165"
      ]
     },
     "execution_count": 33,
     "metadata": {},
     "output_type": "execute_result"
    }
   ],
   "source": [
    "len(C5)"
   ]
  },
  {
   "cell_type": "code",
   "execution_count": 34,
   "metadata": {
    "collapsed": true
   },
   "outputs": [],
   "source": [
    "C6 = em.sample_table(C5, num_neg_samples)\n",
    "d1 = C6"
   ]
  },
  {
   "cell_type": "code",
   "execution_count": 35,
   "metadata": {
    "collapsed": false
   },
   "outputs": [],
   "source": [
    "neg_samples_in_A_to_be_swapped = list(pd.unique(C6['ltable_id'].values))"
   ]
  },
  {
   "cell_type": "code",
   "execution_count": 36,
   "metadata": {
    "collapsed": false
   },
   "outputs": [],
   "source": [
    "import numpy as np\n",
    "neg_samples_in_A_to_be_swapped_sample = np.random.choice(neg_samples_in_A_to_be_swapped, \n",
    "                                                         num_neg_samples_to_be_swapped)\n"
   ]
  },
  {
   "cell_type": "code",
   "execution_count": 37,
   "metadata": {
    "collapsed": false
   },
   "outputs": [
    {
     "data": {
      "text/plain": [
       "100"
      ]
     },
     "execution_count": 37,
     "metadata": {},
     "output_type": "execute_result"
    }
   ],
   "source": [
    "len(neg_samples_in_A_to_be_swapped_sample)"
   ]
  },
  {
   "cell_type": "code",
   "execution_count": 38,
   "metadata": {
    "collapsed": false
   },
   "outputs": [
    {
     "data": {
      "text/html": [
       "<div>\n",
       "<table border=\"1\" class=\"dataframe\">\n",
       "  <thead>\n",
       "    <tr style=\"text-align: right;\">\n",
       "      <th></th>\n",
       "      <th>id</th>\n",
       "      <th>title</th>\n",
       "      <th>authors</th>\n",
       "      <th>venue</th>\n",
       "      <th>year</th>\n",
       "    </tr>\n",
       "    <tr>\n",
       "      <th>id</th>\n",
       "      <th></th>\n",
       "      <th></th>\n",
       "      <th></th>\n",
       "      <th></th>\n",
       "      <th></th>\n",
       "    </tr>\n",
       "  </thead>\n",
       "  <tbody>\n",
       "    <tr>\n",
       "      <th>conf/sigmod/Aulakh98</th>\n",
       "      <td>conf/sigmod/Aulakh98</td>\n",
       "      <td>Kamar Aulakh</td>\n",
       "      <td>About Quark Digital Media System</td>\n",
       "      <td>SIGMOD Conference</td>\n",
       "      <td>1998</td>\n",
       "    </tr>\n",
       "    <tr>\n",
       "      <th>conf/vldb/BaulierBGJGKKMMNNRSS98</th>\n",
       "      <td>conf/vldb/BaulierBGJGKKMMNNRSS98</td>\n",
       "      <td>P. P. S. Narayan, S. Joshi, M. Nemeth, Abraham Silberschatz, Henry F. Korth, A. Khivesera, Jerry...</td>\n",
       "      <td>DataBlitz: A High Performance Main-Memory Storage Manager</td>\n",
       "      <td>VLDB</td>\n",
       "      <td>1998</td>\n",
       "    </tr>\n",
       "    <tr>\n",
       "      <th>conf/sigmod/Aggarwal03</th>\n",
       "      <td>conf/sigmod/Aggarwal03</td>\n",
       "      <td>Charu C. Aggarwal</td>\n",
       "      <td>A Framework for Change Diagnosis of Data Streams</td>\n",
       "      <td>SIGMOD Conference</td>\n",
       "      <td>2003</td>\n",
       "    </tr>\n",
       "    <tr>\n",
       "      <th>conf/sigmod/GangulyGR03</th>\n",
       "      <td>conf/sigmod/GangulyGR03</td>\n",
       "      <td>Sumit Ganguly, Minos N. Garofalakis, Rajeev Rastogi</td>\n",
       "      <td>Processing Set Expressions over Continuous Update Streams</td>\n",
       "      <td>SIGMOD Conference</td>\n",
       "      <td>2003</td>\n",
       "    </tr>\n",
       "    <tr>\n",
       "      <th>journals/tods/WangBBJ97</th>\n",
       "      <td>journals/tods/WangBBJ97</td>\n",
       "      <td>Alexander Brodsky, Sushil Jajodia, Claudio Bettini, Xiaoyang Sean Wang</td>\n",
       "      <td>Logical Design for Temporal Databases with Multiple Granularities</td>\n",
       "      <td>ACM Trans. Database Syst.</td>\n",
       "      <td>1997</td>\n",
       "    </tr>\n",
       "  </tbody>\n",
       "</table>\n",
       "</div>"
      ],
      "text/plain": [
       "                                                                id  \\\n",
       "id                                                                   \n",
       "conf/sigmod/Aulakh98                          conf/sigmod/Aulakh98   \n",
       "conf/vldb/BaulierBGJGKKMMNNRSS98  conf/vldb/BaulierBGJGKKMMNNRSS98   \n",
       "conf/sigmod/Aggarwal03                      conf/sigmod/Aggarwal03   \n",
       "conf/sigmod/GangulyGR03                    conf/sigmod/GangulyGR03   \n",
       "journals/tods/WangBBJ97                    journals/tods/WangBBJ97   \n",
       "\n",
       "                                                                                                                                title  \\\n",
       "id                                                                                                                                      \n",
       "conf/sigmod/Aulakh98                                                                                                     Kamar Aulakh   \n",
       "conf/vldb/BaulierBGJGKKMMNNRSS98  P. P. S. Narayan, S. Joshi, M. Nemeth, Abraham Silberschatz, Henry F. Korth, A. Khivesera, Jerry...   \n",
       "conf/sigmod/Aggarwal03                                                                                              Charu C. Aggarwal   \n",
       "conf/sigmod/GangulyGR03                                                           Sumit Ganguly, Minos N. Garofalakis, Rajeev Rastogi   \n",
       "journals/tods/WangBBJ97                                        Alexander Brodsky, Sushil Jajodia, Claudio Bettini, Xiaoyang Sean Wang   \n",
       "\n",
       "                                                                                            authors  \\\n",
       "id                                                                                                    \n",
       "conf/sigmod/Aulakh98                                               About Quark Digital Media System   \n",
       "conf/vldb/BaulierBGJGKKMMNNRSS98          DataBlitz: A High Performance Main-Memory Storage Manager   \n",
       "conf/sigmod/Aggarwal03                             A Framework for Change Diagnosis of Data Streams   \n",
       "conf/sigmod/GangulyGR03                   Processing Set Expressions over Continuous Update Streams   \n",
       "journals/tods/WangBBJ97           Logical Design for Temporal Databases with Multiple Granularities   \n",
       "\n",
       "                                                      venue  year  \n",
       "id                                                                 \n",
       "conf/sigmod/Aulakh98                      SIGMOD Conference  1998  \n",
       "conf/vldb/BaulierBGJGKKMMNNRSS98                       VLDB  1998  \n",
       "conf/sigmod/Aggarwal03                    SIGMOD Conference  2003  \n",
       "conf/sigmod/GangulyGR03                   SIGMOD Conference  2003  \n",
       "journals/tods/WangBBJ97           ACM Trans. Database Syst.  1997  "
      ]
     },
     "execution_count": 38,
     "metadata": {},
     "output_type": "execute_result"
    }
   ],
   "source": [
    "titles = A6.ix[neg_samples_in_A_to_be_swapped_sample, 'title']\n",
    "authors = A6.ix[neg_samples_in_A_to_be_swapped_sample, 'authors']\n",
    "A7 = A6.copy()\n",
    "A7.ix[neg_samples_in_A_to_be_swapped_sample, 'authors'] = titles\n",
    "A7.ix[neg_samples_in_A_to_be_swapped_sample, 'title'] = authors\n",
    "A7.ix[neg_samples_in_A_to_be_swapped_sample].head()"
   ]
  },
  {
   "cell_type": "code",
   "execution_count": 39,
   "metadata": {
    "collapsed": true
   },
   "outputs": [],
   "source": [
    "em.set_key(A7, 'id')\n",
    "A7.reset_index(inplace=True, drop=True)"
   ]
  },
  {
   "cell_type": "code",
   "execution_count": 40,
   "metadata": {
    "collapsed": false
   },
   "outputs": [
    {
     "data": {
      "text/plain": [
       "True"
      ]
     },
     "execution_count": 40,
     "metadata": {},
     "output_type": "execute_result"
    }
   ],
   "source": [
    "em.to_csv_metadata(A4, 'ORIG_DBLP_ACM/dblp_sim_title_rem_title_auth_swapped_for_neg_samples_too.csv')"
   ]
  },
  {
   "cell_type": "code",
   "execution_count": 41,
   "metadata": {
    "collapsed": false
   },
   "outputs": [
    {
     "data": {
      "text/plain": [
       "300"
      ]
     },
     "execution_count": 41,
     "metadata": {},
     "output_type": "execute_result"
    }
   ],
   "source": [
    "len(d1)"
   ]
  },
  {
   "cell_type": "code",
   "execution_count": 42,
   "metadata": {
    "collapsed": true
   },
   "outputs": [],
   "source": [
    "d2 = d1[['_id', 'ltable_id', 'rtable_id']]"
   ]
  },
  {
   "cell_type": "code",
   "execution_count": 43,
   "metadata": {
    "collapsed": false
   },
   "outputs": [
    {
     "data": {
      "text/plain": [
       "(0, 75, 75, 300)"
      ]
     },
     "execution_count": 43,
     "metadata": {},
     "output_type": "execute_result"
    }
   ],
   "source": [
    "len(g1_diff_year_sampled), len(g1_same_year_not_to_be_swapped_sample), len(g1_same_year_to_be_swapped_sample), len(d2)"
   ]
  },
  {
   "cell_type": "code",
   "execution_count": 44,
   "metadata": {
    "collapsed": true
   },
   "outputs": [],
   "source": [
    "g1_diff_year_sampled_prj = g1_diff_year_sampled[['_id', 'ltable_id', 'rtable_id', 'label']]\n",
    "g1_same_year_not_to_be_swapped_sample = g1_same_year_not_to_be_swapped_sample[['_id', 'ltable_id', 'rtable_id', 'label']]\n",
    "g1_same_year_to_be_swapped_sample = g1_same_year_to_be_swapped_sample[['_id', 'ltable_id', 'rtable_id', 'label']]"
   ]
  },
  {
   "cell_type": "code",
   "execution_count": 45,
   "metadata": {
    "collapsed": false
   },
   "outputs": [
    {
     "data": {
      "text/html": [
       "<div>\n",
       "<table border=\"1\" class=\"dataframe\">\n",
       "  <thead>\n",
       "    <tr style=\"text-align: right;\">\n",
       "      <th></th>\n",
       "      <th>_id</th>\n",
       "      <th>ltable_id</th>\n",
       "      <th>rtable_id</th>\n",
       "      <th>ltable_title</th>\n",
       "      <th>ltable_authors</th>\n",
       "      <th>ltable_year</th>\n",
       "      <th>rtable_title</th>\n",
       "      <th>rtable_authors</th>\n",
       "      <th>rtable_year</th>\n",
       "    </tr>\n",
       "  </thead>\n",
       "  <tbody>\n",
       "    <tr>\n",
       "      <th>14</th>\n",
       "      <td>14</td>\n",
       "      <td>conf/vldb/MillerHH00</td>\n",
       "      <td>336573</td>\n",
       "      <td>Schema Mapping as Query Discovery</td>\n",
       "      <td>Rene J. Miller, Mauricio A. Hernndez, Laura M. Haas</td>\n",
       "      <td>2000</td>\n",
       "      <td>Image mining in IRIS: integrated retinal information system</td>\n",
       "      <td>Wynne Hsu, Mong Li Lee, Kheng Guan Goh</td>\n",
       "      <td>2000</td>\n",
       "    </tr>\n",
       "    <tr>\n",
       "      <th>59</th>\n",
       "      <td>59</td>\n",
       "      <td>conf/sigmod/Hellerstein00</td>\n",
       "      <td>672006</td>\n",
       "      <td>Index Research: Forest or Trees? (Panel Abstract)</td>\n",
       "      <td>Joseph M. Hellerstein</td>\n",
       "      <td>2000</td>\n",
       "      <td>Temporal Queries in OLAP</td>\n",
       "      <td>Alberto O. Mendelzon, Alejandro A. Vaisman</td>\n",
       "      <td>2000</td>\n",
       "    </tr>\n",
       "    <tr>\n",
       "      <th>127</th>\n",
       "      <td>127</td>\n",
       "      <td>journals/sigmod/LabrinidisR00</td>\n",
       "      <td>362137</td>\n",
       "      <td>Generating Dynamic Content at Database-Backed Web Servers: cgi-bin vs. mod_perl</td>\n",
       "      <td>Alexandros Labrinidis, Nick Roussopoulos</td>\n",
       "      <td>2000</td>\n",
       "      <td>The implementation and performance of compressed databases</td>\n",
       "      <td>Till Westmann, Donald Kossmann, Sven Helmer, Guido Moerkotte</td>\n",
       "      <td>2000</td>\n",
       "    </tr>\n",
       "    <tr>\n",
       "      <th>131</th>\n",
       "      <td>131</td>\n",
       "      <td>journals/sigmod/LabrinidisR00</td>\n",
       "      <td>335395</td>\n",
       "      <td>Generating Dynamic Content at Database-Backed Web Servers: cgi-bin vs. mod_perl</td>\n",
       "      <td>Alexandros Labrinidis, Nick Roussopoulos</td>\n",
       "      <td>2000</td>\n",
       "      <td>On wrapping query languages and efficient XML integration</td>\n",
       "      <td>Vassilis Christophides, Sophie Cluet, Jérǒme Simèon</td>\n",
       "      <td>2000</td>\n",
       "    </tr>\n",
       "    <tr>\n",
       "      <th>133</th>\n",
       "      <td>133</td>\n",
       "      <td>journals/sigmod/LabrinidisR00</td>\n",
       "      <td>672019</td>\n",
       "      <td>Generating Dynamic Content at Database-Backed Web Servers: cgi-bin vs. mod_perl</td>\n",
       "      <td>Alexandros Labrinidis, Nick Roussopoulos</td>\n",
       "      <td>2000</td>\n",
       "      <td>Novel Approaches in Query Processing for Moving Object Trajectories</td>\n",
       "      <td>Dieter Pfoser, Christian S. Jensen, Yannis Theodoridis</td>\n",
       "      <td>2000</td>\n",
       "    </tr>\n",
       "    <tr>\n",
       "      <th>136</th>\n",
       "      <td>136</td>\n",
       "      <td>journals/sigmod/LabrinidisR00</td>\n",
       "      <td>765224</td>\n",
       "      <td>Generating Dynamic Content at Database-Backed Web Servers: cgi-bin vs. mod_perl</td>\n",
       "      <td>Alexandros Labrinidis, Nick Roussopoulos</td>\n",
       "      <td>2000</td>\n",
       "      <td>UnQL: a query language and algebra for semistructured data based on structural recursion</td>\n",
       "      <td>Peter Buneman, Mary Fernandez, Dan Suciu</td>\n",
       "      <td>2000</td>\n",
       "    </tr>\n",
       "    <tr>\n",
       "      <th>166</th>\n",
       "      <td>166</td>\n",
       "      <td>conf/sigmod/RoySSB00</td>\n",
       "      <td>765224</td>\n",
       "      <td>Efficient and Extensible Algorithms for Multi Query Optimization</td>\n",
       "      <td>S. Sudarshan, Siddhesh Bhobe, S. Seshadri, Prasan Roy</td>\n",
       "      <td>2000</td>\n",
       "      <td>UnQL: a query language and algebra for semistructured data based on structural recursion</td>\n",
       "      <td>Peter Buneman, Mary Fernandez, Dan Suciu</td>\n",
       "      <td>2000</td>\n",
       "    </tr>\n",
       "    <tr>\n",
       "      <th>179</th>\n",
       "      <td>179</td>\n",
       "      <td>conf/sigmod/RoySSB00</td>\n",
       "      <td>672006</td>\n",
       "      <td>Efficient and Extensible Algorithms for Multi Query Optimization</td>\n",
       "      <td>S. Sudarshan, Siddhesh Bhobe, S. Seshadri, Prasan Roy</td>\n",
       "      <td>2000</td>\n",
       "      <td>Temporal Queries in OLAP</td>\n",
       "      <td>Alberto O. Mendelzon, Alejandro A. Vaisman</td>\n",
       "      <td>2000</td>\n",
       "    </tr>\n",
       "    <tr>\n",
       "      <th>197</th>\n",
       "      <td>197</td>\n",
       "      <td>conf/vldb/CasatiS00</td>\n",
       "      <td>335437</td>\n",
       "      <td>Process Automation as the Foundation for E-Business</td>\n",
       "      <td>Fabio Casati, Ming-Chien Shan</td>\n",
       "      <td>2000</td>\n",
       "      <td>Efficient algorithms for mining outliers from large data sets</td>\n",
       "      <td>Sridhar Ramaswamy, Rajeev Rastogi, Kyuseok Shim</td>\n",
       "      <td>2000</td>\n",
       "    </tr>\n",
       "    <tr>\n",
       "      <th>200</th>\n",
       "      <td>200</td>\n",
       "      <td>conf/vldb/CasatiS00</td>\n",
       "      <td>758379</td>\n",
       "      <td>Process Automation as the Foundation for E-Business</td>\n",
       "      <td>Fabio Casati, Ming-Chien Shan</td>\n",
       "      <td>2000</td>\n",
       "      <td>Building and Customizing Data-Intensive Web Sites Using Weave</td>\n",
       "      <td>Khaled Yagoub, Daniela Florescu, Valérie Issarny, Patrick Valduriez</td>\n",
       "      <td>2000</td>\n",
       "    </tr>\n",
       "    <tr>\n",
       "      <th>218</th>\n",
       "      <td>218</td>\n",
       "      <td>conf/sigmod/LabioWGG00</td>\n",
       "      <td>335457</td>\n",
       "      <td>Efficient Resumption of Interrupted Warehouse Loads</td>\n",
       "      <td>Hector Garcia-Molina, Vlad Gorelik, Wilburt Labio, Janet L. Wiener</td>\n",
       "      <td>2000</td>\n",
       "      <td>Expressing business rules</td>\n",
       "      <td>Ronald G. Ross</td>\n",
       "      <td>2000</td>\n",
       "    </tr>\n",
       "    <tr>\n",
       "      <th>227</th>\n",
       "      <td>227</td>\n",
       "      <td>conf/sigmod/LabioWGG00</td>\n",
       "      <td>335437</td>\n",
       "      <td>Efficient Resumption of Interrupted Warehouse Loads</td>\n",
       "      <td>Hector Garcia-Molina, Vlad Gorelik, Wilburt Labio, Janet L. Wiener</td>\n",
       "      <td>2000</td>\n",
       "      <td>Efficient algorithms for mining outliers from large data sets</td>\n",
       "      <td>Sridhar Ramaswamy, Rajeev Rastogi, Kyuseok Shim</td>\n",
       "      <td>2000</td>\n",
       "    </tr>\n",
       "    <tr>\n",
       "      <th>252</th>\n",
       "      <td>252</td>\n",
       "      <td>journals/sigmod/KantM00</td>\n",
       "      <td>335409</td>\n",
       "      <td>Workshop on Performance and Architecture of Web Servers (PAWS-2000, held in conjection with SIGM...</td>\n",
       "      <td>Krishna Kant, Prasant Mohapatra</td>\n",
       "      <td>2000</td>\n",
       "      <td>XTRACT: a system for extracting document type descriptors from XML documents</td>\n",
       "      <td>Minos Garofalakis, Aristides Gionis, Rajeev Rastogi, S. Seshadri, Kyuseok Shim</td>\n",
       "      <td>2000</td>\n",
       "    </tr>\n",
       "    <tr>\n",
       "      <th>259</th>\n",
       "      <td>259</td>\n",
       "      <td>journals/sigmod/KantM00</td>\n",
       "      <td>758377</td>\n",
       "      <td>Workshop on Performance and Architecture of Web Servers (PAWS-2000, held in conjection with SIGM...</td>\n",
       "      <td>Krishna Kant, Prasant Mohapatra</td>\n",
       "      <td>2000</td>\n",
       "      <td>Efficient Numerical Error Bounding for Replicated Network Services</td>\n",
       "      <td>Haifeng Yu, Amin Vahdat</td>\n",
       "      <td>2000</td>\n",
       "    </tr>\n",
       "    <tr>\n",
       "      <th>261</th>\n",
       "      <td>261</td>\n",
       "      <td>journals/sigmod/KantM00</td>\n",
       "      <td>671864</td>\n",
       "      <td>Workshop on Performance and Architecture of Web Servers (PAWS-2000, held in conjection with SIGM...</td>\n",
       "      <td>Krishna Kant, Prasant Mohapatra</td>\n",
       "      <td>2000</td>\n",
       "      <td>Model-Based Information Integration in a Neuroscience Mediator System</td>\n",
       "      <td>Bertram Ludäscher, Amarnath Gupta, Maryann E. Martone</td>\n",
       "      <td>2000</td>\n",
       "    </tr>\n",
       "    <tr>\n",
       "      <th>332</th>\n",
       "      <td>332</td>\n",
       "      <td>conf/vldb/ChangG00</td>\n",
       "      <td>335388</td>\n",
       "      <td>Approximate Query Translation Across Heterogeneous Information Sources</td>\n",
       "      <td>Hector Garcia-Molina, Kevin Chen-Chuan Chang</td>\n",
       "      <td>2000</td>\n",
       "      <td>LOF: identifying density-based local outliers</td>\n",
       "      <td>Markus M. Breunig, Hans-Peter Kriegel, Raymond T. Ng, Jörg Sander</td>\n",
       "      <td>2000</td>\n",
       "    </tr>\n",
       "    <tr>\n",
       "      <th>335</th>\n",
       "      <td>335</td>\n",
       "      <td>conf/vldb/ChangG00</td>\n",
       "      <td>671683</td>\n",
       "      <td>Approximate Query Translation Across Heterogeneous Information Sources</td>\n",
       "      <td>Hector Garcia-Molina, Kevin Chen-Chuan Chang</td>\n",
       "      <td>2000</td>\n",
       "      <td>A Database Platform for Bioinformatics</td>\n",
       "      <td>Sandeepan Banerjee</td>\n",
       "      <td>2000</td>\n",
       "    </tr>\n",
       "    <tr>\n",
       "      <th>341</th>\n",
       "      <td>341</td>\n",
       "      <td>conf/vldb/ChangG00</td>\n",
       "      <td>335395</td>\n",
       "      <td>Approximate Query Translation Across Heterogeneous Information Sources</td>\n",
       "      <td>Hector Garcia-Molina, Kevin Chen-Chuan Chang</td>\n",
       "      <td>2000</td>\n",
       "      <td>On wrapping query languages and efficient XML integration</td>\n",
       "      <td>Vassilis Christophides, Sophie Cluet, Jérǒme Simèon</td>\n",
       "      <td>2000</td>\n",
       "    </tr>\n",
       "    <tr>\n",
       "      <th>358</th>\n",
       "      <td>358</td>\n",
       "      <td>conf/vldb/ChangG00</td>\n",
       "      <td>336590</td>\n",
       "      <td>Approximate Query Translation Across Heterogeneous Information Sources</td>\n",
       "      <td>Hector Garcia-Molina, Kevin Chen-Chuan Chang</td>\n",
       "      <td>2000</td>\n",
       "      <td>The MLPQ/GIS constraint database system</td>\n",
       "      <td>Peter Revesz, Rui Chen, Pradip Kanjamala, Yiming Li, Yuguo Liu, Yonghui Wang</td>\n",
       "      <td>2000</td>\n",
       "    </tr>\n",
       "    <tr>\n",
       "      <th>364</th>\n",
       "      <td>364</td>\n",
       "      <td>conf/vldb/JiangSLB00</td>\n",
       "      <td>335438</td>\n",
       "      <td>The BT-tree: A Branched and Temporal Access Method</td>\n",
       "      <td>David B. Lomet, Betty Salzberg, Linan Jiang, Manuel Barrena Garca</td>\n",
       "      <td>2000</td>\n",
       "      <td>Privacy-preserving data mining</td>\n",
       "      <td>Rakesh Agrawal, Ramakrishnan Srikant</td>\n",
       "      <td>2000</td>\n",
       "    </tr>\n",
       "    <tr>\n",
       "      <th>424</th>\n",
       "      <td>424</td>\n",
       "      <td>journals/sigmod/LiefkeS00</td>\n",
       "      <td>335438</td>\n",
       "      <td>An Extensible Compressor for XML Data</td>\n",
       "      <td>Dan Suciu, Hartmut Liefke</td>\n",
       "      <td>2000</td>\n",
       "      <td>Privacy-preserving data mining</td>\n",
       "      <td>Rakesh Agrawal, Ramakrishnan Srikant</td>\n",
       "      <td>2000</td>\n",
       "    </tr>\n",
       "    <tr>\n",
       "      <th>427</th>\n",
       "      <td>427</td>\n",
       "      <td>journals/sigmod/LiefkeS00</td>\n",
       "      <td>362137</td>\n",
       "      <td>An Extensible Compressor for XML Data</td>\n",
       "      <td>Dan Suciu, Hartmut Liefke</td>\n",
       "      <td>2000</td>\n",
       "      <td>The implementation and performance of compressed databases</td>\n",
       "      <td>Till Westmann, Donald Kossmann, Sven Helmer, Guido Moerkotte</td>\n",
       "      <td>2000</td>\n",
       "    </tr>\n",
       "    <tr>\n",
       "      <th>432</th>\n",
       "      <td>432</td>\n",
       "      <td>journals/sigmod/LiefkeS00</td>\n",
       "      <td>335409</td>\n",
       "      <td>An Extensible Compressor for XML Data</td>\n",
       "      <td>Dan Suciu, Hartmut Liefke</td>\n",
       "      <td>2000</td>\n",
       "      <td>XTRACT: a system for extracting document type descriptors from XML documents</td>\n",
       "      <td>Minos Garofalakis, Aristides Gionis, Rajeev Rastogi, S. Seshadri, Kyuseok Shim</td>\n",
       "      <td>2000</td>\n",
       "    </tr>\n",
       "    <tr>\n",
       "      <th>447</th>\n",
       "      <td>447</td>\n",
       "      <td>journals/sigmod/LiefkeS00</td>\n",
       "      <td>335416</td>\n",
       "      <td>An Extensible Compressor for XML Data</td>\n",
       "      <td>Dan Suciu, Hartmut Liefke</td>\n",
       "      <td>2000</td>\n",
       "      <td>Towards self-tuning data placement in parallel database systems</td>\n",
       "      <td>Mong Li Lee, Masaru Kitsuregawa, Beng Chin Ooi, Kian-Lee Tan, Anirban Mondal</td>\n",
       "      <td>2000</td>\n",
       "    </tr>\n",
       "    <tr>\n",
       "      <th>463</th>\n",
       "      <td>463</td>\n",
       "      <td>conf/sigmod/BerckenDS00</td>\n",
       "      <td>672019</td>\n",
       "      <td>javax.XXL: A prototype for a Library of Query processing Algorithms</td>\n",
       "      <td>Bernhard Seeger, Jens-Peter Dittrich, Jochen Van den Bercken</td>\n",
       "      <td>2000</td>\n",
       "      <td>Novel Approaches in Query Processing for Moving Object Trajectories</td>\n",
       "      <td>Dieter Pfoser, Christian S. Jensen, Yannis Theodoridis</td>\n",
       "      <td>2000</td>\n",
       "    </tr>\n",
       "    <tr>\n",
       "      <th>478</th>\n",
       "      <td>478</td>\n",
       "      <td>conf/sigmod/BerckenDS00</td>\n",
       "      <td>336590</td>\n",
       "      <td>javax.XXL: A prototype for a Library of Query processing Algorithms</td>\n",
       "      <td>Bernhard Seeger, Jens-Peter Dittrich, Jochen Van den Bercken</td>\n",
       "      <td>2000</td>\n",
       "      <td>The MLPQ/GIS constraint database system</td>\n",
       "      <td>Peter Revesz, Rui Chen, Pradip Kanjamala, Yiming Li, Yuguo Liu, Yonghui Wang</td>\n",
       "      <td>2000</td>\n",
       "    </tr>\n",
       "    <tr>\n",
       "      <th>482</th>\n",
       "      <td>482</td>\n",
       "      <td>journals/vldb/ClaussenKKW00</td>\n",
       "      <td>335388</td>\n",
       "      <td>Exploiting early sorting and early partitioning for decisionsupport query processing</td>\n",
       "      <td>Jens Clauen, Christian Wiesner, Donald Kossmann, Alfons Kemper</td>\n",
       "      <td>2000</td>\n",
       "      <td>LOF: identifying density-based local outliers</td>\n",
       "      <td>Markus M. Breunig, Hans-Peter Kriegel, Raymond T. Ng, Jörg Sander</td>\n",
       "      <td>2000</td>\n",
       "    </tr>\n",
       "    <tr>\n",
       "      <th>490</th>\n",
       "      <td>490</td>\n",
       "      <td>journals/vldb/ClaussenKKW00</td>\n",
       "      <td>335439</td>\n",
       "      <td>Exploiting early sorting and early partitioning for decisionsupport query processing</td>\n",
       "      <td>Jens Clauen, Christian Wiesner, Donald Kossmann, Alfons Kemper</td>\n",
       "      <td>2000</td>\n",
       "      <td>Designing and mining multi-terabyte astronomy archives: the Sloan Digital Sky Survey</td>\n",
       "      <td>Alexander S. Szalay, Peter Z. Kunszt, Ani Thakar, Jim Gray, Don Slutz, Robert J. Brunner</td>\n",
       "      <td>2000</td>\n",
       "    </tr>\n",
       "    <tr>\n",
       "      <th>496</th>\n",
       "      <td>496</td>\n",
       "      <td>journals/vldb/ClaussenKKW00</td>\n",
       "      <td>765224</td>\n",
       "      <td>Exploiting early sorting and early partitioning for decisionsupport query processing</td>\n",
       "      <td>Jens Clauen, Christian Wiesner, Donald Kossmann, Alfons Kemper</td>\n",
       "      <td>2000</td>\n",
       "      <td>UnQL: a query language and algebra for semistructured data based on structural recursion</td>\n",
       "      <td>Peter Buneman, Mary Fernandez, Dan Suciu</td>\n",
       "      <td>2000</td>\n",
       "    </tr>\n",
       "    <tr>\n",
       "      <th>503</th>\n",
       "      <td>503</td>\n",
       "      <td>journals/vldb/ClaussenKKW00</td>\n",
       "      <td>363955</td>\n",
       "      <td>Exploiting early sorting and early partitioning for decisionsupport query processing</td>\n",
       "      <td>Jens Clauen, Christian Wiesner, Donald Kossmann, Alfons Kemper</td>\n",
       "      <td>2000</td>\n",
       "      <td>A new approach to developing and implementing eager database replication protocols</td>\n",
       "      <td>Bettina Kemme, Gustavo Alonso</td>\n",
       "      <td>2000</td>\n",
       "    </tr>\n",
       "    <tr>\n",
       "      <th>...</th>\n",
       "      <td>...</td>\n",
       "      <td>...</td>\n",
       "      <td>...</td>\n",
       "      <td>...</td>\n",
       "      <td>...</td>\n",
       "      <td>...</td>\n",
       "      <td>...</td>\n",
       "      <td>...</td>\n",
       "      <td>...</td>\n",
       "    </tr>\n",
       "    <tr>\n",
       "      <th>4525</th>\n",
       "      <td>4525</td>\n",
       "      <td>journals/vldb/TenienteO95</td>\n",
       "      <td>615234</td>\n",
       "      <td>Updating Knowledge Bases While Maintaining Their Consistency</td>\n",
       "      <td>Antoni Oliv, Ernest Teniente</td>\n",
       "      <td>1995</td>\n",
       "      <td>The power of languages for the manipulation of complex values</td>\n",
       "      <td>Serge Abiteboul, Catriel Beeri</td>\n",
       "      <td>1995</td>\n",
       "    </tr>\n",
       "    <tr>\n",
       "      <th>4585</th>\n",
       "      <td>4585</td>\n",
       "      <td>conf/sigmod/Team95b</td>\n",
       "      <td>223788</td>\n",
       "      <td>SHORE: Combining the Best Features of OODBMS and File Systems</td>\n",
       "      <td>Shore Team</td>\n",
       "      <td>1995</td>\n",
       "      <td>The LyriC language: querying constraint objects</td>\n",
       "      <td>Alexander Brodsky, Yoram Kornatzky</td>\n",
       "      <td>1995</td>\n",
       "    </tr>\n",
       "    <tr>\n",
       "      <th>4639</th>\n",
       "      <td>4639</td>\n",
       "      <td>conf/vldb/SatheS01</td>\n",
       "      <td>672191</td>\n",
       "      <td>Intelligent Rollups in Multidimensional OLAP Data</td>\n",
       "      <td>Sunita Sarawagi, Gayatri Sathe</td>\n",
       "      <td>2001</td>\n",
       "      <td>Generic Schema Matching with Cupid</td>\n",
       "      <td>Jayant Madhavan, Philip A. Bernstein, Erhard Rahm</td>\n",
       "      <td>2001</td>\n",
       "    </tr>\n",
       "    <tr>\n",
       "      <th>4644</th>\n",
       "      <td>4644</td>\n",
       "      <td>conf/vldb/SatheS01</td>\n",
       "      <td>672023</td>\n",
       "      <td>Intelligent Rollups in Multidimensional OLAP Data</td>\n",
       "      <td>Sunita Sarawagi, Gayatri Sathe</td>\n",
       "      <td>2001</td>\n",
       "      <td>AgFlow: Agent-based Cross-Enterprise Workflow Management System</td>\n",
       "      <td>Liangzhao Zeng, Boualem Benatallah, Phuong Nguyen, Anne H. H. Ngu</td>\n",
       "      <td>2001</td>\n",
       "    </tr>\n",
       "    <tr>\n",
       "      <th>4659</th>\n",
       "      <td>4659</td>\n",
       "      <td>journals/vldb/ShegalovGW01</td>\n",
       "      <td>672191</td>\n",
       "      <td>XML-enabled workflow management for e-services across heterogeneous platforms</td>\n",
       "      <td>Michael Gillmann, German Shegalov, Gerhard Weikum</td>\n",
       "      <td>2001</td>\n",
       "      <td>Generic Schema Matching with Cupid</td>\n",
       "      <td>Jayant Madhavan, Philip A. Bernstein, Erhard Rahm</td>\n",
       "      <td>2001</td>\n",
       "    </tr>\n",
       "    <tr>\n",
       "      <th>4666</th>\n",
       "      <td>4666</td>\n",
       "      <td>conf/sigmod/Bussler01</td>\n",
       "      <td>375759</td>\n",
       "      <td>Semantic B2B Integration</td>\n",
       "      <td>Christoph Bussler</td>\n",
       "      <td>2001</td>\n",
       "      <td>Monitoring business processes through event correlation based on dependency model</td>\n",
       "      <td>Asaf Adii, David Botzer, Opher Etzion, Tali Yatzkar-Haham</td>\n",
       "      <td>2001</td>\n",
       "    </tr>\n",
       "    <tr>\n",
       "      <th>4683</th>\n",
       "      <td>4683</td>\n",
       "      <td>conf/sigmod/Bussler01</td>\n",
       "      <td>505055</td>\n",
       "      <td>Semantic B2B Integration</td>\n",
       "      <td>Christoph Bussler</td>\n",
       "      <td>2001</td>\n",
       "      <td>Editorial</td>\n",
       "      <td>Richard Snodgrass</td>\n",
       "      <td>2001</td>\n",
       "    </tr>\n",
       "    <tr>\n",
       "      <th>4687</th>\n",
       "      <td>4687</td>\n",
       "      <td>conf/sigmod/LangS01</td>\n",
       "      <td>375780</td>\n",
       "      <td>Modeling High-Dimensional Index Structures using Sampling</td>\n",
       "      <td>Christian A. Lang, Ambuj K. Singh</td>\n",
       "      <td>2001</td>\n",
       "      <td>Dynamic content acceleration: a caching solution to enable scalable dynamic Web page generation</td>\n",
       "      <td>Anindya Datta, Kaushik Dutta, Krithi Ramamritham, Helen Thomas, Debra VanderMeer</td>\n",
       "      <td>2001</td>\n",
       "    </tr>\n",
       "    <tr>\n",
       "      <th>4727</th>\n",
       "      <td>4727</td>\n",
       "      <td>conf/sigmod/KriegelMPS01</td>\n",
       "      <td>375780</td>\n",
       "      <td>Spatial Data Management for Computer Aided Design</td>\n",
       "      <td>Andreas Mller, Marco Ptke, Thomas Seidl, Hans-Peter Kriegel</td>\n",
       "      <td>2001</td>\n",
       "      <td>Dynamic content acceleration: a caching solution to enable scalable dynamic Web page generation</td>\n",
       "      <td>Anindya Datta, Kaushik Dutta, Krithi Ramamritham, Helen Thomas, Debra VanderMeer</td>\n",
       "      <td>2001</td>\n",
       "    </tr>\n",
       "    <tr>\n",
       "      <th>4763</th>\n",
       "      <td>4763</td>\n",
       "      <td>conf/sigmod/SchusterW01</td>\n",
       "      <td>505055</td>\n",
       "      <td>Communication Efficient Distributed Mining of Association Rules</td>\n",
       "      <td>Ran Wolff, Assaf Schuster</td>\n",
       "      <td>2001</td>\n",
       "      <td>Editorial</td>\n",
       "      <td>Richard Snodgrass</td>\n",
       "      <td>2001</td>\n",
       "    </tr>\n",
       "    <tr>\n",
       "      <th>4766</th>\n",
       "      <td>4766</td>\n",
       "      <td>conf/vldb/KahveciS01</td>\n",
       "      <td>375759</td>\n",
       "      <td>Efficient Index Structures for String Databases</td>\n",
       "      <td>Tamer Kahveci, Ambuj K. Singh</td>\n",
       "      <td>2001</td>\n",
       "      <td>Monitoring business processes through event correlation based on dependency model</td>\n",
       "      <td>Asaf Adii, David Botzer, Opher Etzion, Tali Yatzkar-Haham</td>\n",
       "      <td>2001</td>\n",
       "    </tr>\n",
       "    <tr>\n",
       "      <th>4810</th>\n",
       "      <td>4810</td>\n",
       "      <td>conf/sigmod/BertinoCF01</td>\n",
       "      <td>672197</td>\n",
       "      <td>Securing XML Documents: the Author-X Project Demonstration</td>\n",
       "      <td>Elisa Bertino, Elena Ferrari, Silvana Castano</td>\n",
       "      <td>2001</td>\n",
       "      <td>An Evaluation of Generic Bulk Loading Techniques</td>\n",
       "      <td>Jochen Van den Bercken, Bernhard Seeger</td>\n",
       "      <td>2001</td>\n",
       "    </tr>\n",
       "    <tr>\n",
       "      <th>4815</th>\n",
       "      <td>4815</td>\n",
       "      <td>conf/sigmod/BertinoCF01</td>\n",
       "      <td>383893</td>\n",
       "      <td>Securing XML Documents: the Author-X Project Demonstration</td>\n",
       "      <td>Elisa Bertino, Elena Ferrari, Silvana Castano</td>\n",
       "      <td>2001</td>\n",
       "      <td>Data Mining with optimized two-dimensional association rules</td>\n",
       "      <td>Takeshi Fukuda, Yasuhiko Morimoto, Shimichi Morishita, Takeshi Tokuyama</td>\n",
       "      <td>2001</td>\n",
       "    </tr>\n",
       "    <tr>\n",
       "      <th>4842</th>\n",
       "      <td>4842</td>\n",
       "      <td>conf/sigmod/KeoghCMP01</td>\n",
       "      <td>373684</td>\n",
       "      <td>Locally Adaptive Dimensionality Reduction for Indexing Large Time Series Databases</td>\n",
       "      <td>Kaushik Chakrabarti, Sharad Mehrotra, Eamonn J. Keogh, Michael J. Pazzani</td>\n",
       "      <td>2001</td>\n",
       "      <td>Quality of service in multimedia digital libraries</td>\n",
       "      <td>Elisa Bertino, Ahmed K. Elmagarmid, Mohand-Saïd Hacid</td>\n",
       "      <td>2001</td>\n",
       "    </tr>\n",
       "    <tr>\n",
       "      <th>4850</th>\n",
       "      <td>4850</td>\n",
       "      <td>conf/sigmod/TatarinovIHW01</td>\n",
       "      <td>672197</td>\n",
       "      <td>Updating XML</td>\n",
       "      <td>Daniel S. Weld, Zachary G. Ives, Igor Tatarinov, Alon Y. Halevy</td>\n",
       "      <td>2001</td>\n",
       "      <td>An Evaluation of Generic Bulk Loading Techniques</td>\n",
       "      <td>Jochen Van den Bercken, Bernhard Seeger</td>\n",
       "      <td>2001</td>\n",
       "    </tr>\n",
       "    <tr>\n",
       "      <th>4857</th>\n",
       "      <td>4857</td>\n",
       "      <td>conf/sigmod/TatarinovIHW01</td>\n",
       "      <td>672043</td>\n",
       "      <td>Updating XML</td>\n",
       "      <td>Daniel S. Weld, Zachary G. Ives, Igor Tatarinov, Alon Y. Halevy</td>\n",
       "      <td>2001</td>\n",
       "      <td>A Sequential Pattern Query Language for Supporting Instant Data Mining for e-Services</td>\n",
       "      <td>Reza Sadri, Carlo Zaniolo, Amir M. Zarkesh, Jafar Adibi</td>\n",
       "      <td>2001</td>\n",
       "    </tr>\n",
       "    <tr>\n",
       "      <th>4871</th>\n",
       "      <td>4871</td>\n",
       "      <td>journals/sigmod/CarmelMS01</td>\n",
       "      <td>672206</td>\n",
       "      <td>XML and Information Retrieval: a SIGIR 2000 Workshop</td>\n",
       "      <td>Yolle S. Maarek, David Carmel, Aya Soffer</td>\n",
       "      <td>2001</td>\n",
       "      <td>VXMLR: A Visual XML-Relational Database System</td>\n",
       "      <td>Aoying Zhou, Hongjun Lu, Shihui Zheng, Yuqi Liang, Long Zhang, Wenyun Ji, Zengping Tian</td>\n",
       "      <td>2001</td>\n",
       "    </tr>\n",
       "    <tr>\n",
       "      <th>4874</th>\n",
       "      <td>4874</td>\n",
       "      <td>journals/sigmod/CarmelMS01</td>\n",
       "      <td>603872</td>\n",
       "      <td>XML and Information Retrieval: a SIGIR 2000 Workshop</td>\n",
       "      <td>Yolle S. Maarek, David Carmel, Aya Soffer</td>\n",
       "      <td>2001</td>\n",
       "      <td>Why and how to benchmark XML databases</td>\n",
       "      <td>Albrecht Schmidt, Florian Waas, Martin Kersten, Daniela Florescu, Michael J. Carey, Ioana Manole...</td>\n",
       "      <td>2001</td>\n",
       "    </tr>\n",
       "    <tr>\n",
       "      <th>4910</th>\n",
       "      <td>4910</td>\n",
       "      <td>journals/tods/HsuSY01</td>\n",
       "      <td>672197</td>\n",
       "      <td>I/O reference behavior of production database workloads and the TPC benchmarks - an analysis at ...</td>\n",
       "      <td>Windsor W. Hsu, Alan Jay Smith, Honesty C. Young</td>\n",
       "      <td>2001</td>\n",
       "      <td>An Evaluation of Generic Bulk Loading Techniques</td>\n",
       "      <td>Jochen Van den Bercken, Bernhard Seeger</td>\n",
       "      <td>2001</td>\n",
       "    </tr>\n",
       "    <tr>\n",
       "      <th>4931</th>\n",
       "      <td>4931</td>\n",
       "      <td>conf/vldb/ChaHKK01</td>\n",
       "      <td>672206</td>\n",
       "      <td>Cache-Conscious Concurrency Control of Main-Memory Indexes on Shared-Memory Multiprocessor Systems</td>\n",
       "      <td>Sangyong Hwang, Kihong Kim, Sang Kyun Cha, Keunjoo Kwon</td>\n",
       "      <td>2001</td>\n",
       "      <td>VXMLR: A Visual XML-Relational Database System</td>\n",
       "      <td>Aoying Zhou, Hongjun Lu, Shihui Zheng, Yuqi Liang, Long Zhang, Wenyun Ji, Zengping Tian</td>\n",
       "      <td>2001</td>\n",
       "    </tr>\n",
       "    <tr>\n",
       "      <th>4969</th>\n",
       "      <td>4969</td>\n",
       "      <td>conf/sigmod/BohannonMR01</td>\n",
       "      <td>672036</td>\n",
       "      <td>Main-Memory Index Structures with Fixed-Size Partial Keys</td>\n",
       "      <td>Philip Bohannon, Rajeev Rastogi, Peter McIlroy</td>\n",
       "      <td>2001</td>\n",
       "      <td>LoPiX: A System for XML Data Integration and Manipulation</td>\n",
       "      <td>Wolfgang May</td>\n",
       "      <td>2001</td>\n",
       "    </tr>\n",
       "    <tr>\n",
       "      <th>4972</th>\n",
       "      <td>4972</td>\n",
       "      <td>conf/sigmod/BohannonMR01</td>\n",
       "      <td>603871</td>\n",
       "      <td>Main-Memory Index Structures with Fixed-Size Partial Keys</td>\n",
       "      <td>Philip Bohannon, Rajeev Rastogi, Peter McIlroy</td>\n",
       "      <td>2001</td>\n",
       "      <td>A general technique for querying XML documents using a relational database system</td>\n",
       "      <td>Jayavel Shanmugasundaram, Eugene Shekita, Jerry Kiernan, Rajasekar Krishnamurthy, Efstratios Vig...</td>\n",
       "      <td>2001</td>\n",
       "    </tr>\n",
       "    <tr>\n",
       "      <th>4994</th>\n",
       "      <td>4994</td>\n",
       "      <td>journals/sigmod/LawderK01</td>\n",
       "      <td>603872</td>\n",
       "      <td>Querying Multi-dimensional Data Indexed Using the Hilbert Space-filling Curve</td>\n",
       "      <td>Peter J. H. King, Jonathan K. Lawder</td>\n",
       "      <td>2001</td>\n",
       "      <td>Why and how to benchmark XML databases</td>\n",
       "      <td>Albrecht Schmidt, Florian Waas, Martin Kersten, Daniela Florescu, Michael J. Carey, Ioana Manole...</td>\n",
       "      <td>2001</td>\n",
       "    </tr>\n",
       "    <tr>\n",
       "      <th>5012</th>\n",
       "      <td>5012</td>\n",
       "      <td>conf/vldb/BratsbergH01</td>\n",
       "      <td>603871</td>\n",
       "      <td>Online Scaling in a Highly Available Database</td>\n",
       "      <td>Svein Erik Bratsberg, Rune Humborstad</td>\n",
       "      <td>2001</td>\n",
       "      <td>A general technique for querying XML documents using a relational database system</td>\n",
       "      <td>Jayavel Shanmugasundaram, Eugene Shekita, Jerry Kiernan, Rajasekar Krishnamurthy, Efstratios Vig...</td>\n",
       "      <td>2001</td>\n",
       "    </tr>\n",
       "    <tr>\n",
       "      <th>5013</th>\n",
       "      <td>5013</td>\n",
       "      <td>conf/vldb/BratsbergH01</td>\n",
       "      <td>765506</td>\n",
       "      <td>Online Scaling in a Highly Available Database</td>\n",
       "      <td>Svein Erik Bratsberg, Rune Humborstad</td>\n",
       "      <td>2001</td>\n",
       "      <td>Supporting efficient multimedia database exploration</td>\n",
       "      <td>Wen-Syan Li, K.Selçuk Candan, Kyoji Hirata, Yoshinori Hara</td>\n",
       "      <td>2001</td>\n",
       "    </tr>\n",
       "    <tr>\n",
       "      <th>5032</th>\n",
       "      <td>5032</td>\n",
       "      <td>conf/vldb/WiesnerK01</td>\n",
       "      <td>603871</td>\n",
       "      <td>Hyperqueries: Dynamic Distributed Query Processing on the Internet</td>\n",
       "      <td>Alfons Kemper, Christian Wiesner</td>\n",
       "      <td>2001</td>\n",
       "      <td>A general technique for querying XML documents using a relational database system</td>\n",
       "      <td>Jayavel Shanmugasundaram, Eugene Shekita, Jerry Kiernan, Rajasekar Krishnamurthy, Efstratios Vig...</td>\n",
       "      <td>2001</td>\n",
       "    </tr>\n",
       "    <tr>\n",
       "      <th>5063</th>\n",
       "      <td>5063</td>\n",
       "      <td>journals/sigmod/Suciu01</td>\n",
       "      <td>505055</td>\n",
       "      <td>On Database Theory and XML</td>\n",
       "      <td>Dan Suciu</td>\n",
       "      <td>2001</td>\n",
       "      <td>Editorial</td>\n",
       "      <td>Richard Snodgrass</td>\n",
       "      <td>2001</td>\n",
       "    </tr>\n",
       "    <tr>\n",
       "      <th>5076</th>\n",
       "      <td>5076</td>\n",
       "      <td>conf/vldb/MignetMAC01</td>\n",
       "      <td>375761</td>\n",
       "      <td>Change-Centric Management of Versions in an XML Warehouse</td>\n",
       "      <td>Laurent Mignet, Amlie Marian, Gregory Cobena, Serge Abiteboul</td>\n",
       "      <td>2001</td>\n",
       "      <td>VQBD: exploring semistructured data</td>\n",
       "      <td>Sudarshan S. Chawathe, Thomas Baby, Jihwang Yoo</td>\n",
       "      <td>2001</td>\n",
       "    </tr>\n",
       "    <tr>\n",
       "      <th>5077</th>\n",
       "      <td>5077</td>\n",
       "      <td>conf/vldb/MignetMAC01</td>\n",
       "      <td>672043</td>\n",
       "      <td>Change-Centric Management of Versions in an XML Warehouse</td>\n",
       "      <td>Laurent Mignet, Amlie Marian, Gregory Cobena, Serge Abiteboul</td>\n",
       "      <td>2001</td>\n",
       "      <td>A Sequential Pattern Query Language for Supporting Instant Data Mining for e-Services</td>\n",
       "      <td>Reza Sadri, Carlo Zaniolo, Amir M. Zarkesh, Jafar Adibi</td>\n",
       "      <td>2001</td>\n",
       "    </tr>\n",
       "    <tr>\n",
       "      <th>5080</th>\n",
       "      <td>5080</td>\n",
       "      <td>conf/vldb/MignetMAC01</td>\n",
       "      <td>672040</td>\n",
       "      <td>Change-Centric Management of Versions in an XML Warehouse</td>\n",
       "      <td>Laurent Mignet, Amlie Marian, Gregory Cobena, Serge Abiteboul</td>\n",
       "      <td>2001</td>\n",
       "      <td>Cache Portal: Technology for Accelerating Database-driven e-commerce Web Sites</td>\n",
       "      <td>Wen-Syan Li, K. Selçuk Candan, Wang-Pin Hsiung, Oliver Po, Divyakant Agrawal, Qiong Luo, Wei-Kua...</td>\n",
       "      <td>2001</td>\n",
       "    </tr>\n",
       "  </tbody>\n",
       "</table>\n",
       "<p>300 rows × 9 columns</p>\n",
       "</div>"
      ],
      "text/plain": [
       "       _id                      ltable_id rtable_id  \\\n",
       "14      14           conf/vldb/MillerHH00    336573   \n",
       "59      59      conf/sigmod/Hellerstein00    672006   \n",
       "127    127  journals/sigmod/LabrinidisR00    362137   \n",
       "131    131  journals/sigmod/LabrinidisR00    335395   \n",
       "133    133  journals/sigmod/LabrinidisR00    672019   \n",
       "136    136  journals/sigmod/LabrinidisR00    765224   \n",
       "166    166           conf/sigmod/RoySSB00    765224   \n",
       "179    179           conf/sigmod/RoySSB00    672006   \n",
       "197    197            conf/vldb/CasatiS00    335437   \n",
       "200    200            conf/vldb/CasatiS00    758379   \n",
       "218    218         conf/sigmod/LabioWGG00    335457   \n",
       "227    227         conf/sigmod/LabioWGG00    335437   \n",
       "252    252        journals/sigmod/KantM00    335409   \n",
       "259    259        journals/sigmod/KantM00    758377   \n",
       "261    261        journals/sigmod/KantM00    671864   \n",
       "332    332             conf/vldb/ChangG00    335388   \n",
       "335    335             conf/vldb/ChangG00    671683   \n",
       "341    341             conf/vldb/ChangG00    335395   \n",
       "358    358             conf/vldb/ChangG00    336590   \n",
       "364    364           conf/vldb/JiangSLB00    335438   \n",
       "424    424      journals/sigmod/LiefkeS00    335438   \n",
       "427    427      journals/sigmod/LiefkeS00    362137   \n",
       "432    432      journals/sigmod/LiefkeS00    335409   \n",
       "447    447      journals/sigmod/LiefkeS00    335416   \n",
       "463    463        conf/sigmod/BerckenDS00    672019   \n",
       "478    478        conf/sigmod/BerckenDS00    336590   \n",
       "482    482    journals/vldb/ClaussenKKW00    335388   \n",
       "490    490    journals/vldb/ClaussenKKW00    335439   \n",
       "496    496    journals/vldb/ClaussenKKW00    765224   \n",
       "503    503    journals/vldb/ClaussenKKW00    363955   \n",
       "...    ...                            ...       ...   \n",
       "4525  4525      journals/vldb/TenienteO95    615234   \n",
       "4585  4585            conf/sigmod/Team95b    223788   \n",
       "4639  4639             conf/vldb/SatheS01    672191   \n",
       "4644  4644             conf/vldb/SatheS01    672023   \n",
       "4659  4659     journals/vldb/ShegalovGW01    672191   \n",
       "4666  4666          conf/sigmod/Bussler01    375759   \n",
       "4683  4683          conf/sigmod/Bussler01    505055   \n",
       "4687  4687            conf/sigmod/LangS01    375780   \n",
       "4727  4727       conf/sigmod/KriegelMPS01    375780   \n",
       "4763  4763        conf/sigmod/SchusterW01    505055   \n",
       "4766  4766           conf/vldb/KahveciS01    375759   \n",
       "4810  4810        conf/sigmod/BertinoCF01    672197   \n",
       "4815  4815        conf/sigmod/BertinoCF01    383893   \n",
       "4842  4842         conf/sigmod/KeoghCMP01    373684   \n",
       "4850  4850     conf/sigmod/TatarinovIHW01    672197   \n",
       "4857  4857     conf/sigmod/TatarinovIHW01    672043   \n",
       "4871  4871     journals/sigmod/CarmelMS01    672206   \n",
       "4874  4874     journals/sigmod/CarmelMS01    603872   \n",
       "4910  4910          journals/tods/HsuSY01    672197   \n",
       "4931  4931             conf/vldb/ChaHKK01    672206   \n",
       "4969  4969       conf/sigmod/BohannonMR01    672036   \n",
       "4972  4972       conf/sigmod/BohannonMR01    603871   \n",
       "4994  4994      journals/sigmod/LawderK01    603872   \n",
       "5012  5012         conf/vldb/BratsbergH01    603871   \n",
       "5013  5013         conf/vldb/BratsbergH01    765506   \n",
       "5032  5032           conf/vldb/WiesnerK01    603871   \n",
       "5063  5063        journals/sigmod/Suciu01    505055   \n",
       "5076  5076          conf/vldb/MignetMAC01    375761   \n",
       "5077  5077          conf/vldb/MignetMAC01    672043   \n",
       "5080  5080          conf/vldb/MignetMAC01    672040   \n",
       "\n",
       "                                                                                             ltable_title  \\\n",
       "14                                                                      Schema Mapping as Query Discovery   \n",
       "59                                                      Index Research: Forest or Trees? (Panel Abstract)   \n",
       "127                       Generating Dynamic Content at Database-Backed Web Servers: cgi-bin vs. mod_perl   \n",
       "131                       Generating Dynamic Content at Database-Backed Web Servers: cgi-bin vs. mod_perl   \n",
       "133                       Generating Dynamic Content at Database-Backed Web Servers: cgi-bin vs. mod_perl   \n",
       "136                       Generating Dynamic Content at Database-Backed Web Servers: cgi-bin vs. mod_perl   \n",
       "166                                      Efficient and Extensible Algorithms for Multi Query Optimization   \n",
       "179                                      Efficient and Extensible Algorithms for Multi Query Optimization   \n",
       "197                                                   Process Automation as the Foundation for E-Business   \n",
       "200                                                   Process Automation as the Foundation for E-Business   \n",
       "218                                                   Efficient Resumption of Interrupted Warehouse Loads   \n",
       "227                                                   Efficient Resumption of Interrupted Warehouse Loads   \n",
       "252   Workshop on Performance and Architecture of Web Servers (PAWS-2000, held in conjection with SIGM...   \n",
       "259   Workshop on Performance and Architecture of Web Servers (PAWS-2000, held in conjection with SIGM...   \n",
       "261   Workshop on Performance and Architecture of Web Servers (PAWS-2000, held in conjection with SIGM...   \n",
       "332                                Approximate Query Translation Across Heterogeneous Information Sources   \n",
       "335                                Approximate Query Translation Across Heterogeneous Information Sources   \n",
       "341                                Approximate Query Translation Across Heterogeneous Information Sources   \n",
       "358                                Approximate Query Translation Across Heterogeneous Information Sources   \n",
       "364                                                    The BT-tree: A Branched and Temporal Access Method   \n",
       "424                                                                 An Extensible Compressor for XML Data   \n",
       "427                                                                 An Extensible Compressor for XML Data   \n",
       "432                                                                 An Extensible Compressor for XML Data   \n",
       "447                                                                 An Extensible Compressor for XML Data   \n",
       "463                                   javax.XXL: A prototype for a Library of Query processing Algorithms   \n",
       "478                                   javax.XXL: A prototype for a Library of Query processing Algorithms   \n",
       "482                  Exploiting early sorting and early partitioning for decisionsupport query processing   \n",
       "490                  Exploiting early sorting and early partitioning for decisionsupport query processing   \n",
       "496                  Exploiting early sorting and early partitioning for decisionsupport query processing   \n",
       "503                  Exploiting early sorting and early partitioning for decisionsupport query processing   \n",
       "...                                                                                                   ...   \n",
       "4525                                         Updating Knowledge Bases While Maintaining Their Consistency   \n",
       "4585                                        SHORE: Combining the Best Features of OODBMS and File Systems   \n",
       "4639                                                    Intelligent Rollups in Multidimensional OLAP Data   \n",
       "4644                                                    Intelligent Rollups in Multidimensional OLAP Data   \n",
       "4659                        XML-enabled workflow management for e-services across heterogeneous platforms   \n",
       "4666                                                                             Semantic B2B Integration   \n",
       "4683                                                                             Semantic B2B Integration   \n",
       "4687                                            Modeling High-Dimensional Index Structures using Sampling   \n",
       "4727                                                    Spatial Data Management for Computer Aided Design   \n",
       "4763                                      Communication Efficient Distributed Mining of Association Rules   \n",
       "4766                                                      Efficient Index Structures for String Databases   \n",
       "4810                                           Securing XML Documents: the Author-X Project Demonstration   \n",
       "4815                                           Securing XML Documents: the Author-X Project Demonstration   \n",
       "4842                   Locally Adaptive Dimensionality Reduction for Indexing Large Time Series Databases   \n",
       "4850                                                                                         Updating XML   \n",
       "4857                                                                                         Updating XML   \n",
       "4871                                                 XML and Information Retrieval: a SIGIR 2000 Workshop   \n",
       "4874                                                 XML and Information Retrieval: a SIGIR 2000 Workshop   \n",
       "4910  I/O reference behavior of production database workloads and the TPC benchmarks - an analysis at ...   \n",
       "4931   Cache-Conscious Concurrency Control of Main-Memory Indexes on Shared-Memory Multiprocessor Systems   \n",
       "4969                                            Main-Memory Index Structures with Fixed-Size Partial Keys   \n",
       "4972                                            Main-Memory Index Structures with Fixed-Size Partial Keys   \n",
       "4994                        Querying Multi-dimensional Data Indexed Using the Hilbert Space-filling Curve   \n",
       "5012                                                        Online Scaling in a Highly Available Database   \n",
       "5013                                                        Online Scaling in a Highly Available Database   \n",
       "5032                                   Hyperqueries: Dynamic Distributed Query Processing on the Internet   \n",
       "5063                                                                           On Database Theory and XML   \n",
       "5076                                            Change-Centric Management of Versions in an XML Warehouse   \n",
       "5077                                            Change-Centric Management of Versions in an XML Warehouse   \n",
       "5080                                            Change-Centric Management of Versions in an XML Warehouse   \n",
       "\n",
       "                                                                 ltable_authors  \\\n",
       "14                          Rene J. Miller, Mauricio A. Hernndez, Laura M. Haas   \n",
       "59                                                        Joseph M. Hellerstein   \n",
       "127                                    Alexandros Labrinidis, Nick Roussopoulos   \n",
       "131                                    Alexandros Labrinidis, Nick Roussopoulos   \n",
       "133                                    Alexandros Labrinidis, Nick Roussopoulos   \n",
       "136                                    Alexandros Labrinidis, Nick Roussopoulos   \n",
       "166                       S. Sudarshan, Siddhesh Bhobe, S. Seshadri, Prasan Roy   \n",
       "179                       S. Sudarshan, Siddhesh Bhobe, S. Seshadri, Prasan Roy   \n",
       "197                                               Fabio Casati, Ming-Chien Shan   \n",
       "200                                               Fabio Casati, Ming-Chien Shan   \n",
       "218          Hector Garcia-Molina, Vlad Gorelik, Wilburt Labio, Janet L. Wiener   \n",
       "227          Hector Garcia-Molina, Vlad Gorelik, Wilburt Labio, Janet L. Wiener   \n",
       "252                                             Krishna Kant, Prasant Mohapatra   \n",
       "259                                             Krishna Kant, Prasant Mohapatra   \n",
       "261                                             Krishna Kant, Prasant Mohapatra   \n",
       "332                                Hector Garcia-Molina, Kevin Chen-Chuan Chang   \n",
       "335                                Hector Garcia-Molina, Kevin Chen-Chuan Chang   \n",
       "341                                Hector Garcia-Molina, Kevin Chen-Chuan Chang   \n",
       "358                                Hector Garcia-Molina, Kevin Chen-Chuan Chang   \n",
       "364           David B. Lomet, Betty Salzberg, Linan Jiang, Manuel Barrena Garca   \n",
       "424                                                   Dan Suciu, Hartmut Liefke   \n",
       "427                                                   Dan Suciu, Hartmut Liefke   \n",
       "432                                                   Dan Suciu, Hartmut Liefke   \n",
       "447                                                   Dan Suciu, Hartmut Liefke   \n",
       "463                Bernhard Seeger, Jens-Peter Dittrich, Jochen Van den Bercken   \n",
       "478                Bernhard Seeger, Jens-Peter Dittrich, Jochen Van den Bercken   \n",
       "482              Jens Clauen, Christian Wiesner, Donald Kossmann, Alfons Kemper   \n",
       "490              Jens Clauen, Christian Wiesner, Donald Kossmann, Alfons Kemper   \n",
       "496              Jens Clauen, Christian Wiesner, Donald Kossmann, Alfons Kemper   \n",
       "503              Jens Clauen, Christian Wiesner, Donald Kossmann, Alfons Kemper   \n",
       "...                                                                         ...   \n",
       "4525                                               Antoni Oliv, Ernest Teniente   \n",
       "4585                                                                 Shore Team   \n",
       "4639                                             Sunita Sarawagi, Gayatri Sathe   \n",
       "4644                                             Sunita Sarawagi, Gayatri Sathe   \n",
       "4659                          Michael Gillmann, German Shegalov, Gerhard Weikum   \n",
       "4666                                                          Christoph Bussler   \n",
       "4683                                                          Christoph Bussler   \n",
       "4687                                          Christian A. Lang, Ambuj K. Singh   \n",
       "4727                Andreas Mller, Marco Ptke, Thomas Seidl, Hans-Peter Kriegel   \n",
       "4763                                                  Ran Wolff, Assaf Schuster   \n",
       "4766                                              Tamer Kahveci, Ambuj K. Singh   \n",
       "4810                              Elisa Bertino, Elena Ferrari, Silvana Castano   \n",
       "4815                              Elisa Bertino, Elena Ferrari, Silvana Castano   \n",
       "4842  Kaushik Chakrabarti, Sharad Mehrotra, Eamonn J. Keogh, Michael J. Pazzani   \n",
       "4850            Daniel S. Weld, Zachary G. Ives, Igor Tatarinov, Alon Y. Halevy   \n",
       "4857            Daniel S. Weld, Zachary G. Ives, Igor Tatarinov, Alon Y. Halevy   \n",
       "4871                                  Yolle S. Maarek, David Carmel, Aya Soffer   \n",
       "4874                                  Yolle S. Maarek, David Carmel, Aya Soffer   \n",
       "4910                           Windsor W. Hsu, Alan Jay Smith, Honesty C. Young   \n",
       "4931                    Sangyong Hwang, Kihong Kim, Sang Kyun Cha, Keunjoo Kwon   \n",
       "4969                             Philip Bohannon, Rajeev Rastogi, Peter McIlroy   \n",
       "4972                             Philip Bohannon, Rajeev Rastogi, Peter McIlroy   \n",
       "4994                                       Peter J. H. King, Jonathan K. Lawder   \n",
       "5012                                      Svein Erik Bratsberg, Rune Humborstad   \n",
       "5013                                      Svein Erik Bratsberg, Rune Humborstad   \n",
       "5032                                           Alfons Kemper, Christian Wiesner   \n",
       "5063                                                                  Dan Suciu   \n",
       "5076              Laurent Mignet, Amlie Marian, Gregory Cobena, Serge Abiteboul   \n",
       "5077              Laurent Mignet, Amlie Marian, Gregory Cobena, Serge Abiteboul   \n",
       "5080              Laurent Mignet, Amlie Marian, Gregory Cobena, Serge Abiteboul   \n",
       "\n",
       "     ltable_year  \\\n",
       "14          2000   \n",
       "59          2000   \n",
       "127         2000   \n",
       "131         2000   \n",
       "133         2000   \n",
       "136         2000   \n",
       "166         2000   \n",
       "179         2000   \n",
       "197         2000   \n",
       "200         2000   \n",
       "218         2000   \n",
       "227         2000   \n",
       "252         2000   \n",
       "259         2000   \n",
       "261         2000   \n",
       "332         2000   \n",
       "335         2000   \n",
       "341         2000   \n",
       "358         2000   \n",
       "364         2000   \n",
       "424         2000   \n",
       "427         2000   \n",
       "432         2000   \n",
       "447         2000   \n",
       "463         2000   \n",
       "478         2000   \n",
       "482         2000   \n",
       "490         2000   \n",
       "496         2000   \n",
       "503         2000   \n",
       "...          ...   \n",
       "4525        1995   \n",
       "4585        1995   \n",
       "4639        2001   \n",
       "4644        2001   \n",
       "4659        2001   \n",
       "4666        2001   \n",
       "4683        2001   \n",
       "4687        2001   \n",
       "4727        2001   \n",
       "4763        2001   \n",
       "4766        2001   \n",
       "4810        2001   \n",
       "4815        2001   \n",
       "4842        2001   \n",
       "4850        2001   \n",
       "4857        2001   \n",
       "4871        2001   \n",
       "4874        2001   \n",
       "4910        2001   \n",
       "4931        2001   \n",
       "4969        2001   \n",
       "4972        2001   \n",
       "4994        2001   \n",
       "5012        2001   \n",
       "5013        2001   \n",
       "5032        2001   \n",
       "5063        2001   \n",
       "5076        2001   \n",
       "5077        2001   \n",
       "5080        2001   \n",
       "\n",
       "                                                                                         rtable_title  \\\n",
       "14                                        Image mining in IRIS: integrated retinal information system   \n",
       "59                                                                           Temporal Queries in OLAP   \n",
       "127                                        The implementation and performance of compressed databases   \n",
       "131                                         On wrapping query languages and efficient XML integration   \n",
       "133                               Novel Approaches in Query Processing for Moving Object Trajectories   \n",
       "136          UnQL: a query language and algebra for semistructured data based on structural recursion   \n",
       "166          UnQL: a query language and algebra for semistructured data based on structural recursion   \n",
       "179                                                                          Temporal Queries in OLAP   \n",
       "197                                     Efficient algorithms for mining outliers from large data sets   \n",
       "200                                     Building and Customizing Data-Intensive Web Sites Using Weave   \n",
       "218                                                                         Expressing business rules   \n",
       "227                                     Efficient algorithms for mining outliers from large data sets   \n",
       "252                      XTRACT: a system for extracting document type descriptors from XML documents   \n",
       "259                                Efficient Numerical Error Bounding for Replicated Network Services   \n",
       "261                             Model-Based Information Integration in a Neuroscience Mediator System   \n",
       "332                                                     LOF: identifying density-based local outliers   \n",
       "335                                                            A Database Platform for Bioinformatics   \n",
       "341                                         On wrapping query languages and efficient XML integration   \n",
       "358                                                           The MLPQ/GIS constraint database system   \n",
       "364                                                                    Privacy-preserving data mining   \n",
       "424                                                                    Privacy-preserving data mining   \n",
       "427                                        The implementation and performance of compressed databases   \n",
       "432                      XTRACT: a system for extracting document type descriptors from XML documents   \n",
       "447                                   Towards self-tuning data placement in parallel database systems   \n",
       "463                               Novel Approaches in Query Processing for Moving Object Trajectories   \n",
       "478                                                           The MLPQ/GIS constraint database system   \n",
       "482                                                     LOF: identifying density-based local outliers   \n",
       "490              Designing and mining multi-terabyte astronomy archives: the Sloan Digital Sky Survey   \n",
       "496          UnQL: a query language and algebra for semistructured data based on structural recursion   \n",
       "503                A new approach to developing and implementing eager database replication protocols   \n",
       "...                                                                                               ...   \n",
       "4525                                    The power of languages for the manipulation of complex values   \n",
       "4585                                                  The LyriC language: querying constraint objects   \n",
       "4639                                                               Generic Schema Matching with Cupid   \n",
       "4644                                  AgFlow: Agent-based Cross-Enterprise Workflow Management System   \n",
       "4659                                                               Generic Schema Matching with Cupid   \n",
       "4666                Monitoring business processes through event correlation based on dependency model   \n",
       "4683                                                                                        Editorial   \n",
       "4687  Dynamic content acceleration: a caching solution to enable scalable dynamic Web page generation   \n",
       "4727  Dynamic content acceleration: a caching solution to enable scalable dynamic Web page generation   \n",
       "4763                                                                                        Editorial   \n",
       "4766                Monitoring business processes through event correlation based on dependency model   \n",
       "4810                                                 An Evaluation of Generic Bulk Loading Techniques   \n",
       "4815                                     Data Mining with optimized two-dimensional association rules   \n",
       "4842                                               Quality of service in multimedia digital libraries   \n",
       "4850                                                 An Evaluation of Generic Bulk Loading Techniques   \n",
       "4857            A Sequential Pattern Query Language for Supporting Instant Data Mining for e-Services   \n",
       "4871                                                   VXMLR: A Visual XML-Relational Database System   \n",
       "4874                                                           Why and how to benchmark XML databases   \n",
       "4910                                                 An Evaluation of Generic Bulk Loading Techniques   \n",
       "4931                                                   VXMLR: A Visual XML-Relational Database System   \n",
       "4969                                        LoPiX: A System for XML Data Integration and Manipulation   \n",
       "4972                A general technique for querying XML documents using a relational database system   \n",
       "4994                                                           Why and how to benchmark XML databases   \n",
       "5012                A general technique for querying XML documents using a relational database system   \n",
       "5013                                             Supporting efficient multimedia database exploration   \n",
       "5032                A general technique for querying XML documents using a relational database system   \n",
       "5063                                                                                        Editorial   \n",
       "5076                                                              VQBD: exploring semistructured data   \n",
       "5077            A Sequential Pattern Query Language for Supporting Instant Data Mining for e-Services   \n",
       "5080                   Cache Portal: Technology for Accelerating Database-driven e-commerce Web Sites   \n",
       "\n",
       "                                                                                           rtable_authors  \\\n",
       "14                                                                 Wynne Hsu, Mong Li Lee, Kheng Guan Goh   \n",
       "59                                                             Alberto O. Mendelzon, Alejandro A. Vaisman   \n",
       "127                                          Till Westmann, Donald Kossmann, Sven Helmer, Guido Moerkotte   \n",
       "131                                                   Vassilis Christophides, Sophie Cluet, Jérǒme Simèon   \n",
       "133                                                Dieter Pfoser, Christian S. Jensen, Yannis Theodoridis   \n",
       "136                                                              Peter Buneman, Mary Fernandez, Dan Suciu   \n",
       "166                                                              Peter Buneman, Mary Fernandez, Dan Suciu   \n",
       "179                                                            Alberto O. Mendelzon, Alejandro A. Vaisman   \n",
       "197                                                       Sridhar Ramaswamy, Rajeev Rastogi, Kyuseok Shim   \n",
       "200                                   Khaled Yagoub, Daniela Florescu, Valérie Issarny, Patrick Valduriez   \n",
       "218                                                                                        Ronald G. Ross   \n",
       "227                                                       Sridhar Ramaswamy, Rajeev Rastogi, Kyuseok Shim   \n",
       "252                        Minos Garofalakis, Aristides Gionis, Rajeev Rastogi, S. Seshadri, Kyuseok Shim   \n",
       "259                                                                               Haifeng Yu, Amin Vahdat   \n",
       "261                                                 Bertram Ludäscher, Amarnath Gupta, Maryann E. Martone   \n",
       "332                                     Markus M. Breunig, Hans-Peter Kriegel, Raymond T. Ng, Jörg Sander   \n",
       "335                                                                                    Sandeepan Banerjee   \n",
       "341                                                   Vassilis Christophides, Sophie Cluet, Jérǒme Simèon   \n",
       "358                          Peter Revesz, Rui Chen, Pradip Kanjamala, Yiming Li, Yuguo Liu, Yonghui Wang   \n",
       "364                                                                  Rakesh Agrawal, Ramakrishnan Srikant   \n",
       "424                                                                  Rakesh Agrawal, Ramakrishnan Srikant   \n",
       "427                                          Till Westmann, Donald Kossmann, Sven Helmer, Guido Moerkotte   \n",
       "432                        Minos Garofalakis, Aristides Gionis, Rajeev Rastogi, S. Seshadri, Kyuseok Shim   \n",
       "447                          Mong Li Lee, Masaru Kitsuregawa, Beng Chin Ooi, Kian-Lee Tan, Anirban Mondal   \n",
       "463                                                Dieter Pfoser, Christian S. Jensen, Yannis Theodoridis   \n",
       "478                          Peter Revesz, Rui Chen, Pradip Kanjamala, Yiming Li, Yuguo Liu, Yonghui Wang   \n",
       "482                                     Markus M. Breunig, Hans-Peter Kriegel, Raymond T. Ng, Jörg Sander   \n",
       "490              Alexander S. Szalay, Peter Z. Kunszt, Ani Thakar, Jim Gray, Don Slutz, Robert J. Brunner   \n",
       "496                                                              Peter Buneman, Mary Fernandez, Dan Suciu   \n",
       "503                                                                         Bettina Kemme, Gustavo Alonso   \n",
       "...                                                                                                   ...   \n",
       "4525                                                                       Serge Abiteboul, Catriel Beeri   \n",
       "4585                                                                   Alexander Brodsky, Yoram Kornatzky   \n",
       "4639                                                    Jayant Madhavan, Philip A. Bernstein, Erhard Rahm   \n",
       "4644                                    Liangzhao Zeng, Boualem Benatallah, Phuong Nguyen, Anne H. H. Ngu   \n",
       "4659                                                    Jayant Madhavan, Philip A. Bernstein, Erhard Rahm   \n",
       "4666                                            Asaf Adii, David Botzer, Opher Etzion, Tali Yatzkar-Haham   \n",
       "4683                                                                                    Richard Snodgrass   \n",
       "4687                     Anindya Datta, Kaushik Dutta, Krithi Ramamritham, Helen Thomas, Debra VanderMeer   \n",
       "4727                     Anindya Datta, Kaushik Dutta, Krithi Ramamritham, Helen Thomas, Debra VanderMeer   \n",
       "4763                                                                                    Richard Snodgrass   \n",
       "4766                                            Asaf Adii, David Botzer, Opher Etzion, Tali Yatzkar-Haham   \n",
       "4810                                                              Jochen Van den Bercken, Bernhard Seeger   \n",
       "4815                              Takeshi Fukuda, Yasuhiko Morimoto, Shimichi Morishita, Takeshi Tokuyama   \n",
       "4842                                                Elisa Bertino, Ahmed K. Elmagarmid, Mohand-Saïd Hacid   \n",
       "4850                                                              Jochen Van den Bercken, Bernhard Seeger   \n",
       "4857                                              Reza Sadri, Carlo Zaniolo, Amir M. Zarkesh, Jafar Adibi   \n",
       "4871              Aoying Zhou, Hongjun Lu, Shihui Zheng, Yuqi Liang, Long Zhang, Wenyun Ji, Zengping Tian   \n",
       "4874  Albrecht Schmidt, Florian Waas, Martin Kersten, Daniela Florescu, Michael J. Carey, Ioana Manole...   \n",
       "4910                                                              Jochen Van den Bercken, Bernhard Seeger   \n",
       "4931              Aoying Zhou, Hongjun Lu, Shihui Zheng, Yuqi Liang, Long Zhang, Wenyun Ji, Zengping Tian   \n",
       "4969                                                                                         Wolfgang May   \n",
       "4972  Jayavel Shanmugasundaram, Eugene Shekita, Jerry Kiernan, Rajasekar Krishnamurthy, Efstratios Vig...   \n",
       "4994  Albrecht Schmidt, Florian Waas, Martin Kersten, Daniela Florescu, Michael J. Carey, Ioana Manole...   \n",
       "5012  Jayavel Shanmugasundaram, Eugene Shekita, Jerry Kiernan, Rajasekar Krishnamurthy, Efstratios Vig...   \n",
       "5013                                           Wen-Syan Li, K.Selçuk Candan, Kyoji Hirata, Yoshinori Hara   \n",
       "5032  Jayavel Shanmugasundaram, Eugene Shekita, Jerry Kiernan, Rajasekar Krishnamurthy, Efstratios Vig...   \n",
       "5063                                                                                    Richard Snodgrass   \n",
       "5076                                                      Sudarshan S. Chawathe, Thomas Baby, Jihwang Yoo   \n",
       "5077                                              Reza Sadri, Carlo Zaniolo, Amir M. Zarkesh, Jafar Adibi   \n",
       "5080  Wen-Syan Li, K. Selçuk Candan, Wang-Pin Hsiung, Oliver Po, Divyakant Agrawal, Qiong Luo, Wei-Kua...   \n",
       "\n",
       "     rtable_year  \n",
       "14          2000  \n",
       "59          2000  \n",
       "127         2000  \n",
       "131         2000  \n",
       "133         2000  \n",
       "136         2000  \n",
       "166         2000  \n",
       "179         2000  \n",
       "197         2000  \n",
       "200         2000  \n",
       "218         2000  \n",
       "227         2000  \n",
       "252         2000  \n",
       "259         2000  \n",
       "261         2000  \n",
       "332         2000  \n",
       "335         2000  \n",
       "341         2000  \n",
       "358         2000  \n",
       "364         2000  \n",
       "424         2000  \n",
       "427         2000  \n",
       "432         2000  \n",
       "447         2000  \n",
       "463         2000  \n",
       "478         2000  \n",
       "482         2000  \n",
       "490         2000  \n",
       "496         2000  \n",
       "503         2000  \n",
       "...          ...  \n",
       "4525        1995  \n",
       "4585        1995  \n",
       "4639        2001  \n",
       "4644        2001  \n",
       "4659        2001  \n",
       "4666        2001  \n",
       "4683        2001  \n",
       "4687        2001  \n",
       "4727        2001  \n",
       "4763        2001  \n",
       "4766        2001  \n",
       "4810        2001  \n",
       "4815        2001  \n",
       "4842        2001  \n",
       "4850        2001  \n",
       "4857        2001  \n",
       "4871        2001  \n",
       "4874        2001  \n",
       "4910        2001  \n",
       "4931        2001  \n",
       "4969        2001  \n",
       "4972        2001  \n",
       "4994        2001  \n",
       "5012        2001  \n",
       "5013        2001  \n",
       "5032        2001  \n",
       "5063        2001  \n",
       "5076        2001  \n",
       "5077        2001  \n",
       "5080        2001  \n",
       "\n",
       "[300 rows x 9 columns]"
      ]
     },
     "execution_count": 45,
     "metadata": {},
     "output_type": "execute_result"
    }
   ],
   "source": [
    "em.filter_rows(d1, 'ltable_year==rtable_year')"
   ]
  },
  {
   "cell_type": "code",
   "execution_count": 46,
   "metadata": {
    "collapsed": false
   },
   "outputs": [
    {
     "name": "stderr",
     "output_type": "stream",
     "text": [
      "/Users/pradap/miniconda3/lib/python3.5/site-packages/ipykernel/__main__.py:1: SettingWithCopyWarning: \n",
      "A value is trying to be set on a copy of a slice from a DataFrame.\n",
      "Try using .loc[row_indexer,col_indexer] = value instead\n",
      "\n",
      "See the caveats in the documentation: http://pandas.pydata.org/pandas-docs/stable/indexing.html#indexing-view-versus-copy\n",
      "  if __name__ == '__main__':\n"
     ]
    }
   ],
   "source": [
    "d2['label'] = 0"
   ]
  },
  {
   "cell_type": "code",
   "execution_count": 47,
   "metadata": {
    "collapsed": false
   },
   "outputs": [],
   "source": [
    "labeled_data = pd.concat([g1_diff_year_sampled_prj, g1_same_year_not_to_be_swapped_sample, \n",
    "                          g1_same_year_to_be_swapped_sample, d2], ignore_index=True)\n"
   ]
  },
  {
   "cell_type": "code",
   "execution_count": 48,
   "metadata": {
    "collapsed": false
   },
   "outputs": [
    {
     "data": {
      "text/plain": [
       "150"
      ]
     },
     "execution_count": 48,
     "metadata": {},
     "output_type": "execute_result"
    }
   ],
   "source": [
    "sum(labeled_data.label.astype(int))"
   ]
  },
  {
   "cell_type": "code",
   "execution_count": 49,
   "metadata": {
    "collapsed": true
   },
   "outputs": [],
   "source": [
    "labeled_data = labeled_data.sample(frac=1)\n",
    "labeled_data['_id'] = range(0, len(labeled_data))\n",
    "labeled_data.reset_index(inplace=True)\n",
    "labeled_data = labeled_data[['_id', 'ltable_id', 'rtable_id', 'label']]"
   ]
  },
  {
   "cell_type": "code",
   "execution_count": 50,
   "metadata": {
    "collapsed": false
   },
   "outputs": [
    {
     "data": {
      "text/plain": [
       "True"
      ]
     },
     "execution_count": 50,
     "metadata": {},
     "output_type": "execute_result"
    }
   ],
   "source": [
    "em.set_key(labeled_data, '_id')\n",
    "em.set_ltable(labeled_data, A4)\n",
    "em.set_rtable(labeled_data, B4)\n",
    "em.set_fk_ltable(labeled_data, 'ltable_id')\n",
    "em.set_fk_rtable(labeled_data, 'rtable_id')"
   ]
  },
  {
   "cell_type": "code",
   "execution_count": 51,
   "metadata": {
    "collapsed": false
   },
   "outputs": [
    {
     "data": {
      "text/plain": [
       "True"
      ]
     },
     "execution_count": 51,
     "metadata": {},
     "output_type": "execute_result"
    }
   ],
   "source": [
    "em.to_csv_metadata(labeled_data, 'ORIG_DBLP_ACM/labeled_data_dblp_acm_after_monkey_tricks.csv')"
   ]
  },
  {
   "cell_type": "code",
   "execution_count": 52,
   "metadata": {
    "collapsed": false
   },
   "outputs": [
    {
     "data": {
      "text/plain": [
       "450"
      ]
     },
     "execution_count": 52,
     "metadata": {},
     "output_type": "execute_result"
    }
   ],
   "source": [
    "len(labeled_data)"
   ]
  },
  {
   "cell_type": "code",
   "execution_count": null,
   "metadata": {
    "collapsed": true
   },
   "outputs": [],
   "source": []
  }
 ],
 "metadata": {
  "anaconda-cloud": {},
  "kernelspec": {
   "display_name": "Python [Root]",
   "language": "python",
   "name": "Python [Root]"
  },
  "language_info": {
   "codemirror_mode": {
    "name": "ipython",
    "version": 3
   },
   "file_extension": ".py",
   "mimetype": "text/x-python",
   "name": "python",
   "nbconvert_exporter": "python",
   "pygments_lexer": "ipython3",
   "version": "3.5.2"
  }
 },
 "nbformat": 4,
 "nbformat_minor": 0
}
