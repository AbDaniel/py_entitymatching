{
 "cells": [
  {
   "cell_type": "code",
   "execution_count": 1,
   "metadata": {
    "collapsed": true
   },
   "outputs": [],
   "source": [
    "%load_ext autotime"
   ]
  },
  {
   "cell_type": "code",
   "execution_count": 2,
   "metadata": {
    "collapsed": false
   },
   "outputs": [
    {
     "name": "stdout",
     "output_type": "stream",
     "text": [
      "time: 1.32 ms\n"
     ]
    }
   ],
   "source": [
    "import sys\n",
    "sys.path.append('/Users/pradap/Documents/Research/Python-Package/anhaid/magellan/')"
   ]
  },
  {
   "cell_type": "code",
   "execution_count": 3,
   "metadata": {
    "collapsed": false
   },
   "outputs": [
    {
     "name": "stdout",
     "output_type": "stream",
     "text": [
      "time: 1.69 s\n"
     ]
    }
   ],
   "source": [
    "# import packages\n",
    "import pandas as pd\n",
    "import py_entitymatching as em\n",
    "import py_stringsimjoin as ssj\n",
    "import qgrid"
   ]
  },
  {
   "cell_type": "code",
   "execution_count": 4,
   "metadata": {
    "collapsed": false
   },
   "outputs": [
    {
     "name": "stdout",
     "output_type": "stream",
     "text": [
      "time: 22.8 ms\n"
     ]
    }
   ],
   "source": [
    "# Read tables\n",
    "A = mg.read_csv_metadata('../DBLP_ACM/DBLP_cleaned.csv', key='id')\n",
    "B = mg.read_csv_metadata('../DBLP_ACM/ACM_cleaned.csv', key='id')"
   ]
  },
  {
   "cell_type": "code",
   "execution_count": 5,
   "metadata": {
    "collapsed": false
   },
   "outputs": [
    {
     "name": "stdout",
     "output_type": "stream",
     "text": [
      "time: 1.02 ms\n"
     ]
    }
   ],
   "source": [
    "# Explore tables\n",
    "# qgrid.show_grid(A)\n",
    "# qgrid.show_grid(B)"
   ]
  },
  {
   "cell_type": "code",
   "execution_count": 6,
   "metadata": {
    "collapsed": false
   },
   "outputs": [
    {
     "name": "stdout",
     "output_type": "stream",
     "text": [
      "time: 9 ms\n"
     ]
    }
   ],
   "source": [
    "# Clean up tables\n",
    "# Observe that the authors have some ? replace with NaN\n",
    "A.replace({'authors':{'?':pd.np.NaN}}, inplace=True)\n",
    "# Normalize attr. values\n",
    "B.replace({'venue':{\n",
    "            'The VLDB Journal — The International Journal on Very Large Data Bases':'VLDB J.',\n",
    "            'Very Large Data Bases': 'VLDB',\n",
    "            'ACM SIGMOD Record': 'SIGMOD Record'\n",
    "        }}, inplace=True)"
   ]
  },
  {
   "cell_type": "code",
   "execution_count": 7,
   "metadata": {
    "collapsed": false
   },
   "outputs": [
    {
     "name": "stdout",
     "output_type": "stream",
     "text": [
      "time: 262 ms\n"
     ]
    }
   ],
   "source": [
    "# Create attribute equivalence blocker\n",
    "ab = mg.AttrEquivalenceBlocker()\n",
    "# Block tables using 'year' attribute: same year then include in the canidate set\n",
    "C1 = ab.block_tables(A, B, 'year', 'year', \n",
    "                   l_output_attrs=['title', 'authors', 'year'],\n",
    "                   r_output_attrs=['title', 'authors', 'year']\n",
    "                   )"
   ]
  },
  {
   "cell_type": "code",
   "execution_count": 8,
   "metadata": {
    "collapsed": false
   },
   "outputs": [
    {
     "data": {
      "text/plain": [
       "601284"
      ]
     },
     "execution_count": 8,
     "metadata": {},
     "output_type": "execute_result"
    },
    {
     "name": "stdout",
     "output_type": "stream",
     "text": [
      "time: 12.4 ms\n"
     ]
    }
   ],
   "source": [
    "len(C1)"
   ]
  },
  {
   "cell_type": "code",
   "execution_count": 9,
   "metadata": {
    "collapsed": false
   },
   "outputs": [
    {
     "data": {
      "text/html": [
       "<div>\n",
       "<table border=\"1\" class=\"dataframe\">\n",
       "  <thead>\n",
       "    <tr style=\"text-align: right;\">\n",
       "      <th></th>\n",
       "      <th>_id</th>\n",
       "      <th>ltable_id</th>\n",
       "      <th>rtable_id</th>\n",
       "      <th>ltable_title</th>\n",
       "      <th>ltable_authors</th>\n",
       "      <th>ltable_year</th>\n",
       "      <th>rtable_title</th>\n",
       "      <th>rtable_authors</th>\n",
       "      <th>rtable_year</th>\n",
       "    </tr>\n",
       "  </thead>\n",
       "  <tbody>\n",
       "    <tr>\n",
       "      <th>0</th>\n",
       "      <td>0</td>\n",
       "      <td>journals/sigmod/Mackay99</td>\n",
       "      <td>304586</td>\n",
       "      <td>Semantic Integration of Environmental Models for Application to Global Information Systems and D...</td>\n",
       "      <td>D. Scott Mackay</td>\n",
       "      <td>1999</td>\n",
       "      <td>The WASA2 object-oriented workflow management system</td>\n",
       "      <td>Gottfried Vossen, Mathias Weske</td>\n",
       "      <td>1999</td>\n",
       "    </tr>\n",
       "    <tr>\n",
       "      <th>1</th>\n",
       "      <td>1</td>\n",
       "      <td>journals/sigmod/Mackay99</td>\n",
       "      <td>304587</td>\n",
       "      <td>Semantic Integration of Environmental Models for Application to Global Information Systems and D...</td>\n",
       "      <td>D. Scott Mackay</td>\n",
       "      <td>1999</td>\n",
       "      <td>A user-centered interface for querying distributed multimedia databases</td>\n",
       "      <td>Isabel F. Cruz, Kimberly M. James</td>\n",
       "      <td>1999</td>\n",
       "    </tr>\n",
       "  </tbody>\n",
       "</table>\n",
       "</div>"
      ],
      "text/plain": [
       "   _id                 ltable_id  rtable_id  \\\n",
       "0    0  journals/sigmod/Mackay99     304586   \n",
       "1    1  journals/sigmod/Mackay99     304587   \n",
       "\n",
       "                                                                                          ltable_title  \\\n",
       "0  Semantic Integration of Environmental Models for Application to Global Information Systems and D...   \n",
       "1  Semantic Integration of Environmental Models for Application to Global Information Systems and D...   \n",
       "\n",
       "    ltable_authors  ltable_year  \\\n",
       "0  D. Scott Mackay         1999   \n",
       "1  D. Scott Mackay         1999   \n",
       "\n",
       "                                                              rtable_title  \\\n",
       "0                     The WASA2 object-oriented workflow management system   \n",
       "1  A user-centered interface for querying distributed multimedia databases   \n",
       "\n",
       "                      rtable_authors  rtable_year  \n",
       "0    Gottfried Vossen, Mathias Weske         1999  \n",
       "1  Isabel F. Cruz, Kimberly M. James         1999  "
      ]
     },
     "execution_count": 9,
     "metadata": {},
     "output_type": "execute_result"
    },
    {
     "name": "stdout",
     "output_type": "stream",
     "text": [
      "time: 38.2 ms\n"
     ]
    }
   ],
   "source": [
    "# Display first two rows from C1\n",
    "C1.head(2)"
   ]
  },
  {
   "cell_type": "code",
   "execution_count": 10,
   "metadata": {
    "collapsed": false
   },
   "outputs": [
    {
     "name": "stdout",
     "output_type": "stream",
     "text": [
      "time: 1.6 s\n"
     ]
    }
   ],
   "source": [
    "# Debug blocker output\n",
    "dbg = mg.debug_blocker(C1, A, B, output_size=200)"
   ]
  },
  {
   "cell_type": "code",
   "execution_count": 11,
   "metadata": {
    "collapsed": false
   },
   "outputs": [
    {
     "data": {
      "text/html": [
       "<div>\n",
       "<table border=\"1\" class=\"dataframe\">\n",
       "  <thead>\n",
       "    <tr style=\"text-align: right;\">\n",
       "      <th></th>\n",
       "      <th>_id</th>\n",
       "      <th>similarity</th>\n",
       "      <th>ltable_id</th>\n",
       "      <th>rtable_id</th>\n",
       "      <th>ltable_title</th>\n",
       "      <th>ltable_authors</th>\n",
       "      <th>ltable_venue</th>\n",
       "      <th>rtable_title</th>\n",
       "      <th>rtable_authors</th>\n",
       "      <th>rtable_venue</th>\n",
       "    </tr>\n",
       "  </thead>\n",
       "  <tbody>\n",
       "    <tr>\n",
       "      <th>0</th>\n",
       "      <td>0</td>\n",
       "      <td>1.0</td>\n",
       "      <td>journals/sigmod/Hammer01</td>\n",
       "      <td>601859</td>\n",
       "      <td>Treasurer's Message</td>\n",
       "      <td>Joachim Hammer</td>\n",
       "      <td>SIGMOD Record</td>\n",
       "      <td>Treasurer's message</td>\n",
       "      <td>Joachim Hammer</td>\n",
       "      <td>SIGMOD Record</td>\n",
       "    </tr>\n",
       "    <tr>\n",
       "      <th>1</th>\n",
       "      <td>1</td>\n",
       "      <td>1.0</td>\n",
       "      <td>journals/sigmod/Aberer02</td>\n",
       "      <td>776994</td>\n",
       "      <td>Book Review Column</td>\n",
       "      <td>Karl Aberer</td>\n",
       "      <td>SIGMOD Record</td>\n",
       "      <td>Book review column</td>\n",
       "      <td>Karl Aberer</td>\n",
       "      <td>SIGMOD Record</td>\n",
       "    </tr>\n",
       "    <tr>\n",
       "      <th>2</th>\n",
       "      <td>2</td>\n",
       "      <td>1.0</td>\n",
       "      <td>journals/sigmod/Aberer02a</td>\n",
       "      <td>776994</td>\n",
       "      <td>Book Review Column</td>\n",
       "      <td>Karl Aberer</td>\n",
       "      <td>SIGMOD Record</td>\n",
       "      <td>Book review column</td>\n",
       "      <td>Karl Aberer</td>\n",
       "      <td>SIGMOD Record</td>\n",
       "    </tr>\n",
       "    <tr>\n",
       "      <th>3</th>\n",
       "      <td>3</td>\n",
       "      <td>1.0</td>\n",
       "      <td>journals/sigmod/Aberer02b</td>\n",
       "      <td>604274</td>\n",
       "      <td>Book Review Column</td>\n",
       "      <td>Karl Aberer</td>\n",
       "      <td>SIGMOD Record</td>\n",
       "      <td>Book review column</td>\n",
       "      <td>Karl Aberer</td>\n",
       "      <td>SIGMOD Record</td>\n",
       "    </tr>\n",
       "    <tr>\n",
       "      <th>4</th>\n",
       "      <td>4</td>\n",
       "      <td>1.0</td>\n",
       "      <td>journals/sigmod/Aberer03b</td>\n",
       "      <td>601865</td>\n",
       "      <td>Book review column</td>\n",
       "      <td>Karl Aberer</td>\n",
       "      <td>SIGMOD Record</td>\n",
       "      <td>Book review column</td>\n",
       "      <td>Karl Aberer</td>\n",
       "      <td>SIGMOD Record</td>\n",
       "    </tr>\n",
       "  </tbody>\n",
       "</table>\n",
       "</div>"
      ],
      "text/plain": [
       "   _id  similarity                  ltable_id  rtable_id         ltable_title  \\\n",
       "0    0         1.0   journals/sigmod/Hammer01     601859  Treasurer's Message   \n",
       "1    1         1.0   journals/sigmod/Aberer02     776994   Book Review Column   \n",
       "2    2         1.0  journals/sigmod/Aberer02a     776994   Book Review Column   \n",
       "3    3         1.0  journals/sigmod/Aberer02b     604274   Book Review Column   \n",
       "4    4         1.0  journals/sigmod/Aberer03b     601865   Book review column   \n",
       "\n",
       "   ltable_authors   ltable_venue         rtable_title  rtable_authors  \\\n",
       "0  Joachim Hammer  SIGMOD Record  Treasurer's message  Joachim Hammer   \n",
       "1     Karl Aberer  SIGMOD Record   Book review column     Karl Aberer   \n",
       "2     Karl Aberer  SIGMOD Record   Book review column     Karl Aberer   \n",
       "3     Karl Aberer  SIGMOD Record   Book review column     Karl Aberer   \n",
       "4     Karl Aberer  SIGMOD Record   Book review column     Karl Aberer   \n",
       "\n",
       "    rtable_venue  \n",
       "0  SIGMOD Record  \n",
       "1  SIGMOD Record  \n",
       "2  SIGMOD Record  \n",
       "3  SIGMOD Record  \n",
       "4  SIGMOD Record  "
      ]
     },
     "execution_count": 11,
     "metadata": {},
     "output_type": "execute_result"
    },
    {
     "name": "stdout",
     "output_type": "stream",
     "text": [
      "time: 15.2 ms\n"
     ]
    }
   ],
   "source": [
    "# Display first few tuple pairs from the debug_blocker's output\n",
    "dbg.head()"
   ]
  },
  {
   "cell_type": "code",
   "execution_count": 12,
   "metadata": {
    "collapsed": false
   },
   "outputs": [
    {
     "name": "stderr",
     "output_type": "stream",
     "text": [
      "0%                          100%\n",
      "[##############################] | ETA: 00:00:00\n",
      "Total time elapsed: 00:00:01\n"
     ]
    },
    {
     "name": "stdout",
     "output_type": "stream",
     "text": [
      "time: 2.07 s\n"
     ]
    }
   ],
   "source": [
    "# Create an overlap blocker\n",
    "ob = mg.OverlapBlocker()\n",
    "# Apply overlap blocker on 'authors' attribute\n",
    "C2 = ob.block_tables(A, B, 'authors', 'authors', \n",
    "                   l_output_attrs=['title', 'authors', 'year'],\n",
    "                   r_output_attrs=['title', 'authors', 'year']\n",
    "                   )"
   ]
  },
  {
   "cell_type": "code",
   "execution_count": 13,
   "metadata": {
    "collapsed": false
   },
   "outputs": [
    {
     "data": {
      "text/plain": [
       "287414"
      ]
     },
     "execution_count": 13,
     "metadata": {},
     "output_type": "execute_result"
    },
    {
     "name": "stdout",
     "output_type": "stream",
     "text": [
      "time: 1.83 ms\n"
     ]
    }
   ],
   "source": [
    "# Check the number of rows in C2\n",
    "len(C2)"
   ]
  },
  {
   "cell_type": "code",
   "execution_count": 14,
   "metadata": {
    "collapsed": false
   },
   "outputs": [
    {
     "data": {
      "text/html": [
       "<div>\n",
       "<table border=\"1\" class=\"dataframe\">\n",
       "  <thead>\n",
       "    <tr style=\"text-align: right;\">\n",
       "      <th></th>\n",
       "      <th>_id</th>\n",
       "      <th>ltable_id</th>\n",
       "      <th>rtable_id</th>\n",
       "      <th>ltable_title</th>\n",
       "      <th>ltable_authors</th>\n",
       "      <th>ltable_year</th>\n",
       "      <th>rtable_title</th>\n",
       "      <th>rtable_authors</th>\n",
       "      <th>rtable_year</th>\n",
       "    </tr>\n",
       "  </thead>\n",
       "  <tbody>\n",
       "    <tr>\n",
       "      <th>0</th>\n",
       "      <td>0</td>\n",
       "      <td>journals/vldb/LaurentLSV01</td>\n",
       "      <td>304586</td>\n",
       "      <td>Monotonic complements for independent data warehouses</td>\n",
       "      <td>spyratos lechtenbrger nicolas dominique vossen gottfried jens laurent</td>\n",
       "      <td>2001</td>\n",
       "      <td>The WASA2 object-oriented workflow management system</td>\n",
       "      <td>weske mathias vossen gottfried</td>\n",
       "      <td>1999</td>\n",
       "    </tr>\n",
       "    <tr>\n",
       "      <th>1</th>\n",
       "      <td>1</td>\n",
       "      <td>journals/sigmod/McClatcheyV97</td>\n",
       "      <td>304586</td>\n",
       "      <td>Workshop on Workflow Management in Scientific and Engineering Applications - Report</td>\n",
       "      <td>vossen mcclatchey gottfried richard</td>\n",
       "      <td>1997</td>\n",
       "      <td>The WASA2 object-oriented workflow management system</td>\n",
       "      <td>weske mathias vossen gottfried</td>\n",
       "      <td>1999</td>\n",
       "    </tr>\n",
       "  </tbody>\n",
       "</table>\n",
       "</div>"
      ],
      "text/plain": [
       "   _id                      ltable_id  rtable_id  \\\n",
       "0    0     journals/vldb/LaurentLSV01     304586   \n",
       "1    1  journals/sigmod/McClatcheyV97     304586   \n",
       "\n",
       "                                                                          ltable_title  \\\n",
       "0                                Monotonic complements for independent data warehouses   \n",
       "1  Workshop on Workflow Management in Scientific and Engineering Applications - Report   \n",
       "\n",
       "                                                          ltable_authors  \\\n",
       "0  spyratos lechtenbrger nicolas dominique vossen gottfried jens laurent   \n",
       "1                                    vossen mcclatchey gottfried richard   \n",
       "\n",
       "   ltable_year                                          rtable_title  \\\n",
       "0         2001  The WASA2 object-oriented workflow management system   \n",
       "1         1997  The WASA2 object-oriented workflow management system   \n",
       "\n",
       "                   rtable_authors  rtable_year  \n",
       "0  weske mathias vossen gottfried         1999  \n",
       "1  weske mathias vossen gottfried         1999  "
      ]
     },
     "execution_count": 14,
     "metadata": {},
     "output_type": "execute_result"
    },
    {
     "name": "stdout",
     "output_type": "stream",
     "text": [
      "time: 17.1 ms\n"
     ]
    }
   ],
   "source": [
    "# Display first two rows from C2\n",
    "C2.head(2)"
   ]
  },
  {
   "cell_type": "code",
   "execution_count": 15,
   "metadata": {
    "collapsed": false
   },
   "outputs": [
    {
     "name": "stdout",
     "output_type": "stream",
     "text": [
      "time: 1.43 s\n"
     ]
    }
   ],
   "source": [
    "# Combine blocker outputs\n",
    "C = mg.combine_blocker_outputs_via_union([C1, C2])"
   ]
  },
  {
   "cell_type": "code",
   "execution_count": 16,
   "metadata": {
    "collapsed": false
   },
   "outputs": [
    {
     "data": {
      "text/plain": [
       "857777"
      ]
     },
     "execution_count": 16,
     "metadata": {},
     "output_type": "execute_result"
    },
    {
     "name": "stdout",
     "output_type": "stream",
     "text": [
      "time: 2.29 ms\n"
     ]
    }
   ],
   "source": [
    "# Check the number of rows in the consolidated candidate set.\n",
    "len(C)"
   ]
  },
  {
   "cell_type": "code",
   "execution_count": 17,
   "metadata": {
    "collapsed": false
   },
   "outputs": [
    {
     "name": "stdout",
     "output_type": "stream",
     "text": [
      "time: 2.92 s\n"
     ]
    }
   ],
   "source": [
    "# Debug again\n",
    "dbg = mg.debug_blocker(C, A, B)"
   ]
  },
  {
   "cell_type": "code",
   "execution_count": 18,
   "metadata": {
    "collapsed": false
   },
   "outputs": [
    {
     "data": {
      "text/html": [
       "<div>\n",
       "<table border=\"1\" class=\"dataframe\">\n",
       "  <thead>\n",
       "    <tr style=\"text-align: right;\">\n",
       "      <th></th>\n",
       "      <th>_id</th>\n",
       "      <th>similarity</th>\n",
       "      <th>ltable_id</th>\n",
       "      <th>rtable_id</th>\n",
       "      <th>ltable_title</th>\n",
       "      <th>ltable_authors</th>\n",
       "      <th>ltable_venue</th>\n",
       "      <th>rtable_title</th>\n",
       "      <th>rtable_authors</th>\n",
       "      <th>rtable_venue</th>\n",
       "    </tr>\n",
       "  </thead>\n",
       "  <tbody>\n",
       "    <tr>\n",
       "      <th>0</th>\n",
       "      <td>0</td>\n",
       "      <td>0.555556</td>\n",
       "      <td>journals/sigmod/Dogac02</td>\n",
       "      <td>945727</td>\n",
       "      <td>Guest Editor's Introduction</td>\n",
       "      <td>Asuman Dogac</td>\n",
       "      <td>SIGMOD Record</td>\n",
       "      <td>Guest editor's introduction</td>\n",
       "      <td>Karl Aberer</td>\n",
       "      <td>SIGMOD Record</td>\n",
       "    </tr>\n",
       "    <tr>\n",
       "      <th>1</th>\n",
       "      <td>1</td>\n",
       "      <td>0.555556</td>\n",
       "      <td>journals/sigmod/Dogac98</td>\n",
       "      <td>945727</td>\n",
       "      <td>Guest Editor's Introduction</td>\n",
       "      <td>Asuman Dogac</td>\n",
       "      <td>SIGMOD Record</td>\n",
       "      <td>Guest editor's introduction</td>\n",
       "      <td>Karl Aberer</td>\n",
       "      <td>SIGMOD Record</td>\n",
       "    </tr>\n",
       "    <tr>\n",
       "      <th>2</th>\n",
       "      <td>2</td>\n",
       "      <td>0.500000</td>\n",
       "      <td>journals/sigmod/Snodgrass98a</td>\n",
       "      <td>641001</td>\n",
       "      <td>Reminiscences on Influential Papers</td>\n",
       "      <td>Richard T. Snodgrass</td>\n",
       "      <td>SIGMOD Record</td>\n",
       "      <td>Reminiscences on influential papers</td>\n",
       "      <td>Kenneth A. Ross</td>\n",
       "      <td>SIGMOD Record</td>\n",
       "    </tr>\n",
       "    <tr>\n",
       "      <th>3</th>\n",
       "      <td>3</td>\n",
       "      <td>0.500000</td>\n",
       "      <td>journals/sigmod/Snodgrass98a</td>\n",
       "      <td>602302</td>\n",
       "      <td>Reminiscences on Influential Papers</td>\n",
       "      <td>Richard T. Snodgrass</td>\n",
       "      <td>SIGMOD Record</td>\n",
       "      <td>Reminiscences on Influential Papers</td>\n",
       "      <td>Kenneth A. Ross</td>\n",
       "      <td>SIGMOD Record</td>\n",
       "    </tr>\n",
       "    <tr>\n",
       "      <th>4</th>\n",
       "      <td>4</td>\n",
       "      <td>0.500000</td>\n",
       "      <td>journals/sigmod/Snodgrass99b</td>\n",
       "      <td>603882</td>\n",
       "      <td>Reminiscences on Influential Papers</td>\n",
       "      <td>Richard T. Snodgrass</td>\n",
       "      <td>SIGMOD Record</td>\n",
       "      <td>Reminiscences on influential papers</td>\n",
       "      <td>Kenneth A. Ross</td>\n",
       "      <td>SIGMOD Record</td>\n",
       "    </tr>\n",
       "    <tr>\n",
       "      <th>5</th>\n",
       "      <td>5</td>\n",
       "      <td>0.500000</td>\n",
       "      <td>journals/sigmod/Snodgrass99b</td>\n",
       "      <td>507364</td>\n",
       "      <td>Reminiscences on Influential Papers</td>\n",
       "      <td>Richard T. Snodgrass</td>\n",
       "      <td>SIGMOD Record</td>\n",
       "      <td>Reminiscences on influential papers</td>\n",
       "      <td>Kenneth A. Ross</td>\n",
       "      <td>SIGMOD Record</td>\n",
       "    </tr>\n",
       "    <tr>\n",
       "      <th>6</th>\n",
       "      <td>6</td>\n",
       "      <td>0.500000</td>\n",
       "      <td>journals/sigmod/Snodgrass98a</td>\n",
       "      <td>507364</td>\n",
       "      <td>Reminiscences on Influential Papers</td>\n",
       "      <td>Richard T. Snodgrass</td>\n",
       "      <td>SIGMOD Record</td>\n",
       "      <td>Reminiscences on influential papers</td>\n",
       "      <td>Kenneth A. Ross</td>\n",
       "      <td>SIGMOD Record</td>\n",
       "    </tr>\n",
       "    <tr>\n",
       "      <th>7</th>\n",
       "      <td>7</td>\n",
       "      <td>0.500000</td>\n",
       "      <td>journals/sigmod/Snodgrass98a</td>\n",
       "      <td>603882</td>\n",
       "      <td>Reminiscences on Influential Papers</td>\n",
       "      <td>Richard T. Snodgrass</td>\n",
       "      <td>SIGMOD Record</td>\n",
       "      <td>Reminiscences on influential papers</td>\n",
       "      <td>Kenneth A. Ross</td>\n",
       "      <td>SIGMOD Record</td>\n",
       "    </tr>\n",
       "    <tr>\n",
       "      <th>8</th>\n",
       "      <td>8</td>\n",
       "      <td>0.500000</td>\n",
       "      <td>journals/sigmod/Snodgrass99b</td>\n",
       "      <td>604262</td>\n",
       "      <td>Reminiscences on Influential Papers</td>\n",
       "      <td>Richard T. Snodgrass</td>\n",
       "      <td>SIGMOD Record</td>\n",
       "      <td>Reminiscences on Influential Papers</td>\n",
       "      <td>Kenneth A. Ross</td>\n",
       "      <td>SIGMOD Record</td>\n",
       "    </tr>\n",
       "    <tr>\n",
       "      <th>9</th>\n",
       "      <td>9</td>\n",
       "      <td>0.500000</td>\n",
       "      <td>journals/sigmod/Snodgrass98a</td>\n",
       "      <td>604262</td>\n",
       "      <td>Reminiscences on Influential Papers</td>\n",
       "      <td>Richard T. Snodgrass</td>\n",
       "      <td>SIGMOD Record</td>\n",
       "      <td>Reminiscences on Influential Papers</td>\n",
       "      <td>Kenneth A. Ross</td>\n",
       "      <td>SIGMOD Record</td>\n",
       "    </tr>\n",
       "  </tbody>\n",
       "</table>\n",
       "</div>"
      ],
      "text/plain": [
       "   _id  similarity                     ltable_id  rtable_id  \\\n",
       "0    0    0.555556       journals/sigmod/Dogac02     945727   \n",
       "1    1    0.555556       journals/sigmod/Dogac98     945727   \n",
       "2    2    0.500000  journals/sigmod/Snodgrass98a     641001   \n",
       "3    3    0.500000  journals/sigmod/Snodgrass98a     602302   \n",
       "4    4    0.500000  journals/sigmod/Snodgrass99b     603882   \n",
       "5    5    0.500000  journals/sigmod/Snodgrass99b     507364   \n",
       "6    6    0.500000  journals/sigmod/Snodgrass98a     507364   \n",
       "7    7    0.500000  journals/sigmod/Snodgrass98a     603882   \n",
       "8    8    0.500000  journals/sigmod/Snodgrass99b     604262   \n",
       "9    9    0.500000  journals/sigmod/Snodgrass98a     604262   \n",
       "\n",
       "                          ltable_title        ltable_authors   ltable_venue  \\\n",
       "0          Guest Editor's Introduction          Asuman Dogac  SIGMOD Record   \n",
       "1          Guest Editor's Introduction          Asuman Dogac  SIGMOD Record   \n",
       "2  Reminiscences on Influential Papers  Richard T. Snodgrass  SIGMOD Record   \n",
       "3  Reminiscences on Influential Papers  Richard T. Snodgrass  SIGMOD Record   \n",
       "4  Reminiscences on Influential Papers  Richard T. Snodgrass  SIGMOD Record   \n",
       "5  Reminiscences on Influential Papers  Richard T. Snodgrass  SIGMOD Record   \n",
       "6  Reminiscences on Influential Papers  Richard T. Snodgrass  SIGMOD Record   \n",
       "7  Reminiscences on Influential Papers  Richard T. Snodgrass  SIGMOD Record   \n",
       "8  Reminiscences on Influential Papers  Richard T. Snodgrass  SIGMOD Record   \n",
       "9  Reminiscences on Influential Papers  Richard T. Snodgrass  SIGMOD Record   \n",
       "\n",
       "                          rtable_title   rtable_authors   rtable_venue  \n",
       "0          Guest editor's introduction      Karl Aberer  SIGMOD Record  \n",
       "1          Guest editor's introduction      Karl Aberer  SIGMOD Record  \n",
       "2  Reminiscences on influential papers  Kenneth A. Ross  SIGMOD Record  \n",
       "3  Reminiscences on Influential Papers  Kenneth A. Ross  SIGMOD Record  \n",
       "4  Reminiscences on influential papers  Kenneth A. Ross  SIGMOD Record  \n",
       "5  Reminiscences on influential papers  Kenneth A. Ross  SIGMOD Record  \n",
       "6  Reminiscences on influential papers  Kenneth A. Ross  SIGMOD Record  \n",
       "7  Reminiscences on influential papers  Kenneth A. Ross  SIGMOD Record  \n",
       "8  Reminiscences on Influential Papers  Kenneth A. Ross  SIGMOD Record  \n",
       "9  Reminiscences on Influential Papers  Kenneth A. Ross  SIGMOD Record  "
      ]
     },
     "execution_count": 18,
     "metadata": {},
     "output_type": "execute_result"
    },
    {
     "name": "stdout",
     "output_type": "stream",
     "text": [
      "time: 19.4 ms\n"
     ]
    }
   ],
   "source": [
    "# Display first few rows from the debugger output\n",
    "dbg.head(10)"
   ]
  },
  {
   "cell_type": "code",
   "execution_count": 19,
   "metadata": {
    "collapsed": false
   },
   "outputs": [
    {
     "name": "stdout",
     "output_type": "stream",
     "text": [
      "time: 2.92 ms\n"
     ]
    }
   ],
   "source": [
    "%run demo_blocker.py"
   ]
  },
  {
   "cell_type": "code",
   "execution_count": 24,
   "metadata": {
    "collapsed": false
   },
   "outputs": [
    {
     "data": {
      "text/plain": [
       "19"
      ]
     },
     "execution_count": 24,
     "metadata": {},
     "output_type": "execute_result"
    },
    {
     "name": "stdout",
     "output_type": "stream",
     "text": [
      "time: 2.38 ms\n"
     ]
    }
   ],
   "source": [
    "a = 1999\n",
    "a//100"
   ]
  },
  {
   "cell_type": "code",
   "execution_count": 25,
   "metadata": {
    "collapsed": false
   },
   "outputs": [
    {
     "name": "stdout",
     "output_type": "stream",
     "text": [
      "time: 1.62 ms\n"
     ]
    }
   ],
   "source": [
    "myab = MyBlocker()\n",
    "def fn(x):\n",
    "    \n",
    "    return x//100\n",
    "myab.set_blackbox_function(fn)"
   ]
  },
  {
   "cell_type": "code",
   "execution_count": 26,
   "metadata": {
    "collapsed": false
   },
   "outputs": [
    {
     "name": "stdout",
     "output_type": "stream",
     "text": [
      "time: 987 ms\n"
     ]
    }
   ],
   "source": [
    "C1 = myab.block_tables(A, B, 'year', 'year')"
   ]
  },
  {
   "cell_type": "code",
   "execution_count": 27,
   "metadata": {
    "collapsed": false
   },
   "outputs": [
    {
     "data": {
      "text/html": [
       "<div>\n",
       "<table border=\"1\" class=\"dataframe\">\n",
       "  <thead>\n",
       "    <tr style=\"text-align: right;\">\n",
       "      <th></th>\n",
       "      <th>_id</th>\n",
       "      <th>ltable_id</th>\n",
       "      <th>rtable_id</th>\n",
       "      <th>ltable_year</th>\n",
       "      <th>rtable_year</th>\n",
       "    </tr>\n",
       "  </thead>\n",
       "  <tbody>\n",
       "    <tr>\n",
       "      <th>0</th>\n",
       "      <td>0</td>\n",
       "      <td>journals/sigmod/Mackay99</td>\n",
       "      <td>304586</td>\n",
       "      <td>1999</td>\n",
       "      <td>1999</td>\n",
       "    </tr>\n",
       "    <tr>\n",
       "      <th>1</th>\n",
       "      <td>1</td>\n",
       "      <td>journals/sigmod/Mackay99</td>\n",
       "      <td>304587</td>\n",
       "      <td>1999</td>\n",
       "      <td>1999</td>\n",
       "    </tr>\n",
       "    <tr>\n",
       "      <th>2</th>\n",
       "      <td>2</td>\n",
       "      <td>journals/sigmod/Mackay99</td>\n",
       "      <td>304589</td>\n",
       "      <td>1999</td>\n",
       "      <td>1999</td>\n",
       "    </tr>\n",
       "    <tr>\n",
       "      <th>3</th>\n",
       "      <td>3</td>\n",
       "      <td>journals/sigmod/Mackay99</td>\n",
       "      <td>304590</td>\n",
       "      <td>1999</td>\n",
       "      <td>1999</td>\n",
       "    </tr>\n",
       "    <tr>\n",
       "      <th>4</th>\n",
       "      <td>4</td>\n",
       "      <td>journals/sigmod/Mackay99</td>\n",
       "      <td>304582</td>\n",
       "      <td>1999</td>\n",
       "      <td>1999</td>\n",
       "    </tr>\n",
       "    <tr>\n",
       "      <th>5</th>\n",
       "      <td>5</td>\n",
       "      <td>journals/sigmod/Mackay99</td>\n",
       "      <td>304583</td>\n",
       "      <td>1999</td>\n",
       "      <td>1999</td>\n",
       "    </tr>\n",
       "    <tr>\n",
       "      <th>6</th>\n",
       "      <td>6</td>\n",
       "      <td>journals/sigmod/Mackay99</td>\n",
       "      <td>304584</td>\n",
       "      <td>1999</td>\n",
       "      <td>1999</td>\n",
       "    </tr>\n",
       "    <tr>\n",
       "      <th>7</th>\n",
       "      <td>7</td>\n",
       "      <td>journals/sigmod/Mackay99</td>\n",
       "      <td>304585</td>\n",
       "      <td>1999</td>\n",
       "      <td>1999</td>\n",
       "    </tr>\n",
       "    <tr>\n",
       "      <th>8</th>\n",
       "      <td>8</td>\n",
       "      <td>journals/sigmod/Mackay99</td>\n",
       "      <td>306112</td>\n",
       "      <td>1999</td>\n",
       "      <td>1998</td>\n",
       "    </tr>\n",
       "    <tr>\n",
       "      <th>9</th>\n",
       "      <td>9</td>\n",
       "      <td>journals/sigmod/Mackay99</td>\n",
       "      <td>306115</td>\n",
       "      <td>1999</td>\n",
       "      <td>1998</td>\n",
       "    </tr>\n",
       "    <tr>\n",
       "      <th>10</th>\n",
       "      <td>10</td>\n",
       "      <td>journals/sigmod/Mackay99</td>\n",
       "      <td>306119</td>\n",
       "      <td>1999</td>\n",
       "      <td>1998</td>\n",
       "    </tr>\n",
       "    <tr>\n",
       "      <th>11</th>\n",
       "      <td>11</td>\n",
       "      <td>journals/sigmod/Mackay99</td>\n",
       "      <td>306124</td>\n",
       "      <td>1999</td>\n",
       "      <td>1998</td>\n",
       "    </tr>\n",
       "    <tr>\n",
       "      <th>12</th>\n",
       "      <td>12</td>\n",
       "      <td>journals/sigmod/Mackay99</td>\n",
       "      <td>306102</td>\n",
       "      <td>1999</td>\n",
       "      <td>1998</td>\n",
       "    </tr>\n",
       "    <tr>\n",
       "      <th>13</th>\n",
       "      <td>13</td>\n",
       "      <td>journals/sigmod/Mackay99</td>\n",
       "      <td>306103</td>\n",
       "      <td>1999</td>\n",
       "      <td>1998</td>\n",
       "    </tr>\n",
       "    <tr>\n",
       "      <th>14</th>\n",
       "      <td>14</td>\n",
       "      <td>journals/sigmod/Mackay99</td>\n",
       "      <td>306105</td>\n",
       "      <td>1999</td>\n",
       "      <td>1998</td>\n",
       "    </tr>\n",
       "    <tr>\n",
       "      <th>15</th>\n",
       "      <td>15</td>\n",
       "      <td>journals/sigmod/Mackay99</td>\n",
       "      <td>306109</td>\n",
       "      <td>1999</td>\n",
       "      <td>1998</td>\n",
       "    </tr>\n",
       "    <tr>\n",
       "      <th>16</th>\n",
       "      <td>16</td>\n",
       "      <td>journals/sigmod/Mackay99</td>\n",
       "      <td>304571</td>\n",
       "      <td>1999</td>\n",
       "      <td>1999</td>\n",
       "    </tr>\n",
       "    <tr>\n",
       "      <th>17</th>\n",
       "      <td>17</td>\n",
       "      <td>journals/sigmod/Mackay99</td>\n",
       "      <td>304570</td>\n",
       "      <td>1999</td>\n",
       "      <td>1999</td>\n",
       "    </tr>\n",
       "    <tr>\n",
       "      <th>18</th>\n",
       "      <td>18</td>\n",
       "      <td>journals/sigmod/Mackay99</td>\n",
       "      <td>304573</td>\n",
       "      <td>1999</td>\n",
       "      <td>1999</td>\n",
       "    </tr>\n",
       "    <tr>\n",
       "      <th>19</th>\n",
       "      <td>19</td>\n",
       "      <td>journals/sigmod/Mackay99</td>\n",
       "      <td>304572</td>\n",
       "      <td>1999</td>\n",
       "      <td>1999</td>\n",
       "    </tr>\n",
       "    <tr>\n",
       "      <th>20</th>\n",
       "      <td>20</td>\n",
       "      <td>journals/sigmod/Mackay99</td>\n",
       "      <td>304250</td>\n",
       "      <td>1999</td>\n",
       "      <td>1999</td>\n",
       "    </tr>\n",
       "    <tr>\n",
       "      <th>21</th>\n",
       "      <td>21</td>\n",
       "      <td>journals/sigmod/Mackay99</td>\n",
       "      <td>304248</td>\n",
       "      <td>1999</td>\n",
       "      <td>1999</td>\n",
       "    </tr>\n",
       "    <tr>\n",
       "      <th>22</th>\n",
       "      <td>22</td>\n",
       "      <td>journals/sigmod/Mackay99</td>\n",
       "      <td>304569</td>\n",
       "      <td>1999</td>\n",
       "      <td>1999</td>\n",
       "    </tr>\n",
       "    <tr>\n",
       "      <th>23</th>\n",
       "      <td>23</td>\n",
       "      <td>journals/sigmod/Mackay99</td>\n",
       "      <td>304568</td>\n",
       "      <td>1999</td>\n",
       "      <td>1999</td>\n",
       "    </tr>\n",
       "    <tr>\n",
       "      <th>24</th>\n",
       "      <td>24</td>\n",
       "      <td>journals/sigmod/Mackay99</td>\n",
       "      <td>304579</td>\n",
       "      <td>1999</td>\n",
       "      <td>1999</td>\n",
       "    </tr>\n",
       "    <tr>\n",
       "      <th>25</th>\n",
       "      <td>25</td>\n",
       "      <td>journals/sigmod/Mackay99</td>\n",
       "      <td>304578</td>\n",
       "      <td>1999</td>\n",
       "      <td>1999</td>\n",
       "    </tr>\n",
       "    <tr>\n",
       "      <th>26</th>\n",
       "      <td>26</td>\n",
       "      <td>journals/sigmod/Mackay99</td>\n",
       "      <td>304581</td>\n",
       "      <td>1999</td>\n",
       "      <td>1999</td>\n",
       "    </tr>\n",
       "    <tr>\n",
       "      <th>27</th>\n",
       "      <td>27</td>\n",
       "      <td>journals/sigmod/Mackay99</td>\n",
       "      <td>304580</td>\n",
       "      <td>1999</td>\n",
       "      <td>1999</td>\n",
       "    </tr>\n",
       "    <tr>\n",
       "      <th>28</th>\n",
       "      <td>28</td>\n",
       "      <td>journals/sigmod/Mackay99</td>\n",
       "      <td>304575</td>\n",
       "      <td>1999</td>\n",
       "      <td>1999</td>\n",
       "    </tr>\n",
       "    <tr>\n",
       "      <th>29</th>\n",
       "      <td>29</td>\n",
       "      <td>journals/sigmod/Mackay99</td>\n",
       "      <td>304574</td>\n",
       "      <td>1999</td>\n",
       "      <td>1999</td>\n",
       "    </tr>\n",
       "    <tr>\n",
       "      <th>30</th>\n",
       "      <td>30</td>\n",
       "      <td>journals/sigmod/Mackay99</td>\n",
       "      <td>304577</td>\n",
       "      <td>1999</td>\n",
       "      <td>1999</td>\n",
       "    </tr>\n",
       "    <tr>\n",
       "      <th>31</th>\n",
       "      <td>31</td>\n",
       "      <td>journals/sigmod/Mackay99</td>\n",
       "      <td>304576</td>\n",
       "      <td>1999</td>\n",
       "      <td>1999</td>\n",
       "    </tr>\n",
       "    <tr>\n",
       "      <th>32</th>\n",
       "      <td>32</td>\n",
       "      <td>journals/sigmod/Mackay99</td>\n",
       "      <td>304235</td>\n",
       "      <td>1999</td>\n",
       "      <td>1999</td>\n",
       "    </tr>\n",
       "    <tr>\n",
       "      <th>33</th>\n",
       "      <td>33</td>\n",
       "      <td>journals/sigmod/Mackay99</td>\n",
       "      <td>304236</td>\n",
       "      <td>1999</td>\n",
       "      <td>1999</td>\n",
       "    </tr>\n",
       "    <tr>\n",
       "      <th>34</th>\n",
       "      <td>34</td>\n",
       "      <td>journals/sigmod/Mackay99</td>\n",
       "      <td>304233</td>\n",
       "      <td>1999</td>\n",
       "      <td>1999</td>\n",
       "    </tr>\n",
       "    <tr>\n",
       "      <th>35</th>\n",
       "      <td>35</td>\n",
       "      <td>journals/sigmod/Mackay99</td>\n",
       "      <td>304234</td>\n",
       "      <td>1999</td>\n",
       "      <td>1999</td>\n",
       "    </tr>\n",
       "    <tr>\n",
       "      <th>36</th>\n",
       "      <td>36</td>\n",
       "      <td>journals/sigmod/Mackay99</td>\n",
       "      <td>304231</td>\n",
       "      <td>1999</td>\n",
       "      <td>1999</td>\n",
       "    </tr>\n",
       "    <tr>\n",
       "      <th>37</th>\n",
       "      <td>37</td>\n",
       "      <td>journals/sigmod/Mackay99</td>\n",
       "      <td>304232</td>\n",
       "      <td>1999</td>\n",
       "      <td>1999</td>\n",
       "    </tr>\n",
       "    <tr>\n",
       "      <th>38</th>\n",
       "      <td>38</td>\n",
       "      <td>journals/sigmod/Mackay99</td>\n",
       "      <td>304229</td>\n",
       "      <td>1999</td>\n",
       "      <td>1999</td>\n",
       "    </tr>\n",
       "    <tr>\n",
       "      <th>39</th>\n",
       "      <td>39</td>\n",
       "      <td>journals/sigmod/Mackay99</td>\n",
       "      <td>304230</td>\n",
       "      <td>1999</td>\n",
       "      <td>1999</td>\n",
       "    </tr>\n",
       "    <tr>\n",
       "      <th>40</th>\n",
       "      <td>40</td>\n",
       "      <td>journals/sigmod/Mackay99</td>\n",
       "      <td>304245</td>\n",
       "      <td>1999</td>\n",
       "      <td>1999</td>\n",
       "    </tr>\n",
       "    <tr>\n",
       "      <th>41</th>\n",
       "      <td>41</td>\n",
       "      <td>journals/sigmod/Mackay99</td>\n",
       "      <td>304246</td>\n",
       "      <td>1999</td>\n",
       "      <td>1999</td>\n",
       "    </tr>\n",
       "    <tr>\n",
       "      <th>42</th>\n",
       "      <td>42</td>\n",
       "      <td>journals/sigmod/Mackay99</td>\n",
       "      <td>304243</td>\n",
       "      <td>1999</td>\n",
       "      <td>1999</td>\n",
       "    </tr>\n",
       "    <tr>\n",
       "      <th>43</th>\n",
       "      <td>43</td>\n",
       "      <td>journals/sigmod/Mackay99</td>\n",
       "      <td>304244</td>\n",
       "      <td>1999</td>\n",
       "      <td>1999</td>\n",
       "    </tr>\n",
       "    <tr>\n",
       "      <th>44</th>\n",
       "      <td>44</td>\n",
       "      <td>journals/sigmod/Mackay99</td>\n",
       "      <td>304241</td>\n",
       "      <td>1999</td>\n",
       "      <td>1999</td>\n",
       "    </tr>\n",
       "    <tr>\n",
       "      <th>45</th>\n",
       "      <td>45</td>\n",
       "      <td>journals/sigmod/Mackay99</td>\n",
       "      <td>304242</td>\n",
       "      <td>1999</td>\n",
       "      <td>1999</td>\n",
       "    </tr>\n",
       "    <tr>\n",
       "      <th>46</th>\n",
       "      <td>46</td>\n",
       "      <td>journals/sigmod/Mackay99</td>\n",
       "      <td>304239</td>\n",
       "      <td>1999</td>\n",
       "      <td>1999</td>\n",
       "    </tr>\n",
       "    <tr>\n",
       "      <th>47</th>\n",
       "      <td>47</td>\n",
       "      <td>journals/sigmod/Mackay99</td>\n",
       "      <td>304240</td>\n",
       "      <td>1999</td>\n",
       "      <td>1999</td>\n",
       "    </tr>\n",
       "    <tr>\n",
       "      <th>48</th>\n",
       "      <td>48</td>\n",
       "      <td>journals/sigmod/Mackay99</td>\n",
       "      <td>304220</td>\n",
       "      <td>1999</td>\n",
       "      <td>1999</td>\n",
       "    </tr>\n",
       "    <tr>\n",
       "      <th>49</th>\n",
       "      <td>49</td>\n",
       "      <td>journals/sigmod/Mackay99</td>\n",
       "      <td>304219</td>\n",
       "      <td>1999</td>\n",
       "      <td>1999</td>\n",
       "    </tr>\n",
       "  </tbody>\n",
       "</table>\n",
       "</div>"
      ],
      "text/plain": [
       "    _id                 ltable_id  rtable_id  ltable_year  rtable_year\n",
       "0     0  journals/sigmod/Mackay99     304586         1999         1999\n",
       "1     1  journals/sigmod/Mackay99     304587         1999         1999\n",
       "2     2  journals/sigmod/Mackay99     304589         1999         1999\n",
       "3     3  journals/sigmod/Mackay99     304590         1999         1999\n",
       "4     4  journals/sigmod/Mackay99     304582         1999         1999\n",
       "5     5  journals/sigmod/Mackay99     304583         1999         1999\n",
       "6     6  journals/sigmod/Mackay99     304584         1999         1999\n",
       "7     7  journals/sigmod/Mackay99     304585         1999         1999\n",
       "8     8  journals/sigmod/Mackay99     306112         1999         1998\n",
       "9     9  journals/sigmod/Mackay99     306115         1999         1998\n",
       "10   10  journals/sigmod/Mackay99     306119         1999         1998\n",
       "11   11  journals/sigmod/Mackay99     306124         1999         1998\n",
       "12   12  journals/sigmod/Mackay99     306102         1999         1998\n",
       "13   13  journals/sigmod/Mackay99     306103         1999         1998\n",
       "14   14  journals/sigmod/Mackay99     306105         1999         1998\n",
       "15   15  journals/sigmod/Mackay99     306109         1999         1998\n",
       "16   16  journals/sigmod/Mackay99     304571         1999         1999\n",
       "17   17  journals/sigmod/Mackay99     304570         1999         1999\n",
       "18   18  journals/sigmod/Mackay99     304573         1999         1999\n",
       "19   19  journals/sigmod/Mackay99     304572         1999         1999\n",
       "20   20  journals/sigmod/Mackay99     304250         1999         1999\n",
       "21   21  journals/sigmod/Mackay99     304248         1999         1999\n",
       "22   22  journals/sigmod/Mackay99     304569         1999         1999\n",
       "23   23  journals/sigmod/Mackay99     304568         1999         1999\n",
       "24   24  journals/sigmod/Mackay99     304579         1999         1999\n",
       "25   25  journals/sigmod/Mackay99     304578         1999         1999\n",
       "26   26  journals/sigmod/Mackay99     304581         1999         1999\n",
       "27   27  journals/sigmod/Mackay99     304580         1999         1999\n",
       "28   28  journals/sigmod/Mackay99     304575         1999         1999\n",
       "29   29  journals/sigmod/Mackay99     304574         1999         1999\n",
       "30   30  journals/sigmod/Mackay99     304577         1999         1999\n",
       "31   31  journals/sigmod/Mackay99     304576         1999         1999\n",
       "32   32  journals/sigmod/Mackay99     304235         1999         1999\n",
       "33   33  journals/sigmod/Mackay99     304236         1999         1999\n",
       "34   34  journals/sigmod/Mackay99     304233         1999         1999\n",
       "35   35  journals/sigmod/Mackay99     304234         1999         1999\n",
       "36   36  journals/sigmod/Mackay99     304231         1999         1999\n",
       "37   37  journals/sigmod/Mackay99     304232         1999         1999\n",
       "38   38  journals/sigmod/Mackay99     304229         1999         1999\n",
       "39   39  journals/sigmod/Mackay99     304230         1999         1999\n",
       "40   40  journals/sigmod/Mackay99     304245         1999         1999\n",
       "41   41  journals/sigmod/Mackay99     304246         1999         1999\n",
       "42   42  journals/sigmod/Mackay99     304243         1999         1999\n",
       "43   43  journals/sigmod/Mackay99     304244         1999         1999\n",
       "44   44  journals/sigmod/Mackay99     304241         1999         1999\n",
       "45   45  journals/sigmod/Mackay99     304242         1999         1999\n",
       "46   46  journals/sigmod/Mackay99     304239         1999         1999\n",
       "47   47  journals/sigmod/Mackay99     304240         1999         1999\n",
       "48   48  journals/sigmod/Mackay99     304220         1999         1999\n",
       "49   49  journals/sigmod/Mackay99     304219         1999         1999"
      ]
     },
     "execution_count": 27,
     "metadata": {},
     "output_type": "execute_result"
    },
    {
     "name": "stdout",
     "output_type": "stream",
     "text": [
      "time: 70.3 ms\n"
     ]
    }
   ],
   "source": [
    "C1.head(50)"
   ]
  }
 ],
 "metadata": {
  "anaconda-cloud": {},
  "kernelspec": {
   "display_name": "Python [Root]",
   "language": "python",
   "name": "Python [Root]"
  },
  "language_info": {
   "codemirror_mode": {
    "name": "ipython",
    "version": 3
   },
   "file_extension": ".py",
   "mimetype": "text/x-python",
   "name": "python",
   "nbconvert_exporter": "python",
   "pygments_lexer": "ipython3",
   "version": "3.5.2"
  }
 },
 "nbformat": 4,
 "nbformat_minor": 0
}
