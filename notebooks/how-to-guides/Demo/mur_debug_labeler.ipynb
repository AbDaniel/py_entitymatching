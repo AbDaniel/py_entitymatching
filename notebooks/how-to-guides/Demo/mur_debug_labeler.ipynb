{
 "cells": [
  {
   "cell_type": "code",
   "execution_count": 1,
   "metadata": {
    "collapsed": false
   },
   "outputs": [],
   "source": [
    "%load_ext autotime\n",
    "import sys\n",
    "sys.path.append('/Users/pradap/Documents/Research/Python-Package/anhaid/py_entitymatching/')"
   ]
  },
  {
   "cell_type": "code",
   "execution_count": 2,
   "metadata": {
    "collapsed": false
   },
   "outputs": [
    {
     "name": "stdout",
     "output_type": "stream",
     "text": [
      "time: 1.33 s\n"
     ]
    }
   ],
   "source": [
    "import py_entitymatching as em"
   ]
  },
  {
   "cell_type": "code",
   "execution_count": 3,
   "metadata": {
    "collapsed": false
   },
   "outputs": [
    {
     "name": "stdout",
     "output_type": "stream",
     "text": [
      "time: 5.85 ms\n"
     ]
    }
   ],
   "source": [
    "A = em.load_dataset('person_table_A', key='ID')\n",
    "B = em.load_dataset('person_table_B', key='ID')"
   ]
  },
  {
   "cell_type": "code",
   "execution_count": 4,
   "metadata": {
    "collapsed": false
   },
   "outputs": [
    {
     "data": {
      "text/html": [
       "<div>\n",
       "<table border=\"1\" class=\"dataframe\">\n",
       "  <thead>\n",
       "    <tr style=\"text-align: right;\">\n",
       "      <th></th>\n",
       "      <th>ID</th>\n",
       "      <th>name</th>\n",
       "      <th>birth_year</th>\n",
       "      <th>hourly_wage</th>\n",
       "      <th>address</th>\n",
       "      <th>zipcode</th>\n",
       "    </tr>\n",
       "  </thead>\n",
       "  <tbody>\n",
       "    <tr>\n",
       "      <th>0</th>\n",
       "      <td>a1</td>\n",
       "      <td>Kevin Smith</td>\n",
       "      <td>1989</td>\n",
       "      <td>30.0</td>\n",
       "      <td>607 From St, San Francisco</td>\n",
       "      <td>94107</td>\n",
       "    </tr>\n",
       "    <tr>\n",
       "      <th>1</th>\n",
       "      <td>a2</td>\n",
       "      <td>Michael Franklin</td>\n",
       "      <td>1988</td>\n",
       "      <td>27.5</td>\n",
       "      <td>1652 Stockton St, San Francisco</td>\n",
       "      <td>94122</td>\n",
       "    </tr>\n",
       "    <tr>\n",
       "      <th>2</th>\n",
       "      <td>a3</td>\n",
       "      <td>William Bridge</td>\n",
       "      <td>1986</td>\n",
       "      <td>32.0</td>\n",
       "      <td>3131 Webster St, San Francisco</td>\n",
       "      <td>94107</td>\n",
       "    </tr>\n",
       "    <tr>\n",
       "      <th>3</th>\n",
       "      <td>a4</td>\n",
       "      <td>Binto George</td>\n",
       "      <td>1987</td>\n",
       "      <td>32.5</td>\n",
       "      <td>423 Powell St, San Francisco</td>\n",
       "      <td>94122</td>\n",
       "    </tr>\n",
       "    <tr>\n",
       "      <th>4</th>\n",
       "      <td>a5</td>\n",
       "      <td>Alphonse Kemper</td>\n",
       "      <td>1984</td>\n",
       "      <td>35.0</td>\n",
       "      <td>1702 Post Street, San Francisco</td>\n",
       "      <td>94122</td>\n",
       "    </tr>\n",
       "  </tbody>\n",
       "</table>\n",
       "</div>"
      ],
      "text/plain": [
       "   ID              name  birth_year  hourly_wage  \\\n",
       "0  a1       Kevin Smith        1989         30.0   \n",
       "1  a2  Michael Franklin        1988         27.5   \n",
       "2  a3    William Bridge        1986         32.0   \n",
       "3  a4      Binto George        1987         32.5   \n",
       "4  a5   Alphonse Kemper        1984         35.0   \n",
       "\n",
       "                           address  zipcode  \n",
       "0       607 From St, San Francisco    94107  \n",
       "1  1652 Stockton St, San Francisco    94122  \n",
       "2   3131 Webster St, San Francisco    94107  \n",
       "3     423 Powell St, San Francisco    94122  \n",
       "4  1702 Post Street, San Francisco    94122  "
      ]
     },
     "execution_count": 4,
     "metadata": {},
     "output_type": "execute_result"
    },
    {
     "name": "stdout",
     "output_type": "stream",
     "text": [
      "time: 40.4 ms\n"
     ]
    }
   ],
   "source": [
    "A"
   ]
  },
  {
   "cell_type": "code",
   "execution_count": 5,
   "metadata": {
    "collapsed": false
   },
   "outputs": [
    {
     "data": {
      "text/html": [
       "<div>\n",
       "<table border=\"1\" class=\"dataframe\">\n",
       "  <thead>\n",
       "    <tr style=\"text-align: right;\">\n",
       "      <th></th>\n",
       "      <th>ID</th>\n",
       "      <th>name</th>\n",
       "      <th>birth_year</th>\n",
       "      <th>hourly_wage</th>\n",
       "      <th>address</th>\n",
       "      <th>zipcode</th>\n",
       "    </tr>\n",
       "  </thead>\n",
       "  <tbody>\n",
       "    <tr>\n",
       "      <th>0</th>\n",
       "      <td>b1</td>\n",
       "      <td>Mark Levene</td>\n",
       "      <td>1987</td>\n",
       "      <td>29.5</td>\n",
       "      <td>108 Clement St, San Francisco</td>\n",
       "      <td>94107</td>\n",
       "    </tr>\n",
       "    <tr>\n",
       "      <th>1</th>\n",
       "      <td>b2</td>\n",
       "      <td>Bill Bridge</td>\n",
       "      <td>1986</td>\n",
       "      <td>32.0</td>\n",
       "      <td>3131 Webster St, San Francisco</td>\n",
       "      <td>94107</td>\n",
       "    </tr>\n",
       "    <tr>\n",
       "      <th>2</th>\n",
       "      <td>b3</td>\n",
       "      <td>Mike Franklin</td>\n",
       "      <td>1988</td>\n",
       "      <td>27.5</td>\n",
       "      <td>1652 Stockton St, San Francisco</td>\n",
       "      <td>94122</td>\n",
       "    </tr>\n",
       "    <tr>\n",
       "      <th>3</th>\n",
       "      <td>b4</td>\n",
       "      <td>Joseph Kuan</td>\n",
       "      <td>1982</td>\n",
       "      <td>26.0</td>\n",
       "      <td>108 South Park, San Francisco</td>\n",
       "      <td>94122</td>\n",
       "    </tr>\n",
       "    <tr>\n",
       "      <th>4</th>\n",
       "      <td>b5</td>\n",
       "      <td>Alfons Kemper</td>\n",
       "      <td>1984</td>\n",
       "      <td>35.0</td>\n",
       "      <td>170 Post St, Apt 4,  San Francisco</td>\n",
       "      <td>94122</td>\n",
       "    </tr>\n",
       "    <tr>\n",
       "      <th>5</th>\n",
       "      <td>b6</td>\n",
       "      <td>Michael Brodie</td>\n",
       "      <td>1987</td>\n",
       "      <td>32.5</td>\n",
       "      <td>133 Clement Street, San Francisco</td>\n",
       "      <td>94107</td>\n",
       "    </tr>\n",
       "  </tbody>\n",
       "</table>\n",
       "</div>"
      ],
      "text/plain": [
       "   ID            name  birth_year  hourly_wage  \\\n",
       "0  b1     Mark Levene        1987         29.5   \n",
       "1  b2     Bill Bridge        1986         32.0   \n",
       "2  b3   Mike Franklin        1988         27.5   \n",
       "3  b4     Joseph Kuan        1982         26.0   \n",
       "4  b5   Alfons Kemper        1984         35.0   \n",
       "5  b6  Michael Brodie        1987         32.5   \n",
       "\n",
       "                              address  zipcode  \n",
       "0       108 Clement St, San Francisco    94107  \n",
       "1      3131 Webster St, San Francisco    94107  \n",
       "2     1652 Stockton St, San Francisco    94122  \n",
       "3       108 South Park, San Francisco    94122  \n",
       "4  170 Post St, Apt 4,  San Francisco    94122  \n",
       "5   133 Clement Street, San Francisco    94107  "
      ]
     },
     "execution_count": 5,
     "metadata": {},
     "output_type": "execute_result"
    },
    {
     "name": "stdout",
     "output_type": "stream",
     "text": [
      "time: 21.4 ms\n"
     ]
    }
   ],
   "source": [
    "B"
   ]
  },
  {
   "cell_type": "code",
   "execution_count": 6,
   "metadata": {
    "collapsed": false
   },
   "outputs": [
    {
     "name": "stdout",
     "output_type": "stream",
     "text": [
      "time: 4.12 ms\n"
     ]
    }
   ],
   "source": [
    "L = em.read_csv_metadata('../../../garage/person_labeled_data.csv', key='_id', \n",
    "                         fk_ltable='ltable_ID', fk_rtable='rtable_ID',\n",
    "                        ltable=A, rtable=B)"
   ]
  },
  {
   "cell_type": "code",
   "execution_count": 7,
   "metadata": {
    "collapsed": false
   },
   "outputs": [
    {
     "name": "stdout",
     "output_type": "stream",
     "text": [
      "time: 668 µs\n"
     ]
    }
   ],
   "source": [
    "from py_entitymatching.utils.generic_helper import list_diff"
   ]
  },
  {
   "cell_type": "code",
   "execution_count": 8,
   "metadata": {
    "collapsed": false
   },
   "outputs": [
    {
     "data": {
      "text/plain": [
       "'ID'"
      ]
     },
     "execution_count": 8,
     "metadata": {},
     "output_type": "execute_result"
    },
    {
     "name": "stdout",
     "output_type": "stream",
     "text": [
      "time: 2.58 ms\n"
     ]
    }
   ],
   "source": [
    "em.get_key(A)"
   ]
  },
  {
   "cell_type": "code",
   "execution_count": 9,
   "metadata": {
    "collapsed": false
   },
   "outputs": [
    {
     "name": "stdout",
     "output_type": "stream",
     "text": [
      "time: 3.27 ms\n"
     ]
    }
   ],
   "source": [
    "A1 = A[list_diff(list(A.columns), [em.get_key(A)])]\n",
    "B1 = B[list_diff(list(B.columns), [em.get_key(B)])]"
   ]
  },
  {
   "cell_type": "code",
   "execution_count": 10,
   "metadata": {
    "collapsed": false
   },
   "outputs": [
    {
     "name": "stdout",
     "output_type": "stream",
     "text": [
      "time: 41.1 ms\n"
     ]
    }
   ],
   "source": [
    "feature_table = em.get_features_for_matching(A1, B1)"
   ]
  },
  {
   "cell_type": "code",
   "execution_count": 11,
   "metadata": {
    "collapsed": false
   },
   "outputs": [
    {
     "data": {
      "text/plain": [
       "True"
      ]
     },
     "execution_count": 11,
     "metadata": {},
     "output_type": "execute_result"
    },
    {
     "name": "stdout",
     "output_type": "stream",
     "text": [
      "time: 9.13 ms\n"
     ]
    }
   ],
   "source": [
    "em.set_fk_ltable(L, 'ltable_ID')\n",
    "em.set_fk_rtable(L, 'rtable_ID')\n",
    "em.set_ltable(L, A)\n",
    "em.set_rtable(L, B)"
   ]
  },
  {
   "cell_type": "code",
   "execution_count": 12,
   "metadata": {
    "collapsed": false
   },
   "outputs": [
    {
     "name": "stderr",
     "output_type": "stream",
     "text": [
      "0%  100%\n",
      "[######] | ETA: 00:00:00"
     ]
    },
    {
     "name": "stdout",
     "output_type": "stream",
     "text": [
      "time: 62 ms\n"
     ]
    },
    {
     "name": "stderr",
     "output_type": "stream",
     "text": [
      "\n",
      "Total time elapsed: 00:00:00\n"
     ]
    }
   ],
   "source": [
    "E = em.extract_feature_vecs(L, feature_table=feature_table, attrs_after='label')"
   ]
  },
  {
   "cell_type": "code",
   "execution_count": 13,
   "metadata": {
    "collapsed": false
   },
   "outputs": [
    {
     "data": {
      "text/html": [
       "<div>\n",
       "<table border=\"1\" class=\"dataframe\">\n",
       "  <thead>\n",
       "    <tr style=\"text-align: right;\">\n",
       "      <th></th>\n",
       "      <th>_id</th>\n",
       "      <th>ltable_ID</th>\n",
       "      <th>rtable_ID</th>\n",
       "      <th>name_name_jac_qgm_3_qgm_3</th>\n",
       "      <th>name_name_cos_dlm_dc0_dlm_dc0</th>\n",
       "      <th>name_name_jac_dlm_dc0_dlm_dc0</th>\n",
       "      <th>name_name_mel</th>\n",
       "      <th>name_name_lev_dist</th>\n",
       "      <th>name_name_lev_sim</th>\n",
       "      <th>name_name_nmw</th>\n",
       "      <th>...</th>\n",
       "      <th>birth_year_birth_year_lev_sim</th>\n",
       "      <th>hourly_wage_hourly_wage_exm</th>\n",
       "      <th>hourly_wage_hourly_wage_anm</th>\n",
       "      <th>hourly_wage_hourly_wage_lev_dist</th>\n",
       "      <th>hourly_wage_hourly_wage_lev_sim</th>\n",
       "      <th>zipcode_zipcode_exm</th>\n",
       "      <th>zipcode_zipcode_anm</th>\n",
       "      <th>zipcode_zipcode_lev_dist</th>\n",
       "      <th>zipcode_zipcode_lev_sim</th>\n",
       "      <th>label</th>\n",
       "    </tr>\n",
       "  </thead>\n",
       "  <tbody>\n",
       "    <tr>\n",
       "      <th>0</th>\n",
       "      <td>0</td>\n",
       "      <td>a2</td>\n",
       "      <td>b3</td>\n",
       "      <td>0.500000</td>\n",
       "      <td>0.5</td>\n",
       "      <td>0.333333</td>\n",
       "      <td>0.823932</td>\n",
       "      <td>4</td>\n",
       "      <td>0.750000</td>\n",
       "      <td>9.0</td>\n",
       "      <td>...</td>\n",
       "      <td>1.00</td>\n",
       "      <td>1</td>\n",
       "      <td>1.000000</td>\n",
       "      <td>0.0</td>\n",
       "      <td>1.00</td>\n",
       "      <td>1</td>\n",
       "      <td>1.000000</td>\n",
       "      <td>0.0</td>\n",
       "      <td>1.0</td>\n",
       "      <td>1</td>\n",
       "    </tr>\n",
       "    <tr>\n",
       "      <th>1</th>\n",
       "      <td>1</td>\n",
       "      <td>a3</td>\n",
       "      <td>b2</td>\n",
       "      <td>0.380952</td>\n",
       "      <td>0.5</td>\n",
       "      <td>0.333333</td>\n",
       "      <td>0.807792</td>\n",
       "      <td>4</td>\n",
       "      <td>0.714286</td>\n",
       "      <td>7.0</td>\n",
       "      <td>...</td>\n",
       "      <td>1.00</td>\n",
       "      <td>1</td>\n",
       "      <td>1.000000</td>\n",
       "      <td>0.0</td>\n",
       "      <td>1.00</td>\n",
       "      <td>1</td>\n",
       "      <td>1.000000</td>\n",
       "      <td>0.0</td>\n",
       "      <td>1.0</td>\n",
       "      <td>0</td>\n",
       "    </tr>\n",
       "    <tr>\n",
       "      <th>2</th>\n",
       "      <td>2</td>\n",
       "      <td>a5</td>\n",
       "      <td>b5</td>\n",
       "      <td>0.454545</td>\n",
       "      <td>0.5</td>\n",
       "      <td>0.333333</td>\n",
       "      <td>0.859487</td>\n",
       "      <td>3</td>\n",
       "      <td>0.800000</td>\n",
       "      <td>10.0</td>\n",
       "      <td>...</td>\n",
       "      <td>1.00</td>\n",
       "      <td>1</td>\n",
       "      <td>1.000000</td>\n",
       "      <td>0.0</td>\n",
       "      <td>1.00</td>\n",
       "      <td>1</td>\n",
       "      <td>1.000000</td>\n",
       "      <td>0.0</td>\n",
       "      <td>1.0</td>\n",
       "      <td>1</td>\n",
       "    </tr>\n",
       "    <tr>\n",
       "      <th>3</th>\n",
       "      <td>3</td>\n",
       "      <td>a1</td>\n",
       "      <td>b1</td>\n",
       "      <td>0.000000</td>\n",
       "      <td>0.0</td>\n",
       "      <td>0.000000</td>\n",
       "      <td>0.393939</td>\n",
       "      <td>11</td>\n",
       "      <td>0.000000</td>\n",
       "      <td>0.0</td>\n",
       "      <td>...</td>\n",
       "      <td>0.75</td>\n",
       "      <td>0</td>\n",
       "      <td>0.983333</td>\n",
       "      <td>3.0</td>\n",
       "      <td>0.25</td>\n",
       "      <td>1</td>\n",
       "      <td>1.000000</td>\n",
       "      <td>0.0</td>\n",
       "      <td>1.0</td>\n",
       "      <td>0</td>\n",
       "    </tr>\n",
       "    <tr>\n",
       "      <th>4</th>\n",
       "      <td>4</td>\n",
       "      <td>a2</td>\n",
       "      <td>b2</td>\n",
       "      <td>0.000000</td>\n",
       "      <td>0.0</td>\n",
       "      <td>0.000000</td>\n",
       "      <td>0.501263</td>\n",
       "      <td>12</td>\n",
       "      <td>0.250000</td>\n",
       "      <td>-1.0</td>\n",
       "      <td>...</td>\n",
       "      <td>0.75</td>\n",
       "      <td>0</td>\n",
       "      <td>0.859375</td>\n",
       "      <td>3.0</td>\n",
       "      <td>0.25</td>\n",
       "      <td>0</td>\n",
       "      <td>0.999841</td>\n",
       "      <td>2.0</td>\n",
       "      <td>0.6</td>\n",
       "      <td>0</td>\n",
       "    </tr>\n",
       "  </tbody>\n",
       "</table>\n",
       "<p>5 rows × 24 columns</p>\n",
       "</div>"
      ],
      "text/plain": [
       "   _id ltable_ID rtable_ID  name_name_jac_qgm_3_qgm_3  \\\n",
       "0    0        a2        b3                   0.500000   \n",
       "1    1        a3        b2                   0.380952   \n",
       "2    2        a5        b5                   0.454545   \n",
       "3    3        a1        b1                   0.000000   \n",
       "4    4        a2        b2                   0.000000   \n",
       "\n",
       "   name_name_cos_dlm_dc0_dlm_dc0  name_name_jac_dlm_dc0_dlm_dc0  \\\n",
       "0                            0.5                       0.333333   \n",
       "1                            0.5                       0.333333   \n",
       "2                            0.5                       0.333333   \n",
       "3                            0.0                       0.000000   \n",
       "4                            0.0                       0.000000   \n",
       "\n",
       "   name_name_mel  name_name_lev_dist  name_name_lev_sim  name_name_nmw  ...    \\\n",
       "0       0.823932                   4           0.750000            9.0  ...     \n",
       "1       0.807792                   4           0.714286            7.0  ...     \n",
       "2       0.859487                   3           0.800000           10.0  ...     \n",
       "3       0.393939                  11           0.000000            0.0  ...     \n",
       "4       0.501263                  12           0.250000           -1.0  ...     \n",
       "\n",
       "   birth_year_birth_year_lev_sim  hourly_wage_hourly_wage_exm  \\\n",
       "0                           1.00                            1   \n",
       "1                           1.00                            1   \n",
       "2                           1.00                            1   \n",
       "3                           0.75                            0   \n",
       "4                           0.75                            0   \n",
       "\n",
       "   hourly_wage_hourly_wage_anm  hourly_wage_hourly_wage_lev_dist  \\\n",
       "0                     1.000000                               0.0   \n",
       "1                     1.000000                               0.0   \n",
       "2                     1.000000                               0.0   \n",
       "3                     0.983333                               3.0   \n",
       "4                     0.859375                               3.0   \n",
       "\n",
       "   hourly_wage_hourly_wage_lev_sim  zipcode_zipcode_exm  zipcode_zipcode_anm  \\\n",
       "0                             1.00                    1             1.000000   \n",
       "1                             1.00                    1             1.000000   \n",
       "2                             1.00                    1             1.000000   \n",
       "3                             0.25                    1             1.000000   \n",
       "4                             0.25                    0             0.999841   \n",
       "\n",
       "   zipcode_zipcode_lev_dist  zipcode_zipcode_lev_sim  label  \n",
       "0                       0.0                      1.0      1  \n",
       "1                       0.0                      1.0      0  \n",
       "2                       0.0                      1.0      1  \n",
       "3                       0.0                      1.0      0  \n",
       "4                       2.0                      0.6      0  \n",
       "\n",
       "[5 rows x 24 columns]"
      ]
     },
     "execution_count": 13,
     "metadata": {},
     "output_type": "execute_result"
    },
    {
     "name": "stdout",
     "output_type": "stream",
     "text": [
      "time: 53.8 ms\n"
     ]
    }
   ],
   "source": [
    "E.head()"
   ]
  },
  {
   "cell_type": "code",
   "execution_count": 14,
   "metadata": {
    "collapsed": false
   },
   "outputs": [
    {
     "name": "stdout",
     "output_type": "stream",
     "text": [
      "time: 1.44 ms\n"
     ]
    }
   ],
   "source": [
    "from py_entitymatching.matcherselector.mlmatcherselection import get_xy_data"
   ]
  },
  {
   "cell_type": "code",
   "execution_count": 15,
   "metadata": {
    "collapsed": false
   },
   "outputs": [
    {
     "name": "stdout",
     "output_type": "stream",
     "text": [
      "time: 7.69 ms\n"
     ]
    }
   ],
   "source": [
    "x,y=get_xy_data(x=None, y=None, table=E, exclude_attrs=['_id', 'ltable_ID', 'rtable_ID', 'label'], target_attr='label')"
   ]
  },
  {
   "cell_type": "code",
   "execution_count": 16,
   "metadata": {
    "collapsed": false
   },
   "outputs": [
    {
     "name": "stdout",
     "output_type": "stream",
     "text": [
      "time: 1.41 ms\n"
     ]
    }
   ],
   "source": [
    "from sklearn.cross_validation import KFold, cross_val_score"
   ]
  },
  {
   "cell_type": "code",
   "execution_count": 17,
   "metadata": {
    "collapsed": false
   },
   "outputs": [
    {
     "name": "stdout",
     "output_type": "stream",
     "text": [
      "time: 3.95 ms\n"
     ]
    }
   ],
   "source": [
    "k=5\n",
    "random_state=None\n",
    "cv = KFold(len(y), k, shuffle=True, random_state=random_state)"
   ]
  },
  {
   "cell_type": "code",
   "execution_count": 18,
   "metadata": {
    "collapsed": false
   },
   "outputs": [
    {
     "name": "stdout",
     "output_type": "stream",
     "text": [
      "[0 1 3 5], [2 4]\n",
      "[0 1 2 4 5], [3]\n",
      "[1 2 3 4 5], [0]\n",
      "[0 2 3 4 5], [1]\n",
      "[0 1 2 3 4], [5]\n",
      "time: 9.56 ms\n"
     ]
    }
   ],
   "source": [
    "for t, s in cv:\n",
    "    print(\"%s, %s\" %(t, s))"
   ]
  },
  {
   "cell_type": "code",
   "execution_count": 19,
   "metadata": {
    "collapsed": false
   },
   "outputs": [
    {
     "name": "stdout",
     "output_type": "stream",
     "text": [
      "time: 797 µs\n"
     ]
    }
   ],
   "source": [
    "from sklearn import cross_validation"
   ]
  },
  {
   "cell_type": "code",
   "execution_count": 20,
   "metadata": {
    "collapsed": false
   },
   "outputs": [
    {
     "name": "stdout",
     "output_type": "stream",
     "text": [
      "time: 903 µs\n"
     ]
    }
   ],
   "source": [
    "rf = em.RFMatcher()"
   ]
  },
  {
   "cell_type": "code",
   "execution_count": 21,
   "metadata": {
    "collapsed": false
   },
   "outputs": [
    {
     "name": "stdout",
     "output_type": "stream",
     "text": [
      "time: 812 µs\n"
     ]
    }
   ],
   "source": [
    "# predicted = cross_validation.cross_val_predict(rf.clf, x, y, cv=5)"
   ]
  },
  {
   "cell_type": "code",
   "execution_count": 22,
   "metadata": {
    "collapsed": false
   },
   "outputs": [
    {
     "name": "stdout",
     "output_type": "stream",
     "text": [
      "time: 1.1 ms\n"
     ]
    }
   ],
   "source": [
    "from sklearn.ensemble import RandomForestClassifier"
   ]
  },
  {
   "cell_type": "code",
   "execution_count": 23,
   "metadata": {
    "collapsed": false
   },
   "outputs": [
    {
     "name": "stdout",
     "output_type": "stream",
     "text": [
      "time: 1.31 ms\n"
     ]
    }
   ],
   "source": [
    "clf = RandomForestClassifier(n_estimators=11, max_depth=None,\n",
    "    min_samples_split=1, random_state=0)"
   ]
  },
  {
   "cell_type": "code",
   "execution_count": 24,
   "metadata": {
    "collapsed": false
   },
   "outputs": [
    {
     "name": "stdout",
     "output_type": "stream",
     "text": [
      "time: 3.67 ms\n"
     ]
    }
   ],
   "source": [
    "for train_index, test_index in cv:\n",
    "    tr_x = x[train_index]\n",
    "    tr_y = y[train_index]\n",
    "    ts_x = x[test_index]\n",
    "    ts_y = y[test_index]"
   ]
  },
  {
   "cell_type": "code",
   "execution_count": 25,
   "metadata": {
    "collapsed": false
   },
   "outputs": [
    {
     "data": {
      "text/plain": [
       "(array([0]), array([1, 0, 1, 0, 0]))"
      ]
     },
     "execution_count": 25,
     "metadata": {},
     "output_type": "execute_result"
    },
    {
     "name": "stdout",
     "output_type": "stream",
     "text": [
      "time: 4.55 ms\n"
     ]
    }
   ],
   "source": [
    "ts_y, tr_y"
   ]
  },
  {
   "cell_type": "code",
   "execution_count": 26,
   "metadata": {
    "collapsed": false
   },
   "outputs": [
    {
     "name": "stdout",
     "output_type": "stream",
     "text": [
      "[[ 1.  0.]]\n",
      "[0]\n",
      "time: 55.5 ms\n"
     ]
    }
   ],
   "source": [
    "classifier = clf.fit(tr_x, tr_y)\n",
    "predictions = classifier.predict_proba(ts_x)\n",
    "pr_y = classifier.predict(ts_x)\n",
    "print(predictions)\n",
    "print(pr_y)"
   ]
  },
  {
   "cell_type": "code",
   "execution_count": 27,
   "metadata": {
    "collapsed": false
   },
   "outputs": [
    {
     "name": "stdout",
     "output_type": "stream",
     "text": [
      "time: 711 µs\n"
     ]
    }
   ],
   "source": [
    "import pandas as pd"
   ]
  },
  {
   "cell_type": "code",
   "execution_count": 28,
   "metadata": {
    "collapsed": false
   },
   "outputs": [
    {
     "name": "stdout",
     "output_type": "stream",
     "text": [
      "time: 2.6 ms\n"
     ]
    }
   ],
   "source": [
    "a1 = L.loc[test_index]"
   ]
  },
  {
   "cell_type": "code",
   "execution_count": 29,
   "metadata": {
    "collapsed": false
   },
   "outputs": [
    {
     "name": "stdout",
     "output_type": "stream",
     "text": [
      "time: 4.1 ms\n"
     ]
    }
   ],
   "source": [
    "b1 = pd.DataFrame({'predictions':pr_y, 'prob_false':predictions[:,0], 'prob_true':predictions[:,1]})"
   ]
  },
  {
   "cell_type": "code",
   "execution_count": 30,
   "metadata": {
    "collapsed": false
   },
   "outputs": [
    {
     "name": "stdout",
     "output_type": "stream",
     "text": [
      "time: 701 µs\n"
     ]
    }
   ],
   "source": [
    "b1.index = a1.index"
   ]
  },
  {
   "cell_type": "code",
   "execution_count": 31,
   "metadata": {
    "collapsed": false
   },
   "outputs": [
    {
     "data": {
      "text/html": [
       "<div>\n",
       "<table border=\"1\" class=\"dataframe\">\n",
       "  <thead>\n",
       "    <tr style=\"text-align: right;\">\n",
       "      <th></th>\n",
       "      <th>_id</th>\n",
       "      <th>ltable_ID</th>\n",
       "      <th>rtable_ID</th>\n",
       "      <th>label</th>\n",
       "      <th>predictions</th>\n",
       "      <th>prob_false</th>\n",
       "      <th>prob_true</th>\n",
       "    </tr>\n",
       "  </thead>\n",
       "  <tbody>\n",
       "    <tr>\n",
       "      <th>5</th>\n",
       "      <td>5</td>\n",
       "      <td>a2</td>\n",
       "      <td>b4</td>\n",
       "      <td>0</td>\n",
       "      <td>0</td>\n",
       "      <td>1.0</td>\n",
       "      <td>0.0</td>\n",
       "    </tr>\n",
       "  </tbody>\n",
       "</table>\n",
       "</div>"
      ],
      "text/plain": [
       "   _id ltable_ID rtable_ID  label  predictions  prob_false  prob_true\n",
       "5    5        a2        b4      0            0         1.0        0.0"
      ]
     },
     "execution_count": 31,
     "metadata": {},
     "output_type": "execute_result"
    },
    {
     "name": "stdout",
     "output_type": "stream",
     "text": [
      "time: 18.3 ms\n"
     ]
    }
   ],
   "source": [
    "pd.concat([a1, b1], axis=1)"
   ]
  },
  {
   "cell_type": "code",
   "execution_count": 32,
   "metadata": {
    "collapsed": false
   },
   "outputs": [
    {
     "data": {
      "text/plain": [
       "(array([0, 1, 2, 3, 4]), array([5]))"
      ]
     },
     "execution_count": 32,
     "metadata": {},
     "output_type": "execute_result"
    },
    {
     "name": "stdout",
     "output_type": "stream",
     "text": [
      "time: 3.74 ms\n"
     ]
    }
   ],
   "source": [
    "train_index, test_index"
   ]
  },
  {
   "cell_type": "code",
   "execution_count": 33,
   "metadata": {
    "collapsed": false
   },
   "outputs": [
    {
     "name": "stdout",
     "output_type": "stream",
     "text": [
      "time: 1.2 ms\n"
     ]
    }
   ],
   "source": [
    "feats = list_diff(list(E.columns), ['_id', 'ltable_ID', 'rtable_ID', 'label'])"
   ]
  },
  {
   "cell_type": "code",
   "execution_count": 34,
   "metadata": {
    "collapsed": false
   },
   "outputs": [
    {
     "name": "stdout",
     "output_type": "stream",
     "text": [
      "time: 7.25 ms\n"
     ]
    }
   ],
   "source": [
    "E1 = E.loc[train_index][feats]\n",
    "E2 = E.loc[train_index]['label']\n",
    "G1 = E.loc[test_index][feats]\n",
    "G2 = E.loc[test_index]['label']"
   ]
  },
  {
   "cell_type": "code",
   "execution_count": 35,
   "metadata": {
    "collapsed": false
   },
   "outputs": [
    {
     "name": "stdout",
     "output_type": "stream",
     "text": [
      "time: 12.7 ms\n"
     ]
    }
   ],
   "source": [
    "classifier = clf.fit(E1, E2)"
   ]
  },
  {
   "cell_type": "code",
   "execution_count": 36,
   "metadata": {
    "collapsed": false
   },
   "outputs": [
    {
     "name": "stdout",
     "output_type": "stream",
     "text": [
      "time: 13.8 ms\n"
     ]
    }
   ],
   "source": [
    "predictions = classifier.predict_proba(G1)\n",
    "# pr_y = classifier.predict(ts_x)\n",
    "# print(predictions)\n",
    "# print(pr_y)"
   ]
  },
  {
   "cell_type": "code",
   "execution_count": 37,
   "metadata": {
    "collapsed": false
   },
   "outputs": [
    {
     "data": {
      "text/html": [
       "<div>\n",
       "<table border=\"1\" class=\"dataframe\">\n",
       "  <thead>\n",
       "    <tr style=\"text-align: right;\">\n",
       "      <th></th>\n",
       "      <th>0</th>\n",
       "      <th>1</th>\n",
       "    </tr>\n",
       "  </thead>\n",
       "  <tbody>\n",
       "    <tr>\n",
       "      <th>0</th>\n",
       "      <td>1.0</td>\n",
       "      <td>0.0</td>\n",
       "    </tr>\n",
       "  </tbody>\n",
       "</table>\n",
       "</div>"
      ],
      "text/plain": [
       "     0    1\n",
       "0  1.0  0.0"
      ]
     },
     "execution_count": 37,
     "metadata": {},
     "output_type": "execute_result"
    },
    {
     "name": "stdout",
     "output_type": "stream",
     "text": [
      "time: 27.1 ms\n"
     ]
    }
   ],
   "source": [
    "pd.DataFrame(predictions)"
   ]
  },
  {
   "cell_type": "code",
   "execution_count": 38,
   "metadata": {
    "collapsed": false
   },
   "outputs": [
    {
     "name": "stdout",
     "output_type": "stream",
     "text": [
      "time: 3.22 ms\n"
     ]
    }
   ],
   "source": [
    "pr_y = classifier.predict(G1)"
   ]
  }
 ],
 "metadata": {
  "anaconda-cloud": {},
  "kernelspec": {
   "display_name": "Python [Root]",
   "language": "python",
   "name": "Python [Root]"
  },
  "language_info": {
   "codemirror_mode": {
    "name": "ipython",
    "version": 3
   },
   "file_extension": ".py",
   "mimetype": "text/x-python",
   "name": "python",
   "nbconvert_exporter": "python",
   "pygments_lexer": "ipython3",
   "version": "3.5.2"
  }
 },
 "nbformat": 4,
 "nbformat_minor": 0
}
