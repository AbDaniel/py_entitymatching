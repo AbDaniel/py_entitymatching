{
 "cells": [
  {
   "cell_type": "code",
   "execution_count": 1,
   "metadata": {
    "collapsed": false
   },
   "outputs": [],
   "source": [
    "%load_ext autotime\n",
    "%matplotlib inline\n",
    "import sys\n",
    "sys.path.append('/Users/pradap/Documents/Research/Python-Package/anhaid/py_entitymatching/')"
   ]
  },
  {
   "cell_type": "code",
   "execution_count": 2,
   "metadata": {
    "collapsed": false
   },
   "outputs": [
    {
     "name": "stdout",
     "output_type": "stream",
     "text": [
      "time: 1.44 s\n"
     ]
    }
   ],
   "source": [
    "import py_entitymatching as em"
   ]
  },
  {
   "cell_type": "code",
   "execution_count": 3,
   "metadata": {
    "collapsed": false
   },
   "outputs": [
    {
     "name": "stdout",
     "output_type": "stream",
     "text": [
      "time: 33.9 ms\n"
     ]
    }
   ],
   "source": [
    "A = em.read_csv_metadata('./ORIG_DBLP_ACM/DBLP_cleaned.csv', key='id')\n",
    "B = em.read_csv_metadata('./ORIG_DBLP_ACM/ACM_cleaned.csv', key='id')"
   ]
  },
  {
   "cell_type": "code",
   "execution_count": 4,
   "metadata": {
    "collapsed": false
   },
   "outputs": [
    {
     "name": "stdout",
     "output_type": "stream",
     "text": [
      "time: 9.15 ms\n"
     ]
    }
   ],
   "source": [
    "gold = em.read_csv_metadata('./ORIG_DBLP_ACM/goldWithLabel.csv', fk_ltable='ltable_id', fk_rtable='rtable_id',\n",
    "                            ltable=A, rtable=B, key='_id')"
   ]
  },
  {
   "cell_type": "code",
   "execution_count": 5,
   "metadata": {
    "collapsed": false
   },
   "outputs": [
    {
     "name": "stdout",
     "output_type": "stream",
     "text": [
      "time: 2.28 ms\n"
     ]
    }
   ],
   "source": [
    "A.set_index('id', inplace=True, drop=False)\n",
    "B.set_index('id', inplace=True, drop=False)\n"
   ]
  },
  {
   "cell_type": "code",
   "execution_count": 6,
   "metadata": {
    "collapsed": false
   },
   "outputs": [
    {
     "data": {
      "text/html": [
       "<div>\n",
       "<table border=\"1\" class=\"dataframe\">\n",
       "  <thead>\n",
       "    <tr style=\"text-align: right;\">\n",
       "      <th></th>\n",
       "      <th>id</th>\n",
       "      <th>title</th>\n",
       "      <th>authors</th>\n",
       "      <th>venue</th>\n",
       "      <th>year</th>\n",
       "    </tr>\n",
       "    <tr>\n",
       "      <th>id</th>\n",
       "      <th></th>\n",
       "      <th></th>\n",
       "      <th></th>\n",
       "      <th></th>\n",
       "      <th></th>\n",
       "    </tr>\n",
       "  </thead>\n",
       "  <tbody>\n",
       "    <tr>\n",
       "      <th>journals/sigmod/Mackay99</th>\n",
       "      <td>journals/sigmod/Mackay99</td>\n",
       "      <td>Semantic Integration of Environmental Models for Application to Global Information Systems and D...</td>\n",
       "      <td>D. Scott Mackay</td>\n",
       "      <td>SIGMOD Record</td>\n",
       "      <td>1999</td>\n",
       "    </tr>\n",
       "    <tr>\n",
       "      <th>conf/vldb/PoosalaI96</th>\n",
       "      <td>conf/vldb/PoosalaI96</td>\n",
       "      <td>Estimation of Query-Result Distribution and its Application in Parallel-Join Load Balancing</td>\n",
       "      <td>Viswanath Poosala, Yannis E. Ioannidis</td>\n",
       "      <td>VLDB</td>\n",
       "      <td>1996</td>\n",
       "    </tr>\n",
       "  </tbody>\n",
       "</table>\n",
       "</div>"
      ],
      "text/plain": [
       "                                                id  \\\n",
       "id                                                   \n",
       "journals/sigmod/Mackay99  journals/sigmod/Mackay99   \n",
       "conf/vldb/PoosalaI96          conf/vldb/PoosalaI96   \n",
       "\n",
       "                                                                                                                        title  \\\n",
       "id                                                                                                                              \n",
       "journals/sigmod/Mackay99  Semantic Integration of Environmental Models for Application to Global Information Systems and D...   \n",
       "conf/vldb/PoosalaI96              Estimation of Query-Result Distribution and its Application in Parallel-Join Load Balancing   \n",
       "\n",
       "                                                         authors  \\\n",
       "id                                                                 \n",
       "journals/sigmod/Mackay99                         D. Scott Mackay   \n",
       "conf/vldb/PoosalaI96      Viswanath Poosala, Yannis E. Ioannidis   \n",
       "\n",
       "                                  venue  year  \n",
       "id                                             \n",
       "journals/sigmod/Mackay99  SIGMOD Record  1999  \n",
       "conf/vldb/PoosalaI96               VLDB  1996  "
      ]
     },
     "execution_count": 6,
     "metadata": {},
     "output_type": "execute_result"
    },
    {
     "name": "stdout",
     "output_type": "stream",
     "text": [
      "time: 21.2 ms\n"
     ]
    }
   ],
   "source": [
    "A.head(2)"
   ]
  },
  {
   "cell_type": "code",
   "execution_count": 7,
   "metadata": {
    "collapsed": false
   },
   "outputs": [
    {
     "name": "stdout",
     "output_type": "stream",
     "text": [
      "time: 7.3 ms\n"
     ]
    }
   ],
   "source": [
    "A1 = A.ix[gold.ltable_id.values]"
   ]
  },
  {
   "cell_type": "code",
   "execution_count": 8,
   "metadata": {
    "collapsed": false
   },
   "outputs": [
    {
     "name": "stdout",
     "output_type": "stream",
     "text": [
      "time: 2.2 ms\n"
     ]
    }
   ],
   "source": [
    "B1 = B.ix[gold.rtable_id.values]"
   ]
  },
  {
   "cell_type": "code",
   "execution_count": 9,
   "metadata": {
    "collapsed": false
   },
   "outputs": [
    {
     "data": {
      "text/plain": [
       "(2224, 2224)"
      ]
     },
     "execution_count": 9,
     "metadata": {},
     "output_type": "execute_result"
    },
    {
     "name": "stdout",
     "output_type": "stream",
     "text": [
      "time: 2.66 ms\n"
     ]
    }
   ],
   "source": [
    "len(A1), len(B1)"
   ]
  },
  {
   "cell_type": "code",
   "execution_count": 10,
   "metadata": {
    "collapsed": false
   },
   "outputs": [
    {
     "name": "stdout",
     "output_type": "stream",
     "text": [
      "time: 20.9 ms\n"
     ]
    }
   ],
   "source": [
    "A1 = A1.sample(2000)\n",
    "B1 = B1.sample(2000)"
   ]
  },
  {
   "cell_type": "code",
   "execution_count": 11,
   "metadata": {
    "collapsed": false
   },
   "outputs": [
    {
     "name": "stdout",
     "output_type": "stream",
     "text": [
      "time: 3.14 ms\n"
     ]
    }
   ],
   "source": [
    "A1.reset_index(inplace=True, drop=True)\n",
    "B1.reset_index(inplace=True, drop=True)"
   ]
  },
  {
   "cell_type": "code",
   "execution_count": 12,
   "metadata": {
    "collapsed": false
   },
   "outputs": [
    {
     "name": "stdout",
     "output_type": "stream",
     "text": [
      "time: 3.93 ms\n"
     ]
    }
   ],
   "source": [
    "A1 = A1[A1.authors != '?']"
   ]
  },
  {
   "cell_type": "code",
   "execution_count": 13,
   "metadata": {
    "collapsed": false
   },
   "outputs": [
    {
     "name": "stdout",
     "output_type": "stream",
     "text": [
      "time: 15.7 ms\n"
     ]
    }
   ],
   "source": [
    "# Book review column\n",
    "A1 = A1[A1.title != 'Book Review Column']\n",
    "B1 = B1[B1.title != 'Book Review Column']\n",
    "A1 = A1[A1.title != 'Book review column']\n",
    "B1 = B1[B1.title != 'Book review column']\n",
    "A1 = A1[A1.title != 'Reminiscences on Influential Papers']\n",
    "B1 = B1[B1.title != 'Reminiscences on Influential Papers']\n"
   ]
  },
  {
   "cell_type": "code",
   "execution_count": 14,
   "metadata": {
    "collapsed": false
   },
   "outputs": [
    {
     "name": "stdout",
     "output_type": "stream",
     "text": [
      "time: 7.07 ms\n"
     ]
    }
   ],
   "source": [
    "B1 = B1[B1.id != 641003]"
   ]
  },
  {
   "cell_type": "code",
   "execution_count": 15,
   "metadata": {
    "collapsed": false
   },
   "outputs": [
    {
     "name": "stdout",
     "output_type": "stream",
     "text": [
      "time: 5.96 ms\n"
     ]
    }
   ],
   "source": [
    "# Treasurer's message\n",
    "A1 = A1[A1.title != \"Treasurer's Message\"]\n",
    "B1 = B1[B1.title != \"Treasurer's Message\"]\n"
   ]
  },
  {
   "cell_type": "code",
   "execution_count": 16,
   "metadata": {
    "collapsed": false
   },
   "outputs": [
    {
     "data": {
      "text/plain": [
       "(1979, 1991)"
      ]
     },
     "execution_count": 16,
     "metadata": {},
     "output_type": "execute_result"
    },
    {
     "name": "stdout",
     "output_type": "stream",
     "text": [
      "time: 5.2 ms\n"
     ]
    }
   ],
   "source": [
    "len(A1), len(B1)"
   ]
  },
  {
   "cell_type": "code",
   "execution_count": 17,
   "metadata": {
    "collapsed": false
   },
   "outputs": [
    {
     "name": "stdout",
     "output_type": "stream",
     "text": [
      "1780\n",
      "time: 116 ms\n"
     ]
    }
   ],
   "source": [
    "A1_vals = list(A1['id'].values)\n",
    "B1_vals = list(B1['id'].values)\n",
    "\n",
    "i = 0\n",
    "for row in gold.itertuples(index=False):\n",
    "    l_val = row[1]\n",
    "    r_val = row[2]\n",
    "    if l_val in A1_vals and r_val in B1_vals:\n",
    "        i += 1\n",
    "print(i)"
   ]
  },
  {
   "cell_type": "code",
   "execution_count": 18,
   "metadata": {
    "collapsed": false
   },
   "outputs": [
    {
     "data": {
      "text/plain": [
       "True"
      ]
     },
     "execution_count": 18,
     "metadata": {},
     "output_type": "execute_result"
    },
    {
     "name": "stdout",
     "output_type": "stream",
     "text": [
      "time: 4.77 ms\n"
     ]
    }
   ],
   "source": [
    "em.set_key(A1, 'id')\n",
    "em.set_key(B1, 'id')"
   ]
  },
  {
   "cell_type": "code",
   "execution_count": 19,
   "metadata": {
    "collapsed": false
   },
   "outputs": [
    {
     "data": {
      "text/html": [
       "<div>\n",
       "<table border=\"1\" class=\"dataframe\">\n",
       "  <thead>\n",
       "    <tr style=\"text-align: right;\">\n",
       "      <th></th>\n",
       "      <th>id</th>\n",
       "      <th>title</th>\n",
       "      <th>authors</th>\n",
       "      <th>venue</th>\n",
       "      <th>year</th>\n",
       "    </tr>\n",
       "  </thead>\n",
       "  <tbody>\n",
       "    <tr>\n",
       "      <th>0</th>\n",
       "      <td>245896</td>\n",
       "      <td>Pixel-oriented database visualizations</td>\n",
       "      <td>Daniel A. Keim</td>\n",
       "      <td>ACM SIGMOD Record</td>\n",
       "      <td>1996</td>\n",
       "    </tr>\n",
       "    <tr>\n",
       "      <th>1</th>\n",
       "      <td>672175</td>\n",
       "      <td>Storage and Querying of E-Commerce Data</td>\n",
       "      <td>Rakesh Agrawal, Amit Somani, Yirong Xu</td>\n",
       "      <td>Very Large Data Bases</td>\n",
       "      <td>2001</td>\n",
       "    </tr>\n",
       "    <tr>\n",
       "      <th>2</th>\n",
       "      <td>671195</td>\n",
       "      <td>Bridging Heterogeneity: Research and Practice of Database Middleware Technology</td>\n",
       "      <td>Fernando de Ferreira Rezende, Günter Sauter</td>\n",
       "      <td>Very Large Data Bases</td>\n",
       "      <td>1998</td>\n",
       "    </tr>\n",
       "    <tr>\n",
       "      <th>3</th>\n",
       "      <td>276308</td>\n",
       "      <td>Parallel mining algorithms for generalized association rules with classification hierarchy</td>\n",
       "      <td>Takahiko Shintani, Masaru Kitsuregawa</td>\n",
       "      <td>International Conference on Management of Data</td>\n",
       "      <td>1998</td>\n",
       "    </tr>\n",
       "    <tr>\n",
       "      <th>4</th>\n",
       "      <td>245898</td>\n",
       "      <td>To table or not to table: a hypertabular answer</td>\n",
       "      <td>Giuseppe Santucci, Laura Tarantino</td>\n",
       "      <td>ACM SIGMOD Record</td>\n",
       "      <td>1996</td>\n",
       "    </tr>\n",
       "  </tbody>\n",
       "</table>\n",
       "</div>"
      ],
      "text/plain": [
       "       id  \\\n",
       "0  245896   \n",
       "1  672175   \n",
       "2  671195   \n",
       "3  276308   \n",
       "4  245898   \n",
       "\n",
       "                                                                                        title  \\\n",
       "0                                                      Pixel-oriented database visualizations   \n",
       "1                                                     Storage and Querying of E-Commerce Data   \n",
       "2             Bridging Heterogeneity: Research and Practice of Database Middleware Technology   \n",
       "3  Parallel mining algorithms for generalized association rules with classification hierarchy   \n",
       "4                                             To table or not to table: a hypertabular answer   \n",
       "\n",
       "                                       authors  \\\n",
       "0                               Daniel A. Keim   \n",
       "1       Rakesh Agrawal, Amit Somani, Yirong Xu   \n",
       "2  Fernando de Ferreira Rezende, Günter Sauter   \n",
       "3        Takahiko Shintani, Masaru Kitsuregawa   \n",
       "4           Giuseppe Santucci, Laura Tarantino   \n",
       "\n",
       "                                            venue  year  \n",
       "0                               ACM SIGMOD Record  1996  \n",
       "1                           Very Large Data Bases  2001  \n",
       "2                           Very Large Data Bases  1998  \n",
       "3  International Conference on Management of Data  1998  \n",
       "4                               ACM SIGMOD Record  1996  "
      ]
     },
     "execution_count": 19,
     "metadata": {},
     "output_type": "execute_result"
    },
    {
     "name": "stdout",
     "output_type": "stream",
     "text": [
      "time: 14.4 ms\n"
     ]
    }
   ],
   "source": [
    "B1.head()"
   ]
  },
  {
   "cell_type": "code",
   "execution_count": 20,
   "metadata": {
    "collapsed": false
   },
   "outputs": [
    {
     "data": {
      "text/plain": [
       "True"
      ]
     },
     "execution_count": 20,
     "metadata": {},
     "output_type": "execute_result"
    },
    {
     "name": "stdout",
     "output_type": "stream",
     "text": [
      "time: 48.5 ms\n"
     ]
    }
   ],
   "source": [
    "em.to_csv_metadata(A1, './ORIG_DBLP_ACM/dblp_mur_clean.csv')\n",
    "em.to_csv_metadata(B1, './ORIG_DBLP_ACM/acm_mur_clean.csv')"
   ]
  },
  {
   "cell_type": "code",
   "execution_count": 21,
   "metadata": {
    "collapsed": false
   },
   "outputs": [
    {
     "name": "stdout",
     "output_type": "stream",
     "text": [
      "time: 825 µs\n"
     ]
    }
   ],
   "source": [
    "# A2[A2.authors.str.split(',').apply(len) == 1]"
   ]
  }
 ],
 "metadata": {
  "anaconda-cloud": {},
  "kernelspec": {
   "display_name": "Python [Root]",
   "language": "python",
   "name": "Python [Root]"
  },
  "language_info": {
   "codemirror_mode": {
    "name": "ipython",
    "version": 3
   },
   "file_extension": ".py",
   "mimetype": "text/x-python",
   "name": "python",
   "nbconvert_exporter": "python",
   "pygments_lexer": "ipython3",
   "version": "3.5.2"
  }
 },
 "nbformat": 4,
 "nbformat_minor": 0
}
