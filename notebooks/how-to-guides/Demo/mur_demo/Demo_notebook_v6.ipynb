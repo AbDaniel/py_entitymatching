{
 "cells": [
  {
   "cell_type": "code",
   "execution_count": 49,
   "metadata": {
    "collapsed": true
   },
   "outputs": [],
   "source": [
    "%matplotlib inline\n",
    "import sys\n",
    "sys.path.append('/Users/pradap/Documents/Research/Python-Package/anhaid/py_entitymatching/')"
   ]
  },
  {
   "cell_type": "markdown",
   "metadata": {
    "collapsed": true
   },
   "source": [
    "![title](workflow.png)"
   ]
  },
  {
   "cell_type": "code",
   "execution_count": 50,
   "metadata": {
    "collapsed": true
   },
   "outputs": [],
   "source": [
    "# py_entitymatching relies on the following packages from the Python eco-system"
   ]
  },
  {
   "cell_type": "markdown",
   "metadata": {},
   "source": [
    "|S.No|  Package | Comments  |\n",
    "|---|---|---|\n",
    "|1|  *pandas*  | provides data structures (such as DataFrame) to <span style=\"color:red;\">store and manage relational data</span>. Specifically, DataFrame is used to represent input tables.  |\n",
    "|2| *scikit-learn*   | provides implementations for common <span style=\"color:red;\">machine learning</span> algorithms. Specifically, this is used in ML-based matchers.  |\n",
    "|3| *joblib*  | provides <span style=\"color:red;\">multiprocessing</span> capabilities. Specifically, this is used to parallelize blockers across multiple processors.|\n",
    "|4| *PyQt4*  | provides tools to <span style=\"color:red;\">build GUI</span>. Specifically, this is used to build GUI for labeling data  and debugging matchers.|\n",
    "|5|  *py_stringsimjoin* |  provides <span style=\"color:red;\">scalable</span> implementations for <span style=\"color:red;\">string similarity joins</span> over two tables. Specifically,   this is used to scale blockers. |\n",
    "|6| *py_stringmatching* | provides a comprehensive set of <span style=\"color:red;\"> tokenizers and string similarity functions</span>. Specifically, this is to create features for blocking and matching.|\n",
    "|7|  *cloudpickle* |provides functions to <span style=\"color:red;\"> serialize Python constructs</span>. Specifically, this is used to load/save objects from/to disk. |\n",
    "|8| *pyprind*  | library to display <span style=\"color:red;\"> progress indicators</span>. Specifically, this is used to display progress of blocking functions, matching functions, etc.  |\n",
    "|9| *pyparsing*  | library to <span style=\"color:red;\">parse strings</span>. Specifically, this is used to parse rules/features that are declaratively written by the user.  |\n",
    "|10|  *six* |  provides functions to <span style=\"color:red;\">write compatible code across Python 2 and 3</span>. |"
   ]
  },
  {
   "cell_type": "code",
   "execution_count": 51,
   "metadata": {
    "collapsed": true
   },
   "outputs": [],
   "source": [
    "import py_entitymatching as em\n",
    "import profiler\n",
    "import pandas as pd"
   ]
  },
  {
   "cell_type": "markdown",
   "metadata": {},
   "source": [
    "## Read input tables"
   ]
  },
  {
   "cell_type": "code",
   "execution_count": 54,
   "metadata": {
    "collapsed": false
   },
   "outputs": [],
   "source": [
    "## Read input tables\n",
    "A = em.read_csv_metadata('dblp_demo.csv', key='id')\n",
    "B = em.read_csv_metadata('acm_demo.csv', key='id')"
   ]
  },
  {
   "cell_type": "code",
   "execution_count": 53,
   "metadata": {
    "collapsed": false
   },
   "outputs": [
    {
     "data": {
      "text/plain": [
       "(1800, 1813, 3263400)"
      ]
     },
     "execution_count": 53,
     "metadata": {},
     "output_type": "execute_result"
    }
   ],
   "source": [
    "len(A), len(B), len(A) * len(B)"
   ]
  },
  {
   "cell_type": "code",
   "execution_count": 55,
   "metadata": {
    "collapsed": false
   },
   "outputs": [
    {
     "data": {
      "text/html": [
       "<div>\n",
       "<table border=\"1\" class=\"dataframe\">\n",
       "  <thead>\n",
       "    <tr style=\"text-align: right;\">\n",
       "      <th></th>\n",
       "      <th>id</th>\n",
       "      <th>title</th>\n",
       "      <th>authors</th>\n",
       "      <th>venue</th>\n",
       "      <th>year</th>\n",
       "    </tr>\n",
       "  </thead>\n",
       "  <tbody>\n",
       "    <tr>\n",
       "      <th>0</th>\n",
       "      <td>l0</td>\n",
       "      <td>Paradise: A Database System for GIS Applications</td>\n",
       "      <td>Paradise Team</td>\n",
       "      <td>SIGMOD Conference</td>\n",
       "      <td>1995</td>\n",
       "    </tr>\n",
       "    <tr>\n",
       "      <th>1</th>\n",
       "      <td>l1</td>\n",
       "      <td>A Query Language and Optimization Techniques for Unstructured Data</td>\n",
       "      <td>Gerd G. Hillebrand, Peter Buneman, Susan B. Davidson, Dan Suciu</td>\n",
       "      <td>SIGMOD Conference</td>\n",
       "      <td>1996</td>\n",
       "    </tr>\n",
       "  </tbody>\n",
       "</table>\n",
       "</div>"
      ],
      "text/plain": [
       "   id                                                               title  \\\n",
       "0  l0                    Paradise: A Database System for GIS Applications   \n",
       "1  l1  A Query Language and Optimization Techniques for Unstructured Data   \n",
       "\n",
       "                                                           authors  \\\n",
       "0                                                    Paradise Team   \n",
       "1  Gerd G. Hillebrand, Peter Buneman, Susan B. Davidson, Dan Suciu   \n",
       "\n",
       "               venue  year  \n",
       "0  SIGMOD Conference  1995  \n",
       "1  SIGMOD Conference  1996  "
      ]
     },
     "execution_count": 55,
     "metadata": {},
     "output_type": "execute_result"
    }
   ],
   "source": [
    "A.head(2)"
   ]
  },
  {
   "cell_type": "code",
   "execution_count": 56,
   "metadata": {
    "collapsed": false
   },
   "outputs": [
    {
     "data": {
      "text/html": [
       "<div>\n",
       "<table border=\"1\" class=\"dataframe\">\n",
       "  <thead>\n",
       "    <tr style=\"text-align: right;\">\n",
       "      <th></th>\n",
       "      <th>id</th>\n",
       "      <th>title</th>\n",
       "      <th>authors</th>\n",
       "      <th>venue</th>\n",
       "      <th>year</th>\n",
       "    </tr>\n",
       "  </thead>\n",
       "  <tbody>\n",
       "    <tr>\n",
       "      <th>0</th>\n",
       "      <td>r0</td>\n",
       "      <td>An efficient bitmap encoding scheme for selection queries</td>\n",
       "      <td>Chee-Yong Chan, Yannis E. Ioannidis</td>\n",
       "      <td>International Conference on Management of Data</td>\n",
       "      <td>1999</td>\n",
       "    </tr>\n",
       "    <tr>\n",
       "      <th>1</th>\n",
       "      <td>r1</td>\n",
       "      <td>Integrating a Structured-Text Retrieval System with an Object-Oriented Database System</td>\n",
       "      <td>Tak W. Yan, Jurgen Annevelink</td>\n",
       "      <td>Very Large Data Bases</td>\n",
       "      <td>1994</td>\n",
       "    </tr>\n",
       "  </tbody>\n",
       "</table>\n",
       "</div>"
      ],
      "text/plain": [
       "   id  \\\n",
       "0  r0   \n",
       "1  r1   \n",
       "\n",
       "                                                                                    title  \\\n",
       "0                               An efficient bitmap encoding scheme for selection queries   \n",
       "1  Integrating a Structured-Text Retrieval System with an Object-Oriented Database System   \n",
       "\n",
       "                               authors  \\\n",
       "0  Chee-Yong Chan, Yannis E. Ioannidis   \n",
       "1        Tak W. Yan, Jurgen Annevelink   \n",
       "\n",
       "                                            venue  year  \n",
       "0  International Conference on Management of Data  1999  \n",
       "1                           Very Large Data Bases  1994  "
      ]
     },
     "execution_count": 56,
     "metadata": {},
     "output_type": "execute_result"
    }
   ],
   "source": [
    "B.head(2)"
   ]
  },
  {
   "cell_type": "code",
   "execution_count": 58,
   "metadata": {
    "collapsed": false
   },
   "outputs": [
    {
     "data": {
      "text/plain": [
       "(477, 500)"
      ]
     },
     "execution_count": 58,
     "metadata": {},
     "output_type": "execute_result"
    }
   ],
   "source": [
    "# If the tables are large we can downsample the tables like this\n",
    "A1, B1 = em.down_sample(A, B, 500, 1, show_progress=False)\n",
    "len(A1), len(B1)\n",
    "\n",
    "# But for the demo, we will use the entire table A and B"
   ]
  },
  {
   "cell_type": "markdown",
   "metadata": {},
   "source": [
    "## Block tables to get candidate set"
   ]
  },
  {
   "cell_type": "code",
   "execution_count": 59,
   "metadata": {
    "collapsed": false
   },
   "outputs": [
    {
     "name": "stdout",
     "output_type": "stream",
     "text": [
      "Number of unique values: 10\n",
      "Number of missing values: 0\n",
      "\n",
      "Unique values:\n",
      "[1994, 1995, 1996, 1997, 1998, 1999, 2000, 2001, 2002, 2003]\n",
      "\n",
      "Frequency plot:\n",
      "\n"
     ]
    },
    {
     "data": {
      "image/png": "[encoded data removed]",
      "text/plain": [
       "<matplotlib.figure.Figure at 0x116126908>"
      ]
     },
     "metadata": {},
     "output_type": "display_data"
    }
   ],
   "source": [
    "profiler.profile_table(A, 'year')"
   ]
  },
  {
   "cell_type": "code",
   "execution_count": 60,
   "metadata": {
    "collapsed": false
   },
   "outputs": [
    {
     "name": "stdout",
     "output_type": "stream",
     "text": [
      "Number of unique values: 11\n",
      "Number of missing values: 0\n",
      "\n",
      "Unique values:\n",
      "[1994, 1995, 1996, 1997, 1998, 1999, 2000, 2001, 2002, 2003, 20003]\n",
      "\n",
      "Frequency plot:\n",
      "\n"
     ]
    },
    {
     "data": {
      "image/png": "[encoded data removed]",
      "text/plain": [
       "<matplotlib.figure.Figure at 0x1226b6320>"
      ]
     },
     "metadata": {},
     "output_type": "display_data"
    }
   ],
   "source": [
    "profiler.profile_table(B, 'year')"
   ]
  },
  {
   "cell_type": "code",
   "execution_count": 61,
   "metadata": {
    "collapsed": true
   },
   "outputs": [],
   "source": [
    "B.replace({'year':{\n",
    "            20003:2003\n",
    "        }}, inplace=True)"
   ]
  },
  {
   "cell_type": "markdown",
   "metadata": {
    "collapsed": true
   },
   "source": [
    "![title](profile_table.png)"
   ]
  },
  {
   "cell_type": "code",
   "execution_count": 62,
   "metadata": {
    "collapsed": true
   },
   "outputs": [],
   "source": [
    "### Blocking plan\n",
    "\n",
    "### A, B -- AttrEquivalence blocker [year]--------------------------| Candidate set"
   ]
  },
  {
   "cell_type": "code",
   "execution_count": 63,
   "metadata": {
    "collapsed": false
   },
   "outputs": [
    {
     "data": {
      "text/plain": [
       "328781"
      ]
     },
     "execution_count": 63,
     "metadata": {},
     "output_type": "execute_result"
    }
   ],
   "source": [
    "# Create attribute equivalence blocker\n",
    "ab = em.AttrEquivalenceBlocker()\n",
    "# Block tables using 'year' attribute : same year include in candidate set\n",
    "C1 = ab.block_tables(A, B, 'year', 'year', \n",
    "                     l_output_attrs=['title', 'authors', 'year'],\n",
    "                     r_output_attrs=['title', 'authors', 'year']\n",
    "                    )\n",
    "len(C1)"
   ]
  },
  {
   "cell_type": "code",
   "execution_count": 64,
   "metadata": {
    "collapsed": false
   },
   "outputs": [
    {
     "data": {
      "text/html": [
       "<div>\n",
       "<table border=\"1\" class=\"dataframe\">\n",
       "  <thead>\n",
       "    <tr style=\"text-align: right;\">\n",
       "      <th></th>\n",
       "      <th>_id</th>\n",
       "      <th>ltable_id</th>\n",
       "      <th>rtable_id</th>\n",
       "      <th>ltable_title</th>\n",
       "      <th>ltable_authors</th>\n",
       "      <th>ltable_year</th>\n",
       "      <th>rtable_title</th>\n",
       "      <th>rtable_authors</th>\n",
       "      <th>rtable_year</th>\n",
       "    </tr>\n",
       "  </thead>\n",
       "  <tbody>\n",
       "    <tr>\n",
       "      <th>0</th>\n",
       "      <td>0</td>\n",
       "      <td>l0</td>\n",
       "      <td>r2</td>\n",
       "      <td>Paradise: A Database System for GIS Applications</td>\n",
       "      <td>Paradise Team</td>\n",
       "      <td>1995</td>\n",
       "      <td>Nearest neighbor queries</td>\n",
       "      <td>Nick Roussopoulos, Stephen Kelley, Frédéric Vincent</td>\n",
       "      <td>1995</td>\n",
       "    </tr>\n",
       "    <tr>\n",
       "      <th>1</th>\n",
       "      <td>1</td>\n",
       "      <td>l0</td>\n",
       "      <td>r3</td>\n",
       "      <td>Paradise: A Database System for GIS Applications</td>\n",
       "      <td>Paradise Team</td>\n",
       "      <td>1995</td>\n",
       "      <td>The LyriC language: querying constraint objects</td>\n",
       "      <td>Alexander Brodsky, Yoram Kornatzky</td>\n",
       "      <td>1995</td>\n",
       "    </tr>\n",
       "  </tbody>\n",
       "</table>\n",
       "</div>"
      ],
      "text/plain": [
       "   _id ltable_id rtable_id                                      ltable_title  \\\n",
       "0    0        l0        r2  Paradise: A Database System for GIS Applications   \n",
       "1    1        l0        r3  Paradise: A Database System for GIS Applications   \n",
       "\n",
       "  ltable_authors  ltable_year  \\\n",
       "0  Paradise Team         1995   \n",
       "1  Paradise Team         1995   \n",
       "\n",
       "                                      rtable_title  \\\n",
       "0                         Nearest neighbor queries   \n",
       "1  The LyriC language: querying constraint objects   \n",
       "\n",
       "                                        rtable_authors  rtable_year  \n",
       "0  Nick Roussopoulos, Stephen Kelley, Frédéric Vincent         1995  \n",
       "1                   Alexander Brodsky, Yoram Kornatzky         1995  "
      ]
     },
     "execution_count": 64,
     "metadata": {},
     "output_type": "execute_result"
    }
   ],
   "source": [
    "C1.head(2)"
   ]
  },
  {
   "cell_type": "markdown",
   "metadata": {},
   "source": [
    "### Debug blocking output"
   ]
  },
  {
   "cell_type": "code",
   "execution_count": 65,
   "metadata": {
    "collapsed": false
   },
   "outputs": [],
   "source": [
    "# check whether the current blocking method has dropped a lot of potential matches\n",
    "dbg = em.debug_blocker(C1, A, B, \n",
    "                       l_output_attrs=['title', 'authors', 'year'], \n",
    "                       r_output_attrs=['title', 'authors', 'year'])"
   ]
  },
  {
   "cell_type": "code",
   "execution_count": 67,
   "metadata": {
    "collapsed": false
   },
   "outputs": [
    {
     "data": {
      "text/html": [
       "<div>\n",
       "<table border=\"1\" class=\"dataframe\">\n",
       "  <thead>\n",
       "    <tr style=\"text-align: right;\">\n",
       "      <th></th>\n",
       "      <th>_id</th>\n",
       "      <th>similarity</th>\n",
       "      <th>ltable_id</th>\n",
       "      <th>rtable_id</th>\n",
       "      <th>ltable_title</th>\n",
       "      <th>ltable_authors</th>\n",
       "      <th>ltable_year</th>\n",
       "      <th>rtable_title</th>\n",
       "      <th>rtable_authors</th>\n",
       "      <th>rtable_year</th>\n",
       "    </tr>\n",
       "  </thead>\n",
       "  <tbody>\n",
       "    <tr>\n",
       "      <th>0</th>\n",
       "      <td>0</td>\n",
       "      <td>0.941176</td>\n",
       "      <td>l239</td>\n",
       "      <td>r821</td>\n",
       "      <td>Workshop Report on Experiences Using Object Data Management in the Real-World</td>\n",
       "      <td>Akmal B. Chaudhri</td>\n",
       "      <td>1998</td>\n",
       "      <td>Workshop report on experiences using object data management in the real-world</td>\n",
       "      <td>Akmal B. Chaudhri</td>\n",
       "      <td>1999</td>\n",
       "    </tr>\n",
       "    <tr>\n",
       "      <th>1</th>\n",
       "      <td>1</td>\n",
       "      <td>0.941176</td>\n",
       "      <td>l941</td>\n",
       "      <td>r94</td>\n",
       "      <td>Some Remarks on Variable Independence, Closure, and Orthographic Dimension in Constraint Databases</td>\n",
       "      <td>Leonid Libkin</td>\n",
       "      <td>1999</td>\n",
       "      <td>Some remarks on variable independence, closure, and orthographic dimension in constraint databases</td>\n",
       "      <td>Leonid Libkin</td>\n",
       "      <td>1998</td>\n",
       "    </tr>\n",
       "    <tr>\n",
       "      <th>2</th>\n",
       "      <td>2</td>\n",
       "      <td>0.928571</td>\n",
       "      <td>l790</td>\n",
       "      <td>r106</td>\n",
       "      <td>Research in database engineering at the University of Namur</td>\n",
       "      <td>Jean-Luc Hainaut</td>\n",
       "      <td>2003</td>\n",
       "      <td>Research in database engineering at the University of Namur</td>\n",
       "      <td>Jean-Luc Hainaut</td>\n",
       "      <td>2002</td>\n",
       "    </tr>\n",
       "    <tr>\n",
       "      <th>3</th>\n",
       "      <td>3</td>\n",
       "      <td>0.928571</td>\n",
       "      <td>l1039</td>\n",
       "      <td>r1051</td>\n",
       "      <td>Middle East Technical University Software Research and Development Center</td>\n",
       "      <td>Asuman Dogac</td>\n",
       "      <td>1996</td>\n",
       "      <td>Middle East Technical University Software Research and Development Center</td>\n",
       "      <td>Asuman Dogac</td>\n",
       "      <td>1998</td>\n",
       "    </tr>\n",
       "    <tr>\n",
       "      <th>4</th>\n",
       "      <td>4</td>\n",
       "      <td>0.923077</td>\n",
       "      <td>l1207</td>\n",
       "      <td>r148</td>\n",
       "      <td>Database Research at NTHU and ITRI</td>\n",
       "      <td>Arbee L. P. Chen</td>\n",
       "      <td>1994</td>\n",
       "      <td>Database research at NTHU and ITRI</td>\n",
       "      <td>Arbee L. P. Chen</td>\n",
       "      <td>1995</td>\n",
       "    </tr>\n",
       "  </tbody>\n",
       "</table>\n",
       "</div>"
      ],
      "text/plain": [
       "   _id  similarity ltable_id rtable_id  \\\n",
       "0    0    0.941176      l239      r821   \n",
       "1    1    0.941176      l941       r94   \n",
       "2    2    0.928571      l790      r106   \n",
       "3    3    0.928571     l1039     r1051   \n",
       "4    4    0.923077     l1207      r148   \n",
       "\n",
       "                                                                                         ltable_title  \\\n",
       "0                       Workshop Report on Experiences Using Object Data Management in the Real-World   \n",
       "1  Some Remarks on Variable Independence, Closure, and Orthographic Dimension in Constraint Databases   \n",
       "2                                         Research in database engineering at the University of Namur   \n",
       "3                           Middle East Technical University Software Research and Development Center   \n",
       "4                                                                  Database Research at NTHU and ITRI   \n",
       "\n",
       "      ltable_authors  ltable_year  \\\n",
       "0  Akmal B. Chaudhri         1998   \n",
       "1      Leonid Libkin         1999   \n",
       "2   Jean-Luc Hainaut         2003   \n",
       "3       Asuman Dogac         1996   \n",
       "4   Arbee L. P. Chen         1994   \n",
       "\n",
       "                                                                                         rtable_title  \\\n",
       "0                       Workshop report on experiences using object data management in the real-world   \n",
       "1  Some remarks on variable independence, closure, and orthographic dimension in constraint databases   \n",
       "2                                         Research in database engineering at the University of Namur   \n",
       "3                           Middle East Technical University Software Research and Development Center   \n",
       "4                                                                  Database research at NTHU and ITRI   \n",
       "\n",
       "      rtable_authors  rtable_year  \n",
       "0  Akmal B. Chaudhri         1999  \n",
       "1      Leonid Libkin         1998  \n",
       "2   Jean-Luc Hainaut         2002  \n",
       "3       Asuman Dogac         1998  \n",
       "4   Arbee L. P. Chen         1995  "
      ]
     },
     "execution_count": 67,
     "metadata": {},
     "output_type": "execute_result"
    }
   ],
   "source": [
    "dbg.head()"
   ]
  },
  {
   "cell_type": "code",
   "execution_count": 17,
   "metadata": {
    "collapsed": true
   },
   "outputs": [],
   "source": [
    "# em.view_table(dbg)"
   ]
  },
  {
   "cell_type": "code",
   "execution_count": 68,
   "metadata": {
    "collapsed": true
   },
   "outputs": [],
   "source": [
    "# Revised blocking plan\n",
    "\n",
    "# A, B -- AttrEquivalence blocker [year] --------------------|\n",
    "#                                                           |---> candidate set\n",
    "# A, B -- Overlap blocker [title]---------------------------|"
   ]
  },
  {
   "cell_type": "code",
   "execution_count": 19,
   "metadata": {
    "collapsed": false
   },
   "outputs": [
    {
     "data": {
      "text/html": [
       "<div>\n",
       "<table border=\"1\" class=\"dataframe\">\n",
       "  <thead>\n",
       "    <tr style=\"text-align: right;\">\n",
       "      <th></th>\n",
       "      <th>Property</th>\n",
       "      <th>Value</th>\n",
       "    </tr>\n",
       "  </thead>\n",
       "  <tbody>\n",
       "    <tr>\n",
       "      <th>0</th>\n",
       "      <td>Num. Missing Values</td>\n",
       "      <td>0</td>\n",
       "    </tr>\n",
       "    <tr>\n",
       "      <th>1</th>\n",
       "      <td>Num. Unique Values</td>\n",
       "      <td>1797</td>\n",
       "    </tr>\n",
       "    <tr>\n",
       "      <th>2</th>\n",
       "      <td>List of Unique Values</td>\n",
       "      <td>[1-Safe Algorithms for Symmetric Site Configurations, 3D Geographic Network Displays, 50,000 Use...</td>\n",
       "    </tr>\n",
       "  </tbody>\n",
       "</table>\n",
       "</div>"
      ],
      "text/plain": [
       "                Property  \\\n",
       "0    Num. Missing Values   \n",
       "1     Num. Unique Values   \n",
       "2  List of Unique Values   \n",
       "\n",
       "                                                                                                 Value  \n",
       "0                                                                                                    0  \n",
       "1                                                                                                 1797  \n",
       "2  [1-Safe Algorithms for Symmetric Site Configurations, 3D Geographic Network Displays, 50,000 Use...  "
      ]
     },
     "execution_count": 19,
     "metadata": {},
     "output_type": "execute_result"
    }
   ],
   "source": [
    "profiler.profile_table(A, 'title', plot=False)"
   ]
  },
  {
   "cell_type": "code",
   "execution_count": 20,
   "metadata": {
    "collapsed": false
   },
   "outputs": [
    {
     "data": {
      "text/html": [
       "<div>\n",
       "<table border=\"1\" class=\"dataframe\">\n",
       "  <thead>\n",
       "    <tr style=\"text-align: right;\">\n",
       "      <th></th>\n",
       "      <th>Property</th>\n",
       "      <th>Value</th>\n",
       "    </tr>\n",
       "  </thead>\n",
       "  <tbody>\n",
       "    <tr>\n",
       "      <th>0</th>\n",
       "      <td>Num. Missing Values</td>\n",
       "      <td>0</td>\n",
       "    </tr>\n",
       "    <tr>\n",
       "      <th>1</th>\n",
       "      <td>Num. Unique Values</td>\n",
       "      <td>1803</td>\n",
       "    </tr>\n",
       "    <tr>\n",
       "      <th>2</th>\n",
       "      <td>List of Unique Values</td>\n",
       "      <td>[1-Safe Algorithms for Symmetric Site Configurations, 2Q: A Low Overhead High Performance Buffer...</td>\n",
       "    </tr>\n",
       "  </tbody>\n",
       "</table>\n",
       "</div>"
      ],
      "text/plain": [
       "                Property  \\\n",
       "0    Num. Missing Values   \n",
       "1     Num. Unique Values   \n",
       "2  List of Unique Values   \n",
       "\n",
       "                                                                                                 Value  \n",
       "0                                                                                                    0  \n",
       "1                                                                                                 1803  \n",
       "2  [1-Safe Algorithms for Symmetric Site Configurations, 2Q: A Low Overhead High Performance Buffer...  "
      ]
     },
     "execution_count": 20,
     "metadata": {},
     "output_type": "execute_result"
    }
   ],
   "source": [
    "profiler.profile_table(B, 'title', plot=False)"
   ]
  },
  {
   "cell_type": "code",
   "execution_count": 69,
   "metadata": {
    "collapsed": false
   },
   "outputs": [
    {
     "data": {
      "text/plain": [
       "476319"
      ]
     },
     "execution_count": 69,
     "metadata": {},
     "output_type": "execute_result"
    }
   ],
   "source": [
    "# Initialize overlap blocker\n",
    "ob = em.OverlapBlocker()\n",
    "# Block over title attribute\n",
    "C2 = ob.block_tables(A, B, 'title', 'title', show_progress=False, overlap_size=1)\n",
    "len(C2)"
   ]
  },
  {
   "cell_type": "code",
   "execution_count": 70,
   "metadata": {
    "collapsed": false
   },
   "outputs": [
    {
     "data": {
      "text/plain": [
       "752550"
      ]
     },
     "execution_count": 70,
     "metadata": {},
     "output_type": "execute_result"
    }
   ],
   "source": [
    "# Combine the outputs from attr. equivalence blocker and overlap blocker\n",
    "C = em.combine_blocker_outputs_via_union([C1, C2])\n",
    "len(C)"
   ]
  },
  {
   "cell_type": "code",
   "execution_count": 71,
   "metadata": {
    "collapsed": false
   },
   "outputs": [],
   "source": [
    "# Check again to see if we are dropping any potential matches\n",
    "dbg = em.debug_blocker(C, A, B, \n",
    "                       l_output_attrs=['title', 'authors', 'year'], \n",
    "                       r_output_attrs=['title', 'authors', 'year'])\n"
   ]
  },
  {
   "cell_type": "code",
   "execution_count": 72,
   "metadata": {
    "collapsed": false
   },
   "outputs": [
    {
     "data": {
      "text/html": [
       "<div>\n",
       "<table border=\"1\" class=\"dataframe\">\n",
       "  <thead>\n",
       "    <tr style=\"text-align: right;\">\n",
       "      <th></th>\n",
       "      <th>_id</th>\n",
       "      <th>similarity</th>\n",
       "      <th>ltable_id</th>\n",
       "      <th>rtable_id</th>\n",
       "      <th>ltable_title</th>\n",
       "      <th>ltable_authors</th>\n",
       "      <th>ltable_year</th>\n",
       "      <th>rtable_title</th>\n",
       "      <th>rtable_authors</th>\n",
       "      <th>rtable_year</th>\n",
       "    </tr>\n",
       "  </thead>\n",
       "  <tbody>\n",
       "    <tr>\n",
       "      <th>0</th>\n",
       "      <td>0</td>\n",
       "      <td>0.400000</td>\n",
       "      <td>l188</td>\n",
       "      <td>r1666</td>\n",
       "      <td>An Early Look at XQuery</td>\n",
       "      <td>Andrew Eisenberg, Jim Melton</td>\n",
       "      <td>2002</td>\n",
       "      <td>Standards in practice</td>\n",
       "      <td>Andrew Eisenberg, Jim Melton</td>\n",
       "      <td>1998</td>\n",
       "    </tr>\n",
       "    <tr>\n",
       "      <th>1</th>\n",
       "      <td>1</td>\n",
       "      <td>0.400000</td>\n",
       "      <td>l1686</td>\n",
       "      <td>r1666</td>\n",
       "      <td>SQL/XML is Making Good Progress</td>\n",
       "      <td>Andrew Eisenberg, Jim Melton</td>\n",
       "      <td>2002</td>\n",
       "      <td>Standards in practice</td>\n",
       "      <td>Andrew Eisenberg, Jim Melton</td>\n",
       "      <td>1998</td>\n",
       "    </tr>\n",
       "    <tr>\n",
       "      <th>2</th>\n",
       "      <td>2</td>\n",
       "      <td>0.400000</td>\n",
       "      <td>l484</td>\n",
       "      <td>r1666</td>\n",
       "      <td>SQL Standardization: The Next Steps</td>\n",
       "      <td>Andrew Eisenberg, Jim Melton</td>\n",
       "      <td>2000</td>\n",
       "      <td>Standards in practice</td>\n",
       "      <td>Andrew Eisenberg, Jim Melton</td>\n",
       "      <td>1998</td>\n",
       "    </tr>\n",
       "    <tr>\n",
       "      <th>3</th>\n",
       "      <td>3</td>\n",
       "      <td>0.384615</td>\n",
       "      <td>l519</td>\n",
       "      <td>r352</td>\n",
       "      <td>Developments at ACM TODS</td>\n",
       "      <td>Richard T. Snodgrass</td>\n",
       "      <td>2003</td>\n",
       "      <td>Reminiscences in influential papers</td>\n",
       "      <td>Richard Snodgrass</td>\n",
       "      <td>1998</td>\n",
       "    </tr>\n",
       "    <tr>\n",
       "      <th>4</th>\n",
       "      <td>4</td>\n",
       "      <td>0.384615</td>\n",
       "      <td>l519</td>\n",
       "      <td>r921</td>\n",
       "      <td>Developments at ACM TODS</td>\n",
       "      <td>Richard T. Snodgrass</td>\n",
       "      <td>2003</td>\n",
       "      <td>Reminiscences on influential papers</td>\n",
       "      <td>Richard Snodgrass</td>\n",
       "      <td>1998</td>\n",
       "    </tr>\n",
       "  </tbody>\n",
       "</table>\n",
       "</div>"
      ],
      "text/plain": [
       "   _id  similarity ltable_id rtable_id                         ltable_title  \\\n",
       "0    0    0.400000      l188     r1666              An Early Look at XQuery   \n",
       "1    1    0.400000     l1686     r1666      SQL/XML is Making Good Progress   \n",
       "2    2    0.400000      l484     r1666  SQL Standardization: The Next Steps   \n",
       "3    3    0.384615      l519      r352             Developments at ACM TODS   \n",
       "4    4    0.384615      l519      r921             Developments at ACM TODS   \n",
       "\n",
       "                 ltable_authors  ltable_year  \\\n",
       "0  Andrew Eisenberg, Jim Melton         2002   \n",
       "1  Andrew Eisenberg, Jim Melton         2002   \n",
       "2  Andrew Eisenberg, Jim Melton         2000   \n",
       "3          Richard T. Snodgrass         2003   \n",
       "4          Richard T. Snodgrass         2003   \n",
       "\n",
       "                          rtable_title                rtable_authors  \\\n",
       "0                Standards in practice  Andrew Eisenberg, Jim Melton   \n",
       "1                Standards in practice  Andrew Eisenberg, Jim Melton   \n",
       "2                Standards in practice  Andrew Eisenberg, Jim Melton   \n",
       "3  Reminiscences in influential papers             Richard Snodgrass   \n",
       "4  Reminiscences on influential papers             Richard Snodgrass   \n",
       "\n",
       "   rtable_year  \n",
       "0         1998  \n",
       "1         1998  \n",
       "2         1998  \n",
       "3         1998  \n",
       "4         1998  "
      ]
     },
     "execution_count": 72,
     "metadata": {},
     "output_type": "execute_result"
    }
   ],
   "source": [
    "dbg.head()"
   ]
  },
  {
   "cell_type": "code",
   "execution_count": null,
   "metadata": {
    "collapsed": true
   },
   "outputs": [],
   "source": []
  },
  {
   "cell_type": "markdown",
   "metadata": {},
   "source": [
    "### Match tuple pairs in candidate set"
   ]
  },
  {
   "cell_type": "markdown",
   "metadata": {},
   "source": [
    "#### 1. Sample candidate set  --> S\n",
    "#### 2. Label S \n",
    "#### 3. Split S into development set (I) and evaluation set (J)\n",
    "#### 4. Select best learning-based matcher X, using I\n",
    "#### 5. Compute accuracy of X on J"
   ]
  },
  {
   "cell_type": "code",
   "execution_count": 73,
   "metadata": {
    "collapsed": false
   },
   "outputs": [],
   "source": [
    "# Sample  candidate set\n",
    "S = em.sample_table(C, 450)"
   ]
  },
  {
   "cell_type": "code",
   "execution_count": 74,
   "metadata": {
    "collapsed": false
   },
   "outputs": [],
   "source": [
    "# Label S\n",
    "S = em.label_table(S, 'label')"
   ]
  },
  {
   "cell_type": "code",
   "execution_count": 75,
   "metadata": {
    "collapsed": false
   },
   "outputs": [
    {
     "data": {
      "text/plain": [
       "450"
      ]
     },
     "execution_count": 75,
     "metadata": {},
     "output_type": "execute_result"
    }
   ],
   "source": [
    "# Load the pre-labeled data\n",
    "S = em.read_csv_metadata('labeled_data_demo.csv', ltable=A, rtable=B)\n",
    "len(S)"
   ]
  },
  {
   "cell_type": "code",
   "execution_count": 76,
   "metadata": {
    "collapsed": false
   },
   "outputs": [],
   "source": [
    "# Split S into I an J\n",
    "IJ = em.split_train_test(S, train_proportion=0.7, random_state=0)\n",
    "I = IJ['train']\n",
    "J = IJ['test']"
   ]
  },
  {
   "cell_type": "markdown",
   "metadata": {},
   "source": [
    "### Selecting the best learning-based matcher using I\n",
    "\n",
    "\n",
    "#### 1. Create a set of ML-matchers\n",
    "#### 2. Generate a set of features (F)\n",
    "#### 3. Convert I into a set of feature vectors (H) using F\n",
    "#### 4. Select best learning-based matcher (X) using k-fold cross validation over H\n",
    "#### 5. Debug X (and repeat the above steps)"
   ]
  },
  {
   "cell_type": "code",
   "execution_count": 77,
   "metadata": {
    "collapsed": false
   },
   "outputs": [],
   "source": [
    "# Create a set of ML-matchers\n",
    "dt = em.DTMatcher(name='DecisionTree', random_state=0)\n",
    "svm = em.SVMMatcher(name='SVM', random_state=0)\n",
    "rf = em.RFMatcher(name='RF', random_state=0)\n",
    "lg = em.LogRegMatcher(name='LogReg', random_state=0)\n",
    "ln = em.LinRegMatcher(name='LinReg')"
   ]
  },
  {
   "cell_type": "code",
   "execution_count": 78,
   "metadata": {
    "collapsed": false
   },
   "outputs": [],
   "source": [
    "# Generate a set of features\n",
    "F = em.get_features_for_matching(A, B)"
   ]
  },
  {
   "cell_type": "code",
   "execution_count": 79,
   "metadata": {
    "collapsed": false
   },
   "outputs": [
    {
     "data": {
      "text/plain": [
       "0                              id_id_lev_dist\n",
       "1                               id_id_lev_sim\n",
       "2                                   id_id_jar\n",
       "3                                   id_id_jwn\n",
       "4                                   id_id_exm\n",
       "5                       id_id_jac_qgm_3_qgm_3\n",
       "6                 title_title_jac_qgm_3_qgm_3\n",
       "7         title_title_cos_dlm_dc_sp_dlm_dc_sp\n",
       "8                             title_title_mel\n",
       "9                        title_title_lev_dist\n",
       "10                        title_title_lev_sim\n",
       "11            authors_authors_jac_qgm_3_qgm_3\n",
       "12    authors_authors_cos_dlm_dc_sp_dlm_dc_sp\n",
       "13                        authors_authors_mel\n",
       "14                   authors_authors_lev_dist\n",
       "15                    authors_authors_lev_sim\n",
       "16                venue_venue_jac_qgm_3_qgm_3\n",
       "17        venue_venue_cos_dlm_dc_sp_dlm_dc_sp\n",
       "18        venue_venue_jac_dlm_dc_sp_dlm_dc_sp\n",
       "19                            venue_venue_mel\n",
       "20                       venue_venue_lev_dist\n",
       "21                        venue_venue_lev_sim\n",
       "22                            venue_venue_nmw\n",
       "23                             venue_venue_sw\n",
       "24                              year_year_exm\n",
       "25                              year_year_anm\n",
       "26                         year_year_lev_dist\n",
       "27                          year_year_lev_sim\n",
       "Name: feature_name, dtype: object"
      ]
     },
     "execution_count": 79,
     "metadata": {},
     "output_type": "execute_result"
    }
   ],
   "source": [
    "# List the feature names generated\n",
    "F['feature_name']"
   ]
  },
  {
   "cell_type": "code",
   "execution_count": 80,
   "metadata": {
    "collapsed": false
   },
   "outputs": [],
   "source": [
    "# Convert the I into a set of feature vectors using F\n",
    "H = em.extract_feature_vecs(I, \n",
    "                            feature_table=F, \n",
    "                            attrs_after='label',\n",
    "                            show_progress=False) "
   ]
  },
  {
   "cell_type": "code",
   "execution_count": 81,
   "metadata": {
    "collapsed": false
   },
   "outputs": [
    {
     "data": {
      "text/html": [
       "<div>\n",
       "<table border=\"1\" class=\"dataframe\">\n",
       "  <thead>\n",
       "    <tr style=\"text-align: right;\">\n",
       "      <th></th>\n",
       "      <th>Name</th>\n",
       "      <th>Matcher</th>\n",
       "      <th>Num folds</th>\n",
       "      <th>Fold 1</th>\n",
       "      <th>Fold 2</th>\n",
       "      <th>Fold 3</th>\n",
       "      <th>Fold 4</th>\n",
       "      <th>Fold 5</th>\n",
       "      <th>Mean score</th>\n",
       "    </tr>\n",
       "  </thead>\n",
       "  <tbody>\n",
       "    <tr>\n",
       "      <th>0</th>\n",
       "      <td>DecisionTree</td>\n",
       "      <td>&lt;py_entitymatching.matcher.dtmatcher.DTMatcher object at 0x1161179e8&gt;</td>\n",
       "      <td>5</td>\n",
       "      <td>0.871795</td>\n",
       "      <td>0.820513</td>\n",
       "      <td>0.979592</td>\n",
       "      <td>0.979592</td>\n",
       "      <td>0.936170</td>\n",
       "      <td>0.917532</td>\n",
       "    </tr>\n",
       "    <tr>\n",
       "      <th>1</th>\n",
       "      <td>RF</td>\n",
       "      <td>&lt;py_entitymatching.matcher.rfmatcher.RFMatcher object at 0x116117b00&gt;</td>\n",
       "      <td>5</td>\n",
       "      <td>0.918919</td>\n",
       "      <td>0.944444</td>\n",
       "      <td>0.956522</td>\n",
       "      <td>1.000000</td>\n",
       "      <td>0.977778</td>\n",
       "      <td>0.959533</td>\n",
       "    </tr>\n",
       "    <tr>\n",
       "      <th>2</th>\n",
       "      <td>SVM</td>\n",
       "      <td>&lt;py_entitymatching.matcher.svmmatcher.SVMMatcher object at 0x116117c50&gt;</td>\n",
       "      <td>5</td>\n",
       "      <td>0.727273</td>\n",
       "      <td>0.848485</td>\n",
       "      <td>0.736842</td>\n",
       "      <td>0.956522</td>\n",
       "      <td>0.900000</td>\n",
       "      <td>0.833824</td>\n",
       "    </tr>\n",
       "    <tr>\n",
       "      <th>3</th>\n",
       "      <td>LinReg</td>\n",
       "      <td>&lt;py_entitymatching.matcher.linregmatcher.LinRegMatcher object at 0x116117e10&gt;</td>\n",
       "      <td>5</td>\n",
       "      <td>0.857143</td>\n",
       "      <td>0.944444</td>\n",
       "      <td>0.956522</td>\n",
       "      <td>1.000000</td>\n",
       "      <td>1.000000</td>\n",
       "      <td>0.951622</td>\n",
       "    </tr>\n",
       "    <tr>\n",
       "      <th>4</th>\n",
       "      <td>LogReg</td>\n",
       "      <td>&lt;py_entitymatching.matcher.logregmatcher.LogRegMatcher object at 0x116117b38&gt;</td>\n",
       "      <td>5</td>\n",
       "      <td>0.871795</td>\n",
       "      <td>0.871795</td>\n",
       "      <td>0.956522</td>\n",
       "      <td>1.000000</td>\n",
       "      <td>0.976744</td>\n",
       "      <td>0.935371</td>\n",
       "    </tr>\n",
       "  </tbody>\n",
       "</table>\n",
       "</div>"
      ],
      "text/plain": [
       "           Name  \\\n",
       "0  DecisionTree   \n",
       "1            RF   \n",
       "2           SVM   \n",
       "3        LinReg   \n",
       "4        LogReg   \n",
       "\n",
       "                                                                         Matcher  \\\n",
       "0          <py_entitymatching.matcher.dtmatcher.DTMatcher object at 0x1161179e8>   \n",
       "1          <py_entitymatching.matcher.rfmatcher.RFMatcher object at 0x116117b00>   \n",
       "2        <py_entitymatching.matcher.svmmatcher.SVMMatcher object at 0x116117c50>   \n",
       "3  <py_entitymatching.matcher.linregmatcher.LinRegMatcher object at 0x116117e10>   \n",
       "4  <py_entitymatching.matcher.logregmatcher.LogRegMatcher object at 0x116117b38>   \n",
       "\n",
       "   Num folds    Fold 1    Fold 2    Fold 3    Fold 4    Fold 5  Mean score  \n",
       "0          5  0.871795  0.820513  0.979592  0.979592  0.936170    0.917532  \n",
       "1          5  0.918919  0.944444  0.956522  1.000000  0.977778    0.959533  \n",
       "2          5  0.727273  0.848485  0.736842  0.956522  0.900000    0.833824  \n",
       "3          5  0.857143  0.944444  0.956522  1.000000  1.000000    0.951622  \n",
       "4          5  0.871795  0.871795  0.956522  1.000000  0.976744    0.935371  "
      ]
     },
     "execution_count": 81,
     "metadata": {},
     "output_type": "execute_result"
    }
   ],
   "source": [
    "# Select the best ML matcher using CV\n",
    "result = em.select_matcher([dt, rf, svm, ln, lg], table=H, \n",
    "        exclude_attrs=['_id', 'ltable_id', 'rtable_id', 'label'],\n",
    "        k=5,\n",
    "        target_attr='label', metric='f1', random_state=0)\n",
    "result['cv_stats']"
   ]
  },
  {
   "cell_type": "markdown",
   "metadata": {},
   "source": [
    "#### Debug X (Random Forest)"
   ]
  },
  {
   "cell_type": "code",
   "execution_count": 82,
   "metadata": {
    "collapsed": false
   },
   "outputs": [],
   "source": [
    "# Split H into P and Q\n",
    "PQ = em.split_train_test(H, train_proportion=0.5, random_state=0)\n",
    "P = PQ['train']\n",
    "Q = PQ['test']"
   ]
  },
  {
   "cell_type": "code",
   "execution_count": 83,
   "metadata": {
    "collapsed": false
   },
   "outputs": [],
   "source": [
    "# Debug RF matcher using GUI\n",
    "em.vis_debug_rf(rf, P, Q, \n",
    "        exclude_attrs=['_id', 'ltable_id', 'rtable_id', 'label'],\n",
    "        target_attr='label')"
   ]
  },
  {
   "cell_type": "code",
   "execution_count": 36,
   "metadata": {
    "collapsed": true
   },
   "outputs": [],
   "source": [
    "# Swap P and Q, and debug again\n",
    "em.vis_debug_rf(rf, Q, P, \n",
    "        exclude_attrs=['_id', 'ltable_id', 'rtable_id', 'label'],\n",
    "        target_attr='label')"
   ]
  },
  {
   "cell_type": "code",
   "execution_count": 84,
   "metadata": {
    "collapsed": false
   },
   "outputs": [
    {
     "data": {
      "text/plain": [
       "True"
      ]
     },
     "execution_count": 84,
     "metadata": {},
     "output_type": "execute_result"
    }
   ],
   "source": [
    "# Add a feature to do Jaccard on title + authors and add it to F\n",
    "\n",
    "# Create a feature declaratively\n",
    "sim = em.get_sim_funs_for_matching()\n",
    "tok = em.get_tokenizers_for_matching()\n",
    "feature_string = \"\"\"jaccard(wspace((ltuple['title'] + ' ' + ltuple['authors']).lower()), \n",
    "                            wspace((rtuple['title'] + ' ' + rtuple['authors']).lower()))\"\"\"\n",
    "feature = em.get_feature_fn(feature_string, sim, tok)\n",
    "\n",
    "# Add feature to F\n",
    "em.add_feature(F, 'jac_ws_title_authors', feature)"
   ]
  },
  {
   "cell_type": "code",
   "execution_count": 38,
   "metadata": {
    "collapsed": false
   },
   "outputs": [
    {
     "data": {
      "text/html": [
       "<div>\n",
       "<table border=\"1\" class=\"dataframe\">\n",
       "  <thead>\n",
       "    <tr style=\"text-align: right;\">\n",
       "      <th></th>\n",
       "      <th>simfunctions</th>\n",
       "    </tr>\n",
       "  </thead>\n",
       "  <tbody>\n",
       "    <tr>\n",
       "      <th>0</th>\n",
       "      <td>abs_norm</td>\n",
       "    </tr>\n",
       "    <tr>\n",
       "      <th>1</th>\n",
       "      <td>affine</td>\n",
       "    </tr>\n",
       "    <tr>\n",
       "      <th>2</th>\n",
       "      <td>cosine</td>\n",
       "    </tr>\n",
       "    <tr>\n",
       "      <th>3</th>\n",
       "      <td>dice</td>\n",
       "    </tr>\n",
       "    <tr>\n",
       "      <th>4</th>\n",
       "      <td>exact_match</td>\n",
       "    </tr>\n",
       "    <tr>\n",
       "      <th>5</th>\n",
       "      <td>hamming_dist</td>\n",
       "    </tr>\n",
       "    <tr>\n",
       "      <th>6</th>\n",
       "      <td>hamming_sim</td>\n",
       "    </tr>\n",
       "    <tr>\n",
       "      <th>7</th>\n",
       "      <td>jaccard</td>\n",
       "    </tr>\n",
       "    <tr>\n",
       "      <th>8</th>\n",
       "      <td>jaro</td>\n",
       "    </tr>\n",
       "    <tr>\n",
       "      <th>9</th>\n",
       "      <td>jaro_winkler</td>\n",
       "    </tr>\n",
       "    <tr>\n",
       "      <th>10</th>\n",
       "      <td>lev_dist</td>\n",
       "    </tr>\n",
       "    <tr>\n",
       "      <th>11</th>\n",
       "      <td>lev_sim</td>\n",
       "    </tr>\n",
       "    <tr>\n",
       "      <th>12</th>\n",
       "      <td>monge_elkan</td>\n",
       "    </tr>\n",
       "    <tr>\n",
       "      <th>13</th>\n",
       "      <td>needleman_wunsch</td>\n",
       "    </tr>\n",
       "    <tr>\n",
       "      <th>14</th>\n",
       "      <td>overlap_coeff</td>\n",
       "    </tr>\n",
       "    <tr>\n",
       "      <th>15</th>\n",
       "      <td>rel_diff</td>\n",
       "    </tr>\n",
       "    <tr>\n",
       "      <th>16</th>\n",
       "      <td>smith_waterman</td>\n",
       "    </tr>\n",
       "  </tbody>\n",
       "</table>\n",
       "</div>"
      ],
      "text/plain": [
       "        simfunctions\n",
       "0           abs_norm\n",
       "1             affine\n",
       "2             cosine\n",
       "3               dice\n",
       "4        exact_match\n",
       "5       hamming_dist\n",
       "6        hamming_sim\n",
       "7            jaccard\n",
       "8               jaro\n",
       "9       jaro_winkler\n",
       "10          lev_dist\n",
       "11           lev_sim\n",
       "12       monge_elkan\n",
       "13  needleman_wunsch\n",
       "14     overlap_coeff\n",
       "15          rel_diff\n",
       "16    smith_waterman"
      ]
     },
     "execution_count": 38,
     "metadata": {},
     "output_type": "execute_result"
    }
   ],
   "source": [
    "# Print supported sim. functions\n",
    "pd.DataFrame({'simfunctions':sorted(sim.keys())})"
   ]
  },
  {
   "cell_type": "code",
   "execution_count": 39,
   "metadata": {
    "collapsed": false
   },
   "outputs": [
    {
     "data": {
      "text/html": [
       "<div>\n",
       "<table border=\"1\" class=\"dataframe\">\n",
       "  <thead>\n",
       "    <tr style=\"text-align: right;\">\n",
       "      <th></th>\n",
       "      <th>tokenizers</th>\n",
       "    </tr>\n",
       "  </thead>\n",
       "  <tbody>\n",
       "    <tr>\n",
       "      <th>0</th>\n",
       "      <td>alphabetic</td>\n",
       "    </tr>\n",
       "    <tr>\n",
       "      <th>1</th>\n",
       "      <td>alphanumeric</td>\n",
       "    </tr>\n",
       "    <tr>\n",
       "      <th>2</th>\n",
       "      <td>dlm_dc_sp</td>\n",
       "    </tr>\n",
       "    <tr>\n",
       "      <th>3</th>\n",
       "      <td>qgm_2</td>\n",
       "    </tr>\n",
       "    <tr>\n",
       "      <th>4</th>\n",
       "      <td>qgm_3</td>\n",
       "    </tr>\n",
       "    <tr>\n",
       "      <th>5</th>\n",
       "      <td>wspace</td>\n",
       "    </tr>\n",
       "  </tbody>\n",
       "</table>\n",
       "</div>"
      ],
      "text/plain": [
       "     tokenizers\n",
       "0    alphabetic\n",
       "1  alphanumeric\n",
       "2     dlm_dc_sp\n",
       "3         qgm_2\n",
       "4         qgm_3\n",
       "5        wspace"
      ]
     },
     "execution_count": 39,
     "metadata": {},
     "output_type": "execute_result"
    }
   ],
   "source": [
    "# Print supported tokenizers\n",
    "pd.DataFrame({'tokenizers':sorted(tok.keys())})"
   ]
  },
  {
   "cell_type": "code",
   "execution_count": 85,
   "metadata": {
    "collapsed": false
   },
   "outputs": [
    {
     "data": {
      "text/plain": [
       "0                              id_id_lev_dist\n",
       "1                               id_id_lev_sim\n",
       "2                                   id_id_jar\n",
       "3                                   id_id_jwn\n",
       "4                                   id_id_exm\n",
       "5                       id_id_jac_qgm_3_qgm_3\n",
       "6                 title_title_jac_qgm_3_qgm_3\n",
       "7         title_title_cos_dlm_dc_sp_dlm_dc_sp\n",
       "8                             title_title_mel\n",
       "9                        title_title_lev_dist\n",
       "10                        title_title_lev_sim\n",
       "11            authors_authors_jac_qgm_3_qgm_3\n",
       "12    authors_authors_cos_dlm_dc_sp_dlm_dc_sp\n",
       "13                        authors_authors_mel\n",
       "14                   authors_authors_lev_dist\n",
       "15                    authors_authors_lev_sim\n",
       "16                venue_venue_jac_qgm_3_qgm_3\n",
       "17        venue_venue_cos_dlm_dc_sp_dlm_dc_sp\n",
       "18        venue_venue_jac_dlm_dc_sp_dlm_dc_sp\n",
       "19                            venue_venue_mel\n",
       "20                       venue_venue_lev_dist\n",
       "21                        venue_venue_lev_sim\n",
       "22                            venue_venue_nmw\n",
       "23                             venue_venue_sw\n",
       "24                              year_year_exm\n",
       "25                              year_year_anm\n",
       "26                         year_year_lev_dist\n",
       "27                          year_year_lev_sim\n",
       "28                       jac_ws_title_authors\n",
       "Name: feature_name, dtype: object"
      ]
     },
     "execution_count": 85,
     "metadata": {},
     "output_type": "execute_result"
    }
   ],
   "source": [
    "F['feature_name']"
   ]
  },
  {
   "cell_type": "code",
   "execution_count": 86,
   "metadata": {
    "collapsed": false
   },
   "outputs": [],
   "source": [
    "# Convert I into feature vectors using updated F\n",
    "H = em.extract_feature_vecs(I, \n",
    "                            feature_table=F, \n",
    "                            attrs_after='label',\n",
    "                            show_progress=False) "
   ]
  },
  {
   "cell_type": "code",
   "execution_count": 87,
   "metadata": {
    "collapsed": false
   },
   "outputs": [
    {
     "data": {
      "text/html": [
       "<div>\n",
       "<table border=\"1\" class=\"dataframe\">\n",
       "  <thead>\n",
       "    <tr style=\"text-align: right;\">\n",
       "      <th></th>\n",
       "      <th>Name</th>\n",
       "      <th>Matcher</th>\n",
       "      <th>Num folds</th>\n",
       "      <th>Fold 1</th>\n",
       "      <th>Fold 2</th>\n",
       "      <th>Fold 3</th>\n",
       "      <th>Fold 4</th>\n",
       "      <th>Fold 5</th>\n",
       "      <th>Mean score</th>\n",
       "    </tr>\n",
       "  </thead>\n",
       "  <tbody>\n",
       "    <tr>\n",
       "      <th>0</th>\n",
       "      <td>RF</td>\n",
       "      <td>&lt;py_entitymatching.matcher.rfmatcher.RFMatcher object at 0x116117b00&gt;</td>\n",
       "      <td>5</td>\n",
       "      <td>0.918919</td>\n",
       "      <td>0.972973</td>\n",
       "      <td>0.978723</td>\n",
       "      <td>1.0</td>\n",
       "      <td>1.0</td>\n",
       "      <td>0.974123</td>\n",
       "    </tr>\n",
       "  </tbody>\n",
       "</table>\n",
       "</div>"
      ],
      "text/plain": [
       "  Name                                                                Matcher  \\\n",
       "0   RF  <py_entitymatching.matcher.rfmatcher.RFMatcher object at 0x116117b00>   \n",
       "\n",
       "   Num folds    Fold 1    Fold 2    Fold 3  Fold 4  Fold 5  Mean score  \n",
       "0          5  0.918919  0.972973  0.978723     1.0     1.0    0.974123  "
      ]
     },
     "execution_count": 87,
     "metadata": {},
     "output_type": "execute_result"
    }
   ],
   "source": [
    "# Check whether the updated F improves X (Random Forest)\n",
    "result = em.select_matcher([rf], table=H, \n",
    "        exclude_attrs=['_id', 'ltable_id', 'rtable_id', 'label'],\n",
    "        k=5,\n",
    "        target_attr='label', metric='f1', random_state=0)\n",
    "result['cv_stats']"
   ]
  },
  {
   "cell_type": "code",
   "execution_count": 88,
   "metadata": {
    "collapsed": false
   },
   "outputs": [
    {
     "data": {
      "text/html": [
       "<div>\n",
       "<table border=\"1\" class=\"dataframe\">\n",
       "  <thead>\n",
       "    <tr style=\"text-align: right;\">\n",
       "      <th></th>\n",
       "      <th>Name</th>\n",
       "      <th>Matcher</th>\n",
       "      <th>Num folds</th>\n",
       "      <th>Fold 1</th>\n",
       "      <th>Fold 2</th>\n",
       "      <th>Fold 3</th>\n",
       "      <th>Fold 4</th>\n",
       "      <th>Fold 5</th>\n",
       "      <th>Mean score</th>\n",
       "    </tr>\n",
       "  </thead>\n",
       "  <tbody>\n",
       "    <tr>\n",
       "      <th>0</th>\n",
       "      <td>DecisionTree</td>\n",
       "      <td>&lt;py_entitymatching.matcher.dtmatcher.DTMatcher object at 0x1161179e8&gt;</td>\n",
       "      <td>5</td>\n",
       "      <td>1.000000</td>\n",
       "      <td>1.000000</td>\n",
       "      <td>1.000000</td>\n",
       "      <td>1.000000</td>\n",
       "      <td>1.000000</td>\n",
       "      <td>1.000000</td>\n",
       "    </tr>\n",
       "    <tr>\n",
       "      <th>1</th>\n",
       "      <td>RF</td>\n",
       "      <td>&lt;py_entitymatching.matcher.rfmatcher.RFMatcher object at 0x116117b00&gt;</td>\n",
       "      <td>5</td>\n",
       "      <td>0.918919</td>\n",
       "      <td>0.972973</td>\n",
       "      <td>0.978723</td>\n",
       "      <td>1.000000</td>\n",
       "      <td>1.000000</td>\n",
       "      <td>0.974123</td>\n",
       "    </tr>\n",
       "    <tr>\n",
       "      <th>2</th>\n",
       "      <td>SVM</td>\n",
       "      <td>&lt;py_entitymatching.matcher.svmmatcher.SVMMatcher object at 0x116117c50&gt;</td>\n",
       "      <td>5</td>\n",
       "      <td>0.727273</td>\n",
       "      <td>0.848485</td>\n",
       "      <td>0.736842</td>\n",
       "      <td>0.956522</td>\n",
       "      <td>0.900000</td>\n",
       "      <td>0.833824</td>\n",
       "    </tr>\n",
       "    <tr>\n",
       "      <th>3</th>\n",
       "      <td>LinReg</td>\n",
       "      <td>&lt;py_entitymatching.matcher.linregmatcher.LinRegMatcher object at 0x116117e10&gt;</td>\n",
       "      <td>5</td>\n",
       "      <td>0.974359</td>\n",
       "      <td>1.000000</td>\n",
       "      <td>1.000000</td>\n",
       "      <td>1.000000</td>\n",
       "      <td>1.000000</td>\n",
       "      <td>0.994872</td>\n",
       "    </tr>\n",
       "    <tr>\n",
       "      <th>4</th>\n",
       "      <td>LogReg</td>\n",
       "      <td>&lt;py_entitymatching.matcher.logregmatcher.LogRegMatcher object at 0x116117b38&gt;</td>\n",
       "      <td>5</td>\n",
       "      <td>0.871795</td>\n",
       "      <td>0.871795</td>\n",
       "      <td>0.978723</td>\n",
       "      <td>1.000000</td>\n",
       "      <td>0.976744</td>\n",
       "      <td>0.939811</td>\n",
       "    </tr>\n",
       "  </tbody>\n",
       "</table>\n",
       "</div>"
      ],
      "text/plain": [
       "           Name  \\\n",
       "0  DecisionTree   \n",
       "1            RF   \n",
       "2           SVM   \n",
       "3        LinReg   \n",
       "4        LogReg   \n",
       "\n",
       "                                                                         Matcher  \\\n",
       "0          <py_entitymatching.matcher.dtmatcher.DTMatcher object at 0x1161179e8>   \n",
       "1          <py_entitymatching.matcher.rfmatcher.RFMatcher object at 0x116117b00>   \n",
       "2        <py_entitymatching.matcher.svmmatcher.SVMMatcher object at 0x116117c50>   \n",
       "3  <py_entitymatching.matcher.linregmatcher.LinRegMatcher object at 0x116117e10>   \n",
       "4  <py_entitymatching.matcher.logregmatcher.LogRegMatcher object at 0x116117b38>   \n",
       "\n",
       "   Num folds    Fold 1    Fold 2    Fold 3    Fold 4    Fold 5  Mean score  \n",
       "0          5  1.000000  1.000000  1.000000  1.000000  1.000000    1.000000  \n",
       "1          5  0.918919  0.972973  0.978723  1.000000  1.000000    0.974123  \n",
       "2          5  0.727273  0.848485  0.736842  0.956522  0.900000    0.833824  \n",
       "3          5  0.974359  1.000000  1.000000  1.000000  1.000000    0.994872  \n",
       "4          5  0.871795  0.871795  0.978723  1.000000  0.976744    0.939811  "
      ]
     },
     "execution_count": 88,
     "metadata": {},
     "output_type": "execute_result"
    }
   ],
   "source": [
    "# Select the best matcher again using CV\n",
    "result = em.select_matcher([dt, rf, svm, ln, lg], table=H, \n",
    "        exclude_attrs=['_id', 'ltable_id', 'rtable_id', 'label'],\n",
    "        k=5,\n",
    "        target_attr='label', metric='f1', random_state=0)\n",
    "result['cv_stats']"
   ]
  },
  {
   "cell_type": "markdown",
   "metadata": {},
   "source": [
    "### Compute accuracy of X (Decision Tree) on J"
   ]
  },
  {
   "cell_type": "markdown",
   "metadata": {},
   "source": [
    "#### 1. Train X using  H\n",
    "#### 2. Convert J into a set of feature vectors (L)\n",
    "#### 3. Predict on L using X\n",
    "#### 4. Evaluate the predictions"
   ]
  },
  {
   "cell_type": "code",
   "execution_count": 89,
   "metadata": {
    "collapsed": false
   },
   "outputs": [],
   "source": [
    "# Train using feature vectors from I \n",
    "dt.fit(table=H, \n",
    "       exclude_attrs=['_id', 'ltable_id', 'rtable_id', 'label'], \n",
    "       target_attr='label')\n",
    "\n",
    "# Convert J into a set of feature vectors using F\n",
    "L = em.extract_feature_vecs(J, feature_table=F,\n",
    "                            attrs_after='label', show_progress=False)\n",
    "\n",
    "# Predict on L \n",
    "predictions = dt.predict(table=L, exclude_attrs=['_id', 'ltable_id', 'rtable_id', 'label'], \n",
    "              append=True, target_attr='predicted', inplace=False)"
   ]
  },
  {
   "cell_type": "code",
   "execution_count": 90,
   "metadata": {
    "collapsed": false
   },
   "outputs": [
    {
     "name": "stdout",
     "output_type": "stream",
     "text": [
      "Precision : 100.0% (40/40)\n",
      "Recall : 100.0% (40/40)\n",
      "F1 : 100.0%\n",
      "False positives : 0 (out of 40 positive predictions)\n",
      "False negatives : 0 (out of 95 negative predictions)\n"
     ]
    }
   ],
   "source": [
    "# Evaluate the predictions\n",
    "eval_result = em.eval_matches(predictions, 'label', 'predicted')\n",
    "em.print_eval_summary(eval_result)"
   ]
  },
  {
   "cell_type": "code",
   "execution_count": 46,
   "metadata": {
    "collapsed": true
   },
   "outputs": [],
   "source": [
    "# Final workflow"
   ]
  },
  {
   "cell_type": "markdown",
   "metadata": {},
   "source": [
    "![title](workflow.png)"
   ]
  }
 ],
 "metadata": {
  "anaconda-cloud": {},
  "kernelspec": {
   "display_name": "Python [Root]",
   "language": "python",
   "name": "Python [Root]"
  },
  "language_info": {
   "codemirror_mode": {
    "name": "ipython",
    "version": 3
   },
   "file_extension": ".py",
   "mimetype": "text/x-python",
   "name": "python",
   "nbconvert_exporter": "python",
   "pygments_lexer": "ipython3",
   "version": "3.5.2"
  }
 },
 "nbformat": 4,
 "nbformat_minor": 0
}
