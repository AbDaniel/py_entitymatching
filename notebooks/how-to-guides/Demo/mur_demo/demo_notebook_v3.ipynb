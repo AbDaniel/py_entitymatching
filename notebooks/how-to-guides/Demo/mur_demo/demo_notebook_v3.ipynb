{
 "cells": [
  {
   "cell_type": "code",
   "execution_count": 1,
   "metadata": {
    "collapsed": true
   },
   "outputs": [],
   "source": [
    "%matplotlib inline\n",
    "import sys\n",
    "sys.path.append('/Users/pradap/Documents/Research/Python-Package/anhaid/py_entitymatching/')"
   ]
  },
  {
   "cell_type": "code",
   "execution_count": 2,
   "metadata": {
    "collapsed": false
   },
   "outputs": [],
   "source": [
    "import py_entitymatching as em\n",
    "import profiler\n",
    "import pandas as pd\n",
    "import qgrid"
   ]
  },
  {
   "cell_type": "code",
   "execution_count": 3,
   "metadata": {
    "collapsed": true
   },
   "outputs": [],
   "source": [
    "## Read input tables\n",
    "A = em.read_csv_metadata('dblp_demo.csv', key='id')\n",
    "B = em.read_csv_metadata('acm_demo.csv', key='id')"
   ]
  },
  {
   "cell_type": "code",
   "execution_count": 4,
   "metadata": {
    "collapsed": false
   },
   "outputs": [
    {
     "name": "stdout",
     "output_type": "stream",
     "text": [
      "Number of unique values: 10\n",
      "Number of missing values: 0\n",
      "\n",
      "Unique values:\n",
      "[1994, 1995, 1996, 1997, 1998, 1999, 2000, 2001, 2002, 2003]\n",
      "\n",
      "Frequency plot:\n",
      "\n"
     ]
    },
    {
     "data": {
      "image/png": "[encoded data removed]",
      "text/plain": [
       "<matplotlib.figure.Figure at 0x1160d79e8>"
      ]
     },
     "metadata": {},
     "output_type": "display_data"
    }
   ],
   "source": [
    "profiler.profile_table(A, 'year')"
   ]
  },
  {
   "cell_type": "code",
   "execution_count": 5,
   "metadata": {
    "collapsed": false
   },
   "outputs": [
    {
     "name": "stdout",
     "output_type": "stream",
     "text": [
      "Number of unique values: 11\n",
      "Number of missing values: 0\n",
      "\n",
      "Unique values:\n",
      "[1994, 1995, 1996, 1997, 1998, 1999, 2000, 2001, 2002, 2003, 20003]\n",
      "\n",
      "Frequency plot:\n",
      "\n"
     ]
    },
    {
     "data": {
      "image/png": "[encoded data removed]",
      "text/plain": [
       "<matplotlib.figure.Figure at 0x11856b860>"
      ]
     },
     "metadata": {},
     "output_type": "display_data"
    }
   ],
   "source": [
    "profiler.profile_table(B, 'year')"
   ]
  },
  {
   "cell_type": "code",
   "execution_count": 6,
   "metadata": {
    "collapsed": false
   },
   "outputs": [],
   "source": [
    "B.replace({'year':{\n",
    "            20003:2003\n",
    "        }}, inplace=True)"
   ]
  },
  {
   "cell_type": "code",
   "execution_count": 7,
   "metadata": {
    "collapsed": false
   },
   "outputs": [
    {
     "data": {
      "text/plain": [
       "328781"
      ]
     },
     "execution_count": 7,
     "metadata": {},
     "output_type": "execute_result"
    }
   ],
   "source": [
    "# Create attribute equivalence blocker\n",
    "ab = em.AttrEquivalenceBlocker()\n",
    "# Block tables using 'year' attribute : same year include in candidate set\n",
    "C1 = ab.block_tables(A, B, 'year', 'year', \n",
    "                     l_output_attrs=['title', 'authors', 'year'],\n",
    "                     r_output_attrs=['title', 'authors', 'year']\n",
    "                    )\n",
    "len(C1)"
   ]
  },
  {
   "cell_type": "code",
   "execution_count": 8,
   "metadata": {
    "collapsed": true
   },
   "outputs": [],
   "source": [
    "# check whether the current blocking method has dropped a lot of potential matches\n",
    "# dbg = em.debug_blocker(C1, A, B)"
   ]
  },
  {
   "cell_type": "code",
   "execution_count": 9,
   "metadata": {
    "collapsed": false
   },
   "outputs": [],
   "source": [
    "# add year attribute to the debugger output - \n",
    "#[This will change in the actual VLDB demo. Specifically, this will be embedded in debug blocker]\n",
    "# em.set_ltable(dbg, A)\n",
    "# em.set_rtable(dbg, B)\n",
    "# dbg = em.add_output_attributes(dbg, l_output_attrs=['year'], r_output_attrs=['year'])\n"
   ]
  },
  {
   "cell_type": "code",
   "execution_count": 10,
   "metadata": {
    "collapsed": false
   },
   "outputs": [
    {
     "data": {
      "text/plain": [
       "44052"
      ]
     },
     "execution_count": 10,
     "metadata": {},
     "output_type": "execute_result"
    }
   ],
   "source": [
    "# Initialize overlap blocker\n",
    "ob = em.OverlapBlocker()\n",
    "# Block over title attribute\n",
    "C2 = ob.block_tables(A, B, 'title', 'title', show_progress=False, overlap_size=2)\n",
    "len(C2)"
   ]
  },
  {
   "cell_type": "code",
   "execution_count": 11,
   "metadata": {
    "collapsed": false
   },
   "outputs": [
    {
     "data": {
      "text/plain": [
       "366315"
      ]
     },
     "execution_count": 11,
     "metadata": {},
     "output_type": "execute_result"
    }
   ],
   "source": [
    "# Combine the outputs from attr. equivalence blocker and overlap blocker\n",
    "C = em.combine_blocker_outputs_via_union([C1, C2])\n",
    "len(C)"
   ]
  },
  {
   "cell_type": "code",
   "execution_count": 12,
   "metadata": {
    "collapsed": true
   },
   "outputs": [],
   "source": [
    "# # Check again to see if we are dropping any potential matches\n",
    "# dbg = em.debug_blocker(C, A, B)\n",
    "# em.set_ltable(dbg, A)\n",
    "# em.set_rtable(dbg, B)\n",
    "# dbg = em.add_output_attributes(dbg, l_output_attrs=['year'], r_output_attrs=['year'])"
   ]
  },
  {
   "cell_type": "code",
   "execution_count": 13,
   "metadata": {
    "collapsed": false
   },
   "outputs": [],
   "source": [
    "# dbg.head()"
   ]
  },
  {
   "cell_type": "code",
   "execution_count": 14,
   "metadata": {
    "collapsed": true
   },
   "outputs": [],
   "source": [
    "import mur_utils as mu"
   ]
  },
  {
   "cell_type": "code",
   "execution_count": 15,
   "metadata": {
    "collapsed": true
   },
   "outputs": [],
   "source": [
    "L = em.read_csv_metadata('labeled_data_demo.csv', ltable=A, rtable=B)"
   ]
  },
  {
   "cell_type": "code",
   "execution_count": 16,
   "metadata": {
    "collapsed": true
   },
   "outputs": [],
   "source": [
    "# Split L into development  and evaluation\n",
    "development_evaluation = em.split_train_test(L, train_proportion=0.7, random_state=0) # fix the random seed\n",
    "development = development_evaluation['train']\n",
    "evaluation = development_evaluation['test']"
   ]
  },
  {
   "cell_type": "code",
   "execution_count": 17,
   "metadata": {
    "collapsed": true
   },
   "outputs": [],
   "source": [
    "# Create a set of ML-matchers\n",
    "dt = em.DTMatcher(name='DecisionTree', random_state=0)\n",
    "svm = em.SVMMatcher(name='SVM', random_state=0)\n",
    "rf = em.RFMatcher(name='RF', random_state=0)\n",
    "nb = em.NBMatcher(name='NB')\n",
    "lg = em.LogRegMatcher(name='LogReg', random_state=0)\n",
    "ln = em.LinRegMatcher(name='LinReg')"
   ]
  },
  {
   "cell_type": "code",
   "execution_count": 18,
   "metadata": {
    "collapsed": true
   },
   "outputs": [],
   "source": [
    "# Generate features\n",
    "feature_table = em.get_features_for_matching(A, B)"
   ]
  },
  {
   "cell_type": "code",
   "execution_count": 19,
   "metadata": {
    "collapsed": false
   },
   "outputs": [
    {
     "data": {
      "text/plain": [
       "0                          id_id_lev_dist\n",
       "1                           id_id_lev_sim\n",
       "2                               id_id_jar\n",
       "3                               id_id_jwn\n",
       "4                               id_id_exm\n",
       "5                   id_id_jac_qgm_3_qgm_3\n",
       "6             title_title_jac_qgm_3_qgm_3\n",
       "7         title_title_cos_dlm_dc0_dlm_dc0\n",
       "8                         title_title_mel\n",
       "9                    title_title_lev_dist\n",
       "10                    title_title_lev_sim\n",
       "11        authors_authors_jac_qgm_3_qgm_3\n",
       "12    authors_authors_cos_dlm_dc0_dlm_dc0\n",
       "13                    authors_authors_mel\n",
       "14               authors_authors_lev_dist\n",
       "15                authors_authors_lev_sim\n",
       "16            venue_venue_jac_qgm_3_qgm_3\n",
       "17        venue_venue_cos_dlm_dc0_dlm_dc0\n",
       "18        venue_venue_jac_dlm_dc0_dlm_dc0\n",
       "19                        venue_venue_mel\n",
       "20                   venue_venue_lev_dist\n",
       "21                    venue_venue_lev_sim\n",
       "22                        venue_venue_nmw\n",
       "23                         venue_venue_sw\n",
       "24                          year_year_exm\n",
       "25                          year_year_anm\n",
       "26                     year_year_lev_dist\n",
       "27                      year_year_lev_sim\n",
       "Name: feature_name, dtype: object"
      ]
     },
     "execution_count": 19,
     "metadata": {},
     "output_type": "execute_result"
    }
   ],
   "source": [
    "# List the feature names generated\n",
    "feature_table['feature_name']"
   ]
  },
  {
   "cell_type": "code",
   "execution_count": 20,
   "metadata": {
    "collapsed": true
   },
   "outputs": [],
   "source": [
    "# Select all features, except the id related ones\n",
    "feature_table_iter1 = feature_table"
   ]
  },
  {
   "cell_type": "code",
   "execution_count": 21,
   "metadata": {
    "collapsed": false
   },
   "outputs": [],
   "source": [
    "# Extract feature vectors\n",
    "feature_vectors_dev_iter1 = em.extract_feature_vecs(development, \n",
    "                            feature_table=feature_table_iter1, \n",
    "                            attrs_after='label',\n",
    "                            show_progress=False) "
   ]
  },
  {
   "cell_type": "code",
   "execution_count": 23,
   "metadata": {
    "collapsed": false
   },
   "outputs": [],
   "source": [
    "# Select the best ML matcher using CV\n",
    "result = em.select_matcher([dt, rf, svm, nb, lg, ln], table=feature_vectors_dev_iter1, \n",
    "        exclude_attrs=['_id', 'ltable_id', 'rtable_id', 'label'],\n",
    "        k=5,\n",
    "        target_attr='label', metric='f1', random_state=0)"
   ]
  },
  {
   "cell_type": "code",
   "execution_count": 24,
   "metadata": {
    "collapsed": false
   },
   "outputs": [
    {
     "data": {
      "text/html": [
       "<div>\n",
       "<table border=\"1\" class=\"dataframe\">\n",
       "  <thead>\n",
       "    <tr style=\"text-align: right;\">\n",
       "      <th></th>\n",
       "      <th>Name</th>\n",
       "      <th>Matcher</th>\n",
       "      <th>Num folds</th>\n",
       "      <th>Fold 1</th>\n",
       "      <th>Fold 2</th>\n",
       "      <th>Fold 3</th>\n",
       "      <th>Fold 4</th>\n",
       "      <th>Fold 5</th>\n",
       "      <th>Mean score</th>\n",
       "    </tr>\n",
       "  </thead>\n",
       "  <tbody>\n",
       "    <tr>\n",
       "      <th>0</th>\n",
       "      <td>DecisionTree</td>\n",
       "      <td>&lt;py_entitymatching.matcher.dtmatcher.DTMatcher object at 0x1154346a0&gt;</td>\n",
       "      <td>5</td>\n",
       "      <td>0.926829</td>\n",
       "      <td>0.871795</td>\n",
       "      <td>0.958333</td>\n",
       "      <td>0.979592</td>\n",
       "      <td>1.0</td>\n",
       "      <td>0.947310</td>\n",
       "    </tr>\n",
       "    <tr>\n",
       "      <th>1</th>\n",
       "      <td>RF</td>\n",
       "      <td>&lt;py_entitymatching.matcher.rfmatcher.RFMatcher object at 0x1154344e0&gt;</td>\n",
       "      <td>5</td>\n",
       "      <td>0.974359</td>\n",
       "      <td>0.972973</td>\n",
       "      <td>0.978723</td>\n",
       "      <td>1.000000</td>\n",
       "      <td>1.0</td>\n",
       "      <td>0.985211</td>\n",
       "    </tr>\n",
       "    <tr>\n",
       "      <th>2</th>\n",
       "      <td>SVM</td>\n",
       "      <td>&lt;py_entitymatching.matcher.svmmatcher.SVMMatcher object at 0x115434438&gt;</td>\n",
       "      <td>5</td>\n",
       "      <td>0.888889</td>\n",
       "      <td>0.882353</td>\n",
       "      <td>0.800000</td>\n",
       "      <td>0.956522</td>\n",
       "      <td>0.9</td>\n",
       "      <td>0.885553</td>\n",
       "    </tr>\n",
       "    <tr>\n",
       "      <th>3</th>\n",
       "      <td>NB</td>\n",
       "      <td>&lt;py_entitymatching.matcher.nbmatcher.NBMatcher object at 0x115434fd0&gt;</td>\n",
       "      <td>5</td>\n",
       "      <td>0.926829</td>\n",
       "      <td>0.972973</td>\n",
       "      <td>0.978723</td>\n",
       "      <td>1.000000</td>\n",
       "      <td>1.0</td>\n",
       "      <td>0.975705</td>\n",
       "    </tr>\n",
       "    <tr>\n",
       "      <th>4</th>\n",
       "      <td>LogReg</td>\n",
       "      <td>&lt;py_entitymatching.matcher.logregmatcher.LogRegMatcher object at 0x115434c18&gt;</td>\n",
       "      <td>5</td>\n",
       "      <td>0.926829</td>\n",
       "      <td>0.900000</td>\n",
       "      <td>0.978723</td>\n",
       "      <td>1.000000</td>\n",
       "      <td>1.0</td>\n",
       "      <td>0.961111</td>\n",
       "    </tr>\n",
       "    <tr>\n",
       "      <th>5</th>\n",
       "      <td>LinReg</td>\n",
       "      <td>&lt;py_entitymatching.matcher.linregmatcher.LinRegMatcher object at 0x118554c50&gt;</td>\n",
       "      <td>5</td>\n",
       "      <td>0.974359</td>\n",
       "      <td>0.972973</td>\n",
       "      <td>0.978723</td>\n",
       "      <td>1.000000</td>\n",
       "      <td>1.0</td>\n",
       "      <td>0.985211</td>\n",
       "    </tr>\n",
       "  </tbody>\n",
       "</table>\n",
       "</div>"
      ],
      "text/plain": [
       "           Name  \\\n",
       "0  DecisionTree   \n",
       "1            RF   \n",
       "2           SVM   \n",
       "3            NB   \n",
       "4        LogReg   \n",
       "5        LinReg   \n",
       "\n",
       "                                                                         Matcher  \\\n",
       "0          <py_entitymatching.matcher.dtmatcher.DTMatcher object at 0x1154346a0>   \n",
       "1          <py_entitymatching.matcher.rfmatcher.RFMatcher object at 0x1154344e0>   \n",
       "2        <py_entitymatching.matcher.svmmatcher.SVMMatcher object at 0x115434438>   \n",
       "3          <py_entitymatching.matcher.nbmatcher.NBMatcher object at 0x115434fd0>   \n",
       "4  <py_entitymatching.matcher.logregmatcher.LogRegMatcher object at 0x115434c18>   \n",
       "5  <py_entitymatching.matcher.linregmatcher.LinRegMatcher object at 0x118554c50>   \n",
       "\n",
       "   Num folds    Fold 1    Fold 2    Fold 3    Fold 4  Fold 5  Mean score  \n",
       "0          5  0.926829  0.871795  0.958333  0.979592     1.0    0.947310  \n",
       "1          5  0.974359  0.972973  0.978723  1.000000     1.0    0.985211  \n",
       "2          5  0.888889  0.882353  0.800000  0.956522     0.9    0.885553  \n",
       "3          5  0.926829  0.972973  0.978723  1.000000     1.0    0.975705  \n",
       "4          5  0.926829  0.900000  0.978723  1.000000     1.0    0.961111  \n",
       "5          5  0.974359  0.972973  0.978723  1.000000     1.0    0.985211  "
      ]
     },
     "execution_count": 24,
     "metadata": {},
     "output_type": "execute_result"
    }
   ],
   "source": [
    "result['cv_stats']"
   ]
  },
  {
   "cell_type": "code",
   "execution_count": 25,
   "metadata": {
    "collapsed": true
   },
   "outputs": [],
   "source": [
    "# Debug RF\n",
    "\n",
    "# Split feature vectors to train and test\n",
    "train_test = em.split_train_test(feature_vectors_dev_iter1, train_proportion=0.5, random_state=0)\n",
    "train = train_test['train']\n",
    "test = train_test['test']"
   ]
  },
  {
   "cell_type": "code",
   "execution_count": 26,
   "metadata": {
    "collapsed": false
   },
   "outputs": [],
   "source": [
    "ll = (set(development.ltable_id.values).intersection(test.ltable_id.values))\n",
    "ll = sorted(ll)"
   ]
  },
  {
   "cell_type": "code",
   "execution_count": 54,
   "metadata": {
    "collapsed": false
   },
   "outputs": [
    {
     "data": {
      "text/plain": [
       "['l1009',\n",
       " 'l1011',\n",
       " 'l1015',\n",
       " 'l102',\n",
       " 'l1022',\n",
       " 'l1028',\n",
       " 'l103',\n",
       " 'l1066',\n",
       " 'l108',\n",
       " 'l1080',\n",
       " 'l1083',\n",
       " 'l1087',\n",
       " 'l1126',\n",
       " 'l113',\n",
       " 'l114',\n",
       " 'l1144',\n",
       " 'l1147',\n",
       " 'l1157',\n",
       " 'l1160',\n",
       " 'l1174',\n",
       " 'l1183',\n",
       " 'l1184',\n",
       " 'l1189',\n",
       " 'l120',\n",
       " 'l123',\n",
       " 'l1250',\n",
       " 'l1266',\n",
       " 'l1285',\n",
       " 'l1304',\n",
       " 'l1314',\n",
       " 'l1317',\n",
       " 'l1318',\n",
       " 'l1331',\n",
       " 'l1345',\n",
       " 'l136',\n",
       " 'l1365',\n",
       " 'l1368',\n",
       " 'l1371',\n",
       " 'l1385',\n",
       " 'l1392']"
      ]
     },
     "execution_count": 54,
     "metadata": {},
     "output_type": "execute_result"
    }
   ],
   "source": [
    "ll[0:40]"
   ]
  },
  {
   "cell_type": "code",
   "execution_count": 59,
   "metadata": {
    "collapsed": true
   },
   "outputs": [],
   "source": [
    "A1 = A.set_index('id', drop=False)"
   ]
  },
  {
   "cell_type": "code",
   "execution_count": 60,
   "metadata": {
    "collapsed": true
   },
   "outputs": [],
   "source": [
    "swap_list = ['l1009', 'l1066', 'l1022', 'l1080', 'l114', 'l1147', 'l1160', 'l1183', 'l1189', 'l120', 'l1331']\n"
   ]
  },
  {
   "cell_type": "code",
   "execution_count": 61,
   "metadata": {
    "collapsed": false
   },
   "outputs": [],
   "source": [
    "t = A1.ix[swap_list, 'title']\n",
    "a = A1.ix[swap_list, 'authors']\n",
    "A1.ix[swap_list, 'title'] = a\n",
    "A1.ix[swap_list, 'authors'] = t\n"
   ]
  },
  {
   "cell_type": "code",
   "execution_count": 62,
   "metadata": {
    "collapsed": false
   },
   "outputs": [
    {
     "data": {
      "text/html": [
       "<div>\n",
       "<table border=\"1\" class=\"dataframe\">\n",
       "  <thead>\n",
       "    <tr style=\"text-align: right;\">\n",
       "      <th></th>\n",
       "      <th>id</th>\n",
       "      <th>title</th>\n",
       "      <th>authors</th>\n",
       "      <th>venue</th>\n",
       "      <th>year</th>\n",
       "    </tr>\n",
       "    <tr>\n",
       "      <th>id</th>\n",
       "      <th></th>\n",
       "      <th></th>\n",
       "      <th></th>\n",
       "      <th></th>\n",
       "      <th></th>\n",
       "    </tr>\n",
       "  </thead>\n",
       "  <tbody>\n",
       "    <tr>\n",
       "      <th>l1009</th>\n",
       "      <td>l1009</td>\n",
       "      <td>Description logics for semantic query optimization in object-oriented database systems</td>\n",
       "      <td>Claudio Sartori, Sonia Bergamaschi, Domenico Beneventano</td>\n",
       "      <td>ACM Trans. Database Syst.</td>\n",
       "      <td>2003</td>\n",
       "    </tr>\n",
       "    <tr>\n",
       "      <th>l1066</th>\n",
       "      <td>l1066</td>\n",
       "      <td>An Overview of Data Warehousing and OLAP Technology</td>\n",
       "      <td>Surajit Chaudhuri, Umeshwar Dayal</td>\n",
       "      <td>SIGMOD Record</td>\n",
       "      <td>1997</td>\n",
       "    </tr>\n",
       "    <tr>\n",
       "      <th>l1022</th>\n",
       "      <td>l1022</td>\n",
       "      <td>Energy and rate based MAC protocol for wireless sensor networks</td>\n",
       "      <td>Ramaraju Kalidindi, Vijay Kumar, Rajgopal Kannan, S. Sitharama Iyengar</td>\n",
       "      <td>SIGMOD Record</td>\n",
       "      <td>2003</td>\n",
       "    </tr>\n",
       "    <tr>\n",
       "      <th>l1080</th>\n",
       "      <td>l1080</td>\n",
       "      <td>Dan Suciu, Daniela Florescu, Alon Y. Levy, Mary F. Fernandez</td>\n",
       "      <td>A Query Language for a Web-Site Management System</td>\n",
       "      <td>SIGMOD Record</td>\n",
       "      <td>1997</td>\n",
       "    </tr>\n",
       "    <tr>\n",
       "      <th>l114</th>\n",
       "      <td>l114</td>\n",
       "      <td>Jef Wijsen</td>\n",
       "      <td>Temporal FDs on Complex Objects</td>\n",
       "      <td>ACM Trans. Database Syst.</td>\n",
       "      <td>1999</td>\n",
       "    </tr>\n",
       "    <tr>\n",
       "      <th>l1147</th>\n",
       "      <td>l1147</td>\n",
       "      <td>Xiaolei Qian</td>\n",
       "      <td>Scientist's Called Upon to Take Actions</td>\n",
       "      <td>SIGMOD Record</td>\n",
       "      <td>1996</td>\n",
       "    </tr>\n",
       "    <tr>\n",
       "      <th>l1160</th>\n",
       "      <td>l1160</td>\n",
       "      <td>Khaled Alsabti, Vineet Singh, Sanjay Ranka</td>\n",
       "      <td>A One-Pass Algorithm for Accurately Estimating Quantiles for Disk-Resident Data</td>\n",
       "      <td>VLDB</td>\n",
       "      <td>1997</td>\n",
       "    </tr>\n",
       "    <tr>\n",
       "      <th>l1183</th>\n",
       "      <td>l1183</td>\n",
       "      <td>Stephen Blott, Roger Weber, Hans-Jrg Schek</td>\n",
       "      <td>A Quantitative Analysis and Performance Study for Similarity-Search Methods in High-Dimensional ...</td>\n",
       "      <td>VLDB</td>\n",
       "      <td>1998</td>\n",
       "    </tr>\n",
       "    <tr>\n",
       "      <th>l1189</th>\n",
       "      <td>l1189</td>\n",
       "      <td>Weimin Du, Xiangning Liu, Abdelsalam Helal</td>\n",
       "      <td>Multiview Access Protocols for Large-Scale Replication</td>\n",
       "      <td>ACM Trans. Database Syst.</td>\n",
       "      <td>1998</td>\n",
       "    </tr>\n",
       "    <tr>\n",
       "      <th>l120</th>\n",
       "      <td>l120</td>\n",
       "      <td>W. Bruce Croft, James P. Callan, Eric W. Brown</td>\n",
       "      <td>Fast Incremental Indexing for Full-Text Information Retrieval</td>\n",
       "      <td>VLDB</td>\n",
       "      <td>1994</td>\n",
       "    </tr>\n",
       "    <tr>\n",
       "      <th>l1331</th>\n",
       "      <td>l1331</td>\n",
       "      <td>Yannis Papakonstantinou, Hector Garcia-Molina, Serge Abiteboul</td>\n",
       "      <td>Object Fusion in Mediator Systems</td>\n",
       "      <td>VLDB</td>\n",
       "      <td>1996</td>\n",
       "    </tr>\n",
       "  </tbody>\n",
       "</table>\n",
       "</div>"
      ],
      "text/plain": [
       "          id  \\\n",
       "id             \n",
       "l1009  l1009   \n",
       "l1066  l1066   \n",
       "l1022  l1022   \n",
       "l1080  l1080   \n",
       "l114    l114   \n",
       "l1147  l1147   \n",
       "l1160  l1160   \n",
       "l1183  l1183   \n",
       "l1189  l1189   \n",
       "l120    l120   \n",
       "l1331  l1331   \n",
       "\n",
       "                                                                                        title  \\\n",
       "id                                                                                              \n",
       "l1009  Description logics for semantic query optimization in object-oriented database systems   \n",
       "l1066                                     An Overview of Data Warehousing and OLAP Technology   \n",
       "l1022                         Energy and rate based MAC protocol for wireless sensor networks   \n",
       "l1080                            Dan Suciu, Daniela Florescu, Alon Y. Levy, Mary F. Fernandez   \n",
       "l114                                                                               Jef Wijsen   \n",
       "l1147                                                                            Xiaolei Qian   \n",
       "l1160                                              Khaled Alsabti, Vineet Singh, Sanjay Ranka   \n",
       "l1183                                              Stephen Blott, Roger Weber, Hans-Jrg Schek   \n",
       "l1189                                              Weimin Du, Xiangning Liu, Abdelsalam Helal   \n",
       "l120                                           W. Bruce Croft, James P. Callan, Eric W. Brown   \n",
       "l1331                          Yannis Papakonstantinou, Hector Garcia-Molina, Serge Abiteboul   \n",
       "\n",
       "                                                                                                   authors  \\\n",
       "id                                                                                                           \n",
       "l1009                                             Claudio Sartori, Sonia Bergamaschi, Domenico Beneventano   \n",
       "l1066                                                                    Surajit Chaudhuri, Umeshwar Dayal   \n",
       "l1022                               Ramaraju Kalidindi, Vijay Kumar, Rajgopal Kannan, S. Sitharama Iyengar   \n",
       "l1080                                                    A Query Language for a Web-Site Management System   \n",
       "l114                                                                       Temporal FDs on Complex Objects   \n",
       "l1147                                                              Scientist's Called Upon to Take Actions   \n",
       "l1160                      A One-Pass Algorithm for Accurately Estimating Quantiles for Disk-Resident Data   \n",
       "l1183  A Quantitative Analysis and Performance Study for Similarity-Search Methods in High-Dimensional ...   \n",
       "l1189                                               Multiview Access Protocols for Large-Scale Replication   \n",
       "l120                                         Fast Incremental Indexing for Full-Text Information Retrieval   \n",
       "l1331                                                                    Object Fusion in Mediator Systems   \n",
       "\n",
       "                           venue  year  \n",
       "id                                      \n",
       "l1009  ACM Trans. Database Syst.  2003  \n",
       "l1066              SIGMOD Record  1997  \n",
       "l1022              SIGMOD Record  2003  \n",
       "l1080              SIGMOD Record  1997  \n",
       "l114   ACM Trans. Database Syst.  1999  \n",
       "l1147              SIGMOD Record  1996  \n",
       "l1160                       VLDB  1997  \n",
       "l1183                       VLDB  1998  \n",
       "l1189  ACM Trans. Database Syst.  1998  \n",
       "l120                        VLDB  1994  \n",
       "l1331                       VLDB  1996  "
      ]
     },
     "execution_count": 62,
     "metadata": {},
     "output_type": "execute_result"
    }
   ],
   "source": [
    "A1.ix[swap_list]"
   ]
  },
  {
   "cell_type": "code",
   "execution_count": 56,
   "metadata": {
    "collapsed": false
   },
   "outputs": [
    {
     "data": {
      "text/html": [
       "<div>\n",
       "<table border=\"1\" class=\"dataframe\">\n",
       "  <thead>\n",
       "    <tr style=\"text-align: right;\">\n",
       "      <th></th>\n",
       "      <th>_id</th>\n",
       "      <th>ltable_id</th>\n",
       "      <th>rtable_id</th>\n",
       "      <th>ltable_title</th>\n",
       "      <th>ltable_authors</th>\n",
       "      <th>ltable_year</th>\n",
       "      <th>rtable_title</th>\n",
       "      <th>rtable_authors</th>\n",
       "      <th>rtable_year</th>\n",
       "      <th>label</th>\n",
       "    </tr>\n",
       "  </thead>\n",
       "  <tbody>\n",
       "    <tr>\n",
       "      <th>374</th>\n",
       "      <td>374</td>\n",
       "      <td>l1331</td>\n",
       "      <td>r1629</td>\n",
       "      <td>Object Fusion in Mediator Systems</td>\n",
       "      <td>Yannis Papakonstantinou, Hector Garcia-Molina, Serge Abiteboul</td>\n",
       "      <td>1996</td>\n",
       "      <td>Object Fusion in Mediator Systems</td>\n",
       "      <td>Yannis Papakonstantinou, Serge Abiteboul, Hector Garcia-Molina</td>\n",
       "      <td>1996</td>\n",
       "      <td>1</td>\n",
       "    </tr>\n",
       "  </tbody>\n",
       "</table>\n",
       "</div>"
      ],
      "text/plain": [
       "     _id ltable_id rtable_id                       ltable_title  \\\n",
       "374  374     l1331     r1629  Object Fusion in Mediator Systems   \n",
       "\n",
       "                                                     ltable_authors  \\\n",
       "374  Yannis Papakonstantinou, Hector Garcia-Molina, Serge Abiteboul   \n",
       "\n",
       "     ltable_year                       rtable_title  \\\n",
       "374         1996  Object Fusion in Mediator Systems   \n",
       "\n",
       "                                                     rtable_authors  \\\n",
       "374  Yannis Papakonstantinou, Serge Abiteboul, Hector Garcia-Molina   \n",
       "\n",
       "     rtable_year  label  \n",
       "374         1996      1  "
      ]
     },
     "execution_count": 56,
     "metadata": {},
     "output_type": "execute_result"
    }
   ],
   "source": [
    "em.filter_rows(L, \"ltable_id=='l1331'\")"
   ]
  },
  {
   "cell_type": "code",
   "execution_count": 63,
   "metadata": {
    "collapsed": false
   },
   "outputs": [
    {
     "data": {
      "text/plain": [
       "True"
      ]
     },
     "execution_count": 63,
     "metadata": {},
     "output_type": "execute_result"
    }
   ],
   "source": [
    "em.set_key(A1, 'id')\n",
    "em.to_csv_metadata(A1, './dblp_demo_swap_11.csv')"
   ]
  }
 ],
 "metadata": {
  "anaconda-cloud": {},
  "kernelspec": {
   "display_name": "Python [Root]",
   "language": "python",
   "name": "Python [Root]"
  },
  "language_info": {
   "codemirror_mode": {
    "name": "ipython",
    "version": 3
   },
   "file_extension": ".py",
   "mimetype": "text/x-python",
   "name": "python",
   "nbconvert_exporter": "python",
   "pygments_lexer": "ipython3",
   "version": "3.5.2"
  }
 },
 "nbformat": 4,
 "nbformat_minor": 0
}
