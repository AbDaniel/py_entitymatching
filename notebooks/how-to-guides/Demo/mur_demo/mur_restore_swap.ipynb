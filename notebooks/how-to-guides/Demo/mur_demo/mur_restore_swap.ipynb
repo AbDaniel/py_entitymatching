{
 "cells": [
  {
   "cell_type": "code",
   "execution_count": 1,
   "metadata": {
    "collapsed": true
   },
   "outputs": [],
   "source": [
    "%load_ext autotime"
   ]
  },
  {
   "cell_type": "code",
   "execution_count": 2,
   "metadata": {
    "collapsed": false
   },
   "outputs": [
    {
     "name": "stdout",
     "output_type": "stream",
     "text": [
      "time: 1.1 ms\n"
     ]
    }
   ],
   "source": [
    "import sys\n",
    "sys.path.append('/Users/pradap/Documents/Research/Python-Package/anhaid/py_entitymatching/')"
   ]
  },
  {
   "cell_type": "code",
   "execution_count": 3,
   "metadata": {
    "collapsed": false
   },
   "outputs": [
    {
     "name": "stdout",
     "output_type": "stream",
     "text": [
      "time: 1.31 s\n"
     ]
    }
   ],
   "source": [
    "import py_entitymatching as em"
   ]
  },
  {
   "cell_type": "code",
   "execution_count": 4,
   "metadata": {
    "collapsed": false
   },
   "outputs": [
    {
     "name": "stdout",
     "output_type": "stream",
     "text": [
      "time: 26.5 ms\n"
     ]
    }
   ],
   "source": [
    "A = em.read_csv_metadata('dblp_demo_orig.csv')\n",
    "B = em.read_csv_metadata('acm_demo_orig.csv')"
   ]
  },
  {
   "cell_type": "code",
   "execution_count": 5,
   "metadata": {
    "collapsed": false
   },
   "outputs": [
    {
     "name": "stdout",
     "output_type": "stream",
     "text": [
      "time: 30.2 ms\n"
     ]
    }
   ],
   "source": [
    "L = em.read_csv_metadata('labeled_data_demo.csv', ltable=A, rtable=B)\n",
    "L = em.add_output_attributes(L, l_output_attrs=['title', 'authors'], r_output_attrs=['title', 'authors'])\n",
    "L['ltable_authors'] = L.ltable_authors.str.lower()\n",
    "L['rtable_title'] = L.rtable_title.str.lower()"
   ]
  },
  {
   "cell_type": "code",
   "execution_count": 6,
   "metadata": {
    "collapsed": false
   },
   "outputs": [
    {
     "name": "stdout",
     "output_type": "stream",
     "text": [
      "time: 1.77 ms\n"
     ]
    }
   ],
   "source": [
    "def fn(row):\n",
    "    return em.jaccard(em.tok_qgram(row['ltable_authors'], 3), em.tok_qgram(row['rtable_title'], 3))"
   ]
  },
  {
   "cell_type": "code",
   "execution_count": 7,
   "metadata": {
    "collapsed": false
   },
   "outputs": [
    {
     "name": "stdout",
     "output_type": "stream",
     "text": [
      "time: 86.8 ms\n"
     ]
    }
   ],
   "source": [
    "L['similarity'] = L.apply(fn, axis=1)"
   ]
  },
  {
   "cell_type": "code",
   "execution_count": 8,
   "metadata": {
    "collapsed": false
   },
   "outputs": [
    {
     "name": "stdout",
     "output_type": "stream",
     "text": [
      "time: 2.14 ms\n"
     ]
    }
   ],
   "source": [
    "L1 = L[L['similarity'] > 0.4]"
   ]
  },
  {
   "cell_type": "code",
   "execution_count": 9,
   "metadata": {
    "collapsed": false
   },
   "outputs": [
    {
     "name": "stdout",
     "output_type": "stream",
     "text": [
      "time: 2.34 ms\n"
     ]
    }
   ],
   "source": [
    "tt = L1.sort_values('similarity', ascending=True)"
   ]
  },
  {
   "cell_type": "code",
   "execution_count": 10,
   "metadata": {
    "collapsed": false
   },
   "outputs": [
    {
     "data": {
      "text/plain": [
       "75"
      ]
     },
     "execution_count": 10,
     "metadata": {},
     "output_type": "execute_result"
    },
    {
     "name": "stdout",
     "output_type": "stream",
     "text": [
      "time: 28.8 ms\n"
     ]
    }
   ],
   "source": [
    "len(tt)"
   ]
  },
  {
   "cell_type": "code",
   "execution_count": 11,
   "metadata": {
    "collapsed": false
   },
   "outputs": [
    {
     "data": {
      "text/html": [
       "<div>\n",
       "<table border=\"1\" class=\"dataframe\">\n",
       "  <thead>\n",
       "    <tr style=\"text-align: right;\">\n",
       "      <th></th>\n",
       "      <th>_id</th>\n",
       "      <th>ltable_id</th>\n",
       "      <th>rtable_id</th>\n",
       "      <th>gold</th>\n",
       "      <th>ltable_title</th>\n",
       "      <th>ltable_authors</th>\n",
       "      <th>rtable_title</th>\n",
       "      <th>rtable_authors</th>\n",
       "      <th>similarity</th>\n",
       "    </tr>\n",
       "  </thead>\n",
       "  <tbody>\n",
       "    <tr>\n",
       "      <th>37</th>\n",
       "      <td>37</td>\n",
       "      <td>l1165</td>\n",
       "      <td>r850</td>\n",
       "      <td>1</td>\n",
       "      <td>Won Kim</td>\n",
       "      <td>observations on the odmg-93 proposal</td>\n",
       "      <td>observations on the odmg-93 proposal for an object-oriented database language</td>\n",
       "      <td>Won Kim</td>\n",
       "      <td>0.444444</td>\n",
       "    </tr>\n",
       "    <tr>\n",
       "      <th>343</th>\n",
       "      <td>343</td>\n",
       "      <td>l546</td>\n",
       "      <td>r699</td>\n",
       "      <td>1</td>\n",
       "      <td>Jennifer Widom, Mayur Datar, Shivnath Babu, Justin Rosenstein, Itaru Nishizawa, Arvind Arasu, Ke...</td>\n",
       "      <td>stream: the stanford stream data manager</td>\n",
       "      <td>stream: the stanford stream data manager (demonstration description)</td>\n",
       "      <td>Arvind Arasu, Brian Babcock, Shivnath Babu, Mayur Datar, Keith Ito, Itaru Nishizawa, Justin Rose...</td>\n",
       "      <td>0.546875</td>\n",
       "    </tr>\n",
       "    <tr>\n",
       "      <th>242</th>\n",
       "      <td>242</td>\n",
       "      <td>l1645</td>\n",
       "      <td>r1466</td>\n",
       "      <td>1</td>\n",
       "      <td>Gale Martin, Ray Shea, Tomasz Ksiezyk, Roberto J. Bayardo Jr., Marian H. Nodine, William Bohrer,...</td>\n",
       "      <td>infosleuth: semantic integration of information in open and dynamic environments (experience paper)</td>\n",
       "      <td>infosleuth: agent-based semantic integration of information in open and dynamic environments</td>\n",
       "      <td>R. J. Bayardo, Jr., W. Bohrer, R. Brice, A. Cichocki, J. Fowler, A. Helal, V. Kashyap, T. Ksiezy...</td>\n",
       "      <td>0.663462</td>\n",
       "    </tr>\n",
       "    <tr>\n",
       "      <th>411</th>\n",
       "      <td>411</td>\n",
       "      <td>l1773</td>\n",
       "      <td>r224</td>\n",
       "      <td>1</td>\n",
       "      <td>Anil Nori</td>\n",
       "      <td>application architecture: 2tier or 3tier? what is dbms's role? (panel abstract)</td>\n",
       "      <td>application architecture (panel session): 2tier or 3tier? what is dbms's role?</td>\n",
       "      <td>Anil K. Nori</td>\n",
       "      <td>0.695652</td>\n",
       "    </tr>\n",
       "    <tr>\n",
       "      <th>426</th>\n",
       "      <td>426</td>\n",
       "      <td>l28</td>\n",
       "      <td>r1618</td>\n",
       "      <td>1</td>\n",
       "      <td>Garth A. Gibson</td>\n",
       "      <td>storage technology: raid and beyond</td>\n",
       "      <td>tutorial on storage technology: raid and beyond</td>\n",
       "      <td>Garth A. Gibson</td>\n",
       "      <td>0.700000</td>\n",
       "    </tr>\n",
       "  </tbody>\n",
       "</table>\n",
       "</div>"
      ],
      "text/plain": [
       "     _id ltable_id rtable_id  gold  \\\n",
       "37    37     l1165      r850     1   \n",
       "343  343      l546      r699     1   \n",
       "242  242     l1645     r1466     1   \n",
       "411  411     l1773      r224     1   \n",
       "426  426       l28     r1618     1   \n",
       "\n",
       "                                                                                            ltable_title  \\\n",
       "37                                                                                               Won Kim   \n",
       "343  Jennifer Widom, Mayur Datar, Shivnath Babu, Justin Rosenstein, Itaru Nishizawa, Arvind Arasu, Ke...   \n",
       "242  Gale Martin, Ray Shea, Tomasz Ksiezyk, Roberto J. Bayardo Jr., Marian H. Nodine, William Bohrer,...   \n",
       "411                                                                                            Anil Nori   \n",
       "426                                                                                      Garth A. Gibson   \n",
       "\n",
       "                                                                                          ltable_authors  \\\n",
       "37                                                                  observations on the odmg-93 proposal   \n",
       "343                                                             stream: the stanford stream data manager   \n",
       "242  infosleuth: semantic integration of information in open and dynamic environments (experience paper)   \n",
       "411                      application architecture: 2tier or 3tier? what is dbms's role? (panel abstract)   \n",
       "426                                                                  storage technology: raid and beyond   \n",
       "\n",
       "                                                                                     rtable_title  \\\n",
       "37                  observations on the odmg-93 proposal for an object-oriented database language   \n",
       "343                          stream: the stanford stream data manager (demonstration description)   \n",
       "242  infosleuth: agent-based semantic integration of information in open and dynamic environments   \n",
       "411                application architecture (panel session): 2tier or 3tier? what is dbms's role?   \n",
       "426                                               tutorial on storage technology: raid and beyond   \n",
       "\n",
       "                                                                                          rtable_authors  \\\n",
       "37                                                                                               Won Kim   \n",
       "343  Arvind Arasu, Brian Babcock, Shivnath Babu, Mayur Datar, Keith Ito, Itaru Nishizawa, Justin Rose...   \n",
       "242  R. J. Bayardo, Jr., W. Bohrer, R. Brice, A. Cichocki, J. Fowler, A. Helal, V. Kashyap, T. Ksiezy...   \n",
       "411                                                                                         Anil K. Nori   \n",
       "426                                                                                      Garth A. Gibson   \n",
       "\n",
       "     similarity  \n",
       "37     0.444444  \n",
       "343    0.546875  \n",
       "242    0.663462  \n",
       "411    0.695652  \n",
       "426    0.700000  "
      ]
     },
     "execution_count": 11,
     "metadata": {},
     "output_type": "execute_result"
    },
    {
     "name": "stdout",
     "output_type": "stream",
     "text": [
      "time: 22.1 ms\n"
     ]
    }
   ],
   "source": [
    "tt.head()"
   ]
  },
  {
   "cell_type": "code",
   "execution_count": 12,
   "metadata": {
    "collapsed": false
   },
   "outputs": [
    {
     "data": {
      "text/plain": [
       "True"
      ]
     },
     "execution_count": 12,
     "metadata": {},
     "output_type": "execute_result"
    },
    {
     "name": "stdout",
     "output_type": "stream",
     "text": [
      "time: 11.4 ms\n"
     ]
    }
   ],
   "source": [
    "em.to_csv_metadata(tt, './swap_title.csv')"
   ]
  },
  {
   "cell_type": "code",
   "execution_count": 13,
   "metadata": {
    "collapsed": false
   },
   "outputs": [
    {
     "data": {
      "text/plain": [
       "array(['l1165', 'l546', 'l1645', 'l1773', 'l28', 'l1392', 'l595', 'l209',\n",
       "       'l1332', 'l676', 'l1663', 'l58', 'l629', 'l838', 'l1482', 'l828',\n",
       "       'l1490', 'l1279', 'l596', 'l759', 'l575', 'l1705', 'l430', 'l1066',\n",
       "       'l695', 'l103', 'l158', 'l538', 'l852', 'l1022', 'l602', 'l650',\n",
       "       'l1031', 'l1368', 'l973', 'l284', 'l834', 'l746', 'l1787', 'l25',\n",
       "       'l825', 'l1144', 'l165', 'l649', 'l211', 'l734', 'l1080', 'l1445',\n",
       "       'l189', 'l1731', 'l150', 'l1442', 'l54', 'l288', 'l605', 'l262',\n",
       "       'l202', 'l610', 'l77', 'l1430', 'l833', 'l468', 'l639', 'l342',\n",
       "       'l741', 'l491', 'l160', 'l728', 'l1163', 'l180', 'l1422', 'l810',\n",
       "       'l114', 'l1534', 'l1205'], dtype=object)"
      ]
     },
     "execution_count": 13,
     "metadata": {},
     "output_type": "execute_result"
    },
    {
     "name": "stdout",
     "output_type": "stream",
     "text": [
      "time: 3.49 ms\n"
     ]
    }
   ],
   "source": [
    "tt.ltable_id.values"
   ]
  },
  {
   "cell_type": "code",
   "execution_count": 14,
   "metadata": {
    "collapsed": false
   },
   "outputs": [
    {
     "name": "stdout",
     "output_type": "stream",
     "text": [
      "time: 2.38 ms\n"
     ]
    }
   ],
   "source": [
    "A1 = A.set_index('id', drop=False)"
   ]
  },
  {
   "cell_type": "code",
   "execution_count": 15,
   "metadata": {
    "collapsed": false
   },
   "outputs": [
    {
     "name": "stdout",
     "output_type": "stream",
     "text": [
      "time: 13.4 ms\n"
     ]
    }
   ],
   "source": [
    "titles = A1.ix[tt.ltable_id.values, 'title']\n",
    "authors = A1.ix[tt.ltable_id.values, 'authors']\n",
    "A1.ix[tt.ltable_id.values, 'title'] = authors\n",
    "A1.ix[tt.ltable_id.values, 'authors'] = titles\n"
   ]
  },
  {
   "cell_type": "code",
   "execution_count": 16,
   "metadata": {
    "collapsed": false
   },
   "outputs": [
    {
     "name": "stdout",
     "output_type": "stream",
     "text": [
      "time: 1.44 ms\n"
     ]
    }
   ],
   "source": [
    "A1.reset_index(inplace=True, drop=True)"
   ]
  },
  {
   "cell_type": "code",
   "execution_count": 17,
   "metadata": {
    "collapsed": false
   },
   "outputs": [
    {
     "data": {
      "text/html": [
       "<div>\n",
       "<table border=\"1\" class=\"dataframe\">\n",
       "  <thead>\n",
       "    <tr style=\"text-align: right;\">\n",
       "      <th></th>\n",
       "      <th>id</th>\n",
       "      <th>title</th>\n",
       "      <th>authors</th>\n",
       "      <th>venue</th>\n",
       "      <th>year</th>\n",
       "    </tr>\n",
       "  </thead>\n",
       "  <tbody>\n",
       "    <tr>\n",
       "      <th>0</th>\n",
       "      <td>l0</td>\n",
       "      <td>Paradise: A Database System for GIS Applications</td>\n",
       "      <td>Paradise Team</td>\n",
       "      <td>SIGMOD Conference</td>\n",
       "      <td>1995</td>\n",
       "    </tr>\n",
       "    <tr>\n",
       "      <th>1</th>\n",
       "      <td>l1</td>\n",
       "      <td>A Query Language and Optimization Techniques for Unstructured Data</td>\n",
       "      <td>Gerd G. Hillebrand, Peter Buneman, Susan B. Davidson, Dan Suciu</td>\n",
       "      <td>SIGMOD Conference</td>\n",
       "      <td>1996</td>\n",
       "    </tr>\n",
       "    <tr>\n",
       "      <th>2</th>\n",
       "      <td>l2</td>\n",
       "      <td>Turbo-charging Vertical Mining of Large Databases</td>\n",
       "      <td>Jayant R. Haritsa, Devavrat Shah, S. Sudarshan, Pradeep Shenoy, Mayank Bawa, Gaurav Bhalotia</td>\n",
       "      <td>SIGMOD Conference</td>\n",
       "      <td>2000</td>\n",
       "    </tr>\n",
       "    <tr>\n",
       "      <th>3</th>\n",
       "      <td>l3</td>\n",
       "      <td>Maintenance of Data Cubes and Summary Tables in a Warehouse</td>\n",
       "      <td>Inderpal Singh Mumick, Dallan Quass, Barinderpal Singh Mumick</td>\n",
       "      <td>SIGMOD Conference</td>\n",
       "      <td>1997</td>\n",
       "    </tr>\n",
       "    <tr>\n",
       "      <th>4</th>\n",
       "      <td>l4</td>\n",
       "      <td>On Relational Support for XML Publishing: Beyond Sorting and Tagging</td>\n",
       "      <td>Raghav Kaushik, Jeffrey F. Naughton, Surajit Chaudhuri</td>\n",
       "      <td>SIGMOD Conference</td>\n",
       "      <td>2003</td>\n",
       "    </tr>\n",
       "  </tbody>\n",
       "</table>\n",
       "</div>"
      ],
      "text/plain": [
       "   id                                                                 title  \\\n",
       "0  l0                      Paradise: A Database System for GIS Applications   \n",
       "1  l1    A Query Language and Optimization Techniques for Unstructured Data   \n",
       "2  l2                     Turbo-charging Vertical Mining of Large Databases   \n",
       "3  l3           Maintenance of Data Cubes and Summary Tables in a Warehouse   \n",
       "4  l4  On Relational Support for XML Publishing: Beyond Sorting and Tagging   \n",
       "\n",
       "                                                                                        authors  \\\n",
       "0                                                                                 Paradise Team   \n",
       "1                               Gerd G. Hillebrand, Peter Buneman, Susan B. Davidson, Dan Suciu   \n",
       "2  Jayant R. Haritsa, Devavrat Shah, S. Sudarshan, Pradeep Shenoy, Mayank Bawa, Gaurav Bhalotia   \n",
       "3                                 Inderpal Singh Mumick, Dallan Quass, Barinderpal Singh Mumick   \n",
       "4                                        Raghav Kaushik, Jeffrey F. Naughton, Surajit Chaudhuri   \n",
       "\n",
       "               venue  year  \n",
       "0  SIGMOD Conference  1995  \n",
       "1  SIGMOD Conference  1996  \n",
       "2  SIGMOD Conference  2000  \n",
       "3  SIGMOD Conference  1997  \n",
       "4  SIGMOD Conference  2003  "
      ]
     },
     "execution_count": 17,
     "metadata": {},
     "output_type": "execute_result"
    },
    {
     "name": "stdout",
     "output_type": "stream",
     "text": [
      "time: 13.6 ms\n"
     ]
    }
   ],
   "source": [
    "A1.head()"
   ]
  },
  {
   "cell_type": "code",
   "execution_count": 18,
   "metadata": {
    "collapsed": false
   },
   "outputs": [
    {
     "data": {
      "text/plain": [
       "True"
      ]
     },
     "execution_count": 18,
     "metadata": {},
     "output_type": "execute_result"
    },
    {
     "name": "stdout",
     "output_type": "stream",
     "text": [
      "time: 54.1 ms\n"
     ]
    }
   ],
   "source": [
    "em.to_csv_metadata(A1, './dblp_demo.csv')\n",
    "em.to_csv_metadata(B, './acm_demo.csv')"
   ]
  },
  {
   "cell_type": "code",
   "execution_count": 19,
   "metadata": {
    "collapsed": false
   },
   "outputs": [
    {
     "data": {
      "text/plain": [
       "75"
      ]
     },
     "execution_count": 19,
     "metadata": {},
     "output_type": "execute_result"
    },
    {
     "name": "stdout",
     "output_type": "stream",
     "text": [
      "time: 5.51 ms\n"
     ]
    }
   ],
   "source": [
    "tt.gold.sum()"
   ]
  }
 ],
 "metadata": {
  "kernelspec": {
   "display_name": "Python [Root]",
   "language": "python",
   "name": "Python [Root]"
  },
  "language_info": {
   "codemirror_mode": {
    "name": "ipython",
    "version": 3
   },
   "file_extension": ".py",
   "mimetype": "text/x-python",
   "name": "python",
   "nbconvert_exporter": "python",
   "pygments_lexer": "ipython3",
   "version": "3.5.2"
  }
 },
 "nbformat": 4,
 "nbformat_minor": 0
}
