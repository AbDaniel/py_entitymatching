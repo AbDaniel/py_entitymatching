{
 "cells": [
  {
   "cell_type": "code",
   "execution_count": 1,
   "metadata": {
    "collapsed": true
   },
   "outputs": [],
   "source": [
    "%matplotlib inline\n",
    "import sys\n",
    "sys.path.append('/Users/pradap/Documents/Research/Python-Package/anhaid/py_entitymatching/')"
   ]
  },
  {
   "cell_type": "code",
   "execution_count": 2,
   "metadata": {
    "collapsed": true
   },
   "outputs": [],
   "source": [
    "import py_entitymatching as em\n",
    "import profiler\n",
    "import pandas as pd\n",
    "import qgrid"
   ]
  },
  {
   "cell_type": "code",
   "execution_count": 3,
   "metadata": {
    "collapsed": true
   },
   "outputs": [],
   "source": [
    "## Read input tables\n",
    "A = em.read_csv_metadata('dblp_demo_swap_11.csv', key='id')\n",
    "B = em.read_csv_metadata('acm_demo.csv', key='id')"
   ]
  },
  {
   "cell_type": "code",
   "execution_count": 4,
   "metadata": {
    "collapsed": true
   },
   "outputs": [],
   "source": [
    "L = em.read_csv_metadata('labeled_data_lblerr_fixed.csv', ltable=A, rtable=B)"
   ]
  },
  {
   "cell_type": "code",
   "execution_count": 7,
   "metadata": {
    "collapsed": true
   },
   "outputs": [],
   "source": [
    "L1 = em.project_cols(L, ['_id', 'ltable_id', 'rtable_id'])"
   ]
  },
  {
   "cell_type": "code",
   "execution_count": 8,
   "metadata": {
    "collapsed": false
   },
   "outputs": [],
   "source": [
    "L2 = em.add_output_attributes(L1, l_output_attrs=['title', 'authors', 'year'], r_output_attrs=['title', 'authors', 'year'])"
   ]
  },
  {
   "cell_type": "code",
   "execution_count": 9,
   "metadata": {
    "collapsed": false
   },
   "outputs": [
    {
     "data": {
      "text/html": [
       "<div>\n",
       "<table border=\"1\" class=\"dataframe\">\n",
       "  <thead>\n",
       "    <tr style=\"text-align: right;\">\n",
       "      <th></th>\n",
       "      <th>_id</th>\n",
       "      <th>ltable_id</th>\n",
       "      <th>rtable_id</th>\n",
       "      <th>ltable_title</th>\n",
       "      <th>ltable_authors</th>\n",
       "      <th>ltable_year</th>\n",
       "      <th>rtable_title</th>\n",
       "      <th>rtable_authors</th>\n",
       "      <th>rtable_year</th>\n",
       "    </tr>\n",
       "  </thead>\n",
       "  <tbody>\n",
       "    <tr>\n",
       "      <th>0</th>\n",
       "      <td>0</td>\n",
       "      <td>l1223</td>\n",
       "      <td>r498</td>\n",
       "      <td>Dynamic Information Visualization</td>\n",
       "      <td>Yannis E. Ioannidis</td>\n",
       "      <td>1996</td>\n",
       "      <td>Dynamic information visualization</td>\n",
       "      <td>Yannis E. Ioannidis</td>\n",
       "      <td>1996</td>\n",
       "    </tr>\n",
       "    <tr>\n",
       "      <th>1</th>\n",
       "      <td>1</td>\n",
       "      <td>l1563</td>\n",
       "      <td>r1285</td>\n",
       "      <td>Dynamic Load Balancing in Hierarchical Parallel Database Systems</td>\n",
       "      <td>Luc Bouganim, Daniela Florescu, Patrick Valduriez</td>\n",
       "      <td>1996</td>\n",
       "      <td>Dynamic Load Balancing in Hierarchical Parallel Database Systems</td>\n",
       "      <td>Luc Bouganim, Daniela Florescu, Patrick Valduriez</td>\n",
       "      <td>1996</td>\n",
       "    </tr>\n",
       "    <tr>\n",
       "      <th>2</th>\n",
       "      <td>2</td>\n",
       "      <td>l1514</td>\n",
       "      <td>r1348</td>\n",
       "      <td>Query Processing and Optimization in Oracle Rdb</td>\n",
       "      <td>Gennady Antoshenkov, Mohamed Ziauddin</td>\n",
       "      <td>1996</td>\n",
       "      <td>prospector: a content-based multimedia server for massively parallel architectures</td>\n",
       "      <td>S. Choo, W. O'Connell, G. Linerman, H. Chen, K. Ganapathy, A. Biliris, E. Panagos, D. Schrader</td>\n",
       "      <td>1996</td>\n",
       "    </tr>\n",
       "    <tr>\n",
       "      <th>3</th>\n",
       "      <td>3</td>\n",
       "      <td>l206</td>\n",
       "      <td>r1641</td>\n",
       "      <td>An Asymptotically Optimal Multiversion B-Tree</td>\n",
       "      <td>Thomas Ohler, Peter Widmayer, Bruno Becker, Stephan Gschwind, Bernhard Seeger</td>\n",
       "      <td>1996</td>\n",
       "      <td>A complete temporal relational algebra</td>\n",
       "      <td>Debabrata Dey, Terence M. Barron, Veda C. Storey</td>\n",
       "      <td>1996</td>\n",
       "    </tr>\n",
       "    <tr>\n",
       "      <th>4</th>\n",
       "      <td>4</td>\n",
       "      <td>l1589</td>\n",
       "      <td>r495</td>\n",
       "      <td>Evaluating Probabilistic Queries over Imprecise Data</td>\n",
       "      <td>Reynold Cheng, Dmitri V. Kalashnikov, Sunil Prabhakar</td>\n",
       "      <td>2003</td>\n",
       "      <td>Evaluating probabilistic queries over imprecise data</td>\n",
       "      <td>Reynold Cheng, Dmitri V. Kalashnikov, Sunil Prabhakar</td>\n",
       "      <td>2003</td>\n",
       "    </tr>\n",
       "  </tbody>\n",
       "</table>\n",
       "</div>"
      ],
      "text/plain": [
       "   _id ltable_id rtable_id  \\\n",
       "0    0     l1223      r498   \n",
       "1    1     l1563     r1285   \n",
       "2    2     l1514     r1348   \n",
       "3    3      l206     r1641   \n",
       "4    4     l1589      r495   \n",
       "\n",
       "                                                       ltable_title  \\\n",
       "0                                 Dynamic Information Visualization   \n",
       "1  Dynamic Load Balancing in Hierarchical Parallel Database Systems   \n",
       "2                   Query Processing and Optimization in Oracle Rdb   \n",
       "3                     An Asymptotically Optimal Multiversion B-Tree   \n",
       "4              Evaluating Probabilistic Queries over Imprecise Data   \n",
       "\n",
       "                                                                  ltable_authors  \\\n",
       "0                                                            Yannis E. Ioannidis   \n",
       "1                              Luc Bouganim, Daniela Florescu, Patrick Valduriez   \n",
       "2                                          Gennady Antoshenkov, Mohamed Ziauddin   \n",
       "3  Thomas Ohler, Peter Widmayer, Bruno Becker, Stephan Gschwind, Bernhard Seeger   \n",
       "4                          Reynold Cheng, Dmitri V. Kalashnikov, Sunil Prabhakar   \n",
       "\n",
       "   ltable_year  \\\n",
       "0         1996   \n",
       "1         1996   \n",
       "2         1996   \n",
       "3         1996   \n",
       "4         2003   \n",
       "\n",
       "                                                                         rtable_title  \\\n",
       "0                                                   Dynamic information visualization   \n",
       "1                    Dynamic Load Balancing in Hierarchical Parallel Database Systems   \n",
       "2  prospector: a content-based multimedia server for massively parallel architectures   \n",
       "3                                              A complete temporal relational algebra   \n",
       "4                                Evaluating probabilistic queries over imprecise data   \n",
       "\n",
       "                                                                                   rtable_authors  \\\n",
       "0                                                                             Yannis E. Ioannidis   \n",
       "1                                               Luc Bouganim, Daniela Florescu, Patrick Valduriez   \n",
       "2  S. Choo, W. O'Connell, G. Linerman, H. Chen, K. Ganapathy, A. Biliris, E. Panagos, D. Schrader   \n",
       "3                                                Debabrata Dey, Terence M. Barron, Veda C. Storey   \n",
       "4                                           Reynold Cheng, Dmitri V. Kalashnikov, Sunil Prabhakar   \n",
       "\n",
       "   rtable_year  \n",
       "0         1996  \n",
       "1         1996  \n",
       "2         1996  \n",
       "3         1996  \n",
       "4         2003  "
      ]
     },
     "execution_count": 9,
     "metadata": {},
     "output_type": "execute_result"
    }
   ],
   "source": [
    "L2.head()"
   ]
  },
  {
   "cell_type": "code",
   "execution_count": 10,
   "metadata": {
    "collapsed": true
   },
   "outputs": [],
   "source": [
    "L2['label'] = L.label"
   ]
  },
  {
   "cell_type": "code",
   "execution_count": 11,
   "metadata": {
    "collapsed": false
   },
   "outputs": [
    {
     "data": {
      "text/html": [
       "<div>\n",
       "<table border=\"1\" class=\"dataframe\">\n",
       "  <thead>\n",
       "    <tr style=\"text-align: right;\">\n",
       "      <th></th>\n",
       "      <th>_id</th>\n",
       "      <th>ltable_id</th>\n",
       "      <th>rtable_id</th>\n",
       "      <th>ltable_title</th>\n",
       "      <th>ltable_authors</th>\n",
       "      <th>ltable_year</th>\n",
       "      <th>rtable_title</th>\n",
       "      <th>rtable_authors</th>\n",
       "      <th>rtable_year</th>\n",
       "      <th>label</th>\n",
       "    </tr>\n",
       "  </thead>\n",
       "  <tbody>\n",
       "    <tr>\n",
       "      <th>0</th>\n",
       "      <td>0</td>\n",
       "      <td>l1223</td>\n",
       "      <td>r498</td>\n",
       "      <td>Dynamic Information Visualization</td>\n",
       "      <td>Yannis E. Ioannidis</td>\n",
       "      <td>1996</td>\n",
       "      <td>Dynamic information visualization</td>\n",
       "      <td>Yannis E. Ioannidis</td>\n",
       "      <td>1996</td>\n",
       "      <td>1</td>\n",
       "    </tr>\n",
       "    <tr>\n",
       "      <th>1</th>\n",
       "      <td>1</td>\n",
       "      <td>l1563</td>\n",
       "      <td>r1285</td>\n",
       "      <td>Dynamic Load Balancing in Hierarchical Parallel Database Systems</td>\n",
       "      <td>Luc Bouganim, Daniela Florescu, Patrick Valduriez</td>\n",
       "      <td>1996</td>\n",
       "      <td>Dynamic Load Balancing in Hierarchical Parallel Database Systems</td>\n",
       "      <td>Luc Bouganim, Daniela Florescu, Patrick Valduriez</td>\n",
       "      <td>1996</td>\n",
       "      <td>1</td>\n",
       "    </tr>\n",
       "    <tr>\n",
       "      <th>2</th>\n",
       "      <td>2</td>\n",
       "      <td>l1514</td>\n",
       "      <td>r1348</td>\n",
       "      <td>Query Processing and Optimization in Oracle Rdb</td>\n",
       "      <td>Gennady Antoshenkov, Mohamed Ziauddin</td>\n",
       "      <td>1996</td>\n",
       "      <td>prospector: a content-based multimedia server for massively parallel architectures</td>\n",
       "      <td>S. Choo, W. O'Connell, G. Linerman, H. Chen, K. Ganapathy, A. Biliris, E. Panagos, D. Schrader</td>\n",
       "      <td>1996</td>\n",
       "      <td>0</td>\n",
       "    </tr>\n",
       "    <tr>\n",
       "      <th>3</th>\n",
       "      <td>3</td>\n",
       "      <td>l206</td>\n",
       "      <td>r1641</td>\n",
       "      <td>An Asymptotically Optimal Multiversion B-Tree</td>\n",
       "      <td>Thomas Ohler, Peter Widmayer, Bruno Becker, Stephan Gschwind, Bernhard Seeger</td>\n",
       "      <td>1996</td>\n",
       "      <td>A complete temporal relational algebra</td>\n",
       "      <td>Debabrata Dey, Terence M. Barron, Veda C. Storey</td>\n",
       "      <td>1996</td>\n",
       "      <td>0</td>\n",
       "    </tr>\n",
       "    <tr>\n",
       "      <th>4</th>\n",
       "      <td>4</td>\n",
       "      <td>l1589</td>\n",
       "      <td>r495</td>\n",
       "      <td>Evaluating Probabilistic Queries over Imprecise Data</td>\n",
       "      <td>Reynold Cheng, Dmitri V. Kalashnikov, Sunil Prabhakar</td>\n",
       "      <td>2003</td>\n",
       "      <td>Evaluating probabilistic queries over imprecise data</td>\n",
       "      <td>Reynold Cheng, Dmitri V. Kalashnikov, Sunil Prabhakar</td>\n",
       "      <td>2003</td>\n",
       "      <td>1</td>\n",
       "    </tr>\n",
       "  </tbody>\n",
       "</table>\n",
       "</div>"
      ],
      "text/plain": [
       "   _id ltable_id rtable_id  \\\n",
       "0    0     l1223      r498   \n",
       "1    1     l1563     r1285   \n",
       "2    2     l1514     r1348   \n",
       "3    3      l206     r1641   \n",
       "4    4     l1589      r495   \n",
       "\n",
       "                                                       ltable_title  \\\n",
       "0                                 Dynamic Information Visualization   \n",
       "1  Dynamic Load Balancing in Hierarchical Parallel Database Systems   \n",
       "2                   Query Processing and Optimization in Oracle Rdb   \n",
       "3                     An Asymptotically Optimal Multiversion B-Tree   \n",
       "4              Evaluating Probabilistic Queries over Imprecise Data   \n",
       "\n",
       "                                                                  ltable_authors  \\\n",
       "0                                                            Yannis E. Ioannidis   \n",
       "1                              Luc Bouganim, Daniela Florescu, Patrick Valduriez   \n",
       "2                                          Gennady Antoshenkov, Mohamed Ziauddin   \n",
       "3  Thomas Ohler, Peter Widmayer, Bruno Becker, Stephan Gschwind, Bernhard Seeger   \n",
       "4                          Reynold Cheng, Dmitri V. Kalashnikov, Sunil Prabhakar   \n",
       "\n",
       "   ltable_year  \\\n",
       "0         1996   \n",
       "1         1996   \n",
       "2         1996   \n",
       "3         1996   \n",
       "4         2003   \n",
       "\n",
       "                                                                         rtable_title  \\\n",
       "0                                                   Dynamic information visualization   \n",
       "1                    Dynamic Load Balancing in Hierarchical Parallel Database Systems   \n",
       "2  prospector: a content-based multimedia server for massively parallel architectures   \n",
       "3                                              A complete temporal relational algebra   \n",
       "4                                Evaluating probabilistic queries over imprecise data   \n",
       "\n",
       "                                                                                   rtable_authors  \\\n",
       "0                                                                             Yannis E. Ioannidis   \n",
       "1                                               Luc Bouganim, Daniela Florescu, Patrick Valduriez   \n",
       "2  S. Choo, W. O'Connell, G. Linerman, H. Chen, K. Ganapathy, A. Biliris, E. Panagos, D. Schrader   \n",
       "3                                                Debabrata Dey, Terence M. Barron, Veda C. Storey   \n",
       "4                                           Reynold Cheng, Dmitri V. Kalashnikov, Sunil Prabhakar   \n",
       "\n",
       "   rtable_year  label  \n",
       "0         1996      1  \n",
       "1         1996      1  \n",
       "2         1996      0  \n",
       "3         1996      0  \n",
       "4         2003      1  "
      ]
     },
     "execution_count": 11,
     "metadata": {},
     "output_type": "execute_result"
    }
   ],
   "source": [
    "L2.head()"
   ]
  },
  {
   "cell_type": "code",
   "execution_count": 12,
   "metadata": {
    "collapsed": false
   },
   "outputs": [
    {
     "data": {
      "text/plain": [
       "True"
      ]
     },
     "execution_count": 12,
     "metadata": {},
     "output_type": "execute_result"
    }
   ],
   "source": [
    "em.to_csv_metadata(L2, './labeled_data_lblerr_fixed.csv')"
   ]
  }
 ],
 "metadata": {
  "anaconda-cloud": {},
  "kernelspec": {
   "display_name": "Python [Root]",
   "language": "python",
   "name": "Python [Root]"
  },
  "language_info": {
   "codemirror_mode": {
    "name": "ipython",
    "version": 3
   },
   "file_extension": ".py",
   "mimetype": "text/x-python",
   "name": "python",
   "nbconvert_exporter": "python",
   "pygments_lexer": "ipython3",
   "version": "3.5.2"
  }
 },
 "nbformat": 4,
 "nbformat_minor": 0
}
