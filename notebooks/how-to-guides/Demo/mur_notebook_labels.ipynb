{
 "cells": [
  {
   "cell_type": "code",
   "execution_count": 1,
   "metadata": {
    "collapsed": false
   },
   "outputs": [],
   "source": [
    "%load_ext autotime\n",
    "%matplotlib inline\n",
    "import sys\n",
    "sys.path.append('/Users/pradap/Documents/Research/Python-Package/anhaid/py_entitymatching/')"
   ]
  },
  {
   "cell_type": "code",
   "execution_count": 2,
   "metadata": {
    "collapsed": false
   },
   "outputs": [
    {
     "name": "stdout",
     "output_type": "stream",
     "text": [
      "time: 1.04 s\n"
     ]
    }
   ],
   "source": [
    "import py_entitymatching as em\n",
    "import py_stringsimjoin as ssj\n",
    "import profiler\n",
    "import pandas as pd\n",
    "import qgrid"
   ]
  },
  {
   "cell_type": "code",
   "execution_count": 3,
   "metadata": {
    "collapsed": false
   },
   "outputs": [
    {
     "name": "stdout",
     "output_type": "stream",
     "text": [
      "time: 19.6 ms\n"
     ]
    }
   ],
   "source": [
    "A = em.read_csv_metadata('./ORIG_DBLP_ACM/dblp_mur_clean.csv', key='id')\n",
    "B = em.read_csv_metadata('./ORIG_DBLP_ACM/acm_mur_clean.csv', key='id')"
   ]
  },
  {
   "cell_type": "code",
   "execution_count": 4,
   "metadata": {
    "collapsed": false
   },
   "outputs": [
    {
     "data": {
      "text/html": [
       "<div>\n",
       "<table border=\"1\" class=\"dataframe\">\n",
       "  <thead>\n",
       "    <tr style=\"text-align: right;\">\n",
       "      <th></th>\n",
       "      <th>id</th>\n",
       "      <th>title</th>\n",
       "      <th>authors</th>\n",
       "      <th>venue</th>\n",
       "      <th>year</th>\n",
       "    </tr>\n",
       "  </thead>\n",
       "  <tbody>\n",
       "    <tr>\n",
       "      <th>0</th>\n",
       "      <td>conf/sigmod/RamaswamyK95</td>\n",
       "      <td>OODB Indexing by Class-Division</td>\n",
       "      <td>Sridhar Ramaswamy, Paris C. Kanellakis</td>\n",
       "      <td>SIGMOD Conference</td>\n",
       "      <td>1995</td>\n",
       "    </tr>\n",
       "    <tr>\n",
       "      <th>1</th>\n",
       "      <td>journals/sigmod/GottlobKP03a</td>\n",
       "      <td>XPath processing in a nutshell</td>\n",
       "      <td>Reinhard Pichler, Christoph Koch, Georg Gottlob</td>\n",
       "      <td>SIGMOD Record</td>\n",
       "      <td>2003</td>\n",
       "    </tr>\n",
       "    <tr>\n",
       "      <th>2</th>\n",
       "      <td>conf/sigmod/AndersonBKW98</td>\n",
       "      <td>Replication, Consistency, and Practicality: Are These Mutually Exclusive?</td>\n",
       "      <td>Avishai Wool, Henry F. Korth, Yuri Breitbart, Todd A. Anderson</td>\n",
       "      <td>SIGMOD Conference</td>\n",
       "      <td>1998</td>\n",
       "    </tr>\n",
       "    <tr>\n",
       "      <th>3</th>\n",
       "      <td>conf/vldb/HelalL00</td>\n",
       "      <td>Rainbow: Distributed Database System for Classroom Education and Experimental Research</td>\n",
       "      <td>Abdelsalam Helal, Hua Li</td>\n",
       "      <td>VLDB</td>\n",
       "      <td>2000</td>\n",
       "    </tr>\n",
       "    <tr>\n",
       "      <th>4</th>\n",
       "      <td>conf/sigmod/RaoBG96</td>\n",
       "      <td>Providing Better Support for a Class of Decision Support Queries</td>\n",
       "      <td>Antonio Badia, Dirk Van Gucht, Sudhir Rao</td>\n",
       "      <td>SIGMOD Conference</td>\n",
       "      <td>1996</td>\n",
       "    </tr>\n",
       "  </tbody>\n",
       "</table>\n",
       "</div>"
      ],
      "text/plain": [
       "                             id  \\\n",
       "0      conf/sigmod/RamaswamyK95   \n",
       "1  journals/sigmod/GottlobKP03a   \n",
       "2     conf/sigmod/AndersonBKW98   \n",
       "3            conf/vldb/HelalL00   \n",
       "4           conf/sigmod/RaoBG96   \n",
       "\n",
       "                                                                                    title  \\\n",
       "0                                                         OODB Indexing by Class-Division   \n",
       "1                                                          XPath processing in a nutshell   \n",
       "2               Replication, Consistency, and Practicality: Are These Mutually Exclusive?   \n",
       "3  Rainbow: Distributed Database System for Classroom Education and Experimental Research   \n",
       "4                        Providing Better Support for a Class of Decision Support Queries   \n",
       "\n",
       "                                                          authors  \\\n",
       "0                          Sridhar Ramaswamy, Paris C. Kanellakis   \n",
       "1                 Reinhard Pichler, Christoph Koch, Georg Gottlob   \n",
       "2  Avishai Wool, Henry F. Korth, Yuri Breitbart, Todd A. Anderson   \n",
       "3                                        Abdelsalam Helal, Hua Li   \n",
       "4                       Antonio Badia, Dirk Van Gucht, Sudhir Rao   \n",
       "\n",
       "               venue  year  \n",
       "0  SIGMOD Conference  1995  \n",
       "1      SIGMOD Record  2003  \n",
       "2  SIGMOD Conference  1998  \n",
       "3               VLDB  2000  \n",
       "4  SIGMOD Conference  1996  "
      ]
     },
     "execution_count": 4,
     "metadata": {},
     "output_type": "execute_result"
    },
    {
     "name": "stdout",
     "output_type": "stream",
     "text": [
      "time: 11.5 ms\n"
     ]
    }
   ],
   "source": [
    "A.head()"
   ]
  },
  {
   "cell_type": "code",
   "execution_count": 5,
   "metadata": {
    "collapsed": false
   },
   "outputs": [
    {
     "data": {
      "text/plain": [
       "1991"
      ]
     },
     "execution_count": 5,
     "metadata": {},
     "output_type": "execute_result"
    },
    {
     "name": "stdout",
     "output_type": "stream",
     "text": [
      "time: 1.92 ms\n"
     ]
    }
   ],
   "source": [
    "len(B)"
   ]
  },
  {
   "cell_type": "code",
   "execution_count": 6,
   "metadata": {
    "collapsed": false
   },
   "outputs": [
    {
     "data": {
      "text/html": [
       "<div>\n",
       "<table border=\"1\" class=\"dataframe\">\n",
       "  <thead>\n",
       "    <tr style=\"text-align: right;\">\n",
       "      <th></th>\n",
       "      <th>id</th>\n",
       "      <th>title</th>\n",
       "      <th>authors</th>\n",
       "      <th>venue</th>\n",
       "      <th>year</th>\n",
       "    </tr>\n",
       "  </thead>\n",
       "  <tbody>\n",
       "    <tr>\n",
       "      <th>0</th>\n",
       "      <td>conf/sigmod/RamaswamyK95</td>\n",
       "      <td>OODB Indexing by Class-Division</td>\n",
       "      <td>Sridhar Ramaswamy, Paris C. Kanellakis</td>\n",
       "      <td>SIGMOD Conference</td>\n",
       "      <td>1995</td>\n",
       "    </tr>\n",
       "    <tr>\n",
       "      <th>1</th>\n",
       "      <td>journals/sigmod/GottlobKP03a</td>\n",
       "      <td>XPath processing in a nutshell</td>\n",
       "      <td>Reinhard Pichler, Christoph Koch, Georg Gottlob</td>\n",
       "      <td>SIGMOD Record</td>\n",
       "      <td>2003</td>\n",
       "    </tr>\n",
       "  </tbody>\n",
       "</table>\n",
       "</div>"
      ],
      "text/plain": [
       "                             id                            title  \\\n",
       "0      conf/sigmod/RamaswamyK95  OODB Indexing by Class-Division   \n",
       "1  journals/sigmod/GottlobKP03a   XPath processing in a nutshell   \n",
       "\n",
       "                                           authors              venue  year  \n",
       "0           Sridhar Ramaswamy, Paris C. Kanellakis  SIGMOD Conference  1995  \n",
       "1  Reinhard Pichler, Christoph Koch, Georg Gottlob      SIGMOD Record  2003  "
      ]
     },
     "execution_count": 6,
     "metadata": {},
     "output_type": "execute_result"
    },
    {
     "name": "stdout",
     "output_type": "stream",
     "text": [
      "time: 7.94 ms\n"
     ]
    }
   ],
   "source": [
    "A.head(2)"
   ]
  },
  {
   "cell_type": "code",
   "execution_count": 7,
   "metadata": {
    "collapsed": false
   },
   "outputs": [
    {
     "data": {
      "text/html": [
       "<div>\n",
       "<table border=\"1\" class=\"dataframe\">\n",
       "  <thead>\n",
       "    <tr style=\"text-align: right;\">\n",
       "      <th></th>\n",
       "      <th>id</th>\n",
       "      <th>title</th>\n",
       "      <th>authors</th>\n",
       "      <th>venue</th>\n",
       "      <th>year</th>\n",
       "    </tr>\n",
       "  </thead>\n",
       "  <tbody>\n",
       "    <tr>\n",
       "      <th>0</th>\n",
       "      <td>245896</td>\n",
       "      <td>Pixel-oriented database visualizations</td>\n",
       "      <td>Daniel A. Keim</td>\n",
       "      <td>ACM SIGMOD Record</td>\n",
       "      <td>1996</td>\n",
       "    </tr>\n",
       "    <tr>\n",
       "      <th>1</th>\n",
       "      <td>672175</td>\n",
       "      <td>Storage and Querying of E-Commerce Data</td>\n",
       "      <td>Rakesh Agrawal, Amit Somani, Yirong Xu</td>\n",
       "      <td>Very Large Data Bases</td>\n",
       "      <td>2001</td>\n",
       "    </tr>\n",
       "  </tbody>\n",
       "</table>\n",
       "</div>"
      ],
      "text/plain": [
       "       id                                    title  \\\n",
       "0  245896   Pixel-oriented database visualizations   \n",
       "1  672175  Storage and Querying of E-Commerce Data   \n",
       "\n",
       "                                  authors                  venue  year  \n",
       "0                          Daniel A. Keim      ACM SIGMOD Record  1996  \n",
       "1  Rakesh Agrawal, Amit Somani, Yirong Xu  Very Large Data Bases  2001  "
      ]
     },
     "execution_count": 7,
     "metadata": {},
     "output_type": "execute_result"
    },
    {
     "name": "stdout",
     "output_type": "stream",
     "text": [
      "time: 8.23 ms\n"
     ]
    }
   ],
   "source": [
    "B.head(2)"
   ]
  },
  {
   "cell_type": "code",
   "execution_count": 8,
   "metadata": {
    "collapsed": false
   },
   "outputs": [
    {
     "data": {
      "text/plain": [
       "(1979, 1991)"
      ]
     },
     "execution_count": 8,
     "metadata": {},
     "output_type": "execute_result"
    },
    {
     "name": "stdout",
     "output_type": "stream",
     "text": [
      "time: 3.17 ms\n"
     ]
    }
   ],
   "source": [
    "len(A), len(B)"
   ]
  },
  {
   "cell_type": "code",
   "execution_count": 9,
   "metadata": {
    "collapsed": false
   },
   "outputs": [
    {
     "data": {
      "text/plain": [
       "(287, 300)"
      ]
     },
     "execution_count": 9,
     "metadata": {},
     "output_type": "execute_result"
    },
    {
     "name": "stdout",
     "output_type": "stream",
     "text": [
      "time: 417 ms\n"
     ]
    }
   ],
   "source": [
    "A1, B1 = em.down_sample(A, B, 300, 1, show_progress=False)\n",
    "len(A1), len(B1)"
   ]
  },
  {
   "cell_type": "markdown",
   "metadata": {},
   "source": [
    "### Block tables to get candidate set"
   ]
  },
  {
   "cell_type": "code",
   "execution_count": 10,
   "metadata": {
    "collapsed": false
   },
   "outputs": [
    {
     "name": "stdout",
     "output_type": "stream",
     "text": [
      "time: 627 µs\n"
     ]
    }
   ],
   "source": [
    "# qgrid.show_grid(A)"
   ]
  },
  {
   "cell_type": "code",
   "execution_count": 11,
   "metadata": {
    "collapsed": false
   },
   "outputs": [
    {
     "name": "stdout",
     "output_type": "stream",
     "text": [
      "time: 498 µs\n"
     ]
    }
   ],
   "source": [
    "# qgrid.show_grid(B)"
   ]
  },
  {
   "cell_type": "code",
   "execution_count": 12,
   "metadata": {
    "collapsed": false
   },
   "outputs": [
    {
     "name": "stdout",
     "output_type": "stream",
     "text": [
      "Number of unique values: 10\n",
      "Number of missing values: 0\n",
      "\n",
      "Unique values: \n",
      "[1994, 1995, 1996, 1997, 1998, 1999, 2000, 2001, 2002, 2003]\n",
      "\n",
      "Frequency plot:\n",
      "\n"
     ]
    },
    {
     "data": {
      "image/png": "[encoded data removed]",
      "text/plain": [
       "<matplotlib.figure.Figure at 0x116447390>"
      ]
     },
     "metadata": {},
     "output_type": "display_data"
    },
    {
     "name": "stdout",
     "output_type": "stream",
     "text": [
      "time: 282 ms\n"
     ]
    }
   ],
   "source": [
    "profiler.profile_table(A, 'year')"
   ]
  },
  {
   "cell_type": "code",
   "execution_count": 40,
   "metadata": {
    "collapsed": false
   },
   "outputs": [
    {
     "name": "stdout",
     "output_type": "stream",
     "text": [
      "Number of unique values: 10\n",
      "Number of missing values: 0\n",
      "\n",
      "Unique values: \n",
      "[1994, 1995, 1996, 1997, 1998, 1999, 2000, 2001, 2002, 2003]\n",
      "\n",
      "Frequency plot:\n",
      "\n"
     ]
    },
    {
     "data": {
      "image/png": "[encoded data removed]",
      "text/plain": [
       "<matplotlib.figure.Figure at 0x1188898d0>"
      ]
     },
     "metadata": {},
     "output_type": "display_data"
    },
    {
     "name": "stdout",
     "output_type": "stream",
     "text": [
      "time: 261 ms\n"
     ]
    }
   ],
   "source": [
    "profiler.profile_table(B, 'year')"
   ]
  },
  {
   "cell_type": "code",
   "execution_count": 14,
   "metadata": {
    "collapsed": false
   },
   "outputs": [
    {
     "name": "stdout",
     "output_type": "stream",
     "text": [
      "time: 692 µs\n"
     ]
    }
   ],
   "source": [
    "### Plan\n",
    "\n",
    "### A, B -- AttrEquivalnce blocker [year]--------------------------| Candidate set"
   ]
  },
  {
   "cell_type": "code",
   "execution_count": 15,
   "metadata": {
    "collapsed": false
   },
   "outputs": [
    {
     "name": "stdout",
     "output_type": "stream",
     "text": [
      "time: 186 ms\n"
     ]
    }
   ],
   "source": [
    "# Create attribute equivalence blocker\n",
    "ab = em.AttrEquivalenceBlocker()\n",
    "# Block tables using 'year' attribute : same year include in candidate set\n",
    "C1 = ab.block_tables(A, B, 'year', 'year', \n",
    "                     l_output_attrs=['title', 'authors', 'year'],\n",
    "                     r_output_attrs=['title', 'authors', 'year']\n",
    "                    )"
   ]
  },
  {
   "cell_type": "code",
   "execution_count": 16,
   "metadata": {
    "collapsed": false
   },
   "outputs": [
    {
     "data": {
      "text/html": [
       "<div>\n",
       "<table border=\"1\" class=\"dataframe\">\n",
       "  <thead>\n",
       "    <tr style=\"text-align: right;\">\n",
       "      <th></th>\n",
       "      <th>_id</th>\n",
       "      <th>ltable_id</th>\n",
       "      <th>rtable_id</th>\n",
       "      <th>ltable_title</th>\n",
       "      <th>ltable_authors</th>\n",
       "      <th>ltable_year</th>\n",
       "      <th>rtable_title</th>\n",
       "      <th>rtable_authors</th>\n",
       "      <th>rtable_year</th>\n",
       "    </tr>\n",
       "  </thead>\n",
       "  <tbody>\n",
       "    <tr>\n",
       "      <th>0</th>\n",
       "      <td>0</td>\n",
       "      <td>conf/sigmod/RamaswamyK95</td>\n",
       "      <td>223898</td>\n",
       "      <td>OODB Indexing by Class-Division</td>\n",
       "      <td>Sridhar Ramaswamy, Paris C. Kanellakis</td>\n",
       "      <td>1995</td>\n",
       "      <td>Paradise: a database system for GIS applications</td>\n",
       "      <td>CORPORATE The Paradise Team</td>\n",
       "      <td>1995</td>\n",
       "    </tr>\n",
       "    <tr>\n",
       "      <th>1</th>\n",
       "      <td>1</td>\n",
       "      <td>conf/sigmod/RamaswamyK95</td>\n",
       "      <td>210202</td>\n",
       "      <td>OODB Indexing by Class-Division</td>\n",
       "      <td>Sridhar Ramaswamy, Paris C. Kanellakis</td>\n",
       "      <td>1995</td>\n",
       "      <td>Fast algorithms for universal quantification in large databases</td>\n",
       "      <td>Goetz Graefe, Richard L. Cole</td>\n",
       "      <td>1995</td>\n",
       "    </tr>\n",
       "  </tbody>\n",
       "</table>\n",
       "</div>"
      ],
      "text/plain": [
       "   _id                 ltable_id  rtable_id                     ltable_title  \\\n",
       "0    0  conf/sigmod/RamaswamyK95     223898  OODB Indexing by Class-Division   \n",
       "1    1  conf/sigmod/RamaswamyK95     210202  OODB Indexing by Class-Division   \n",
       "\n",
       "                           ltable_authors  ltable_year  \\\n",
       "0  Sridhar Ramaswamy, Paris C. Kanellakis         1995   \n",
       "1  Sridhar Ramaswamy, Paris C. Kanellakis         1995   \n",
       "\n",
       "                                                      rtable_title  \\\n",
       "0                 Paradise: a database system for GIS applications   \n",
       "1  Fast algorithms for universal quantification in large databases   \n",
       "\n",
       "                  rtable_authors  rtable_year  \n",
       "0    CORPORATE The Paradise Team         1995  \n",
       "1  Goetz Graefe, Richard L. Cole         1995  "
      ]
     },
     "execution_count": 16,
     "metadata": {},
     "output_type": "execute_result"
    },
    {
     "name": "stdout",
     "output_type": "stream",
     "text": [
      "time: 13 ms\n"
     ]
    }
   ],
   "source": [
    "C1.head(2)"
   ]
  },
  {
   "cell_type": "markdown",
   "metadata": {},
   "source": [
    "### Debug blocking output"
   ]
  },
  {
   "cell_type": "code",
   "execution_count": 17,
   "metadata": {
    "collapsed": false
   },
   "outputs": [
    {
     "name": "stdout",
     "output_type": "stream",
     "text": [
      "time: 1.34 s\n"
     ]
    }
   ],
   "source": [
    "# Debug blocking output\n",
    "\n",
    "# check whether the current blocking method has dropped a lot of potential matches\n",
    "dbg = em.debug_blocker(C1, A, B, output_size=30)"
   ]
  },
  {
   "cell_type": "code",
   "execution_count": 18,
   "metadata": {
    "collapsed": false
   },
   "outputs": [
    {
     "data": {
      "text/html": [
       "<div>\n",
       "<table border=\"1\" class=\"dataframe\">\n",
       "  <thead>\n",
       "    <tr style=\"text-align: right;\">\n",
       "      <th></th>\n",
       "      <th>_id</th>\n",
       "      <th>similarity</th>\n",
       "      <th>ltable_id</th>\n",
       "      <th>rtable_id</th>\n",
       "      <th>ltable_title</th>\n",
       "      <th>ltable_authors</th>\n",
       "      <th>ltable_venue</th>\n",
       "      <th>rtable_title</th>\n",
       "      <th>rtable_authors</th>\n",
       "      <th>rtable_venue</th>\n",
       "    </tr>\n",
       "  </thead>\n",
       "  <tbody>\n",
       "    <tr>\n",
       "      <th>0</th>\n",
       "      <td>0</td>\n",
       "      <td>0.727273</td>\n",
       "      <td>journals/vldb/GibsonKR00</td>\n",
       "      <td>671202</td>\n",
       "      <td>Clustering Categorical Data: An Approach Based on Dynamical Systems</td>\n",
       "      <td>David Gibson, Jon M. Kleinberg, Prabhakar Raghavan</td>\n",
       "      <td>VLDB J.</td>\n",
       "      <td>Clustering Categorical Data: An Approach Based on Dynamical Systems</td>\n",
       "      <td>David Gibson, Jon M. Kleinberg, Prabhakar Raghavan</td>\n",
       "      <td>Very Large Data Bases</td>\n",
       "    </tr>\n",
       "    <tr>\n",
       "      <th>1</th>\n",
       "      <td>1</td>\n",
       "      <td>0.687500</td>\n",
       "      <td>journals/vldb/ShanmugasundaramSBCLPR01</td>\n",
       "      <td>671695</td>\n",
       "      <td>Efficiently publishing relational data as XML documents</td>\n",
       "      <td>Bruce G. Lindsay, Hamid Pirahesh, Berthold Reinwald, Michael J. Carey, Rimon Barr, Jayavel Shanm...</td>\n",
       "      <td>VLDB J.</td>\n",
       "      <td>Efficiently Publishing Relational Data as XML Documents</td>\n",
       "      <td>Jayavel Shanmugasundaram, Eugene J. Shekita, Rimon Barr, Michael J. Carey, Bruce G. Lindsay, Ham...</td>\n",
       "      <td>Very Large Data Bases</td>\n",
       "    </tr>\n",
       "    <tr>\n",
       "      <th>2</th>\n",
       "      <td>2</td>\n",
       "      <td>0.666667</td>\n",
       "      <td>journals/vldb/ManegoldBK00</td>\n",
       "      <td>671364</td>\n",
       "      <td>Optimizing database architecture for the new bottleneck: memory access</td>\n",
       "      <td>Peter A. Boncz, Stefan Manegold, Martin L. Kersten</td>\n",
       "      <td>VLDB J.</td>\n",
       "      <td>Database Architecture Optimized for the New Bottleneck: Memory Access</td>\n",
       "      <td>Peter A. Boncz, Stefan Manegold, Martin L. Kersten</td>\n",
       "      <td>Very Large Data Bases</td>\n",
       "    </tr>\n",
       "    <tr>\n",
       "      <th>3</th>\n",
       "      <td>3</td>\n",
       "      <td>0.650000</td>\n",
       "      <td>conf/vldb/GibbonsMP97</td>\n",
       "      <td>581753</td>\n",
       "      <td>Fast Incremental Maintenance of Approximate Histograms</td>\n",
       "      <td>Yossi Matias, Phillip B. Gibbons, Viswanath Poosala</td>\n",
       "      <td>VLDB</td>\n",
       "      <td>Fast incremental maintenance of approximate histograms</td>\n",
       "      <td>Phillip B. Gibbons, Yossi Matias, Viswanath Poosala</td>\n",
       "      <td>ACM Transactions on Database Systems (TODS)</td>\n",
       "    </tr>\n",
       "    <tr>\n",
       "      <th>4</th>\n",
       "      <td>4</td>\n",
       "      <td>0.636364</td>\n",
       "      <td>journals/vldb/JagadishACLNPPSWWY02</td>\n",
       "      <td>872862</td>\n",
       "      <td>TIMBER: A native XML database</td>\n",
       "      <td>Andrew Nierman, Cong Yu, Jignesh M. Patel, Adriane Chapman, Nuwee Wiwatwattana, H. V. Jagadish, ...</td>\n",
       "      <td>VLDB J.</td>\n",
       "      <td>TIMBER: a native system for querying XML</td>\n",
       "      <td>Stelios Paparizos, Shurug Al-Khalifa, Adriane Chapman, H. V. Jagadish, Laks V. S. Lakshmanan, An...</td>\n",
       "      <td>International Conference on Management of Data</td>\n",
       "    </tr>\n",
       "  </tbody>\n",
       "</table>\n",
       "</div>"
      ],
      "text/plain": [
       "   _id  similarity                               ltable_id  rtable_id  \\\n",
       "0    0    0.727273                journals/vldb/GibsonKR00     671202   \n",
       "1    1    0.687500  journals/vldb/ShanmugasundaramSBCLPR01     671695   \n",
       "2    2    0.666667              journals/vldb/ManegoldBK00     671364   \n",
       "3    3    0.650000                   conf/vldb/GibbonsMP97     581753   \n",
       "4    4    0.636364      journals/vldb/JagadishACLNPPSWWY02     872862   \n",
       "\n",
       "                                                             ltable_title  \\\n",
       "0     Clustering Categorical Data: An Approach Based on Dynamical Systems   \n",
       "1                 Efficiently publishing relational data as XML documents   \n",
       "2  Optimizing database architecture for the new bottleneck: memory access   \n",
       "3                  Fast Incremental Maintenance of Approximate Histograms   \n",
       "4                                           TIMBER: A native XML database   \n",
       "\n",
       "                                                                                        ltable_authors  \\\n",
       "0                                                   David Gibson, Jon M. Kleinberg, Prabhakar Raghavan   \n",
       "1  Bruce G. Lindsay, Hamid Pirahesh, Berthold Reinwald, Michael J. Carey, Rimon Barr, Jayavel Shanm...   \n",
       "2                                                   Peter A. Boncz, Stefan Manegold, Martin L. Kersten   \n",
       "3                                                  Yossi Matias, Phillip B. Gibbons, Viswanath Poosala   \n",
       "4  Andrew Nierman, Cong Yu, Jignesh M. Patel, Adriane Chapman, Nuwee Wiwatwattana, H. V. Jagadish, ...   \n",
       "\n",
       "  ltable_venue  \\\n",
       "0      VLDB J.   \n",
       "1      VLDB J.   \n",
       "2      VLDB J.   \n",
       "3         VLDB   \n",
       "4      VLDB J.   \n",
       "\n",
       "                                                            rtable_title  \\\n",
       "0    Clustering Categorical Data: An Approach Based on Dynamical Systems   \n",
       "1                Efficiently Publishing Relational Data as XML Documents   \n",
       "2  Database Architecture Optimized for the New Bottleneck: Memory Access   \n",
       "3                 Fast incremental maintenance of approximate histograms   \n",
       "4                               TIMBER: a native system for querying XML   \n",
       "\n",
       "                                                                                        rtable_authors  \\\n",
       "0                                                   David Gibson, Jon M. Kleinberg, Prabhakar Raghavan   \n",
       "1  Jayavel Shanmugasundaram, Eugene J. Shekita, Rimon Barr, Michael J. Carey, Bruce G. Lindsay, Ham...   \n",
       "2                                                   Peter A. Boncz, Stefan Manegold, Martin L. Kersten   \n",
       "3                                                  Phillip B. Gibbons, Yossi Matias, Viswanath Poosala   \n",
       "4  Stelios Paparizos, Shurug Al-Khalifa, Adriane Chapman, H. V. Jagadish, Laks V. S. Lakshmanan, An...   \n",
       "\n",
       "                                     rtable_venue  \n",
       "0                           Very Large Data Bases  \n",
       "1                           Very Large Data Bases  \n",
       "2                           Very Large Data Bases  \n",
       "3     ACM Transactions on Database Systems (TODS)  \n",
       "4  International Conference on Management of Data  "
      ]
     },
     "execution_count": 18,
     "metadata": {},
     "output_type": "execute_result"
    },
    {
     "name": "stdout",
     "output_type": "stream",
     "text": [
      "time: 16.6 ms\n"
     ]
    }
   ],
   "source": [
    "dbg.head(5)"
   ]
  },
  {
   "cell_type": "code",
   "execution_count": 19,
   "metadata": {
    "collapsed": false
   },
   "outputs": [
    {
     "name": "stdout",
     "output_type": "stream",
     "text": [
      "time: 785 µs\n"
     ]
    }
   ],
   "source": [
    "# Revised blocking plan\n",
    "\n",
    "# A, B -- AttrEquivalnce blocker [year] --------------------|\n",
    "#                                                           |---> candidate set\n",
    "# A, B -- Overlap blocker [title]---------------------------|"
   ]
  },
  {
   "cell_type": "code",
   "execution_count": 20,
   "metadata": {
    "collapsed": false
   },
   "outputs": [
    {
     "name": "stdout",
     "output_type": "stream",
     "text": [
      "Number of unique values: 1970\n",
      "Number of missing values: 0\n",
      "time: 5.12 ms\n"
     ]
    }
   ],
   "source": [
    "profiler.profile_table(A, 'title')"
   ]
  },
  {
   "cell_type": "code",
   "execution_count": 21,
   "metadata": {
    "collapsed": false
   },
   "outputs": [
    {
     "name": "stdout",
     "output_type": "stream",
     "text": [
      "Number of unique values: 1978\n",
      "Number of missing values: 0\n",
      "time: 5.33 ms\n"
     ]
    }
   ],
   "source": [
    "profiler.profile_table(B, 'title')"
   ]
  },
  {
   "cell_type": "code",
   "execution_count": 22,
   "metadata": {
    "collapsed": false
   },
   "outputs": [
    {
     "name": "stdout",
     "output_type": "stream",
     "text": [
      "time: 616 ms\n"
     ]
    }
   ],
   "source": [
    "ob = em.OverlapBlocker()\n",
    "C2 = ob.block_tables(A, B, 'authors', 'authors', show_progress=False, overlap_size=1)"
   ]
  },
  {
   "cell_type": "code",
   "execution_count": 23,
   "metadata": {
    "collapsed": false
   },
   "outputs": [
    {
     "name": "stdout",
     "output_type": "stream",
     "text": [
      "time: 833 ms\n"
     ]
    }
   ],
   "source": [
    "C = em.combine_blocker_outputs_via_union([C1, C2])"
   ]
  },
  {
   "cell_type": "code",
   "execution_count": 24,
   "metadata": {
    "collapsed": false
   },
   "outputs": [
    {
     "name": "stdout",
     "output_type": "stream",
     "text": [
      "time: 2.71 s\n"
     ]
    }
   ],
   "source": [
    "# debug blocker\n",
    "# check again with the updated blocking pipleline\n",
    "dbg = em.debug_blocker(C, A, B, output_size=50)"
   ]
  },
  {
   "cell_type": "code",
   "execution_count": 37,
   "metadata": {
    "collapsed": false
   },
   "outputs": [
    {
     "data": {
      "text/plain": [
       "True"
      ]
     },
     "execution_count": 37,
     "metadata": {},
     "output_type": "execute_result"
    },
    {
     "name": "stdout",
     "output_type": "stream",
     "text": [
      "time: 2.43 ms\n"
     ]
    }
   ],
   "source": [
    "em.set_ltable(dbg, A)\n",
    "em.set_rtable(dbg, B)"
   ]
  },
  {
   "cell_type": "code",
   "execution_count": 38,
   "metadata": {
    "collapsed": false
   },
   "outputs": [
    {
     "name": "stdout",
     "output_type": "stream",
     "text": [
      "time: 12.2 ms\n"
     ]
    }
   ],
   "source": [
    "d1 = em.add_output_attributes(dbg, l_output_attrs=['year'], r_output_attrs=['year'], delete_from_catalog=False)"
   ]
  },
  {
   "cell_type": "code",
   "execution_count": null,
   "metadata": {
    "collapsed": true
   },
   "outputs": [],
   "source": []
  },
  {
   "cell_type": "code",
   "execution_count": 39,
   "metadata": {
    "collapsed": false
   },
   "outputs": [
    {
     "data": {
      "text/html": [
       "<div>\n",
       "<table border=\"1\" class=\"dataframe\">\n",
       "  <thead>\n",
       "    <tr style=\"text-align: right;\">\n",
       "      <th></th>\n",
       "      <th>_id</th>\n",
       "      <th>similarity</th>\n",
       "      <th>ltable_id</th>\n",
       "      <th>rtable_id</th>\n",
       "      <th>ltable_title</th>\n",
       "      <th>ltable_authors</th>\n",
       "      <th>ltable_venue</th>\n",
       "      <th>rtable_title</th>\n",
       "      <th>rtable_authors</th>\n",
       "      <th>rtable_venue</th>\n",
       "      <th>ltable_year</th>\n",
       "      <th>rtable_year</th>\n",
       "    </tr>\n",
       "  </thead>\n",
       "  <tbody>\n",
       "    <tr>\n",
       "      <th>0</th>\n",
       "      <td>0</td>\n",
       "      <td>0.384615</td>\n",
       "      <td>journals/sigmod/Suciu01</td>\n",
       "      <td>344853</td>\n",
       "      <td>On Database Theory and XML</td>\n",
       "      <td>Dan Suciu</td>\n",
       "      <td>SIGMOD Record</td>\n",
       "      <td>On views and XML</td>\n",
       "      <td>Serge Abiteboul</td>\n",
       "      <td>ACM SIGMOD Record</td>\n",
       "      <td>2001</td>\n",
       "      <td>1999</td>\n",
       "    </tr>\n",
       "    <tr>\n",
       "      <th>1</th>\n",
       "      <td>1</td>\n",
       "      <td>0.363636</td>\n",
       "      <td>journals/sigmod/Ritter98</td>\n",
       "      <td>219777</td>\n",
       "      <td>The Middleware Muddle</td>\n",
       "      <td>David Ritter</td>\n",
       "      <td>SIGMOD Record</td>\n",
       "      <td>The new middleware</td>\n",
       "      <td>Rich Finkelstein</td>\n",
       "      <td>ACM SIGMOD Record</td>\n",
       "      <td>1998</td>\n",
       "      <td>1995</td>\n",
       "    </tr>\n",
       "    <tr>\n",
       "      <th>2</th>\n",
       "      <td>2</td>\n",
       "      <td>0.363636</td>\n",
       "      <td>journals/sigmod/Finkelstein95</td>\n",
       "      <td>306141</td>\n",
       "      <td>The New Middleware</td>\n",
       "      <td>Rich Finkelstein</td>\n",
       "      <td>SIGMOD Record</td>\n",
       "      <td>The middleware muddle</td>\n",
       "      <td>David Ritter</td>\n",
       "      <td>ACM SIGMOD Record</td>\n",
       "      <td>1995</td>\n",
       "      <td>1998</td>\n",
       "    </tr>\n",
       "    <tr>\n",
       "      <th>3</th>\n",
       "      <td>3</td>\n",
       "      <td>0.352941</td>\n",
       "      <td>journals/sigmod/Yang94</td>\n",
       "      <td>640993</td>\n",
       "      <td>A Hypertext Query Language for Images</td>\n",
       "      <td>Li Yang</td>\n",
       "      <td>SIGMOD Record</td>\n",
       "      <td>A graphical query language for mobile information systems</td>\n",
       "      <td>Ya-Hui Chang</td>\n",
       "      <td>ACM SIGMOD Record</td>\n",
       "      <td>1994</td>\n",
       "      <td>2003</td>\n",
       "    </tr>\n",
       "    <tr>\n",
       "      <th>4</th>\n",
       "      <td>4</td>\n",
       "      <td>0.352941</td>\n",
       "      <td>journals/sigmod/Chang03</td>\n",
       "      <td>181554</td>\n",
       "      <td>A Graphical Query Language for Mobile Information Systems</td>\n",
       "      <td>Ya-Hui Chang</td>\n",
       "      <td>SIGMOD Record</td>\n",
       "      <td>A hypertext query language for images</td>\n",
       "      <td>Li Yang</td>\n",
       "      <td>ACM SIGMOD Record</td>\n",
       "      <td>2003</td>\n",
       "      <td>1994</td>\n",
       "    </tr>\n",
       "  </tbody>\n",
       "</table>\n",
       "</div>"
      ],
      "text/plain": [
       "   _id  similarity                      ltable_id  rtable_id  \\\n",
       "0    0    0.384615        journals/sigmod/Suciu01     344853   \n",
       "1    1    0.363636       journals/sigmod/Ritter98     219777   \n",
       "2    2    0.363636  journals/sigmod/Finkelstein95     306141   \n",
       "3    3    0.352941         journals/sigmod/Yang94     640993   \n",
       "4    4    0.352941        journals/sigmod/Chang03     181554   \n",
       "\n",
       "                                                ltable_title  \\\n",
       "0                                 On Database Theory and XML   \n",
       "1                                      The Middleware Muddle   \n",
       "2                                         The New Middleware   \n",
       "3                      A Hypertext Query Language for Images   \n",
       "4  A Graphical Query Language for Mobile Information Systems   \n",
       "\n",
       "     ltable_authors   ltable_venue  \\\n",
       "0         Dan Suciu  SIGMOD Record   \n",
       "1      David Ritter  SIGMOD Record   \n",
       "2  Rich Finkelstein  SIGMOD Record   \n",
       "3           Li Yang  SIGMOD Record   \n",
       "4      Ya-Hui Chang  SIGMOD Record   \n",
       "\n",
       "                                                rtable_title  \\\n",
       "0                                           On views and XML   \n",
       "1                                         The new middleware   \n",
       "2                                      The middleware muddle   \n",
       "3  A graphical query language for mobile information systems   \n",
       "4                      A hypertext query language for images   \n",
       "\n",
       "     rtable_authors       rtable_venue  ltable_year  rtable_year  \n",
       "0   Serge Abiteboul  ACM SIGMOD Record         2001         1999  \n",
       "1  Rich Finkelstein  ACM SIGMOD Record         1998         1995  \n",
       "2      David Ritter  ACM SIGMOD Record         1995         1998  \n",
       "3      Ya-Hui Chang  ACM SIGMOD Record         1994         2003  \n",
       "4           Li Yang  ACM SIGMOD Record         2003         1994  "
      ]
     },
     "execution_count": 39,
     "metadata": {},
     "output_type": "execute_result"
    },
    {
     "name": "stdout",
     "output_type": "stream",
     "text": [
      "time: 15.9 ms\n"
     ]
    }
   ],
   "source": [
    "d1.head(5)"
   ]
  },
  {
   "cell_type": "code",
   "execution_count": 26,
   "metadata": {
    "collapsed": false
   },
   "outputs": [
    {
     "name": "stdout",
     "output_type": "stream",
     "text": [
      "time: 8.66 ms\n"
     ]
    }
   ],
   "source": [
    "s = em.read_csv_metadata('./ORIG_DBLP_ACM/dblp_acm_demo_labels_clean.csv', ltable=A, rtable=B)"
   ]
  }
 ],
 "metadata": {
  "anaconda-cloud": {},
  "kernelspec": {
   "display_name": "Python [Root]",
   "language": "python",
   "name": "Python [Root]"
  },
  "language_info": {
   "codemirror_mode": {
    "name": "ipython",
    "version": 3
   },
   "file_extension": ".py",
   "mimetype": "text/x-python",
   "name": "python",
   "nbconvert_exporter": "python",
   "pygments_lexer": "ipython3",
   "version": "3.5.2"
  }
 },
 "nbformat": 4,
 "nbformat_minor": 0
}
