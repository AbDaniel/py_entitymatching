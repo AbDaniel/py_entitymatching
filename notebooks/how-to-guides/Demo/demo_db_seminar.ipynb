{
 "cells": [
  {
   "cell_type": "code",
   "execution_count": 1,
   "metadata": {
    "collapsed": false
   },
   "outputs": [],
   "source": [
    "%load_ext autotime"
   ]
  },
  {
   "cell_type": "code",
   "execution_count": 2,
   "metadata": {
    "collapsed": false
   },
   "outputs": [
    {
     "name": "stdout",
     "output_type": "stream",
     "text": [
      "time: 1.06 ms\n"
     ]
    }
   ],
   "source": [
    "import sys\n",
    "sys.path.append('/Users/pradap/Documents/Research/Python-Package/enrique/')"
   ]
  },
  {
   "cell_type": "code",
   "execution_count": 3,
   "metadata": {
    "collapsed": false
   },
   "outputs": [
    {
     "name": "stderr",
     "output_type": "stream",
     "text": [
      "DEBUG:Cloud:Log file (/Users/pradap/.picloud/cloud.log) opened\n"
     ]
    },
    {
     "name": "stdout",
     "output_type": "stream",
     "text": [
      "time: 5.97 s\n"
     ]
    }
   ],
   "source": [
    "import magellan as mg"
   ]
  },
  {
   "cell_type": "code",
   "execution_count": 4,
   "metadata": {
    "collapsed": false
   },
   "outputs": [
    {
     "data": {
      "text/plain": [
       "True"
      ]
     },
     "execution_count": 4,
     "metadata": {},
     "output_type": "execute_result"
    },
    {
     "name": "stdout",
     "output_type": "stream",
     "text": [
      "time: 432 ms\n"
     ]
    }
   ],
   "source": [
    "mg.init_jvm() # initialize JVM for similarity functions to run."
   ]
  },
  {
   "cell_type": "markdown",
   "metadata": {
    "collapsed": false
   },
   "source": [
    "## Workflow\n",
    "\n",
    "### 1. Read input tables\n",
    "### 2. Block tables to get candidate set  \n",
    "### 3. Match tuple pairs in the candidate set"
   ]
  },
  {
   "cell_type": "markdown",
   "metadata": {},
   "source": [
    "### Read input tables"
   ]
  },
  {
   "cell_type": "code",
   "execution_count": 5,
   "metadata": {
    "collapsed": false
   },
   "outputs": [
    {
     "name": "stdout",
     "output_type": "stream",
     "text": [
      "time: 22.1 ms\n"
     ]
    }
   ],
   "source": [
    "# Read tables\n",
    "A = mg.read_csv('DBLP_demo.csv', key='id')\n",
    "B = mg.read_csv('ACM_demo.csv', key='id')"
   ]
  },
  {
   "cell_type": "code",
   "execution_count": 6,
   "metadata": {
    "collapsed": false
   },
   "outputs": [
    {
     "data": {
      "text/html": [
       "<div>\n",
       "<table border=\"1\" class=\"dataframe\">\n",
       "  <thead>\n",
       "    <tr style=\"text-align: right;\">\n",
       "      <th></th>\n",
       "      <th>id</th>\n",
       "      <th>title</th>\n",
       "      <th>authors</th>\n",
       "      <th>venue</th>\n",
       "      <th>year</th>\n",
       "    </tr>\n",
       "  </thead>\n",
       "  <tbody>\n",
       "    <tr>\n",
       "      <th>0</th>\n",
       "      <td>conf/sigmod/AbadiCCCCEGHMRSSTXYZ03</td>\n",
       "      <td>Aurora: A Data Stream Management System</td>\n",
       "      <td>Nesime Tatbul, Daniel J. Abadi, C. Erwin, Anur...</td>\n",
       "      <td>SIGMOD Conference</td>\n",
       "      <td>2003</td>\n",
       "    </tr>\n",
       "    <tr>\n",
       "      <th>1</th>\n",
       "      <td>conf/sigmod/AcharyaAFZ95</td>\n",
       "      <td>Broadcast Disks: Data Management for Asymmetri...</td>\n",
       "      <td>Michael J. Franklin, Stanley B. Zdonik, Swarup...</td>\n",
       "      <td>SIGMOD Conference</td>\n",
       "      <td>1995</td>\n",
       "    </tr>\n",
       "  </tbody>\n",
       "</table>\n",
       "</div>"
      ],
      "text/plain": [
       "                                   id  \\\n",
       "0  conf/sigmod/AbadiCCCCEGHMRSSTXYZ03   \n",
       "1            conf/sigmod/AcharyaAFZ95   \n",
       "\n",
       "                                               title  \\\n",
       "0            Aurora: A Data Stream Management System   \n",
       "1  Broadcast Disks: Data Management for Asymmetri...   \n",
       "\n",
       "                                             authors              venue  year  \n",
       "0  Nesime Tatbul, Daniel J. Abadi, C. Erwin, Anur...  SIGMOD Conference  2003  \n",
       "1  Michael J. Franklin, Stanley B. Zdonik, Swarup...  SIGMOD Conference  1995  "
      ]
     },
     "execution_count": 6,
     "metadata": {},
     "output_type": "execute_result"
    },
    {
     "name": "stdout",
     "output_type": "stream",
     "text": [
      "time: 37.6 ms\n"
     ]
    }
   ],
   "source": [
    "A.head(2)"
   ]
  },
  {
   "cell_type": "code",
   "execution_count": 7,
   "metadata": {
    "collapsed": false
   },
   "outputs": [
    {
     "data": {
      "text/html": [
       "<div>\n",
       "<table border=\"1\" class=\"dataframe\">\n",
       "  <thead>\n",
       "    <tr style=\"text-align: right;\">\n",
       "      <th></th>\n",
       "      <th>id</th>\n",
       "      <th>title</th>\n",
       "      <th>authors</th>\n",
       "      <th>venue</th>\n",
       "      <th>year</th>\n",
       "    </tr>\n",
       "  </thead>\n",
       "  <tbody>\n",
       "    <tr>\n",
       "      <th>0</th>\n",
       "      <td>335476</td>\n",
       "      <td>Of XML and databases (panel session): where's ...</td>\n",
       "      <td>Jennifer Widom, Adam Bosworth, Bruce Lindsay, ...</td>\n",
       "      <td>International Conference on Management of Data</td>\n",
       "      <td>2000</td>\n",
       "    </tr>\n",
       "    <tr>\n",
       "      <th>1</th>\n",
       "      <td>672966</td>\n",
       "      <td>An Empirical Performance Study of the Ingres S...</td>\n",
       "      <td>Sarabjot S. Anand, David A. Bell, John G. Hughes</td>\n",
       "      <td>Very Large Data Bases</td>\n",
       "      <td>1994</td>\n",
       "    </tr>\n",
       "  </tbody>\n",
       "</table>\n",
       "</div>"
      ],
      "text/plain": [
       "       id                                              title  \\\n",
       "0  335476  Of XML and databases (panel session): where's ...   \n",
       "1  672966  An Empirical Performance Study of the Ingres S...   \n",
       "\n",
       "                                             authors  \\\n",
       "0  Jennifer Widom, Adam Bosworth, Bruce Lindsay, ...   \n",
       "1   Sarabjot S. Anand, David A. Bell, John G. Hughes   \n",
       "\n",
       "                                            venue  year  \n",
       "0  International Conference on Management of Data  2000  \n",
       "1                           Very Large Data Bases  1994  "
      ]
     },
     "execution_count": 7,
     "metadata": {},
     "output_type": "execute_result"
    },
    {
     "name": "stdout",
     "output_type": "stream",
     "text": [
      "time: 17.1 ms\n"
     ]
    }
   ],
   "source": [
    "B.head(2)"
   ]
  },
  {
   "cell_type": "markdown",
   "metadata": {
    "collapsed": false
   },
   "source": [
    "### Block tables to get candidate set\n"
   ]
  },
  {
   "cell_type": "code",
   "execution_count": 8,
   "metadata": {
    "collapsed": false
   },
   "outputs": [
    {
     "name": "stdout",
     "output_type": "stream",
     "text": [
      "time: 1.28 ms\n"
     ]
    }
   ],
   "source": [
    "### Plan\n",
    "\n",
    "### A, B -- AttrEquivalnce blocker [year]--------------------------| Candidate set"
   ]
  },
  {
   "cell_type": "code",
   "execution_count": 9,
   "metadata": {
    "collapsed": false
   },
   "outputs": [
    {
     "name": "stdout",
     "output_type": "stream",
     "text": [
      "time: 86.4 ms\n"
     ]
    }
   ],
   "source": [
    "# Create attribute equivalence blocker\n",
    "ab = mg.AttrEquivalenceBlocker()\n",
    "# Block tables using 'year' attribute : same year include in candidate set\n",
    "C = ab.block_tables(A, B, 'year', 'year', \n",
    "                     l_output_attrs=['title', 'authors', 'year'],\n",
    "                     r_output_attrs=['title', 'authors', 'year']\n",
    "                    )"
   ]
  },
  {
   "cell_type": "code",
   "execution_count": 10,
   "metadata": {
    "collapsed": false
   },
   "outputs": [
    {
     "data": {
      "text/plain": [
       "14868"
      ]
     },
     "execution_count": 10,
     "metadata": {},
     "output_type": "execute_result"
    },
    {
     "name": "stdout",
     "output_type": "stream",
     "text": [
      "time: 2.06 ms\n"
     ]
    }
   ],
   "source": [
    "len(C)"
   ]
  },
  {
   "cell_type": "code",
   "execution_count": 11,
   "metadata": {
    "collapsed": false
   },
   "outputs": [
    {
     "data": {
      "text/html": [
       "<div>\n",
       "<table border=\"1\" class=\"dataframe\">\n",
       "  <thead>\n",
       "    <tr style=\"text-align: right;\">\n",
       "      <th></th>\n",
       "      <th>_id</th>\n",
       "      <th>ltable.id</th>\n",
       "      <th>rtable.id</th>\n",
       "      <th>ltable.title</th>\n",
       "      <th>ltable.authors</th>\n",
       "      <th>ltable.year</th>\n",
       "      <th>rtable.title</th>\n",
       "      <th>rtable.authors</th>\n",
       "      <th>rtable.year</th>\n",
       "    </tr>\n",
       "  </thead>\n",
       "  <tbody>\n",
       "    <tr>\n",
       "      <th>0</th>\n",
       "      <td>0</td>\n",
       "      <td>conf/sigmod/AbadiCCCCEGHMRSSTXYZ03</td>\n",
       "      <td>872851</td>\n",
       "      <td>Aurora: A Data Stream Management System</td>\n",
       "      <td>Nesime Tatbul, Daniel J. Abadi, C. Erwin, Anur...</td>\n",
       "      <td>2003</td>\n",
       "      <td>QXtract: a building block for efficient inform...</td>\n",
       "      <td>Eugene Agichtein, Luis Gravano</td>\n",
       "      <td>2003</td>\n",
       "    </tr>\n",
       "    <tr>\n",
       "      <th>1</th>\n",
       "      <td>1</td>\n",
       "      <td>conf/sigmod/AbadiCCCCEGHMRSSTXYZ03</td>\n",
       "      <td>872807</td>\n",
       "      <td>Aurora: A Data Stream Management System</td>\n",
       "      <td>Nesime Tatbul, Daniel J. Abadi, C. Erwin, Anur...</td>\n",
       "      <td>2003</td>\n",
       "      <td>Formal semantics and analysis of object queries</td>\n",
       "      <td>G. M. Bierman</td>\n",
       "      <td>2003</td>\n",
       "    </tr>\n",
       "  </tbody>\n",
       "</table>\n",
       "</div>"
      ],
      "text/plain": [
       "   _id                           ltable.id  rtable.id  \\\n",
       "0    0  conf/sigmod/AbadiCCCCEGHMRSSTXYZ03     872851   \n",
       "1    1  conf/sigmod/AbadiCCCCEGHMRSSTXYZ03     872807   \n",
       "\n",
       "                              ltable.title  \\\n",
       "0  Aurora: A Data Stream Management System   \n",
       "1  Aurora: A Data Stream Management System   \n",
       "\n",
       "                                      ltable.authors  ltable.year  \\\n",
       "0  Nesime Tatbul, Daniel J. Abadi, C. Erwin, Anur...         2003   \n",
       "1  Nesime Tatbul, Daniel J. Abadi, C. Erwin, Anur...         2003   \n",
       "\n",
       "                                        rtable.title  \\\n",
       "0  QXtract: a building block for efficient inform...   \n",
       "1    Formal semantics and analysis of object queries   \n",
       "\n",
       "                   rtable.authors  rtable.year  \n",
       "0  Eugene Agichtein, Luis Gravano         2003  \n",
       "1                   G. M. Bierman         2003  "
      ]
     },
     "execution_count": 11,
     "metadata": {},
     "output_type": "execute_result"
    },
    {
     "name": "stdout",
     "output_type": "stream",
     "text": [
      "time: 14.5 ms\n"
     ]
    }
   ],
   "source": [
    "C.head(2)"
   ]
  },
  {
   "cell_type": "markdown",
   "metadata": {},
   "source": [
    "### Debug blocking output"
   ]
  },
  {
   "cell_type": "code",
   "execution_count": 12,
   "metadata": {
    "collapsed": false
   },
   "outputs": [
    {
     "name": "stderr",
     "output_type": "stream",
     "text": [
      "0%                          100%\n",
      "[##############################] | ETA[sec]: 0.000 "
     ]
    },
    {
     "name": "stdout",
     "output_type": "stream",
     "text": [
      "time: 4.53 s\n"
     ]
    },
    {
     "name": "stderr",
     "output_type": "stream",
     "text": [
      "\n",
      "Total time elapsed: 3.993 sec\n"
     ]
    }
   ],
   "source": [
    "# Debug blocking output\n",
    "\n",
    "# check whether the current blocking method has dropped a lot of potential matches\n",
    "dbg = mg.debug_blocker(A, B, C, output_size=50)"
   ]
  },
  {
   "cell_type": "code",
   "execution_count": 13,
   "metadata": {
    "collapsed": false
   },
   "outputs": [
    {
     "name": "stdout",
     "output_type": "stream",
     "text": [
      "time: 3.86 s\n"
     ]
    }
   ],
   "source": [
    "# view the result from debug blocker\n",
    "mg.view(dbg)"
   ]
  },
  {
   "cell_type": "code",
   "execution_count": 14,
   "metadata": {
    "collapsed": false
   },
   "outputs": [
    {
     "name": "stdout",
     "output_type": "stream",
     "text": [
      "time: 1.23 ms\n"
     ]
    }
   ],
   "source": [
    "# Revised blocking plan\n",
    "\n",
    "# A, B -- AttrEquivalnce blocker [year] --------------------|\n",
    "#                                                           |---> candidate set\n",
    "# A, B -- Overlap blocker [title]---------------------------|"
   ]
  },
  {
   "cell_type": "code",
   "execution_count": 15,
   "metadata": {
    "collapsed": false
   },
   "outputs": [
    {
     "name": "stderr",
     "output_type": "stream",
     "text": [
      "0%                          100%\n",
      "[##############################] | ETA[sec]: 0.000 "
     ]
    },
    {
     "name": "stdout",
     "output_type": "stream",
     "text": [
      "time: 1.7 s\n"
     ]
    },
    {
     "name": "stderr",
     "output_type": "stream",
     "text": [
      "\n",
      "Total time elapsed: 1.234 sec\n"
     ]
    }
   ],
   "source": [
    "# Create overlap blocker\n",
    "ob = mg.OverlapBlocker()\n",
    "\n",
    "# Block tables using 'title' attribute\n",
    "D = ob.block_tables(A, B, 'title', 'title', rem_stop_words=False, \n",
    "                    word_level=True, overlap_size=1)"
   ]
  },
  {
   "cell_type": "code",
   "execution_count": 16,
   "metadata": {
    "collapsed": false
   },
   "outputs": [
    {
     "name": "stdout",
     "output_type": "stream",
     "text": [
      "time: 278 ms\n"
     ]
    }
   ],
   "source": [
    "# Combine the candidate sets from attribute equivalence and overlap blocker\n",
    "E = mg.combine_block_outputs_via_union([C, D])"
   ]
  },
  {
   "cell_type": "code",
   "execution_count": 17,
   "metadata": {
    "collapsed": false
   },
   "outputs": [
    {
     "data": {
      "text/plain": [
       "64862"
      ]
     },
     "execution_count": 17,
     "metadata": {},
     "output_type": "execute_result"
    },
    {
     "name": "stdout",
     "output_type": "stream",
     "text": [
      "time: 2.12 ms\n"
     ]
    }
   ],
   "source": [
    "# Check the length\n",
    "len(E)"
   ]
  },
  {
   "cell_type": "code",
   "execution_count": 18,
   "metadata": {
    "collapsed": false
   },
   "outputs": [
    {
     "name": "stderr",
     "output_type": "stream",
     "text": [
      "0%                          100%\n",
      "[##############################] | ETA[sec]: 0.000 "
     ]
    },
    {
     "name": "stdout",
     "output_type": "stream",
     "text": [
      "time: 3.45 s\n"
     ]
    },
    {
     "name": "stderr",
     "output_type": "stream",
     "text": [
      "\n",
      "Total time elapsed: 2.989 sec\n"
     ]
    }
   ],
   "source": [
    "# debug blocker\n",
    "# check again with the updated blocking pipleline\n",
    "dbg = mg.debug_blocker(A, B, E, output_size=50)"
   ]
  },
  {
   "cell_type": "code",
   "execution_count": 19,
   "metadata": {
    "collapsed": false
   },
   "outputs": [
    {
     "name": "stdout",
     "output_type": "stream",
     "text": [
      "time: 2.09 s\n"
     ]
    }
   ],
   "source": [
    "mg.view(dbg)"
   ]
  },
  {
   "cell_type": "markdown",
   "metadata": {},
   "source": [
    "### Match tuple pairs in candidate set"
   ]
  },
  {
   "cell_type": "markdown",
   "metadata": {
    "collapsed": false
   },
   "source": [
    "\n",
    "#### 1. Sample candidate set  --> S\n",
    "#### 2. Label S --> L  \n",
    "#### 3. Split L into development set  and evaluation set \n",
    "#### 4. Select best learning-based matcher M, using development set\n",
    "#### 5. Evaluate M using evaluation set"
   ]
  },
  {
   "cell_type": "code",
   "execution_count": 20,
   "metadata": {
    "collapsed": false
   },
   "outputs": [
    {
     "name": "stdout",
     "output_type": "stream",
     "text": [
      "time: 7.36 ms\n"
     ]
    }
   ],
   "source": [
    "# Sample  candidate set\n",
    "S = mg.sample_table(C, 450)"
   ]
  },
  {
   "cell_type": "code",
   "execution_count": 21,
   "metadata": {
    "collapsed": false
   },
   "outputs": [
    {
     "name": "stdout",
     "output_type": "stream",
     "text": [
      "time: 1.75 s\n"
     ]
    }
   ],
   "source": [
    "# Label S\n",
    "L = mg.label_table(S, 'gold')"
   ]
  },
  {
   "cell_type": "code",
   "execution_count": 22,
   "metadata": {
    "collapsed": false
   },
   "outputs": [
    {
     "data": {
      "text/plain": [
       "415"
      ]
     },
     "execution_count": 22,
     "metadata": {},
     "output_type": "execute_result"
    },
    {
     "name": "stdout",
     "output_type": "stream",
     "text": [
      "time: 8.1 ms\n"
     ]
    }
   ],
   "source": [
    "# For the demo, use pre-labeled data\n",
    "L = mg.read_csv('dblp_acm_demo_labels.csv', ltable=A, rtable=B)\n",
    "len(L)"
   ]
  },
  {
   "cell_type": "code",
   "execution_count": 23,
   "metadata": {
    "collapsed": false
   },
   "outputs": [
    {
     "name": "stdout",
     "output_type": "stream",
     "text": [
      "time: 4.36 ms\n"
     ]
    }
   ],
   "source": [
    "# Split G into development  and evaluation\n",
    "development_evaluation = mg.train_test_split(L, train_proportion=0.7)\n",
    "development = development_evaluation['train']\n",
    "evaluation = development_evaluation['test']"
   ]
  },
  {
   "cell_type": "markdown",
   "metadata": {
    "collapsed": false
   },
   "source": [
    "### Selecting the best learning-based matcher using development set\n",
    "\n",
    "\n",
    "#### 1. Create a set of ML-matchers\n",
    "#### 2. Generate features --> feature_table\n",
    "#### 3. Extract feature vectors using development set  and feature_table\n",
    "#### 4. Select best learning-based matcher using k-fold cross validation\n",
    "#### 5. Debug the selected matcher (and repeat the above steps)"
   ]
  },
  {
   "cell_type": "code",
   "execution_count": 24,
   "metadata": {
    "collapsed": false
   },
   "outputs": [
    {
     "name": "stdout",
     "output_type": "stream",
     "text": [
      "time: 2.91 ms\n"
     ]
    }
   ],
   "source": [
    "# Create a set of ML-matchers\n",
    "dt = mg.DTMatcher(name='DecisionTree', random_state=0)\n",
    "svm = mg.SVMMatcher()\n",
    "rf = mg.RFMatcher(name='RF', random_state=1)\n",
    "nb = mg.NBMatcher(name='NB')\n",
    "lg = mg.LogRegMatcher(name='LogReg')\n",
    "ln = mg.LinRegMatcher(name='LinReg')"
   ]
  },
  {
   "cell_type": "code",
   "execution_count": 25,
   "metadata": {
    "collapsed": false
   },
   "outputs": [
    {
     "name": "stderr",
     "output_type": "stream",
     "text": [
      "WARNING:magellan.feature.autofeaturegen:Magellan types: id type (str_eq_1w) and id type (numeric) are different.If you want to set them to be same and generate features, update output from get_attr_types and use get_features command.\n",
      "\n",
      "WARNING:magellan.feature.autofeaturegen:Magellan types: venue type (str_bt_1w_5w) and venue type (str_bt_5w_10w) are different.If you want to set them to be same and generate features, update output from get_attr_types and use get_features command.\n",
      "\n"
     ]
    },
    {
     "name": "stdout",
     "output_type": "stream",
     "text": [
      "time: 35.5 ms\n"
     ]
    }
   ],
   "source": [
    "# Generate features\n",
    "feature_table = mg.get_features_for_matching(A, B)"
   ]
  },
  {
   "cell_type": "code",
   "execution_count": 26,
   "metadata": {
    "collapsed": false
   },
   "outputs": [
    {
     "data": {
      "text/plain": [
       "0             title_title_jac_qgm_3_qgm_3\n",
       "1         title_title_cos_dlm_dc0_dlm_dc0\n",
       "2                         title_title_mel\n",
       "3                         title_title_lev\n",
       "4         authors_authors_jac_qgm_3_qgm_3\n",
       "5     authors_authors_cos_dlm_dc0_dlm_dc0\n",
       "6                     authors_authors_mel\n",
       "7                     authors_authors_lev\n",
       "8                           year_year_exm\n",
       "9                           year_year_anm\n",
       "10                          year_year_lev\n",
       "Name: feature_name, dtype: object"
      ]
     },
     "execution_count": 26,
     "metadata": {},
     "output_type": "execute_result"
    },
    {
     "name": "stdout",
     "output_type": "stream",
     "text": [
      "time: 7.82 ms\n"
     ]
    }
   ],
   "source": [
    "feature_table['feature_name']"
   ]
  },
  {
   "cell_type": "code",
   "execution_count": 27,
   "metadata": {
    "collapsed": false
   },
   "outputs": [
    {
     "name": "stdout",
     "output_type": "stream",
     "text": [
      "time: 3.5 ms\n"
     ]
    }
   ],
   "source": [
    "# Select authors + year related features\n",
    "feature_subset_iter1 = feature_table[6:11]"
   ]
  },
  {
   "cell_type": "code",
   "execution_count": 28,
   "metadata": {
    "collapsed": false
   },
   "outputs": [
    {
     "name": "stdout",
     "output_type": "stream",
     "text": [
      "time: 516 ms\n"
     ]
    }
   ],
   "source": [
    "# Get feature vectors\n",
    "feature_vectors = mg.extract_feature_vecs(development, \n",
    "                            feature_table=feature_subset_iter1, \n",
    "                            attrs_after='gold')"
   ]
  },
  {
   "cell_type": "code",
   "execution_count": 29,
   "metadata": {
    "collapsed": false
   },
   "outputs": [
    {
     "name": "stdout",
     "output_type": "stream",
     "text": [
      "time: 2.19 ms\n"
     ]
    }
   ],
   "source": [
    "# impute feature_vectors\n",
    "feature_vectors.fillna(0, inplace=True)"
   ]
  },
  {
   "cell_type": "code",
   "execution_count": 30,
   "metadata": {
    "collapsed": false
   },
   "outputs": [
    {
     "data": {
      "text/html": [
       "<div>\n",
       "<table border=\"1\" class=\"dataframe\">\n",
       "  <thead>\n",
       "    <tr style=\"text-align: right;\">\n",
       "      <th></th>\n",
       "      <th>_id</th>\n",
       "      <th>ltable.id</th>\n",
       "      <th>rtable.id</th>\n",
       "      <th>authors_authors_mel</th>\n",
       "      <th>authors_authors_lev</th>\n",
       "      <th>year_year_exm</th>\n",
       "      <th>year_year_anm</th>\n",
       "      <th>year_year_lev</th>\n",
       "      <th>gold</th>\n",
       "    </tr>\n",
       "  </thead>\n",
       "  <tbody>\n",
       "    <tr>\n",
       "      <th>0</th>\n",
       "      <td>0</td>\n",
       "      <td>conf/sigmod/ChanI99</td>\n",
       "      <td>950484</td>\n",
       "      <td>0.485714</td>\n",
       "      <td>0.408163</td>\n",
       "      <td>0</td>\n",
       "      <td>0.998003</td>\n",
       "      <td>0.000000</td>\n",
       "      <td>0</td>\n",
       "    </tr>\n",
       "    <tr>\n",
       "      <th>1</th>\n",
       "      <td>1</td>\n",
       "      <td>journals/sigmod/FowlerPNB99</td>\n",
       "      <td>304209</td>\n",
       "      <td>0.088136</td>\n",
       "      <td>0.226667</td>\n",
       "      <td>1</td>\n",
       "      <td>1.000000</td>\n",
       "      <td>0.666667</td>\n",
       "      <td>0</td>\n",
       "    </tr>\n",
       "    <tr>\n",
       "      <th>2</th>\n",
       "      <td>2</td>\n",
       "      <td>journals/sigmod/VetterliVS00</td>\n",
       "      <td>362138</td>\n",
       "      <td>0.506977</td>\n",
       "      <td>0.441860</td>\n",
       "      <td>1</td>\n",
       "      <td>1.000000</td>\n",
       "      <td>0.666667</td>\n",
       "      <td>1</td>\n",
       "    </tr>\n",
       "  </tbody>\n",
       "</table>\n",
       "</div>"
      ],
      "text/plain": [
       "   _id                     ltable.id  rtable.id  authors_authors_mel  \\\n",
       "0    0           conf/sigmod/ChanI99     950484             0.485714   \n",
       "1    1   journals/sigmod/FowlerPNB99     304209             0.088136   \n",
       "2    2  journals/sigmod/VetterliVS00     362138             0.506977   \n",
       "\n",
       "   authors_authors_lev  year_year_exm  year_year_anm  year_year_lev  gold  \n",
       "0             0.408163              0       0.998003       0.000000     0  \n",
       "1             0.226667              1       1.000000       0.666667     0  \n",
       "2             0.441860              1       1.000000       0.666667     1  "
      ]
     },
     "execution_count": 30,
     "metadata": {},
     "output_type": "execute_result"
    },
    {
     "name": "stdout",
     "output_type": "stream",
     "text": [
      "time: 10.7 ms\n"
     ]
    }
   ],
   "source": [
    "feature_vectors.head(3)"
   ]
  },
  {
   "cell_type": "code",
   "execution_count": 31,
   "metadata": {
    "collapsed": false
   },
   "outputs": [
    {
     "name": "stdout",
     "output_type": "stream",
     "text": [
      "time: 138 ms\n"
     ]
    }
   ],
   "source": [
    "# select the best ML matcher using CV\n",
    "result = mg.select_matcher([dt, rf, svm, nb, lg, ln], table=feature_vectors, \n",
    "        exclude_attrs=['_id', 'ltable.id', 'rtable.id', 'gold'],\n",
    "        target_attr='gold', metric='f1', random_state=2) "
   ]
  },
  {
   "cell_type": "code",
   "execution_count": 32,
   "metadata": {
    "collapsed": false
   },
   "outputs": [
    {
     "data": {
      "text/html": [
       "<div>\n",
       "<table border=\"1\" class=\"dataframe\">\n",
       "  <thead>\n",
       "    <tr style=\"text-align: right;\">\n",
       "      <th></th>\n",
       "      <th>Name</th>\n",
       "      <th>Matcher</th>\n",
       "      <th>Num folds</th>\n",
       "      <th>Fold 1</th>\n",
       "      <th>Fold 2</th>\n",
       "      <th>Fold 3</th>\n",
       "      <th>Fold 4</th>\n",
       "      <th>Fold 5</th>\n",
       "      <th>Mean score</th>\n",
       "    </tr>\n",
       "  </thead>\n",
       "  <tbody>\n",
       "    <tr>\n",
       "      <th>0</th>\n",
       "      <td>DecisionTree</td>\n",
       "      <td>&lt;magellan.matcher.dtmatcher.DTMatcher object a...</td>\n",
       "      <td>5</td>\n",
       "      <td>0.911765</td>\n",
       "      <td>0.944444</td>\n",
       "      <td>0.867925</td>\n",
       "      <td>0.950820</td>\n",
       "      <td>0.893617</td>\n",
       "      <td>0.913714</td>\n",
       "    </tr>\n",
       "    <tr>\n",
       "      <th>1</th>\n",
       "      <td>RF</td>\n",
       "      <td>&lt;magellan.matcher.rfmatcher.RFMatcher object a...</td>\n",
       "      <td>5</td>\n",
       "      <td>0.927536</td>\n",
       "      <td>0.972222</td>\n",
       "      <td>0.947368</td>\n",
       "      <td>0.966667</td>\n",
       "      <td>0.897959</td>\n",
       "      <td>0.942351</td>\n",
       "    </tr>\n",
       "    <tr>\n",
       "      <th>2</th>\n",
       "      <td>SVM_00006733582082927641</td>\n",
       "      <td>&lt;magellan.matcher.svmmatcher.SVMMatcher object...</td>\n",
       "      <td>5</td>\n",
       "      <td>0.927536</td>\n",
       "      <td>0.972222</td>\n",
       "      <td>0.724638</td>\n",
       "      <td>0.952381</td>\n",
       "      <td>0.884615</td>\n",
       "      <td>0.892278</td>\n",
       "    </tr>\n",
       "    <tr>\n",
       "      <th>3</th>\n",
       "      <td>NB</td>\n",
       "      <td>&lt;magellan.matcher.nbmatcher.NBMatcher object a...</td>\n",
       "      <td>5</td>\n",
       "      <td>0.927536</td>\n",
       "      <td>0.972222</td>\n",
       "      <td>0.724638</td>\n",
       "      <td>0.952381</td>\n",
       "      <td>0.884615</td>\n",
       "      <td>0.892278</td>\n",
       "    </tr>\n",
       "    <tr>\n",
       "      <th>4</th>\n",
       "      <td>LogReg</td>\n",
       "      <td>&lt;magellan.matcher.logregmatcher.LogRegMatcher ...</td>\n",
       "      <td>5</td>\n",
       "      <td>0.942857</td>\n",
       "      <td>0.972222</td>\n",
       "      <td>0.888889</td>\n",
       "      <td>0.935484</td>\n",
       "      <td>0.884615</td>\n",
       "      <td>0.924814</td>\n",
       "    </tr>\n",
       "    <tr>\n",
       "      <th>5</th>\n",
       "      <td>LinReg</td>\n",
       "      <td>&lt;magellan.matcher.linregmatcher.LinRegMatcher ...</td>\n",
       "      <td>5</td>\n",
       "      <td>0.901408</td>\n",
       "      <td>0.972222</td>\n",
       "      <td>0.870968</td>\n",
       "      <td>0.952381</td>\n",
       "      <td>0.867925</td>\n",
       "      <td>0.912981</td>\n",
       "    </tr>\n",
       "  </tbody>\n",
       "</table>\n",
       "</div>"
      ],
      "text/plain": [
       "                       Name  \\\n",
       "0              DecisionTree   \n",
       "1                        RF   \n",
       "2  SVM_00006733582082927641   \n",
       "3                        NB   \n",
       "4                    LogReg   \n",
       "5                    LinReg   \n",
       "\n",
       "                                             Matcher  Num folds    Fold 1  \\\n",
       "0  <magellan.matcher.dtmatcher.DTMatcher object a...          5  0.911765   \n",
       "1  <magellan.matcher.rfmatcher.RFMatcher object a...          5  0.927536   \n",
       "2  <magellan.matcher.svmmatcher.SVMMatcher object...          5  0.927536   \n",
       "3  <magellan.matcher.nbmatcher.NBMatcher object a...          5  0.927536   \n",
       "4  <magellan.matcher.logregmatcher.LogRegMatcher ...          5  0.942857   \n",
       "5  <magellan.matcher.linregmatcher.LinRegMatcher ...          5  0.901408   \n",
       "\n",
       "     Fold 2    Fold 3    Fold 4    Fold 5  Mean score  \n",
       "0  0.944444  0.867925  0.950820  0.893617    0.913714  \n",
       "1  0.972222  0.947368  0.966667  0.897959    0.942351  \n",
       "2  0.972222  0.724638  0.952381  0.884615    0.892278  \n",
       "3  0.972222  0.724638  0.952381  0.884615    0.892278  \n",
       "4  0.972222  0.888889  0.935484  0.884615    0.924814  \n",
       "5  0.972222  0.870968  0.952381  0.867925    0.912981  "
      ]
     },
     "execution_count": 32,
     "metadata": {},
     "output_type": "execute_result"
    },
    {
     "name": "stdout",
     "output_type": "stream",
     "text": [
      "time: 17.4 ms\n"
     ]
    }
   ],
   "source": [
    "result['cv_stats']"
   ]
  },
  {
   "cell_type": "markdown",
   "metadata": {},
   "source": [
    "### Debug matcher\n",
    "#### 1. Split feature vectors into train and test\n",
    "#### 2. Debug matcher using train and test"
   ]
  },
  {
   "cell_type": "code",
   "execution_count": 33,
   "metadata": {
    "collapsed": false
   },
   "outputs": [
    {
     "name": "stdout",
     "output_type": "stream",
     "text": [
      "time: 8.08 ms\n"
     ]
    }
   ],
   "source": [
    "# Debug decision tree\n",
    "\n",
    "# Split feature vectors to train and test\n",
    "train_test = mg.train_test_split(feature_vectors, train_proportion=0.5, random_state=3)\n",
    "train = train_test['train']\n",
    "test = train_test['test']"
   ]
  },
  {
   "cell_type": "code",
   "execution_count": 34,
   "metadata": {
    "collapsed": false
   },
   "outputs": [
    {
     "name": "stdout",
     "output_type": "stream",
     "text": [
      "time: 2.54 s\n"
     ]
    }
   ],
   "source": [
    "# Debug decision tree using GUI\n",
    "mg.vis_debug_dt(dt, train, test, \n",
    "        exclude_attrs=['_id', 'ltable.id', 'rtable.id', 'gold'],\n",
    "        target_attr='gold')"
   ]
  },
  {
   "cell_type": "code",
   "execution_count": 35,
   "metadata": {
    "collapsed": false
   },
   "outputs": [
    {
     "name": "stdout",
     "output_type": "stream",
     "text": [
      "Execute the following command in IPython command prompt:\n",
      "\n",
      "from IPython.display import Image\n",
      "Image(filename='dt_.png') \n",
      "time: 649 ms\n"
     ]
    }
   ],
   "source": [
    "# Visualize decision tree based on the learned model\n",
    "mg.visualize_tree(dt, feature_vectors.columns, exclude_attrs=['_id', 'ltable.id', 'rtable.id', 'gold'])"
   ]
  },
  {
   "cell_type": "code",
   "execution_count": 36,
   "metadata": {
    "collapsed": false
   },
   "outputs": [
    {
     "data": {
      "image/png": "[encoded data removed]",
      "text/plain": [
       "<IPython.core.display.Image object>"
      ]
     },
     "execution_count": 36,
     "metadata": {},
     "output_type": "execute_result"
    },
    {
     "name": "stdout",
     "output_type": "stream",
     "text": [
      "time: 16.9 ms\n"
     ]
    }
   ],
   "source": [
    "from IPython.display import Image\n",
    "Image(filename='dt_.png') "
   ]
  },
  {
   "cell_type": "code",
   "execution_count": 37,
   "metadata": {
    "collapsed": false
   },
   "outputs": [
    {
     "name": "stdout",
     "output_type": "stream",
     "text": [
      "time: 1.15 ms\n"
     ]
    }
   ],
   "source": [
    "# Select all features\n",
    "feature_subset_iter2 = feature_table"
   ]
  },
  {
   "cell_type": "code",
   "execution_count": 38,
   "metadata": {
    "collapsed": false
   },
   "outputs": [
    {
     "name": "stdout",
     "output_type": "stream",
     "text": [
      "time: 974 ms\n"
     ]
    }
   ],
   "source": [
    "# Get new set of features\n",
    "feature_vectors = mg.extract_feature_vecs(development, feature_table=feature_subset_iter2, attrs_after='gold')\n",
    "# impute K\n",
    "feature_vectors.fillna(0, inplace=True)"
   ]
  },
  {
   "cell_type": "code",
   "execution_count": 39,
   "metadata": {
    "collapsed": false
   },
   "outputs": [
    {
     "name": "stdout",
     "output_type": "stream",
     "text": [
      "time: 129 ms\n"
     ]
    }
   ],
   "source": [
    "# Apply cross validation to find if there is a better matcher\n",
    "result = mg.select_matcher([dt, rf, svm, nb, lg, ln], table=feature_vectors, \n",
    "        exclude_attrs=['_id', 'ltable.id', 'rtable.id', 'gold'],\n",
    "        target_attr='gold', metric='f1') "
   ]
  },
  {
   "cell_type": "code",
   "execution_count": 40,
   "metadata": {
    "collapsed": false
   },
   "outputs": [
    {
     "data": {
      "text/html": [
       "<div>\n",
       "<table border=\"1\" class=\"dataframe\">\n",
       "  <thead>\n",
       "    <tr style=\"text-align: right;\">\n",
       "      <th></th>\n",
       "      <th>Name</th>\n",
       "      <th>Matcher</th>\n",
       "      <th>Num folds</th>\n",
       "      <th>Fold 1</th>\n",
       "      <th>Fold 2</th>\n",
       "      <th>Fold 3</th>\n",
       "      <th>Fold 4</th>\n",
       "      <th>Fold 5</th>\n",
       "      <th>Mean score</th>\n",
       "    </tr>\n",
       "  </thead>\n",
       "  <tbody>\n",
       "    <tr>\n",
       "      <th>0</th>\n",
       "      <td>DecisionTree</td>\n",
       "      <td>&lt;magellan.matcher.dtmatcher.DTMatcher object a...</td>\n",
       "      <td>5</td>\n",
       "      <td>0.952381</td>\n",
       "      <td>0.981818</td>\n",
       "      <td>0.980392</td>\n",
       "      <td>0.986301</td>\n",
       "      <td>0.983607</td>\n",
       "      <td>0.976900</td>\n",
       "    </tr>\n",
       "    <tr>\n",
       "      <th>1</th>\n",
       "      <td>RF</td>\n",
       "      <td>&lt;magellan.matcher.rfmatcher.RFMatcher object a...</td>\n",
       "      <td>5</td>\n",
       "      <td>1.000000</td>\n",
       "      <td>0.970588</td>\n",
       "      <td>0.969697</td>\n",
       "      <td>0.960000</td>\n",
       "      <td>1.000000</td>\n",
       "      <td>0.980057</td>\n",
       "    </tr>\n",
       "    <tr>\n",
       "      <th>2</th>\n",
       "      <td>SVM_00006733582082927641</td>\n",
       "      <td>&lt;magellan.matcher.svmmatcher.SVMMatcher object...</td>\n",
       "      <td>5</td>\n",
       "      <td>1.000000</td>\n",
       "      <td>0.969697</td>\n",
       "      <td>0.965517</td>\n",
       "      <td>1.000000</td>\n",
       "      <td>1.000000</td>\n",
       "      <td>0.987043</td>\n",
       "    </tr>\n",
       "    <tr>\n",
       "      <th>3</th>\n",
       "      <td>NB</td>\n",
       "      <td>&lt;magellan.matcher.nbmatcher.NBMatcher object a...</td>\n",
       "      <td>5</td>\n",
       "      <td>1.000000</td>\n",
       "      <td>0.983051</td>\n",
       "      <td>0.945455</td>\n",
       "      <td>0.952381</td>\n",
       "      <td>0.967742</td>\n",
       "      <td>0.969726</td>\n",
       "    </tr>\n",
       "    <tr>\n",
       "      <th>4</th>\n",
       "      <td>LogReg</td>\n",
       "      <td>&lt;magellan.matcher.logregmatcher.LogRegMatcher ...</td>\n",
       "      <td>5</td>\n",
       "      <td>0.950820</td>\n",
       "      <td>0.941176</td>\n",
       "      <td>1.000000</td>\n",
       "      <td>1.000000</td>\n",
       "      <td>0.985915</td>\n",
       "      <td>0.975582</td>\n",
       "    </tr>\n",
       "    <tr>\n",
       "      <th>5</th>\n",
       "      <td>LinReg</td>\n",
       "      <td>&lt;magellan.matcher.linregmatcher.LinRegMatcher ...</td>\n",
       "      <td>5</td>\n",
       "      <td>0.968750</td>\n",
       "      <td>0.945455</td>\n",
       "      <td>1.000000</td>\n",
       "      <td>0.984127</td>\n",
       "      <td>1.000000</td>\n",
       "      <td>0.979666</td>\n",
       "    </tr>\n",
       "  </tbody>\n",
       "</table>\n",
       "</div>"
      ],
      "text/plain": [
       "                       Name  \\\n",
       "0              DecisionTree   \n",
       "1                        RF   \n",
       "2  SVM_00006733582082927641   \n",
       "3                        NB   \n",
       "4                    LogReg   \n",
       "5                    LinReg   \n",
       "\n",
       "                                             Matcher  Num folds    Fold 1  \\\n",
       "0  <magellan.matcher.dtmatcher.DTMatcher object a...          5  0.952381   \n",
       "1  <magellan.matcher.rfmatcher.RFMatcher object a...          5  1.000000   \n",
       "2  <magellan.matcher.svmmatcher.SVMMatcher object...          5  1.000000   \n",
       "3  <magellan.matcher.nbmatcher.NBMatcher object a...          5  1.000000   \n",
       "4  <magellan.matcher.logregmatcher.LogRegMatcher ...          5  0.950820   \n",
       "5  <magellan.matcher.linregmatcher.LinRegMatcher ...          5  0.968750   \n",
       "\n",
       "     Fold 2    Fold 3    Fold 4    Fold 5  Mean score  \n",
       "0  0.981818  0.980392  0.986301  0.983607    0.976900  \n",
       "1  0.970588  0.969697  0.960000  1.000000    0.980057  \n",
       "2  0.969697  0.965517  1.000000  1.000000    0.987043  \n",
       "3  0.983051  0.945455  0.952381  0.967742    0.969726  \n",
       "4  0.941176  1.000000  1.000000  0.985915    0.975582  \n",
       "5  0.945455  1.000000  0.984127  1.000000    0.979666  "
      ]
     },
     "execution_count": 40,
     "metadata": {},
     "output_type": "execute_result"
    },
    {
     "name": "stdout",
     "output_type": "stream",
     "text": [
      "time: 21.8 ms\n"
     ]
    }
   ],
   "source": [
    "result['cv_stats']"
   ]
  },
  {
   "cell_type": "markdown",
   "metadata": {},
   "source": [
    "### Evaluate matcher using test set"
   ]
  },
  {
   "cell_type": "markdown",
   "metadata": {
    "collapsed": false
   },
   "source": [
    "#### 1. Extract feature vectors (using feature_subset_iter2) \n",
    "#### 2. Train matcher using  feature vectors generated from development set\n",
    "#### 3. Predict using trained matcher\n",
    "#### 4. Evaluate the result"
   ]
  },
  {
   "cell_type": "code",
   "execution_count": 41,
   "metadata": {
    "collapsed": false
   },
   "outputs": [
    {
     "name": "stdout",
     "output_type": "stream",
     "text": [
      "time: 479 ms\n"
     ]
    }
   ],
   "source": [
    "# Extract feature vectors\n",
    "feature_vectors_eval = mg.extract_feature_vecs(evaluation, feature_table=feature_subset_iter2, attrs_after='gold')\n",
    "# Impute missing values\n",
    "feature_vectors_eval.fillna(0, inplace=True)"
   ]
  },
  {
   "cell_type": "code",
   "execution_count": 42,
   "metadata": {
    "collapsed": false
   },
   "outputs": [
    {
     "name": "stdout",
     "output_type": "stream",
     "text": [
      "time: 38.4 ms\n"
     ]
    }
   ],
   "source": [
    "# Train using feature vectors from development set\n",
    "dt.fit(table=feature_vectors, \n",
    "       exclude_attrs=['_id', 'ltable.id', 'rtable.id', 'gold'], \n",
    "       target_attr='gold')\n",
    "# Predict M \n",
    "predictions = dt.predict(table=feature_vectors_eval, exclude_attrs=['_id', 'ltable.id', 'rtable.id', 'gold'], \n",
    "              append=True, target_attr='predicted', inplace=False)"
   ]
  },
  {
   "cell_type": "code",
   "execution_count": 43,
   "metadata": {
    "collapsed": false
   },
   "outputs": [
    {
     "name": "stdout",
     "output_type": "stream",
     "text": [
      "Precision : 100.0% (77/77)\n",
      "Recall : 97.47% (77/79)\n",
      "F1 : 98.72%\n",
      "False positives : 0 (out of 77 positive predictions)\n",
      "False negatives : 2 (out of 48 negative predictions)\n",
      "time: 31.8 ms\n"
     ]
    }
   ],
   "source": [
    "# Evaluate the result\n",
    "eval_result = mg.eval_matches(predictions, 'gold', 'predicted')\n",
    "mg.print_eval_summary(eval_result)\n"
   ]
  }
 ],
 "metadata": {
  "anaconda-cloud": {},
  "kernelspec": {
   "display_name": "Python [Root]",
   "language": "python",
   "name": "Python [Root]"
  },
  "language_info": {
   "codemirror_mode": {
    "name": "ipython",
    "version": 3
   },
   "file_extension": ".py",
   "mimetype": "text/x-python",
   "name": "python",
   "nbconvert_exporter": "python",
   "pygments_lexer": "ipython3",
   "version": "3.5.2"
  }
 },
 "nbformat": 4,
 "nbformat_minor": 0
}
