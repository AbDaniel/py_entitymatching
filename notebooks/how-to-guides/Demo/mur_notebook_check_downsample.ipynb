{
 "cells": [
  {
   "cell_type": "code",
   "execution_count": 1,
   "metadata": {
    "collapsed": true
   },
   "outputs": [],
   "source": [
    "%load_ext autotime\n",
    "%matplotlib inline\n",
    "import sys\n",
    "sys.path.append('/Users/pradap/Documents/Research/Python-Package/anhaid/py_entitymatching/')"
   ]
  },
  {
   "cell_type": "code",
   "execution_count": 2,
   "metadata": {
    "collapsed": false
   },
   "outputs": [
    {
     "name": "stdout",
     "output_type": "stream",
     "text": [
      "time: 1.6 s\n"
     ]
    }
   ],
   "source": [
    "import py_entitymatching as em"
   ]
  },
  {
   "cell_type": "code",
   "execution_count": 3,
   "metadata": {
    "collapsed": false
   },
   "outputs": [
    {
     "name": "stdout",
     "output_type": "stream",
     "text": [
      "time: 40.1 ms\n"
     ]
    }
   ],
   "source": [
    "A = em.read_csv_metadata('./ORIG_DBLP_ACM/dblp_mur_clean.csv', key='id')\n",
    "B = em.read_csv_metadata('./ORIG_DBLP_ACM/acm_mur_clean.csv', key='id')"
   ]
  },
  {
   "cell_type": "code",
   "execution_count": 4,
   "metadata": {
    "collapsed": false
   },
   "outputs": [
    {
     "name": "stderr",
     "output_type": "stream",
     "text": [
      "0%                          100%\n",
      "[##############################] | ETA: 00:00:00"
     ]
    },
    {
     "name": "stdout",
     "output_type": "stream",
     "text": [
      "time: 563 ms\n"
     ]
    },
    {
     "name": "stderr",
     "output_type": "stream",
     "text": [
      "\n",
      "Total time elapsed: 00:00:00\n"
     ]
    }
   ],
   "source": [
    "A1, B1 = em.down_sample(A, B, 300, 1)"
   ]
  },
  {
   "cell_type": "code",
   "execution_count": 5,
   "metadata": {
    "collapsed": false
   },
   "outputs": [
    {
     "data": {
      "text/plain": [
       "(283, 300)"
      ]
     },
     "execution_count": 5,
     "metadata": {},
     "output_type": "execute_result"
    },
    {
     "name": "stdout",
     "output_type": "stream",
     "text": [
      "time: 5.79 ms\n"
     ]
    }
   ],
   "source": [
    "len(A1), len(B1)"
   ]
  },
  {
   "cell_type": "code",
   "execution_count": 8,
   "metadata": {
    "collapsed": false
   },
   "outputs": [
    {
     "name": "stdout",
     "output_type": "stream",
     "text": [
      "time: 8.14 ms\n"
     ]
    }
   ],
   "source": [
    "gold = em.read_csv_metadata('./ORIG_DBLP_ACM/goldWithLabel.csv', ltable=A, rtable=B, \n",
    "                            fk_ltable='ltable_id',\n",
    "                            fk_rtable='rtable_id', key='_id')"
   ]
  },
  {
   "cell_type": "code",
   "execution_count": 21,
   "metadata": {
    "collapsed": false
   },
   "outputs": [
    {
     "name": "stderr",
     "output_type": "stream",
     "text": [
      "0%                          100%\n",
      "[##############################] | ETA: 00:00:00"
     ]
    },
    {
     "name": "stdout",
     "output_type": "stream",
     "text": [
      "time: 687 ms\n"
     ]
    },
    {
     "name": "stderr",
     "output_type": "stream",
     "text": [
      "\n",
      "Total time elapsed: 00:00:00\n"
     ]
    }
   ],
   "source": [
    "A1, B1 = em.down_sample(A, B, 500, 1)\n",
    "A1_vals = list(A1.id.values)\n",
    "B1_vals = list(B1.id.values)"
   ]
  },
  {
   "cell_type": "code",
   "execution_count": 22,
   "metadata": {
    "collapsed": false
   },
   "outputs": [
    {
     "name": "stdout",
     "output_type": "stream",
     "text": [
      "416\n",
      "time: 30.1 ms\n"
     ]
    }
   ],
   "source": [
    "i = 0\n",
    "for row in gold.itertuples(index=False):\n",
    "    l_val = row[1]\n",
    "    r_val = row[2]\n",
    "    if l_val in A1_vals and r_val in B1_vals:\n",
    "        i += 1\n",
    "print(i)"
   ]
  },
  {
   "cell_type": "code",
   "execution_count": 23,
   "metadata": {
    "collapsed": false
   },
   "outputs": [
    {
     "data": {
      "text/html": [
       "<div>\n",
       "<table border=\"1\" class=\"dataframe\">\n",
       "  <thead>\n",
       "    <tr style=\"text-align: right;\">\n",
       "      <th></th>\n",
       "      <th>Unnamed: 0</th>\n",
       "      <th>id</th>\n",
       "      <th>title</th>\n",
       "      <th>authors</th>\n",
       "      <th>venue</th>\n",
       "      <th>year</th>\n",
       "    </tr>\n",
       "  </thead>\n",
       "  <tbody>\n",
       "    <tr>\n",
       "      <th>1026</th>\n",
       "      <td>1671</td>\n",
       "      <td>conf/vldb/BliujuteJSS98</td>\n",
       "      <td>R-Tree Based Indexing of Now-Relative Bitemporal Data</td>\n",
       "      <td>Simonas Saltenis, Christian S. Jensen, Giedrius Slivinskas, Rasa Bliujute</td>\n",
       "      <td>VLDB</td>\n",
       "      <td>1998</td>\n",
       "    </tr>\n",
       "    <tr>\n",
       "      <th>1030</th>\n",
       "      <td>2069</td>\n",
       "      <td>journals/vldb/OoiHLT96</td>\n",
       "      <td>Index Nesting - An Efficient Approach to Indexing in Object-Oriented Databases</td>\n",
       "      <td>Jiawei Han, Beng Chin Ooi, Hongjun Lu, Kian-Lee Tan</td>\n",
       "      <td>VLDB J.</td>\n",
       "      <td>1996</td>\n",
       "    </tr>\n",
       "    <tr>\n",
       "      <th>1036</th>\n",
       "      <td>2113</td>\n",
       "      <td>journals/vldb/LeeW94</td>\n",
       "      <td>Efficiently Instantiating View-Objects From Remote Relational Databases</td>\n",
       "      <td>Gio Wiederhold, Byung Suk Lee</td>\n",
       "      <td>VLDB J.</td>\n",
       "      <td>1994</td>\n",
       "    </tr>\n",
       "    <tr>\n",
       "      <th>1042</th>\n",
       "      <td>2121</td>\n",
       "      <td>journals/vldb/JagadishKNS00</td>\n",
       "      <td>One-dimensional and multi-dimensional substring selectivity estimation</td>\n",
       "      <td>Raymond T. Ng, Divesh Srivastava, H. V. Jagadish, Olga Kapitskaia</td>\n",
       "      <td>VLDB J.</td>\n",
       "      <td>2000</td>\n",
       "    </tr>\n",
       "    <tr>\n",
       "      <th>20</th>\n",
       "      <td>2140</td>\n",
       "      <td>journals/vldb/AbadiCCCCLSTZ03</td>\n",
       "      <td>Aurora: a new model and architecture for data stream management</td>\n",
       "      <td>Christian Convey, Sangdon Lee, Ugur etintemel, Daniel J. Abadi, Michael Stonebraker, Mitch Chern...</td>\n",
       "      <td>VLDB J.</td>\n",
       "      <td>2003</td>\n",
       "    </tr>\n",
       "  </tbody>\n",
       "</table>\n",
       "</div>"
      ],
      "text/plain": [
       "      Unnamed: 0                             id  \\\n",
       "1026        1671        conf/vldb/BliujuteJSS98   \n",
       "1030        2069         journals/vldb/OoiHLT96   \n",
       "1036        2113           journals/vldb/LeeW94   \n",
       "1042        2121    journals/vldb/JagadishKNS00   \n",
       "20          2140  journals/vldb/AbadiCCCCLSTZ03   \n",
       "\n",
       "                                                                               title  \\\n",
       "1026                           R-Tree Based Indexing of Now-Relative Bitemporal Data   \n",
       "1030  Index Nesting - An Efficient Approach to Indexing in Object-Oriented Databases   \n",
       "1036         Efficiently Instantiating View-Objects From Remote Relational Databases   \n",
       "1042          One-dimensional and multi-dimensional substring selectivity estimation   \n",
       "20                   Aurora: a new model and architecture for data stream management   \n",
       "\n",
       "                                                                                                  authors  \\\n",
       "1026                            Simonas Saltenis, Christian S. Jensen, Giedrius Slivinskas, Rasa Bliujute   \n",
       "1030                                                  Jiawei Han, Beng Chin Ooi, Hongjun Lu, Kian-Lee Tan   \n",
       "1036                                                                        Gio Wiederhold, Byung Suk Lee   \n",
       "1042                                    Raymond T. Ng, Divesh Srivastava, H. V. Jagadish, Olga Kapitskaia   \n",
       "20    Christian Convey, Sangdon Lee, Ugur etintemel, Daniel J. Abadi, Michael Stonebraker, Mitch Chern...   \n",
       "\n",
       "        venue  year  \n",
       "1026     VLDB  1998  \n",
       "1030  VLDB J.  1996  \n",
       "1036  VLDB J.  1994  \n",
       "1042  VLDB J.  2000  \n",
       "20    VLDB J.  2003  "
      ]
     },
     "execution_count": 23,
     "metadata": {},
     "output_type": "execute_result"
    },
    {
     "name": "stdout",
     "output_type": "stream",
     "text": [
      "time: 11 ms\n"
     ]
    }
   ],
   "source": [
    "A1.head()"
   ]
  },
  {
   "cell_type": "code",
   "execution_count": 24,
   "metadata": {
    "collapsed": false
   },
   "outputs": [
    {
     "data": {
      "text/html": [
       "<div>\n",
       "<table border=\"1\" class=\"dataframe\">\n",
       "  <thead>\n",
       "    <tr style=\"text-align: right;\">\n",
       "      <th></th>\n",
       "      <th>Unnamed: 0</th>\n",
       "      <th>id</th>\n",
       "      <th>title</th>\n",
       "      <th>authors</th>\n",
       "      <th>venue</th>\n",
       "      <th>year</th>\n",
       "    </tr>\n",
       "  </thead>\n",
       "  <tbody>\n",
       "    <tr>\n",
       "      <th>1318</th>\n",
       "      <td>1106</td>\n",
       "      <td>234897</td>\n",
       "      <td>Report on first international workshop on real-time database systems</td>\n",
       "      <td>Azer Bestavros, Kwei-Jay Lin, Sang Son</td>\n",
       "      <td>ACM SIGMOD Record</td>\n",
       "      <td>1996</td>\n",
       "    </tr>\n",
       "    <tr>\n",
       "      <th>958</th>\n",
       "      <td>2168</td>\n",
       "      <td>767094</td>\n",
       "      <td>Efficient retrieval of similar shapes</td>\n",
       "      <td>Davood Rafiei, Alberto O. Mendelzon</td>\n",
       "      <td>The VLDB Journal — The International Journal on Very Large Data Bases</td>\n",
       "      <td>2002</td>\n",
       "    </tr>\n",
       "    <tr>\n",
       "      <th>267</th>\n",
       "      <td>432</td>\n",
       "      <td>233344</td>\n",
       "      <td>Structures for manipulating proposed updates in object-oriented databases</td>\n",
       "      <td>Michael Doherty, Richard Hull, Mohammed Rupawalla</td>\n",
       "      <td>International Conference on Management of Data</td>\n",
       "      <td>1996</td>\n",
       "    </tr>\n",
       "    <tr>\n",
       "      <th>708</th>\n",
       "      <td>149</td>\n",
       "      <td>335496</td>\n",
       "      <td>SERFing the Web: web site management made easy</td>\n",
       "      <td>Elke A. Rundensteiner, Kajal T. Claypool, Li Chen, Hong Su, Keiji Oenoki</td>\n",
       "      <td>International Conference on Management of Data</td>\n",
       "      <td>2000</td>\n",
       "    </tr>\n",
       "    <tr>\n",
       "      <th>396</th>\n",
       "      <td>760</td>\n",
       "      <td>564763</td>\n",
       "      <td>Middle-tier database caching for e-business</td>\n",
       "      <td>Qiong Luo, Sailesh Krishnamurthy, C. Mohan, Hamid Pirahesh, Honguk Woo, Bruce G. Lindsay, Jeffre...</td>\n",
       "      <td>International Conference on Management of Data</td>\n",
       "      <td>2002</td>\n",
       "    </tr>\n",
       "  </tbody>\n",
       "</table>\n",
       "</div>"
      ],
      "text/plain": [
       "      Unnamed: 0      id  \\\n",
       "1318        1106  234897   \n",
       "958         2168  767094   \n",
       "267          432  233344   \n",
       "708          149  335496   \n",
       "396          760  564763   \n",
       "\n",
       "                                                                          title  \\\n",
       "1318       Report on first international workshop on real-time database systems   \n",
       "958                                       Efficient retrieval of similar shapes   \n",
       "267   Structures for manipulating proposed updates in object-oriented databases   \n",
       "708                              SERFing the Web: web site management made easy   \n",
       "396                                 Middle-tier database caching for e-business   \n",
       "\n",
       "                                                                                                  authors  \\\n",
       "1318                                                               Azer Bestavros, Kwei-Jay Lin, Sang Son   \n",
       "958                                                                   Davood Rafiei, Alberto O. Mendelzon   \n",
       "267                                                     Michael Doherty, Richard Hull, Mohammed Rupawalla   \n",
       "708                              Elke A. Rundensteiner, Kajal T. Claypool, Li Chen, Hong Su, Keiji Oenoki   \n",
       "396   Qiong Luo, Sailesh Krishnamurthy, C. Mohan, Hamid Pirahesh, Honguk Woo, Bruce G. Lindsay, Jeffre...   \n",
       "\n",
       "                                                                      venue  \\\n",
       "1318                                                      ACM SIGMOD Record   \n",
       "958   The VLDB Journal — The International Journal on Very Large Data Bases   \n",
       "267                          International Conference on Management of Data   \n",
       "708                          International Conference on Management of Data   \n",
       "396                          International Conference on Management of Data   \n",
       "\n",
       "      year  \n",
       "1318  1996  \n",
       "958   2002  \n",
       "267   1996  \n",
       "708   2000  \n",
       "396   2002  "
      ]
     },
     "execution_count": 24,
     "metadata": {},
     "output_type": "execute_result"
    },
    {
     "name": "stdout",
     "output_type": "stream",
     "text": [
      "time: 13.4 ms\n"
     ]
    }
   ],
   "source": [
    "B1.head()"
   ]
  }
 ],
 "metadata": {
  "anaconda-cloud": {},
  "kernelspec": {
   "display_name": "Python [Root]",
   "language": "python",
   "name": "Python [Root]"
  },
  "language_info": {
   "codemirror_mode": {
    "name": "ipython",
    "version": 3
   },
   "file_extension": ".py",
   "mimetype": "text/x-python",
   "name": "python",
   "nbconvert_exporter": "python",
   "pygments_lexer": "ipython3",
   "version": "3.5.2"
  }
 },
 "nbformat": 4,
 "nbformat_minor": 0
}
