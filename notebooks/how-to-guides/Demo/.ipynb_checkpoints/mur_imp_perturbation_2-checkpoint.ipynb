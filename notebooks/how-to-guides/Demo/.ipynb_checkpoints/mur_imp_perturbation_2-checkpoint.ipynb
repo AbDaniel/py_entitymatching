{
 "cells": [
  {
   "cell_type": "code",
   "execution_count": 1,
   "metadata": {
    "collapsed": true
   },
   "outputs": [],
   "source": [
    "import sys\n",
    "# sys.path.append('/scratch/pradap/python-work/anhaidgroup/py_entitymatching/')\n",
    "sys.path.append('/Users/pradap/Documents/Research/Python-Package/anhaid/py_entitymatching/')"
   ]
  },
  {
   "cell_type": "code",
   "execution_count": 2,
   "metadata": {
    "collapsed": true
   },
   "outputs": [],
   "source": [
    "import py_entitymatching as em\n",
    "import pandas as pd"
   ]
  },
  {
   "cell_type": "code",
   "execution_count": 3,
   "metadata": {
    "collapsed": true
   },
   "outputs": [],
   "source": [
    "import mur_utils as mu"
   ]
  },
  {
   "cell_type": "code",
   "execution_count": 18,
   "metadata": {
    "collapsed": false
   },
   "outputs": [],
   "source": [
    "num_pos_diff_year = 0\n",
    "num_pos_same_year_swapped = 75\n",
    "num_pos_same_year_not_swapped = 75\n",
    "num_neg_samples = 300\n",
    "num_neg_samples_to_be_swapped = 200"
   ]
  },
  {
   "cell_type": "code",
   "execution_count": 19,
   "metadata": {
    "collapsed": false
   },
   "outputs": [],
   "source": [
    "A2 = em.read_csv_metadata('ORIG_DBLP_ACM/dblp_mur_diff_year_sim_title_removed.csv', key='id', dtype=str)\n",
    "B4 = em.read_csv_metadata('ORIG_DBLP_ACM/acm_sim_title_rem_perturb_year.csv',  key='id', dtype=str)\n",
    "B2 = em.read_csv_metadata('ORIG_DBLP_ACM/acm_mur_diff_year_sim_title_removed.csv',  key='id', dtype=str)\n"
   ]
  },
  {
   "cell_type": "code",
   "execution_count": 20,
   "metadata": {
    "collapsed": true
   },
   "outputs": [],
   "source": [
    "gold = em.read_csv_metadata('ORIG_DBLP_ACM/goldWithLabel.csv', key='_id', fk_ltable='ltable_id', fk_rtable='rtable_id',\n",
    "                           ltable=A2, rtable=B4, dtype=str)"
   ]
  },
  {
   "cell_type": "code",
   "execution_count": 21,
   "metadata": {
    "collapsed": true
   },
   "outputs": [],
   "source": [
    "ab = em.AttrEquivalenceBlocker()\n",
    "C2 = ab.block_tables(A2, B4, 'year', 'year', ['title', 'authors', 'year'], ['title', 'authors', 'year'])"
   ]
  },
  {
   "cell_type": "code",
   "execution_count": 22,
   "metadata": {
    "collapsed": false
   },
   "outputs": [
    {
     "name": "stderr",
     "output_type": "stream",
     "text": [
      "0%                          100%\n",
      "[##############################] | ETA: 00:00:00\n",
      "Total time elapsed: 00:00:01\n"
     ]
    }
   ],
   "source": [
    "ob = em.OverlapBlocker()\n",
    "C3 = ob.block_tables(A2, B4, 'title', 'title', l_output_attrs=['title', 'authors', 'year'], r_output_attrs=['title', 'authors', 'year'])"
   ]
  },
  {
   "cell_type": "code",
   "execution_count": 23,
   "metadata": {
    "collapsed": true
   },
   "outputs": [],
   "source": [
    "C = em.combine_blocker_outputs_via_union([C2, C3])"
   ]
  },
  {
   "cell_type": "code",
   "execution_count": 24,
   "metadata": {
    "collapsed": false
   },
   "outputs": [
    {
     "name": "stdout",
     "output_type": "stream",
     "text": [
      "1575\n"
     ]
    }
   ],
   "source": [
    "count, tuple_ids = mu.get_num_positives_candset(C, gold)\n",
    "print(count)"
   ]
  },
  {
   "cell_type": "code",
   "execution_count": 25,
   "metadata": {
    "collapsed": false
   },
   "outputs": [
    {
     "data": {
      "text/plain": [
       "True"
      ]
     },
     "execution_count": 25,
     "metadata": {},
     "output_type": "execute_result"
    }
   ],
   "source": [
    "g = gold.set_index(['ltable_id', 'rtable_id'], drop=False)\n",
    "g1 = g.ix[tuple_ids]\n",
    "em.set_fk_ltable(g1, 'ltable_id')\n",
    "em.set_fk_rtable(g1, 'rtable_id')\n",
    "em.set_ltable(g1, A2)\n",
    "em.set_rtable(g1, B4)\n",
    "em.set_key(g1, '_id')"
   ]
  },
  {
   "cell_type": "code",
   "execution_count": 26,
   "metadata": {
    "collapsed": false
   },
   "outputs": [],
   "source": [
    "g1.reset_index(drop=True, inplace=True)\n",
    "g1 = em.add_output_attributes(g1, l_output_attrs=['year'], r_output_attrs=['year'])\n",
    "g1.head()\n",
    "g1.rename(columns={'rtable_year': 'rtable_year_perturbed'}, inplace=True)\n",
    "em.set_fk_ltable(g1, 'ltable_id')\n",
    "em.set_fk_rtable(g1, 'rtable_id')\n",
    "em.set_ltable(g1, A2)\n",
    "em.set_rtable(g1, B2)\n",
    "em.set_key(g1, '_id')\n",
    "g1 = em.add_output_attributes(g1, r_output_attrs=['year'])"
   ]
  },
  {
   "cell_type": "code",
   "execution_count": 27,
   "metadata": {
    "collapsed": false
   },
   "outputs": [
    {
     "data": {
      "text/plain": [
       "1396"
      ]
     },
     "execution_count": 27,
     "metadata": {},
     "output_type": "execute_result"
    }
   ],
   "source": [
    "g1_same_year = em.filter_rows(g1, 'ltable_year == rtable_year_perturbed')\n",
    "len(g1_same_year)"
   ]
  },
  {
   "cell_type": "code",
   "execution_count": 28,
   "metadata": {
    "collapsed": false
   },
   "outputs": [
    {
     "data": {
      "text/plain": [
       "179"
      ]
     },
     "execution_count": 28,
     "metadata": {},
     "output_type": "execute_result"
    }
   ],
   "source": [
    "g1_diff_year = em.filter_rows(g1, 'ltable_year != rtable_year_perturbed')\n",
    "len(g1_diff_year)"
   ]
  },
  {
   "cell_type": "code",
   "execution_count": 29,
   "metadata": {
    "collapsed": false
   },
   "outputs": [
    {
     "data": {
      "text/plain": [
       "(75, 75, 0)"
      ]
     },
     "execution_count": 29,
     "metadata": {},
     "output_type": "execute_result"
    }
   ],
   "source": [
    "g1_diff_year_sampled = em.sample_table(g1_diff_year, num_pos_diff_year)\n",
    "g1_same_year_splitted_2 = em.split_train_test(g1_same_year, train_proportion=0.5)\n",
    "g1_same_year_to_be_swapped_sample = em.sample_table(g1_same_year_splitted_2['train'], num_pos_same_year_swapped)\n",
    "g1_same_year_not_to_be_swapped_sample = em.sample_table(g1_same_year_splitted_2['test'], num_pos_same_year_not_swapped)\n",
    "len(g1_same_year_to_be_swapped_sample), len(g1_same_year_not_to_be_swapped_sample), len(g1_diff_year_sampled)"
   ]
  },
  {
   "cell_type": "code",
   "execution_count": 30,
   "metadata": {
    "collapsed": false
   },
   "outputs": [
    {
     "data": {
      "text/plain": [
       "75"
      ]
     },
     "execution_count": 30,
     "metadata": {},
     "output_type": "execute_result"
    }
   ],
   "source": [
    "len(g1_same_year_to_be_swapped_sample.ltable_id.values)"
   ]
  },
  {
   "cell_type": "code",
   "execution_count": 31,
   "metadata": {
    "collapsed": false
   },
   "outputs": [
    {
     "data": {
      "text/html": [
       "<div>\n",
       "<table border=\"1\" class=\"dataframe\">\n",
       "  <thead>\n",
       "    <tr style=\"text-align: right;\">\n",
       "      <th></th>\n",
       "      <th>id</th>\n",
       "      <th>title</th>\n",
       "      <th>authors</th>\n",
       "      <th>venue</th>\n",
       "      <th>year</th>\n",
       "    </tr>\n",
       "    <tr>\n",
       "      <th>id</th>\n",
       "      <th></th>\n",
       "      <th></th>\n",
       "      <th></th>\n",
       "      <th></th>\n",
       "      <th></th>\n",
       "    </tr>\n",
       "  </thead>\n",
       "  <tbody>\n",
       "    <tr>\n",
       "      <th>conf/vldb/KumarKA97</th>\n",
       "      <td>conf/vldb/KumarKA97</td>\n",
       "      <td>Suresh Kumar, Eng-Kee Kwang, Divyakant Agrawal</td>\n",
       "      <td>Caprera: An Activity Framework for Transaction Processing on Wide-Area Networks</td>\n",
       "      <td>VLDB</td>\n",
       "      <td>1997</td>\n",
       "    </tr>\n",
       "    <tr>\n",
       "      <th>conf/sigmod/WattezCBFF00</th>\n",
       "      <td>conf/sigmod/WattezCBFF00</td>\n",
       "      <td>Sophie Cluet, Fanny Wattez, Vronique Benzaken, Guy Ferran, Christian Fiegel</td>\n",
       "      <td>Benchmarking Queries over Trees: Learning the Hard Truth the Hard Way</td>\n",
       "      <td>SIGMOD Conference</td>\n",
       "      <td>2000</td>\n",
       "    </tr>\n",
       "    <tr>\n",
       "      <th>journals/vldb/RamamurthyDS03</th>\n",
       "      <td>journals/vldb/RamamurthyDS03</td>\n",
       "      <td>David J. DeWitt, Ravishankar Ramamurthy, Qi Su</td>\n",
       "      <td>A case for fractured mirrors</td>\n",
       "      <td>VLDB J.</td>\n",
       "      <td>2003</td>\n",
       "    </tr>\n",
       "    <tr>\n",
       "      <th>journals/tods/JacoxS03</th>\n",
       "      <td>journals/tods/JacoxS03</td>\n",
       "      <td>Hanan Samet, Edwin H. Jacox</td>\n",
       "      <td>Iterative spatial join</td>\n",
       "      <td>ACM Trans. Database Syst.</td>\n",
       "      <td>2003</td>\n",
       "    </tr>\n",
       "    <tr>\n",
       "      <th>conf/sigmod/ZhouLP99</th>\n",
       "      <td>conf/sigmod/ZhouLP99</td>\n",
       "      <td>Ling Liu, Calton Pu, Tong Zhou</td>\n",
       "      <td>TAM: A System for Dynamic Transactional Activity Management</td>\n",
       "      <td>SIGMOD Conference</td>\n",
       "      <td>1999</td>\n",
       "    </tr>\n",
       "  </tbody>\n",
       "</table>\n",
       "</div>"
      ],
      "text/plain": [
       "                                                        id  \\\n",
       "id                                                           \n",
       "conf/vldb/KumarKA97                    conf/vldb/KumarKA97   \n",
       "conf/sigmod/WattezCBFF00          conf/sigmod/WattezCBFF00   \n",
       "journals/vldb/RamamurthyDS03  journals/vldb/RamamurthyDS03   \n",
       "journals/tods/JacoxS03              journals/tods/JacoxS03   \n",
       "conf/sigmod/ZhouLP99                  conf/sigmod/ZhouLP99   \n",
       "\n",
       "                                                                                                    title  \\\n",
       "id                                                                                                          \n",
       "conf/vldb/KumarKA97                                        Suresh Kumar, Eng-Kee Kwang, Divyakant Agrawal   \n",
       "conf/sigmod/WattezCBFF00      Sophie Cluet, Fanny Wattez, Vronique Benzaken, Guy Ferran, Christian Fiegel   \n",
       "journals/vldb/RamamurthyDS03                               David J. DeWitt, Ravishankar Ramamurthy, Qi Su   \n",
       "journals/tods/JacoxS03                                                        Hanan Samet, Edwin H. Jacox   \n",
       "conf/sigmod/ZhouLP99                                                       Ling Liu, Calton Pu, Tong Zhou   \n",
       "\n",
       "                                                                                                      authors  \\\n",
       "id                                                                                                              \n",
       "conf/vldb/KumarKA97           Caprera: An Activity Framework for Transaction Processing on Wide-Area Networks   \n",
       "conf/sigmod/WattezCBFF00                Benchmarking Queries over Trees: Learning the Hard Truth the Hard Way   \n",
       "journals/vldb/RamamurthyDS03                                                     A case for fractured mirrors   \n",
       "journals/tods/JacoxS03                                                                 Iterative spatial join   \n",
       "conf/sigmod/ZhouLP99                              TAM: A System for Dynamic Transactional Activity Management   \n",
       "\n",
       "                                                  venue  year  \n",
       "id                                                             \n",
       "conf/vldb/KumarKA97                                VLDB  1997  \n",
       "conf/sigmod/WattezCBFF00              SIGMOD Conference  2000  \n",
       "journals/vldb/RamamurthyDS03                    VLDB J.  2003  \n",
       "journals/tods/JacoxS03        ACM Trans. Database Syst.  2003  \n",
       "conf/sigmod/ZhouLP99                  SIGMOD Conference  1999  "
      ]
     },
     "execution_count": 31,
     "metadata": {},
     "output_type": "execute_result"
    }
   ],
   "source": [
    "A3 = A2.set_index('id', drop=False)\n",
    "titles = A3.ix[g1_same_year_to_be_swapped_sample.ltable_id.values, 'title']\n",
    "authors = A3.ix[g1_same_year_to_be_swapped_sample.ltable_id.values, 'authors']\n",
    "A4 = A3.copy()\n",
    "A4.ix[g1_same_year_to_be_swapped_sample.ltable_id.values, 'authors'] = titles\n",
    "A4.ix[g1_same_year_to_be_swapped_sample.ltable_id.values, 'title'] = authors\n",
    "A4.ix[g1_same_year_to_be_swapped_sample.ltable_id.values].head()"
   ]
  },
  {
   "cell_type": "code",
   "execution_count": 32,
   "metadata": {
    "collapsed": true
   },
   "outputs": [],
   "source": [
    "em.set_key(A4, 'id')\n",
    "A4.reset_index(inplace=True, drop=True)"
   ]
  },
  {
   "cell_type": "code",
   "execution_count": 33,
   "metadata": {
    "collapsed": false
   },
   "outputs": [
    {
     "data": {
      "text/plain": [
       "True"
      ]
     },
     "execution_count": 33,
     "metadata": {},
     "output_type": "execute_result"
    }
   ],
   "source": [
    "em.to_csv_metadata(A4, 'ORIG_DBLP_ACM/dblp_sim_title_rem_title_auth_swapped.csv')"
   ]
  },
  {
   "cell_type": "code",
   "execution_count": 34,
   "metadata": {
    "collapsed": true
   },
   "outputs": [],
   "source": [
    "A5 = A4.set_index('id', drop=False)\n",
    "# l_output_attrs=['title', 'authors', 'year']"
   ]
  },
  {
   "cell_type": "code",
   "execution_count": 35,
   "metadata": {
    "collapsed": false
   },
   "outputs": [],
   "source": [
    "indices_not_swapped = set(A5.index.values).difference(g1_same_year_to_be_swapped_sample.ltable_id.values)"
   ]
  },
  {
   "cell_type": "code",
   "execution_count": 36,
   "metadata": {
    "collapsed": false
   },
   "outputs": [
    {
     "data": {
      "text/plain": [
       "1725"
      ]
     },
     "execution_count": 36,
     "metadata": {},
     "output_type": "execute_result"
    }
   ],
   "source": [
    "len(indices_not_swapped)"
   ]
  },
  {
   "cell_type": "code",
   "execution_count": 37,
   "metadata": {
    "collapsed": true
   },
   "outputs": [],
   "source": [
    "count, a_indices, b_indices = mu.get_num_positives_tables(A2, B4, gold)"
   ]
  },
  {
   "cell_type": "code",
   "execution_count": 38,
   "metadata": {
    "collapsed": false
   },
   "outputs": [
    {
     "data": {
      "text/plain": [
       "(1575, 1575, 1800)"
      ]
     },
     "execution_count": 38,
     "metadata": {},
     "output_type": "execute_result"
    }
   ],
   "source": [
    "count, len(a_indices), len(A2)"
   ]
  },
  {
   "cell_type": "code",
   "execution_count": 39,
   "metadata": {
    "collapsed": true
   },
   "outputs": [],
   "source": [
    "A6 = A5.ix[set(A5.index.values).difference(a_indices)]"
   ]
  },
  {
   "cell_type": "code",
   "execution_count": 40,
   "metadata": {
    "collapsed": false
   },
   "outputs": [],
   "source": [
    "A6.dropna(inplace=True)"
   ]
  },
  {
   "cell_type": "code",
   "execution_count": 41,
   "metadata": {
    "collapsed": true
   },
   "outputs": [],
   "source": [
    "B3 = B2.set_index('id', drop=False)"
   ]
  },
  {
   "cell_type": "code",
   "execution_count": 42,
   "metadata": {
    "collapsed": true
   },
   "outputs": [],
   "source": [
    "B4 = B3.ix[set(B3.index.values).difference(b_indices)]"
   ]
  },
  {
   "cell_type": "code",
   "execution_count": 43,
   "metadata": {
    "collapsed": false
   },
   "outputs": [],
   "source": [
    "B4.dropna(inplace=True)"
   ]
  },
  {
   "cell_type": "code",
   "execution_count": 44,
   "metadata": {
    "collapsed": false
   },
   "outputs": [
    {
     "data": {
      "text/plain": [
       "(234, 225)"
      ]
     },
     "execution_count": 44,
     "metadata": {},
     "output_type": "execute_result"
    }
   ],
   "source": [
    "len(B4), len(A6)"
   ]
  },
  {
   "cell_type": "code",
   "execution_count": 45,
   "metadata": {
    "collapsed": false
   },
   "outputs": [
    {
     "data": {
      "text/plain": [
       "True"
      ]
     },
     "execution_count": 45,
     "metadata": {},
     "output_type": "execute_result"
    }
   ],
   "source": [
    "em.set_key(B4, 'id')\n",
    "em.set_key(A6, 'id')"
   ]
  },
  {
   "cell_type": "code",
   "execution_count": 46,
   "metadata": {
    "collapsed": true
   },
   "outputs": [],
   "source": [
    "C5 = ab.block_tables(A6, B4, 'year', 'year', l_output_attrs=['title', 'authors', 'year'], \n",
    "                     r_output_attrs=['title', 'authors', 'year'])"
   ]
  },
  {
   "cell_type": "code",
   "execution_count": 47,
   "metadata": {
    "collapsed": false
   },
   "outputs": [
    {
     "data": {
      "text/plain": [
       "5165"
      ]
     },
     "execution_count": 47,
     "metadata": {},
     "output_type": "execute_result"
    }
   ],
   "source": [
    "len(C5)"
   ]
  },
  {
   "cell_type": "code",
   "execution_count": 52,
   "metadata": {
    "collapsed": true
   },
   "outputs": [],
   "source": [
    "C6 = em.sample_table(C5, num_neg_samples)\n",
    "d1 = C6"
   ]
  },
  {
   "cell_type": "code",
   "execution_count": 53,
   "metadata": {
    "collapsed": false
   },
   "outputs": [],
   "source": [
    "neg_samples_in_A_to_be_swapped = list(pd.unique(C6['ltable_id'].values))"
   ]
  },
  {
   "cell_type": "code",
   "execution_count": 54,
   "metadata": {
    "collapsed": false
   },
   "outputs": [],
   "source": [
    "import numpy as np\n",
    "neg_samples_in_A_to_be_swapped_sample = np.random.choice(neg_samples_in_A_to_be_swapped, \n",
    "                                                         num_neg_samples_to_be_swapped)\n"
   ]
  },
  {
   "cell_type": "code",
   "execution_count": 57,
   "metadata": {
    "collapsed": false
   },
   "outputs": [
    {
     "data": {
      "text/plain": [
       "200"
      ]
     },
     "execution_count": 57,
     "metadata": {},
     "output_type": "execute_result"
    }
   ],
   "source": [
    "len(neg_samples_in_A_to_be_swapped_sample)"
   ]
  },
  {
   "cell_type": "code",
   "execution_count": 55,
   "metadata": {
    "collapsed": false
   },
   "outputs": [
    {
     "data": {
      "text/html": [
       "<div>\n",
       "<table border=\"1\" class=\"dataframe\">\n",
       "  <thead>\n",
       "    <tr style=\"text-align: right;\">\n",
       "      <th></th>\n",
       "      <th>id</th>\n",
       "      <th>title</th>\n",
       "      <th>authors</th>\n",
       "      <th>venue</th>\n",
       "      <th>year</th>\n",
       "    </tr>\n",
       "    <tr>\n",
       "      <th>id</th>\n",
       "      <th></th>\n",
       "      <th></th>\n",
       "      <th></th>\n",
       "      <th></th>\n",
       "      <th></th>\n",
       "    </tr>\n",
       "  </thead>\n",
       "  <tbody>\n",
       "    <tr>\n",
       "      <th>journals/sigmod/DAndreaJ96</th>\n",
       "      <td>journals/sigmod/DAndreaJ96</td>\n",
       "      <td>Phil Janus, Albert D'Andrea</td>\n",
       "      <td>UniSQL's Next-Generation Object-Relational Database Management System</td>\n",
       "      <td>SIGMOD Record</td>\n",
       "      <td>1996</td>\n",
       "    </tr>\n",
       "    <tr>\n",
       "      <th>journals/sigmod/EisenbergM99a</th>\n",
       "      <td>journals/sigmod/EisenbergM99a</td>\n",
       "      <td>Andrew Eisenberg, Jim Melton</td>\n",
       "      <td>SQLJ-Part 1: SQL Routines Using the Java Programming Language</td>\n",
       "      <td>SIGMOD Record</td>\n",
       "      <td>1999</td>\n",
       "    </tr>\n",
       "    <tr>\n",
       "      <th>conf/vldb/BamfordBKM98</th>\n",
       "      <td>conf/vldb/BamfordBKM98</td>\n",
       "      <td>D. Butler, Boris Klots, Roger Bamford, N. MacNaughton</td>\n",
       "      <td>Architecture of Oracle Parallel Server</td>\n",
       "      <td>VLDB</td>\n",
       "      <td>1998</td>\n",
       "    </tr>\n",
       "    <tr>\n",
       "      <th>conf/sigmod/ReissK03</th>\n",
       "      <td>conf/sigmod/ReissK03</td>\n",
       "      <td>Tapas Kanungo, Frederick Reiss</td>\n",
       "      <td>A Characterization of the Sensitivity of Query Optimization to Storage Access Cost Parameters</td>\n",
       "      <td>SIGMOD Conference</td>\n",
       "      <td>2003</td>\n",
       "    </tr>\n",
       "    <tr>\n",
       "      <th>journals/vldb/ClaussenKKW00</th>\n",
       "      <td>journals/vldb/ClaussenKKW00</td>\n",
       "      <td>Jens Clauen, Christian Wiesner, Donald Kossmann, Alfons Kemper</td>\n",
       "      <td>Exploiting early sorting and early partitioning for decisionsupport query processing</td>\n",
       "      <td>VLDB J.</td>\n",
       "      <td>2000</td>\n",
       "    </tr>\n",
       "  </tbody>\n",
       "</table>\n",
       "</div>"
      ],
      "text/plain": [
       "                                                          id  \\\n",
       "id                                                             \n",
       "journals/sigmod/DAndreaJ96        journals/sigmod/DAndreaJ96   \n",
       "journals/sigmod/EisenbergM99a  journals/sigmod/EisenbergM99a   \n",
       "conf/vldb/BamfordBKM98                conf/vldb/BamfordBKM98   \n",
       "conf/sigmod/ReissK03                    conf/sigmod/ReissK03   \n",
       "journals/vldb/ClaussenKKW00      journals/vldb/ClaussenKKW00   \n",
       "\n",
       "                                                                                        title  \\\n",
       "id                                                                                              \n",
       "journals/sigmod/DAndreaJ96                                        Phil Janus, Albert D'Andrea   \n",
       "journals/sigmod/EisenbergM99a                                    Andrew Eisenberg, Jim Melton   \n",
       "conf/vldb/BamfordBKM98                  D. Butler, Boris Klots, Roger Bamford, N. MacNaughton   \n",
       "conf/sigmod/ReissK03                                           Tapas Kanungo, Frederick Reiss   \n",
       "journals/vldb/ClaussenKKW00    Jens Clauen, Christian Wiesner, Donald Kossmann, Alfons Kemper   \n",
       "\n",
       "                                                                                                                     authors  \\\n",
       "id                                                                                                                             \n",
       "journals/sigmod/DAndreaJ96                             UniSQL's Next-Generation Object-Relational Database Management System   \n",
       "journals/sigmod/EisenbergM99a                                  SQLJ-Part 1: SQL Routines Using the Java Programming Language   \n",
       "conf/vldb/BamfordBKM98                                                                Architecture of Oracle Parallel Server   \n",
       "conf/sigmod/ReissK03           A Characterization of the Sensitivity of Query Optimization to Storage Access Cost Parameters   \n",
       "journals/vldb/ClaussenKKW00             Exploiting early sorting and early partitioning for decisionsupport query processing   \n",
       "\n",
       "                                           venue  year  \n",
       "id                                                      \n",
       "journals/sigmod/DAndreaJ96         SIGMOD Record  1996  \n",
       "journals/sigmod/EisenbergM99a      SIGMOD Record  1999  \n",
       "conf/vldb/BamfordBKM98                      VLDB  1998  \n",
       "conf/sigmod/ReissK03           SIGMOD Conference  2003  \n",
       "journals/vldb/ClaussenKKW00              VLDB J.  2000  "
      ]
     },
     "execution_count": 55,
     "metadata": {},
     "output_type": "execute_result"
    }
   ],
   "source": [
    "titles = A6.ix[neg_samples_in_A_to_be_swapped_sample, 'title']\n",
    "authors = A6.ix[neg_samples_in_A_to_be_swapped_sample, 'authors']\n",
    "A7 = A6.copy()\n",
    "A7.ix[neg_samples_in_A_to_be_swapped_sample, 'authors'] = titles\n",
    "A7.ix[neg_samples_in_A_to_be_swapped_sample, 'title'] = authors\n",
    "A7.ix[neg_samples_in_A_to_be_swapped_sample].head()"
   ]
  },
  {
   "cell_type": "code",
   "execution_count": 58,
   "metadata": {
    "collapsed": true
   },
   "outputs": [],
   "source": [
    "em.set_key(A7, 'id')\n",
    "A7.reset_index(inplace=True, drop=True)"
   ]
  },
  {
   "cell_type": "code",
   "execution_count": 59,
   "metadata": {
    "collapsed": false
   },
   "outputs": [
    {
     "data": {
      "text/plain": [
       "True"
      ]
     },
     "execution_count": 59,
     "metadata": {},
     "output_type": "execute_result"
    }
   ],
   "source": [
    "em.to_csv_metadata(A4, 'ORIG_DBLP_ACM/dblp_sim_title_rem_title_auth_swapped_for_neg_samples_too.csv')"
   ]
  },
  {
   "cell_type": "code",
   "execution_count": 60,
   "metadata": {
    "collapsed": false
   },
   "outputs": [
    {
     "data": {
      "text/plain": [
       "300"
      ]
     },
     "execution_count": 60,
     "metadata": {},
     "output_type": "execute_result"
    }
   ],
   "source": [
    "len(d1)"
   ]
  },
  {
   "cell_type": "code",
   "execution_count": 61,
   "metadata": {
    "collapsed": true
   },
   "outputs": [],
   "source": [
    "d2 = d1[['_id', 'ltable_id', 'rtable_id']]"
   ]
  },
  {
   "cell_type": "code",
   "execution_count": 62,
   "metadata": {
    "collapsed": false
   },
   "outputs": [
    {
     "data": {
      "text/plain": [
       "(0, 75, 75, 300)"
      ]
     },
     "execution_count": 62,
     "metadata": {},
     "output_type": "execute_result"
    }
   ],
   "source": [
    "len(g1_diff_year_sampled), len(g1_same_year_not_to_be_swapped_sample), len(g1_same_year_to_be_swapped_sample), len(d2)"
   ]
  },
  {
   "cell_type": "code",
   "execution_count": 63,
   "metadata": {
    "collapsed": true
   },
   "outputs": [],
   "source": [
    "g1_diff_year_sampled_prj = g1_diff_year_sampled[['_id', 'ltable_id', 'rtable_id', 'label']]\n",
    "g1_same_year_not_to_be_swapped_sample = g1_same_year_not_to_be_swapped_sample[['_id', 'ltable_id', 'rtable_id', 'label']]\n",
    "g1_same_year_to_be_swapped_sample = g1_same_year_to_be_swapped_sample[['_id', 'ltable_id', 'rtable_id', 'label']]"
   ]
  },
  {
   "cell_type": "code",
   "execution_count": 64,
   "metadata": {
    "collapsed": false
   },
   "outputs": [
    {
     "data": {
      "text/html": [
       "<div>\n",
       "<table border=\"1\" class=\"dataframe\">\n",
       "  <thead>\n",
       "    <tr style=\"text-align: right;\">\n",
       "      <th></th>\n",
       "      <th>_id</th>\n",
       "      <th>ltable_id</th>\n",
       "      <th>rtable_id</th>\n",
       "      <th>ltable_title</th>\n",
       "      <th>ltable_authors</th>\n",
       "      <th>ltable_year</th>\n",
       "      <th>rtable_title</th>\n",
       "      <th>rtable_authors</th>\n",
       "      <th>rtable_year</th>\n",
       "    </tr>\n",
       "  </thead>\n",
       "  <tbody>\n",
       "    <tr>\n",
       "      <th>0</th>\n",
       "      <td>0</td>\n",
       "      <td>conf/sigmod/AgrawalASY97</td>\n",
       "      <td>765564</td>\n",
       "      <td>Efficient View Maintenance at Data Warehouses</td>\n",
       "      <td>Tolga Yurek, Divyakant Agrawal, Amr El Abbadi, Ambuj K. Singh</td>\n",
       "      <td>1997</td>\n",
       "      <td>Structured document storage and refined declarative and navigational access mechanisms in HyperS...</td>\n",
       "      <td>Klemens Böhm, Karl Aberer, Erich J. Neuhold, Xiaoya Yang</td>\n",
       "      <td>1997</td>\n",
       "    </tr>\n",
       "    <tr>\n",
       "      <th>28</th>\n",
       "      <td>28</td>\n",
       "      <td>journals/sigmod/BaaderJN97</td>\n",
       "      <td>253302</td>\n",
       "      <td>Intelligent Access to Heterogeneous Information Sources: Report on the 4th Workshop on Knowledge...</td>\n",
       "      <td>Manfred A. Jeusfeld, Franz Baader, Werner Nutt</td>\n",
       "      <td>1997</td>\n",
       "      <td>On saying Enough already! in SQL</td>\n",
       "      <td>Michael J. Carey, Donald Kossmann</td>\n",
       "      <td>1997</td>\n",
       "    </tr>\n",
       "    <tr>\n",
       "      <th>31</th>\n",
       "      <td>31</td>\n",
       "      <td>journals/sigmod/BaaderJN97</td>\n",
       "      <td>253366</td>\n",
       "      <td>Intelligent Access to Heterogeneous Information Sources: Report on the 4th Workshop on Knowledge...</td>\n",
       "      <td>Manfred A. Jeusfeld, Franz Baader, Werner Nutt</td>\n",
       "      <td>1997</td>\n",
       "      <td>Revisiting commit processing in distributed database systems</td>\n",
       "      <td>Ramesh Gupta, Jayant Haritsa, Krithi Ramamritham</td>\n",
       "      <td>1997</td>\n",
       "    </tr>\n",
       "    <tr>\n",
       "      <th>36</th>\n",
       "      <td>36</td>\n",
       "      <td>conf/vldb/ChatziantoniouR97</td>\n",
       "      <td>765564</td>\n",
       "      <td>Groupwise Processing of Relational Queries</td>\n",
       "      <td>Kenneth A. Ross, Damianos Chatziantoniou</td>\n",
       "      <td>1997</td>\n",
       "      <td>Structured document storage and refined declarative and navigational access mechanisms in HyperS...</td>\n",
       "      <td>Klemens Böhm, Karl Aberer, Erich J. Neuhold, Xiaoya Yang</td>\n",
       "      <td>1997</td>\n",
       "    </tr>\n",
       "    <tr>\n",
       "      <th>91</th>\n",
       "      <td>91</td>\n",
       "      <td>conf/sigmod/Chakravarthy97</td>\n",
       "      <td>671022</td>\n",
       "      <td>SENTINEL: An Object-Oriented DBMS With Event-Based Rules</td>\n",
       "      <td>Sharma Chakravarthy</td>\n",
       "      <td>1997</td>\n",
       "      <td>Effective Memory Use in a Media Server</td>\n",
       "      <td>Edward Y. Chang, Hector Garcia-Molina</td>\n",
       "      <td>1997</td>\n",
       "    </tr>\n",
       "    <tr>\n",
       "      <th>100</th>\n",
       "      <td>100</td>\n",
       "      <td>conf/sigmod/Chakravarthy97</td>\n",
       "      <td>253302</td>\n",
       "      <td>SENTINEL: An Object-Oriented DBMS With Event-Based Rules</td>\n",
       "      <td>Sharma Chakravarthy</td>\n",
       "      <td>1997</td>\n",
       "      <td>On saying Enough already! in SQL</td>\n",
       "      <td>Michael J. Carey, Donald Kossmann</td>\n",
       "      <td>1997</td>\n",
       "    </tr>\n",
       "    <tr>\n",
       "      <th>103</th>\n",
       "      <td>103</td>\n",
       "      <td>conf/sigmod/Chakravarthy97</td>\n",
       "      <td>253366</td>\n",
       "      <td>SENTINEL: An Object-Oriented DBMS With Event-Based Rules</td>\n",
       "      <td>Sharma Chakravarthy</td>\n",
       "      <td>1997</td>\n",
       "      <td>Revisiting commit processing in distributed database systems</td>\n",
       "      <td>Ramesh Gupta, Jayant Haritsa, Krithi Ramamritham</td>\n",
       "      <td>1997</td>\n",
       "    </tr>\n",
       "    <tr>\n",
       "      <th>125</th>\n",
       "      <td>125</td>\n",
       "      <td>conf/vldb/ChakrabartiDAR97</td>\n",
       "      <td>671006</td>\n",
       "      <td>Using Taxonomy, Discriminants, and Signatures for Navigating in Text Databases</td>\n",
       "      <td>Byron Dom, Rakesh Agrawal, Prabhakar Raghavan, Soumen Chakrabarti</td>\n",
       "      <td>1997</td>\n",
       "      <td>Dynamic Memory Adjustment for External Mergesort</td>\n",
       "      <td>Weiye Zhang, Per-Åke Larson</td>\n",
       "      <td>1997</td>\n",
       "    </tr>\n",
       "    <tr>\n",
       "      <th>151</th>\n",
       "      <td>151</td>\n",
       "      <td>conf/vldb/BaumannFRW97</td>\n",
       "      <td>673657</td>\n",
       "      <td>Geo/Environmental and Medical Data Management in the RasDaMan System</td>\n",
       "      <td>Norbert Widmann, Paula Furtado, Peter Baumann, Roland Ritsch</td>\n",
       "      <td>1997</td>\n",
       "      <td>Algorithms for Materialized View Design in Data Warehousing Environment</td>\n",
       "      <td>Jian Yang, Kamalakar Karlapalem, Qing Li</td>\n",
       "      <td>1997</td>\n",
       "    </tr>\n",
       "    <tr>\n",
       "      <th>154</th>\n",
       "      <td>154</td>\n",
       "      <td>conf/vldb/BaumannFRW97</td>\n",
       "      <td>253302</td>\n",
       "      <td>Geo/Environmental and Medical Data Management in the RasDaMan System</td>\n",
       "      <td>Norbert Widmann, Paula Furtado, Peter Baumann, Roland Ritsch</td>\n",
       "      <td>1997</td>\n",
       "      <td>On saying Enough already! in SQL</td>\n",
       "      <td>Michael J. Carey, Donald Kossmann</td>\n",
       "      <td>1997</td>\n",
       "    </tr>\n",
       "    <tr>\n",
       "      <th>182</th>\n",
       "      <td>182</td>\n",
       "      <td>conf/vldb/LiCHH97</td>\n",
       "      <td>262764</td>\n",
       "      <td>Facilitating Multimedia Database Exploration through Visual Interfaces and Perpetual Query Refor...</td>\n",
       "      <td>Kyoji Hirata, Yoshinori Hara, Wen-Syan Li, K. Seluk Candan</td>\n",
       "      <td>1997</td>\n",
       "      <td>Quasi-cubes: exploiting approximations in multidimensional databases</td>\n",
       "      <td>Daniel Barbará, Mark Sullivan</td>\n",
       "      <td>1997</td>\n",
       "    </tr>\n",
       "    <tr>\n",
       "      <th>191</th>\n",
       "      <td>191</td>\n",
       "      <td>conf/vldb/LiCHH97</td>\n",
       "      <td>670999</td>\n",
       "      <td>Facilitating Multimedia Database Exploration through Visual Interfaces and Perpetual Query Refor...</td>\n",
       "      <td>Kyoji Hirata, Yoshinori Hara, Wen-Syan Li, K. Seluk Candan</td>\n",
       "      <td>1997</td>\n",
       "      <td>The Microsoft Repository</td>\n",
       "      <td>Philip A. Bernstein, Brian Harry, Paul Sanders, David Shutt, Jason Zander</td>\n",
       "      <td>1997</td>\n",
       "    </tr>\n",
       "    <tr>\n",
       "      <th>195</th>\n",
       "      <td>195</td>\n",
       "      <td>conf/vldb/LiCHH97</td>\n",
       "      <td>765565</td>\n",
       "      <td>Facilitating Multimedia Database Exploration through Visual Interfaces and Perpetual Query Refor...</td>\n",
       "      <td>Kyoji Hirata, Yoshinori Hara, Wen-Syan Li, K. Seluk Candan</td>\n",
       "      <td>1997</td>\n",
       "      <td>A configurable type hierarchy index for OODB</td>\n",
       "      <td>Thomas A. Mueck, Martin L. Polaschek</td>\n",
       "      <td>1997</td>\n",
       "    </tr>\n",
       "    <tr>\n",
       "      <th>202</th>\n",
       "      <td>202</td>\n",
       "      <td>journals/sigmod/AbelTK97</td>\n",
       "      <td>262765</td>\n",
       "      <td>Integrating Modelling Systems for Environmental Management Information Systems</td>\n",
       "      <td>David J. Abel, Dean Kuo, Kerry L. Taylor</td>\n",
       "      <td>1997</td>\n",
       "      <td>OGDI: toward interoperability among geospatial databases</td>\n",
       "      <td>Gilles Clément, Christian Larouche, Denis Gouin, Paul Morin, Henry Kucera</td>\n",
       "      <td>1997</td>\n",
       "    </tr>\n",
       "    <tr>\n",
       "      <th>224</th>\n",
       "      <td>224</td>\n",
       "      <td>conf/sigmod/AdelbergGW97</td>\n",
       "      <td>670993</td>\n",
       "      <td>The STRIP Rule System For Efficiently Maintaining Derived Data</td>\n",
       "      <td>Hector Garcia-Molina, Jennifer Widom, Brad Adelberg</td>\n",
       "      <td>1997</td>\n",
       "      <td>Fast Computation of Sparse Datacubes</td>\n",
       "      <td>Kenneth A. Ross, Divesh Srivastava</td>\n",
       "      <td>1997</td>\n",
       "    </tr>\n",
       "    <tr>\n",
       "      <th>254</th>\n",
       "      <td>254</td>\n",
       "      <td>journals/tods/EiterGM97</td>\n",
       "      <td>262764</td>\n",
       "      <td>Disjunctive Datalog</td>\n",
       "      <td>Heikki Mannila, Thomas Eiter, Georg Gottlob</td>\n",
       "      <td>1997</td>\n",
       "      <td>Quasi-cubes: exploiting approximations in multidimensional databases</td>\n",
       "      <td>Daniel Barbará, Mark Sullivan</td>\n",
       "      <td>1997</td>\n",
       "    </tr>\n",
       "    <tr>\n",
       "      <th>277</th>\n",
       "      <td>277</td>\n",
       "      <td>conf/vldb/Jacobs97</td>\n",
       "      <td>673657</td>\n",
       "      <td>Innovation in Database Management: Computer Science vs. Engineering</td>\n",
       "      <td>Kenneth R. Jacobs</td>\n",
       "      <td>1997</td>\n",
       "      <td>Algorithms for Materialized View Design in Data Warehousing Environment</td>\n",
       "      <td>Jian Yang, Kamalakar Karlapalem, Qing Li</td>\n",
       "      <td>1997</td>\n",
       "    </tr>\n",
       "    <tr>\n",
       "      <th>279</th>\n",
       "      <td>279</td>\n",
       "      <td>conf/vldb/Jacobs97</td>\n",
       "      <td>262770</td>\n",
       "      <td>Innovation in Database Management: Computer Science vs. Engineering</td>\n",
       "      <td>Kenneth R. Jacobs</td>\n",
       "      <td>1997</td>\n",
       "      <td>Lore: a database management system for semistructured data</td>\n",
       "      <td>Jason McHugh, Serge Abiteboul, Roy Goldman, Dallas Quass, Jennifer Widom</td>\n",
       "      <td>1997</td>\n",
       "    </tr>\n",
       "    <tr>\n",
       "      <th>295</th>\n",
       "      <td>295</td>\n",
       "      <td>conf/vldb/BridgeJKLLM97</td>\n",
       "      <td>673657</td>\n",
       "      <td>The Oracle Universal Server Buffer</td>\n",
       "      <td>Ashok Joshi, N. MacNaughton, Juan Loaiza, M. Keihl, Tirthankar Lahiri, William Bridge</td>\n",
       "      <td>1997</td>\n",
       "      <td>Algorithms for Materialized View Design in Data Warehousing Environment</td>\n",
       "      <td>Jian Yang, Kamalakar Karlapalem, Qing Li</td>\n",
       "      <td>1997</td>\n",
       "    </tr>\n",
       "    <tr>\n",
       "      <th>305</th>\n",
       "      <td>305</td>\n",
       "      <td>conf/vldb/BridgeJKLLM97</td>\n",
       "      <td>671006</td>\n",
       "      <td>The Oracle Universal Server Buffer</td>\n",
       "      <td>Ashok Joshi, N. MacNaughton, Juan Loaiza, M. Keihl, Tirthankar Lahiri, William Bridge</td>\n",
       "      <td>1997</td>\n",
       "      <td>Dynamic Memory Adjustment for External Mergesort</td>\n",
       "      <td>Weiye Zhang, Per-Åke Larson</td>\n",
       "      <td>1997</td>\n",
       "    </tr>\n",
       "    <tr>\n",
       "      <th>308</th>\n",
       "      <td>308</td>\n",
       "      <td>conf/vldb/ShaferA97</td>\n",
       "      <td>262764</td>\n",
       "      <td>Parallel Algorithms for High-dimensional Similarity Joins for Data Mining Applications</td>\n",
       "      <td>Rakesh Agrawal, John C. Shafer</td>\n",
       "      <td>1997</td>\n",
       "      <td>Quasi-cubes: exploiting approximations in multidimensional databases</td>\n",
       "      <td>Daniel Barbará, Mark Sullivan</td>\n",
       "      <td>1997</td>\n",
       "    </tr>\n",
       "    <tr>\n",
       "      <th>329</th>\n",
       "      <td>329</td>\n",
       "      <td>conf/vldb/ChaudhuriG99</td>\n",
       "      <td>304206</td>\n",
       "      <td>Evaluating Top-k Selection Queries</td>\n",
       "      <td>Luis Gravano, Surajit Chaudhuri</td>\n",
       "      <td>1999</td>\n",
       "      <td>On random sampling over joins</td>\n",
       "      <td>Surajit Chaudhuri, Rajeev Motwani, Vivek Narasayya</td>\n",
       "      <td>1999</td>\n",
       "    </tr>\n",
       "    <tr>\n",
       "      <th>330</th>\n",
       "      <td>330</td>\n",
       "      <td>conf/vldb/ChaudhuriG99</td>\n",
       "      <td>304192</td>\n",
       "      <td>Evaluating Top-k Selection Queries</td>\n",
       "      <td>Luis Gravano, Surajit Chaudhuri</td>\n",
       "      <td>1999</td>\n",
       "      <td>Belief reasoning in MLS deductive databases</td>\n",
       "      <td>Hasan M. Jamil</td>\n",
       "      <td>1999</td>\n",
       "    </tr>\n",
       "    <tr>\n",
       "      <th>336</th>\n",
       "      <td>336</td>\n",
       "      <td>conf/vldb/ChaudhuriG99</td>\n",
       "      <td>344839</td>\n",
       "      <td>Evaluating Top-k Selection Queries</td>\n",
       "      <td>Luis Gravano, Surajit Chaudhuri</td>\n",
       "      <td>1999</td>\n",
       "      <td>Timer-driven database triggers and alerters: semantics and a challenge</td>\n",
       "      <td>Eric N. Hanson, Lloyd X. Noronha</td>\n",
       "      <td>1999</td>\n",
       "    </tr>\n",
       "    <tr>\n",
       "      <th>341</th>\n",
       "      <td>341</td>\n",
       "      <td>conf/vldb/ChaudhuriG99</td>\n",
       "      <td>304212</td>\n",
       "      <td>Evaluating Top-k Selection Queries</td>\n",
       "      <td>Luis Gravano, Surajit Chaudhuri</td>\n",
       "      <td>1999</td>\n",
       "      <td>Mind your vocabulary: query mapping across heterogeneous information sources</td>\n",
       "      <td>Chen-Chuan K. Chang, Héctor García-Molina</td>\n",
       "      <td>1999</td>\n",
       "    </tr>\n",
       "    <tr>\n",
       "      <th>345</th>\n",
       "      <td>345</td>\n",
       "      <td>conf/vldb/ChaudhuriG99</td>\n",
       "      <td>671503</td>\n",
       "      <td>Evaluating Top-k Selection Queries</td>\n",
       "      <td>Luis Gravano, Surajit Chaudhuri</td>\n",
       "      <td>1999</td>\n",
       "      <td>PM3: An Orthogonal Persistent Systems Programming Language - Design, Implementation, Performance</td>\n",
       "      <td>Antony L. Hosking, Jiawan Chen</td>\n",
       "      <td>1999</td>\n",
       "    </tr>\n",
       "    <tr>\n",
       "      <th>386</th>\n",
       "      <td>386</td>\n",
       "      <td>conf/vldb/VriesDBA99</td>\n",
       "      <td>671490</td>\n",
       "      <td>The Mirror MMDBMS Architecture</td>\n",
       "      <td>Mark G. L. M. van Doorn, Arjen P. de Vries, Henk M. Blanken, Peter M. G. Apers</td>\n",
       "      <td>1999</td>\n",
       "      <td>In Cyber Space No One can Hear You Scream</td>\n",
       "      <td>Chris Pound</td>\n",
       "      <td>1999</td>\n",
       "    </tr>\n",
       "    <tr>\n",
       "      <th>390</th>\n",
       "      <td>390</td>\n",
       "      <td>conf/vldb/VriesDBA99</td>\n",
       "      <td>310060</td>\n",
       "      <td>The Mirror MMDBMS Architecture</td>\n",
       "      <td>Mark G. L. M. van Doorn, Arjen P. de Vries, Henk M. Blanken, Peter M. G. Apers</td>\n",
       "      <td>1999</td>\n",
       "      <td>Agent-based semantic interoperability in infosleuth</td>\n",
       "      <td>Jerry Fowler, Brad Perry, Marian Nodine, Bruce Bargmeyer</td>\n",
       "      <td>1999</td>\n",
       "    </tr>\n",
       "    <tr>\n",
       "      <th>415</th>\n",
       "      <td>415</td>\n",
       "      <td>conf/sigmod/Ozsu99</td>\n",
       "      <td>671504</td>\n",
       "      <td>Data Management Issues in Electronic Commerce (Panel)</td>\n",
       "      <td>M. Tamer zsu</td>\n",
       "      <td>1999</td>\n",
       "      <td>Exploiting Versions for Handling Updates in Broadcast Disks</td>\n",
       "      <td>Evaggelia Pitoura, Panos K. Chrysanthis</td>\n",
       "      <td>1999</td>\n",
       "    </tr>\n",
       "    <tr>\n",
       "      <th>424</th>\n",
       "      <td>424</td>\n",
       "      <td>conf/sigmod/Hidber99</td>\n",
       "      <td>304570</td>\n",
       "      <td>Online Association Rule Mining</td>\n",
       "      <td>Christian Hidber</td>\n",
       "      <td>1999</td>\n",
       "      <td>An XJML-based wrapper generator for Web information extraction</td>\n",
       "      <td>Ling Liu, Wei Han, David Buttler, Calton Pu, Wei Tang</td>\n",
       "      <td>1999</td>\n",
       "    </tr>\n",
       "    <tr>\n",
       "      <th>...</th>\n",
       "      <td>...</td>\n",
       "      <td>...</td>\n",
       "      <td>...</td>\n",
       "      <td>...</td>\n",
       "      <td>...</td>\n",
       "      <td>...</td>\n",
       "      <td>...</td>\n",
       "      <td>...</td>\n",
       "      <td>...</td>\n",
       "    </tr>\n",
       "    <tr>\n",
       "      <th>4719</th>\n",
       "      <td>4719</td>\n",
       "      <td>journals/tods/LitwinN96</td>\n",
       "      <td>233351</td>\n",
       "      <td>LH* - A Scalable, Distributed Data Structure</td>\n",
       "      <td>Donovan A. Schneider, Marie-Anne Neimat, Witold Litwin</td>\n",
       "      <td>1996</td>\n",
       "      <td>Goal-oriented buffer management revisited</td>\n",
       "      <td>Kurt P. Brown, Michael J. Carey, Miron Livny</td>\n",
       "      <td>1996</td>\n",
       "    </tr>\n",
       "    <tr>\n",
       "      <th>4721</th>\n",
       "      <td>4721</td>\n",
       "      <td>journals/tods/LitwinN96</td>\n",
       "      <td>673628</td>\n",
       "      <td>LH* - A Scalable, Distributed Data Structure</td>\n",
       "      <td>Donovan A. Schneider, Marie-Anne Neimat, Witold Litwin</td>\n",
       "      <td>1996</td>\n",
       "      <td>Querying Multiple Features of Groups in Relational Databases</td>\n",
       "      <td>Damianos Chatziantoniou, Kenneth A. Ross</td>\n",
       "      <td>1996</td>\n",
       "    </tr>\n",
       "    <tr>\n",
       "      <th>4722</th>\n",
       "      <td>4722</td>\n",
       "      <td>journals/tods/LitwinN96</td>\n",
       "      <td>381900</td>\n",
       "      <td>LH* - A Scalable, Distributed Data Structure</td>\n",
       "      <td>Donovan A. Schneider, Marie-Anne Neimat, Witold Litwin</td>\n",
       "      <td>1996</td>\n",
       "      <td>MQseries and CICS link for Lotus Notes</td>\n",
       "      <td>Lotus Development Corp.</td>\n",
       "      <td>1996</td>\n",
       "    </tr>\n",
       "    <tr>\n",
       "      <th>4729</th>\n",
       "      <td>4729</td>\n",
       "      <td>journals/vldb/StonebrakerALPSSSY96</td>\n",
       "      <td>233337</td>\n",
       "      <td>Mariposa: A Wide-Area Distributed Database System</td>\n",
       "      <td>Carl Staelin, Paul M. Aoki, Witold Litwin, Michael Stonebraker, Adam Sah, Jeff Sidell, Andrew Yu...</td>\n",
       "      <td>1996</td>\n",
       "      <td>Spatial hash-joins</td>\n",
       "      <td>Ming-Ling Lo, Chinya V. Ravishankar</td>\n",
       "      <td>1996</td>\n",
       "    </tr>\n",
       "    <tr>\n",
       "      <th>4732</th>\n",
       "      <td>4732</td>\n",
       "      <td>journals/vldb/StonebrakerALPSSSY96</td>\n",
       "      <td>233362</td>\n",
       "      <td>Mariposa: A Wide-Area Distributed Database System</td>\n",
       "      <td>Carl Staelin, Paul M. Aoki, Witold Litwin, Michael Stonebraker, Adam Sah, Jeff Sidell, Andrew Yu...</td>\n",
       "      <td>1996</td>\n",
       "      <td>Maintaining database consistency in presence of value dependencies in multidatabase systems</td>\n",
       "      <td>Claire Morpain, Michéle Cart, Jean Ferrié, Jean-François Pons</td>\n",
       "      <td>1996</td>\n",
       "    </tr>\n",
       "    <tr>\n",
       "      <th>4737</th>\n",
       "      <td>4737</td>\n",
       "      <td>journals/vldb/StonebrakerALPSSSY96</td>\n",
       "      <td>381870</td>\n",
       "      <td>Mariposa: A Wide-Area Distributed Database System</td>\n",
       "      <td>Carl Staelin, Paul M. Aoki, Witold Litwin, Michael Stonebraker, Adam Sah, Jeff Sidell, Andrew Yu...</td>\n",
       "      <td>1996</td>\n",
       "      <td>Real-time index concurrency control</td>\n",
       "      <td>Jayant R. Haritsa, S. Seshadri</td>\n",
       "      <td>1996</td>\n",
       "    </tr>\n",
       "    <tr>\n",
       "      <th>4741</th>\n",
       "      <td>4741</td>\n",
       "      <td>journals/vldb/StonebrakerALPSSSY96</td>\n",
       "      <td>381900</td>\n",
       "      <td>Mariposa: A Wide-Area Distributed Database System</td>\n",
       "      <td>Carl Staelin, Paul M. Aoki, Witold Litwin, Michael Stonebraker, Adam Sah, Jeff Sidell, Andrew Yu...</td>\n",
       "      <td>1996</td>\n",
       "      <td>MQseries and CICS link for Lotus Notes</td>\n",
       "      <td>Lotus Development Corp.</td>\n",
       "      <td>1996</td>\n",
       "    </tr>\n",
       "    <tr>\n",
       "      <th>4748</th>\n",
       "      <td>4748</td>\n",
       "      <td>conf/sigmod/FukudaMMT96</td>\n",
       "      <td>233337</td>\n",
       "      <td>Data Mining Using Two-Dimensional Optimized Accociation Rules: Scheme, Algorithms, and Visualiza...</td>\n",
       "      <td>Shinichi Morishita, Yasuhiko Morimoto, Takeshi Tokuyama, Takeshi Fukuda</td>\n",
       "      <td>1996</td>\n",
       "      <td>Spatial hash-joins</td>\n",
       "      <td>Ming-Ling Lo, Chinya V. Ravishankar</td>\n",
       "      <td>1996</td>\n",
       "    </tr>\n",
       "    <tr>\n",
       "      <th>4787</th>\n",
       "      <td>4787</td>\n",
       "      <td>conf/vldb/SevcikK96</td>\n",
       "      <td>280348</td>\n",
       "      <td>Filter Trees for Managing Spatial Data over a Range of Size Granularities</td>\n",
       "      <td>Kenneth C. Sevcik, Nick Koudas</td>\n",
       "      <td>1996</td>\n",
       "      <td>Repository system engineering</td>\n",
       "      <td>Pillip A. Bernstein</td>\n",
       "      <td>1996</td>\n",
       "    </tr>\n",
       "    <tr>\n",
       "      <th>4800</th>\n",
       "      <td>4800</td>\n",
       "      <td>conf/vldb/SevcikK96</td>\n",
       "      <td>765803</td>\n",
       "      <td>Filter Trees for Managing Spatial Data over a Range of Size Granularities</td>\n",
       "      <td>Kenneth C. Sevcik, Nick Koudas</td>\n",
       "      <td>1996</td>\n",
       "      <td>A complete temporal relational algebra</td>\n",
       "      <td>Debabrata Dey, Terence M. Barron, Veda C. Storey</td>\n",
       "      <td>1996</td>\n",
       "    </tr>\n",
       "    <tr>\n",
       "      <th>4813</th>\n",
       "      <td>4813</td>\n",
       "      <td>journals/sigmod/Darwen96</td>\n",
       "      <td>381870</td>\n",
       "      <td>In Reply to Domains, relations and Religious Wars</td>\n",
       "      <td>Hugh Darwen</td>\n",
       "      <td>1996</td>\n",
       "      <td>Real-time index concurrency control</td>\n",
       "      <td>Jayant R. Haritsa, S. Seshadri</td>\n",
       "      <td>1996</td>\n",
       "    </tr>\n",
       "    <tr>\n",
       "      <th>4822</th>\n",
       "      <td>4822</td>\n",
       "      <td>journals/sigmod/Darwen96</td>\n",
       "      <td>756664</td>\n",
       "      <td>In Reply to Domains, relations and Religious Wars</td>\n",
       "      <td>Hugh Darwen</td>\n",
       "      <td>1996</td>\n",
       "      <td>Large Databases for Remote Sensing and GIS</td>\n",
       "      <td>A. R. Dasgupta</td>\n",
       "      <td>1996</td>\n",
       "    </tr>\n",
       "    <tr>\n",
       "      <th>4828</th>\n",
       "      <td>4828</td>\n",
       "      <td>journals/sigmod/FreemanG96</td>\n",
       "      <td>280357</td>\n",
       "      <td>Lifestreams: A Storage Model for Personal Data</td>\n",
       "      <td>Eric Freeman, David Gelernter</td>\n",
       "      <td>1996</td>\n",
       "      <td>prospector: a content-based multimedia server for massively parallel architectures</td>\n",
       "      <td>S. Choo, W. O'Connell, G. Linerman, H. Chen, K. Ganapathy, A. Biliris, E. Panagos, D. Schrader</td>\n",
       "      <td>1996</td>\n",
       "    </tr>\n",
       "    <tr>\n",
       "      <th>4855</th>\n",
       "      <td>4855</td>\n",
       "      <td>journals/sigmod/ZobelMR96</td>\n",
       "      <td>381900</td>\n",
       "      <td>Guidelines for Presentation and Comparison of Indexing Techniques</td>\n",
       "      <td>Kotagiri Ramamohanarao, Alistair Moffat, Justin Zobel</td>\n",
       "      <td>1996</td>\n",
       "      <td>MQseries and CICS link for Lotus Notes</td>\n",
       "      <td>Lotus Development Corp.</td>\n",
       "      <td>1996</td>\n",
       "    </tr>\n",
       "    <tr>\n",
       "      <th>4868</th>\n",
       "      <td>4868</td>\n",
       "      <td>conf/sigmod/FukudaMMT96a</td>\n",
       "      <td>673502</td>\n",
       "      <td>SONAR: System for Optimized Numeric AssociationRules</td>\n",
       "      <td>Takeshi Tokuyama, Takeshi Fukuda, Yasuhiko Morimoto, Shinichi Morishita</td>\n",
       "      <td>1996</td>\n",
       "      <td>The X-tree: An Index Structure for High-Dimensional Data</td>\n",
       "      <td>Stefan Berchtold, Daniel A. Keim, Hans-Peter Kriegel</td>\n",
       "      <td>1996</td>\n",
       "    </tr>\n",
       "    <tr>\n",
       "      <th>4879</th>\n",
       "      <td>4879</td>\n",
       "      <td>conf/sigmod/FukudaMMT96a</td>\n",
       "      <td>756664</td>\n",
       "      <td>SONAR: System for Optimized Numeric AssociationRules</td>\n",
       "      <td>Takeshi Tokuyama, Takeshi Fukuda, Yasuhiko Morimoto, Shinichi Morishita</td>\n",
       "      <td>1996</td>\n",
       "      <td>Large Databases for Remote Sensing and GIS</td>\n",
       "      <td>A. R. Dasgupta</td>\n",
       "      <td>1996</td>\n",
       "    </tr>\n",
       "    <tr>\n",
       "      <th>4886</th>\n",
       "      <td>4886</td>\n",
       "      <td>conf/vldb/Malaika96</td>\n",
       "      <td>234896</td>\n",
       "      <td>Database Management Systems and the Internet</td>\n",
       "      <td>Susan Malaika</td>\n",
       "      <td>1996</td>\n",
       "      <td>The active database management system manifesto: a rulebase of ADBMS features</td>\n",
       "      <td>Corporate Act-Net Consortium</td>\n",
       "      <td>1996</td>\n",
       "    </tr>\n",
       "    <tr>\n",
       "      <th>4890</th>\n",
       "      <td>4890</td>\n",
       "      <td>conf/vldb/Malaika96</td>\n",
       "      <td>233351</td>\n",
       "      <td>Database Management Systems and the Internet</td>\n",
       "      <td>Susan Malaika</td>\n",
       "      <td>1996</td>\n",
       "      <td>Goal-oriented buffer management revisited</td>\n",
       "      <td>Kurt P. Brown, Michael J. Carey, Miron Livny</td>\n",
       "      <td>1996</td>\n",
       "    </tr>\n",
       "    <tr>\n",
       "      <th>4945</th>\n",
       "      <td>4945</td>\n",
       "      <td>journals/vldb/TsatalosSI96</td>\n",
       "      <td>234894</td>\n",
       "      <td>The GMAP: A Versatile Tool for Physical Data Independence</td>\n",
       "      <td>Yannis E. Ioannidis, Marvin H. Solomon, Odysseas G. Tsatalos</td>\n",
       "      <td>1996</td>\n",
       "      <td>Open issues in parallel query optimization</td>\n",
       "      <td>Waqar Hasan, Daniela Florescu, Patrick Valduriez</td>\n",
       "      <td>1996</td>\n",
       "    </tr>\n",
       "    <tr>\n",
       "      <th>4961</th>\n",
       "      <td>4961</td>\n",
       "      <td>conf/vldb/FukudaMMT96</td>\n",
       "      <td>280357</td>\n",
       "      <td>Constructing Efficient Decision Trees by Using Optimized Numeric Association Rules</td>\n",
       "      <td>Takeshi Fukuda, Yasuhiko Morimoto, Takeshi Tokuyama, Shinichi Morishita</td>\n",
       "      <td>1996</td>\n",
       "      <td>prospector: a content-based multimedia server for massively parallel architectures</td>\n",
       "      <td>S. Choo, W. O'Connell, G. Linerman, H. Chen, K. Ganapathy, A. Biliris, E. Panagos, D. Schrader</td>\n",
       "      <td>1996</td>\n",
       "    </tr>\n",
       "    <tr>\n",
       "      <th>4978</th>\n",
       "      <td>4978</td>\n",
       "      <td>conf/sigmod/FranklinJK96</td>\n",
       "      <td>280360</td>\n",
       "      <td>Performance Tradeoffs for Client-Server Query Processing</td>\n",
       "      <td>Donald Kossmann, Michael J. Franklin, Bjrn r Jnsson</td>\n",
       "      <td>1996</td>\n",
       "      <td>CapBasED-AMS: a capability-based and event-driven activity management system</td>\n",
       "      <td>Patrick C. K. Hung, Helen P. Yeung, Kamalakar Karlapalem</td>\n",
       "      <td>1996</td>\n",
       "    </tr>\n",
       "    <tr>\n",
       "      <th>4980</th>\n",
       "      <td>4980</td>\n",
       "      <td>conf/sigmod/FranklinJK96</td>\n",
       "      <td>280357</td>\n",
       "      <td>Performance Tradeoffs for Client-Server Query Processing</td>\n",
       "      <td>Donald Kossmann, Michael J. Franklin, Bjrn r Jnsson</td>\n",
       "      <td>1996</td>\n",
       "      <td>prospector: a content-based multimedia server for massively parallel architectures</td>\n",
       "      <td>S. Choo, W. O'Connell, G. Linerman, H. Chen, K. Ganapathy, A. Biliris, E. Panagos, D. Schrader</td>\n",
       "      <td>1996</td>\n",
       "    </tr>\n",
       "    <tr>\n",
       "      <th>4981</th>\n",
       "      <td>4981</td>\n",
       "      <td>conf/sigmod/FranklinJK96</td>\n",
       "      <td>234896</td>\n",
       "      <td>Performance Tradeoffs for Client-Server Query Processing</td>\n",
       "      <td>Donald Kossmann, Michael J. Franklin, Bjrn r Jnsson</td>\n",
       "      <td>1996</td>\n",
       "      <td>The active database management system manifesto: a rulebase of ADBMS features</td>\n",
       "      <td>Corporate Act-Net Consortium</td>\n",
       "      <td>1996</td>\n",
       "    </tr>\n",
       "    <tr>\n",
       "      <th>5017</th>\n",
       "      <td>5017</td>\n",
       "      <td>journals/vldb/AntoshenkovZ96</td>\n",
       "      <td>233362</td>\n",
       "      <td>Query Processing and Optimization in Oracle Rdb</td>\n",
       "      <td>Gennady Antoshenkov, Mohamed Ziauddin</td>\n",
       "      <td>1996</td>\n",
       "      <td>Maintaining database consistency in presence of value dependencies in multidatabase systems</td>\n",
       "      <td>Claire Morpain, Michéle Cart, Jean Ferrié, Jean-François Pons</td>\n",
       "      <td>1996</td>\n",
       "    </tr>\n",
       "    <tr>\n",
       "      <th>5051</th>\n",
       "      <td>5051</td>\n",
       "      <td>journals/sigmod/DAndreaJ96</td>\n",
       "      <td>234895</td>\n",
       "      <td>UniSQL's Next-Generation Object-Relational Database Management System</td>\n",
       "      <td>Phil Janus, Albert D'Andrea</td>\n",
       "      <td>1996</td>\n",
       "      <td>Control strategies for complex relational query processing in shared nothing systems</td>\n",
       "      <td>Lionel Brunie, Harald Kosch</td>\n",
       "      <td>1996</td>\n",
       "    </tr>\n",
       "    <tr>\n",
       "      <th>5056</th>\n",
       "      <td>5056</td>\n",
       "      <td>journals/sigmod/DAndreaJ96</td>\n",
       "      <td>280357</td>\n",
       "      <td>UniSQL's Next-Generation Object-Relational Database Management System</td>\n",
       "      <td>Phil Janus, Albert D'Andrea</td>\n",
       "      <td>1996</td>\n",
       "      <td>prospector: a content-based multimedia server for massively parallel architectures</td>\n",
       "      <td>S. Choo, W. O'Connell, G. Linerman, H. Chen, K. Ganapathy, A. Biliris, E. Panagos, D. Schrader</td>\n",
       "      <td>1996</td>\n",
       "    </tr>\n",
       "    <tr>\n",
       "      <th>5061</th>\n",
       "      <td>5061</td>\n",
       "      <td>journals/sigmod/DAndreaJ96</td>\n",
       "      <td>233351</td>\n",
       "      <td>UniSQL's Next-Generation Object-Relational Database Management System</td>\n",
       "      <td>Phil Janus, Albert D'Andrea</td>\n",
       "      <td>1996</td>\n",
       "      <td>Goal-oriented buffer management revisited</td>\n",
       "      <td>Kurt P. Brown, Michael J. Carey, Miron Livny</td>\n",
       "      <td>1996</td>\n",
       "    </tr>\n",
       "    <tr>\n",
       "      <th>5109</th>\n",
       "      <td>5109</td>\n",
       "      <td>journals/sigmod/KennedyMB96</td>\n",
       "      <td>233337</td>\n",
       "      <td>A Framework for Information Visualisation</td>\n",
       "      <td>Peter J. Barclay, Kenneth J. Mitchell, Jessie B. Kennedy</td>\n",
       "      <td>1996</td>\n",
       "      <td>Spatial hash-joins</td>\n",
       "      <td>Ming-Ling Lo, Chinya V. Ravishankar</td>\n",
       "      <td>1996</td>\n",
       "    </tr>\n",
       "    <tr>\n",
       "      <th>5118</th>\n",
       "      <td>5118</td>\n",
       "      <td>journals/sigmod/KennedyMB96</td>\n",
       "      <td>233351</td>\n",
       "      <td>A Framework for Information Visualisation</td>\n",
       "      <td>Peter J. Barclay, Kenneth J. Mitchell, Jessie B. Kennedy</td>\n",
       "      <td>1996</td>\n",
       "      <td>Goal-oriented buffer management revisited</td>\n",
       "      <td>Kurt P. Brown, Michael J. Carey, Miron Livny</td>\n",
       "      <td>1996</td>\n",
       "    </tr>\n",
       "    <tr>\n",
       "      <th>5161</th>\n",
       "      <td>5161</td>\n",
       "      <td>conf/sigmod/SelfridgeSW96</td>\n",
       "      <td>765803</td>\n",
       "      <td>IDEA: Interactive Data Exploration and Analysis</td>\n",
       "      <td>Lynn O. Wilson, Peter G. Selfridge, Divesh Srivastava</td>\n",
       "      <td>1996</td>\n",
       "      <td>A complete temporal relational algebra</td>\n",
       "      <td>Debabrata Dey, Terence M. Barron, Veda C. Storey</td>\n",
       "      <td>1996</td>\n",
       "    </tr>\n",
       "  </tbody>\n",
       "</table>\n",
       "<p>300 rows × 9 columns</p>\n",
       "</div>"
      ],
      "text/plain": [
       "       _id                           ltable_id rtable_id  \\\n",
       "0        0            conf/sigmod/AgrawalASY97    765564   \n",
       "28      28          journals/sigmod/BaaderJN97    253302   \n",
       "31      31          journals/sigmod/BaaderJN97    253366   \n",
       "36      36         conf/vldb/ChatziantoniouR97    765564   \n",
       "91      91          conf/sigmod/Chakravarthy97    671022   \n",
       "100    100          conf/sigmod/Chakravarthy97    253302   \n",
       "103    103          conf/sigmod/Chakravarthy97    253366   \n",
       "125    125          conf/vldb/ChakrabartiDAR97    671006   \n",
       "151    151              conf/vldb/BaumannFRW97    673657   \n",
       "154    154              conf/vldb/BaumannFRW97    253302   \n",
       "182    182                   conf/vldb/LiCHH97    262764   \n",
       "191    191                   conf/vldb/LiCHH97    670999   \n",
       "195    195                   conf/vldb/LiCHH97    765565   \n",
       "202    202            journals/sigmod/AbelTK97    262765   \n",
       "224    224            conf/sigmod/AdelbergGW97    670993   \n",
       "254    254             journals/tods/EiterGM97    262764   \n",
       "277    277                  conf/vldb/Jacobs97    673657   \n",
       "279    279                  conf/vldb/Jacobs97    262770   \n",
       "295    295             conf/vldb/BridgeJKLLM97    673657   \n",
       "305    305             conf/vldb/BridgeJKLLM97    671006   \n",
       "308    308                 conf/vldb/ShaferA97    262764   \n",
       "329    329              conf/vldb/ChaudhuriG99    304206   \n",
       "330    330              conf/vldb/ChaudhuriG99    304192   \n",
       "336    336              conf/vldb/ChaudhuriG99    344839   \n",
       "341    341              conf/vldb/ChaudhuriG99    304212   \n",
       "345    345              conf/vldb/ChaudhuriG99    671503   \n",
       "386    386                conf/vldb/VriesDBA99    671490   \n",
       "390    390                conf/vldb/VriesDBA99    310060   \n",
       "415    415                  conf/sigmod/Ozsu99    671504   \n",
       "424    424                conf/sigmod/Hidber99    304570   \n",
       "...    ...                                 ...       ...   \n",
       "4719  4719             journals/tods/LitwinN96    233351   \n",
       "4721  4721             journals/tods/LitwinN96    673628   \n",
       "4722  4722             journals/tods/LitwinN96    381900   \n",
       "4729  4729  journals/vldb/StonebrakerALPSSSY96    233337   \n",
       "4732  4732  journals/vldb/StonebrakerALPSSSY96    233362   \n",
       "4737  4737  journals/vldb/StonebrakerALPSSSY96    381870   \n",
       "4741  4741  journals/vldb/StonebrakerALPSSSY96    381900   \n",
       "4748  4748             conf/sigmod/FukudaMMT96    233337   \n",
       "4787  4787                 conf/vldb/SevcikK96    280348   \n",
       "4800  4800                 conf/vldb/SevcikK96    765803   \n",
       "4813  4813            journals/sigmod/Darwen96    381870   \n",
       "4822  4822            journals/sigmod/Darwen96    756664   \n",
       "4828  4828          journals/sigmod/FreemanG96    280357   \n",
       "4855  4855           journals/sigmod/ZobelMR96    381900   \n",
       "4868  4868            conf/sigmod/FukudaMMT96a    673502   \n",
       "4879  4879            conf/sigmod/FukudaMMT96a    756664   \n",
       "4886  4886                 conf/vldb/Malaika96    234896   \n",
       "4890  4890                 conf/vldb/Malaika96    233351   \n",
       "4945  4945          journals/vldb/TsatalosSI96    234894   \n",
       "4961  4961               conf/vldb/FukudaMMT96    280357   \n",
       "4978  4978            conf/sigmod/FranklinJK96    280360   \n",
       "4980  4980            conf/sigmod/FranklinJK96    280357   \n",
       "4981  4981            conf/sigmod/FranklinJK96    234896   \n",
       "5017  5017        journals/vldb/AntoshenkovZ96    233362   \n",
       "5051  5051          journals/sigmod/DAndreaJ96    234895   \n",
       "5056  5056          journals/sigmod/DAndreaJ96    280357   \n",
       "5061  5061          journals/sigmod/DAndreaJ96    233351   \n",
       "5109  5109         journals/sigmod/KennedyMB96    233337   \n",
       "5118  5118         journals/sigmod/KennedyMB96    233351   \n",
       "5161  5161           conf/sigmod/SelfridgeSW96    765803   \n",
       "\n",
       "                                                                                             ltable_title  \\\n",
       "0                                                           Efficient View Maintenance at Data Warehouses   \n",
       "28    Intelligent Access to Heterogeneous Information Sources: Report on the 4th Workshop on Knowledge...   \n",
       "31    Intelligent Access to Heterogeneous Information Sources: Report on the 4th Workshop on Knowledge...   \n",
       "36                                                             Groupwise Processing of Relational Queries   \n",
       "91                                               SENTINEL: An Object-Oriented DBMS With Event-Based Rules   \n",
       "100                                              SENTINEL: An Object-Oriented DBMS With Event-Based Rules   \n",
       "103                                              SENTINEL: An Object-Oriented DBMS With Event-Based Rules   \n",
       "125                        Using Taxonomy, Discriminants, and Signatures for Navigating in Text Databases   \n",
       "151                                  Geo/Environmental and Medical Data Management in the RasDaMan System   \n",
       "154                                  Geo/Environmental and Medical Data Management in the RasDaMan System   \n",
       "182   Facilitating Multimedia Database Exploration through Visual Interfaces and Perpetual Query Refor...   \n",
       "191   Facilitating Multimedia Database Exploration through Visual Interfaces and Perpetual Query Refor...   \n",
       "195   Facilitating Multimedia Database Exploration through Visual Interfaces and Perpetual Query Refor...   \n",
       "202                        Integrating Modelling Systems for Environmental Management Information Systems   \n",
       "224                                        The STRIP Rule System For Efficiently Maintaining Derived Data   \n",
       "254                                                                                   Disjunctive Datalog   \n",
       "277                                   Innovation in Database Management: Computer Science vs. Engineering   \n",
       "279                                   Innovation in Database Management: Computer Science vs. Engineering   \n",
       "295                                                                    The Oracle Universal Server Buffer   \n",
       "305                                                                    The Oracle Universal Server Buffer   \n",
       "308                Parallel Algorithms for High-dimensional Similarity Joins for Data Mining Applications   \n",
       "329                                                                    Evaluating Top-k Selection Queries   \n",
       "330                                                                    Evaluating Top-k Selection Queries   \n",
       "336                                                                    Evaluating Top-k Selection Queries   \n",
       "341                                                                    Evaluating Top-k Selection Queries   \n",
       "345                                                                    Evaluating Top-k Selection Queries   \n",
       "386                                                                        The Mirror MMDBMS Architecture   \n",
       "390                                                                        The Mirror MMDBMS Architecture   \n",
       "415                                                 Data Management Issues in Electronic Commerce (Panel)   \n",
       "424                                                                        Online Association Rule Mining   \n",
       "...                                                                                                   ...   \n",
       "4719                                                         LH* - A Scalable, Distributed Data Structure   \n",
       "4721                                                         LH* - A Scalable, Distributed Data Structure   \n",
       "4722                                                         LH* - A Scalable, Distributed Data Structure   \n",
       "4729                                                    Mariposa: A Wide-Area Distributed Database System   \n",
       "4732                                                    Mariposa: A Wide-Area Distributed Database System   \n",
       "4737                                                    Mariposa: A Wide-Area Distributed Database System   \n",
       "4741                                                    Mariposa: A Wide-Area Distributed Database System   \n",
       "4748  Data Mining Using Two-Dimensional Optimized Accociation Rules: Scheme, Algorithms, and Visualiza...   \n",
       "4787                            Filter Trees for Managing Spatial Data over a Range of Size Granularities   \n",
       "4800                            Filter Trees for Managing Spatial Data over a Range of Size Granularities   \n",
       "4813                                                    In Reply to Domains, relations and Religious Wars   \n",
       "4822                                                    In Reply to Domains, relations and Religious Wars   \n",
       "4828                                                       Lifestreams: A Storage Model for Personal Data   \n",
       "4855                                    Guidelines for Presentation and Comparison of Indexing Techniques   \n",
       "4868                                                 SONAR: System for Optimized Numeric AssociationRules   \n",
       "4879                                                 SONAR: System for Optimized Numeric AssociationRules   \n",
       "4886                                                         Database Management Systems and the Internet   \n",
       "4890                                                         Database Management Systems and the Internet   \n",
       "4945                                            The GMAP: A Versatile Tool for Physical Data Independence   \n",
       "4961                   Constructing Efficient Decision Trees by Using Optimized Numeric Association Rules   \n",
       "4978                                             Performance Tradeoffs for Client-Server Query Processing   \n",
       "4980                                             Performance Tradeoffs for Client-Server Query Processing   \n",
       "4981                                             Performance Tradeoffs for Client-Server Query Processing   \n",
       "5017                                                      Query Processing and Optimization in Oracle Rdb   \n",
       "5051                                UniSQL's Next-Generation Object-Relational Database Management System   \n",
       "5056                                UniSQL's Next-Generation Object-Relational Database Management System   \n",
       "5061                                UniSQL's Next-Generation Object-Relational Database Management System   \n",
       "5109                                                            A Framework for Information Visualisation   \n",
       "5118                                                            A Framework for Information Visualisation   \n",
       "5161                                                      IDEA: Interactive Data Exploration and Analysis   \n",
       "\n",
       "                                                                                           ltable_authors  \\\n",
       "0                                           Tolga Yurek, Divyakant Agrawal, Amr El Abbadi, Ambuj K. Singh   \n",
       "28                                                         Manfred A. Jeusfeld, Franz Baader, Werner Nutt   \n",
       "31                                                         Manfred A. Jeusfeld, Franz Baader, Werner Nutt   \n",
       "36                                                               Kenneth A. Ross, Damianos Chatziantoniou   \n",
       "91                                                                                    Sharma Chakravarthy   \n",
       "100                                                                                   Sharma Chakravarthy   \n",
       "103                                                                                   Sharma Chakravarthy   \n",
       "125                                     Byron Dom, Rakesh Agrawal, Prabhakar Raghavan, Soumen Chakrabarti   \n",
       "151                                          Norbert Widmann, Paula Furtado, Peter Baumann, Roland Ritsch   \n",
       "154                                          Norbert Widmann, Paula Furtado, Peter Baumann, Roland Ritsch   \n",
       "182                                            Kyoji Hirata, Yoshinori Hara, Wen-Syan Li, K. Seluk Candan   \n",
       "191                                            Kyoji Hirata, Yoshinori Hara, Wen-Syan Li, K. Seluk Candan   \n",
       "195                                            Kyoji Hirata, Yoshinori Hara, Wen-Syan Li, K. Seluk Candan   \n",
       "202                                                              David J. Abel, Dean Kuo, Kerry L. Taylor   \n",
       "224                                                   Hector Garcia-Molina, Jennifer Widom, Brad Adelberg   \n",
       "254                                                           Heikki Mannila, Thomas Eiter, Georg Gottlob   \n",
       "277                                                                                     Kenneth R. Jacobs   \n",
       "279                                                                                     Kenneth R. Jacobs   \n",
       "295                 Ashok Joshi, N. MacNaughton, Juan Loaiza, M. Keihl, Tirthankar Lahiri, William Bridge   \n",
       "305                 Ashok Joshi, N. MacNaughton, Juan Loaiza, M. Keihl, Tirthankar Lahiri, William Bridge   \n",
       "308                                                                        Rakesh Agrawal, John C. Shafer   \n",
       "329                                                                       Luis Gravano, Surajit Chaudhuri   \n",
       "330                                                                       Luis Gravano, Surajit Chaudhuri   \n",
       "336                                                                       Luis Gravano, Surajit Chaudhuri   \n",
       "341                                                                       Luis Gravano, Surajit Chaudhuri   \n",
       "345                                                                       Luis Gravano, Surajit Chaudhuri   \n",
       "386                        Mark G. L. M. van Doorn, Arjen P. de Vries, Henk M. Blanken, Peter M. G. Apers   \n",
       "390                        Mark G. L. M. van Doorn, Arjen P. de Vries, Henk M. Blanken, Peter M. G. Apers   \n",
       "415                                                                                          M. Tamer zsu   \n",
       "424                                                                                      Christian Hidber   \n",
       "...                                                                                                   ...   \n",
       "4719                                               Donovan A. Schneider, Marie-Anne Neimat, Witold Litwin   \n",
       "4721                                               Donovan A. Schneider, Marie-Anne Neimat, Witold Litwin   \n",
       "4722                                               Donovan A. Schneider, Marie-Anne Neimat, Witold Litwin   \n",
       "4729  Carl Staelin, Paul M. Aoki, Witold Litwin, Michael Stonebraker, Adam Sah, Jeff Sidell, Andrew Yu...   \n",
       "4732  Carl Staelin, Paul M. Aoki, Witold Litwin, Michael Stonebraker, Adam Sah, Jeff Sidell, Andrew Yu...   \n",
       "4737  Carl Staelin, Paul M. Aoki, Witold Litwin, Michael Stonebraker, Adam Sah, Jeff Sidell, Andrew Yu...   \n",
       "4741  Carl Staelin, Paul M. Aoki, Witold Litwin, Michael Stonebraker, Adam Sah, Jeff Sidell, Andrew Yu...   \n",
       "4748                              Shinichi Morishita, Yasuhiko Morimoto, Takeshi Tokuyama, Takeshi Fukuda   \n",
       "4787                                                                       Kenneth C. Sevcik, Nick Koudas   \n",
       "4800                                                                       Kenneth C. Sevcik, Nick Koudas   \n",
       "4813                                                                                          Hugh Darwen   \n",
       "4822                                                                                          Hugh Darwen   \n",
       "4828                                                                        Eric Freeman, David Gelernter   \n",
       "4855                                                Kotagiri Ramamohanarao, Alistair Moffat, Justin Zobel   \n",
       "4868                              Takeshi Tokuyama, Takeshi Fukuda, Yasuhiko Morimoto, Shinichi Morishita   \n",
       "4879                              Takeshi Tokuyama, Takeshi Fukuda, Yasuhiko Morimoto, Shinichi Morishita   \n",
       "4886                                                                                        Susan Malaika   \n",
       "4890                                                                                        Susan Malaika   \n",
       "4945                                         Yannis E. Ioannidis, Marvin H. Solomon, Odysseas G. Tsatalos   \n",
       "4961                              Takeshi Fukuda, Yasuhiko Morimoto, Takeshi Tokuyama, Shinichi Morishita   \n",
       "4978                                                  Donald Kossmann, Michael J. Franklin, Bjrn r Jnsson   \n",
       "4980                                                  Donald Kossmann, Michael J. Franklin, Bjrn r Jnsson   \n",
       "4981                                                  Donald Kossmann, Michael J. Franklin, Bjrn r Jnsson   \n",
       "5017                                                                Gennady Antoshenkov, Mohamed Ziauddin   \n",
       "5051                                                                          Phil Janus, Albert D'Andrea   \n",
       "5056                                                                          Phil Janus, Albert D'Andrea   \n",
       "5061                                                                          Phil Janus, Albert D'Andrea   \n",
       "5109                                             Peter J. Barclay, Kenneth J. Mitchell, Jessie B. Kennedy   \n",
       "5118                                             Peter J. Barclay, Kenneth J. Mitchell, Jessie B. Kennedy   \n",
       "5161                                                Lynn O. Wilson, Peter G. Selfridge, Divesh Srivastava   \n",
       "\n",
       "     ltable_year  \\\n",
       "0           1997   \n",
       "28          1997   \n",
       "31          1997   \n",
       "36          1997   \n",
       "91          1997   \n",
       "100         1997   \n",
       "103         1997   \n",
       "125         1997   \n",
       "151         1997   \n",
       "154         1997   \n",
       "182         1997   \n",
       "191         1997   \n",
       "195         1997   \n",
       "202         1997   \n",
       "224         1997   \n",
       "254         1997   \n",
       "277         1997   \n",
       "279         1997   \n",
       "295         1997   \n",
       "305         1997   \n",
       "308         1997   \n",
       "329         1999   \n",
       "330         1999   \n",
       "336         1999   \n",
       "341         1999   \n",
       "345         1999   \n",
       "386         1999   \n",
       "390         1999   \n",
       "415         1999   \n",
       "424         1999   \n",
       "...          ...   \n",
       "4719        1996   \n",
       "4721        1996   \n",
       "4722        1996   \n",
       "4729        1996   \n",
       "4732        1996   \n",
       "4737        1996   \n",
       "4741        1996   \n",
       "4748        1996   \n",
       "4787        1996   \n",
       "4800        1996   \n",
       "4813        1996   \n",
       "4822        1996   \n",
       "4828        1996   \n",
       "4855        1996   \n",
       "4868        1996   \n",
       "4879        1996   \n",
       "4886        1996   \n",
       "4890        1996   \n",
       "4945        1996   \n",
       "4961        1996   \n",
       "4978        1996   \n",
       "4980        1996   \n",
       "4981        1996   \n",
       "5017        1996   \n",
       "5051        1996   \n",
       "5056        1996   \n",
       "5061        1996   \n",
       "5109        1996   \n",
       "5118        1996   \n",
       "5161        1996   \n",
       "\n",
       "                                                                                             rtable_title  \\\n",
       "0     Structured document storage and refined declarative and navigational access mechanisms in HyperS...   \n",
       "28                                                                       On saying Enough already! in SQL   \n",
       "31                                           Revisiting commit processing in distributed database systems   \n",
       "36    Structured document storage and refined declarative and navigational access mechanisms in HyperS...   \n",
       "91                                                                 Effective Memory Use in a Media Server   \n",
       "100                                                                      On saying Enough already! in SQL   \n",
       "103                                          Revisiting commit processing in distributed database systems   \n",
       "125                                                      Dynamic Memory Adjustment for External Mergesort   \n",
       "151                               Algorithms for Materialized View Design in Data Warehousing Environment   \n",
       "154                                                                      On saying Enough already! in SQL   \n",
       "182                                  Quasi-cubes: exploiting approximations in multidimensional databases   \n",
       "191                                                                              The Microsoft Repository   \n",
       "195                                                          A configurable type hierarchy index for OODB   \n",
       "202                                              OGDI: toward interoperability among geospatial databases   \n",
       "224                                                                  Fast Computation of Sparse Datacubes   \n",
       "254                                  Quasi-cubes: exploiting approximations in multidimensional databases   \n",
       "277                               Algorithms for Materialized View Design in Data Warehousing Environment   \n",
       "279                                            Lore: a database management system for semistructured data   \n",
       "295                               Algorithms for Materialized View Design in Data Warehousing Environment   \n",
       "305                                                      Dynamic Memory Adjustment for External Mergesort   \n",
       "308                                  Quasi-cubes: exploiting approximations in multidimensional databases   \n",
       "329                                                                         On random sampling over joins   \n",
       "330                                                           Belief reasoning in MLS deductive databases   \n",
       "336                                Timer-driven database triggers and alerters: semantics and a challenge   \n",
       "341                          Mind your vocabulary: query mapping across heterogeneous information sources   \n",
       "345      PM3: An Orthogonal Persistent Systems Programming Language - Design, Implementation, Performance   \n",
       "386                                                             In Cyber Space No One can Hear You Scream   \n",
       "390                                                   Agent-based semantic interoperability in infosleuth   \n",
       "415                                           Exploiting Versions for Handling Updates in Broadcast Disks   \n",
       "424                                        An XJML-based wrapper generator for Web information extraction   \n",
       "...                                                                                                   ...   \n",
       "4719                                                            Goal-oriented buffer management revisited   \n",
       "4721                                         Querying Multiple Features of Groups in Relational Databases   \n",
       "4722                                                               MQseries and CICS link for Lotus Notes   \n",
       "4729                                                                                   Spatial hash-joins   \n",
       "4732          Maintaining database consistency in presence of value dependencies in multidatabase systems   \n",
       "4737                                                                  Real-time index concurrency control   \n",
       "4741                                                               MQseries and CICS link for Lotus Notes   \n",
       "4748                                                                                   Spatial hash-joins   \n",
       "4787                                                                        Repository system engineering   \n",
       "4800                                                               A complete temporal relational algebra   \n",
       "4813                                                                  Real-time index concurrency control   \n",
       "4822                                                           Large Databases for Remote Sensing and GIS   \n",
       "4828                   prospector: a content-based multimedia server for massively parallel architectures   \n",
       "4855                                                               MQseries and CICS link for Lotus Notes   \n",
       "4868                                             The X-tree: An Index Structure for High-Dimensional Data   \n",
       "4879                                                           Large Databases for Remote Sensing and GIS   \n",
       "4886                        The active database management system manifesto: a rulebase of ADBMS features   \n",
       "4890                                                            Goal-oriented buffer management revisited   \n",
       "4945                                                           Open issues in parallel query optimization   \n",
       "4961                   prospector: a content-based multimedia server for massively parallel architectures   \n",
       "4978                         CapBasED-AMS: a capability-based and event-driven activity management system   \n",
       "4980                   prospector: a content-based multimedia server for massively parallel architectures   \n",
       "4981                        The active database management system manifesto: a rulebase of ADBMS features   \n",
       "5017          Maintaining database consistency in presence of value dependencies in multidatabase systems   \n",
       "5051                 Control strategies for complex relational query processing in shared nothing systems   \n",
       "5056                   prospector: a content-based multimedia server for massively parallel architectures   \n",
       "5061                                                            Goal-oriented buffer management revisited   \n",
       "5109                                                                                   Spatial hash-joins   \n",
       "5118                                                            Goal-oriented buffer management revisited   \n",
       "5161                                                               A complete temporal relational algebra   \n",
       "\n",
       "                                                                                      rtable_authors  \\\n",
       "0                                           Klemens Böhm, Karl Aberer, Erich J. Neuhold, Xiaoya Yang   \n",
       "28                                                                 Michael J. Carey, Donald Kossmann   \n",
       "31                                                  Ramesh Gupta, Jayant Haritsa, Krithi Ramamritham   \n",
       "36                                          Klemens Böhm, Karl Aberer, Erich J. Neuhold, Xiaoya Yang   \n",
       "91                                                             Edward Y. Chang, Hector Garcia-Molina   \n",
       "100                                                                Michael J. Carey, Donald Kossmann   \n",
       "103                                                 Ramesh Gupta, Jayant Haritsa, Krithi Ramamritham   \n",
       "125                                                                      Weiye Zhang, Per-Åke Larson   \n",
       "151                                                         Jian Yang, Kamalakar Karlapalem, Qing Li   \n",
       "154                                                                Michael J. Carey, Donald Kossmann   \n",
       "182                                                                    Daniel Barbará, Mark Sullivan   \n",
       "191                        Philip A. Bernstein, Brian Harry, Paul Sanders, David Shutt, Jason Zander   \n",
       "195                                                             Thomas A. Mueck, Martin L. Polaschek   \n",
       "202                        Gilles Clément, Christian Larouche, Denis Gouin, Paul Morin, Henry Kucera   \n",
       "224                                                               Kenneth A. Ross, Divesh Srivastava   \n",
       "254                                                                    Daniel Barbará, Mark Sullivan   \n",
       "277                                                         Jian Yang, Kamalakar Karlapalem, Qing Li   \n",
       "279                         Jason McHugh, Serge Abiteboul, Roy Goldman, Dallas Quass, Jennifer Widom   \n",
       "295                                                         Jian Yang, Kamalakar Karlapalem, Qing Li   \n",
       "305                                                                      Weiye Zhang, Per-Åke Larson   \n",
       "308                                                                    Daniel Barbará, Mark Sullivan   \n",
       "329                                               Surajit Chaudhuri, Rajeev Motwani, Vivek Narasayya   \n",
       "330                                                                                   Hasan M. Jamil   \n",
       "336                                                                 Eric N. Hanson, Lloyd X. Noronha   \n",
       "341                                                        Chen-Chuan K. Chang, Héctor García-Molina   \n",
       "345                                                                   Antony L. Hosking, Jiawan Chen   \n",
       "386                                                                                      Chris Pound   \n",
       "390                                         Jerry Fowler, Brad Perry, Marian Nodine, Bruce Bargmeyer   \n",
       "415                                                          Evaggelia Pitoura, Panos K. Chrysanthis   \n",
       "424                                            Ling Liu, Wei Han, David Buttler, Calton Pu, Wei Tang   \n",
       "...                                                                                              ...   \n",
       "4719                                                    Kurt P. Brown, Michael J. Carey, Miron Livny   \n",
       "4721                                                        Damianos Chatziantoniou, Kenneth A. Ross   \n",
       "4722                                                                         Lotus Development Corp.   \n",
       "4729                                                             Ming-Ling Lo, Chinya V. Ravishankar   \n",
       "4732                                   Claire Morpain, Michéle Cart, Jean Ferrié, Jean-François Pons   \n",
       "4737                                                                  Jayant R. Haritsa, S. Seshadri   \n",
       "4741                                                                         Lotus Development Corp.   \n",
       "4748                                                             Ming-Ling Lo, Chinya V. Ravishankar   \n",
       "4787                                                                             Pillip A. Bernstein   \n",
       "4800                                                Debabrata Dey, Terence M. Barron, Veda C. Storey   \n",
       "4813                                                                  Jayant R. Haritsa, S. Seshadri   \n",
       "4822                                                                                  A. R. Dasgupta   \n",
       "4828  S. Choo, W. O'Connell, G. Linerman, H. Chen, K. Ganapathy, A. Biliris, E. Panagos, D. Schrader   \n",
       "4855                                                                         Lotus Development Corp.   \n",
       "4868                                            Stefan Berchtold, Daniel A. Keim, Hans-Peter Kriegel   \n",
       "4879                                                                                  A. R. Dasgupta   \n",
       "4886                                                                    Corporate Act-Net Consortium   \n",
       "4890                                                    Kurt P. Brown, Michael J. Carey, Miron Livny   \n",
       "4945                                                Waqar Hasan, Daniela Florescu, Patrick Valduriez   \n",
       "4961  S. Choo, W. O'Connell, G. Linerman, H. Chen, K. Ganapathy, A. Biliris, E. Panagos, D. Schrader   \n",
       "4978                                        Patrick C. K. Hung, Helen P. Yeung, Kamalakar Karlapalem   \n",
       "4980  S. Choo, W. O'Connell, G. Linerman, H. Chen, K. Ganapathy, A. Biliris, E. Panagos, D. Schrader   \n",
       "4981                                                                    Corporate Act-Net Consortium   \n",
       "5017                                   Claire Morpain, Michéle Cart, Jean Ferrié, Jean-François Pons   \n",
       "5051                                                                     Lionel Brunie, Harald Kosch   \n",
       "5056  S. Choo, W. O'Connell, G. Linerman, H. Chen, K. Ganapathy, A. Biliris, E. Panagos, D. Schrader   \n",
       "5061                                                    Kurt P. Brown, Michael J. Carey, Miron Livny   \n",
       "5109                                                             Ming-Ling Lo, Chinya V. Ravishankar   \n",
       "5118                                                    Kurt P. Brown, Michael J. Carey, Miron Livny   \n",
       "5161                                                Debabrata Dey, Terence M. Barron, Veda C. Storey   \n",
       "\n",
       "     rtable_year  \n",
       "0           1997  \n",
       "28          1997  \n",
       "31          1997  \n",
       "36          1997  \n",
       "91          1997  \n",
       "100         1997  \n",
       "103         1997  \n",
       "125         1997  \n",
       "151         1997  \n",
       "154         1997  \n",
       "182         1997  \n",
       "191         1997  \n",
       "195         1997  \n",
       "202         1997  \n",
       "224         1997  \n",
       "254         1997  \n",
       "277         1997  \n",
       "279         1997  \n",
       "295         1997  \n",
       "305         1997  \n",
       "308         1997  \n",
       "329         1999  \n",
       "330         1999  \n",
       "336         1999  \n",
       "341         1999  \n",
       "345         1999  \n",
       "386         1999  \n",
       "390         1999  \n",
       "415         1999  \n",
       "424         1999  \n",
       "...          ...  \n",
       "4719        1996  \n",
       "4721        1996  \n",
       "4722        1996  \n",
       "4729        1996  \n",
       "4732        1996  \n",
       "4737        1996  \n",
       "4741        1996  \n",
       "4748        1996  \n",
       "4787        1996  \n",
       "4800        1996  \n",
       "4813        1996  \n",
       "4822        1996  \n",
       "4828        1996  \n",
       "4855        1996  \n",
       "4868        1996  \n",
       "4879        1996  \n",
       "4886        1996  \n",
       "4890        1996  \n",
       "4945        1996  \n",
       "4961        1996  \n",
       "4978        1996  \n",
       "4980        1996  \n",
       "4981        1996  \n",
       "5017        1996  \n",
       "5051        1996  \n",
       "5056        1996  \n",
       "5061        1996  \n",
       "5109        1996  \n",
       "5118        1996  \n",
       "5161        1996  \n",
       "\n",
       "[300 rows x 9 columns]"
      ]
     },
     "execution_count": 64,
     "metadata": {},
     "output_type": "execute_result"
    }
   ],
   "source": [
    "em.filter_rows(d1, 'ltable_year==rtable_year')"
   ]
  },
  {
   "cell_type": "code",
   "execution_count": 65,
   "metadata": {
    "collapsed": false
   },
   "outputs": [
    {
     "name": "stderr",
     "output_type": "stream",
     "text": [
      "/Users/pradap/miniconda3/lib/python3.5/site-packages/ipykernel/__main__.py:1: SettingWithCopyWarning: \n",
      "A value is trying to be set on a copy of a slice from a DataFrame.\n",
      "Try using .loc[row_indexer,col_indexer] = value instead\n",
      "\n",
      "See the caveats in the documentation: http://pandas.pydata.org/pandas-docs/stable/indexing.html#indexing-view-versus-copy\n",
      "  if __name__ == '__main__':\n"
     ]
    }
   ],
   "source": [
    "d2['label'] = 0"
   ]
  },
  {
   "cell_type": "code",
   "execution_count": 66,
   "metadata": {
    "collapsed": false
   },
   "outputs": [],
   "source": [
    "labeled_data = pd.concat([g1_diff_year_sampled_prj, g1_same_year_not_to_be_swapped_sample, \n",
    "                          g1_same_year_to_be_swapped_sample, d2], ignore_index=True)\n"
   ]
  },
  {
   "cell_type": "code",
   "execution_count": 67,
   "metadata": {
    "collapsed": false
   },
   "outputs": [
    {
     "data": {
      "text/plain": [
       "150"
      ]
     },
     "execution_count": 67,
     "metadata": {},
     "output_type": "execute_result"
    }
   ],
   "source": [
    "sum(labeled_data.label.astype(int))"
   ]
  },
  {
   "cell_type": "code",
   "execution_count": 68,
   "metadata": {
    "collapsed": true
   },
   "outputs": [],
   "source": [
    "labeled_data = labeled_data.sample(frac=1)\n",
    "labeled_data['_id'] = range(0, len(labeled_data))\n",
    "labeled_data.reset_index(inplace=True)\n",
    "labeled_data = labeled_data[['_id', 'ltable_id', 'rtable_id', 'label']]"
   ]
  },
  {
   "cell_type": "code",
   "execution_count": 69,
   "metadata": {
    "collapsed": false
   },
   "outputs": [
    {
     "data": {
      "text/plain": [
       "True"
      ]
     },
     "execution_count": 69,
     "metadata": {},
     "output_type": "execute_result"
    }
   ],
   "source": [
    "em.set_key(labeled_data, '_id')\n",
    "em.set_ltable(labeled_data, A4)\n",
    "em.set_rtable(labeled_data, B4)\n",
    "em.set_fk_ltable(labeled_data, 'ltable_id')\n",
    "em.set_fk_rtable(labeled_data, 'rtable_id')"
   ]
  },
  {
   "cell_type": "code",
   "execution_count": 70,
   "metadata": {
    "collapsed": false
   },
   "outputs": [
    {
     "data": {
      "text/plain": [
       "True"
      ]
     },
     "execution_count": 70,
     "metadata": {},
     "output_type": "execute_result"
    }
   ],
   "source": [
    "em.to_csv_metadata(labeled_data, 'ORIG_DBLP_ACM/labeled_data_dblp_acm_after_monkey_tricks.csv')"
   ]
  },
  {
   "cell_type": "code",
   "execution_count": 71,
   "metadata": {
    "collapsed": false
   },
   "outputs": [
    {
     "data": {
      "text/plain": [
       "450"
      ]
     },
     "execution_count": 71,
     "metadata": {},
     "output_type": "execute_result"
    }
   ],
   "source": [
    "len(labeled_data)"
   ]
  }
 ],
 "metadata": {
  "anaconda-cloud": {},
  "kernelspec": {
   "display_name": "Python [Root]",
   "language": "python",
   "name": "Python [Root]"
  },
  "language_info": {
   "codemirror_mode": {
    "name": "ipython",
    "version": 3
   },
   "file_extension": ".py",
   "mimetype": "text/x-python",
   "name": "python",
   "nbconvert_exporter": "python",
   "pygments_lexer": "ipython3",
   "version": "3.5.2"
  }
 },
 "nbformat": 4,
 "nbformat_minor": 0
}
