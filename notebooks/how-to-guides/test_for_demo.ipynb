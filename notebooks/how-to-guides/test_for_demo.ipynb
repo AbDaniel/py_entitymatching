{
 "cells": [
  {
   "cell_type": "code",
   "execution_count": 1,
   "metadata": {
    "collapsed": false
   },
   "outputs": [],
   "source": [
    "%load_ext autotime"
   ]
  },
  {
   "cell_type": "code",
   "execution_count": 2,
   "metadata": {
    "collapsed": false
   },
   "outputs": [
    {
     "name": "stdout",
     "output_type": "stream",
     "text": [
      "time: 488 ms\n"
     ]
    }
   ],
   "source": [
    "import sys\n",
    "sys.path.append('/scratch/pradap/python-work/anhaidgroup/magellan')"
   ]
  },
  {
   "cell_type": "code",
   "execution_count": 3,
   "metadata": {
    "collapsed": false
   },
   "outputs": [
    {
     "name": "stdout",
     "output_type": "stream",
     "text": [
      "time: 594 ms\n"
     ]
    }
   ],
   "source": [
    "import magellan as mg"
   ]
  },
  {
   "cell_type": "code",
   "execution_count": 4,
   "metadata": {
    "collapsed": false
   },
   "outputs": [
    {
     "name": "stdout",
     "output_type": "stream",
     "text": [
      "time: 16.9 ms\n"
     ]
    }
   ],
   "source": [
    "A = mg.read_csv_metadata('DBLP_ACM/DBLP_cleaned.csv', key='id')\n",
    "B = mg.read_csv_metadata('DBLP_ACM/ACM_cleaned.csv', key='id')"
   ]
  },
  {
   "cell_type": "code",
   "execution_count": 5,
   "metadata": {
    "collapsed": false
   },
   "outputs": [
    {
     "data": {
      "text/plain": [
       "(2616, 2294)"
      ]
     },
     "execution_count": 5,
     "metadata": {},
     "output_type": "execute_result"
    },
    {
     "name": "stdout",
     "output_type": "stream",
     "text": [
      "time: 471 ms\n"
     ]
    }
   ],
   "source": [
    "len(A), len(B)"
   ]
  },
  {
   "cell_type": "code",
   "execution_count": 6,
   "metadata": {
    "collapsed": false
   },
   "outputs": [
    {
     "name": "stdout",
     "output_type": "stream",
     "text": [
      "time: 61.8 ms\n"
     ]
    }
   ],
   "source": [
    "import py_stringsimjoin as ssj"
   ]
  },
  {
   "cell_type": "code",
   "execution_count": 7,
   "metadata": {
    "collapsed": false
   },
   "outputs": [
    {
     "data": {
      "text/html": [
       "<div>\n",
       "<table border=\"1\" class=\"dataframe\">\n",
       "  <thead>\n",
       "    <tr style=\"text-align: right;\">\n",
       "      <th></th>\n",
       "      <th>Unique values</th>\n",
       "      <th>Missing values</th>\n",
       "      <th>Comments</th>\n",
       "    </tr>\n",
       "    <tr>\n",
       "      <th>Attribute</th>\n",
       "      <th></th>\n",
       "      <th></th>\n",
       "      <th></th>\n",
       "    </tr>\n",
       "  </thead>\n",
       "  <tbody>\n",
       "    <tr>\n",
       "      <th>id</th>\n",
       "      <td>2616 (100.0%)</td>\n",
       "      <td>0 (0.0%)</td>\n",
       "      <td>This attribute can be used as a key attribute.</td>\n",
       "    </tr>\n",
       "    <tr>\n",
       "      <th>title</th>\n",
       "      <td>2521 (96.37%)</td>\n",
       "      <td>0 (0.0%)</td>\n",
       "      <td></td>\n",
       "    </tr>\n",
       "    <tr>\n",
       "      <th>authors</th>\n",
       "      <td>2316 (88.53%)</td>\n",
       "      <td>0 (0.0%)</td>\n",
       "      <td></td>\n",
       "    </tr>\n",
       "    <tr>\n",
       "      <th>venue</th>\n",
       "      <td>5 (0.19%)</td>\n",
       "      <td>0 (0.0%)</td>\n",
       "      <td></td>\n",
       "    </tr>\n",
       "    <tr>\n",
       "      <th>year</th>\n",
       "      <td>10 (0.38%)</td>\n",
       "      <td>0 (0.0%)</td>\n",
       "      <td></td>\n",
       "    </tr>\n",
       "  </tbody>\n",
       "</table>\n",
       "</div>"
      ],
      "text/plain": [
       "           Unique values Missing values  \\\n",
       "Attribute                                 \n",
       "id         2616 (100.0%)       0 (0.0%)   \n",
       "title      2521 (96.37%)       0 (0.0%)   \n",
       "authors    2316 (88.53%)       0 (0.0%)   \n",
       "venue          5 (0.19%)       0 (0.0%)   \n",
       "year          10 (0.38%)       0 (0.0%)   \n",
       "\n",
       "                                                 Comments  \n",
       "Attribute                                                  \n",
       "id         This attribute can be used as a key attribute.  \n",
       "title                                                      \n",
       "authors                                                    \n",
       "venue                                                      \n",
       "year                                                       "
      ]
     },
     "execution_count": 7,
     "metadata": {},
     "output_type": "execute_result"
    },
    {
     "name": "stdout",
     "output_type": "stream",
     "text": [
      "time: 96.8 ms\n"
     ]
    }
   ],
   "source": [
    "ssj.profile_table_for_join(A)"
   ]
  },
  {
   "cell_type": "code",
   "execution_count": 8,
   "metadata": {
    "collapsed": false
   },
   "outputs": [
    {
     "data": {
      "text/html": [
       "<div>\n",
       "<table border=\"1\" class=\"dataframe\">\n",
       "  <thead>\n",
       "    <tr style=\"text-align: right;\">\n",
       "      <th></th>\n",
       "      <th>Unique values</th>\n",
       "      <th>Missing values</th>\n",
       "      <th>Comments</th>\n",
       "    </tr>\n",
       "    <tr>\n",
       "      <th>Attribute</th>\n",
       "      <th></th>\n",
       "      <th></th>\n",
       "      <th></th>\n",
       "    </tr>\n",
       "  </thead>\n",
       "  <tbody>\n",
       "    <tr>\n",
       "      <th>id</th>\n",
       "      <td>2294 (100.0%)</td>\n",
       "      <td>0 (0.0%)</td>\n",
       "      <td>This attribute can be used as a key attribute.</td>\n",
       "    </tr>\n",
       "    <tr>\n",
       "      <th>title</th>\n",
       "      <td>2230 (97.21%)</td>\n",
       "      <td>0 (0.0%)</td>\n",
       "      <td></td>\n",
       "    </tr>\n",
       "    <tr>\n",
       "      <th>authors</th>\n",
       "      <td>2009 (87.58%)</td>\n",
       "      <td>14 (0.61%)</td>\n",
       "      <td>Joining on this attribute will ignore 14 (0.61%) rows.</td>\n",
       "    </tr>\n",
       "    <tr>\n",
       "      <th>venue</th>\n",
       "      <td>5 (0.22%)</td>\n",
       "      <td>0 (0.0%)</td>\n",
       "      <td></td>\n",
       "    </tr>\n",
       "    <tr>\n",
       "      <th>year</th>\n",
       "      <td>10 (0.44%)</td>\n",
       "      <td>0 (0.0%)</td>\n",
       "      <td></td>\n",
       "    </tr>\n",
       "  </tbody>\n",
       "</table>\n",
       "</div>"
      ],
      "text/plain": [
       "           Unique values Missing values  \\\n",
       "Attribute                                 \n",
       "id         2294 (100.0%)       0 (0.0%)   \n",
       "title      2230 (97.21%)       0 (0.0%)   \n",
       "authors    2009 (87.58%)     14 (0.61%)   \n",
       "venue          5 (0.22%)       0 (0.0%)   \n",
       "year          10 (0.44%)       0 (0.0%)   \n",
       "\n",
       "                                                         Comments  \n",
       "Attribute                                                          \n",
       "id                 This attribute can be used as a key attribute.  \n",
       "title                                                              \n",
       "authors    Joining on this attribute will ignore 14 (0.61%) rows.  \n",
       "venue                                                              \n",
       "year                                                               "
      ]
     },
     "execution_count": 8,
     "metadata": {},
     "output_type": "execute_result"
    },
    {
     "name": "stdout",
     "output_type": "stream",
     "text": [
      "time: 96.2 ms\n"
     ]
    }
   ],
   "source": [
    "ssj.profile_table_for_join(B)"
   ]
  },
  {
   "cell_type": "code",
   "execution_count": 9,
   "metadata": {
    "collapsed": false
   },
   "outputs": [
    {
     "name": "stdout",
     "output_type": "stream",
     "text": [
      "time: 42.5 ms\n"
     ]
    }
   ],
   "source": [
    "gold = mg.read_csv_metadata('DBLP_ACM/goldWithLabel.csv')"
   ]
  },
  {
   "cell_type": "code",
   "execution_count": 10,
   "metadata": {
    "collapsed": false
   },
   "outputs": [
    {
     "data": {
      "text/html": [
       "<div>\n",
       "<table border=\"1\" class=\"dataframe\">\n",
       "  <thead>\n",
       "    <tr style=\"text-align: right;\">\n",
       "      <th></th>\n",
       "      <th>Unique values</th>\n",
       "      <th>Missing values</th>\n",
       "      <th>Comments</th>\n",
       "    </tr>\n",
       "    <tr>\n",
       "      <th>Attribute</th>\n",
       "      <th></th>\n",
       "      <th></th>\n",
       "      <th></th>\n",
       "    </tr>\n",
       "  </thead>\n",
       "  <tbody>\n",
       "    <tr>\n",
       "      <th>pairId</th>\n",
       "      <td>2224 (100.0%)</td>\n",
       "      <td>0 (0.0%)</td>\n",
       "      <td>This attribute can be used as a key attribute.</td>\n",
       "    </tr>\n",
       "    <tr>\n",
       "      <th>id1</th>\n",
       "      <td>2224 (100.0%)</td>\n",
       "      <td>0 (0.0%)</td>\n",
       "      <td>This attribute can be used as a key attribute.</td>\n",
       "    </tr>\n",
       "    <tr>\n",
       "      <th>id2</th>\n",
       "      <td>2224 (100.0%)</td>\n",
       "      <td>0 (0.0%)</td>\n",
       "      <td>This attribute can be used as a key attribute.</td>\n",
       "    </tr>\n",
       "    <tr>\n",
       "      <th>label</th>\n",
       "      <td>1 (0.04%)</td>\n",
       "      <td>0 (0.0%)</td>\n",
       "      <td></td>\n",
       "    </tr>\n",
       "  </tbody>\n",
       "</table>\n",
       "</div>"
      ],
      "text/plain": [
       "           Unique values Missing values  \\\n",
       "Attribute                                 \n",
       "pairId     2224 (100.0%)       0 (0.0%)   \n",
       "id1        2224 (100.0%)       0 (0.0%)   \n",
       "id2        2224 (100.0%)       0 (0.0%)   \n",
       "label          1 (0.04%)       0 (0.0%)   \n",
       "\n",
       "                                                 Comments  \n",
       "Attribute                                                  \n",
       "pairId     This attribute can be used as a key attribute.  \n",
       "id1        This attribute can be used as a key attribute.  \n",
       "id2        This attribute can be used as a key attribute.  \n",
       "label                                                      "
      ]
     },
     "execution_count": 10,
     "metadata": {},
     "output_type": "execute_result"
    },
    {
     "name": "stdout",
     "output_type": "stream",
     "text": [
      "time: 75.6 ms\n"
     ]
    }
   ],
   "source": [
    "ssj.profile_table_for_join(gold)"
   ]
  },
  {
   "cell_type": "code",
   "execution_count": 11,
   "metadata": {
    "collapsed": false
   },
   "outputs": [
    {
     "name": "stdout",
     "output_type": "stream",
     "text": [
      "time: 39 ms\n"
     ]
    }
   ],
   "source": [
    "temp = A.groupby('title')"
   ]
  },
  {
   "cell_type": "code",
   "execution_count": 13,
   "metadata": {
    "collapsed": false
   },
   "outputs": [
    {
     "name": "stdout",
     "output_type": "stream",
     "text": [
      "2521\n",
      "time: 264 ms\n"
     ]
    }
   ],
   "source": [
    "x = 0\n",
    "for t in temp:\n",
    "    if len(t) > 1:\n",
    "        x += 1\n",
    "print(x)"
   ]
  },
  {
   "cell_type": "code",
   "execution_count": 16,
   "metadata": {
    "collapsed": false
   },
   "outputs": [
    {
     "name": "stdout",
     "output_type": "stream",
     "text": [
      "time: 630 µs\n"
     ]
    }
   ],
   "source": [
    "# A[A.duplicated(['title'])]"
   ]
  },
  {
   "cell_type": "code",
   "execution_count": 20,
   "metadata": {
    "collapsed": false
   },
   "outputs": [
    {
     "name": "stdout",
     "output_type": "stream",
     "text": [
      "Help on function down_sample in module magellan.sampler.down_sample:\n",
      "\n",
      "down_sample(table_a, table_b, size, y_param)\n",
      "    This function down samples two tables A and B into smaller tables A' and\n",
      "    B' respectively.\n",
      "    \n",
      "    Specifically, first it randomly selects `size` tuples\n",
      "    from the table B to be table B'. Next, it builds an inverted index I (\n",
      "    token, tuple_id) on table A. For each tuple x ∈ B', the algorithm\n",
      "    finds a set P of k/2 tuples from I that match x,\n",
      "    and a set Q of k/2 tuples randomly selected from A - P.\n",
      "    The idea is for A' and B' to share some matches yet be\n",
      "    as representative of A and B as possible.\n",
      "    \n",
      "    Args:\n",
      "        table_a,table_b (DataFrame): The input tables A and B.\n",
      "        size (int): The size that table B should be down sampled to.\n",
      "        y_param (int): The parameter to control the down sample size of table A.\n",
      "            Specifically, the down sampled size of table A should be close to\n",
      "            size * y_param.\n",
      "    \n",
      "    Returns:\n",
      "        Down sampled tables A and B as pandas DataFrames.\n",
      "    \n",
      "    Raises:\n",
      "        AssertionError: If any of the input tables (`table_a`, `table_b`) are\n",
      "         empty or not a DataFrame.\n",
      "        AssertionError: If `size` or `y_param` is empty or 0 or not a\n",
      "         valid integer value.\n",
      "\n",
      "time: 1.07 ms\n"
     ]
    }
   ],
   "source": [
    "help(mg.down_sample)"
   ]
  },
  {
   "cell_type": "code",
   "execution_count": 26,
   "metadata": {
    "collapsed": false
   },
   "outputs": [
    {
     "data": {
      "text/plain": [
       "(454, 500)"
      ]
     },
     "execution_count": 26,
     "metadata": {},
     "output_type": "execute_result"
    },
    {
     "name": "stdout",
     "output_type": "stream",
     "text": [
      "time: 1.79 ms\n"
     ]
    }
   ],
   "source": [
    "len(Asampled), len(B_sampled)"
   ]
  },
  {
   "cell_type": "code",
   "execution_count": 27,
   "metadata": {
    "collapsed": false
   },
   "outputs": [
    {
     "data": {
      "text/html": [
       "<div>\n",
       "<table border=\"1\" class=\"dataframe\">\n",
       "  <thead>\n",
       "    <tr style=\"text-align: right;\">\n",
       "      <th></th>\n",
       "      <th>id</th>\n",
       "      <th>title</th>\n",
       "      <th>authors</th>\n",
       "      <th>venue</th>\n",
       "      <th>year</th>\n",
       "    </tr>\n",
       "  </thead>\n",
       "  <tbody>\n",
       "    <tr>\n",
       "      <th>0</th>\n",
       "      <td>journals/sigmod/Mackay99</td>\n",
       "      <td>Semantic Integration of Environmental Models for Application to Global Information Systems and D...</td>\n",
       "      <td>D. Scott Mackay</td>\n",
       "      <td>SIGMOD Record</td>\n",
       "      <td>1999</td>\n",
       "    </tr>\n",
       "  </tbody>\n",
       "</table>\n",
       "</div>"
      ],
      "text/plain": [
       "                         id  \\\n",
       "0  journals/sigmod/Mackay99   \n",
       "\n",
       "                                                                                                 title  \\\n",
       "0  Semantic Integration of Environmental Models for Application to Global Information Systems and D...   \n",
       "\n",
       "           authors          venue  year  \n",
       "0  D. Scott Mackay  SIGMOD Record  1999  "
      ]
     },
     "execution_count": 27,
     "metadata": {},
     "output_type": "execute_result"
    },
    {
     "name": "stdout",
     "output_type": "stream",
     "text": [
      "time: 8.68 ms\n"
     ]
    }
   ],
   "source": [
    "Asampled.head(1)"
   ]
  },
  {
   "cell_type": "code",
   "execution_count": 28,
   "metadata": {
    "collapsed": false
   },
   "outputs": [
    {
     "data": {
      "text/plain": [
       "Index([u'pairId', u'id1', u'id2', u'label'], dtype='object')"
      ]
     },
     "execution_count": 28,
     "metadata": {},
     "output_type": "execute_result"
    },
    {
     "name": "stdout",
     "output_type": "stream",
     "text": [
      "time: 2.08 ms\n"
     ]
    }
   ],
   "source": [
    "gold.columns"
   ]
  },
  {
   "cell_type": "code",
   "execution_count": 39,
   "metadata": {
    "collapsed": false
   },
   "outputs": [
    {
     "name": "stdout",
     "output_type": "stream",
     "text": [
      "time: 2.99 ms\n"
     ]
    }
   ],
   "source": [
    "g1 = mg.filter_rows(gold, \"id1=='journals/sigmod/Mackay99'\")"
   ]
  },
  {
   "cell_type": "code",
   "execution_count": 40,
   "metadata": {
    "collapsed": false
   },
   "outputs": [
    {
     "data": {
      "text/html": [
       "<div>\n",
       "<table border=\"1\" class=\"dataframe\">\n",
       "  <thead>\n",
       "    <tr style=\"text-align: right;\">\n",
       "      <th></th>\n",
       "      <th>pairId</th>\n",
       "      <th>id1</th>\n",
       "      <th>id2</th>\n",
       "      <th>label</th>\n",
       "    </tr>\n",
       "  </thead>\n",
       "  <tbody>\n",
       "    <tr>\n",
       "      <th>997</th>\n",
       "      <td>998</td>\n",
       "      <td>journals/sigmod/Mackay99</td>\n",
       "      <td>309852</td>\n",
       "      <td>1</td>\n",
       "    </tr>\n",
       "  </tbody>\n",
       "</table>\n",
       "</div>"
      ],
      "text/plain": [
       "     pairId                       id1     id2  label\n",
       "997     998  journals/sigmod/Mackay99  309852      1"
      ]
     },
     "execution_count": 40,
     "metadata": {},
     "output_type": "execute_result"
    },
    {
     "name": "stdout",
     "output_type": "stream",
     "text": [
      "time: 6.26 ms\n"
     ]
    }
   ],
   "source": [
    "g1"
   ]
  },
  {
   "cell_type": "code",
   "execution_count": 44,
   "metadata": {
    "collapsed": false
   },
   "outputs": [
    {
     "data": {
      "text/html": [
       "<div>\n",
       "<table border=\"1\" class=\"dataframe\">\n",
       "  <thead>\n",
       "    <tr style=\"text-align: right;\">\n",
       "      <th></th>\n",
       "      <th>id</th>\n",
       "      <th>title</th>\n",
       "      <th>authors</th>\n",
       "      <th>venue</th>\n",
       "      <th>year</th>\n",
       "    </tr>\n",
       "  </thead>\n",
       "  <tbody>\n",
       "    <tr>\n",
       "      <th>117</th>\n",
       "      <td>309852</td>\n",
       "      <td>Semantic integration of environmental models for application to global information systems and d...</td>\n",
       "      <td>D. Scott Mackay</td>\n",
       "      <td>ACM SIGMOD Record</td>\n",
       "      <td>1999</td>\n",
       "    </tr>\n",
       "  </tbody>\n",
       "</table>\n",
       "</div>"
      ],
      "text/plain": [
       "         id  \\\n",
       "117  309852   \n",
       "\n",
       "                                                                                                   title  \\\n",
       "117  Semantic integration of environmental models for application to global information systems and d...   \n",
       "\n",
       "             authors              venue  year  \n",
       "117  D. Scott Mackay  ACM SIGMOD Record  1999  "
      ]
     },
     "execution_count": 44,
     "metadata": {},
     "output_type": "execute_result"
    },
    {
     "name": "stdout",
     "output_type": "stream",
     "text": [
      "time: 8.85 ms\n"
     ]
    }
   ],
   "source": [
    "mg.filter_rows(B, \"id==309852\")"
   ]
  },
  {
   "cell_type": "code",
   "execution_count": 45,
   "metadata": {
    "collapsed": false
   },
   "outputs": [
    {
     "name": "stdout",
     "output_type": "stream",
     "text": [
      "time: 742 µs\n"
     ]
    }
   ],
   "source": [
    "a = {}"
   ]
  },
  {
   "cell_type": "code",
   "execution_count": 46,
   "metadata": {
    "collapsed": false
   },
   "outputs": [
    {
     "data": {
      "text/plain": [
       "0"
      ]
     },
     "execution_count": 46,
     "metadata": {},
     "output_type": "execute_result"
    },
    {
     "name": "stdout",
     "output_type": "stream",
     "text": [
      "time: 1.96 ms\n"
     ]
    }
   ],
   "source": [
    "len(a)"
   ]
  },
  {
   "cell_type": "code",
   "execution_count": 54,
   "metadata": {
    "collapsed": false
   },
   "outputs": [
    {
     "name": "stdout",
     "output_type": "stream",
     "text": [
      "time: 1.07 ms\n"
     ]
    }
   ],
   "source": [
    "a['10'] = 0\n",
    "a['20'] = 1\n",
    "a['5'] = 200"
   ]
  },
  {
   "cell_type": "code",
   "execution_count": 52,
   "metadata": {
    "collapsed": false
   },
   "outputs": [
    {
     "name": "stdout",
     "output_type": "stream",
     "text": [
      "Help on built-in function sorted in module __builtin__:\n",
      "\n",
      "sorted(...)\n",
      "    sorted(iterable, cmp=None, key=None, reverse=False) --> new sorted list\n",
      "\n",
      "time: 758 µs\n"
     ]
    }
   ],
   "source": [
    "help(sorted)"
   ]
  },
  {
   "cell_type": "code",
   "execution_count": 55,
   "metadata": {
    "collapsed": false
   },
   "outputs": [
    {
     "name": "stdout",
     "output_type": "stream",
     "text": [
      "('5', 200)\n",
      "('20', 1)\n",
      "('10', 0)\n",
      "time: 1.22 ms\n"
     ]
    }
   ],
   "source": [
    "for key, value in sorted(a.items(), reverse=True):\n",
    "    print(key, value)"
   ]
  },
  {
   "cell_type": "code",
   "execution_count": 48,
   "metadata": {
    "collapsed": false
   },
   "outputs": [
    {
     "data": {
      "text/plain": [
       "1"
      ]
     },
     "execution_count": 48,
     "metadata": {},
     "output_type": "execute_result"
    },
    {
     "name": "stdout",
     "output_type": "stream",
     "text": [
      "time: 1.63 ms\n"
     ]
    }
   ],
   "source": [
    "len(a)"
   ]
  },
  {
   "cell_type": "code",
   "execution_count": 67,
   "metadata": {
    "collapsed": false
   },
   "outputs": [
    {
     "name": "stdout",
     "output_type": "stream",
     "text": [
      "time: 622 µs\n"
     ]
    }
   ],
   "source": [
    "a = set()"
   ]
  },
  {
   "cell_type": "code",
   "execution_count": 71,
   "metadata": {
    "collapsed": false
   },
   "outputs": [
    {
     "name": "stdout",
     "output_type": "stream",
     "text": [
      "time: 755 µs\n"
     ]
    }
   ],
   "source": [
    "a.add(10)"
   ]
  },
  {
   "cell_type": "code",
   "execution_count": 72,
   "metadata": {
    "collapsed": false
   },
   "outputs": [
    {
     "data": {
      "text/plain": [
       "{10}"
      ]
     },
     "execution_count": 72,
     "metadata": {},
     "output_type": "execute_result"
    },
    {
     "name": "stdout",
     "output_type": "stream",
     "text": [
      "time: 1.52 ms\n"
     ]
    }
   ],
   "source": [
    "a"
   ]
  },
  {
   "cell_type": "code",
   "execution_count": 63,
   "metadata": {
    "collapsed": false
   },
   "outputs": [
    {
     "data": {
      "text/plain": [
       "id                                           journals/sigmod/Aberer01\n",
       "title      Advanced XML Data Processing - Guest Editor's Introduction\n",
       "authors                                                   Karl Aberer\n",
       "venue                                                   SIGMOD Record\n",
       "year                                                             2001\n",
       "Name: 1403, dtype: object"
      ]
     },
     "execution_count": 63,
     "metadata": {},
     "output_type": "execute_result"
    },
    {
     "name": "stdout",
     "output_type": "stream",
     "text": [
      "time: 3.28 ms\n"
     ]
    }
   ],
   "source": [
    "A.ix[1403]"
   ]
  },
  {
   "cell_type": "code",
   "execution_count": 59,
   "metadata": {
    "collapsed": false
   },
   "outputs": [
    {
     "data": {
      "text/html": [
       "<div>\n",
       "<table border=\"1\" class=\"dataframe\">\n",
       "  <thead>\n",
       "    <tr style=\"text-align: right;\">\n",
       "      <th></th>\n",
       "      <th>id</th>\n",
       "      <th>title</th>\n",
       "      <th>authors</th>\n",
       "      <th>venue</th>\n",
       "      <th>year</th>\n",
       "    </tr>\n",
       "  </thead>\n",
       "  <tbody>\n",
       "  </tbody>\n",
       "</table>\n",
       "</div>"
      ],
      "text/plain": [
       "Empty DataFrame\n",
       "Columns: [id, title, authors, venue, year]\n",
       "Index: []"
      ]
     },
     "execution_count": 59,
     "metadata": {},
     "output_type": "execute_result"
    },
    {
     "name": "stdout",
     "output_type": "stream",
     "text": [
      "time: 6.31 ms\n"
     ]
    }
   ],
   "source": [
    "mg.filter_rows(A, 'id==2615')"
   ]
  },
  {
   "cell_type": "code",
   "execution_count": 42,
   "metadata": {
    "collapsed": false
   },
   "outputs": [
    {
     "data": {
      "text/html": [
       "<div>\n",
       "<table border=\"1\" class=\"dataframe\">\n",
       "  <thead>\n",
       "    <tr style=\"text-align: right;\">\n",
       "      <th></th>\n",
       "      <th>id</th>\n",
       "      <th>title</th>\n",
       "      <th>authors</th>\n",
       "      <th>venue</th>\n",
       "      <th>year</th>\n",
       "    </tr>\n",
       "  </thead>\n",
       "  <tbody>\n",
       "  </tbody>\n",
       "</table>\n",
       "</div>"
      ],
      "text/plain": [
       "Empty DataFrame\n",
       "Columns: [id, title, authors, venue, year]\n",
       "Index: []"
      ]
     },
     "execution_count": 42,
     "metadata": {},
     "output_type": "execute_result"
    },
    {
     "name": "stdout",
     "output_type": "stream",
     "text": [
      "time: 27.8 ms\n"
     ]
    }
   ],
   "source": [
    "g2"
   ]
  }
 ],
 "metadata": {
  "kernelspec": {
   "display_name": "Python [Root]",
   "language": "python",
   "name": "Python [Root]"
  },
  "language_info": {
   "codemirror_mode": {
    "name": "ipython",
    "version": 2
   },
   "file_extension": ".py",
   "mimetype": "text/x-python",
   "name": "python",
   "nbconvert_exporter": "python",
   "pygments_lexer": "ipython2",
   "version": "2.7.12"
  }
 },
 "nbformat": 4,
 "nbformat_minor": 0
}
