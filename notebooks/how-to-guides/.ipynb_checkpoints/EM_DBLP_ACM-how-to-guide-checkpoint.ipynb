{
 "cells": [
  {
   "cell_type": "code",
   "execution_count": 1,
   "metadata": {
    "collapsed": true
   },
   "outputs": [],
   "source": [
    "%load_ext autotime\n",
    "import sys\n",
    "sys.path.append('/Users/pradap/Documents/Research/Python-Package/anhaid/magellan/')"
   ]
  },
  {
   "cell_type": "markdown",
   "metadata": {},
   "source": [
    "This quickstart guide explains how to match two tables. [[ Add more here ]]"
   ]
  },
  {
   "cell_type": "code",
   "execution_count": 2,
   "metadata": {
    "collapsed": false
   },
   "outputs": [
    {
     "name": "stdout",
     "output_type": "stream",
     "text": [
      "time: 1.47 s\n"
     ]
    }
   ],
   "source": [
    "# Import libraries\n",
    "import magellan as mg\n",
    "import os, sys"
   ]
  },
  {
   "cell_type": "code",
   "execution_count": 3,
   "metadata": {
    "collapsed": false
   },
   "outputs": [
    {
     "name": "stdout",
     "output_type": "stream",
     "text": [
      "python version: 2.7.12 |Continuum Analytics, Inc.| (default, Jul  2 2016, 17:43:17) \n",
      "[GCC 4.2.1 (Based on Apple Inc. build 5658) (LLVM build 2336.11.00)]\n",
      "\n",
      "magellan version: 0.1.0\n",
      "\n",
      "time: 1.61 ms\n"
     ]
    }
   ],
   "source": [
    "print('python version: ' + sys.version + '\\n')\n",
    "print('magellan version: ' + mg.__version__ + '\\n')"
   ]
  },
  {
   "cell_type": "code",
   "execution_count": 4,
   "metadata": {
    "collapsed": false
   },
   "outputs": [
    {
     "name": "stdout",
     "output_type": "stream",
     "text": [
      "time: 818 µs\n"
     ]
    }
   ],
   "source": [
    "# Workflow\n",
    "## Read input tables\n",
    "## Block tables to get candidate set\n",
    "## Match tuple pairs in the candidate set"
   ]
  },
  {
   "cell_type": "code",
   "execution_count": 5,
   "metadata": {
    "collapsed": false
   },
   "outputs": [
    {
     "name": "stdout",
     "output_type": "stream",
     "text": [
      "time: 43.4 ms\n"
     ]
    }
   ],
   "source": [
    "# Read tables\n",
    "A = mg.read_csv_metadata('DBLP_ACM/DBLP_cleaned.csv', key='id')\n",
    "B = mg.read_csv_metadata('DBLP_ACM/ACM_cleaned.csv', key='id')"
   ]
  },
  {
   "cell_type": "code",
   "execution_count": 6,
   "metadata": {
    "collapsed": false
   },
   "outputs": [
    {
     "data": {
      "text/html": [
       "<div>\n",
       "<table border=\"1\" class=\"dataframe\">\n",
       "  <thead>\n",
       "    <tr style=\"text-align: right;\">\n",
       "      <th></th>\n",
       "      <th>id</th>\n",
       "      <th>title</th>\n",
       "      <th>authors</th>\n",
       "      <th>venue</th>\n",
       "      <th>year</th>\n",
       "    </tr>\n",
       "  </thead>\n",
       "  <tbody>\n",
       "    <tr>\n",
       "      <th>0</th>\n",
       "      <td>journals/sigmod/Mackay99</td>\n",
       "      <td>Semantic Integration of Environmental Models for Application to Global Information Systems and D...</td>\n",
       "      <td>D. Scott Mackay</td>\n",
       "      <td>SIGMOD Record</td>\n",
       "      <td>1999</td>\n",
       "    </tr>\n",
       "    <tr>\n",
       "      <th>1</th>\n",
       "      <td>conf/vldb/PoosalaI96</td>\n",
       "      <td>Estimation of Query-Result Distribution and its Application in Parallel-Join Load Balancing</td>\n",
       "      <td>Viswanath Poosala, Yannis E. Ioannidis</td>\n",
       "      <td>VLDB</td>\n",
       "      <td>1996</td>\n",
       "    </tr>\n",
       "  </tbody>\n",
       "</table>\n",
       "</div>"
      ],
      "text/plain": [
       "                         id  \\\n",
       "0  journals/sigmod/Mackay99   \n",
       "1      conf/vldb/PoosalaI96   \n",
       "\n",
       "                                                                                                 title  \\\n",
       "0  Semantic Integration of Environmental Models for Application to Global Information Systems and D...   \n",
       "1          Estimation of Query-Result Distribution and its Application in Parallel-Join Load Balancing   \n",
       "\n",
       "                                  authors          venue  year  \n",
       "0                         D. Scott Mackay  SIGMOD Record  1999  \n",
       "1  Viswanath Poosala, Yannis E. Ioannidis           VLDB  1996  "
      ]
     },
     "execution_count": 6,
     "metadata": {},
     "output_type": "execute_result"
    },
    {
     "name": "stdout",
     "output_type": "stream",
     "text": [
      "time: 36 ms\n"
     ]
    }
   ],
   "source": [
    "A.head(2)"
   ]
  },
  {
   "cell_type": "code",
   "execution_count": 7,
   "metadata": {
    "collapsed": false
   },
   "outputs": [
    {
     "data": {
      "text/html": [
       "<div>\n",
       "<table border=\"1\" class=\"dataframe\">\n",
       "  <thead>\n",
       "    <tr style=\"text-align: right;\">\n",
       "      <th></th>\n",
       "      <th>id</th>\n",
       "      <th>title</th>\n",
       "      <th>authors</th>\n",
       "      <th>venue</th>\n",
       "      <th>year</th>\n",
       "    </tr>\n",
       "  </thead>\n",
       "  <tbody>\n",
       "    <tr>\n",
       "      <th>0</th>\n",
       "      <td>304586</td>\n",
       "      <td>The WASA2 object-oriented workflow management system</td>\n",
       "      <td>Gottfried Vossen, Mathias Weske</td>\n",
       "      <td>International Conference on Management of Data</td>\n",
       "      <td>1999</td>\n",
       "    </tr>\n",
       "    <tr>\n",
       "      <th>1</th>\n",
       "      <td>304587</td>\n",
       "      <td>A user-centered interface for querying distributed multimedia databases</td>\n",
       "      <td>Isabel F. Cruz, Kimberly M. James</td>\n",
       "      <td>International Conference on Management of Data</td>\n",
       "      <td>1999</td>\n",
       "    </tr>\n",
       "  </tbody>\n",
       "</table>\n",
       "</div>"
      ],
      "text/plain": [
       "       id  \\\n",
       "0  304586   \n",
       "1  304587   \n",
       "\n",
       "                                                                     title  \\\n",
       "0                     The WASA2 object-oriented workflow management system   \n",
       "1  A user-centered interface for querying distributed multimedia databases   \n",
       "\n",
       "                             authors  \\\n",
       "0    Gottfried Vossen, Mathias Weske   \n",
       "1  Isabel F. Cruz, Kimberly M. James   \n",
       "\n",
       "                                            venue  year  \n",
       "0  International Conference on Management of Data  1999  \n",
       "1  International Conference on Management of Data  1999  "
      ]
     },
     "execution_count": 7,
     "metadata": {},
     "output_type": "execute_result"
    },
    {
     "name": "stdout",
     "output_type": "stream",
     "text": [
      "time: 13.7 ms\n"
     ]
    }
   ],
   "source": [
    "B.head(2)"
   ]
  },
  {
   "cell_type": "code",
   "execution_count": 8,
   "metadata": {
    "collapsed": false
   },
   "outputs": [
    {
     "data": {
      "text/plain": [
       "'id'"
      ]
     },
     "execution_count": 8,
     "metadata": {},
     "output_type": "execute_result"
    },
    {
     "name": "stdout",
     "output_type": "stream",
     "text": [
      "time: 4.96 ms\n"
     ]
    }
   ],
   "source": [
    "mg.get_key(A)"
   ]
  },
  {
   "cell_type": "code",
   "execution_count": 9,
   "metadata": {
    "collapsed": false
   },
   "outputs": [
    {
     "data": {
      "text/plain": [
       "'id'"
      ]
     },
     "execution_count": 9,
     "metadata": {},
     "output_type": "execute_result"
    },
    {
     "name": "stdout",
     "output_type": "stream",
     "text": [
      "time: 3.66 ms\n"
     ]
    }
   ],
   "source": [
    "mg.get_key(B)"
   ]
  },
  {
   "cell_type": "code",
   "execution_count": 10,
   "metadata": {
    "collapsed": false
   },
   "outputs": [
    {
     "name": "stdout",
     "output_type": "stream",
     "text": [
      "time: 1.01 ms\n"
     ]
    }
   ],
   "source": [
    "# Block tables to get the candidate set.\n",
    "# Plan\n",
    "\n",
    "# A, B ------ AttrEquivalence blocker [year] -----> C"
   ]
  },
  {
   "cell_type": "code",
   "execution_count": 11,
   "metadata": {
    "collapsed": false
   },
   "outputs": [
    {
     "name": "stdout",
     "output_type": "stream",
     "text": [
      "time: 269 ms\n"
     ]
    }
   ],
   "source": [
    "# Create attribute equivalence blocker\n",
    "ab = mg.AttrEquivalenceBlocker()\n",
    "# Block tables using 'year' attribute: same year then include in the canidate set\n",
    "C1 = ab.block_tables(A, B, 'year', 'year', \n",
    "                   l_output_attrs=['title', 'authors', 'year'],\n",
    "                   r_output_attrs=['title', 'authors', 'year']\n",
    "                   )"
   ]
  },
  {
   "cell_type": "code",
   "execution_count": 12,
   "metadata": {
    "collapsed": false
   },
   "outputs": [
    {
     "data": {
      "text/plain": [
       "601284"
      ]
     },
     "execution_count": 12,
     "metadata": {},
     "output_type": "execute_result"
    },
    {
     "name": "stdout",
     "output_type": "stream",
     "text": [
      "time: 2.55 ms\n"
     ]
    }
   ],
   "source": [
    "len(C1)"
   ]
  },
  {
   "cell_type": "code",
   "execution_count": 13,
   "metadata": {
    "collapsed": false
   },
   "outputs": [
    {
     "data": {
      "text/html": [
       "<div>\n",
       "<table border=\"1\" class=\"dataframe\">\n",
       "  <thead>\n",
       "    <tr style=\"text-align: right;\">\n",
       "      <th></th>\n",
       "      <th>_id</th>\n",
       "      <th>ltable_id</th>\n",
       "      <th>rtable_id</th>\n",
       "      <th>ltable_title</th>\n",
       "      <th>ltable_authors</th>\n",
       "      <th>ltable_year</th>\n",
       "      <th>rtable_title</th>\n",
       "      <th>rtable_authors</th>\n",
       "      <th>rtable_year</th>\n",
       "    </tr>\n",
       "  </thead>\n",
       "  <tbody>\n",
       "    <tr>\n",
       "      <th>0</th>\n",
       "      <td>0</td>\n",
       "      <td>journals/sigmod/Mackay99</td>\n",
       "      <td>304586</td>\n",
       "      <td>Semantic Integration of Environmental Models for Application to Global Information Systems and D...</td>\n",
       "      <td>D. Scott Mackay</td>\n",
       "      <td>1999</td>\n",
       "      <td>The WASA2 object-oriented workflow management system</td>\n",
       "      <td>Gottfried Vossen, Mathias Weske</td>\n",
       "      <td>1999</td>\n",
       "    </tr>\n",
       "    <tr>\n",
       "      <th>1</th>\n",
       "      <td>1</td>\n",
       "      <td>journals/sigmod/Mackay99</td>\n",
       "      <td>304587</td>\n",
       "      <td>Semantic Integration of Environmental Models for Application to Global Information Systems and D...</td>\n",
       "      <td>D. Scott Mackay</td>\n",
       "      <td>1999</td>\n",
       "      <td>A user-centered interface for querying distributed multimedia databases</td>\n",
       "      <td>Isabel F. Cruz, Kimberly M. James</td>\n",
       "      <td>1999</td>\n",
       "    </tr>\n",
       "  </tbody>\n",
       "</table>\n",
       "</div>"
      ],
      "text/plain": [
       "   _id                 ltable_id  rtable_id  \\\n",
       "0    0  journals/sigmod/Mackay99     304586   \n",
       "1    1  journals/sigmod/Mackay99     304587   \n",
       "\n",
       "                                                                                          ltable_title  \\\n",
       "0  Semantic Integration of Environmental Models for Application to Global Information Systems and D...   \n",
       "1  Semantic Integration of Environmental Models for Application to Global Information Systems and D...   \n",
       "\n",
       "    ltable_authors  ltable_year  \\\n",
       "0  D. Scott Mackay         1999   \n",
       "1  D. Scott Mackay         1999   \n",
       "\n",
       "                                                              rtable_title  \\\n",
       "0                     The WASA2 object-oriented workflow management system   \n",
       "1  A user-centered interface for querying distributed multimedia databases   \n",
       "\n",
       "                      rtable_authors  rtable_year  \n",
       "0    Gottfried Vossen, Mathias Weske         1999  \n",
       "1  Isabel F. Cruz, Kimberly M. James         1999  "
      ]
     },
     "execution_count": 13,
     "metadata": {},
     "output_type": "execute_result"
    },
    {
     "name": "stdout",
     "output_type": "stream",
     "text": [
      "time: 43.2 ms\n"
     ]
    }
   ],
   "source": [
    "C1.head(2)"
   ]
  },
  {
   "cell_type": "code",
   "execution_count": 14,
   "metadata": {
    "collapsed": false
   },
   "outputs": [
    {
     "name": "stdout",
     "output_type": "stream",
     "text": [
      "time: 3.52 s\n"
     ]
    }
   ],
   "source": [
    "# Debug blocker output\n",
    "# Check whether the current blocker has dropped a lot of potential matches.\n",
    "dbg = mg.debug_blocker(A, B, C1, output_size=200)"
   ]
  },
  {
   "cell_type": "code",
   "execution_count": 15,
   "metadata": {
    "collapsed": false
   },
   "outputs": [
    {
     "data": {
      "text/html": [
       "<div>\n",
       "<table border=\"1\" class=\"dataframe\">\n",
       "  <thead>\n",
       "    <tr style=\"text-align: right;\">\n",
       "      <th></th>\n",
       "      <th>_id</th>\n",
       "      <th>similarity</th>\n",
       "      <th>ltable_id</th>\n",
       "      <th>rtable_id</th>\n",
       "      <th>ltable_title</th>\n",
       "      <th>ltable_authors</th>\n",
       "      <th>ltable_venue</th>\n",
       "      <th>rtable_title</th>\n",
       "      <th>rtable_authors</th>\n",
       "      <th>rtable_venue</th>\n",
       "    </tr>\n",
       "  </thead>\n",
       "  <tbody>\n",
       "    <tr>\n",
       "      <th>0</th>\n",
       "      <td>0</td>\n",
       "      <td>0.875</td>\n",
       "      <td>journals/sigmod/Aberer02</td>\n",
       "      <td>776994</td>\n",
       "      <td>Book Review Column</td>\n",
       "      <td>Karl Aberer</td>\n",
       "      <td>SIGMOD Record</td>\n",
       "      <td>Book review column</td>\n",
       "      <td>Karl Aberer</td>\n",
       "      <td>ACM SIGMOD Record</td>\n",
       "    </tr>\n",
       "    <tr>\n",
       "      <th>1</th>\n",
       "      <td>1</td>\n",
       "      <td>0.875</td>\n",
       "      <td>journals/sigmod/Aberer02a</td>\n",
       "      <td>776994</td>\n",
       "      <td>Book Review Column</td>\n",
       "      <td>Karl Aberer</td>\n",
       "      <td>SIGMOD Record</td>\n",
       "      <td>Book review column</td>\n",
       "      <td>Karl Aberer</td>\n",
       "      <td>ACM SIGMOD Record</td>\n",
       "    </tr>\n",
       "    <tr>\n",
       "      <th>2</th>\n",
       "      <td>2</td>\n",
       "      <td>0.875</td>\n",
       "      <td>journals/sigmod/Aberer02b</td>\n",
       "      <td>604274</td>\n",
       "      <td>Book Review Column</td>\n",
       "      <td>Karl Aberer</td>\n",
       "      <td>SIGMOD Record</td>\n",
       "      <td>Book review column</td>\n",
       "      <td>Karl Aberer</td>\n",
       "      <td>ACM SIGMOD Record</td>\n",
       "    </tr>\n",
       "    <tr>\n",
       "      <th>3</th>\n",
       "      <td>3</td>\n",
       "      <td>0.875</td>\n",
       "      <td>journals/sigmod/Aberer03b</td>\n",
       "      <td>601865</td>\n",
       "      <td>Book review column</td>\n",
       "      <td>Karl Aberer</td>\n",
       "      <td>SIGMOD Record</td>\n",
       "      <td>Book review column</td>\n",
       "      <td>Karl Aberer</td>\n",
       "      <td>ACM SIGMOD Record</td>\n",
       "    </tr>\n",
       "    <tr>\n",
       "      <th>4</th>\n",
       "      <td>4</td>\n",
       "      <td>0.875</td>\n",
       "      <td>journals/sigmod/Aberer02</td>\n",
       "      <td>604274</td>\n",
       "      <td>Book Review Column</td>\n",
       "      <td>Karl Aberer</td>\n",
       "      <td>SIGMOD Record</td>\n",
       "      <td>Book review column</td>\n",
       "      <td>Karl Aberer</td>\n",
       "      <td>ACM SIGMOD Record</td>\n",
       "    </tr>\n",
       "  </tbody>\n",
       "</table>\n",
       "</div>"
      ],
      "text/plain": [
       "   _id  similarity                  ltable_id  rtable_id        ltable_title  \\\n",
       "0    0       0.875   journals/sigmod/Aberer02     776994  Book Review Column   \n",
       "1    1       0.875  journals/sigmod/Aberer02a     776994  Book Review Column   \n",
       "2    2       0.875  journals/sigmod/Aberer02b     604274  Book Review Column   \n",
       "3    3       0.875  journals/sigmod/Aberer03b     601865  Book review column   \n",
       "4    4       0.875   journals/sigmod/Aberer02     604274  Book Review Column   \n",
       "\n",
       "  ltable_authors   ltable_venue        rtable_title rtable_authors  \\\n",
       "0    Karl Aberer  SIGMOD Record  Book review column    Karl Aberer   \n",
       "1    Karl Aberer  SIGMOD Record  Book review column    Karl Aberer   \n",
       "2    Karl Aberer  SIGMOD Record  Book review column    Karl Aberer   \n",
       "3    Karl Aberer  SIGMOD Record  Book review column    Karl Aberer   \n",
       "4    Karl Aberer  SIGMOD Record  Book review column    Karl Aberer   \n",
       "\n",
       "        rtable_venue  \n",
       "0  ACM SIGMOD Record  \n",
       "1  ACM SIGMOD Record  \n",
       "2  ACM SIGMOD Record  \n",
       "3  ACM SIGMOD Record  \n",
       "4  ACM SIGMOD Record  "
      ]
     },
     "execution_count": 15,
     "metadata": {},
     "output_type": "execute_result"
    },
    {
     "name": "stdout",
     "output_type": "stream",
     "text": [
      "time: 32.6 ms\n"
     ]
    }
   ],
   "source": [
    "dbg.head()"
   ]
  },
  {
   "cell_type": "code",
   "execution_count": 16,
   "metadata": {
    "collapsed": false
   },
   "outputs": [
    {
     "name": "stdout",
     "output_type": "stream",
     "text": [
      "time: 4.06 s\n"
     ]
    }
   ],
   "source": [
    "mg.view_table(dbg)"
   ]
  },
  {
   "cell_type": "code",
   "execution_count": 17,
   "metadata": {
    "collapsed": false
   },
   "outputs": [
    {
     "name": "stdout",
     "output_type": "stream",
     "text": [
      "time: 1.3 ms\n"
     ]
    }
   ],
   "source": [
    "# Update blocking sequence\n",
    "# A, B --------------------->---- AE blocker ----->----C1 -------\n",
    "#                                                                 |-----> C\n",
    "# A, B --------------------->---- Overlap blocker ----->----C2---\n"
   ]
  },
  {
   "cell_type": "code",
   "execution_count": 18,
   "metadata": {
    "collapsed": false
   },
   "outputs": [
    {
     "name": "stderr",
     "output_type": "stream",
     "text": [
      "0%                          100%\n",
      "[##############################] | ETA: 00:00:00\n",
      "Total time elapsed: 00:00:01\n"
     ]
    },
    {
     "name": "stdout",
     "output_type": "stream",
     "text": [
      "time: 2.56 s\n"
     ]
    }
   ],
   "source": [
    "ob = mg.OverlapBlocker()\n",
    "C2 = ob.block_tables(A, B, 'authors', 'authors', \n",
    "                   l_output_attrs=['title', 'authors', 'year'],\n",
    "                   r_output_attrs=['title', 'authors', 'year']\n",
    "                   )"
   ]
  },
  {
   "cell_type": "code",
   "execution_count": 19,
   "metadata": {
    "collapsed": false
   },
   "outputs": [
    {
     "data": {
      "text/plain": [
       "307217"
      ]
     },
     "execution_count": 19,
     "metadata": {},
     "output_type": "execute_result"
    },
    {
     "name": "stdout",
     "output_type": "stream",
     "text": [
      "time: 2.67 ms\n"
     ]
    }
   ],
   "source": [
    "len(C2)"
   ]
  },
  {
   "cell_type": "code",
   "execution_count": 20,
   "metadata": {
    "collapsed": false
   },
   "outputs": [
    {
     "data": {
      "text/html": [
       "<div>\n",
       "<table border=\"1\" class=\"dataframe\">\n",
       "  <thead>\n",
       "    <tr style=\"text-align: right;\">\n",
       "      <th></th>\n",
       "      <th>_id</th>\n",
       "      <th>ltable_id</th>\n",
       "      <th>rtable_id</th>\n",
       "      <th>ltable_title</th>\n",
       "      <th>ltable_authors</th>\n",
       "      <th>ltable_year</th>\n",
       "      <th>rtable_title</th>\n",
       "      <th>rtable_authors</th>\n",
       "      <th>rtable_year</th>\n",
       "    </tr>\n",
       "  </thead>\n",
       "  <tbody>\n",
       "    <tr>\n",
       "      <th>0</th>\n",
       "      <td>0</td>\n",
       "      <td>journals/tods/LechtenborgerV03</td>\n",
       "      <td>304586</td>\n",
       "      <td>On the computation of relational view complements</td>\n",
       "      <td>Vossen, Jens Gottfried Lechtenbrger</td>\n",
       "      <td>2003</td>\n",
       "      <td>The WASA2 object-oriented workflow management system</td>\n",
       "      <td>Mathias Vossen, Gottfried Weske</td>\n",
       "      <td>1999</td>\n",
       "    </tr>\n",
       "    <tr>\n",
       "      <th>1</th>\n",
       "      <td>1</td>\n",
       "      <td>journals/sigmod/CherniakV03</td>\n",
       "      <td>304586</td>\n",
       "      <td>Reminiscences on Influential Papers</td>\n",
       "      <td>Mitch Kenneth Cherniack, Gottfried A. Vossen Ross,</td>\n",
       "      <td>2003</td>\n",
       "      <td>The WASA2 object-oriented workflow management system</td>\n",
       "      <td>Mathias Vossen, Gottfried Weske</td>\n",
       "      <td>1999</td>\n",
       "    </tr>\n",
       "    <tr>\n",
       "      <th>2</th>\n",
       "      <td>2</td>\n",
       "      <td>conf/sigmod/VossenW99</td>\n",
       "      <td>304586</td>\n",
       "      <td>The WASA2 Object-Oriented Workflow Management System</td>\n",
       "      <td>Mathias Vossen Weske, Gottfried</td>\n",
       "      <td>1999</td>\n",
       "      <td>The WASA2 object-oriented workflow management system</td>\n",
       "      <td>Mathias Vossen, Gottfried Weske</td>\n",
       "      <td>1999</td>\n",
       "    </tr>\n",
       "    <tr>\n",
       "      <th>3</th>\n",
       "      <td>3</td>\n",
       "      <td>journals/sigmod/McClatcheyV97</td>\n",
       "      <td>304586</td>\n",
       "      <td>Workshop on Workflow Management in Scientific and Engineering Applications - Report</td>\n",
       "      <td>Vossen, McClatchey Gottfried Richard</td>\n",
       "      <td>1997</td>\n",
       "      <td>The WASA2 object-oriented workflow management system</td>\n",
       "      <td>Mathias Vossen, Gottfried Weske</td>\n",
       "      <td>1999</td>\n",
       "    </tr>\n",
       "    <tr>\n",
       "      <th>4</th>\n",
       "      <td>4</td>\n",
       "      <td>journals/vldb/LaurentLSV01</td>\n",
       "      <td>304586</td>\n",
       "      <td>Monotonic complements for independent data warehouses</td>\n",
       "      <td>Nicolas Dominique Lechtenbrger, Vossen, Jens Gottfried Laurent, Spyratos</td>\n",
       "      <td>2001</td>\n",
       "      <td>The WASA2 object-oriented workflow management system</td>\n",
       "      <td>Mathias Vossen, Gottfried Weske</td>\n",
       "      <td>1999</td>\n",
       "    </tr>\n",
       "  </tbody>\n",
       "</table>\n",
       "</div>"
      ],
      "text/plain": [
       "   _id                       ltable_id  rtable_id  \\\n",
       "0    0  journals/tods/LechtenborgerV03     304586   \n",
       "1    1     journals/sigmod/CherniakV03     304586   \n",
       "2    2           conf/sigmod/VossenW99     304586   \n",
       "3    3   journals/sigmod/McClatcheyV97     304586   \n",
       "4    4      journals/vldb/LaurentLSV01     304586   \n",
       "\n",
       "                                                                          ltable_title  \\\n",
       "0                                    On the computation of relational view complements   \n",
       "1                                                  Reminiscences on Influential Papers   \n",
       "2                                 The WASA2 Object-Oriented Workflow Management System   \n",
       "3  Workshop on Workflow Management in Scientific and Engineering Applications - Report   \n",
       "4                                Monotonic complements for independent data warehouses   \n",
       "\n",
       "                                                             ltable_authors  \\\n",
       "0                                       Vossen, Jens Gottfried Lechtenbrger   \n",
       "1                        Mitch Kenneth Cherniack, Gottfried A. Vossen Ross,   \n",
       "2                                           Mathias Vossen Weske, Gottfried   \n",
       "3                                      Vossen, McClatchey Gottfried Richard   \n",
       "4  Nicolas Dominique Lechtenbrger, Vossen, Jens Gottfried Laurent, Spyratos   \n",
       "\n",
       "   ltable_year                                          rtable_title  \\\n",
       "0         2003  The WASA2 object-oriented workflow management system   \n",
       "1         2003  The WASA2 object-oriented workflow management system   \n",
       "2         1999  The WASA2 object-oriented workflow management system   \n",
       "3         1997  The WASA2 object-oriented workflow management system   \n",
       "4         2001  The WASA2 object-oriented workflow management system   \n",
       "\n",
       "                    rtable_authors  rtable_year  \n",
       "0  Mathias Vossen, Gottfried Weske         1999  \n",
       "1  Mathias Vossen, Gottfried Weske         1999  \n",
       "2  Mathias Vossen, Gottfried Weske         1999  \n",
       "3  Mathias Vossen, Gottfried Weske         1999  \n",
       "4  Mathias Vossen, Gottfried Weske         1999  "
      ]
     },
     "execution_count": 20,
     "metadata": {},
     "output_type": "execute_result"
    },
    {
     "name": "stdout",
     "output_type": "stream",
     "text": [
      "time: 38.7 ms\n"
     ]
    }
   ],
   "source": [
    "C2.head()"
   ]
  },
  {
   "cell_type": "code",
   "execution_count": 21,
   "metadata": {
    "collapsed": false
   },
   "outputs": [
    {
     "name": "stdout",
     "output_type": "stream",
     "text": [
      "time: 1.22 s\n"
     ]
    }
   ],
   "source": [
    "# Combine blocker outputs\n",
    "C = mg.combine_blocker_outputs_via_union([C1, C2])"
   ]
  },
  {
   "cell_type": "code",
   "execution_count": 22,
   "metadata": {
    "collapsed": false
   },
   "outputs": [
    {
     "data": {
      "text/plain": [
       "875758"
      ]
     },
     "execution_count": 22,
     "metadata": {},
     "output_type": "execute_result"
    },
    {
     "name": "stdout",
     "output_type": "stream",
     "text": [
      "time: 2.7 ms\n"
     ]
    }
   ],
   "source": [
    "len(C)"
   ]
  },
  {
   "cell_type": "code",
   "execution_count": 23,
   "metadata": {
    "collapsed": false
   },
   "outputs": [
    {
     "name": "stdout",
     "output_type": "stream",
     "text": [
      "time: 6.04 s\n"
     ]
    }
   ],
   "source": [
    "# debug again\n",
    "dbg = mg.debug_blocker(A, B, C)"
   ]
  },
  {
   "cell_type": "code",
   "execution_count": 24,
   "metadata": {
    "collapsed": false
   },
   "outputs": [
    {
     "name": "stdout",
     "output_type": "stream",
     "text": [
      "time: 3.3 s\n"
     ]
    }
   ],
   "source": [
    "mg.view_table(dbg)"
   ]
  },
  {
   "cell_type": "code",
   "execution_count": 25,
   "metadata": {
    "collapsed": false
   },
   "outputs": [
    {
     "name": "stdout",
     "output_type": "stream",
     "text": [
      "time: 1.5 ms\n"
     ]
    }
   ],
   "source": [
    "# Match tuple pairs in the candidate set\n",
    "## Sample candidate set\n",
    "## Label the sampled candidate set\n",
    "## Split Labeled data into development and evaluation set\n",
    "## Select the best learning based matcher using the development\n",
    "## Evaluate the selected matcher using the evaluation setb"
   ]
  },
  {
   "cell_type": "code",
   "execution_count": 26,
   "metadata": {
    "collapsed": false
   },
   "outputs": [
    {
     "name": "stdout",
     "output_type": "stream",
     "text": [
      "time: 1.65 s\n"
     ]
    }
   ],
   "source": [
    "# Sample candidate set\n",
    "S = mg.sample_table(C, 450)"
   ]
  },
  {
   "cell_type": "code",
   "execution_count": 27,
   "metadata": {
    "collapsed": false
   },
   "outputs": [
    {
     "name": "stdout",
     "output_type": "stream",
     "text": [
      "time: 2.9 s\n"
     ]
    }
   ],
   "source": [
    "# Label S\n",
    "L = mg.label_table(S, 'gold')"
   ]
  },
  {
   "cell_type": "code",
   "execution_count": 32,
   "metadata": {
    "collapsed": false
   },
   "outputs": [
    {
     "data": {
      "text/plain": [
       "415"
      ]
     },
     "execution_count": 32,
     "metadata": {},
     "output_type": "execute_result"
    },
    {
     "name": "stdout",
     "output_type": "stream",
     "text": [
      "time: 10 ms\n"
     ]
    }
   ],
   "source": [
    "# Load the pre-labeled data\n",
    "L = mg.read_csv_metadata('DBLP_ACM/dblp_acm_demo_labels.csv', ltable=A, rtable=B)\n",
    "len(L)"
   ]
  },
  {
   "cell_type": "code",
   "execution_count": 34,
   "metadata": {
    "collapsed": false
   },
   "outputs": [
    {
     "name": "stdout",
     "output_type": "stream",
     "text": [
      "time: 11.2 ms\n"
     ]
    }
   ],
   "source": [
    "# Split G into development and evaluation\n",
    "development_evaluation = mg.split_train_test(L, train_proportion=0.7)\n",
    "development =  development_evaluation['train']\n",
    "evaluation = development_evaluation['test']"
   ]
  },
  {
   "cell_type": "code",
   "execution_count": 36,
   "metadata": {
    "collapsed": false
   },
   "outputs": [
    {
     "name": "stdout",
     "output_type": "stream",
     "text": [
      "time: 1.56 ms\n"
     ]
    }
   ],
   "source": [
    "# Selecting the best learning based matcher using the development set\n",
    "## Create a set of ML-matchers\n",
    "## Generate features \n",
    "## Extract feature vectors using the development set and the generated features\n",
    "## Select the best learning-based matcher using k-fold cross validation\n",
    "## Debug the selected matcher (and repeat the above steps)"
   ]
  },
  {
   "cell_type": "code",
   "execution_count": 37,
   "metadata": {
    "collapsed": false
   },
   "outputs": [
    {
     "name": "stdout",
     "output_type": "stream",
     "text": [
      "time: 3.59 ms\n"
     ]
    }
   ],
   "source": [
    "# Create a set of ML-matchers\n",
    "dt = mg.DTMatcher(name='DecisionTree')\n",
    "svm = mg.SVMMatcher(name='SVM')\n",
    "rf = mg.RFMatcher(name='RF')\n",
    "nb = mg.NBMatcher(name='NB')\n",
    "lg = mg.LogRegMatcher(name='LogReg')\n",
    "ln = mg.LinRegMatcher(name='LinReg')"
   ]
  },
  {
   "cell_type": "code",
   "execution_count": 38,
   "metadata": {
    "collapsed": false
   },
   "outputs": [
    {
     "name": "stdout",
     "output_type": "stream",
     "text": [
      "time: 64 ms\n"
     ]
    }
   ],
   "source": [
    "# Generate features\n",
    "feature_table = mg.get_features_for_matching(A, B)"
   ]
  },
  {
   "cell_type": "code",
   "execution_count": 39,
   "metadata": {
    "collapsed": false
   },
   "outputs": [
    {
     "data": {
      "text/plain": [
       "0             title_title_jac_qgm_3_qgm_3\n",
       "1         title_title_cos_dlm_dc0_dlm_dc0\n",
       "2                         title_title_mel\n",
       "3                    title_title_lev_dist\n",
       "4                     title_title_lev_sim\n",
       "5         authors_authors_jac_qgm_3_qgm_3\n",
       "6     authors_authors_cos_dlm_dc0_dlm_dc0\n",
       "7                     authors_authors_mel\n",
       "8                authors_authors_lev_dist\n",
       "9                 authors_authors_lev_sim\n",
       "10                          year_year_exm\n",
       "11                          year_year_anm\n",
       "12                     year_year_lev_dist\n",
       "13                      year_year_lev_sim\n",
       "Name: feature_name, dtype: object"
      ]
     },
     "execution_count": 39,
     "metadata": {},
     "output_type": "execute_result"
    },
    {
     "name": "stdout",
     "output_type": "stream",
     "text": [
      "time: 7.27 ms\n"
     ]
    }
   ],
   "source": [
    "feature_table['feature_name']"
   ]
  },
  {
   "cell_type": "code",
   "execution_count": 58,
   "metadata": {
    "collapsed": false
   },
   "outputs": [
    {
     "name": "stdout",
     "output_type": "stream",
     "text": [
      "time: 1.5 ms\n"
     ]
    }
   ],
   "source": [
    "# Select year related features\n",
    "feature_subset_iter1 = feature_table[10:14]"
   ]
  },
  {
   "cell_type": "code",
   "execution_count": 65,
   "metadata": {
    "collapsed": false
   },
   "outputs": [
    {
     "name": "stderr",
     "output_type": "stream",
     "text": [
      "0%                          100%\n",
      "[##############################] | ETA: 00:00:00"
     ]
    },
    {
     "name": "stdout",
     "output_type": "stream",
     "text": [
      "time: 353 ms\n"
     ]
    },
    {
     "name": "stderr",
     "output_type": "stream",
     "text": [
      "\n",
      "Total time elapsed: 00:00:00\n"
     ]
    }
   ],
   "source": [
    "# Extract feature vectors\n",
    "feature_vectors = mg.extract_feature_vecs(development, \n",
    "                            feature_table=feature_subset_iter1, \n",
    "                            attrs_after='gold')                                         "
   ]
  },
  {
   "cell_type": "code",
   "execution_count": 71,
   "metadata": {
    "collapsed": false
   },
   "outputs": [
    {
     "name": "stdout",
     "output_type": "stream",
     "text": [
      "Inside else condition\n",
      "time: 13 ms\n"
     ]
    }
   ],
   "source": [
    "# Impute feature vectors\n",
    "feature_vectors = mg.impute_table(feature_vectors, \n",
    "                exclude_attrs=['_id', 'ltable_id', 'rtable_id', 'gold'],\n",
    "                strategy='mean')"
   ]
  },
  {
   "cell_type": "code",
   "execution_count": 72,
   "metadata": {
    "collapsed": false
   },
   "outputs": [
    {
     "data": {
      "text/html": [
       "<div>\n",
       "<table border=\"1\" class=\"dataframe\">\n",
       "  <thead>\n",
       "    <tr style=\"text-align: right;\">\n",
       "      <th></th>\n",
       "      <th>_id</th>\n",
       "      <th>ltable_id</th>\n",
       "      <th>rtable_id</th>\n",
       "      <th>year_year_exm</th>\n",
       "      <th>year_year_anm</th>\n",
       "      <th>year_year_lev_dist</th>\n",
       "      <th>year_year_lev_sim</th>\n",
       "      <th>gold</th>\n",
       "    </tr>\n",
       "  </thead>\n",
       "  <tbody>\n",
       "    <tr>\n",
       "      <th>87</th>\n",
       "      <td>87</td>\n",
       "      <td>conf/sigmod/MinPC03</td>\n",
       "      <td>872775</td>\n",
       "      <td>1.0</td>\n",
       "      <td>1.000000</td>\n",
       "      <td>0.0</td>\n",
       "      <td>1.0</td>\n",
       "      <td>1</td>\n",
       "    </tr>\n",
       "    <tr>\n",
       "      <th>54</th>\n",
       "      <td>54</td>\n",
       "      <td>conf/sigmod/FernandezS96</td>\n",
       "      <td>775454</td>\n",
       "      <td>0.0</td>\n",
       "      <td>0.996505</td>\n",
       "      <td>4.0</td>\n",
       "      <td>0.0</td>\n",
       "      <td>0</td>\n",
       "    </tr>\n",
       "    <tr>\n",
       "      <th>355</th>\n",
       "      <td>355</td>\n",
       "      <td>journals/sigmod/Weikum02</td>\n",
       "      <td>601867</td>\n",
       "      <td>1.0</td>\n",
       "      <td>1.000000</td>\n",
       "      <td>0.0</td>\n",
       "      <td>1.0</td>\n",
       "      <td>1</td>\n",
       "    </tr>\n",
       "  </tbody>\n",
       "</table>\n",
       "</div>"
      ],
      "text/plain": [
       "     _id                 ltable_id  rtable_id  year_year_exm  year_year_anm  \\\n",
       "87    87       conf/sigmod/MinPC03     872775            1.0       1.000000   \n",
       "54    54  conf/sigmod/FernandezS96     775454            0.0       0.996505   \n",
       "355  355  journals/sigmod/Weikum02     601867            1.0       1.000000   \n",
       "\n",
       "     year_year_lev_dist  year_year_lev_sim  gold  \n",
       "87                  0.0                1.0     1  \n",
       "54                  4.0                0.0     0  \n",
       "355                 0.0                1.0     1  "
      ]
     },
     "execution_count": 72,
     "metadata": {},
     "output_type": "execute_result"
    },
    {
     "name": "stdout",
     "output_type": "stream",
     "text": [
      "time: 19 ms\n"
     ]
    }
   ],
   "source": [
    "feature_vectors.head(3)"
   ]
  },
  {
   "cell_type": "code",
   "execution_count": 73,
   "metadata": {
    "collapsed": false
   },
   "outputs": [
    {
     "name": "stdout",
     "output_type": "stream",
     "text": [
      "time: 199 ms\n"
     ]
    }
   ],
   "source": [
    "# Select the best ML matcher using CV\n",
    "result = mg.select_matcher([dt, rf, svm, nb, lg, ln], table=feature_vectors, \n",
    "        exclude_attrs=['_id', 'ltable_id', 'rtable_id', 'gold'],\n",
    "        k=5,\n",
    "        target_attr='gold', metric='f1') "
   ]
  },
  {
   "cell_type": "code",
   "execution_count": 74,
   "metadata": {
    "collapsed": false
   },
   "outputs": [
    {
     "data": {
      "text/html": [
       "<div>\n",
       "<table border=\"1\" class=\"dataframe\">\n",
       "  <thead>\n",
       "    <tr style=\"text-align: right;\">\n",
       "      <th></th>\n",
       "      <th>Name</th>\n",
       "      <th>Matcher</th>\n",
       "      <th>Num folds</th>\n",
       "      <th>Fold 1</th>\n",
       "      <th>Fold 2</th>\n",
       "      <th>Fold 3</th>\n",
       "      <th>Fold 4</th>\n",
       "      <th>Fold 5</th>\n",
       "      <th>Mean score</th>\n",
       "    </tr>\n",
       "  </thead>\n",
       "  <tbody>\n",
       "    <tr>\n",
       "      <th>0</th>\n",
       "      <td>DecisionTree</td>\n",
       "      <td>&lt;magellan.matcher.dtmatcher.DTMatcher object at 0x113d5b310&gt;</td>\n",
       "      <td>5</td>\n",
       "      <td>0.827586</td>\n",
       "      <td>0.904762</td>\n",
       "      <td>0.886076</td>\n",
       "      <td>0.876712</td>\n",
       "      <td>0.837838</td>\n",
       "      <td>0.866595</td>\n",
       "    </tr>\n",
       "    <tr>\n",
       "      <th>1</th>\n",
       "      <td>RF</td>\n",
       "      <td>&lt;magellan.matcher.rfmatcher.RFMatcher object at 0x113d5b210&gt;</td>\n",
       "      <td>5</td>\n",
       "      <td>0.860759</td>\n",
       "      <td>0.818182</td>\n",
       "      <td>0.857143</td>\n",
       "      <td>0.891892</td>\n",
       "      <td>0.911392</td>\n",
       "      <td>0.867874</td>\n",
       "    </tr>\n",
       "    <tr>\n",
       "      <th>2</th>\n",
       "      <td>SVM</td>\n",
       "      <td>&lt;magellan.matcher.svmmatcher.SVMMatcher object at 0x113d5b2d0&gt;</td>\n",
       "      <td>5</td>\n",
       "      <td>0.840580</td>\n",
       "      <td>0.904110</td>\n",
       "      <td>0.852941</td>\n",
       "      <td>0.805195</td>\n",
       "      <td>0.938272</td>\n",
       "      <td>0.868219</td>\n",
       "    </tr>\n",
       "    <tr>\n",
       "      <th>3</th>\n",
       "      <td>NB</td>\n",
       "      <td>&lt;magellan.matcher.nbmatcher.NBMatcher object at 0x113d5b190&gt;</td>\n",
       "      <td>5</td>\n",
       "      <td>0.957746</td>\n",
       "      <td>0.891892</td>\n",
       "      <td>0.746269</td>\n",
       "      <td>0.902439</td>\n",
       "      <td>0.837838</td>\n",
       "      <td>0.867237</td>\n",
       "    </tr>\n",
       "    <tr>\n",
       "      <th>4</th>\n",
       "      <td>LogReg</td>\n",
       "      <td>&lt;magellan.matcher.logregmatcher.LogRegMatcher object at 0x113d5b0d0&gt;</td>\n",
       "      <td>5</td>\n",
       "      <td>0.888889</td>\n",
       "      <td>0.826667</td>\n",
       "      <td>0.861111</td>\n",
       "      <td>0.942529</td>\n",
       "      <td>0.816901</td>\n",
       "      <td>0.867219</td>\n",
       "    </tr>\n",
       "    <tr>\n",
       "      <th>5</th>\n",
       "      <td>LinReg</td>\n",
       "      <td>&lt;magellan.matcher.linregmatcher.LinRegMatcher object at 0x113d5b050&gt;</td>\n",
       "      <td>5</td>\n",
       "      <td>0.864198</td>\n",
       "      <td>0.793651</td>\n",
       "      <td>0.885714</td>\n",
       "      <td>0.883117</td>\n",
       "      <td>0.909091</td>\n",
       "      <td>0.867154</td>\n",
       "    </tr>\n",
       "  </tbody>\n",
       "</table>\n",
       "</div>"
      ],
      "text/plain": [
       "           Name  \\\n",
       "0  DecisionTree   \n",
       "1            RF   \n",
       "2           SVM   \n",
       "3            NB   \n",
       "4        LogReg   \n",
       "5        LinReg   \n",
       "\n",
       "                                                                Matcher  \\\n",
       "0          <magellan.matcher.dtmatcher.DTMatcher object at 0x113d5b310>   \n",
       "1          <magellan.matcher.rfmatcher.RFMatcher object at 0x113d5b210>   \n",
       "2        <magellan.matcher.svmmatcher.SVMMatcher object at 0x113d5b2d0>   \n",
       "3          <magellan.matcher.nbmatcher.NBMatcher object at 0x113d5b190>   \n",
       "4  <magellan.matcher.logregmatcher.LogRegMatcher object at 0x113d5b0d0>   \n",
       "5  <magellan.matcher.linregmatcher.LinRegMatcher object at 0x113d5b050>   \n",
       "\n",
       "   Num folds    Fold 1    Fold 2    Fold 3    Fold 4    Fold 5  Mean score  \n",
       "0          5  0.827586  0.904762  0.886076  0.876712  0.837838    0.866595  \n",
       "1          5  0.860759  0.818182  0.857143  0.891892  0.911392    0.867874  \n",
       "2          5  0.840580  0.904110  0.852941  0.805195  0.938272    0.868219  \n",
       "3          5  0.957746  0.891892  0.746269  0.902439  0.837838    0.867237  \n",
       "4          5  0.888889  0.826667  0.861111  0.942529  0.816901    0.867219  \n",
       "5          5  0.864198  0.793651  0.885714  0.883117  0.909091    0.867154  "
      ]
     },
     "execution_count": 74,
     "metadata": {},
     "output_type": "execute_result"
    },
    {
     "name": "stdout",
     "output_type": "stream",
     "text": [
      "time: 24.1 ms\n"
     ]
    }
   ],
   "source": [
    "result['cv_stats']"
   ]
  },
  {
   "cell_type": "code",
   "execution_count": 76,
   "metadata": {
    "collapsed": false
   },
   "outputs": [
    {
     "name": "stdout",
     "output_type": "stream",
     "text": [
      "time: 11.2 ms\n"
     ]
    }
   ],
   "source": [
    "# Debug matcher\n",
    "# # Split feature vectors into train and test\n",
    "train_test = mg.split_train_test(feature_vectors, train_proportion=0.5)\n",
    "train = train_test['train']\n",
    "test = train_test['test']"
   ]
  },
  {
   "cell_type": "code",
   "execution_count": 77,
   "metadata": {
    "collapsed": false
   },
   "outputs": [
    {
     "name": "stdout",
     "output_type": "stream",
     "text": [
      "time: 21 s\n"
     ]
    }
   ],
   "source": [
    "# Debug decision tree using GUI\n",
    "mg.vis_debug_dt(dt, train, test, \n",
    "        exclude_attrs=['_id', 'ltable_id', 'rtable_id', 'gold'],\n",
    "        target_attr='gold')"
   ]
  },
  {
   "cell_type": "code",
   "execution_count": 78,
   "metadata": {
    "collapsed": false
   },
   "outputs": [
    {
     "name": "stdout",
     "output_type": "stream",
     "text": [
      "time: 1.07 ms\n"
     ]
    }
   ],
   "source": [
    "# Select all features\n",
    "feature_subset_iter2 = feature_table"
   ]
  },
  {
   "cell_type": "code",
   "execution_count": 88,
   "metadata": {
    "collapsed": false
   },
   "outputs": [
    {
     "name": "stderr",
     "output_type": "stream",
     "text": [
      "0%                          100%\n",
      "[##############################] | ETA: 00:00:00\n",
      "Total time elapsed: 00:00:01\n"
     ]
    },
    {
     "name": "stdout",
     "output_type": "stream",
     "text": [
      "Inside else condition\n",
      "time: 1.24 s\n"
     ]
    }
   ],
   "source": [
    "# Get new set of features\n",
    "feature_vectors = mg.extract_feature_vecs(development, feature_table=feature_subset_iter2, attrs_after='gold')\n",
    "# Impute feature vectors\n",
    "feature_vectors = mg.impute_table(feature_vectors, \n",
    "                exclude_attrs=['_id', 'ltable_id', 'rtable_id', 'gold'],\n",
    "                strategy='mean')"
   ]
  },
  {
   "cell_type": "code",
   "execution_count": 82,
   "metadata": {
    "collapsed": false
   },
   "outputs": [
    {
     "name": "stdout",
     "output_type": "stream",
     "text": [
      "time: 228 ms\n"
     ]
    }
   ],
   "source": [
    "# Apply cross validation to find if there is a better matcher\n",
    "result = mg.select_matcher([dt, rf, svm, nb, lg, ln], table=feature_vectors, \n",
    "        exclude_attrs=['_id', 'ltable_id', 'rtable_id', 'gold'],\n",
    "        target_attr='gold', metric='f1') "
   ]
  },
  {
   "cell_type": "code",
   "execution_count": 83,
   "metadata": {
    "collapsed": false
   },
   "outputs": [
    {
     "data": {
      "text/html": [
       "<div>\n",
       "<table border=\"1\" class=\"dataframe\">\n",
       "  <thead>\n",
       "    <tr style=\"text-align: right;\">\n",
       "      <th></th>\n",
       "      <th>Name</th>\n",
       "      <th>Matcher</th>\n",
       "      <th>Num folds</th>\n",
       "      <th>Fold 1</th>\n",
       "      <th>Fold 2</th>\n",
       "      <th>Fold 3</th>\n",
       "      <th>Fold 4</th>\n",
       "      <th>Fold 5</th>\n",
       "      <th>Mean score</th>\n",
       "    </tr>\n",
       "  </thead>\n",
       "  <tbody>\n",
       "    <tr>\n",
       "      <th>0</th>\n",
       "      <td>DecisionTree</td>\n",
       "      <td>&lt;magellan.matcher.dtmatcher.DTMatcher object at 0x113d5b310&gt;</td>\n",
       "      <td>5</td>\n",
       "      <td>1.000000</td>\n",
       "      <td>0.950820</td>\n",
       "      <td>0.985507</td>\n",
       "      <td>1.000000</td>\n",
       "      <td>0.984615</td>\n",
       "      <td>0.984188</td>\n",
       "    </tr>\n",
       "    <tr>\n",
       "      <th>1</th>\n",
       "      <td>RF</td>\n",
       "      <td>&lt;magellan.matcher.rfmatcher.RFMatcher object at 0x113d5b210&gt;</td>\n",
       "      <td>5</td>\n",
       "      <td>0.982456</td>\n",
       "      <td>1.000000</td>\n",
       "      <td>0.984615</td>\n",
       "      <td>1.000000</td>\n",
       "      <td>0.968750</td>\n",
       "      <td>0.987164</td>\n",
       "    </tr>\n",
       "    <tr>\n",
       "      <th>2</th>\n",
       "      <td>SVM</td>\n",
       "      <td>&lt;magellan.matcher.svmmatcher.SVMMatcher object at 0x113d5b2d0&gt;</td>\n",
       "      <td>5</td>\n",
       "      <td>0.830189</td>\n",
       "      <td>0.953846</td>\n",
       "      <td>0.869565</td>\n",
       "      <td>0.945946</td>\n",
       "      <td>0.939394</td>\n",
       "      <td>0.907788</td>\n",
       "    </tr>\n",
       "    <tr>\n",
       "      <th>3</th>\n",
       "      <td>NB</td>\n",
       "      <td>&lt;magellan.matcher.nbmatcher.NBMatcher object at 0x113d5b190&gt;</td>\n",
       "      <td>5</td>\n",
       "      <td>1.000000</td>\n",
       "      <td>1.000000</td>\n",
       "      <td>0.984615</td>\n",
       "      <td>1.000000</td>\n",
       "      <td>0.983607</td>\n",
       "      <td>0.993644</td>\n",
       "    </tr>\n",
       "    <tr>\n",
       "      <th>4</th>\n",
       "      <td>LogReg</td>\n",
       "      <td>&lt;magellan.matcher.logregmatcher.LogRegMatcher object at 0x113d5b0d0&gt;</td>\n",
       "      <td>5</td>\n",
       "      <td>1.000000</td>\n",
       "      <td>0.952381</td>\n",
       "      <td>1.000000</td>\n",
       "      <td>0.985075</td>\n",
       "      <td>0.986667</td>\n",
       "      <td>0.984824</td>\n",
       "    </tr>\n",
       "    <tr>\n",
       "      <th>5</th>\n",
       "      <td>LinReg</td>\n",
       "      <td>&lt;magellan.matcher.linregmatcher.LinRegMatcher object at 0x113d5b050&gt;</td>\n",
       "      <td>5</td>\n",
       "      <td>0.969697</td>\n",
       "      <td>1.000000</td>\n",
       "      <td>0.982456</td>\n",
       "      <td>0.972222</td>\n",
       "      <td>0.965517</td>\n",
       "      <td>0.977979</td>\n",
       "    </tr>\n",
       "  </tbody>\n",
       "</table>\n",
       "</div>"
      ],
      "text/plain": [
       "           Name  \\\n",
       "0  DecisionTree   \n",
       "1            RF   \n",
       "2           SVM   \n",
       "3            NB   \n",
       "4        LogReg   \n",
       "5        LinReg   \n",
       "\n",
       "                                                                Matcher  \\\n",
       "0          <magellan.matcher.dtmatcher.DTMatcher object at 0x113d5b310>   \n",
       "1          <magellan.matcher.rfmatcher.RFMatcher object at 0x113d5b210>   \n",
       "2        <magellan.matcher.svmmatcher.SVMMatcher object at 0x113d5b2d0>   \n",
       "3          <magellan.matcher.nbmatcher.NBMatcher object at 0x113d5b190>   \n",
       "4  <magellan.matcher.logregmatcher.LogRegMatcher object at 0x113d5b0d0>   \n",
       "5  <magellan.matcher.linregmatcher.LinRegMatcher object at 0x113d5b050>   \n",
       "\n",
       "   Num folds    Fold 1    Fold 2    Fold 3    Fold 4    Fold 5  Mean score  \n",
       "0          5  1.000000  0.950820  0.985507  1.000000  0.984615    0.984188  \n",
       "1          5  0.982456  1.000000  0.984615  1.000000  0.968750    0.987164  \n",
       "2          5  0.830189  0.953846  0.869565  0.945946  0.939394    0.907788  \n",
       "3          5  1.000000  1.000000  0.984615  1.000000  0.983607    0.993644  \n",
       "4          5  1.000000  0.952381  1.000000  0.985075  0.986667    0.984824  \n",
       "5          5  0.969697  1.000000  0.982456  0.972222  0.965517    0.977979  "
      ]
     },
     "execution_count": 83,
     "metadata": {},
     "output_type": "execute_result"
    },
    {
     "name": "stdout",
     "output_type": "stream",
     "text": [
      "time: 18.5 ms\n"
     ]
    }
   ],
   "source": [
    "result['cv_stats']"
   ]
  },
  {
   "cell_type": "code",
   "execution_count": 84,
   "metadata": {
    "collapsed": false
   },
   "outputs": [
    {
     "name": "stdout",
     "output_type": "stream",
     "text": [
      "time: 1.42 ms\n"
     ]
    }
   ],
   "source": [
    "# Evaluate matcher using the evaluation set\n",
    "# 1. Extract feature vectors (using feature_subset_iter2)\n",
    "# 2. Train matcher using feature vectors generated from the development set\n",
    "# 3. Predict the evaluation set using the trained matcher\n",
    "# 4. Evaluate the matches"
   ]
  },
  {
   "cell_type": "code",
   "execution_count": 89,
   "metadata": {
    "collapsed": false
   },
   "outputs": [
    {
     "name": "stderr",
     "output_type": "stream",
     "text": [
      "0%                          100%\n",
      "[##############################] | ETA: 00:00:00\n",
      "Total time elapsed: 00:00:00\n"
     ]
    },
    {
     "name": "stdout",
     "output_type": "stream",
     "text": [
      "Inside else condition\n",
      "time: 530 ms\n"
     ]
    }
   ],
   "source": [
    "# Get new set of features\n",
    "feature_vectors_eval = mg.extract_feature_vecs(evaluation, \n",
    "                                               feature_table=feature_subset_iter2, \n",
    "                                               attrs_after='gold')\n",
    "# Impute feature vectors\n",
    "feature_vectors_eval = mg.impute_table(feature_vectors, \n",
    "                exclude_attrs=['_id', 'ltable_id', 'rtable_id', 'gold'],\n",
    "                strategy='mean')"
   ]
  },
  {
   "cell_type": "code",
   "execution_count": 90,
   "metadata": {
    "collapsed": false
   },
   "outputs": [
    {
     "name": "stdout",
     "output_type": "stream",
     "text": [
      "time: 40.7 ms\n"
     ]
    }
   ],
   "source": [
    "# Train using feature vectors from the development set\n",
    "rf.fit(table=feature_vectors, \n",
    "       exclude_attrs=['_id', 'ltable_id', 'rtable_id', 'gold'], \n",
    "       target_attr='gold')\n",
    "# Predict M \n",
    "predictions = rf.predict(table=feature_vectors_eval, \n",
    "                         exclude_attrs=['_id', 'ltable_id', 'rtable_id', 'gold'], \n",
    "                         append=True, \n",
    "                         target_attr='predicted', \n",
    "                         inplace=False)"
   ]
  },
  {
   "cell_type": "code",
   "execution_count": 91,
   "metadata": {
    "collapsed": false
   },
   "outputs": [
    {
     "name": "stdout",
     "output_type": "stream",
     "text": [
      "Precision : 100.0% (160/160)\n",
      "Recall : 100.0% (160/160)\n",
      "F1 : 100.0%\n",
      "False positives : 0 (out of 160 positive predictions)\n",
      "False negatives : 0 (out of 130 negative predictions)\n",
      "time: 18.3 ms\n"
     ]
    }
   ],
   "source": [
    "# Evaluate the result\n",
    "eval_result = mg.eval_matches(predictions, 'gold', 'predicted')\n",
    "mg.print_eval_summary(eval_result)"
   ]
  }
 ],
 "metadata": {
  "kernelspec": {
   "display_name": "Python [Root]",
   "language": "python",
   "name": "Python [Root]"
  },
  "language_info": {
   "codemirror_mode": {
    "name": "ipython",
    "version": 2
   },
   "file_extension": ".py",
   "mimetype": "text/x-python",
   "name": "python",
   "nbconvert_exporter": "python",
   "pygments_lexer": "ipython2",
   "version": "2.7.12"
  }
 },
 "nbformat": 4,
 "nbformat_minor": 0
}
