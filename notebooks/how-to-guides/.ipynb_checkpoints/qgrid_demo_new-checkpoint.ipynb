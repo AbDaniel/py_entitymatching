{
 "cells": [
  {
   "cell_type": "markdown",
   "metadata": {},
   "source": [
    "qgrid - SlickGrid in Jupyter Notebooks\n",
    "======================================\n",
    "Qgrid is an IPython widget which uses a javascript library called SlickGrid to render pandas DataFrames within a Jupyter notebook.  It was developed for use in [Quantopian's hosted research environment]( https://www.quantopian.com/research?utm_source=github&utm_medium=web&utm_campaign=qgrid-nbviewer)."
   ]
  },
  {
   "cell_type": "markdown",
   "metadata": {},
   "source": [
    "## Overview\n",
    "* [SlickGrid](https://github.com/mleibman/SlickGrid) is a javascript grid which allows users to scroll, sort, \n",
    "and filter hundreds of thousands of rows with extreme responsiveness.  \n",
    "* [Pandas](https://github.com/pydata/pandas) is a powerful data analysis / manipulation library for Python, and DataFrames are the primary way of storing and manipulating two-dimensional data in pandas.\n",
    "\n",
    "[Qgrid](https://github.com/quantopian/qgrid) renders pandas DataFrames as SlickGrids, which enables users to explore the entire contents of a DataFrame using intuitive sorting and filtering controls.  It's designed to be used within Jupyter notebook, and it's also mostly functional when rendered by [nbviewer](http://nbviewer.ipython\n",
    ".org/github/quantopian/qgrid/blob/master/qgrid_demo.ipynb)."
   ]
  },
  {
   "cell_type": "markdown",
   "metadata": {},
   "source": [
    "## Notebook installation\n",
    "First, import the qgrid module as you would any other module in Python.  If that doesn't work, something may have gone wrong while installing the qgrid package using pip.  I would go through the package installation steps on the [GitHub page](https://github.com/quantopian/qgrid) again with a new virtualenv to make sure everything installed correctly."
   ]
  },
  {
   "cell_type": "code",
   "execution_count": 1,
   "metadata": {
    "collapsed": true
   },
   "outputs": [],
   "source": [
    "import qgrid"
   ]
  },
  {
   "cell_type": "markdown",
   "metadata": {},
   "source": [
    "##### Prepare non-python dependencies by calling [nbinstall](http://qgrid.readthedocs.org/en/latest/#qgrid.nbinstall)\n",
    "This step is required because at this point all you've done to install qgrid is to call `pip install`.  Pip doesn't know which folder your Jupyter notebook widgets need to get copied to (let's call this the \"widgets folder\"), only the Jupyter notebook process knows that.  So you need to run one line of code from within the Jupyter notebook to copy qgrid to the widgets folder.  This only has to be done once for a particular version of qgrid.  That being said, if you're running qgrid from it's source code and making changes to it's source code, you'll need to run this line every time you make a change, or else the changes won't do anything.  See our [API docs for the nbinstall function](http://qgrid.readthedocs.org/en/latest/#qgrid.nbinstall) for more details."
   ]
  },
  {
   "cell_type": "code",
   "execution_count": 2,
   "metadata": {
    "collapsed": false
   },
   "outputs": [],
   "source": [
    "qgrid.nbinstall(overwrite=True)  # copies javascript dependencies to your /nbextensions folder"
   ]
  },
  {
   "cell_type": "markdown",
   "metadata": {},
   "source": [
    "## API & Usage\n",
    "API documentation is hosted on readthedocs: http://qgrid.readthedocs.org/en/latest/\n",
    "\n",
    "The API documentation can also be accessed via the \"?\" operator in IPython.  To use the \"?\" operator, type the name of the function followed by \"?\" to see the documentation for that function, like this:\n",
    "```\n",
    "qgrid.nbinstall?\n",
    "qgrid.show_grid?\n",
    "qgrid.set_defaults?\n",
    "qgrid.set_grid_options?\n",
    "\n",
    "```"
   ]
  },
  {
   "cell_type": "markdown",
   "metadata": {},
   "source": [
    "## Example 1 - Render a DataFrame returned by Yahoo Finance\n",
    "\n",
    "### 1. Create a sample DataFrame using pandas 'get_data_yahoo' function"
   ]
  },
  {
   "cell_type": "code",
   "execution_count": 3,
   "metadata": {
    "collapsed": false
   },
   "outputs": [
    {
     "name": "stderr",
     "output_type": "stream",
     "text": [
      "/Users/pradap/miniconda2/lib/python2.7/site-packages/pandas/io/data.py:35: FutureWarning: \n",
      "The pandas.io.data module is moved to a separate package (pandas-datareader) and will be removed from pandas in a future version.\n",
      "After installing the pandas-datareader package (https://github.com/pydata/pandas-datareader), you can change the import ``from pandas.io import data, wb`` to ``from pandas_datareader import data, wb``.\n",
      "  FutureWarning)\n"
     ]
    }
   ],
   "source": [
    "import pandas as pd\n",
    "import numpy as np\n",
    "randn = np.random.randn\n",
    "\n",
    "# Set this pandas option to prevent the grid from being too big\n",
    "pd.set_option('display.max_rows', 8)\n",
    "\n",
    "# Get a pandas DataFrame containing the daily prices for the S&P 500 from 1/1/2011 - 1/1/2014\n",
    "from pandas.io.data import get_data_yahoo\n",
    "spy = get_data_yahoo(\n",
    "    symbols='SPY',  \n",
    "    start=pd.Timestamp('2011-01-01'),  \n",
    "    end=pd.Timestamp('2014-01-01'),\n",
    "    adjust_price=True,\n",
    ")"
   ]
  },
  {
   "cell_type": "markdown",
   "metadata": {},
   "source": [
    "### 2. Render the DataFrame without using qgrid"
   ]
  },
  {
   "cell_type": "code",
   "execution_count": 4,
   "metadata": {
    "collapsed": false
   },
   "outputs": [
    {
     "data": {
      "text/html": [
       "<div>\n",
       "<table border=\"1\" class=\"dataframe\">\n",
       "  <thead>\n",
       "    <tr style=\"text-align: right;\">\n",
       "      <th></th>\n",
       "      <th>Open</th>\n",
       "      <th>High</th>\n",
       "      <th>Low</th>\n",
       "      <th>Close</th>\n",
       "      <th>Volume</th>\n",
       "      <th>Adj_Ratio</th>\n",
       "    </tr>\n",
       "    <tr>\n",
       "      <th>Date</th>\n",
       "      <th></th>\n",
       "      <th></th>\n",
       "      <th></th>\n",
       "      <th></th>\n",
       "      <th></th>\n",
       "      <th></th>\n",
       "    </tr>\n",
       "  </thead>\n",
       "  <tbody>\n",
       "    <tr>\n",
       "      <th>2011-01-03</th>\n",
       "      <td>113.194279</td>\n",
       "      <td>113.989345</td>\n",
       "      <td>112.292010</td>\n",
       "      <td>113.498016</td>\n",
       "      <td>138725200</td>\n",
       "      <td>0.893333</td>\n",
       "    </tr>\n",
       "    <tr>\n",
       "      <th>2011-01-04</th>\n",
       "      <td>113.748149</td>\n",
       "      <td>113.783883</td>\n",
       "      <td>112.729749</td>\n",
       "      <td>113.435483</td>\n",
       "      <td>137409700</td>\n",
       "      <td>0.893333</td>\n",
       "    </tr>\n",
       "    <tr>\n",
       "      <th>2011-01-05</th>\n",
       "      <td>113.078148</td>\n",
       "      <td>114.096547</td>\n",
       "      <td>112.970946</td>\n",
       "      <td>114.025079</td>\n",
       "      <td>133975300</td>\n",
       "      <td>0.893333</td>\n",
       "    </tr>\n",
       "    <tr>\n",
       "      <th>2011-01-06</th>\n",
       "      <td>114.069749</td>\n",
       "      <td>114.194815</td>\n",
       "      <td>113.462282</td>\n",
       "      <td>113.801746</td>\n",
       "      <td>122519000</td>\n",
       "      <td>0.893333</td>\n",
       "    </tr>\n",
       "    <tr>\n",
       "      <th>...</th>\n",
       "      <td>...</td>\n",
       "      <td>...</td>\n",
       "      <td>...</td>\n",
       "      <td>...</td>\n",
       "      <td>...</td>\n",
       "      <td>...</td>\n",
       "    </tr>\n",
       "    <tr>\n",
       "      <th>2013-12-26</th>\n",
       "      <td>174.379477</td>\n",
       "      <td>174.969185</td>\n",
       "      <td>174.360465</td>\n",
       "      <td>174.874067</td>\n",
       "      <td>63365000</td>\n",
       "      <td>0.951126</td>\n",
       "    </tr>\n",
       "    <tr>\n",
       "      <th>2013-12-27</th>\n",
       "      <td>175.102343</td>\n",
       "      <td>175.178420</td>\n",
       "      <td>174.683845</td>\n",
       "      <td>174.864561</td>\n",
       "      <td>61814000</td>\n",
       "      <td>0.951126</td>\n",
       "    </tr>\n",
       "    <tr>\n",
       "      <th>2013-12-30</th>\n",
       "      <td>174.883573</td>\n",
       "      <td>175.026250</td>\n",
       "      <td>174.607753</td>\n",
       "      <td>174.836028</td>\n",
       "      <td>56857000</td>\n",
       "      <td>0.951126</td>\n",
       "    </tr>\n",
       "    <tr>\n",
       "      <th>2013-12-31</th>\n",
       "      <td>175.073810</td>\n",
       "      <td>175.663503</td>\n",
       "      <td>174.940639</td>\n",
       "      <td>175.663503</td>\n",
       "      <td>86119900</td>\n",
       "      <td>0.951126</td>\n",
       "    </tr>\n",
       "  </tbody>\n",
       "</table>\n",
       "<p>754 rows × 6 columns</p>\n",
       "</div>"
      ],
      "text/plain": [
       "                  Open        High         Low       Close     Volume  \\\n",
       "Date                                                                    \n",
       "2011-01-03  113.194279  113.989345  112.292010  113.498016  138725200   \n",
       "2011-01-04  113.748149  113.783883  112.729749  113.435483  137409700   \n",
       "2011-01-05  113.078148  114.096547  112.970946  114.025079  133975300   \n",
       "2011-01-06  114.069749  114.194815  113.462282  113.801746  122519000   \n",
       "...                ...         ...         ...         ...        ...   \n",
       "2013-12-26  174.379477  174.969185  174.360465  174.874067   63365000   \n",
       "2013-12-27  175.102343  175.178420  174.683845  174.864561   61814000   \n",
       "2013-12-30  174.883573  175.026250  174.607753  174.836028   56857000   \n",
       "2013-12-31  175.073810  175.663503  174.940639  175.663503   86119900   \n",
       "\n",
       "            Adj_Ratio  \n",
       "Date                   \n",
       "2011-01-03   0.893333  \n",
       "2011-01-04   0.893333  \n",
       "2011-01-05   0.893333  \n",
       "2011-01-06   0.893333  \n",
       "...               ...  \n",
       "2013-12-26   0.951126  \n",
       "2013-12-27   0.951126  \n",
       "2013-12-30   0.951126  \n",
       "2013-12-31   0.951126  \n",
       "\n",
       "[754 rows x 6 columns]"
      ]
     },
     "execution_count": 4,
     "metadata": {},
     "output_type": "execute_result"
    }
   ],
   "source": [
    "spy"
   ]
  },
  {
   "cell_type": "markdown",
   "metadata": {},
   "source": [
    "*The table above is Jupyter notebook's default representation of the 'spy' DataFrame.*"
   ]
  },
  {
   "cell_type": "markdown",
   "metadata": {},
   "source": [
    "### 3. Render the DataFrame again, this time using qgrid"
   ]
  },
  {
   "cell_type": "code",
   "execution_count": 12,
   "metadata": {
    "collapsed": false
   },
   "outputs": [],
   "source": [
    "qgrid.show_grid(spy)"
   ]
  },
  {
   "cell_type": "markdown",
   "metadata": {},
   "source": [
    "*The cell above shows the same 'spy' DataFrame rendered as a qgrid.  Qgrids allows you to scroll, sort, and filter hundreds of thousands of rows with extreme responsiveness.  If you double click on the cells they become editable, and the edits change the values stored in the DataFrame as you would expect.* "
   ]
  },
  {
   "cell_type": "markdown",
   "metadata": {},
   "source": [
    "### 4. Now render with qgrid again, and set some options\n",
    "The `show_grid` function takes a number of optional parameters to allow you to configure the behavior of the grid it generates.  In the following example we use a couple of these optional parameters:\n",
    "\n",
    "* Setting `show_toolbar` to True causes some buttons to be shown above the grid.  These buttons allow you to add and remove rows, as well as export a version of qgrid that will be functional when rendered by [nbviewer](http://nbviewer.jupyter.org/).  Note that these buttons won't be visible on nbviewer.jupyter.org, only when qgrid is running within a jupyter notebook.\n",
    "* `grid_options` takes a dict and allows you to pass any of the \"grid options\" listed in [SlickGrid's documentation](https://github.com/mleibman/SlickGrid/wiki/Grid-Options).  In this example we make use of two of these options, `forceFitColumns` and `defaultColumnWidth`, to improve qgrid's ability to handle a large number of columns\n",
    "\n",
    "You can read about these and the rest of the optional parameters for the `show_grid` function in our [API documentation](http://qgrid.readthedocs.org/en/latest/#qgrid.show_grid).  \n",
    "\n",
    "If you find yourself frequently passing the same options into `show_grid`, the `set_defaults` function may be useful to you.  It allows you to set the same options that you would normally pass to `show_grid`, but through a separate function which sets the options for the lifetime of the kernel rather than for a single grid.  See the [API documentation](http://qgrid.readthedocs.org/en/latest/#qgrid.set_defaults) for the `set_defaults` function for more information."
   ]
  },
  {
   "cell_type": "code",
   "execution_count": 9,
   "metadata": {
    "collapsed": false
   },
   "outputs": [
    {
     "data": {
      "text/html": [
       "<script type=\"text/javascript\">\n",
       "if ($(\"#dg-css\").length == 0){\n",
       "    $(\"head\").append([\n",
       "        \"<link href='https://cdn.rawgit.com/quantopian/qgrid/master/qgrid/qgridjs//lib/slick.grid.css' rel='stylesheet'>\",\n",
       "        \"<link href='https://cdn.rawgit.com/quantopian/qgrid/master/qgrid/qgridjs//lib/slick-default-theme.css' rel='stylesheet'>\",\n",
       "        \"<link href='http://cdnjs.cloudflare.com/ajax/libs/jqueryui/1.10.4/css/jquery-ui.min.css' rel='stylesheet'>\",\n",
       "        \"<link id='dg-css' href='https://cdn.rawgit.com/quantopian/qgrid/master/qgrid/qgridjs//qgrid.css' rel='stylesheet'>\"\n",
       "    ]);\n",
       "}\n",
       "</script>\n",
       "<div class='q-grid-container'>\n",
       "<div id='9dfb0a71-521d-489d-b256-d2c5abd8c8c6' class='q-grid'></div>\n",
       "</div>"
      ]
     },
     "metadata": {},
     "output_type": "display_data"
    },
    {
     "data": {
      "application/javascript": [
       "var path_dictionary = {\n",
       "    jquery_drag: \"https://cdn.rawgit.com/quantopian/qgrid/master/qgrid/qgridjs//lib/jquery.event.drag-2.2\",\n",
       "    slick_core: \"https://cdn.rawgit.com/quantopian/qgrid/master/qgrid/qgridjs//lib/slick.core.2.2\",\n",
       "    slick_data_view: \"https://cdn.rawgit.com/quantopian/qgrid/master/qgrid/qgridjs//lib/slick.dataview.2.2\",\n",
       "    slick_check_box_column: \"https://cdn.rawgit.com/quantopian/qgrid/master/qgrid/qgridjs//lib/slick.checkboxselectcolumn\",\n",
       "    slick_row_selection_model: \"https://cdn.rawgit.com/quantopian/qgrid/master/qgrid/qgridjs//lib/slick.rowselectionmodel\",\n",
       "    slick_grid: \"https://cdn.rawgit.com/quantopian/qgrid/master/qgrid/qgridjs//lib/slick.grid.2.2\",\n",
       "    data_grid: \"https://cdn.rawgit.com/quantopian/qgrid/master/qgrid/qgridjs//qgrid\",\n",
       "    date_filter: \"https://cdn.rawgit.com/quantopian/qgrid/master/qgrid/qgridjs//qgrid.datefilter\",\n",
       "    slider_filter: \"https://cdn.rawgit.com/quantopian/qgrid/master/qgrid/qgridjs//qgrid.sliderfilter\",\n",
       "    text_filter: \"https://cdn.rawgit.com/quantopian/qgrid/master/qgrid/qgridjs//qgrid.textfilter\",\n",
       "    filter_base:  \"https://cdn.rawgit.com/quantopian/qgrid/master/qgrid/qgridjs//qgrid.filterbase\",\n",
       "    handlebars: \"https://cdnjs.cloudflare.com/ajax/libs/handlebars.js/2.0.0/handlebars.min\"\n",
       "};\n",
       "\n",
       "var existing_config = require.s.contexts._.config;\n",
       "if (!existing_config.paths['underscore']){\n",
       "    path_dictionary['underscore'] = \"https://cdnjs.cloudflare.com/ajax/libs/underscore.js/1.7.0/underscore-min\";\n",
       "}\n",
       "\n",
       "if (!existing_config.paths['moment']){\n",
       "    path_dictionary['moment'] = \"https://cdnjs.cloudflare.com/ajax/libs/moment.js/2.8.3/moment.min\";\n",
       "}\n",
       "\n",
       "if (!existing_config.paths['jqueryui']){\n",
       "    path_dictionary['jqueryui'] = \"https://ajax.googleapis.com/ajax/libs/jqueryui/1.11.1/jquery-ui.min\";\n",
       "}\n",
       "\n",
       "require.config({\n",
       "    paths: path_dictionary\n",
       "});\n",
       "\n",
       "if (typeof jQuery === 'function') {\n",
       "    define('jquery', function() { return jQuery; });\n",
       "}\n",
       "\n",
       "require([\n",
       "    'jquery',\n",
       "    'jquery_drag',\n",
       "    'slick_core',\n",
       "    'slick_data_view'\n",
       "],\n",
       "function($){\n",
       "    $('#9dfb0a71-521d-489d-b256-d2c5abd8c8c6').closest('.rendered_html').removeClass('rendered_html');\n",
       "    require([\n",
       "      'slick_check_box_column',\n",
       "      'slick_row_selection_model',\n",
       "      'slick_grid'\n",
       "    ], function(){\n",
       "        require([\"data_grid\"], function(dgrid){\n",
       "            var grid = new dgrid.QGrid('#9dfb0a71-521d-489d-b256-d2c5abd8c8c6', [{\"Date\":\"2011-01-03T00:00:00.000Z\",\"Open\":113.19428,\"High\":113.98934,\"Low\":112.29201,\"Close\":113.49802,\"Volume\":138725200,\"Adj_Ratio\":0.89333},{\"Date\":\"2011-01-04T00:00:00.000Z\",\"Open\":113.74815,\"High\":113.78388,\"Low\":112.72975,\"Close\":113.43548,\"Volume\":137409700,\"Adj_Ratio\":0.89333},{\"Date\":\"2011-01-05T00:00:00.000Z\",\"Open\":113.07815,\"High\":114.09655,\"Low\":112.97095,\"Close\":114.02508,\"Volume\":133975300,\"Adj_Ratio\":0.89333},{\"Date\":\"2011-01-06T00:00:00.000Z\",\"Open\":114.06975,\"High\":114.19482,\"Low\":113.46228,\"Close\":113.80175,\"Volume\":122519000,\"Adj_Ratio\":0.89333},{\"Date\":\"2011-01-07T00:00:00.000Z\",\"Open\":113.95361,\"High\":114.14121,\"Low\":112.69401,\"Close\":113.57841,\"Volume\":156034600,\"Adj_Ratio\":0.89333},{\"Date\":\"2011-01-10T00:00:00.000Z\",\"Open\":113.07815,\"High\":113.59628,\"Low\":112.73868,\"Close\":113.43548,\"Volume\":122401700,\"Adj_Ratio\":0.89333},{\"Date\":\"2011-01-11T00:00:00.000Z\",\"Open\":113.84642,\"High\":114.11441,\"Low\":113.40868,\"Close\":113.83748,\"Volume\":110287000,\"Adj_Ratio\":0.89333},{\"Date\":\"2011-01-12T00:00:00.000Z\",\"Open\":114.53429,\"High\":114.98988,\"Low\":113.86428,\"Close\":114.86481,\"Volume\":107929200,\"Adj_Ratio\":0.89333},{\"Date\":\"2011-01-13T00:00:00.000Z\",\"Open\":114.90948,\"High\":114.96308,\"Low\":114.39135,\"Close\":114.67721,\"Volume\":129048400,\"Adj_Ratio\":0.89333},{\"Date\":\"2011-01-14T00:00:00.000Z\",\"Open\":114.51641,\"High\":115.53482,\"Low\":114.43602,\"Close\":115.50802,\"Volume\":117677900,\"Adj_Ratio\":0.89333},{\"Date\":\"2011-01-18T00:00:00.000Z\",\"Open\":115.40081,\"High\":115.81175,\"Low\":115.26681,\"Close\":115.70455,\"Volume\":114401300,\"Adj_Ratio\":0.89333},{\"Date\":\"2011-01-19T00:00:00.000Z\",\"Open\":115.60628,\"High\":115.72241,\"Low\":114.26628,\"Close\":114.57001,\"Volume\":151958400,\"Adj_Ratio\":0.89333},{\"Date\":\"2011-01-20T00:00:00.000Z\",\"Open\":114.31095,\"High\":114.70401,\"Low\":113.56948,\"Close\":114.41815,\"Volume\":175745700,\"Adj_Ratio\":0.89333},{\"Date\":\"2011-01-21T00:00:00.000Z\",\"Open\":115.13282,\"High\":115.39188,\"Low\":114.55214,\"Close\":114.67721,\"Volume\":151462900,\"Adj_Ratio\":0.89333},{\"Date\":\"2011-01-24T00:00:00.000Z\",\"Open\":114.60574,\"High\":115.46335,\"Low\":114.57894,\"Close\":115.32935,\"Volume\":113715500,\"Adj_Ratio\":0.89333},{\"Date\":\"2011-01-25T00:00:00.000Z\",\"Open\":115.02561,\"High\":115.49015,\"Low\":114.44495,\"Close\":115.39188,\"Volume\":167552200,\"Adj_Ratio\":0.89333},{\"Date\":\"2011-01-26T00:00:00.000Z\",\"Open\":115.67775,\"High\":116.17802,\"Low\":115.44548,\"Close\":115.83854,\"Volume\":141281500,\"Adj_Ratio\":0.89333},{\"Date\":\"2011-01-27T00:00:00.000Z\",\"Open\":115.86534,\"High\":116.32095,\"Low\":115.65988,\"Close\":116.12442,\"Volume\":123302700,\"Adj_Ratio\":0.89333},{\"Date\":\"2011-01-28T00:00:00.000Z\",\"Open\":116.25841,\"High\":116.44602,\"Low\":113.90895,\"Close\":114.09655,\"Volume\":295637300,\"Adj_Ratio\":0.89333},{\"Date\":\"2011-01-31T00:00:00.000Z\",\"Open\":114.40922,\"High\":115.04348,\"Low\":114.12335,\"Close\":114.95414,\"Volume\":149249200,\"Adj_Ratio\":0.89333},{\"Date\":\"2011-02-01T00:00:00.000Z\",\"Open\":115.65095,\"High\":116.99988,\"Low\":115.57948,\"Close\":116.79442,\"Volume\":167194300,\"Adj_Ratio\":0.89333},{\"Date\":\"2011-02-02T00:00:00.000Z\",\"Open\":116.49068,\"High\":116.88374,\"Low\":116.42815,\"Close\":116.57109,\"Volume\":118323600,\"Adj_Ratio\":0.89333},{\"Date\":\"2011-02-03T00:00:00.000Z\",\"Open\":116.36561,\"High\":117.00881,\"Low\":115.74922,\"Close\":116.83015,\"Volume\":145886700,\"Adj_Ratio\":0.89333},{\"Date\":\"2011-02-04T00:00:00.000Z\",\"Open\":116.87482,\"High\":117.20534,\"Low\":116.33881,\"Close\":117.16067,\"Volume\":134634800,\"Adj_Ratio\":0.89333},{\"Date\":\"2011-02-07T00:00:00.000Z\",\"Open\":117.41975,\"High\":118.27734,\"Low\":117.41081,\"Close\":117.89321,\"Volume\":112439100,\"Adj_Ratio\":0.89333},{\"Date\":\"2011-02-08T00:00:00.000Z\",\"Open\":118.00041,\"High\":118.49175,\"Low\":117.67881,\"Close\":118.42922,\"Volume\":99072800,\"Adj_Ratio\":0.89333},{\"Date\":\"2011-02-09T00:00:00.000Z\",\"Open\":118.10762,\"High\":118.48282,\"Low\":117.57161,\"Close\":118.16122,\"Volume\":146436700,\"Adj_Ratio\":0.89333},{\"Date\":\"2011-02-10T00:00:00.000Z\",\"Open\":117.56269,\"High\":118.33988,\"Low\":117.29468,\"Close\":118.20589,\"Volume\":162708500,\"Adj_Ratio\":0.89333},{\"Date\":\"2011-02-11T00:00:00.000Z\",\"Open\":117.74135,\"High\":119.06348,\"Low\":117.71455,\"Close\":118.91161,\"Volume\":137710300,\"Adj_Ratio\":0.89333},{\"Date\":\"2011-02-14T00:00:00.000Z\",\"Open\":118.84015,\"High\":119.29574,\"Low\":118.70615,\"Close\":119.19747,\"Volume\":101690700,\"Adj_Ratio\":0.89333},{\"Date\":\"2011-02-15T00:00:00.000Z\",\"Open\":118.83122,\"High\":119.00988,\"Low\":118.20589,\"Close\":118.82228,\"Volume\":119575400,\"Adj_Ratio\":0.89333},{\"Date\":\"2011-02-16T00:00:00.000Z\",\"Open\":119.22429,\"High\":119.71561,\"Low\":118.98308,\"Close\":119.57269,\"Volume\":130183500,\"Adj_Ratio\":0.89333},{\"Date\":\"2011-02-17T00:00:00.000Z\",\"Open\":119.22429,\"High\":120.09081,\"Low\":119.11708,\"Close\":119.93001,\"Volume\":109810500,\"Adj_Ratio\":0.89333},{\"Date\":\"2011-02-18T00:00:00.000Z\",\"Open\":120.03721,\"High\":120.32308,\"Low\":119.76028,\"Close\":120.18015,\"Volume\":130002400,\"Adj_Ratio\":0.89333},{\"Date\":\"2011-02-22T00:00:00.000Z\",\"Open\":118.92054,\"High\":120.20694,\"Low\":117.44655,\"Close\":117.76815,\"Volume\":233116400,\"Adj_Ratio\":0.89333},{\"Date\":\"2011-02-23T00:00:00.000Z\",\"Open\":117.69668,\"High\":117.98255,\"Low\":116.32095,\"Close\":117.04455,\"Volume\":227584000,\"Adj_Ratio\":0.89333},{\"Date\":\"2011-02-24T00:00:00.000Z\",\"Open\":116.91948,\"High\":117.41975,\"Low\":115.86534,\"Close\":116.96414,\"Volume\":260431400,\"Adj_Ratio\":0.89333},{\"Date\":\"2011-02-25T00:00:00.000Z\",\"Open\":117.45548,\"High\":118.28628,\"Low\":117.38401,\"Close\":118.21481,\"Volume\":141686900,\"Adj_Ratio\":0.89333},{\"Date\":\"2011-02-28T00:00:00.000Z\",\"Open\":118.65255,\"High\":119.09922,\"Low\":118.25948,\"Close\":118.94734,\"Volume\":141585500,\"Adj_Ratio\":0.89333},{\"Date\":\"2011-03-01T00:00:00.000Z\",\"Open\":119.32255,\"High\":119.42975,\"Low\":116.92841,\"Close\":116.96414,\"Volume\":258565500,\"Adj_Ratio\":0.89333},{\"Date\":\"2011-03-02T00:00:00.000Z\",\"Open\":116.80335,\"High\":117.75922,\"Low\":116.44602,\"Close\":117.21429,\"Volume\":200277400,\"Adj_Ratio\":0.89333},{\"Date\":\"2011-03-03T00:00:00.000Z\",\"Open\":118.27734,\"High\":119.36721,\"Low\":118.26841,\"Close\":119.23321,\"Volume\":176480100,\"Adj_Ratio\":0.89333},{\"Date\":\"2011-03-04T00:00:00.000Z\",\"Open\":119.14388,\"High\":119.37615,\"Low\":117.56269,\"Close\":118.33988,\"Volume\":277202300,\"Adj_Ratio\":0.89333},{\"Date\":\"2011-03-07T00:00:00.000Z\",\"Open\":118.68828,\"High\":118.95628,\"Low\":116.79442,\"Close\":117.41081,\"Volume\":216790400,\"Adj_Ratio\":0.89333},{\"Date\":\"2011-03-08T00:00:00.000Z\",\"Open\":117.59841,\"High\":118.81335,\"Low\":117.08922,\"Close\":118.43815,\"Volume\":174615000,\"Adj_Ratio\":0.89333},{\"Date\":\"2011-03-09T00:00:00.000Z\",\"Open\":118.20589,\"High\":118.63468,\"Low\":117.56269,\"Close\":118.26841,\"Volume\":153806000,\"Adj_Ratio\":0.89333},{\"Date\":\"2011-03-10T00:00:00.000Z\",\"Open\":117.02668,\"High\":117.18747,\"Low\":115.96361,\"Close\":116.07975,\"Volume\":301291800,\"Adj_Ratio\":0.89333},{\"Date\":\"2011-03-11T00:00:00.000Z\",\"Open\":115.70455,\"High\":117.30361,\"Low\":115.67775,\"Close\":116.88374,\"Volume\":225621800,\"Adj_Ratio\":0.89333},{\"Date\":\"2011-03-14T00:00:00.000Z\",\"Open\":116.12442,\"High\":116.56214,\"Low\":115.29361,\"Close\":116.17802,\"Volume\":234974100,\"Adj_Ratio\":0.89333},{\"Date\":\"2011-03-15T00:00:00.000Z\",\"Open\":113.08708,\"High\":115.53481,\"Low\":113.00668,\"Close\":114.84694,\"Volume\":359585400,\"Adj_Ratio\":0.89333},{\"Date\":\"2011-03-16T00:00:00.000Z\",\"Open\":114.48067,\"High\":114.85589,\"Low\":111.91681,\"Close\":112.72081,\"Volume\":468670300,\"Adj_Ratio\":0.89333},{\"Date\":\"2011-03-17T00:00:00.000Z\",\"Open\":114.34668,\"High\":114.69508,\"Low\":113.54268,\"Close\":114.21268,\"Volume\":254303700,\"Adj_Ratio\":0.89333},{\"Date\":\"2011-03-18T00:00:00.000Z\",\"Open\":115.59708,\"High\":115.63297,\"Low\":114.40379,\"Close\":114.62809,\"Volume\":230435400,\"Adj_Ratio\":0.89721},{\"Date\":\"2011-03-21T00:00:00.000Z\",\"Open\":116.05467,\"High\":116.64682,\"Low\":115.92008,\"Close\":116.40458,\"Volume\":153992600,\"Adj_Ratio\":0.89721},{\"Date\":\"2011-03-22T00:00:00.000Z\",\"Open\":116.38663,\"High\":116.53916,\"Low\":115.89316,\"Close\":116.00082,\"Volume\":129538600,\"Adj_Ratio\":0.89721},{\"Date\":\"2011-03-23T00:00:00.000Z\",\"Open\":115.67782,\"High\":116.63785,\"Low\":115.13054,\"Close\":116.3328,\"Volume\":148603100,\"Adj_Ratio\":0.89721},{\"Date\":\"2011-03-24T00:00:00.000Z\",\"Open\":116.99673,\"High\":117.61581,\"Low\":116.34177,\"Close\":117.44534,\"Volume\":159129800,\"Adj_Ratio\":0.89721},{\"Date\":\"2011-03-25T00:00:00.000Z\",\"Open\":117.7504,\"High\":118.31564,\"Low\":117.43637,\"Close\":117.80423,\"Volume\":155642800,\"Adj_Ratio\":0.89721},{\"Date\":\"2011-03-28T00:00:00.000Z\",\"Open\":118.05545,\"High\":118.3605,\"Low\":117.48123,\"Close\":117.51712,\"Volume\":109762400,\"Adj_Ratio\":0.89721},{\"Date\":\"2011-03-29T00:00:00.000Z\",\"Open\":117.41842,\"High\":118.34255,\"Low\":117.03263,\"Close\":118.30667,\"Volume\":129798800,\"Adj_Ratio\":0.89721},{\"Date\":\"2011-03-30T00:00:00.000Z\",\"Open\":118.92575,\"High\":119.47305,\"Low\":118.75528,\"Close\":119.12314,\"Volume\":135835000,\"Adj_Ratio\":0.89721},{\"Date\":\"2011-03-31T00:00:00.000Z\",\"Open\":118.97061,\"High\":119.29361,\"Low\":118.83602,\"Close\":118.96163,\"Volume\":132537100,\"Adj_Ratio\":0.89721},{\"Date\":\"2011-04-01T00:00:00.000Z\",\"Open\":119.69735,\"High\":120.02035,\"Low\":119.17697,\"Close\":119.46407,\"Volume\":153850100,\"Adj_Ratio\":0.89721},{\"Date\":\"2011-04-04T00:00:00.000Z\",\"Open\":119.71529,\"High\":119.93062,\"Low\":119.22183,\"Close\":119.56276,\"Volume\":100768900,\"Adj_Ratio\":0.89721},{\"Date\":\"2011-04-05T00:00:00.000Z\",\"Open\":119.32949,\"High\":120.07418,\"Low\":119.27566,\"Close\":119.54483,\"Volume\":120791500,\"Adj_Ratio\":0.89721},{\"Date\":\"2011-04-06T00:00:00.000Z\",\"Open\":120.11905,\"High\":120.22671,\"Low\":119.43715,\"Close\":119.92166,\"Volume\":120411600,\"Adj_Ratio\":0.89721},{\"Date\":\"2011-04-07T00:00:00.000Z\",\"Open\":119.70632,\"High\":120.20876,\"Low\":119.02444,\"Close\":119.61661,\"Volume\":170731500,\"Adj_Ratio\":0.89721},{\"Date\":\"2011-04-08T00:00:00.000Z\",\"Open\":120.14596,\"High\":120.21774,\"Low\":118.71041,\"Close\":119.20388,\"Volume\":147945400,\"Adj_Ratio\":0.89721},{\"Date\":\"2011-04-11T00:00:00.000Z\",\"Open\":119.32949,\"High\":119.73324,\"Low\":118.55789,\"Close\":118.845,\"Volume\":121385400,\"Adj_Ratio\":0.89721},{\"Date\":\"2011-04-12T00:00:00.000Z\",\"Open\":118.18106,\"High\":118.41433,\"Low\":117.5261,\"Close\":117.95676,\"Volume\":161187400,\"Adj_Ratio\":0.89721},{\"Date\":\"2011-04-13T00:00:00.000Z\",\"Open\":118.50406,\"High\":118.59377,\"Low\":117.49918,\"Close\":117.94779,\"Volume\":162059000,\"Adj_Ratio\":0.89721},{\"Date\":\"2011-04-14T00:00:00.000Z\",\"Open\":117.2659,\"High\":118.21694,\"Low\":116.8801,\"Close\":118.0375,\"Volume\":161220400,\"Adj_Ratio\":0.89721},{\"Date\":\"2011-04-15T00:00:00.000Z\",\"Open\":118.25284,\"High\":118.76424,\"Low\":117.90293,\"Close\":118.46816,\"Volume\":170006700,\"Adj_Ratio\":0.89721},{\"Date\":\"2011-04-18T00:00:00.000Z\",\"Open\":117.1672,\"High\":118.45919,\"Low\":116.19821,\"Close\":117.14029,\"Volume\":210759300,\"Adj_Ratio\":0.89721},{\"Date\":\"2011-04-19T00:00:00.000Z\",\"Open\":117.31973,\"High\":117.84909,\"Low\":117.03263,\"Close\":117.8132,\"Volume\":124258800,\"Adj_Ratio\":0.89721},{\"Date\":\"2011-04-20T00:00:00.000Z\",\"Open\":119.22183,\"High\":119.67941,\"Low\":119.14107,\"Close\":119.41922,\"Volume\":156133800,\"Adj_Ratio\":0.89721},{\"Date\":\"2011-04-21T00:00:00.000Z\",\"Open\":120.03829,\"High\":120.08315,\"Low\":119.41922,\"Close\":120.02932,\"Volume\":135935400,\"Adj_Ratio\":0.89721},{\"Date\":\"2011-04-25T00:00:00.000Z\",\"Open\":119.93959,\"High\":120.1011,\"Low\":119.50893,\"Close\":119.90371,\"Volume\":65757100,\"Adj_Ratio\":0.89721},{\"Date\":\"2011-04-26T00:00:00.000Z\",\"Open\":120.27157,\"High\":121.17775,\"Low\":120.14596,\"Close\":120.9355,\"Volume\":146600000,\"Adj_Ratio\":0.89721},{\"Date\":\"2011-04-27T00:00:00.000Z\",\"Open\":121.16878,\"High\":121.90449,\"Low\":120.67531,\"Close\":121.72505,\"Volume\":143031000,\"Adj_Ratio\":0.89721},{\"Date\":\"2011-04-28T00:00:00.000Z\",\"Open\":121.50972,\"High\":122.28132,\"Low\":121.49178,\"Close\":122.11983,\"Volume\":124791100,\"Adj_Ratio\":0.89721},{\"Date\":\"2011-04-29T00:00:00.000Z\",\"Open\":122.16469,\"High\":122.53255,\"Low\":122.00319,\"Close\":122.40693,\"Volume\":115094100,\"Adj_Ratio\":0.89721},{\"Date\":\"2011-05-02T00:00:00.000Z\",\"Open\":122.98116,\"High\":123.07984,\"Low\":121.97627,\"Close\":122.21852,\"Volume\":126278700,\"Adj_Ratio\":0.89721},{\"Date\":\"2011-05-03T00:00:00.000Z\",\"Open\":121.98525,\"High\":122.19161,\"Low\":121.1598,\"Close\":121.77888,\"Volume\":138375000,\"Adj_Ratio\":0.89721},{\"Date\":\"2011-05-04T00:00:00.000Z\",\"Open\":121.72505,\"High\":121.77888,\"Low\":120.43306,\"Close\":120.9714,\"Volume\":182678500,\"Adj_Ratio\":0.89721},{\"Date\":\"2011-05-05T00:00:00.000Z\",\"Open\":120.29849,\"High\":121.07906,\"Low\":119.34744,\"Close\":119.87679,\"Volume\":226900000,\"Adj_Ratio\":0.89721},{\"Date\":\"2011-05-06T00:00:00.000Z\",\"Open\":121.07009,\"High\":121.68917,\"Low\":119.93959,\"Close\":120.40615,\"Volume\":222787200,\"Adj_Ratio\":0.89721},{\"Date\":\"2011-05-09T00:00:00.000Z\",\"Open\":120.39718,\"High\":121.22262,\"Low\":120.20876,\"Close\":120.8727,\"Volume\":114104500,\"Adj_Ratio\":0.89721},{\"Date\":\"2011-05-10T00:00:00.000Z\",\"Open\":121.27645,\"High\":122.11983,\"Low\":121.12392,\"Close\":121.90449,\"Volume\":114806900,\"Adj_Ratio\":0.89721},{\"Date\":\"2011-05-11T00:00:00.000Z\",\"Open\":121.72505,\"High\":121.743,\"Low\":120.06522,\"Close\":120.62148,\"Volume\":193564200,\"Adj_Ratio\":0.89721},{\"Date\":\"2011-05-12T00:00:00.000Z\",\"Open\":120.29849,\"High\":121.44692,\"Low\":119.67941,\"Close\":121.1957,\"Volume\":171550700,\"Adj_Ratio\":0.89721},{\"Date\":\"2011-05-13T00:00:00.000Z\",\"Open\":121.2585,\"High\":121.42897,\"Low\":119.83193,\"Close\":120.26259,\"Volume\":157444900,\"Adj_Ratio\":0.89721},{\"Date\":\"2011-05-16T00:00:00.000Z\",\"Open\":119.83193,\"High\":120.77401,\"Low\":119.30258,\"Close\":119.49997,\"Volume\":141675400,\"Adj_Ratio\":0.89721},{\"Date\":\"2011-05-17T00:00:00.000Z\",\"Open\":119.05136,\"High\":119.64352,\"Low\":118.53994,\"Close\":119.48202,\"Volume\":192686200,\"Adj_Ratio\":0.89721},{\"Date\":\"2011-05-18T00:00:00.000Z\",\"Open\":119.54483,\"High\":120.67531,\"Low\":119.28463,\"Close\":120.54971,\"Volume\":135217900,\"Adj_Ratio\":0.89721},{\"Date\":\"2011-05-19T00:00:00.000Z\",\"Open\":120.94448,\"High\":121.15084,\"Low\":120.17288,\"Close\":120.83681,\"Volume\":119489500,\"Adj_Ratio\":0.89721},{\"Date\":\"2011-05-20T00:00:00.000Z\",\"Open\":120.52279,\"High\":120.83681,\"Low\":119.65249,\"Close\":119.87679,\"Volume\":182594900,\"Adj_Ratio\":0.89721},{\"Date\":\"2011-05-23T00:00:00.000Z\",\"Open\":118.41433,\"High\":119.07827,\"Low\":118.06442,\"Close\":118.48611,\"Volume\":168700000,\"Adj_Ratio\":0.89721},{\"Date\":\"2011-05-24T00:00:00.000Z\",\"Open\":118.82705,\"High\":119.08724,\"Low\":118.16311,\"Close\":118.38741,\"Volume\":147199600,\"Adj_Ratio\":0.89721},{\"Date\":\"2011-05-25T00:00:00.000Z\",\"Open\":117.91189,\"High\":119.27566,\"Low\":117.87601,\"Close\":118.78219,\"Volume\":151050100,\"Adj_Ratio\":0.89721},{\"Date\":\"2011-05-26T00:00:00.000Z\",\"Open\":118.45919,\"High\":119.54483,\"Low\":118.23489,\"Close\":119.32949,\"Volume\":164850000,\"Adj_Ratio\":0.89721},{\"Date\":\"2011-05-27T00:00:00.000Z\",\"Open\":119.66146,\"High\":120.11006,\"Low\":119.29361,\"Close\":119.78707,\"Volume\":120921900,\"Adj_Ratio\":0.89721},{\"Date\":\"2011-05-31T00:00:00.000Z\",\"Open\":120.91757,\"High\":121.05214,\"Low\":120.08315,\"Close\":121.03419,\"Volume\":164731200,\"Adj_Ratio\":0.89721},{\"Date\":\"2011-06-01T00:00:00.000Z\",\"Open\":120.68428,\"High\":121.05214,\"Low\":118.21694,\"Close\":118.31564,\"Volume\":233094300,\"Adj_Ratio\":0.89721},{\"Date\":\"2011-06-02T00:00:00.000Z\",\"Open\":118.3964,\"High\":118.64761,\"Low\":117.49918,\"Close\":118.19003,\"Volume\":200466800,\"Adj_Ratio\":0.89721},{\"Date\":\"2011-06-03T00:00:00.000Z\",\"Open\":116.77243,\"High\":117.91189,\"Low\":116.70963,\"Close\":117.01468,\"Volume\":234690200,\"Adj_Ratio\":0.89721},{\"Date\":\"2011-06-06T00:00:00.000Z\",\"Open\":116.7186,\"High\":116.96085,\"Low\":115.62399,\"Close\":115.77652,\"Volume\":179951200,\"Adj_Ratio\":0.89721},{\"Date\":\"2011-06-07T00:00:00.000Z\",\"Open\":116.36868,\"High\":116.70066,\"Low\":115.60606,\"Close\":115.70475,\"Volume\":161660500,\"Adj_Ratio\":0.89721},{\"Date\":\"2011-06-08T00:00:00.000Z\",\"Open\":115.5253,\"High\":115.91111,\"Low\":115.00491,\"Close\":115.22025,\"Volume\":198696400,\"Adj_Ratio\":0.89721},{\"Date\":\"2011-06-09T00:00:00.000Z\",\"Open\":115.53428,\"High\":116.57504,\"Low\":115.25615,\"Close\":116.09952,\"Volume\":160964400,\"Adj_Ratio\":0.89721},{\"Date\":\"2011-06-10T00:00:00.000Z\",\"Open\":115.60606,\"High\":115.67783,\"Low\":114.17949,\"Close\":114.48454,\"Volume\":238629400,\"Adj_Ratio\":0.89721},{\"Date\":\"2011-06-13T00:00:00.000Z\",\"Open\":114.74473,\"High\":115.05876,\"Low\":113.99107,\"Close\":114.57426,\"Volume\":207599800,\"Adj_Ratio\":0.89721},{\"Date\":\"2011-06-14T00:00:00.000Z\",\"Open\":115.62399,\"High\":116.43149,\"Low\":115.57914,\"Close\":116.02775,\"Volume\":160570400,\"Adj_Ratio\":0.89721},{\"Date\":\"2011-06-15T00:00:00.000Z\",\"Open\":115.05876,\"High\":116.0098,\"Low\":113.6591,\"Close\":113.96415,\"Volume\":300958000,\"Adj_Ratio\":0.89721},{\"Date\":\"2011-06-16T00:00:00.000Z\",\"Open\":114.00004,\"High\":114.81651,\"Low\":113.3361,\"Close\":114.21537,\"Volume\":308032800,\"Adj_Ratio\":0.89721},{\"Date\":\"2011-06-17T00:00:00.000Z\",\"Open\":115.34966,\"High\":115.35868,\"Low\":114.16849,\"Close\":114.5562,\"Volume\":233284900,\"Adj_Ratio\":0.90166},{\"Date\":\"2011-06-20T00:00:00.000Z\",\"Open\":114.16849,\"High\":115.38573,\"Low\":114.13242,\"Close\":115.14228,\"Volume\":159479000,\"Adj_Ratio\":0.90166},{\"Date\":\"2011-06-21T00:00:00.000Z\",\"Open\":115.73738,\"High\":116.9456,\"Low\":115.18736,\"Close\":116.72019,\"Volume\":193157300,\"Adj_Ratio\":0.90166},{\"Date\":\"2011-06-22T00:00:00.000Z\",\"Open\":116.35953,\"High\":117.04479,\"Low\":115.94476,\"Close\":116.01689,\"Volume\":176703000,\"Adj_Ratio\":0.90166},{\"Date\":\"2011-06-23T00:00:00.000Z\",\"Open\":114.65539,\"High\":115.98984,\"Low\":113.78077,\"Close\":115.68328,\"Volume\":334286500,\"Adj_Ratio\":0.90166},{\"Date\":\"2011-06-24T00:00:00.000Z\",\"Open\":115.65623,\"High\":115.74639,\"Low\":114.16849,\"Close\":114.3398,\"Volume\":226129300,\"Adj_Ratio\":0.90166},{\"Date\":\"2011-06-27T00:00:00.000Z\",\"Open\":114.41193,\"High\":115.80049,\"Low\":114.18652,\"Close\":115.35868,\"Volume\":168904700,\"Adj_Ratio\":0.90166},{\"Date\":\"2011-06-28T00:00:00.000Z\",\"Open\":115.81853,\"High\":116.88249,\"Low\":115.65623,\"Close\":116.86446,\"Volume\":165556300,\"Adj_Ratio\":0.90166},{\"Date\":\"2011-06-29T00:00:00.000Z\",\"Open\":117.39643,\"High\":118.05464,\"Low\":116.88249,\"Close\":117.8653,\"Volume\":244295500,\"Adj_Ratio\":0.90166},{\"Date\":\"2011-06-30T00:00:00.000Z\",\"Open\":118.244,\"High\":119.18172,\"Low\":117.85629,\"Close\":118.99238,\"Volume\":223322700,\"Adj_Ratio\":0.90166},{\"Date\":\"2011-07-01T00:00:00.000Z\",\"Open\":119.10058,\"High\":120.91293,\"Low\":118.82106,\"Close\":120.75062,\"Volume\":202385700,\"Adj_Ratio\":0.90166},{\"Date\":\"2011-07-05T00:00:00.000Z\",\"Open\":120.62439,\"High\":120.89489,\"Low\":120.27274,\"Close\":120.65144,\"Volume\":165936000,\"Adj_Ratio\":0.90166},{\"Date\":\"2011-07-06T00:00:00.000Z\",\"Open\":120.36291,\"High\":120.94899,\"Low\":120.02028,\"Close\":120.79571,\"Volume\":143331600,\"Adj_Ratio\":0.90166},{\"Date\":\"2011-07-07T00:00:00.000Z\",\"Open\":121.86869,\"High\":122.35558,\"Low\":121.61622,\"Close\":122.04902,\"Volume\":170464200,\"Adj_Ratio\":0.90166},{\"Date\":\"2011-07-08T00:00:00.000Z\",\"Open\":120.66947,\"High\":122.04902,\"Low\":120.27274,\"Close\":121.18341,\"Volume\":194100500,\"Adj_Ratio\":0.90166},{\"Date\":\"2011-07-11T00:00:00.000Z\",\"Open\":119.69568,\"High\":120.08339,\"Low\":118.71287,\"Close\":118.99238,\"Volume\":195918600,\"Adj_Ratio\":0.90166},{\"Date\":\"2011-07-12T00:00:00.000Z\",\"Open\":118.73992,\"High\":119.72273,\"Low\":118.44237,\"Close\":118.47843,\"Volume\":214675700,\"Adj_Ratio\":0.90166},{\"Date\":\"2011-07-13T00:00:00.000Z\",\"Open\":119.10058,\"High\":120.11946,\"Low\":118.58664,\"Close\":118.87516,\"Volume\":204062600,\"Adj_Ratio\":0.90166},{\"Date\":\"2011-07-14T00:00:00.000Z\",\"Open\":119.17271,\"High\":119.72273,\"Low\":117.82923,\"Close\":118.05464,\"Volume\":226111800,\"Adj_Ratio\":0.90166},{\"Date\":\"2011-07-15T00:00:00.000Z\",\"Open\":118.71287,\"High\":118.90221,\"Low\":117.91039,\"Close\":118.73992,\"Volume\":220012800,\"Adj_Ratio\":0.90166},{\"Date\":\"2011-07-18T00:00:00.000Z\",\"Open\":118.1899,\"High\":118.37023,\"Low\":116.88249,\"Close\":117.76612,\"Volume\":196872100,\"Adj_Ratio\":0.90166},{\"Date\":\"2011-07-19T00:00:00.000Z\",\"Open\":118.42433,\"High\":119.82191,\"Low\":118.39728,\"Close\":119.67764,\"Volume\":166554900,\"Adj_Ratio\":0.90166},{\"Date\":\"2011-07-20T00:00:00.000Z\",\"Open\":119.98421,\"High\":120.05634,\"Low\":119.39813,\"Close\":119.60551,\"Volume\":137145400,\"Adj_Ratio\":0.90166},{\"Date\":\"2011-07-21T00:00:00.000Z\",\"Open\":120.28175,\"High\":121.56212,\"Low\":119.62354,\"Close\":121.26457,\"Volume\":245246300,\"Adj_Ratio\":0.90166},{\"Date\":\"2011-07-22T00:00:00.000Z\",\"Open\":121.29162,\"High\":121.47195,\"Low\":120.60635,\"Close\":121.34572,\"Volume\":126019400,\"Adj_Ratio\":0.90166},{\"Date\":\"2011-07-25T00:00:00.000Z\",\"Open\":120.19159,\"High\":121.26457,\"Low\":120.06536,\"Close\":120.66947,\"Volume\":136653800,\"Adj_Ratio\":0.90166},{\"Date\":\"2011-07-26T00:00:00.000Z\",\"Open\":120.58833,\"High\":120.78669,\"Low\":119.94814,\"Close\":120.21864,\"Volume\":131278200,\"Adj_Ratio\":0.90166},{\"Date\":\"2011-07-27T00:00:00.000Z\",\"Open\":119.55141,\"High\":119.58748,\"Low\":117.60381,\"Close\":117.75711,\"Volume\":249020100,\"Adj_Ratio\":0.90166},{\"Date\":\"2011-07-28T00:00:00.000Z\",\"Open\":117.75711,\"High\":118.81205,\"Low\":117.22512,\"Close\":117.41447,\"Volume\":207939900,\"Adj_Ratio\":0.90166},{\"Date\":\"2011-07-29T00:00:00.000Z\",\"Open\":116.2333,\"High\":117.71202,\"Low\":115.38573,\"Close\":116.61199,\"Volume\":307038400,\"Adj_Ratio\":0.90166},{\"Date\":\"2011-08-01T00:00:00.000Z\",\"Open\":117.9735,\"High\":118.08171,\"Low\":114.989,\"Close\":116.11608,\"Volume\":325790900,\"Adj_Ratio\":0.90166},{\"Date\":\"2011-08-02T00:00:00.000Z\",\"Open\":115.24146,\"High\":115.86361,\"Low\":113.14961,\"Close\":113.14961,\"Volume\":346653800,\"Adj_Ratio\":0.90166},{\"Date\":\"2011-08-03T00:00:00.000Z\",\"Open\":113.30289,\"High\":113.88897,\"Low\":111.38235,\"Close\":113.76274,\"Volume\":370830800,\"Adj_Ratio\":0.90166},{\"Date\":\"2011-08-04T00:00:00.000Z\",\"Open\":112.18483,\"High\":112.36516,\"Low\":108.25358,\"Close\":108.43392,\"Volume\":520721800,\"Adj_Ratio\":0.90166},{\"Date\":\"2011-08-05T00:00:00.000Z\",\"Open\":109.78641,\"High\":110.06592,\"Low\":105.36826,\"Close\":108.27162,\"Volume\":655619200,\"Adj_Ratio\":0.90166},{\"Date\":\"2011-08-08T00:00:00.000Z\",\"Open\":105.41335,\"High\":108.30768,\"Low\":101.00421,\"Close\":101.22062,\"Volume\":702263900,\"Adj_Ratio\":0.90166},{\"Date\":\"2011-08-09T00:00:00.000Z\",\"Open\":102.85262,\"High\":106.07156,\"Low\":99.42631,\"Close\":105.9273,\"Volume\":717828700,\"Adj_Ratio\":0.90166},{\"Date\":\"2011-08-10T00:00:00.000Z\",\"Open\":103.9256,\"High\":104.8453,\"Low\":100.9411,\"Close\":101.24767,\"Volume\":662607400,\"Adj_Ratio\":0.90166},{\"Date\":\"2011-08-11T00:00:00.000Z\",\"Open\":102.12228,\"High\":107.22568,\"Low\":101.27471,\"Close\":105.79205,\"Volume\":487979700,\"Adj_Ratio\":0.90166},{\"Date\":\"2011-08-12T00:00:00.000Z\",\"Open\":106.75682,\"High\":107.48717,\"Low\":105.74696,\"Close\":106.50436,\"Volume\":313731600,\"Adj_Ratio\":0.90166},{\"Date\":\"2011-08-15T00:00:00.000Z\",\"Open\":107.46914,\"High\":108.86671,\"Low\":107.29782,\"Close\":108.75851,\"Volume\":258810600,\"Adj_Ratio\":0.90166},{\"Date\":\"2011-08-16T00:00:00.000Z\",\"Open\":107.7216,\"High\":108.82163,\"Low\":106.67567,\"Close\":107.8298,\"Volume\":294095200,\"Adj_Ratio\":0.90166},{\"Date\":\"2011-08-17T00:00:00.000Z\",\"Open\":108.4249,\"High\":109.28147,\"Low\":107.04536,\"Close\":107.90193,\"Volume\":238201100,\"Adj_Ratio\":0.90166},{\"Date\":\"2011-08-18T00:00:00.000Z\",\"Open\":105.04366,\"High\":107.938,\"Low\":102.23949,\"Close\":103.24936,\"Volume\":512956300,\"Adj_Ratio\":0.90166},{\"Date\":\"2011-08-19T00:00:00.000Z\",\"Open\":101.85178,\"High\":104.48463,\"Low\":101.43702,\"Close\":101.56325,\"Volume\":428281300,\"Adj_Ratio\":0.90166},{\"Date\":\"2011-08-22T00:00:00.000Z\",\"Open\":103.84445,\"High\":103.89856,\"Low\":101.35587,\"Close\":101.6444,\"Volume\":275090600,\"Adj_Ratio\":0.90166},{\"Date\":\"2011-08-23T00:00:00.000Z\",\"Open\":102.0231,\"High\":105.10678,\"Low\":101.50915,\"Close\":104.98957,\"Volume\":331136600,\"Adj_Ratio\":0.90166},{\"Date\":\"2011-08-24T00:00:00.000Z\",\"Open\":104.76415,\"High\":106.61255,\"Low\":104.5207,\"Close\":106.46829,\"Volume\":246869700,\"Adj_Ratio\":0.90166},{\"Date\":\"2011-08-25T00:00:00.000Z\",\"Open\":107.05437,\"High\":107.65849,\"Low\":104.47562,\"Close\":104.8453,\"Volume\":312365400,\"Adj_Ratio\":0.90166},{\"Date\":\"2011-08-26T00:00:00.000Z\",\"Open\":104.31332,\"High\":106.85601,\"Low\":102.65426,\"Close\":106.36911,\"Volume\":314495900,\"Adj_Ratio\":0.90166},{\"Date\":\"2011-08-29T00:00:00.000Z\",\"Open\":107.80275,\"High\":109.48886,\"Low\":106.45025,\"Close\":109.42574,\"Volume\":190977200,\"Adj_Ratio\":0.90166},{\"Date\":\"2011-08-30T00:00:00.000Z\",\"Open\":108.94786,\"High\":110.39052,\"Low\":107.53225,\"Close\":109.71428,\"Volume\":241315700,\"Adj_Ratio\":0.90166},{\"Date\":\"2011-08-31T00:00:00.000Z\",\"Open\":110.41757,\"High\":111.36432,\"Low\":109.37165,\"Close\":110.20117,\"Volume\":301828400,\"Adj_Ratio\":0.90166},{\"Date\":\"2011-09-01T00:00:00.000Z\",\"Open\":110.26429,\"High\":111.26514,\"Low\":108.90278,\"Close\":109.04705,\"Volume\":254585900,\"Adj_Ratio\":0.90166},{\"Date\":\"2011-09-02T00:00:00.000Z\",\"Open\":106.77485,\"High\":108.98393,\"Low\":105.88221,\"Close\":106.26091,\"Volume\":255517200,\"Adj_Ratio\":0.90166},{\"Date\":\"2011-09-06T00:00:00.000Z\",\"Open\":103.14115,\"High\":105.63876,\"Low\":103.13214,\"Close\":105.48548,\"Volume\":285130500,\"Adj_Ratio\":0.90166},{\"Date\":\"2011-09-07T00:00:00.000Z\",\"Open\":107.08142,\"High\":108.50604,\"Low\":106.72076,\"Close\":108.46096,\"Volume\":209803200,\"Adj_Ratio\":0.90166},{\"Date\":\"2011-09-08T00:00:00.000Z\",\"Open\":107.81177,\"High\":109.04705,\"Low\":107.09043,\"Close\":107.33389,\"Volume\":250568200,\"Adj_Ratio\":0.90166},{\"Date\":\"2011-09-09T00:00:00.000Z\",\"Open\":106.10763,\"High\":107.35192,\"Low\":103.94363,\"Close\":104.5207,\"Volume\":380195100,\"Adj_Ratio\":0.90166},{\"Date\":\"2011-09-12T00:00:00.000Z\",\"Open\":103.21329,\"High\":105.2781,\"Low\":102.83459,\"Close\":105.19694,\"Volume\":305793500,\"Adj_Ratio\":0.90166},{\"Date\":\"2011-09-13T00:00:00.000Z\",\"Open\":105.53958,\"High\":106.55846,\"Low\":104.7912,\"Close\":106.16172,\"Volume\":272514700,\"Adj_Ratio\":0.90166},{\"Date\":\"2011-09-14T00:00:00.000Z\",\"Open\":106.70272,\"High\":108.92081,\"Low\":105.24203,\"Close\":107.63144,\"Volume\":319389500,\"Adj_Ratio\":0.90166},{\"Date\":\"2011-09-15T00:00:00.000Z\",\"Open\":108.78556,\"High\":109.52493,\"Low\":107.65849,\"Close\":109.48886,\"Volume\":326777200,\"Adj_Ratio\":0.90166},{\"Date\":\"2011-09-16T00:00:00.000Z\",\"Open\":109.92843,\"High\":110.54473,\"Low\":109.04929,\"Close\":110.13688,\"Volume\":284528300,\"Adj_Ratio\":0.90633},{\"Date\":\"2011-09-19T00:00:00.000Z\",\"Open\":108.33329,\"High\":109.60215,\"Low\":107.59916,\"Close\":109.04022,\"Volume\":241517000,\"Adj_Ratio\":0.90633},{\"Date\":\"2011-09-20T00:00:00.000Z\",\"Open\":109.50245,\"High\":110.56285,\"Low\":108.76833,\"Close\":108.91334,\"Volume\":218932200,\"Adj_Ratio\":0.90633},{\"Date\":\"2011-09-21T00:00:00.000Z\",\"Open\":108.96772,\"High\":109.30306,\"Low\":105.53274,\"Close\":105.70494,\"Volume\":316251300,\"Adj_Ratio\":0.90633},{\"Date\":\"2011-09-22T00:00:00.000Z\",\"Open\":102.64155,\"High\":103.51163,\"Low\":100.87422,\"Close\":102.28809,\"Volume\":513911300,\"Adj_Ratio\":0.90633},{\"Date\":\"2011-09-23T00:00:00.000Z\",\"Open\":101.60834,\"High\":103.46632,\"Low\":101.52677,\"Close\":102.90439,\"Volume\":307242500,\"Adj_Ratio\":0.90633},{\"Date\":\"2011-09-26T00:00:00.000Z\",\"Open\":103.87416,\"High\":105.49649,\"Low\":102.39685,\"Close\":105.35147,\"Volume\":260673700,\"Adj_Ratio\":0.90633},{\"Date\":\"2011-09-27T00:00:00.000Z\",\"Open\":107.42696,\"High\":108.36048,\"Low\":105.89527,\"Close\":106.5297,\"Volume\":311753900,\"Adj_Ratio\":0.90633},{\"Date\":\"2011-09-28T00:00:00.000Z\",\"Open\":106.74722,\"High\":107.39071,\"Low\":104.20044,\"Close\":104.35451,\"Volume\":286696800,\"Adj_Ratio\":0.90633},{\"Date\":\"2011-09-29T00:00:00.000Z\",\"Open\":106.0856,\"High\":106.61126,\"Low\":103.25786,\"Close\":105.17927,\"Volume\":298108900,\"Adj_Ratio\":0.90633},{\"Date\":\"2011-09-30T00:00:00.000Z\",\"Open\":103.72914,\"High\":104.63547,\"Low\":102.47842,\"Close\":102.55092,\"Volume\":288392300,\"Adj_Ratio\":0.90633},{\"Date\":\"2011-10-03T00:00:00.000Z\",\"Open\":101.95274,\"High\":103.27598,\"Low\":99.52379,\"Close\":99.63255,\"Volume\":365136800,\"Adj_Ratio\":0.90633},{\"Date\":\"2011-10-04T00:00:00.000Z\",\"Open\":98.20055,\"High\":102.03432,\"Low\":97.36673,\"Close\":101.81679,\"Volume\":459177500,\"Adj_Ratio\":0.90633},{\"Date\":\"2011-10-05T00:00:00.000Z\",\"Open\":102.07057,\"High\":103.97386,\"Low\":101.12799,\"Close\":103.70195,\"Volume\":284108000,\"Adj_Ratio\":0.90633},{\"Date\":\"2011-10-06T00:00:00.000Z\",\"Open\":103.64758,\"High\":105.73213,\"Low\":102.8772,\"Close\":105.57805,\"Volume\":257800800,\"Adj_Ratio\":0.90633},{\"Date\":\"2011-10-07T00:00:00.000Z\",\"Open\":106.19435,\"High\":106.26686,\"Low\":104.282,\"Close\":104.87112,\"Volume\":312657900,\"Adj_Ratio\":0.90633},{\"Date\":\"2011-10-10T00:00:00.000Z\",\"Open\":106.65658,\"High\":108.42392,\"Low\":106.64752,\"Close\":108.37861,\"Volume\":230666300,\"Adj_Ratio\":0.90633},{\"Date\":\"2011-10-11T00:00:00.000Z\",\"Open\":107.73512,\"High\":108.79552,\"Low\":107.62635,\"Close\":108.48736,\"Volume\":209088000,\"Adj_Ratio\":0.90633},{\"Date\":\"2011-10-12T00:00:00.000Z\",\"Open\":109.30306,\"High\":110.6988,\"Low\":109.05835,\"Close\":109.43901,\"Volume\":281544900,\"Adj_Ratio\":0.90633},{\"Date\":\"2011-10-13T00:00:00.000Z\",\"Open\":108.79552,\"High\":109.54777,\"Low\":107.9617,\"Close\":109.22149,\"Volume\":212538800,\"Adj_Ratio\":0.90633},{\"Date\":\"2011-10-14T00:00:00.000Z\",\"Open\":110.49035,\"High\":111.11571,\"Low\":109.87405,\"Close\":111.08852,\"Volume\":211397600,\"Adj_Ratio\":0.90633},{\"Date\":\"2011-10-17T00:00:00.000Z\",\"Open\":110.56285,\"High\":111.0704,\"Low\":108.69582,\"Close\":108.96772,\"Volume\":202311600,\"Adj_Ratio\":0.90633},{\"Date\":\"2011-10-18T00:00:00.000Z\",\"Open\":108.88615,\"High\":111.93141,\"Low\":108.0342,\"Close\":111.09759,\"Volume\":318857900,\"Adj_Ratio\":0.90633},{\"Date\":\"2011-10-19T00:00:00.000Z\",\"Open\":110.91632,\"High\":111.55075,\"Low\":109.40275,\"Close\":109.78341,\"Volume\":226601300,\"Adj_Ratio\":0.90633},{\"Date\":\"2011-10-20T00:00:00.000Z\",\"Open\":110.05531,\"High\":110.66255,\"Low\":108.59612,\"Close\":110.26377,\"Volume\":262075600,\"Adj_Ratio\":0.90633},{\"Date\":\"2011-10-21T00:00:00.000Z\",\"Open\":111.55981,\"High\":112.49333,\"Low\":111.22447,\"Close\":112.35738,\"Volume\":278999400,\"Adj_Ratio\":0.90633},{\"Date\":\"2011-10-24T00:00:00.000Z\",\"Open\":112.53865,\"High\":114.01596,\"Low\":112.43895,\"Close\":113.735,\"Volume\":203215600,\"Adj_Ratio\":0.90633},{\"Date\":\"2011-10-25T00:00:00.000Z\",\"Open\":113.1912,\"High\":113.24558,\"Low\":111.27885,\"Close\":111.52356,\"Volume\":268596800,\"Adj_Ratio\":0.90633},{\"Date\":\"2011-10-26T00:00:00.000Z\",\"Open\":112.70178,\"High\":113.08244,\"Low\":110.76224,\"Close\":112.65647,\"Volume\":289053800,\"Adj_Ratio\":0.90633},{\"Date\":\"2011-10-27T00:00:00.000Z\",\"Open\":115.67454,\"High\":117.29686,\"Low\":114.75009,\"Close\":116.58087,\"Volume\":393220200,\"Adj_Ratio\":0.90633},{\"Date\":\"2011-10-28T00:00:00.000Z\",\"Open\":116.00988,\"High\":116.78026,\"Low\":115.82862,\"Close\":116.55368,\"Volume\":225906500,\"Adj_Ratio\":0.90633},{\"Date\":\"2011-10-31T00:00:00.000Z\",\"Open\":115.24857,\"High\":116.5718,\"Low\":113.58092,\"Close\":113.74406,\"Volume\":228146700,\"Adj_Ratio\":0.90633},{\"Date\":\"2011-11-01T00:00:00.000Z\",\"Open\":110.59911,\"High\":111.94047,\"Low\":110.13688,\"Close\":110.57192,\"Volume\":416565800,\"Adj_Ratio\":0.90633},{\"Date\":\"2011-11-02T00:00:00.000Z\",\"Open\":112.2305,\"High\":112.7471,\"Low\":111.28792,\"Close\":112.37551,\"Volume\":244717600,\"Adj_Ratio\":0.90633},{\"Date\":\"2011-11-03T00:00:00.000Z\",\"Open\":113.5356,\"High\":114.65039,\"Low\":112.02204,\"Close\":114.42381,\"Volume\":291174800,\"Adj_Ratio\":0.90633},{\"Date\":\"2011-11-04T00:00:00.000Z\",\"Open\":113.49936,\"High\":113.92533,\"Low\":112.39364,\"Close\":113.72594,\"Volume\":249401600,\"Adj_Ratio\":0.90633},{\"Date\":\"2011-11-07T00:00:00.000Z\",\"Open\":113.64437,\"High\":114.55069,\"Low\":112.56583,\"Close\":114.43287,\"Volume\":196617200,\"Adj_Ratio\":0.90633},{\"Date\":\"2011-11-08T00:00:00.000Z\",\"Open\":115.03104,\"High\":116.02801,\"Low\":113.93439,\"Close\":115.90112,\"Volume\":224426300,\"Adj_Ratio\":0.90633},{\"Date\":\"2011-11-09T00:00:00.000Z\",\"Open\":113.1912,\"High\":114.01596,\"Low\":111.35136,\"Close\":111.62326,\"Volume\":337982000,\"Adj_Ratio\":0.90633},{\"Date\":\"2011-11-10T00:00:00.000Z\",\"Open\":113.10057,\"High\":113.23652,\"Low\":111.49637,\"Close\":112.6746,\"Volume\":231866500,\"Adj_Ratio\":0.90633},{\"Date\":\"2011-11-11T00:00:00.000Z\",\"Open\":114.04315,\"High\":115.09449,\"Low\":114.0069,\"Close\":114.79541,\"Volume\":189924400,\"Adj_Ratio\":0.90633},{\"Date\":\"2011-11-14T00:00:00.000Z\",\"Open\":114.36943,\"High\":115.5114,\"Low\":113.21839,\"Close\":113.70781,\"Volume\":159258300,\"Adj_Ratio\":0.90633},{\"Date\":\"2011-11-15T00:00:00.000Z\",\"Open\":113.44497,\"High\":114.87697,\"Low\":113.03713,\"Close\":114.26973,\"Volume\":184709400,\"Adj_Ratio\":0.90633},{\"Date\":\"2011-11-16T00:00:00.000Z\",\"Open\":113.11869,\"High\":114.50537,\"Low\":112.29394,\"Close\":112.45708,\"Volume\":235782500,\"Adj_Ratio\":0.90633},{\"Date\":\"2011-11-17T00:00:00.000Z\",\"Open\":112.24862,\"High\":112.52959,\"Low\":109.87405,\"Close\":110.67161,\"Volume\":331219600,\"Adj_Ratio\":0.90633},{\"Date\":\"2011-11-18T00:00:00.000Z\",\"Open\":111.02508,\"High\":111.25166,\"Low\":110.09156,\"Close\":110.55379,\"Volume\":215580400,\"Adj_Ratio\":0.90633},{\"Date\":\"2011-11-21T00:00:00.000Z\",\"Open\":108.94053,\"High\":109.07648,\"Low\":107.53572,\"Close\":108.45111,\"Volume\":229611600,\"Adj_Ratio\":0.90633},{\"Date\":\"2011-11-22T00:00:00.000Z\",\"Open\":108.21547,\"High\":108.84989,\"Low\":107.4179,\"Close\":108.02514,\"Volume\":216494900,\"Adj_Ratio\":0.90633},{\"Date\":\"2011-11-23T00:00:00.000Z\",\"Open\":107.01005,\"High\":108.02514,\"Low\":105.64149,\"Close\":105.64149,\"Volume\":224329100,\"Adj_Ratio\":0.90633},{\"Date\":\"2011-11-25T00:00:00.000Z\",\"Open\":105.47836,\"High\":106.67471,\"Low\":105.31522,\"Close\":105.4421,\"Volume\":99557000,\"Adj_Ratio\":0.90633},{\"Date\":\"2011-11-28T00:00:00.000Z\",\"Open\":108.34235,\"High\":108.9224,\"Low\":107.6898,\"Close\":108.49643,\"Volume\":210686000,\"Adj_Ratio\":0.90633},{\"Date\":\"2011-11-29T00:00:00.000Z\",\"Open\":108.80458,\"High\":109.66559,\"Low\":108.4058,\"Close\":108.80458,\"Volume\":199241500,\"Adj_Ratio\":0.90633},{\"Date\":\"2011-11-30T00:00:00.000Z\",\"Open\":111.92234,\"High\":113.49029,\"Low\":108.75926,\"Close\":113.28183,\"Volume\":324439500,\"Adj_Ratio\":0.90633},{\"Date\":\"2011-12-01T00:00:00.000Z\",\"Open\":113.15495,\"High\":113.87095,\"Low\":112.77429,\"Close\":113.26371,\"Volume\":176954800,\"Adj_Ratio\":0.90633},{\"Date\":\"2011-12-02T00:00:00.000Z\",\"Open\":114.30599,\"High\":114.65039,\"Low\":113.09151,\"Close\":113.16401,\"Volume\":221109700,\"Adj_Ratio\":0.90633},{\"Date\":\"2011-12-05T00:00:00.000Z\",\"Open\":114.95854,\"High\":115.26669,\"Low\":113.68968,\"Close\":114.39662,\"Volume\":225263900,\"Adj_Ratio\":0.90633},{\"Date\":\"2011-12-06T00:00:00.000Z\",\"Open\":114.38755,\"High\":115.20325,\"Low\":113.97971,\"Close\":114.43287,\"Volume\":178842100,\"Adj_Ratio\":0.90633},{\"Date\":\"2011-12-07T00:00:00.000Z\",\"Open\":114.05221,\"High\":115.3392,\"Low\":113.26371,\"Close\":114.85885,\"Volume\":237802500,\"Adj_Ratio\":0.90633},{\"Date\":\"2011-12-08T00:00:00.000Z\",\"Open\":114.10659,\"High\":114.36036,\"Low\":112.06736,\"Close\":112.33925,\"Volume\":240862800,\"Adj_Ratio\":0.90633},{\"Date\":\"2011-12-09T00:00:00.000Z\",\"Open\":112.8468,\"High\":114.53257,\"Low\":112.7471,\"Close\":114.24254,\"Volume\":209111400,\"Adj_Ratio\":0.90633},{\"Date\":\"2011-12-12T00:00:00.000Z\",\"Open\":113.24558,\"High\":113.26371,\"Low\":111.62326,\"Close\":112.5749,\"Volume\":215826100,\"Adj_Ratio\":0.90633},{\"Date\":\"2011-12-13T00:00:00.000Z\",\"Open\":113.16401,\"High\":113.8075,\"Low\":110.97976,\"Close\":111.52356,\"Volume\":245159800,\"Adj_Ratio\":0.90633},{\"Date\":\"2011-12-14T00:00:00.000Z\",\"Open\":111.07946,\"High\":111.50543,\"Low\":110.09156,\"Close\":110.33627,\"Volume\":238618800,\"Adj_Ratio\":0.90633},{\"Date\":\"2011-12-15T00:00:00.000Z\",\"Open\":111.50543,\"High\":111.65951,\"Low\":110.56285,\"Close\":110.73506,\"Volume\":199109200,\"Adj_Ratio\":0.90633},{\"Date\":\"2011-12-16T00:00:00.000Z\",\"Open\":111.48296,\"High\":112.13965,\"Low\":110.63473,\"Close\":110.89923,\"Volume\":220481400,\"Adj_Ratio\":0.91208},{\"Date\":\"2011-12-19T00:00:00.000Z\",\"Open\":111.32791,\"High\":111.56505,\"Low\":109.47639,\"Close\":109.71354,\"Volume\":183903000,\"Adj_Ratio\":0.91208},{\"Date\":\"2011-12-20T00:00:00.000Z\",\"Open\":111.43736,\"High\":113.22502,\"Low\":109.7865,\"Close\":113.03349,\"Volume\":225418100,\"Adj_Ratio\":0.91208},{\"Date\":\"2011-12-21T00:00:00.000Z\",\"Open\":113.03349,\"High\":113.42568,\"Low\":111.95724,\"Close\":113.25239,\"Volume\":194230900,\"Adj_Ratio\":0.91208},{\"Date\":\"2011-12-22T00:00:00.000Z\",\"Open\":113.67194,\"High\":114.37424,\"Low\":113.30711,\"Close\":114.25567,\"Volume\":119465400,\"Adj_Ratio\":0.91208},{\"Date\":\"2011-12-23T00:00:00.000Z\",\"Open\":114.6205,\"High\":115.31368,\"Low\":114.38336,\"Close\":115.27719,\"Volume\":92187200,\"Adj_Ratio\":0.91208},{\"Date\":\"2011-12-27T00:00:00.000Z\",\"Open\":115.07654,\"High\":115.66939,\"Low\":114.97621,\"Close\":115.3684,\"Volume\":86075700,\"Adj_Ratio\":0.91208},{\"Date\":\"2011-12-28T00:00:00.000Z\",\"Open\":115.38665,\"High\":115.40488,\"Low\":113.76315,\"Close\":113.85436,\"Volume\":119107100,\"Adj_Ratio\":0.91208},{\"Date\":\"2011-12-29T00:00:00.000Z\",\"Open\":114.22831,\"High\":115.1495,\"Low\":113.88172,\"Close\":115.03094,\"Volume\":123507200,\"Adj_Ratio\":0.91208},{\"Date\":\"2011-12-30T00:00:00.000Z\",\"Open\":114.93972,\"High\":115.22247,\"Low\":114.46545,\"Close\":114.46545,\"Volume\":95599000,\"Adj_Ratio\":0.91208},{\"Date\":\"2012-01-03T00:00:00.000Z\",\"Open\":116.52674,\"High\":117.09223,\"Low\":116.22575,\"Close\":116.2896,\"Volume\":193697900,\"Adj_Ratio\":0.91208},{\"Date\":\"2012-01-04T00:00:00.000Z\",\"Open\":116.01597,\"High\":116.57234,\"Low\":115.56906,\"Close\":116.47201,\"Volume\":127186500,\"Adj_Ratio\":0.91208},{\"Date\":\"2012-01-05T00:00:00.000Z\",\"Open\":115.84268,\"High\":116.95541,\"Low\":115.31368,\"Close\":116.78211,\"Volume\":173895000,\"Adj_Ratio\":0.91208},{\"Date\":\"2012-01-06T00:00:00.000Z\",\"Open\":116.92805,\"High\":116.94629,\"Low\":116.09806,\"Close\":116.48113,\"Volume\":148050000,\"Adj_Ratio\":0.91208},{\"Date\":\"2012-01-09T00:00:00.000Z\",\"Open\":116.74564,\"High\":116.9098,\"Low\":116.20752,\"Close\":116.76388,\"Volume\":99530200,\"Adj_Ratio\":0.91208},{\"Date\":\"2012-01-10T00:00:00.000Z\",\"Open\":118.01342,\"High\":118.25056,\"Low\":117.61211,\"Close\":117.77629,\"Volume\":115282000,\"Adj_Ratio\":0.91208},{\"Date\":\"2012-01-11T00:00:00.000Z\",\"Open\":117.41145,\"High\":117.99517,\"Low\":117.21992,\"Close\":117.84012,\"Volume\":111540700,\"Adj_Ratio\":0.91208},{\"Date\":\"2012-01-12T00:00:00.000Z\",\"Open\":118.1776,\"High\":118.29616,\"Low\":117.23815,\"Close\":118.12286,\"Volume\":118983700,\"Adj_Ratio\":0.91208},{\"Date\":\"2012-01-13T00:00:00.000Z\",\"Open\":117.32936,\"High\":117.70332,\"Low\":116.49026,\"Close\":117.51178,\"Volume\":179836200,\"Adj_Ratio\":0.91208},{\"Date\":\"2012-01-17T00:00:00.000Z\",\"Open\":118.64276,\"High\":118.86166,\"Low\":117.5665,\"Close\":117.96781,\"Volume\":132209200,\"Adj_Ratio\":0.91208},{\"Date\":\"2012-01-18T00:00:00.000Z\",\"Open\":117.94045,\"High\":119.33593,\"Low\":117.73068,\"Close\":119.27209,\"Volume\":163395200,\"Adj_Ratio\":0.91208},{\"Date\":\"2012-01-19T00:00:00.000Z\",\"Open\":119.68252,\"High\":120.00175,\"Low\":119.29945,\"Close\":119.90142,\"Volume\":126328900,\"Adj_Ratio\":0.91208},{\"Date\":\"2012-01-20T00:00:00.000Z\",\"Open\":119.70076,\"High\":120.34833,\"Low\":119.40889,\"Close\":120.34833,\"Volume\":138230200,\"Adj_Ratio\":0.91208},{\"Date\":\"2012-01-23T00:00:00.000Z\",\"Open\":119.94701,\"High\":120.62196,\"Low\":119.46362,\"Close\":120.03823,\"Volume\":129295800,\"Adj_Ratio\":0.91208},{\"Date\":\"2012-01-24T00:00:00.000Z\",\"Open\":119.29945,\"High\":119.9379,\"Low\":119.11704,\"Close\":119.90142,\"Volume\":103083300,\"Adj_Ratio\":0.91208},{\"Date\":\"2012-01-25T00:00:00.000Z\",\"Open\":119.719,\"High\":121.18744,\"Low\":119.25384,\"Close\":120.9047,\"Volume\":198613200,\"Adj_Ratio\":0.91208},{\"Date\":\"2012-01-26T00:00:00.000Z\",\"Open\":121.44282,\"High\":121.67084,\"Low\":119.81021,\"Close\":120.28449,\"Volume\":184880500,\"Adj_Ratio\":0.91208},{\"Date\":\"2012-01-27T00:00:00.000Z\",\"Open\":119.70076,\"High\":120.43954,\"Low\":119.61867,\"Close\":120.22977,\"Volume\":135259100,\"Adj_Ratio\":0.91208},{\"Date\":\"2012-01-30T00:00:00.000Z\",\"Open\":119.03494,\"High\":119.88318,\"Low\":118.62451,\"Close\":119.81933,\"Volume\":147311800,\"Adj_Ratio\":0.91208},{\"Date\":\"2012-01-31T00:00:00.000Z\",\"Open\":120.41218,\"High\":120.5581,\"Low\":119.18999,\"Close\":119.77373,\"Volume\":157212000,\"Adj_Ratio\":0.91208},{\"Date\":\"2012-02-01T00:00:00.000Z\",\"Open\":120.65843,\"High\":121.4337,\"Low\":120.51251,\"Close\":120.82261,\"Volume\":166234500,\"Adj_Ratio\":0.91208},{\"Date\":\"2012-02-02T00:00:00.000Z\",\"Open\":121.05975,\"High\":121.32426,\"Low\":120.58548,\"Close\":121.01414,\"Volume\":113090400,\"Adj_Ratio\":0.91208},{\"Date\":\"2012-02-03T00:00:00.000Z\",\"Open\":122.21809,\"High\":122.78357,\"Low\":122.00831,\"Close\":122.7106,\"Volume\":160598500,\"Adj_Ratio\":0.91208},{\"Date\":\"2012-02-06T00:00:00.000Z\",\"Open\":122.19984,\"High\":122.68324,\"Low\":122.06304,\"Close\":122.62852,\"Volume\":107694500,\"Adj_Ratio\":0.91208},{\"Date\":\"2012-02-07T00:00:00.000Z\",\"Open\":122.37314,\"High\":123.14841,\"Low\":121.88974,\"Close\":122.93862,\"Volume\":135528100,\"Adj_Ratio\":0.91208},{\"Date\":\"2012-02-08T00:00:00.000Z\",\"Open\":123.00247,\"High\":123.33082,\"Low\":122.50083,\"Close\":123.30346,\"Volume\":139361400,\"Adj_Ratio\":0.91208},{\"Date\":\"2012-02-09T00:00:00.000Z\",\"Open\":123.50412,\"High\":123.66828,\"Low\":122.72885,\"Close\":123.45851,\"Volume\":148602900,\"Adj_Ratio\":0.91208},{\"Date\":\"2012-02-10T00:00:00.000Z\",\"Open\":122.36402,\"High\":122.64676,\"Low\":122.07215,\"Close\":122.54644,\"Volume\":167907500,\"Adj_Ratio\":0.91208},{\"Date\":\"2012-02-13T00:00:00.000Z\",\"Open\":123.42203,\"High\":123.60445,\"Low\":122.89303,\"Close\":123.45851,\"Volume\":115841900,\"Adj_Ratio\":0.91208},{\"Date\":\"2012-02-14T00:00:00.000Z\",\"Open\":123.13016,\"High\":123.37643,\"Low\":122.44611,\"Close\":123.30346,\"Volume\":165329500,\"Adj_Ratio\":0.91208},{\"Date\":\"2012-02-15T00:00:00.000Z\",\"Open\":123.70477,\"High\":123.88719,\"Low\":122.48258,\"Close\":122.72885,\"Volume\":195195100,\"Adj_Ratio\":0.91208},{\"Date\":\"2012-02-16T00:00:00.000Z\",\"Open\":122.73798,\"High\":124.19729,\"Low\":122.51907,\"Close\":124.08785,\"Volume\":186567800,\"Adj_Ratio\":0.91208},{\"Date\":\"2012-02-17T00:00:00.000Z\",\"Open\":124.51652,\"High\":124.61685,\"Low\":124.00576,\"Close\":124.41619,\"Volume\":129869400,\"Adj_Ratio\":0.91208},{\"Date\":\"2012-02-21T00:00:00.000Z\",\"Open\":124.70805,\"High\":124.99992,\"Low\":124.08785,\"Close\":124.47091,\"Volume\":134042300,\"Adj_Ratio\":0.91208},{\"Date\":\"2012-02-22T00:00:00.000Z\",\"Open\":124.27937,\"High\":124.54388,\"Low\":123.8507,\"Close\":124.0696,\"Volume\":124455300,\"Adj_Ratio\":0.91208},{\"Date\":\"2012-02-23T00:00:00.000Z\",\"Open\":124.00576,\"High\":124.70805,\"Low\":123.5862,\"Close\":124.61685,\"Volume\":137704300,\"Adj_Ratio\":0.91208},{\"Date\":\"2012-02-24T00:00:00.000Z\",\"Open\":124.89046,\"High\":125.13673,\"Low\":124.61685,\"Close\":124.89046,\"Volume\":105539100,\"Adj_Ratio\":0.91208},{\"Date\":\"2012-02-27T00:00:00.000Z\",\"Open\":124.06048,\"High\":125.43771,\"Low\":123.85983,\"Close\":125.10025,\"Volume\":145728900,\"Adj_Ratio\":0.91208},{\"Date\":\"2012-02-28T00:00:00.000Z\",\"Open\":125.13672,\"High\":125.61101,\"Low\":124.89046,\"Close\":125.46507,\"Volume\":129355900,\"Adj_Ratio\":0.91208},{\"Date\":\"2012-02-29T00:00:00.000Z\",\"Open\":125.64749,\"High\":126.03969,\"Low\":124.53475,\"Close\":124.97256,\"Volume\":185934700,\"Adj_Ratio\":0.91208},{\"Date\":\"2012-03-01T00:00:00.000Z\",\"Open\":125.23706,\"High\":125.85727,\"Low\":124.89046,\"Close\":125.62013,\"Volume\":145023500,\"Adj_Ratio\":0.91208},{\"Date\":\"2012-03-02T00:00:00.000Z\",\"Open\":125.53804,\"High\":125.70222,\"Low\":124.95431,\"Close\":125.23705,\"Volume\":120638300,\"Adj_Ratio\":0.91208},{\"Date\":\"2012-03-05T00:00:00.000Z\",\"Open\":125.04553,\"High\":125.13673,\"Low\":124.29762,\"Close\":124.72629,\"Volume\":140765000,\"Adj_Ratio\":0.91208},{\"Date\":\"2012-03-06T00:00:00.000Z\",\"Open\":123.44939,\"High\":123.52235,\"Low\":122.54644,\"Close\":122.90214,\"Volume\":202129900,\"Adj_Ratio\":0.91208},{\"Date\":\"2012-03-07T00:00:00.000Z\",\"Open\":123.18489,\"High\":123.96016,\"Low\":123.06631,\"Close\":123.7595,\"Volume\":143692200,\"Adj_Ratio\":0.91208},{\"Date\":\"2012-03-08T00:00:00.000Z\",\"Open\":124.51652,\"High\":125.24618,\"Low\":124.26114,\"Close\":124.99079,\"Volume\":116968900,\"Adj_Ratio\":0.91208},{\"Date\":\"2012-03-09T00:00:00.000Z\",\"Open\":125.22794,\"High\":125.80254,\"Low\":125.07289,\"Close\":125.4742,\"Volume\":122836800,\"Adj_Ratio\":0.91208},{\"Date\":\"2012-03-12T00:00:00.000Z\",\"Open\":125.45596,\"High\":125.64749,\"Low\":125.0364,\"Close\":125.48332,\"Volume\":104003500,\"Adj_Ratio\":0.91208},{\"Date\":\"2012-03-13T00:00:00.000Z\",\"Open\":126.15826,\"High\":127.80911,\"Low\":125.94847,\"Close\":127.74526,\"Volume\":184090500,\"Adj_Ratio\":0.91208},{\"Date\":\"2012-03-14T00:00:00.000Z\",\"Open\":127.78175,\"High\":128.10097,\"Low\":127.21626,\"Close\":127.60846,\"Volume\":145163600,\"Adj_Ratio\":0.91208},{\"Date\":\"2012-03-15T00:00:00.000Z\",\"Open\":127.79998,\"High\":128.40196,\"Low\":127.47164,\"Close\":128.34724,\"Volume\":165118500,\"Adj_Ratio\":0.91208},{\"Date\":\"2012-03-16T00:00:00.000Z\",\"Open\":128.57992,\"High\":128.68984,\"Low\":128.25013,\"Close\":128.52496,\"Volume\":152893500,\"Adj_Ratio\":0.91607},{\"Date\":\"2012-03-19T00:00:00.000Z\",\"Open\":128.44251,\"High\":129.4227,\"Low\":128.3509,\"Close\":129.0288,\"Volume\":125291100,\"Adj_Ratio\":0.91607},{\"Date\":\"2012-03-20T00:00:00.000Z\",\"Open\":128.29594,\"High\":128.80894,\"Low\":127.92035,\"Close\":128.65321,\"Volume\":121729700,\"Adj_Ratio\":0.91607},{\"Date\":\"2012-03-21T00:00:00.000Z\",\"Open\":128.72649,\"High\":128.84557,\"Low\":128.17684,\"Close\":128.44251,\"Volume\":122388400,\"Adj_Ratio\":0.91607},{\"Date\":\"2012-03-22T00:00:00.000Z\",\"Open\":127.49895,\"High\":127.8379,\"Low\":127.09589,\"Close\":127.51727,\"Volume\":135216700,\"Adj_Ratio\":0.91607},{\"Date\":\"2012-03-23T00:00:00.000Z\",\"Open\":127.62721,\"High\":128.07608,\"Low\":126.92183,\"Close\":127.9295,\"Volume\":120521000,\"Adj_Ratio\":0.91607},{\"Date\":\"2012-03-26T00:00:00.000Z\",\"Open\":128.84557,\"High\":129.72501,\"Low\":128.79978,\"Close\":129.72501,\"Volume\":120164000,\"Adj_Ratio\":0.91607},{\"Date\":\"2012-03-27T00:00:00.000Z\",\"Open\":129.8441,\"High\":129.92655,\"Low\":129.23949,\"Close\":129.32193,\"Volume\":119868500,\"Adj_Ratio\":0.91607},{\"Date\":\"2012-03-28T00:00:00.000Z\",\"Open\":129.25782,\"High\":129.45935,\"Low\":127.92035,\"Close\":128.68069,\"Volume\":148562100,\"Adj_Ratio\":0.91607},{\"Date\":\"2012-03-29T00:00:00.000Z\",\"Open\":127.92034,\"High\":128.69901,\"Low\":127.4165,\"Close\":128.46082,\"Volume\":164963700,\"Adj_Ratio\":0.91607},{\"Date\":\"2012-03-30T00:00:00.000Z\",\"Open\":129.09292,\"High\":129.21201,\"Low\":128.29594,\"Close\":128.99215,\"Volume\":135486800,\"Adj_Ratio\":0.91607},{\"Date\":\"2012-04-02T00:00:00.000Z\",\"Open\":128.83642,\"High\":130.27466,\"Low\":128.57992,\"Close\":129.9357,\"Volume\":151741100,\"Adj_Ratio\":0.91607},{\"Date\":\"2012-04-03T00:00:00.000Z\",\"Open\":129.75249,\"High\":129.97235,\"Low\":128.64404,\"Close\":129.40438,\"Volume\":155806700,\"Adj_Ratio\":0.91607},{\"Date\":\"2012-04-04T00:00:00.000Z\",\"Open\":128.45167,\"High\":128.56159,\"Low\":127.64552,\"Close\":128.12188,\"Volume\":146896000,\"Adj_Ratio\":0.91607},{\"Date\":\"2012-04-05T00:00:00.000Z\",\"Open\":127.68217,\"High\":128.43334,\"Low\":127.57223,\"Close\":128.05775,\"Volume\":137439400,\"Adj_Ratio\":0.91607},{\"Date\":\"2012-04-09T00:00:00.000Z\",\"Open\":126.44547,\"High\":128.10356,\"Low\":126.27141,\"Close\":126.61952,\"Volume\":127555900,\"Adj_Ratio\":0.91607},{\"Date\":\"2012-04-10T00:00:00.000Z\",\"Open\":126.37218,\"High\":126.72945,\"Low\":124.36598,\"Close\":124.49423,\"Volume\":235360300,\"Adj_Ratio\":0.91607},{\"Date\":\"2012-04-11T00:00:00.000Z\",\"Open\":125.76757,\"High\":125.99659,\"Low\":125.2729,\"Close\":125.50191,\"Volume\":154133000,\"Adj_Ratio\":0.91607},{\"Date\":\"2012-04-12T00:00:00.000Z\",\"Open\":125.62101,\"High\":127.24245,\"Low\":125.5294,\"Close\":127.14168,\"Volume\":154321500,\"Adj_Ratio\":0.91607},{\"Date\":\"2012-04-13T00:00:00.000Z\",\"Open\":126.84854,\"High\":127.16917,\"Low\":125.51107,\"Close\":125.63016,\"Volume\":169246700,\"Adj_Ratio\":0.91607},{\"Date\":\"2012-04-16T00:00:00.000Z\",\"Open\":126.27141,\"High\":126.45462,\"Low\":125.11717,\"Close\":125.54772,\"Volume\":147825300,\"Adj_Ratio\":0.91607},{\"Date\":\"2012-04-17T00:00:00.000Z\",\"Open\":126.27141,\"High\":127.66385,\"Low\":126.14316,\"Close\":127.40735,\"Volume\":147877600,\"Adj_Ratio\":0.91607},{\"Date\":\"2012-04-18T00:00:00.000Z\",\"Open\":126.83939,\"High\":127.40735,\"Low\":126.7661,\"Close\":126.97679,\"Volume\":123884200,\"Adj_Ratio\":0.91607},{\"Date\":\"2012-04-19T00:00:00.000Z\",\"Open\":126.99512,\"High\":127.47147,\"Low\":125.56605,\"Close\":126.16149,\"Volume\":198666700,\"Adj_Ratio\":0.91607},{\"Date\":\"2012-04-20T00:00:00.000Z\",\"Open\":126.72029,\"High\":127.17833,\"Low\":126.29889,\"Close\":126.37218,\"Volume\":143199600,\"Adj_Ratio\":0.91607},{\"Date\":\"2012-04-23T00:00:00.000Z\",\"Open\":125.08051,\"High\":125.41947,\"Low\":124.53088,\"Close\":125.30953,\"Volume\":171844900,\"Adj_Ratio\":0.91607},{\"Date\":\"2012-04-24T00:00:00.000Z\",\"Open\":125.41947,\"High\":126.10653,\"Low\":125.3187,\"Close\":125.78589,\"Volume\":137484200,\"Adj_Ratio\":0.91607},{\"Date\":\"2012-04-25T00:00:00.000Z\",\"Open\":127.01343,\"High\":127.56308,\"Low\":126.9035,\"Close\":127.50811,\"Volume\":150252200,\"Adj_Ratio\":0.91607},{\"Date\":\"2012-04-26T00:00:00.000Z\",\"Open\":127.23329,\"High\":128.54328,\"Low\":127.16,\"Close\":128.39671,\"Volume\":136291600,\"Adj_Ratio\":0.91607},{\"Date\":\"2012-04-27T00:00:00.000Z\",\"Open\":128.78146,\"High\":128.97382,\"Low\":128.06692,\"Close\":128.6074,\"Volume\":130725000,\"Adj_Ratio\":0.91607},{\"Date\":\"2012-04-30T00:00:00.000Z\",\"Open\":128.3509,\"High\":128.44251,\"Low\":127.78294,\"Close\":128.13104,\"Volume\":115092200,\"Adj_Ratio\":0.91607},{\"Date\":\"2012-05-01T00:00:00.000Z\",\"Open\":128.05775,\"High\":129.77082,\"Low\":127.91119,\"Close\":128.92803,\"Volume\":138832200,\"Adj_Ratio\":0.91607},{\"Date\":\"2012-05-02T00:00:00.000Z\",\"Open\":128.17684,\"High\":128.67153,\"Low\":127.75546,\"Close\":128.54328,\"Volume\":121081000,\"Adj_Ratio\":0.91607},{\"Date\":\"2012-05-03T00:00:00.000Z\",\"Open\":128.56159,\"High\":128.66236,\"Low\":127.3249,\"Close\":127.56308,\"Volume\":143759700,\"Adj_Ratio\":0.91607},{\"Date\":\"2012-05-04T00:00:00.000Z\",\"Open\":126.89435,\"High\":127.60888,\"Low\":125.42863,\"Close\":125.50191,\"Volume\":193927300,\"Adj_Ratio\":0.91607},{\"Date\":\"2012-05-07T00:00:00.000Z\",\"Open\":125.05303,\"High\":126.01491,\"Low\":125.00724,\"Close\":125.59353,\"Volume\":127765900,\"Adj_Ratio\":0.91607},{\"Date\":\"2012-05-08T00:00:00.000Z\",\"Open\":124.84234,\"High\":125.29122,\"Low\":123.59648,\"Close\":125.08969,\"Volume\":213377700,\"Adj_Ratio\":0.91607},{\"Date\":\"2012-05-09T00:00:00.000Z\",\"Open\":123.76138,\"High\":125.14465,\"Low\":123.20258,\"Close\":124.34767,\"Volume\":220752500,\"Adj_Ratio\":0.91607},{\"Date\":\"2012-05-10T00:00:00.000Z\",\"Open\":125.20876,\"High\":125.36451,\"Low\":124.32019,\"Close\":124.60417,\"Volume\":150600000,\"Adj_Ratio\":0.91607},{\"Date\":\"2012-05-11T00:00:00.000Z\",\"Open\":123.8255,\"High\":125.38282,\"Low\":123.77054,\"Close\":124.22857,\"Volume\":153032400,\"Adj_Ratio\":0.91607},{\"Date\":\"2012-05-14T00:00:00.000Z\",\"Open\":123.03768,\"High\":124.22857,\"Low\":122.67125,\"Close\":122.85447,\"Volume\":163910000,\"Adj_Ratio\":0.91607},{\"Date\":\"2012-05-15T00:00:00.000Z\",\"Open\":122.77202,\"High\":123.49571,\"Low\":121.95672,\"Close\":122.14909,\"Volume\":207629300,\"Adj_Ratio\":0.91607},{\"Date\":\"2012-05-16T00:00:00.000Z\",\"Open\":122.69873,\"High\":123.25754,\"Low\":121.65441,\"Close\":121.68189,\"Volume\":207265500,\"Adj_Ratio\":0.91607},{\"Date\":\"2012-05-17T00:00:00.000Z\",\"Open\":121.70938,\"High\":121.85595,\"Low\":119.8131,\"Close\":119.87723,\"Volume\":247992900,\"Adj_Ratio\":0.91607},{\"Date\":\"2012-05-18T00:00:00.000Z\",\"Open\":120.34442,\"High\":120.55513,\"Low\":118.67718,\"Close\":118.85123,\"Volume\":319615900,\"Adj_Ratio\":0.91607},{\"Date\":\"2012-05-21T00:00:00.000Z\",\"Open\":119.23598,\"High\":120.93988,\"Low\":119.0436,\"Close\":120.89407,\"Volume\":177861100,\"Adj_Ratio\":0.91607},{\"Date\":\"2012-05-22T00:00:00.000Z\",\"Open\":121.20553,\"High\":122.04832,\"Low\":120.31694,\"Close\":121.10476,\"Volume\":197531200,\"Adj_Ratio\":0.91607},{\"Date\":\"2012-05-23T00:00:00.000Z\",\"Open\":120.2345,\"High\":121.34295,\"Low\":119.08025,\"Close\":121.1689,\"Volume\":204958400,\"Adj_Ratio\":0.91607},{\"Date\":\"2012-05-24T00:00:00.000Z\",\"Open\":121.49868,\"High\":121.69105,\"Low\":120.39023,\"Close\":121.40707,\"Volume\":167357600,\"Adj_Ratio\":0.91607},{\"Date\":\"2012-05-25T00:00:00.000Z\",\"Open\":121.36126,\"High\":121.70022,\"Low\":120.72002,\"Close\":121.01316,\"Volume\":135465600,\"Adj_Ratio\":0.91607},{\"Date\":\"2012-05-29T00:00:00.000Z\",\"Open\":121.9842,\"High\":122.68957,\"Low\":120.16121,\"Close\":122.47887,\"Volume\":152883500,\"Adj_Ratio\":0.91607},{\"Date\":\"2012-05-30T00:00:00.000Z\",\"Open\":121.43455,\"High\":122.46972,\"Low\":120.45436,\"Close\":120.70169,\"Volume\":162370400,\"Adj_Ratio\":0.91607},{\"Date\":\"2012-05-31T00:00:00.000Z\",\"Open\":120.6559,\"High\":121.33378,\"Low\":119.40087,\"Close\":120.43604,\"Volume\":196186000,\"Adj_Ratio\":0.91607},{\"Date\":\"2012-06-01T00:00:00.000Z\",\"Open\":118.54893,\"High\":120.46352,\"Low\":117.40384,\"Close\":117.40384,\"Volume\":253240900,\"Adj_Ratio\":0.91607},{\"Date\":\"2012-06-04T00:00:00.000Z\",\"Open\":117.61453,\"High\":117.93516,\"Low\":116.46944,\"Close\":117.34888,\"Volume\":202545800,\"Adj_Ratio\":0.91607},{\"Date\":\"2012-06-05T00:00:00.000Z\",\"Open\":117.11985,\"High\":118.41151,\"Low\":117.05573,\"Close\":118.23747,\"Volume\":164149400,\"Adj_Ratio\":0.91607},{\"Date\":\"2012-06-06T00:00:00.000Z\",\"Open\":119.06193,\"High\":120.94903,\"Low\":119.02528,\"Close\":120.89407,\"Volume\":184202800,\"Adj_Ratio\":0.91607},{\"Date\":\"2012-06-07T00:00:00.000Z\",\"Open\":122.26818,\"High\":122.32314,\"Low\":120.72002,\"Close\":120.96736,\"Volume\":184772700,\"Adj_Ratio\":0.91607},{\"Date\":\"2012-06-08T00:00:00.000Z\",\"Open\":120.6559,\"High\":121.95672,\"Low\":120.27114,\"Close\":121.92924,\"Volume\":143915400,\"Adj_Ratio\":0.91607},{\"Date\":\"2012-06-11T00:00:00.000Z\",\"Open\":122.90943,\"High\":122.98271,\"Low\":120.26198,\"Close\":120.38107,\"Volume\":169756100,\"Adj_Ratio\":0.91607},{\"Date\":\"2012-06-12T00:00:00.000Z\",\"Open\":120.72917,\"High\":121.84678,\"Low\":120.15206,\"Close\":121.76434,\"Volume\":181931800,\"Adj_Ratio\":0.91607},{\"Date\":\"2012-06-13T00:00:00.000Z\",\"Open\":121.40707,\"High\":122.16741,\"Low\":120.57344,\"Close\":120.98568,\"Volume\":172223900,\"Adj_Ratio\":0.91607},{\"Date\":\"2012-06-14T00:00:00.000Z\",\"Open\":121.23301,\"High\":122.7537,\"Low\":120.90323,\"Close\":122.26818,\"Volume\":230615500,\"Adj_Ratio\":0.91607},{\"Date\":\"2012-06-15T00:00:00.000Z\",\"Open\":122.81883,\"High\":123.62914,\"Low\":122.561,\"Close\":123.51865,\"Volume\":169444500,\"Adj_Ratio\":0.92082},{\"Date\":\"2012-06-18T00:00:00.000Z\",\"Open\":123.00299,\"High\":124.06193,\"Low\":122.72675,\"Close\":123.75806,\"Volume\":131360900,\"Adj_Ratio\":0.92082},{\"Date\":\"2012-06-19T00:00:00.000Z\",\"Open\":124.38422,\"High\":125.46158,\"Low\":123.73043,\"Close\":124.95512,\"Volume\":137382600,\"Adj_Ratio\":0.92082},{\"Date\":\"2012-06-20T00:00:00.000Z\",\"Open\":124.96434,\"High\":125.32346,\"Low\":123.63836,\"Close\":124.75254,\"Volume\":206451800,\"Adj_Ratio\":0.92082},{\"Date\":\"2012-06-21T00:00:00.000Z\",\"Open\":124.89988,\"High\":125.02879,\"Low\":121.85197,\"Close\":121.95326,\"Volume\":205272200,\"Adj_Ratio\":0.92082},{\"Date\":\"2012-06-22T00:00:00.000Z\",\"Open\":122.58863,\"High\":123.1227,\"Low\":122.119,\"Close\":122.8925,\"Volume\":130029200,\"Adj_Ratio\":0.92082},{\"Date\":\"2012-06-25T00:00:00.000Z\",\"Open\":121.59414,\"High\":121.64019,\"Low\":120.48916,\"Close\":120.92195,\"Volume\":146375700,\"Adj_Ratio\":0.92082},{\"Date\":\"2012-06-26T00:00:00.000Z\",\"Open\":121.27185,\"High\":121.89801,\"Low\":120.56282,\"Close\":121.52968,\"Volume\":141634000,\"Adj_Ratio\":0.92082},{\"Date\":\"2012-06-27T00:00:00.000Z\",\"Open\":121.93484,\"High\":122.86486,\"Low\":121.52048,\"Close\":122.62546,\"Volume\":108088000,\"Adj_Ratio\":0.92082},{\"Date\":\"2012-06-28T00:00:00.000Z\",\"Open\":121.81513,\"High\":122.45971,\"Low\":120.88511,\"Close\":122.27554,\"Volume\":169242100,\"Adj_Ratio\":0.92082},{\"Date\":\"2012-06-29T00:00:00.000Z\",\"Open\":124.49472,\"High\":125.48,\"Low\":124.17244,\"Close\":125.32346,\"Volume\":212250900,\"Adj_Ratio\":0.92082},{\"Date\":\"2012-07-02T00:00:00.000Z\",\"Open\":125.67336,\"High\":125.8299,\"Low\":124.78938,\"Close\":125.70099,\"Volume\":129524500,\"Adj_Ratio\":0.92082},{\"Date\":\"2012-07-03T00:00:00.000Z\",\"Open\":125.67336,\"High\":126.62181,\"Low\":125.54445,\"Close\":126.52973,\"Volume\":80450000,\"Adj_Ratio\":0.92082},{\"Date\":\"2012-07-05T00:00:00.000Z\",\"Open\":126.06011,\"High\":126.88885,\"Low\":125.49841,\"Close\":125.95881,\"Volume\":126177500,\"Adj_Ratio\":0.92082},{\"Date\":\"2012-07-06T00:00:00.000Z\",\"Open\":124.74334,\"High\":125.01959,\"Low\":124.17244,\"Close\":124.76176,\"Volume\":151192100,\"Adj_Ratio\":0.92082},{\"Date\":\"2012-07-09T00:00:00.000Z\",\"Open\":124.66047,\"High\":124.83543,\"Low\":124.03431,\"Close\":124.60522,\"Volume\":103780500,\"Adj_Ratio\":0.92082},{\"Date\":\"2012-07-10T00:00:00.000Z\",\"Open\":125.24058,\"High\":125.44316,\"Low\":123.09507,\"Close\":123.51865,\"Volume\":167884800,\"Adj_Ratio\":0.92082},{\"Date\":\"2012-07-11T00:00:00.000Z\",\"Open\":123.58311,\"High\":123.94223,\"Low\":122.81883,\"Close\":123.53707,\"Volume\":141733400,\"Adj_Ratio\":0.92082},{\"Date\":\"2012-07-12T00:00:00.000Z\",\"Open\":122.81883,\"High\":123.60152,\"Low\":122.10059,\"Close\":122.93853,\"Volume\":143583200,\"Adj_Ratio\":0.92082},{\"Date\":\"2012-07-13T00:00:00.000Z\",\"Open\":123.26082,\"High\":125.13008,\"Low\":123.2424,\"Close\":125.00117,\"Volume\":129642600,\"Adj_Ratio\":0.92082},{\"Date\":\"2012-07-16T00:00:00.000Z\",\"Open\":124.71572,\"High\":125.07484,\"Low\":124.21847,\"Close\":124.7065,\"Volume\":97525200,\"Adj_Ratio\":0.92082},{\"Date\":\"2012-07-17T00:00:00.000Z\",\"Open\":125.20375,\"High\":125.8207,\"Low\":123.89619,\"Close\":125.56287,\"Volume\":138860300,\"Adj_Ratio\":0.92082},{\"Date\":\"2012-07-18T00:00:00.000Z\",\"Open\":125.2682,\"High\":126.74152,\"Low\":125.19455,\"Close\":126.49289,\"Volume\":113349700,\"Adj_Ratio\":0.92082},{\"Date\":\"2012-07-19T00:00:00.000Z\",\"Open\":126.75072,\"High\":127.23875,\"Low\":126.34557,\"Close\":126.82439,\"Volume\":129847300,\"Adj_Ratio\":0.92082},{\"Date\":\"2012-07-20T00:00:00.000Z\",\"Open\":126.10615,\"High\":126.29953,\"Low\":125.52604,\"Close\":125.66416,\"Volume\":142904500,\"Adj_Ratio\":0.92082},{\"Date\":\"2012-07-23T00:00:00.000Z\",\"Open\":123.82252,\"High\":125.58129,\"Low\":123.2424,\"Close\":124.39342,\"Volume\":145210900,\"Adj_Ratio\":0.92082},{\"Date\":\"2012-07-24T00:00:00.000Z\",\"Open\":124.48551,\"High\":124.54076,\"Low\":122.49654,\"Close\":123.32527,\"Volume\":173301200,\"Adj_Ratio\":0.92082},{\"Date\":\"2012-07-25T00:00:00.000Z\",\"Open\":123.58311,\"High\":123.90539,\"Low\":122.69912,\"Close\":123.35291,\"Volume\":129122300,\"Adj_Ratio\":0.92082},{\"Date\":\"2012-07-26T00:00:00.000Z\",\"Open\":125.13008,\"High\":125.65496,\"Low\":124.54996,\"Close\":125.38791,\"Volume\":156526500,\"Adj_Ratio\":0.92082},{\"Date\":\"2012-07-27T00:00:00.000Z\",\"Open\":126.0509,\"High\":128.05829,\"Low\":125.36029,\"Close\":127.69916,\"Volume\":236768900,\"Adj_Ratio\":0.92082},{\"Date\":\"2012-07-30T00:00:00.000Z\",\"Open\":127.55184,\"High\":128.30691,\"Low\":127.32164,\"Close\":127.69916,\"Volume\":106782000,\"Adj_Ratio\":0.92082},{\"Date\":\"2012-07-31T00:00:00.000Z\",\"Open\":127.52422,\"High\":127.87412,\"Low\":126.80598,\"Close\":126.80598,\"Volume\":120575900,\"Adj_Ratio\":0.92082},{\"Date\":\"2012-08-01T00:00:00.000Z\",\"Open\":127.71758,\"High\":127.74521,\"Low\":126.52052,\"Close\":126.69547,\"Volume\":138293800,\"Adj_Ratio\":0.92082},{\"Date\":\"2012-08-02T00:00:00.000Z\",\"Open\":125.73783,\"High\":126.67707,\"Low\":124.84463,\"Close\":125.8207,\"Volume\":199556600,\"Adj_Ratio\":0.92082},{\"Date\":\"2012-08-03T00:00:00.000Z\",\"Open\":127.58867,\"High\":128.58315,\"Low\":125.85752,\"Close\":128.31612,\"Volume\":157825000,\"Adj_Ratio\":0.92082},{\"Date\":\"2012-08-06T00:00:00.000Z\",\"Open\":128.65682,\"High\":129.07119,\"Low\":128.50949,\"Close\":128.56473,\"Volume\":86326200,\"Adj_Ratio\":0.92082},{\"Date\":\"2012-08-07T00:00:00.000Z\",\"Open\":129.08039,\"High\":129.7618,\"Low\":128.94227,\"Close\":129.20932,\"Volume\":109545100,\"Adj_Ratio\":0.92082},{\"Date\":\"2012-08-08T00:00:00.000Z\",\"Open\":128.77653,\"High\":129.51318,\"Low\":128.73969,\"Close\":129.36586,\"Volume\":89754700,\"Adj_Ratio\":0.92082},{\"Date\":\"2012-08-09T00:00:00.000Z\",\"Open\":129.18168,\"High\":129.73418,\"Low\":129.05277,\"Close\":129.47635,\"Volume\":90291700,\"Adj_Ratio\":0.92082},{\"Date\":\"2012-08-10T00:00:00.000Z\",\"Open\":128.95148,\"High\":129.73418,\"Low\":128.73969,\"Close\":129.68813,\"Volume\":99792700,\"Adj_Ratio\":0.92082},{\"Date\":\"2012-08-13T00:00:00.000Z\",\"Open\":129.46715,\"High\":129.68813,\"Low\":128.95148,\"Close\":129.62368,\"Volume\":79426900,\"Adj_Ratio\":0.92082},{\"Date\":\"2012-08-14T00:00:00.000Z\",\"Open\":130.1025,\"High\":130.18538,\"Low\":129.25535,\"Close\":129.64209,\"Volume\":102379400,\"Adj_Ratio\":0.92082},{\"Date\":\"2012-08-15T00:00:00.000Z\",\"Open\":129.50397,\"High\":130.01043,\"Low\":129.4211,\"Close\":129.78942,\"Volume\":71085900,\"Adj_Ratio\":0.92082},{\"Date\":\"2012-08-16T00:00:00.000Z\",\"Open\":129.97359,\"High\":130.90362,\"Low\":129.65131,\"Close\":130.74708,\"Volume\":112014200,\"Adj_Ratio\":0.92082},{\"Date\":\"2012-08-17T00:00:00.000Z\",\"Open\":130.96807,\"High\":131.03254,\"Low\":130.62737,\"Close\":130.92203,\"Volume\":90813700,\"Adj_Ratio\":0.92082},{\"Date\":\"2012-08-20T00:00:00.000Z\",\"Open\":130.73787,\"High\":130.95887,\"Low\":130.37875,\"Close\":130.93124,\"Volume\":78255700,\"Adj_Ratio\":0.92082},{\"Date\":\"2012-08-21T00:00:00.000Z\",\"Open\":131.25352,\"High\":131.75998,\"Low\":130.24983,\"Close\":130.53529,\"Volume\":105581100,\"Adj_Ratio\":0.92082},{\"Date\":\"2012-08-22T00:00:00.000Z\",\"Open\":130.20379,\"High\":130.80233,\"Low\":129.89993,\"Close\":130.59055,\"Volume\":133243500,\"Adj_Ratio\":0.92082},{\"Date\":\"2012-08-23T00:00:00.000Z\",\"Open\":130.26825,\"High\":130.27746,\"Low\":129.31981,\"Close\":129.52239,\"Volume\":111466400,\"Adj_Ratio\":0.92082},{\"Date\":\"2012-08-24T00:00:00.000Z\",\"Open\":129.2001,\"High\":130.59975,\"Low\":129.11723,\"Close\":130.30508,\"Volume\":99481200,\"Adj_Ratio\":0.92082},{\"Date\":\"2012-08-27T00:00:00.000Z\",\"Open\":130.655,\"High\":130.82995,\"Low\":130.14854,\"Close\":130.3327,\"Volume\":68785900,\"Adj_Ratio\":0.92082},{\"Date\":\"2012-08-28T00:00:00.000Z\",\"Open\":130.00121,\"High\":130.60895,\"Low\":129.80784,\"Close\":130.20379,\"Volume\":75689600,\"Adj_Ratio\":0.92082},{\"Date\":\"2012-08-29T00:00:00.000Z\",\"Open\":130.3143,\"High\":130.655,\"Low\":129.94596,\"Close\":130.30508,\"Volume\":65421300,\"Adj_Ratio\":0.92082},{\"Date\":\"2012-08-30T00:00:00.000Z\",\"Open\":129.74338,\"High\":129.78022,\"Low\":129.08961,\"Close\":129.36586,\"Volume\":96589900,\"Adj_Ratio\":0.92082},{\"Date\":\"2012-08-31T00:00:00.000Z\",\"Open\":130.1025,\"High\":130.59055,\"Low\":129.24615,\"Close\":129.9828,\"Volume\":151970400,\"Adj_Ratio\":0.92082},{\"Date\":\"2012-09-04T00:00:00.000Z\",\"Open\":129.87229,\"High\":130.25905,\"Low\":129.03436,\"Close\":129.86309,\"Volume\":120226200,\"Adj_Ratio\":0.92082},{\"Date\":\"2012-09-05T00:00:00.000Z\",\"Open\":129.91834,\"High\":130.26825,\"Low\":129.49477,\"Close\":129.7526,\"Volume\":100660300,\"Adj_Ratio\":0.92082},{\"Date\":\"2012-09-06T00:00:00.000Z\",\"Open\":130.53529,\"High\":132.39534,\"Low\":130.52608,\"Close\":132.38614,\"Volume\":158272500,\"Adj_Ratio\":0.92082},{\"Date\":\"2012-09-07T00:00:00.000Z\",\"Open\":132.60713,\"High\":132.95704,\"Low\":132.48743,\"Close\":132.9018,\"Volume\":107272100,\"Adj_Ratio\":0.92082},{\"Date\":\"2012-09-10T00:00:00.000Z\",\"Open\":132.77288,\"High\":133.00309,\"Low\":132.10069,\"Close\":132.14672,\"Volume\":86458500,\"Adj_Ratio\":0.92082},{\"Date\":\"2012-09-11T00:00:00.000Z\",\"Open\":132.2296,\"High\":132.93862,\"Low\":132.19276,\"Close\":132.51506,\"Volume\":88760000,\"Adj_Ratio\":0.92082},{\"Date\":\"2012-09-12T00:00:00.000Z\",\"Open\":132.95704,\"High\":133.10438,\"Low\":132.50584,\"Close\":132.95704,\"Volume\":87640900,\"Adj_Ratio\":0.92082},{\"Date\":\"2012-09-13T00:00:00.000Z\",\"Open\":132.93862,\"High\":135.39721,\"Low\":132.58872,\"Close\":134.98284,\"Volume\":225470200,\"Adj_Ratio\":0.92082},{\"Date\":\"2012-09-14T00:00:00.000Z\",\"Open\":135.24989,\"High\":136.38249,\"Low\":135.13938,\"Close\":135.58138,\"Volume\":169777000,\"Adj_Ratio\":0.92082},{\"Date\":\"2012-09-17T00:00:00.000Z\",\"Open\":135.30514,\"High\":135.53534,\"Low\":134.78026,\"Close\":135.12097,\"Volume\":119427800,\"Adj_Ratio\":0.92082},{\"Date\":\"2012-09-18T00:00:00.000Z\",\"Open\":134.89077,\"High\":135.18542,\"Low\":134.66977,\"Close\":135.01047,\"Volume\":98326600,\"Adj_Ratio\":0.92082},{\"Date\":\"2012-09-19T00:00:00.000Z\",\"Open\":135.167,\"High\":135.51692,\"Low\":134.8171,\"Close\":135.08413,\"Volume\":128318300,\"Adj_Ratio\":0.92082},{\"Date\":\"2012-09-20T00:00:00.000Z\",\"Open\":134.46719,\"High\":135.167,\"Low\":134.09886,\"Close\":135.09335,\"Volume\":154009800,\"Adj_Ratio\":0.92082},{\"Date\":\"2012-09-21T00:00:00.000Z\",\"Open\":135.74968,\"High\":135.77745,\"Low\":134.98132,\"Close\":135.03686,\"Volume\":108737500,\"Adj_Ratio\":0.92573},{\"Date\":\"2012-09-24T00:00:00.000Z\",\"Open\":134.37033,\"High\":135.1387,\"Low\":134.2685,\"Close\":134.8332,\"Volume\":95682000,\"Adj_Ratio\":0.92573},{\"Date\":\"2012-09-25T00:00:00.000Z\",\"Open\":135.12019,\"High\":135.37939,\"Low\":133.36129,\"Close\":133.39832,\"Volume\":133165200,\"Adj_Ratio\":0.92573},{\"Date\":\"2012-09-26T00:00:00.000Z\",\"Open\":133.37055,\"High\":133.40758,\"Low\":132.33372,\"Close\":132.64847,\"Volume\":146502200,\"Adj_Ratio\":0.92573},{\"Date\":\"2012-09-27T00:00:00.000Z\",\"Open\":133.20391,\"High\":134.20371,\"Low\":132.85213,\"Close\":133.89821,\"Volume\":111830300,\"Adj_Ratio\":0.92573},{\"Date\":\"2012-09-28T00:00:00.000Z\",\"Open\":133.38906,\"High\":133.82415,\"Low\":132.80586,\"Close\":133.27797,\"Volume\":150696100,\"Adj_Ratio\":0.92573},{\"Date\":\"2012-10-01T00:00:00.000Z\",\"Open\":133.78713,\"High\":134.87024,\"Low\":133.315,\"Close\":133.62976,\"Volume\":135911200,\"Adj_Ratio\":0.92573},{\"Date\":\"2012-10-02T00:00:00.000Z\",\"Open\":134.15742,\"High\":134.37033,\"Low\":133.14837,\"Close\":133.76861,\"Volume\":113422200,\"Adj_Ratio\":0.92573},{\"Date\":\"2012-10-03T00:00:00.000Z\",\"Open\":134.12965,\"High\":134.62954,\"Low\":133.4261,\"Close\":134.31479,\"Volume\":121283100,\"Adj_Ratio\":0.92573},{\"Date\":\"2012-10-04T00:00:00.000Z\",\"Open\":134.82395,\"High\":135.47196,\"Low\":134.6388,\"Close\":135.27756,\"Volume\":124311600,\"Adj_Ratio\":0.92573},{\"Date\":\"2012-10-05T00:00:00.000Z\",\"Open\":135.99964,\"High\":136.23107,\"Low\":134.87949,\"Close\":135.28682,\"Volume\":124842100,\"Adj_Ratio\":0.92573},{\"Date\":\"2012-10-08T00:00:00.000Z\",\"Open\":134.78693,\"High\":135.2683,\"Low\":134.51846,\"Close\":134.82395,\"Volume\":78415400,\"Adj_Ratio\":0.92573},{\"Date\":\"2012-10-09T00:00:00.000Z\",\"Open\":134.72212,\"High\":134.8332,\"Low\":133.4446,\"Close\":133.49089,\"Volume\":148872900,\"Adj_Ratio\":0.92573},{\"Date\":\"2012-10-10T00:00:00.000Z\",\"Open\":133.47237,\"High\":133.60199,\"Low\":132.46332,\"Close\":132.63921,\"Volume\":124247500,\"Adj_Ratio\":0.92573},{\"Date\":\"2012-10-11T00:00:00.000Z\",\"Open\":133.56495,\"High\":133.75936,\"Low\":132.6855,\"Close\":132.71328,\"Volume\":123601500,\"Adj_Ratio\":0.92573},{\"Date\":\"2012-10-12T00:00:00.000Z\",\"Open\":132.80585,\"High\":133.25946,\"Low\":131.9912,\"Close\":132.27818,\"Volume\":124181900,\"Adj_Ratio\":0.92573},{\"Date\":\"2012-10-15T00:00:00.000Z\",\"Open\":132.59293,\"High\":133.51866,\"Low\":132.1671,\"Close\":133.37981,\"Volume\":107689100,\"Adj_Ratio\":0.92573},{\"Date\":\"2012-10-16T00:00:00.000Z\",\"Open\":134.0093,\"High\":134.82395,\"Low\":133.91673,\"Close\":134.73137,\"Volume\":108815500,\"Adj_Ratio\":0.92573},{\"Date\":\"2012-10-17T00:00:00.000Z\",\"Open\":134.82395,\"High\":135.45346,\"Low\":134.62029,\"Close\":135.34236,\"Volume\":128834100,\"Adj_Ratio\":0.92573},{\"Date\":\"2012-10-18T00:00:00.000Z\",\"Open\":134.99059,\"High\":135.6386,\"Low\":134.53697,\"Close\":134.99059,\"Volume\":148108500,\"Adj_Ratio\":0.92573},{\"Date\":\"2012-10-19T00:00:00.000Z\",\"Open\":134.74064,\"High\":134.74989,\"Low\":132.4263,\"Close\":132.74105,\"Volume\":185645200,\"Adj_Ratio\":0.92573},{\"Date\":\"2012-10-22T00:00:00.000Z\",\"Open\":132.51886,\"High\":133.00025,\"Low\":131.71348,\"Close\":132.75956,\"Volume\":125578600,\"Adj_Ratio\":0.92573},{\"Date\":\"2012-10-23T00:00:00.000Z\",\"Open\":131.32467,\"High\":131.50982,\"Low\":130.37117,\"Close\":130.91735,\"Volume\":192056300,\"Adj_Ratio\":0.92573},{\"Date\":\"2012-10-24T00:00:00.000Z\",\"Open\":131.38947,\"High\":131.54686,\"Low\":130.3434,\"Close\":130.54706,\"Volume\":120179400,\"Adj_Ratio\":0.92573},{\"Date\":\"2012-10-25T00:00:00.000Z\",\"Open\":131.47279,\"High\":131.71348,\"Low\":130.13048,\"Close\":130.9266,\"Volume\":134457400,\"Adj_Ratio\":0.92573},{\"Date\":\"2012-10-26T00:00:00.000Z\",\"Open\":130.80627,\"High\":131.30616,\"Low\":129.96384,\"Close\":130.85255,\"Volume\":146023500,\"Adj_Ratio\":0.92573},{\"Date\":\"2012-10-31T00:00:00.000Z\",\"Open\":131.31542,\"High\":131.48205,\"Low\":130.2323,\"Close\":130.85255,\"Volume\":103438500,\"Adj_Ratio\":0.92573},{\"Date\":\"2012-11-01T00:00:00.000Z\",\"Open\":131.13026,\"High\":132.38926,\"Low\":131.00993,\"Close\":132.22264,\"Volume\":100995600,\"Adj_Ratio\":0.92573},{\"Date\":\"2012-11-02T00:00:00.000Z\",\"Open\":133.0095,\"High\":133.04654,\"Low\":130.9081,\"Close\":131.04695,\"Volume\":137702200,\"Adj_Ratio\":0.92573},{\"Date\":\"2012-11-05T00:00:00.000Z\",\"Open\":130.85255,\"High\":131.61165,\"Low\":130.46373,\"Close\":131.31542,\"Volume\":98378500,\"Adj_Ratio\":0.92573},{\"Date\":\"2012-11-06T00:00:00.000Z\",\"Open\":131.71348,\"High\":132.8614,\"Low\":131.57463,\"Close\":132.34299,\"Volume\":107068100,\"Adj_Ratio\":0.92573},{\"Date\":\"2012-11-07T00:00:00.000Z\",\"Open\":131.13953,\"High\":131.15803,\"Low\":128.73262,\"Close\":129.3436,\"Volume\":264304500,\"Adj_Ratio\":0.92573},{\"Date\":\"2012-11-08T00:00:00.000Z\",\"Open\":129.32508,\"High\":129.98236,\"Low\":127.68653,\"Close\":127.78836,\"Volume\":181517300,\"Adj_Ratio\":0.92573},{\"Date\":\"2012-11-09T00:00:00.000Z\",\"Open\":127.39956,\"High\":129.0844,\"Low\":127.33476,\"Close\":127.89946,\"Volume\":201055300,\"Adj_Ratio\":0.92573},{\"Date\":\"2012-11-12T00:00:00.000Z\",\"Open\":128.29752,\"High\":128.50118,\"Low\":127.71432,\"Close\":128.00129,\"Volume\":97677500,\"Adj_Ratio\":0.92573},{\"Date\":\"2012-11-13T00:00:00.000Z\",\"Open\":127.3255,\"High\":128.90851,\"Low\":127.15887,\"Close\":127.55693,\"Volume\":123018300,\"Adj_Ratio\":0.92573},{\"Date\":\"2012-11-14T00:00:00.000Z\",\"Open\":127.94575,\"High\":128.1494,\"Low\":125.54809,\"Close\":125.83506,\"Volume\":191505000,\"Adj_Ratio\":0.92573},{\"Date\":\"2012-11-15T00:00:00.000Z\",\"Open\":125.88135,\"High\":126.35348,\"Low\":125.14076,\"Close\":125.62215,\"Volume\":178128400,\"Adj_Ratio\":0.92573},{\"Date\":\"2012-11-16T00:00:00.000Z\",\"Open\":125.80729,\"High\":126.49234,\"Low\":124.69641,\"Close\":126.24239,\"Volume\":239483900,\"Adj_Ratio\":0.92573},{\"Date\":\"2012-11-19T00:00:00.000Z\",\"Open\":127.65876,\"High\":128.81593,\"Low\":126.27942,\"Close\":128.79742,\"Volume\":151495800,\"Adj_Ratio\":0.92573},{\"Date\":\"2012-11-20T00:00:00.000Z\",\"Open\":128.59376,\"High\":129.06588,\"Low\":127.8254,\"Close\":128.85296,\"Volume\":119807400,\"Adj_Ratio\":0.92573},{\"Date\":\"2012-11-21T00:00:00.000Z\",\"Open\":128.96405,\"High\":129.20475,\"Low\":128.70484,\"Close\":129.09365,\"Volume\":81710800,\"Adj_Ratio\":0.92573},{\"Date\":\"2012-11-23T00:00:00.000Z\",\"Open\":129.72316,\"High\":130.89883,\"Low\":129.63983,\"Close\":130.85255,\"Volume\":65409200,\"Adj_Ratio\":0.92573},{\"Date\":\"2012-11-26T00:00:00.000Z\",\"Open\":130.20453,\"High\":130.86181,\"Low\":129.7787,\"Close\":130.57483,\"Volume\":100124400,\"Adj_Ratio\":0.92573},{\"Date\":\"2012-11-27T00:00:00.000Z\",\"Open\":130.44523,\"High\":130.88958,\"Low\":129.82499,\"Close\":129.9083,\"Volume\":128646200,\"Adj_Ratio\":0.92573},{\"Date\":\"2012-11-28T00:00:00.000Z\",\"Open\":129.38063,\"High\":131.02843,\"Low\":128.67707,\"Close\":130.95439,\"Volume\":177086500,\"Adj_Ratio\":0.92573},{\"Date\":\"2012-11-29T00:00:00.000Z\",\"Open\":131.44502,\"High\":131.9264,\"Low\":130.87106,\"Close\":131.56536,\"Volume\":151085900,\"Adj_Ratio\":0.92573},{\"Date\":\"2012-11-30T00:00:00.000Z\",\"Open\":131.58388,\"High\":131.84308,\"Low\":131.13953,\"Close\":131.59313,\"Volume\":136568300,\"Adj_Ratio\":0.92573},{\"Date\":\"2012-12-03T00:00:00.000Z\",\"Open\":132.19487,\"High\":132.30595,\"Low\":130.84329,\"Close\":130.94512,\"Volume\":124656300,\"Adj_Ratio\":0.92573},{\"Date\":\"2012-12-04T00:00:00.000Z\",\"Open\":130.93587,\"High\":131.33393,\"Low\":130.40819,\"Close\":130.75998,\"Volume\":127512200,\"Adj_Ratio\":0.92573},{\"Date\":\"2012-12-05T00:00:00.000Z\",\"Open\":130.87106,\"High\":131.6024,\"Low\":129.94532,\"Close\":130.99141,\"Volume\":147300500,\"Adj_Ratio\":0.92573},{\"Date\":\"2012-12-06T00:00:00.000Z\",\"Open\":130.87106,\"High\":131.4913,\"Low\":130.67666,\"Close\":131.43576,\"Volume\":103220600,\"Adj_Ratio\":0.92573},{\"Date\":\"2012-12-07T00:00:00.000Z\",\"Open\":131.94491,\"High\":132.09303,\"Low\":131.14878,\"Close\":131.83383,\"Volume\":108726400,\"Adj_Ratio\":0.92573},{\"Date\":\"2012-12-10T00:00:00.000Z\",\"Open\":131.64869,\"High\":132.20412,\"Low\":131.59313,\"Close\":131.88937,\"Volume\":98840700,\"Adj_Ratio\":0.92573},{\"Date\":\"2012-12-11T00:00:00.000Z\",\"Open\":132.43555,\"High\":133.40758,\"Low\":132.37076,\"Close\":132.78734,\"Volume\":152570400,\"Adj_Ratio\":0.92573},{\"Date\":\"2012-12-12T00:00:00.000Z\",\"Open\":133.30574,\"High\":133.8149,\"Low\":132.66699,\"Close\":132.85213,\"Volume\":145880100,\"Adj_Ratio\":0.92573},{\"Date\":\"2012-12-13T00:00:00.000Z\",\"Open\":132.76882,\"High\":133.14837,\"Low\":131.70423,\"Close\":132.03749,\"Volume\":135715000,\"Adj_Ratio\":0.92573},{\"Date\":\"2012-12-14T00:00:00.000Z\",\"Open\":131.75052,\"High\":131.9912,\"Low\":131.34319,\"Close\":131.54686,\"Volume\":137701700,\"Adj_Ratio\":0.92573},{\"Date\":\"2012-12-17T00:00:00.000Z\",\"Open\":131.88937,\"High\":133.16689,\"Low\":131.85234,\"Close\":133.09283,\"Volume\":143238200,\"Adj_Ratio\":0.92573},{\"Date\":\"2012-12-18T00:00:00.000Z\",\"Open\":133.30575,\"High\":134.69435,\"Low\":133.11133,\"Close\":134.574,\"Volume\":177762800,\"Adj_Ratio\":0.92573},{\"Date\":\"2012-12-19T00:00:00.000Z\",\"Open\":134.72212,\"High\":134.76841,\"Low\":133.52793,\"Close\":133.5742,\"Volume\":150895400,\"Adj_Ratio\":0.92573},{\"Date\":\"2012-12-20T00:00:00.000Z\",\"Open\":133.65753,\"High\":134.36108,\"Low\":133.28723,\"Close\":134.34256,\"Volume\":168487000,\"Adj_Ratio\":0.92573},{\"Date\":\"2012-12-21T00:00:00.000Z\",\"Open\":132.54509,\"High\":134.33511,\"Low\":132.33067,\"Close\":133.12311,\"Volume\":245883800,\"Adj_Ratio\":0.9323},{\"Date\":\"2012-12-24T00:00:00.000Z\",\"Open\":132.8341,\"High\":132.90869,\"Low\":132.56374,\"Close\":132.71291,\"Volume\":53874600,\"Adj_Ratio\":0.9323},{\"Date\":\"2012-12-26T00:00:00.000Z\",\"Open\":132.98328,\"High\":133.04854,\"Low\":131.78061,\"Close\":132.15353,\"Volume\":106947700,\"Adj_Ratio\":0.9323},{\"Date\":\"2012-12-27T00:00:00.000Z\",\"Open\":132.19081,\"High\":132.46119,\"Low\":130.44742,\"Close\":131.97639,\"Volume\":167920600,\"Adj_Ratio\":0.9323},{\"Date\":\"2012-12-28T00:00:00.000Z\",\"Open\":131.11868,\"High\":131.84587,\"Low\":130.4008,\"Close\":130.54997,\"Volume\":148806700,\"Adj_Ratio\":0.9323},{\"Date\":\"2012-12-31T00:00:00.000Z\",\"Open\":130.20503,\"High\":132.90869,\"Low\":130.09314,\"Close\":132.76885,\"Volume\":243935200,\"Adj_Ratio\":0.9323},{\"Date\":\"2013-01-02T00:00:00.000Z\",\"Open\":135.28606,\"High\":136.25564,\"Low\":134.93178,\"Close\":136.17174,\"Volume\":192059000,\"Adj_Ratio\":0.9323},{\"Date\":\"2013-01-03T00:00:00.000Z\",\"Open\":136.10649,\"High\":136.46075,\"Low\":135.50048,\"Close\":135.86408,\"Volume\":144761800,\"Adj_Ratio\":0.9323},{\"Date\":\"2013-01-04T00:00:00.000Z\",\"Open\":136.08784,\"High\":136.68451,\"Low\":135.80814,\"Close\":136.46075,\"Volume\":116817700,\"Adj_Ratio\":0.9323},{\"Date\":\"2013-01-07T00:00:00.000Z\",\"Open\":135.97597,\"High\":136.21836,\"Low\":135.58439,\"Close\":136.08784,\"Volume\":110002500,\"Adj_Ratio\":0.9323},{\"Date\":\"2013-01-08T00:00:00.000Z\",\"Open\":135.84544,\"High\":136.0319,\"Low\":135.16485,\"Close\":135.69627,\"Volume\":121265100,\"Adj_Ratio\":0.9323},{\"Date\":\"2013-01-09T00:00:00.000Z\",\"Open\":135.9946,\"High\":136.41415,\"Low\":135.78018,\"Close\":136.04122,\"Volume\":90745600,\"Adj_Ratio\":0.9323},{\"Date\":\"2013-01-10T00:00:00.000Z\",\"Open\":136.79638,\"High\":137.13201,\"Low\":136.08784,\"Close\":137.12269,\"Volume\":130735400,\"Adj_Ratio\":0.9323},{\"Date\":\"2013-01-11T00:00:00.000Z\",\"Open\":137.08539,\"High\":137.18794,\"Low\":136.68451,\"Close\":137.11337,\"Volume\":113917300,\"Adj_Ratio\":0.9323},{\"Date\":\"2013-01-14T00:00:00.000Z\",\"Open\":136.94555,\"High\":137.11337,\"Low\":136.51669,\"Close\":137.02014,\"Volume\":89567200,\"Adj_Ratio\":0.9323},{\"Date\":\"2013-01-15T00:00:00.000Z\",\"Open\":136.38616,\"High\":137.24389,\"Low\":136.30226,\"Close\":137.11337,\"Volume\":93172600,\"Adj_Ratio\":0.9323},{\"Date\":\"2013-01-16T00:00:00.000Z\",\"Open\":136.83368,\"High\":137.30915,\"Low\":136.68451,\"Close\":137.09472,\"Volume\":104849500,\"Adj_Ratio\":0.9323},{\"Date\":\"2013-01-17T00:00:00.000Z\",\"Open\":137.70071,\"High\":138.37197,\"Low\":137.18794,\"Close\":137.98041,\"Volume\":133833500,\"Adj_Ratio\":0.9323},{\"Date\":\"2013-01-18T00:00:00.000Z\",\"Open\":137.95244,\"High\":138.43724,\"Low\":137.44899,\"Close\":138.28806,\"Volume\":169906000,\"Adj_Ratio\":0.9323},{\"Date\":\"2013-01-22T00:00:00.000Z\",\"Open\":138.28807,\"High\":139.03391,\"Low\":137.96175,\"Close\":139.03391,\"Volume\":111797300,\"Adj_Ratio\":0.9323},{\"Date\":\"2013-01-23T00:00:00.000Z\",\"Open\":139.03391,\"High\":139.37885,\"Low\":138.78218,\"Close\":139.25765,\"Volume\":104596100,\"Adj_Ratio\":0.9323},{\"Date\":\"2013-01-24T00:00:00.000Z\",\"Open\":139.05254,\"High\":139.97553,\"Low\":138.92202,\"Close\":139.29495,\"Volume\":146426400,\"Adj_Ratio\":0.9323},{\"Date\":\"2013-01-25T00:00:00.000Z\",\"Open\":139.73313,\"High\":140.07808,\"Low\":139.25765,\"Close\":140.07808,\"Volume\":147211600,\"Adj_Ratio\":0.9323},{\"Date\":\"2013-01-28T00:00:00.000Z\",\"Open\":140.11537,\"High\":140.15267,\"Low\":139.38817,\"Close\":139.91027,\"Volume\":113357700,\"Adj_Ratio\":0.9323},{\"Date\":\"2013-01-29T00:00:00.000Z\",\"Open\":139.63058,\"High\":140.63746,\"Low\":139.53734,\"Close\":140.46033,\"Volume\":105694400,\"Adj_Ratio\":0.9323},{\"Date\":\"2013-01-30T00:00:00.000Z\",\"Open\":140.44168,\"High\":140.72137,\"Low\":139.77974,\"Close\":139.91027,\"Volume\":137447700,\"Adj_Ratio\":0.9323},{\"Date\":\"2013-01-31T00:00:00.000Z\",\"Open\":139.74245,\"High\":140.19928,\"Low\":139.47209,\"Close\":139.56531,\"Volume\":108975800,\"Adj_Ratio\":0.9323},{\"Date\":\"2013-02-01T00:00:00.000Z\",\"Open\":140.45099,\"High\":141.16887,\"Low\":140.2086,\"Close\":141.00106,\"Volume\":131173000,\"Adj_Ratio\":0.9323},{\"Date\":\"2013-02-04T00:00:00.000Z\",\"Open\":140.14335,\"High\":141.02903,\"Low\":139.31359,\"Close\":139.41614,\"Volume\":159073600,\"Adj_Ratio\":0.9323},{\"Date\":\"2013-02-05T00:00:00.000Z\",\"Open\":140.17132,\"High\":141.22481,\"Low\":140.11537,\"Close\":140.82392,\"Volume\":113912400,\"Adj_Ratio\":0.9323},{\"Date\":\"2013-02-06T00:00:00.000Z\",\"Open\":140.3298,\"High\":141.0197,\"Low\":140.22725,\"Close\":140.92648,\"Volume\":138762800,\"Adj_Ratio\":0.9323},{\"Date\":\"2013-02-07T00:00:00.000Z\",\"Open\":140.97309,\"High\":141.10362,\"Low\":139.71448,\"Close\":140.74002,\"Volume\":162490000,\"Adj_Ratio\":0.9323},{\"Date\":\"2013-02-08T00:00:00.000Z\",\"Open\":140.98241,\"High\":141.60705,\"Low\":140.98241,\"Close\":141.52315,\"Volume\":103133700,\"Adj_Ratio\":0.9323},{\"Date\":\"2013-02-11T00:00:00.000Z\",\"Open\":141.46721,\"High\":141.61637,\"Low\":141.1409,\"Close\":141.49518,\"Volume\":73775000,\"Adj_Ratio\":0.9323},{\"Date\":\"2013-02-12T00:00:00.000Z\",\"Open\":141.5045,\"High\":141.9893,\"Low\":141.34601,\"Close\":141.72826,\"Volume\":65392700,\"Adj_Ratio\":0.9323},{\"Date\":\"2013-02-13T00:00:00.000Z\",\"Open\":142.01727,\"High\":142.27831,\"Low\":141.44856,\"Close\":141.84944,\"Volume\":82322600,\"Adj_Ratio\":0.9323},{\"Date\":\"2013-02-14T00:00:00.000Z\",\"Open\":141.42059,\"High\":142.14779,\"Low\":141.2621,\"Close\":141.97996,\"Volume\":80834300,\"Adj_Ratio\":0.9323},{\"Date\":\"2013-02-15T00:00:00.000Z\",\"Open\":142.11049,\"High\":142.25966,\"Low\":141.29007,\"Close\":141.81216,\"Volume\":215226500,\"Adj_Ratio\":0.9323},{\"Date\":\"2013-02-19T00:00:00.000Z\",\"Open\":142.05455,\"High\":142.90295,\"Low\":141.85878,\"Close\":142.87498,\"Volume\":95105400,\"Adj_Ratio\":0.9323},{\"Date\":\"2013-02-20T00:00:00.000Z\",\"Open\":142.77243,\"High\":142.81904,\"Low\":141.0197,\"Close\":141.09428,\"Volume\":160574800,\"Adj_Ratio\":0.9323},{\"Date\":\"2013-02-21T00:00:00.000Z\",\"Open\":140.74002,\"High\":141.16887,\"Low\":139.78907,\"Close\":140.23657,\"Volume\":183257000,\"Adj_Ratio\":0.9323},{\"Date\":\"2013-02-22T00:00:00.000Z\",\"Open\":140.91714,\"High\":141.60705,\"Low\":140.30184,\"Close\":141.60705,\"Volume\":106356600,\"Adj_Ratio\":0.9323},{\"Date\":\"2013-02-25T00:00:00.000Z\",\"Open\":142.29696,\"High\":142.51138,\"Low\":138.91271,\"Close\":138.91271,\"Volume\":245824800,\"Adj_Ratio\":0.9323},{\"Date\":\"2013-02-26T00:00:00.000Z\",\"Open\":139.58396,\"High\":140.03146,\"Low\":138.66098,\"Close\":139.86365,\"Volume\":186596200,\"Adj_Ratio\":0.9323},{\"Date\":\"2013-02-27T00:00:00.000Z\",\"Open\":139.74245,\"High\":142.01727,\"Low\":139.62125,\"Close\":141.6257,\"Volume\":150781900,\"Adj_Ratio\":0.9323},{\"Date\":\"2013-02-28T00:00:00.000Z\",\"Open\":141.61637,\"High\":142.5207,\"Low\":141.15955,\"Close\":141.34601,\"Volume\":126866000,\"Adj_Ratio\":0.9323},{\"Date\":\"2013-03-01T00:00:00.000Z\",\"Open\":140.86121,\"High\":142.02658,\"Low\":140.22725,\"Close\":141.81216,\"Volume\":170634800,\"Adj_Ratio\":0.9323},{\"Date\":\"2013-03-04T00:00:00.000Z\",\"Open\":141.48585,\"High\":142.56732,\"Low\":141.2621,\"Close\":142.56732,\"Volume\":99010200,\"Adj_Ratio\":0.9323},{\"Date\":\"2013-03-05T00:00:00.000Z\",\"Open\":143.25723,\"High\":144.22681,\"Low\":143.23858,\"Close\":143.84457,\"Volume\":121431900,\"Adj_Ratio\":0.9323},{\"Date\":\"2013-03-06T00:00:00.000Z\",\"Open\":144.35733,\"High\":144.43192,\"Low\":143.72338,\"Close\":144.04036,\"Volume\":94469900,\"Adj_Ratio\":0.9323},{\"Date\":\"2013-03-07T00:00:00.000Z\",\"Open\":144.22681,\"High\":144.48786,\"Low\":144.059,\"Close\":144.3014,\"Volume\":86101400,\"Adj_Ratio\":0.9323},{\"Date\":\"2013-03-08T00:00:00.000Z\",\"Open\":144.93537,\"High\":145.11249,\"Low\":144.18953,\"Close\":144.91672,\"Volume\":123477800,\"Adj_Ratio\":0.9323},{\"Date\":\"2013-03-11T00:00:00.000Z\",\"Open\":144.80485,\"High\":145.47609,\"Low\":144.62771,\"Close\":145.46677,\"Volume\":83746800,\"Adj_Ratio\":0.9323},{\"Date\":\"2013-03-12T00:00:00.000Z\",\"Open\":145.36422,\"High\":145.53204,\"Low\":144.70229,\"Close\":145.14046,\"Volume\":105755800,\"Adj_Ratio\":0.9323},{\"Date\":\"2013-03-13T00:00:00.000Z\",\"Open\":145.21505,\"High\":145.55068,\"Low\":144.72093,\"Close\":145.34557,\"Volume\":92550900,\"Adj_Ratio\":0.9323},{\"Date\":\"2013-03-14T00:00:00.000Z\",\"Open\":145.72782,\"High\":146.18465,\"Low\":145.3549,\"Close\":146.11938,\"Volume\":126329900,\"Adj_Ratio\":0.9323},{\"Date\":\"2013-03-15T00:00:00.000Z\",\"Open\":145.94521,\"High\":146.12312,\"Low\":145.43952,\"Close\":145.92648,\"Volume\":138601100,\"Adj_Ratio\":0.93645},{\"Date\":\"2013-03-18T00:00:00.000Z\",\"Open\":144.53117,\"High\":145.74855,\"Low\":144.40006,\"Close\":145.12113,\"Volume\":126704300,\"Adj_Ratio\":0.93645},{\"Date\":\"2013-03-19T00:00:00.000Z\",\"Open\":145.43016,\"High\":145.62681,\"Low\":143.82883,\"Close\":144.78401,\"Volume\":167567300,\"Adj_Ratio\":0.93645},{\"Date\":\"2013-03-20T00:00:00.000Z\",\"Open\":145.63618,\"High\":146.03885,\"Low\":145.3927,\"Close\":145.79538,\"Volume\":113759300,\"Adj_Ratio\":0.93645},{\"Date\":\"2013-03-21T00:00:00.000Z\",\"Open\":144.92447,\"High\":145.74855,\"Low\":144.30643,\"Close\":144.5499,\"Volume\":128605000,\"Adj_Ratio\":0.93645},{\"Date\":\"2013-03-22T00:00:00.000Z\",\"Open\":145.00876,\"High\":145.7111,\"Low\":144.89638,\"Close\":145.7111,\"Volume\":111163600,\"Adj_Ratio\":0.93645},{\"Date\":\"2013-03-25T00:00:00.000Z\",\"Open\":146.09503,\"High\":146.33852,\"Low\":144.54054,\"Close\":145.1024,\"Volume\":151322300,\"Adj_Ratio\":0.93645},{\"Date\":\"2013-03-26T00:00:00.000Z\",\"Open\":145.70172,\"High\":146.30105,\"Low\":145.54253,\"Close\":146.2636,\"Volume\":86856600,\"Adj_Ratio\":0.93645},{\"Date\":\"2013-03-27T00:00:00.000Z\",\"Open\":145.3927,\"High\":146.31042,\"Low\":145.14922,\"Close\":146.2636,\"Volume\":99950600,\"Adj_Ratio\":0.93645},{\"Date\":\"2013-03-28T00:00:00.000Z\",\"Open\":146.16995,\"High\":146.88166,\"Low\":145.85156,\"Close\":146.71309,\"Volume\":102932800,\"Adj_Ratio\":0.93645},{\"Date\":\"2013-04-01T00:00:00.000Z\",\"Open\":146.63817,\"High\":146.93784,\"Low\":145.77664,\"Close\":146.1325,\"Volume\":99194100,\"Adj_Ratio\":0.93645},{\"Date\":\"2013-04-02T00:00:00.000Z\",\"Open\":146.6569,\"High\":147.21878,\"Low\":146.43215,\"Close\":146.85356,\"Volume\":101504300,\"Adj_Ratio\":0.93645},{\"Date\":\"2013-04-03T00:00:00.000Z\",\"Open\":146.93784,\"High\":147.05021,\"Low\":144.98067,\"Close\":145.3646,\"Volume\":154167400,\"Adj_Ratio\":0.93645},{\"Date\":\"2013-04-04T00:00:00.000Z\",\"Open\":145.55189,\"High\":146.24486,\"Low\":145.2335,\"Close\":145.95457,\"Volume\":131885000,\"Adj_Ratio\":0.93645},{\"Date\":\"2013-04-05T00:00:00.000Z\",\"Open\":144.16595,\"High\":145.47699,\"Low\":143.9974,\"Close\":145.29906,\"Volume\":159666000,\"Adj_Ratio\":0.93645},{\"Date\":\"2013-04-08T00:00:00.000Z\",\"Open\":145.40207,\"High\":146.29169,\"Low\":144.91511,\"Close\":146.28233,\"Volume\":86571200,\"Adj_Ratio\":0.93645},{\"Date\":\"2013-04-09T00:00:00.000Z\",\"Open\":146.55389,\"High\":147.32179,\"Low\":146.06694,\"Close\":146.78801,\"Volume\":101922200,\"Adj_Ratio\":0.93645},{\"Date\":\"2013-04-10T00:00:00.000Z\",\"Open\":147.18131,\"High\":148.77327,\"Low\":147.14386,\"Close\":148.58598,\"Volume\":135711100,\"Adj_Ratio\":0.93645},{\"Date\":\"2013-04-11T00:00:00.000Z\",\"Open\":148.61407,\"High\":149.55989,\"Low\":148.46424,\"Close\":149.07294,\"Volume\":110142500,\"Adj_Ratio\":0.93645},{\"Date\":\"2013-04-12T00:00:00.000Z\",\"Open\":148.59534,\"High\":148.93246,\"Low\":147.88365,\"Close\":148.70772,\"Volume\":116359900,\"Adj_Ratio\":0.93645},{\"Date\":\"2013-04-15T00:00:00.000Z\",\"Open\":147.95856,\"High\":148.08031,\"Low\":145.24287,\"Close\":145.26159,\"Volume\":217259000,\"Adj_Ratio\":0.93645},{\"Date\":\"2013-04-16T00:00:00.000Z\",\"Open\":146.35723,\"High\":147.48098,\"Low\":146.00139,\"Close\":147.40606,\"Volume\":147507800,\"Adj_Ratio\":0.93645},{\"Date\":\"2013-04-17T00:00:00.000Z\",\"Open\":146.35723,\"High\":146.38534,\"Low\":144.47498,\"Close\":145.25223,\"Volume\":226834800,\"Adj_Ratio\":0.93645},{\"Date\":\"2013-04-18T00:00:00.000Z\",\"Open\":145.4957,\"High\":145.53317,\"Low\":143.79138,\"Close\":144.34388,\"Volume\":167583200,\"Adj_Ratio\":0.93645},{\"Date\":\"2013-04-19T00:00:00.000Z\",\"Open\":144.681,\"High\":145.66427,\"Low\":144.32515,\"Close\":145.59871,\"Volume\":149687600,\"Adj_Ratio\":0.93645},{\"Date\":\"2013-04-22T00:00:00.000Z\",\"Open\":145.87965,\"High\":146.59135,\"Low\":144.91511,\"Close\":146.24487,\"Volume\":106553500,\"Adj_Ratio\":0.93645},{\"Date\":\"2013-04-23T00:00:00.000Z\",\"Open\":146.97529,\"High\":147.89301,\"Low\":146.24487,\"Close\":147.75254,\"Volume\":166141300,\"Adj_Ratio\":0.93645},{\"Date\":\"2013-04-24T00:00:00.000Z\",\"Open\":147.79937,\"High\":148.2395,\"Low\":147.52779,\"Close\":147.84619,\"Volume\":96781200,\"Adj_Ratio\":0.93645},{\"Date\":\"2013-04-25T00:00:00.000Z\",\"Open\":148.27695,\"High\":149.14785,\"Low\":148.05221,\"Close\":148.44552,\"Volume\":131060600,\"Adj_Ratio\":0.93645},{\"Date\":\"2013-04-26T00:00:00.000Z\",\"Open\":148.26759,\"High\":148.52044,\"Low\":147.70572,\"Close\":148.18332,\"Volume\":95918800,\"Adj_Ratio\":0.93645},{\"Date\":\"2013-04-29T00:00:00.000Z\",\"Open\":148.58598,\"High\":149.50369,\"Low\":148.35187,\"Close\":149.17595,\"Volume\":88572800,\"Adj_Ratio\":0.93645},{\"Date\":\"2013-04-30T00:00:00.000Z\",\"Open\":149.14785,\"High\":149.56925,\"Low\":148.5298,\"Close\":149.53179,\"Volume\":116010700,\"Adj_Ratio\":0.93645},{\"Date\":\"2013-05-01T00:00:00.000Z\",\"Open\":149.20404,\"High\":149.27896,\"Low\":148.05221,\"Close\":148.22077,\"Volume\":138874200,\"Adj_Ratio\":0.93645},{\"Date\":\"2013-05-02T00:00:00.000Z\",\"Open\":148.59534,\"High\":149.72845,\"Low\":148.45488,\"Close\":149.59734,\"Volume\":96407600,\"Adj_Ratio\":0.93645},{\"Date\":\"2013-05-03T00:00:00.000Z\",\"Open\":150.89901,\"High\":151.59198,\"Low\":149.62544,\"Close\":151.11438,\"Volume\":144202300,\"Adj_Ratio\":0.93645},{\"Date\":\"2013-05-06T00:00:00.000Z\",\"Open\":151.22677,\"High\":151.71371,\"Low\":151.16121,\"Close\":151.49833,\"Volume\":66882100,\"Adj_Ratio\":0.93645},{\"Date\":\"2013-05-07T00:00:00.000Z\",\"Open\":151.82609,\"High\":152.31304,\"Low\":151.39532,\"Close\":152.26622,\"Volume\":90359200,\"Adj_Ratio\":0.93645},{\"Date\":\"2013-05-08T00:00:00.000Z\",\"Open\":152.09766,\"High\":153.00601,\"Low\":152.01338,\"Close\":152.95919,\"Volume\":97419200,\"Adj_Ratio\":0.93645},{\"Date\":\"2013-05-09T00:00:00.000Z\",\"Open\":152.89364,\"High\":153.29631,\"Low\":152.14448,\"Close\":152.52843,\"Volume\":106738600,\"Adj_Ratio\":0.93645},{\"Date\":\"2013-05-10T00:00:00.000Z\",\"Open\":152.63144,\"High\":153.15584,\"Low\":152.18193,\"Close\":153.02474,\"Volume\":103203000,\"Adj_Ratio\":0.93645},{\"Date\":\"2013-05-13T00:00:00.000Z\",\"Open\":152.82808,\"High\":153.39932,\"Low\":152.47224,\"Close\":153.14647,\"Volume\":81843200,\"Adj_Ratio\":0.93645},{\"Date\":\"2013-05-14T00:00:00.000Z\",\"Open\":153.26821,\"High\":154.84145,\"Low\":153.26821,\"Close\":154.72907,\"Volume\":119000900,\"Adj_Ratio\":0.93645},{\"Date\":\"2013-05-15T00:00:00.000Z\",\"Open\":154.47624,\"High\":155.87154,\"Low\":154.42941,\"Close\":155.56251,\"Volume\":120718500,\"Adj_Ratio\":0.93645},{\"Date\":\"2013-05-16T00:00:00.000Z\",\"Open\":155.24412,\"High\":155.78726,\"Low\":154.59797,\"Close\":154.83208,\"Volume\":109913600,\"Adj_Ratio\":0.93645},{\"Date\":\"2013-05-17T00:00:00.000Z\",\"Open\":155.40331,\"High\":156.42404,\"Low\":155.19729,\"Close\":156.3304,\"Volume\":129801000,\"Adj_Ratio\":0.93645},{\"Date\":\"2013-05-20T00:00:00.000Z\",\"Open\":156.18056,\"High\":156.92972,\"Low\":156.02137,\"Close\":156.32102,\"Volume\":85071200,\"Adj_Ratio\":0.93645},{\"Date\":\"2013-05-21T00:00:00.000Z\",\"Open\":156.4615,\"High\":157.13574,\"Low\":155.91836,\"Close\":156.54578,\"Volume\":95804200,\"Adj_Ratio\":0.93645},{\"Date\":\"2013-05-22T00:00:00.000Z\",\"Open\":156.70497,\"High\":158.32503,\"Low\":154.67288,\"Close\":155.38458,\"Volume\":244031800,\"Adj_Ratio\":0.93645},{\"Date\":\"2013-05-23T00:00:00.000Z\",\"Open\":153.72708,\"High\":155.36586,\"Low\":153.52106,\"Close\":154.93509,\"Volume\":211064400,\"Adj_Ratio\":0.93645},{\"Date\":\"2013-05-24T00:00:00.000Z\",\"Open\":154.01737,\"High\":154.86954,\"Low\":153.55851,\"Close\":154.80399,\"Volume\":151573900,\"Adj_Ratio\":0.93645},{\"Date\":\"2013-05-28T00:00:00.000Z\",\"Open\":156.42404,\"High\":157.11701,\"Low\":155.27221,\"Close\":155.73107,\"Volume\":143679800,\"Adj_Ratio\":0.93645},{\"Date\":\"2013-05-29T00:00:00.000Z\",\"Open\":154.907,\"High\":155.26285,\"Low\":153.89563,\"Close\":154.71971,\"Volume\":160363400,\"Adj_Ratio\":0.93645},{\"Date\":\"2013-05-30T00:00:00.000Z\",\"Open\":154.84145,\"High\":156.00264,\"Low\":154.71971,\"Close\":155.29094,\"Volume\":107793800,\"Adj_Ratio\":0.93645},{\"Date\":\"2013-05-31T00:00:00.000Z\",\"Open\":154.86017,\"High\":155.74043,\"Low\":152.76254,\"Close\":153.0622,\"Volume\":176850100,\"Adj_Ratio\":0.93645},{\"Date\":\"2013-06-03T00:00:00.000Z\",\"Open\":153.41805,\"High\":154.00802,\"Low\":152.32241,\"Close\":153.90501,\"Volume\":168390700,\"Adj_Ratio\":0.93645},{\"Date\":\"2013-06-04T00:00:00.000Z\",\"Open\":153.98928,\"High\":154.60734,\"Low\":152.38795,\"Close\":153.16521,\"Volume\":157631500,\"Adj_Ratio\":0.93645},{\"Date\":\"2013-06-05T00:00:00.000Z\",\"Open\":152.72507,\"High\":153.0341,\"Low\":150.88965,\"Close\":151.02075,\"Volume\":211737800,\"Adj_Ratio\":0.93645},{\"Date\":\"2013-06-06T00:00:00.000Z\",\"Open\":150.95519,\"High\":152.39732,\"Low\":150.06557,\"Close\":152.38795,\"Volume\":200225500,\"Adj_Ratio\":0.93645},{\"Date\":\"2013-06-07T00:00:00.000Z\",\"Open\":153.43678,\"High\":154.46687,\"Low\":152.7719,\"Close\":154.3264,\"Volume\":188337800,\"Adj_Ratio\":0.93645},{\"Date\":\"2013-06-10T00:00:00.000Z\",\"Open\":154.80399,\"High\":154.88826,\"Low\":153.92372,\"Close\":154.3264,\"Volume\":105667100,\"Adj_Ratio\":0.93645},{\"Date\":\"2013-06-11T00:00:00.000Z\",\"Open\":152.92173,\"High\":154.08292,\"Low\":152.39733,\"Close\":152.73445,\"Volume\":159505400,\"Adj_Ratio\":0.93645},{\"Date\":\"2013-06-12T00:00:00.000Z\",\"Open\":153.78326,\"High\":153.94246,\"Low\":151.32978,\"Close\":151.47024,\"Volume\":177361500,\"Adj_Ratio\":0.93645},{\"Date\":\"2013-06-13T00:00:00.000Z\",\"Open\":151.38596,\"High\":154.04547,\"Low\":151.04884,\"Close\":153.7739,\"Volume\":163587800,\"Adj_Ratio\":0.93645},{\"Date\":\"2013-06-14T00:00:00.000Z\",\"Open\":153.60534,\"High\":154.20466,\"Low\":152.55652,\"Close\":152.80935,\"Volume\":141197500,\"Adj_Ratio\":0.93645},{\"Date\":\"2013-06-17T00:00:00.000Z\",\"Open\":153.84881,\"High\":154.71971,\"Low\":152.84682,\"Close\":153.98928,\"Volume\":136295600,\"Adj_Ratio\":0.93645},{\"Date\":\"2013-06-18T00:00:00.000Z\",\"Open\":154.07356,\"High\":155.44078,\"Low\":154.0642,\"Close\":155.20667,\"Volume\":114695600,\"Adj_Ratio\":0.93645},{\"Date\":\"2013-06-19T00:00:00.000Z\",\"Open\":155.07556,\"High\":155.34713,\"Low\":152.99665,\"Close\":153.0622,\"Volume\":206149500,\"Adj_Ratio\":0.93645},{\"Date\":\"2013-06-20T00:00:00.000Z\",\"Open\":151.57325,\"High\":153.08093,\"Low\":148.87628,\"Close\":149.26958,\"Volume\":321255900,\"Adj_Ratio\":0.93645},{\"Date\":\"2013-06-21T00:00:00.000Z\",\"Open\":150.28536,\"High\":150.39832,\"Low\":148.24252,\"Close\":149.74877,\"Volume\":271956800,\"Adj_Ratio\":0.9414},{\"Date\":\"2013-06-24T00:00:00.000Z\",\"Open\":148.18604,\"High\":149.14626,\"Low\":146.60448,\"Close\":147.85654,\"Volume\":222329000,\"Adj_Ratio\":0.9414},{\"Date\":\"2013-06-25T00:00:00.000Z\",\"Open\":149.19333,\"High\":150.71841,\"Low\":148.19545,\"Close\":149.27807,\"Volume\":162262200,\"Adj_Ratio\":0.9414},{\"Date\":\"2013-06-26T00:00:00.000Z\",\"Open\":150.50188,\"High\":151.09497,\"Low\":149.91821,\"Close\":150.75606,\"Volume\":134848000,\"Adj_Ratio\":0.9414},{\"Date\":\"2013-06-27T00:00:00.000Z\",\"Open\":151.65981,\"High\":152.33762,\"Low\":151.51859,\"Close\":151.64098,\"Volume\":129483700,\"Adj_Ratio\":0.9414},{\"Date\":\"2013-06-28T00:00:00.000Z\",\"Open\":151.21735,\"High\":151.94222,\"Low\":150.49247,\"Close\":151.01965,\"Volume\":160402900,\"Adj_Ratio\":0.9414},{\"Date\":\"2013-07-01T00:00:00.000Z\",\"Open\":151.81043,\"High\":152.95894,\"Low\":151.64098,\"Close\":151.90457,\"Volume\":131954800,\"Adj_Ratio\":0.9414},{\"Date\":\"2013-07-02T00:00:00.000Z\",\"Open\":151.67863,\"High\":152.78949,\"Low\":151.09497,\"Close\":151.76337,\"Volume\":154863700,\"Adj_Ratio\":0.9414},{\"Date\":\"2013-07-03T00:00:00.000Z\",\"Open\":151.07613,\"High\":152.29055,\"Low\":150.83138,\"Close\":151.82926,\"Volume\":75216400,\"Adj_Ratio\":0.9414},{\"Date\":\"2013-07-05T00:00:00.000Z\",\"Open\":152.94953,\"High\":153.52379,\"Low\":151.84809,\"Close\":153.4673,\"Volume\":122416900,\"Adj_Ratio\":0.9414},{\"Date\":\"2013-07-08T00:00:00.000Z\",\"Open\":154.25808,\"High\":154.75702,\"Low\":153.52378,\"Close\":154.3428,\"Volume\":108092500,\"Adj_Ratio\":0.9414},{\"Date\":\"2013-07-09T00:00:00.000Z\",\"Open\":155.31244,\"High\":155.64194,\"Low\":154.64405,\"Close\":155.45366,\"Volume\":119298000,\"Adj_Ratio\":0.9414},{\"Date\":\"2013-07-10T00:00:00.000Z\",\"Open\":155.30303,\"High\":156.03733,\"Low\":154.98296,\"Close\":155.51014,\"Volume\":121410100,\"Adj_Ratio\":0.9414},{\"Date\":\"2013-07-11T00:00:00.000Z\",\"Open\":157.31763,\"High\":157.78833,\"Low\":155.50072,\"Close\":157.6283,\"Volume\":135592200,\"Adj_Ratio\":0.9414},{\"Date\":\"2013-07-12T00:00:00.000Z\",\"Open\":157.58122,\"High\":158.08957,\"Low\":157.33646,\"Close\":157.69419,\"Volume\":104212700,\"Adj_Ratio\":0.9414},{\"Date\":\"2013-07-15T00:00:00.000Z\",\"Open\":158.12724,\"High\":158.52262,\"Low\":157.85422,\"Close\":158.29668,\"Volume\":69450600,\"Adj_Ratio\":0.9414},{\"Date\":\"2013-07-16T00:00:00.000Z\",\"Open\":158.40024,\"High\":158.49438,\"Low\":157.27998,\"Close\":157.70361,\"Volume\":88702100,\"Adj_Ratio\":0.9414},{\"Date\":\"2013-07-17T00:00:00.000Z\",\"Open\":158.30611,\"High\":158.60735,\"Low\":157.9013,\"Close\":158.10841,\"Volume\":92873900,\"Adj_Ratio\":0.9414},{\"Date\":\"2013-07-18T00:00:00.000Z\",\"Open\":158.44731,\"High\":159.35106,\"Low\":158.34376,\"Close\":158.97449,\"Volume\":103620100,\"Adj_Ratio\":0.9414},{\"Date\":\"2013-07-19T00:00:00.000Z\",\"Open\":158.64501,\"High\":159.3134,\"Low\":158.44731,\"Close\":159.25692,\"Volume\":103831700,\"Adj_Ratio\":0.9414},{\"Date\":\"2013-07-22T00:00:00.000Z\",\"Open\":159.48286,\"High\":159.79352,\"Low\":159.10629,\"Close\":159.56758,\"Volume\":79428600,\"Adj_Ratio\":0.9414},{\"Date\":\"2013-07-23T00:00:00.000Z\",\"Open\":159.85,\"High\":159.87825,\"Low\":159.14395,\"Close\":159.22868,\"Volume\":80829700,\"Adj_Ratio\":0.9414},{\"Date\":\"2013-07-24T00:00:00.000Z\",\"Open\":159.84058,\"High\":159.90649,\"Low\":158.32493,\"Close\":158.64501,\"Volume\":112914000,\"Adj_Ratio\":0.9414},{\"Date\":\"2013-07-25T00:00:00.000Z\",\"Open\":158.36259,\"High\":159.17219,\"Low\":158.099,\"Close\":159.03098,\"Volume\":111088600,\"Adj_Ratio\":0.9414},{\"Date\":\"2013-07-26T00:00:00.000Z\",\"Open\":158.36259,\"High\":159.24751,\"Low\":157.70361,\"Close\":159.20043,\"Volume\":107814600,\"Adj_Ratio\":0.9414},{\"Date\":\"2013-07-29T00:00:00.000Z\",\"Open\":158.79563,\"High\":159.15336,\"Low\":158.25903,\"Close\":158.7109,\"Volume\":79695000,\"Adj_Ratio\":0.9414},{\"Date\":\"2013-07-30T00:00:00.000Z\",\"Open\":159.19103,\"High\":159.36047,\"Low\":158.33435,\"Close\":158.7109,\"Volume\":85209600,\"Adj_Ratio\":0.9414},{\"Date\":\"2013-07-31T00:00:00.000Z\",\"Open\":159.0404,\"High\":159.89708,\"Low\":158.61677,\"Close\":158.82388,\"Volume\":142388700,\"Adj_Ratio\":0.9414},{\"Date\":\"2013-08-01T00:00:00.000Z\",\"Open\":160.02887,\"High\":160.80082,\"Low\":159.94414,\"Close\":160.65961,\"Volume\":110438400,\"Adj_Ratio\":0.9414},{\"Date\":\"2013-08-02T00:00:00.000Z\",\"Open\":160.30187,\"High\":160.95144,\"Low\":160.08536,\"Close\":160.93261,\"Volume\":91116700,\"Adj_Ratio\":0.9414},{\"Date\":\"2013-08-05T00:00:00.000Z\",\"Open\":160.57489,\"High\":160.94203,\"Low\":160.36778,\"Close\":160.69726,\"Volume\":54072700,\"Adj_Ratio\":0.9414},{\"Date\":\"2013-08-06T00:00:00.000Z\",\"Open\":160.3866,\"High\":160.73492,\"Low\":159.42638,\"Close\":159.7841,\"Volume\":87495000,\"Adj_Ratio\":0.9414},{\"Date\":\"2013-08-07T00:00:00.000Z\",\"Open\":159.27575,\"High\":159.50168,\"Low\":158.67325,\"Close\":159.26633,\"Volume\":84854700,\"Adj_Ratio\":0.9414},{\"Date\":\"2013-08-08T00:00:00.000Z\",\"Open\":160.01945,\"High\":160.20773,\"Low\":159.03098,\"Close\":159.85001,\"Volume\":102181300,\"Adj_Ratio\":0.9414},{\"Date\":\"2013-08-09T00:00:00.000Z\",\"Open\":159.6429,\"High\":160.13243,\"Low\":158.83329,\"Close\":159.38871,\"Volume\":91757700,\"Adj_Ratio\":0.9414},{\"Date\":\"2013-08-12T00:00:00.000Z\",\"Open\":158.58853,\"High\":159.38871,\"Low\":158.51322,\"Close\":159.20043,\"Volume\":68593300,\"Adj_Ratio\":0.9414},{\"Date\":\"2013-08-13T00:00:00.000Z\",\"Open\":159.48286,\"High\":159.94414,\"Low\":158.54146,\"Close\":159.67114,\"Volume\":80806000,\"Adj_Ratio\":0.9414},{\"Date\":\"2013-08-14T00:00:00.000Z\",\"Open\":159.59582,\"High\":159.85,\"Low\":158.81446,\"Close\":158.85212,\"Volume\":79829200,\"Adj_Ratio\":0.9414},{\"Date\":\"2013-08-15T00:00:00.000Z\",\"Open\":157.60006,\"High\":157.61887,\"Low\":156.3574,\"Close\":156.63041,\"Volume\":152931800,\"Adj_Ratio\":0.9414},{\"Date\":\"2013-08-16T00:00:00.000Z\",\"Open\":156.32916,\"High\":156.86576,\"Low\":155.80197,\"Close\":156.11264,\"Volume\":130868200,\"Adj_Ratio\":0.9414},{\"Date\":\"2013-08-19T00:00:00.000Z\",\"Open\":155.93377,\"High\":156.47038,\"Low\":155.10533,\"Close\":155.11476,\"Volume\":96437600,\"Adj_Ratio\":0.9414},{\"Date\":\"2013-08-20T00:00:00.000Z\",\"Open\":155.36892,\"High\":156.46095,\"Low\":155.19948,\"Close\":155.87729,\"Volume\":89294400,\"Adj_Ratio\":0.9414},{\"Date\":\"2013-08-21T00:00:00.000Z\",\"Open\":155.44424,\"High\":156.30092,\"Low\":154.56874,\"Close\":154.91706,\"Volume\":159530500,\"Adj_Ratio\":0.9414},{\"Date\":\"2013-08-22T00:00:00.000Z\",\"Open\":155.23713,\"High\":156.5551,\"Low\":155.22772,\"Close\":156.32916,\"Volume\":101471400,\"Adj_Ratio\":0.9414},{\"Date\":\"2013-08-23T00:00:00.000Z\",\"Open\":156.79045,\"High\":157.05404,\"Low\":156.05616,\"Close\":156.85634,\"Volume\":90888900,\"Adj_Ratio\":0.9414},{\"Date\":\"2013-08-26T00:00:00.000Z\",\"Open\":157.01638,\"High\":157.4965,\"Low\":156.16912,\"Close\":156.27268,\"Volume\":89702100,\"Adj_Ratio\":0.9414},{\"Date\":\"2013-08-27T00:00:00.000Z\",\"Open\":154.72878,\"High\":156.27268,\"Low\":153.64617,\"Close\":153.75914,\"Volume\":158619400,\"Adj_Ratio\":0.9414},{\"Date\":\"2013-08-28T00:00:00.000Z\",\"Open\":153.69323,\"High\":154.85116,\"Low\":153.49554,\"Close\":154.30515,\"Volume\":108113000,\"Adj_Ratio\":0.9414},{\"Date\":\"2013-08-29T00:00:00.000Z\",\"Open\":153.96624,\"High\":155.36892,\"Low\":153.82503,\"Close\":154.54991,\"Volume\":119200500,\"Adj_Ratio\":0.9414},{\"Date\":\"2013-08-30T00:00:00.000Z\",\"Open\":154.86998,\"High\":154.88881,\"Low\":153.60851,\"Close\":154.06038,\"Volume\":134928900,\"Adj_Ratio\":0.9414},{\"Date\":\"2013-09-03T00:00:00.000Z\",\"Open\":155.54779,\"High\":155.87729,\"Low\":154.10745,\"Close\":154.75702,\"Volume\":142375100,\"Adj_Ratio\":0.9414},{\"Date\":\"2013-09-04T00:00:00.000Z\",\"Open\":154.79467,\"High\":156.30092,\"Low\":154.51226,\"Close\":156.03733,\"Volume\":97389400,\"Adj_Ratio\":0.9414},{\"Date\":\"2013-09-05T00:00:00.000Z\",\"Open\":156.13147,\"High\":156.64923,\"Low\":156.01849,\"Close\":156.23503,\"Volume\":63090500,\"Adj_Ratio\":0.9414},{\"Date\":\"2013-09-06T00:00:00.000Z\",\"Open\":156.75279,\"High\":157.19525,\"Low\":154.84174,\"Close\":156.31033,\"Volume\":159756500,\"Adj_Ratio\":0.9414},{\"Date\":\"2013-09-09T00:00:00.000Z\",\"Open\":156.6963,\"High\":157.9013,\"Low\":156.6963,\"Close\":157.80716,\"Volume\":87559300,\"Adj_Ratio\":0.9414},{\"Date\":\"2013-09-10T00:00:00.000Z\",\"Open\":158.75798,\"High\":159.00274,\"Low\":158.40024,\"Close\":158.97449,\"Volume\":105847200,\"Adj_Ratio\":0.9414},{\"Date\":\"2013-09-11T00:00:00.000Z\",\"Open\":158.75798,\"High\":159.47344,\"Low\":158.48498,\"Close\":159.47344,\"Volume\":94545900,\"Adj_Ratio\":0.9414},{\"Date\":\"2013-09-12T00:00:00.000Z\",\"Open\":159.41695,\"High\":159.62406,\"Low\":158.83329,\"Close\":159.04981,\"Volume\":83209000,\"Adj_Ratio\":0.9414},{\"Date\":\"2013-09-13T00:00:00.000Z\",\"Open\":159.21927,\"High\":159.52993,\"Low\":158.85212,\"Close\":159.40754,\"Volume\":72727800,\"Adj_Ratio\":0.9414},{\"Date\":\"2013-09-16T00:00:00.000Z\",\"Open\":161.13031,\"High\":161.20562,\"Low\":160.07593,\"Close\":160.33011,\"Volume\":106299200,\"Adj_Ratio\":0.9414},{\"Date\":\"2013-09-17T00:00:00.000Z\",\"Open\":160.47133,\"High\":161.08324,\"Low\":160.47133,\"Close\":161.04559,\"Volume\":82523300,\"Adj_Ratio\":0.9414},{\"Date\":\"2013-09-18T00:00:00.000Z\",\"Open\":160.98909,\"High\":163.35202,\"Low\":160.5843,\"Close\":162.90956,\"Volume\":203460600,\"Adj_Ratio\":0.9414},{\"Date\":\"2013-09-19T00:00:00.000Z\",\"Open\":163.35202,\"High\":163.42733,\"Low\":162.47651,\"Close\":162.63655,\"Volume\":146616900,\"Adj_Ratio\":0.9414},{\"Date\":\"2013-09-20T00:00:00.000Z\",\"Open\":163.02252,\"High\":163.02252,\"Low\":161.36704,\"Close\":161.49948,\"Volume\":132867100,\"Adj_Ratio\":0.94599},{\"Date\":\"2013-09-23T00:00:00.000Z\",\"Open\":161.2819,\"High\":161.43325,\"Low\":160.24131,\"Close\":160.75214,\"Volume\":104616500,\"Adj_Ratio\":0.94599},{\"Date\":\"2013-09-24T00:00:00.000Z\",\"Open\":160.72376,\"High\":161.31974,\"Low\":160.07104,\"Close\":160.37375,\"Volume\":106333100,\"Adj_Ratio\":0.94599},{\"Date\":\"2013-09-25T00:00:00.000Z\",\"Open\":160.47781,\"High\":160.79944,\"Low\":159.76832,\"Close\":159.91021,\"Volume\":117306500,\"Adj_Ratio\":0.94599},{\"Date\":\"2013-09-26T00:00:00.000Z\",\"Open\":160.1751,\"High\":160.97918,\"Low\":159.91968,\"Close\":160.52511,\"Volume\":77146900,\"Adj_Ratio\":0.94599},{\"Date\":\"2013-09-27T00:00:00.000Z\",\"Open\":159.72101,\"High\":160.00481,\"Low\":159.371,\"Close\":159.78724,\"Volume\":99141800,\"Adj_Ratio\":0.94599},{\"Date\":\"2013-09-30T00:00:00.000Z\",\"Open\":158.43447,\"High\":159.43721,\"Low\":158.12229,\"Close\":158.93584,\"Volume\":143937000,\"Adj_Ratio\":0.94599},{\"Date\":\"2013-10-01T00:00:00.000Z\",\"Open\":159.05882,\"High\":160.34537,\"Low\":158.89801,\"Close\":160.19401,\"Volume\":127160000,\"Adj_Ratio\":0.94599},{\"Date\":\"2013-10-02T00:00:00.000Z\",\"Open\":159.25749,\"High\":160.19401,\"Low\":158.76557,\"Close\":160.04265,\"Volume\":113350000,\"Adj_Ratio\":0.94599},{\"Date\":\"2013-10-03T00:00:00.000Z\",\"Open\":159.67371,\"High\":159.81562,\"Low\":157.82903,\"Close\":158.5669,\"Volume\":176698000,\"Adj_Ratio\":0.94599},{\"Date\":\"2013-10-04T00:00:00.000Z\",\"Open\":158.68989,\"High\":159.92913,\"Low\":158.48177,\"Close\":159.76832,\"Volume\":96878000,\"Adj_Ratio\":0.94599},{\"Date\":\"2013-10-07T00:00:00.000Z\",\"Open\":158.37771,\"High\":159.35208,\"Low\":158.21689,\"Close\":158.38716,\"Volume\":96295000,\"Adj_Ratio\":0.94599},{\"Date\":\"2013-10-08T00:00:00.000Z\",\"Open\":158.35878,\"High\":158.5669,\"Low\":156.42897,\"Close\":156.54248,\"Volume\":178015000,\"Adj_Ratio\":0.94599},{\"Date\":\"2013-10-09T00:00:00.000Z\",\"Open\":156.84521,\"High\":157.2236,\"Low\":155.6438,\"Close\":156.65601,\"Volume\":168973000,\"Adj_Ratio\":0.94599},{\"Date\":\"2013-10-10T00:00:00.000Z\",\"Open\":158.25472,\"High\":160.11833,\"Low\":158.19797,\"Close\":160.03319,\"Volume\":195955000,\"Adj_Ratio\":0.94599},{\"Date\":\"2013-10-11T00:00:00.000Z\",\"Open\":159.78724,\"High\":161.12109,\"Low\":159.6548,\"Close\":161.06432,\"Volume\":105040000,\"Adj_Ratio\":0.94599},{\"Date\":\"2013-10-14T00:00:00.000Z\",\"Open\":160.07104,\"High\":161.84004,\"Low\":159.94806,\"Close\":161.7076,\"Volume\":112106000,\"Adj_Ratio\":0.94599},{\"Date\":\"2013-10-15T00:00:00.000Z\",\"Open\":161.30082,\"High\":161.90625,\"Low\":160.31699,\"Close\":160.53456,\"Volume\":155485000,\"Adj_Ratio\":0.94599},{\"Date\":\"2013-10-16T00:00:00.000Z\",\"Open\":161.49948,\"High\":162.86171,\"Low\":161.4238,\"Close\":162.77657,\"Volume\":161676000,\"Adj_Ratio\":0.94599},{\"Date\":\"2013-10-17T00:00:00.000Z\",\"Open\":162.11437,\"High\":163.95906,\"Low\":162.08599,\"Close\":163.86445,\"Volume\":129389000,\"Adj_Ratio\":0.94599},{\"Date\":\"2013-10-18T00:00:00.000Z\",\"Open\":164.46989,\"High\":165.08478,\"Low\":164.13879,\"Close\":164.97126,\"Volume\":138316000,\"Adj_Ratio\":0.94599},{\"Date\":\"2013-10-21T00:00:00.000Z\",\"Open\":165.02802,\"High\":165.31182,\"Low\":164.61178,\"Close\":164.98072,\"Volume\":104104000,\"Adj_Ratio\":0.94599},{\"Date\":\"2013-10-22T00:00:00.000Z\",\"Open\":165.46318,\"High\":166.42808,\"Low\":165.0091,\"Close\":165.93618,\"Volume\":126663000,\"Adj_Ratio\":0.94599},{\"Date\":\"2013-10-23T00:00:00.000Z\",\"Open\":165.36858,\"High\":165.44426,\"Low\":164.56449,\"Close\":165.14155,\"Volume\":105484000,\"Adj_Ratio\":0.94599},{\"Date\":\"2013-10-24T00:00:00.000Z\",\"Open\":165.47264,\"High\":165.89833,\"Low\":165.08478,\"Close\":165.69021,\"Volume\":70350000,\"Adj_Ratio\":0.94599},{\"Date\":\"2013-10-25T00:00:00.000Z\",\"Open\":166.03077,\"High\":166.49431,\"Low\":165.70913,\"Close\":166.44701,\"Volume\":93625000,\"Adj_Ratio\":0.94599},{\"Date\":\"2013-10-28T00:00:00.000Z\",\"Open\":166.39025,\"High\":166.93892,\"Low\":166.21051,\"Close\":166.71188,\"Volume\":84979000,\"Adj_Ratio\":0.94599},{\"Date\":\"2013-10-29T00:00:00.000Z\",\"Open\":167.09029,\"High\":167.66734,\"Low\":166.85379,\"Close\":167.60111,\"Volume\":87401000,\"Adj_Ratio\":0.94599},{\"Date\":\"2013-10-30T00:00:00.000Z\",\"Open\":167.79978,\"High\":167.92275,\"Low\":166.17267,\"Close\":166.76864,\"Volume\":140002000,\"Adj_Ratio\":0.94599},{\"Date\":\"2013-10-31T00:00:00.000Z\",\"Open\":166.6362,\"High\":167.33624,\"Low\":166.04969,\"Close\":166.29564,\"Volume\":133795000,\"Adj_Ratio\":0.94599},{\"Date\":\"2013-11-01T00:00:00.000Z\",\"Open\":166.51323,\"High\":167.07136,\"Low\":165.75644,\"Close\":166.69297,\"Volume\":142805000,\"Adj_Ratio\":0.94599},{\"Date\":\"2013-11-04T00:00:00.000Z\",\"Open\":167.14704,\"High\":167.34569,\"Low\":166.47538,\"Close\":167.27948,\"Volume\":85677000,\"Adj_Ratio\":0.94599},{\"Date\":\"2013-11-05T00:00:00.000Z\",\"Open\":166.62675,\"High\":167.2038,\"Low\":166.08754,\"Close\":166.74973,\"Volume\":85825000,\"Adj_Ratio\":0.94599},{\"Date\":\"2013-11-06T00:00:00.000Z\",\"Open\":167.46868,\"High\":167.91329,\"Low\":167.00514,\"Close\":167.60111,\"Volume\":87348000,\"Adj_Ratio\":0.94599},{\"Date\":\"2013-11-07T00:00:00.000Z\",\"Open\":167.91329,\"High\":168.04573,\"Low\":165.32127,\"Close\":165.48209,\"Volume\":157000000,\"Adj_Ratio\":0.94599},{\"Date\":\"2013-11-08T00:00:00.000Z\",\"Open\":165.42533,\"High\":167.73355,\"Low\":165.40642,\"Close\":167.71463,\"Volume\":136713000,\"Adj_Ratio\":0.94599},{\"Date\":\"2013-11-11T00:00:00.000Z\",\"Open\":167.55381,\"High\":167.94167,\"Low\":167.35516,\"Close\":167.74302,\"Volume\":62614000,\"Adj_Ratio\":0.94599},{\"Date\":\"2013-11-12T00:00:00.000Z\",\"Open\":167.38354,\"High\":167.78086,\"Low\":166.84432,\"Close\":167.40246,\"Volume\":83990000,\"Adj_Ratio\":0.94599},{\"Date\":\"2013-11-13T00:00:00.000Z\",\"Open\":166.57944,\"High\":168.79306,\"Low\":166.57944,\"Close\":168.74577,\"Volume\":103844000,\"Adj_Ratio\":0.94599},{\"Date\":\"2013-11-14T00:00:00.000Z\",\"Open\":168.89712,\"High\":169.72959,\"Low\":168.62279,\"Close\":169.5877,\"Volume\":103435000,\"Adj_Ratio\":0.94599},{\"Date\":\"2013-11-15T00:00:00.000Z\",\"Open\":169.86203,\"High\":170.39178,\"Low\":169.64446,\"Close\":170.32557,\"Volume\":102818000,\"Adj_Ratio\":0.94599},{\"Date\":\"2013-11-18T00:00:00.000Z\",\"Open\":170.60937,\"High\":170.75126,\"Low\":169.3512,\"Close\":169.72959,\"Volume\":104796000,\"Adj_Ratio\":0.94599},{\"Date\":\"2013-11-19T00:00:00.000Z\",\"Open\":169.64446,\"High\":170.15529,\"Low\":169.0674,\"Close\":169.36066,\"Volume\":93891000,\"Adj_Ratio\":0.94599},{\"Date\":\"2013-11-20T00:00:00.000Z\",\"Open\":169.70121,\"High\":170.21204,\"Low\":168.36736,\"Close\":168.83091,\"Volume\":124909000,\"Adj_Ratio\":0.94599},{\"Date\":\"2013-11-21T00:00:00.000Z\",\"Open\":169.3039,\"High\":170.32557,\"Low\":169.19984,\"Close\":170.19313,\"Volume\":92841000,\"Adj_Ratio\":0.94599},{\"Date\":\"2013-11-22T00:00:00.000Z\",\"Open\":170.25935,\"High\":171.06344,\"Low\":170.06069,\"Close\":171.04452,\"Volume\":81296000,\"Adj_Ratio\":0.94599},{\"Date\":\"2013-11-25T00:00:00.000Z\",\"Open\":171.34724,\"High\":171.38508,\"Low\":170.62828,\"Close\":170.87425,\"Volume\":79486000,\"Adj_Ratio\":0.94599},{\"Date\":\"2013-11-26T00:00:00.000Z\",\"Open\":170.95938,\"High\":171.43238,\"Low\":170.66613,\"Close\":170.92154,\"Volume\":86994000,\"Adj_Ratio\":0.94599},{\"Date\":\"2013-11-27T00:00:00.000Z\",\"Open\":171.10128,\"High\":171.4513,\"Low\":170.89316,\"Close\":171.33777,\"Volume\":58800000,\"Adj_Ratio\":0.94599},{\"Date\":\"2013-11-29T00:00:00.000Z\",\"Open\":171.52698,\"High\":171.93375,\"Low\":171.03506,\"Close\":171.22426,\"Volume\":55870900,\"Adj_Ratio\":0.94599},{\"Date\":\"2013-12-02T00:00:00.000Z\",\"Open\":171.30939,\"High\":171.63103,\"Low\":170.51477,\"Close\":170.77964,\"Volume\":99726000,\"Adj_Ratio\":0.94599},{\"Date\":\"2013-12-03T00:00:00.000Z\",\"Open\":170.22151,\"High\":170.6472,\"Low\":169.49309,\"Close\":170.04177,\"Volume\":116563000,\"Adj_Ratio\":0.94599},{\"Date\":\"2013-12-04T00:00:00.000Z\",\"Open\":169.42688,\"High\":170.73234,\"Low\":168.71739,\"Close\":170.02285,\"Volume\":123033000,\"Adj_Ratio\":0.94599},{\"Date\":\"2013-12-05T00:00:00.000Z\",\"Open\":169.72014,\"High\":170.03232,\"Low\":169.11471,\"Close\":169.27552,\"Volume\":106934000,\"Adj_Ratio\":0.94599},{\"Date\":\"2013-12-06T00:00:00.000Z\",\"Open\":170.91208,\"High\":171.32832,\"Low\":170.42016,\"Close\":171.1675,\"Volume\":127728000,\"Adj_Ratio\":0.94599},{\"Date\":\"2013-12-09T00:00:00.000Z\",\"Open\":171.66888,\"High\":171.85807,\"Low\":171.37562,\"Close\":171.60265,\"Volume\":70124000,\"Adj_Ratio\":0.94599},{\"Date\":\"2013-12-10T00:00:00.000Z\",\"Open\":171.20534,\"High\":171.56482,\"Low\":170.8837,\"Close\":170.98776,\"Volume\":80976000,\"Adj_Ratio\":0.94599},{\"Date\":\"2013-12-11T00:00:00.000Z\",\"Open\":171.05399,\"High\":171.08237,\"Low\":168.85928,\"Close\":169.0674,\"Volume\":130591000,\"Adj_Ratio\":0.94599},{\"Date\":\"2013-12-12T00:00:00.000Z\",\"Open\":168.99172,\"High\":169.19984,\"Low\":168.15925,\"Close\":168.50927,\"Volume\":115565000,\"Adj_Ratio\":0.94599},{\"Date\":\"2013-12-13T00:00:00.000Z\",\"Open\":168.85928,\"High\":169.01065,\"Low\":168.16871,\"Close\":168.49035,\"Volume\":107808000,\"Adj_Ratio\":0.94599},{\"Date\":\"2013-12-16T00:00:00.000Z\",\"Open\":169.28498,\"High\":170.09853,\"Low\":169.23767,\"Close\":169.5404,\"Volume\":96195000,\"Adj_Ratio\":0.94599},{\"Date\":\"2013-12-17T00:00:00.000Z\",\"Open\":169.69176,\"High\":169.72014,\"Low\":168.62279,\"Close\":169.00118,\"Volume\":89886000,\"Adj_Ratio\":0.94599},{\"Date\":\"2013-12-18T00:00:00.000Z\",\"Open\":169.2566,\"High\":171.91483,\"Low\":167.74302,\"Close\":171.88645,\"Volume\":234906000,\"Adj_Ratio\":0.94599},{\"Date\":\"2013-12-19T00:00:00.000Z\",\"Open\":171.39453,\"High\":171.88645,\"Low\":170.94993,\"Close\":171.6878,\"Volume\":136531200,\"Adj_Ratio\":0.94599},{\"Date\":\"2013-12-20T00:00:00.000Z\",\"Open\":171.859,\"High\":173.09546,\"Low\":171.74487,\"Close\":172.68647,\"Volume\":197087000,\"Adj_Ratio\":0.95113},{\"Date\":\"2013-12-23T00:00:00.000Z\",\"Open\":173.53298,\"High\":173.71369,\"Low\":173.17156,\"Close\":173.60907,\"Volume\":85598000,\"Adj_Ratio\":0.95113},{\"Date\":\"2013-12-24T00:00:00.000Z\",\"Open\":173.61857,\"High\":174.0656,\"Low\":173.60907,\"Close\":173.98951,\"Volume\":45368800,\"Adj_Ratio\":0.95113},{\"Date\":\"2013-12-26T00:00:00.000Z\",\"Open\":174.37948,\"High\":174.96919,\"Low\":174.36046,\"Close\":174.87407,\"Volume\":63365000,\"Adj_Ratio\":0.95113},{\"Date\":\"2013-12-27T00:00:00.000Z\",\"Open\":175.10234,\"High\":175.17842,\"Low\":174.68385,\"Close\":174.86456,\"Volume\":61814000,\"Adj_Ratio\":0.95113},{\"Date\":\"2013-12-30T00:00:00.000Z\",\"Open\":174.88357,\"High\":175.02625,\"Low\":174.60775,\"Close\":174.83603,\"Volume\":56857000,\"Adj_Ratio\":0.95113},{\"Date\":\"2013-12-31T00:00:00.000Z\",\"Open\":175.07381,\"High\":175.6635,\"Low\":174.94064,\"Close\":175.6635,\"Volume\":86119900,\"Adj_Ratio\":0.95113}], [{\"field\": \"Date\", \"type\": \"Datetime\"}, {\"field\": \"Open\", \"type\": \"Float\"}, {\"field\": \"High\", \"type\": \"Float\"}, {\"field\": \"Low\", \"type\": \"Float\"}, {\"field\": \"Close\", \"type\": \"Float\"}, {\"field\": \"Volume\", \"type\": \"Integer\"}, {\"field\": \"Adj_Ratio\", \"type\": \"Float\"}]);\n",
       "            grid.initialize_slick_grid({\"fullWidthRows\": true, \"rowHeight\": 28, \"enableTextSelectionOnCells\": true, \"editable\": false, \"autoEdit\": false, \"syncColumnCellResize\": true, \"enableColumnReorder\": false, \"defaultColumnWidth\": 200, \"forceFitColumns\": false});\n",
       "        });\n",
       "    });\n",
       "});\n"
      ]
     },
     "metadata": {},
     "output_type": "display_data"
    },
    {
     "data": {
      "application/javascript": [
       "alert(\"Cannot add a row to a table with a non-integer index\")"
      ],
      "text/plain": [
       "<IPython.core.display.Javascript object>"
      ]
     },
     "metadata": {},
     "output_type": "display_data"
    },
    {
     "data": {
      "application/javascript": [
       "alert(\"Cannot add a row to a table with a non-integer index\")"
      ],
      "text/plain": [
       "<IPython.core.display.Javascript object>"
      ]
     },
     "metadata": {},
     "output_type": "display_data"
    }
   ],
   "source": [
    "qgrid.show_grid(spy, show_toolbar=True, grid_options={'forceFitColumns': False, 'defaultColumnWidth': 200})"
   ]
  },
  {
   "cell_type": "markdown",
   "metadata": {},
   "source": [
    "*The same 'spy' DataFrame rendered as a qgrid again, this time some options tweaked.  The toolbar buttons are visible, the columns are wider, and a horizontal scroll bar has appeared.*"
   ]
  },
  {
   "cell_type": "markdown",
   "metadata": {},
   "source": [
    "## Example 2 - Rendering a grid by creating a QGridWidget"
   ]
  },
  {
   "cell_type": "markdown",
   "metadata": {},
   "source": [
    "### 1. Create a new sample DataFrame "
   ]
  },
  {
   "cell_type": "code",
   "execution_count": 9,
   "metadata": {
    "collapsed": false
   },
   "outputs": [],
   "source": [
    "df2 = pd.DataFrame({\n",
    "    'A' : 1.,\n",
    "    'B' : pd.Timestamp('20130102'),\n",
    "    'C' : pd.Series(randn(8),index=list(range(8)),dtype='float32'),\n",
    "    'D' : np.array([3] * 8,dtype='int32'),\n",
    "    'E' : pd.Categorical([\"test\",\"train\",\"test\",\"train\", \"test\", \"train\", \"test\", \"train\"]),\n",
    "    'F' : 'foo' })"
   ]
  },
  {
   "cell_type": "markdown",
   "metadata": {},
   "source": [
    "### 2. Render the DataFrame without using qgrid"
   ]
  },
  {
   "cell_type": "code",
   "execution_count": 10,
   "metadata": {
    "collapsed": false
   },
   "outputs": [
    {
     "data": {
      "text/html": [
       "<div>\n",
       "<table border=\"1\" class=\"dataframe\">\n",
       "  <thead>\n",
       "    <tr style=\"text-align: right;\">\n",
       "      <th></th>\n",
       "      <th>A</th>\n",
       "      <th>B</th>\n",
       "      <th>C</th>\n",
       "      <th>D</th>\n",
       "      <th>E</th>\n",
       "      <th>F</th>\n",
       "    </tr>\n",
       "  </thead>\n",
       "  <tbody>\n",
       "    <tr>\n",
       "      <th>0</th>\n",
       "      <td>1</td>\n",
       "      <td>2013-01-02</td>\n",
       "      <td>-0.354230</td>\n",
       "      <td>3</td>\n",
       "      <td>test</td>\n",
       "      <td>foo</td>\n",
       "    </tr>\n",
       "    <tr>\n",
       "      <th>1</th>\n",
       "      <td>1</td>\n",
       "      <td>2013-01-02</td>\n",
       "      <td>1.203130</td>\n",
       "      <td>3</td>\n",
       "      <td>train</td>\n",
       "      <td>foo</td>\n",
       "    </tr>\n",
       "    <tr>\n",
       "      <th>2</th>\n",
       "      <td>1</td>\n",
       "      <td>2013-01-02</td>\n",
       "      <td>-0.126574</td>\n",
       "      <td>3</td>\n",
       "      <td>test</td>\n",
       "      <td>foo</td>\n",
       "    </tr>\n",
       "    <tr>\n",
       "      <th>3</th>\n",
       "      <td>1</td>\n",
       "      <td>2013-01-02</td>\n",
       "      <td>1.527866</td>\n",
       "      <td>3</td>\n",
       "      <td>train</td>\n",
       "      <td>foo</td>\n",
       "    </tr>\n",
       "    <tr>\n",
       "      <th>4</th>\n",
       "      <td>1</td>\n",
       "      <td>2013-01-02</td>\n",
       "      <td>-0.114737</td>\n",
       "      <td>3</td>\n",
       "      <td>test</td>\n",
       "      <td>foo</td>\n",
       "    </tr>\n",
       "    <tr>\n",
       "      <th>5</th>\n",
       "      <td>1</td>\n",
       "      <td>2013-01-02</td>\n",
       "      <td>-0.002311</td>\n",
       "      <td>3</td>\n",
       "      <td>train</td>\n",
       "      <td>foo</td>\n",
       "    </tr>\n",
       "    <tr>\n",
       "      <th>6</th>\n",
       "      <td>1</td>\n",
       "      <td>2013-01-02</td>\n",
       "      <td>-1.252144</td>\n",
       "      <td>3</td>\n",
       "      <td>test</td>\n",
       "      <td>foo</td>\n",
       "    </tr>\n",
       "    <tr>\n",
       "      <th>7</th>\n",
       "      <td>1</td>\n",
       "      <td>2013-01-02</td>\n",
       "      <td>0.409399</td>\n",
       "      <td>3</td>\n",
       "      <td>train</td>\n",
       "      <td>foo</td>\n",
       "    </tr>\n",
       "  </tbody>\n",
       "</table>\n",
       "</div>"
      ],
      "text/plain": [
       "   A          B         C  D      E    F\n",
       "0  1 2013-01-02 -0.354230  3   test  foo\n",
       "1  1 2013-01-02  1.203130  3  train  foo\n",
       "2  1 2013-01-02 -0.126574  3   test  foo\n",
       "3  1 2013-01-02  1.527866  3  train  foo\n",
       "4  1 2013-01-02 -0.114737  3   test  foo\n",
       "5  1 2013-01-02 -0.002311  3  train  foo\n",
       "6  1 2013-01-02 -1.252144  3   test  foo\n",
       "7  1 2013-01-02  0.409399  3  train  foo"
      ]
     },
     "execution_count": 10,
     "metadata": {},
     "output_type": "execute_result"
    }
   ],
   "source": [
    "df2"
   ]
  },
  {
   "cell_type": "markdown",
   "metadata": {},
   "source": [
    "### 3. Render the DataFrame again, this time using the QGridWidget class directly\n",
    "The ``show_grid`` function is just a convenience function which internally constructs an instance of QGridWidget and renders it with jupyter notebook's ``display`` function.  The following code shows how to construct a QGridWidget directly, so that you can retrieve or update the DataFrame it uses internally."
   ]
  },
  {
   "cell_type": "code",
   "execution_count": 13,
   "metadata": {
    "collapsed": false
   },
   "outputs": [
    {
     "data": {
      "text/html": [
       "<script type=\"text/javascript\">\n",
       "if ($(\"#dg-css\").length == 0){\n",
       "    $(\"head\").append([\n",
       "        \"<link href='https://cdn.rawgit.com/quantopian/qgrid/master/qgrid/qgridjs//lib/slick.grid.css' rel='stylesheet'>\",\n",
       "        \"<link href='https://cdn.rawgit.com/quantopian/qgrid/master/qgrid/qgridjs//lib/slick-default-theme.css' rel='stylesheet'>\",\n",
       "        \"<link href='http://cdnjs.cloudflare.com/ajax/libs/jqueryui/1.10.4/css/jquery-ui.min.css' rel='stylesheet'>\",\n",
       "        \"<link id='dg-css' href='https://cdn.rawgit.com/quantopian/qgrid/master/qgrid/qgridjs//qgrid.css' rel='stylesheet'>\"\n",
       "    ]);\n",
       "}\n",
       "</script>\n",
       "<div class='q-grid-container'>\n",
       "<div id='4ec2c463-6de0-4387-a00b-65dc69fdb69b' class='q-grid'></div>\n",
       "</div>"
      ]
     },
     "metadata": {},
     "output_type": "display_data"
    },
    {
     "data": {
      "application/javascript": [
       "var path_dictionary = {\n",
       "    jquery_drag: \"https://cdn.rawgit.com/quantopian/qgrid/master/qgrid/qgridjs//lib/jquery.event.drag-2.2\",\n",
       "    slick_core: \"https://cdn.rawgit.com/quantopian/qgrid/master/qgrid/qgridjs//lib/slick.core.2.2\",\n",
       "    slick_data_view: \"https://cdn.rawgit.com/quantopian/qgrid/master/qgrid/qgridjs//lib/slick.dataview.2.2\",\n",
       "    slick_check_box_column: \"https://cdn.rawgit.com/quantopian/qgrid/master/qgrid/qgridjs//lib/slick.checkboxselectcolumn\",\n",
       "    slick_row_selection_model: \"https://cdn.rawgit.com/quantopian/qgrid/master/qgrid/qgridjs//lib/slick.rowselectionmodel\",\n",
       "    slick_grid: \"https://cdn.rawgit.com/quantopian/qgrid/master/qgrid/qgridjs//lib/slick.grid.2.2\",\n",
       "    data_grid: \"https://cdn.rawgit.com/quantopian/qgrid/master/qgrid/qgridjs//qgrid\",\n",
       "    date_filter: \"https://cdn.rawgit.com/quantopian/qgrid/master/qgrid/qgridjs//qgrid.datefilter\",\n",
       "    slider_filter: \"https://cdn.rawgit.com/quantopian/qgrid/master/qgrid/qgridjs//qgrid.sliderfilter\",\n",
       "    text_filter: \"https://cdn.rawgit.com/quantopian/qgrid/master/qgrid/qgridjs//qgrid.textfilter\",\n",
       "    filter_base:  \"https://cdn.rawgit.com/quantopian/qgrid/master/qgrid/qgridjs//qgrid.filterbase\",\n",
       "    handlebars: \"https://cdnjs.cloudflare.com/ajax/libs/handlebars.js/2.0.0/handlebars.min\"\n",
       "};\n",
       "\n",
       "var existing_config = require.s.contexts._.config;\n",
       "if (!existing_config.paths['underscore']){\n",
       "    path_dictionary['underscore'] = \"https://cdnjs.cloudflare.com/ajax/libs/underscore.js/1.7.0/underscore-min\";\n",
       "}\n",
       "\n",
       "if (!existing_config.paths['moment']){\n",
       "    path_dictionary['moment'] = \"https://cdnjs.cloudflare.com/ajax/libs/moment.js/2.8.3/moment.min\";\n",
       "}\n",
       "\n",
       "if (!existing_config.paths['jqueryui']){\n",
       "    path_dictionary['jqueryui'] = \"https://ajax.googleapis.com/ajax/libs/jqueryui/1.11.1/jquery-ui.min\";\n",
       "}\n",
       "\n",
       "require.config({\n",
       "    paths: path_dictionary\n",
       "});\n",
       "\n",
       "if (typeof jQuery === 'function') {\n",
       "    define('jquery', function() { return jQuery; });\n",
       "}\n",
       "\n",
       "require([\n",
       "    'jquery',\n",
       "    'jquery_drag',\n",
       "    'slick_core',\n",
       "    'slick_data_view'\n",
       "],\n",
       "function($){\n",
       "    $('#4ec2c463-6de0-4387-a00b-65dc69fdb69b').closest('.rendered_html').removeClass('rendered_html');\n",
       "    require([\n",
       "      'slick_check_box_column',\n",
       "      'slick_row_selection_model',\n",
       "      'slick_grid'\n",
       "    ], function(){\n",
       "        require([\"data_grid\"], function(dgrid){\n",
       "            var grid = new dgrid.QGrid('#4ec2c463-6de0-4387-a00b-65dc69fdb69b', [{\"Index\":0,\"A\":1.0,\"B\":\"2013-01-02T00:00:00.000Z\",\"C\":-0.35423,\"D\":3,\"E\":\"test\",\"F\":\"foo\"},{\"Index\":1,\"A\":1.0,\"B\":\"2013-01-02T00:00:00.000Z\",\"C\":1.20313,\"D\":3,\"E\":\"train\",\"F\":\"foo\"},{\"Index\":2,\"A\":1.0,\"B\":\"2013-01-02T00:00:00.000Z\",\"C\":-0.12657,\"D\":3,\"E\":\"test\",\"F\":\"foo\"},{\"Index\":3,\"A\":1.0,\"B\":\"2013-01-02T00:00:00.000Z\",\"C\":1.52787,\"D\":3,\"E\":\"train\",\"F\":\"foo\"},{\"Index\":4,\"A\":1.0,\"B\":\"2013-01-02T00:00:00.000Z\",\"C\":-0.11474,\"D\":3,\"E\":\"test\",\"F\":\"foo\"},{\"Index\":5,\"A\":1.0,\"B\":\"2013-01-02T00:00:00.000Z\",\"C\":-0.00231,\"D\":3,\"E\":\"train\",\"F\":\"foo\"},{\"Index\":6,\"A\":1.0,\"B\":\"2013-01-02T00:00:00.000Z\",\"C\":-1.25214,\"D\":3,\"E\":\"test\",\"F\":\"foo\"},{\"Index\":7,\"A\":1.0,\"B\":\"2013-01-02T00:00:00.000Z\",\"C\":0.4094,\"D\":3,\"E\":\"train\",\"F\":\"foo\"}], [{\"field\": \"Index\", \"type\": \"Integer\"}, {\"field\": \"A\", \"type\": \"Float\"}, {\"field\": \"B\", \"type\": \"Datetime\"}, {\"field\": \"C\", \"type\": \"Float\"}, {\"field\": \"D\", \"type\": \"Integer\"}, {\"field\": \"E\", \"categories\": \"test,train\"}, {\"field\": \"F\"}]);\n",
       "            grid.initialize_slick_grid({\"rowHeight\": 28, \"enableTextSelectionOnCells\": true, \"autoEdit\": false, \"enableColumnReorder\": false, \"editable\": false, \"fullWidthRows\": true, \"defaultColumnWidth\": 150, \"forceFitColumns\": true, \"syncColumnCellResize\": true});\n",
       "        });\n",
       "    });\n",
       "});\n"
      ]
     },
     "metadata": {},
     "output_type": "display_data"
    }
   ],
   "source": [
    "from IPython.display import display\n",
    "grid = qgrid.QGridWidget(df=df2)\n",
    "display(grid)"
   ]
  },
  {
   "cell_type": "markdown",
   "metadata": {},
   "source": [
    "### 4. Get the DataFrame back from the QGridWidget and render it without qgrid\n",
    "If you make edits to the data using the grid above, they will be reflected in the DataFrame that is returned by ``grid.df``."
   ]
  },
  {
   "cell_type": "code",
   "execution_count": 12,
   "metadata": {
    "collapsed": false
   },
   "outputs": [
    {
     "data": {
      "text/html": [
       "<div>\n",
       "<table border=\"1\" class=\"dataframe\">\n",
       "  <thead>\n",
       "    <tr style=\"text-align: right;\">\n",
       "      <th></th>\n",
       "      <th>A</th>\n",
       "      <th>B</th>\n",
       "      <th>C</th>\n",
       "      <th>D</th>\n",
       "      <th>E</th>\n",
       "      <th>F</th>\n",
       "    </tr>\n",
       "  </thead>\n",
       "  <tbody>\n",
       "    <tr>\n",
       "      <th>0</th>\n",
       "      <td>1</td>\n",
       "      <td>2013-01-02</td>\n",
       "      <td>-0.354230</td>\n",
       "      <td>3</td>\n",
       "      <td>test</td>\n",
       "      <td>foo</td>\n",
       "    </tr>\n",
       "    <tr>\n",
       "      <th>1</th>\n",
       "      <td>1</td>\n",
       "      <td>2013-01-02</td>\n",
       "      <td>1.203130</td>\n",
       "      <td>3</td>\n",
       "      <td>train</td>\n",
       "      <td>foo</td>\n",
       "    </tr>\n",
       "    <tr>\n",
       "      <th>2</th>\n",
       "      <td>1</td>\n",
       "      <td>2013-01-02</td>\n",
       "      <td>-0.126574</td>\n",
       "      <td>3</td>\n",
       "      <td>test</td>\n",
       "      <td>foo</td>\n",
       "    </tr>\n",
       "    <tr>\n",
       "      <th>3</th>\n",
       "      <td>1</td>\n",
       "      <td>2013-01-02</td>\n",
       "      <td>1.527866</td>\n",
       "      <td>3</td>\n",
       "      <td>train</td>\n",
       "      <td>foo</td>\n",
       "    </tr>\n",
       "    <tr>\n",
       "      <th>4</th>\n",
       "      <td>1</td>\n",
       "      <td>2013-01-02</td>\n",
       "      <td>-0.114737</td>\n",
       "      <td>3</td>\n",
       "      <td>test</td>\n",
       "      <td>foo</td>\n",
       "    </tr>\n",
       "    <tr>\n",
       "      <th>5</th>\n",
       "      <td>1</td>\n",
       "      <td>2013-01-02</td>\n",
       "      <td>-0.002311</td>\n",
       "      <td>3</td>\n",
       "      <td>train</td>\n",
       "      <td>foo</td>\n",
       "    </tr>\n",
       "    <tr>\n",
       "      <th>6</th>\n",
       "      <td>1</td>\n",
       "      <td>2013-01-02</td>\n",
       "      <td>-1.252144</td>\n",
       "      <td>3</td>\n",
       "      <td>test</td>\n",
       "      <td>foo</td>\n",
       "    </tr>\n",
       "    <tr>\n",
       "      <th>7</th>\n",
       "      <td>1</td>\n",
       "      <td>2013-01-02</td>\n",
       "      <td>0.409399</td>\n",
       "      <td>3</td>\n",
       "      <td>train</td>\n",
       "      <td>foo</td>\n",
       "    </tr>\n",
       "  </tbody>\n",
       "</table>\n",
       "</div>"
      ],
      "text/plain": [
       "   A          B         C  D      E    F\n",
       "0  1 2013-01-02 -0.354230  3   test  foo\n",
       "1  1 2013-01-02  1.203130  3  train  foo\n",
       "2  1 2013-01-02 -0.126574  3   test  foo\n",
       "3  1 2013-01-02  1.527866  3  train  foo\n",
       "4  1 2013-01-02 -0.114737  3   test  foo\n",
       "5  1 2013-01-02 -0.002311  3  train  foo\n",
       "6  1 2013-01-02 -1.252144  3   test  foo\n",
       "7  1 2013-01-02  0.409399  3  train  foo"
      ]
     },
     "execution_count": 12,
     "metadata": {},
     "output_type": "execute_result"
    }
   ],
   "source": [
    "grid.df"
   ]
  },
  {
   "cell_type": "code",
   "execution_count": null,
   "metadata": {
    "collapsed": true
   },
   "outputs": [],
   "source": []
  }
 ],
 "metadata": {
  "kernelspec": {
   "display_name": "Python [Root]",
   "language": "python",
   "name": "Python [Root]"
  },
  "language_info": {
   "codemirror_mode": {
    "name": "ipython",
    "version": 2
   },
   "file_extension": ".py",
   "mimetype": "text/x-python",
   "name": "python",
   "nbconvert_exporter": "python",
   "pygments_lexer": "ipython2",
   "version": "2.7.12"
  }
 },
 "nbformat": 4,
 "nbformat_minor": 0
}
