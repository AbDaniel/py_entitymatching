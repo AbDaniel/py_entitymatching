{
 "cells": [
  {
   "cell_type": "code",
   "execution_count": 1,
   "metadata": {
    "collapsed": true
   },
   "outputs": [],
   "source": [
    "import sys\n",
    "sys.path.append('/Users/pradap/Documents/Research/Python-Package/anhaid/magellan/')"
   ]
  },
  {
   "cell_type": "code",
   "execution_count": 2,
   "metadata": {
    "collapsed": false
   },
   "outputs": [],
   "source": [
    "import magellan as mg"
   ]
  },
  {
   "cell_type": "code",
   "execution_count": 3,
   "metadata": {
    "collapsed": true
   },
   "outputs": [],
   "source": [
    "A = mg.load_dataset('table_A', key='ID')\n",
    "B = mg.load_dataset('table_B', key='ID')"
   ]
  },
  {
   "cell_type": "code",
   "execution_count": 4,
   "metadata": {
    "collapsed": false
   },
   "outputs": [],
   "source": [
    "f = mg.get_features_for_blocking(A, B)"
   ]
  },
  {
   "cell_type": "code",
   "execution_count": 5,
   "metadata": {
    "collapsed": true
   },
   "outputs": [],
   "source": [
    "xx = \"\"\"\n",
    "def temp__(ltuple, rtuple):\n",
    "    return lev(ltuple.name, rtuple.name)\n",
    "\"\"\""
   ]
  },
  {
   "cell_type": "code",
   "execution_count": 6,
   "metadata": {
    "collapsed": true
   },
   "outputs": [],
   "source": [
    "t = {}\n",
    "t.update(mg._block_t)\n",
    "t.update(mg._block_s)"
   ]
  },
  {
   "cell_type": "code",
   "execution_count": 7,
   "metadata": {
    "collapsed": true
   },
   "outputs": [],
   "source": [
    "import six"
   ]
  },
  {
   "cell_type": "code",
   "execution_count": 8,
   "metadata": {
    "collapsed": true
   },
   "outputs": [],
   "source": [
    "six.exec_(xx, t)"
   ]
  },
  {
   "cell_type": "code",
   "execution_count": 9,
   "metadata": {
    "collapsed": false
   },
   "outputs": [
    {
     "data": {
      "text/plain": [
       "<function temp__>"
      ]
     },
     "execution_count": 9,
     "metadata": {},
     "output_type": "execute_result"
    }
   ],
   "source": [
    "t['temp__']"
   ]
  },
  {
   "cell_type": "code",
   "execution_count": 10,
   "metadata": {
    "collapsed": true
   },
   "outputs": [],
   "source": [
    "six.exec_('myfunction=t[\"temp__\"]')"
   ]
  },
  {
   "cell_type": "code",
   "execution_count": 11,
   "metadata": {
    "collapsed": false
   },
   "outputs": [],
   "source": [
    "feat_dict = mg.get_feature_fn('lev(ltuple.name, rtuple.name)', mg._block_t, mg._block_s)"
   ]
  },
  {
   "cell_type": "code",
   "execution_count": 12,
   "metadata": {
    "collapsed": false
   },
   "outputs": [
    {
     "data": {
      "text/plain": [
       "{'function': <function fn>,\n",
       " 'function_source': 'def fn(ltuple, rtuple):\\n    return lev(ltuple.name, rtuple.name)',\n",
       " 'is_auto_generated': False,\n",
       " 'left_attr_tokenizer': 'PARSE_EXP',\n",
       " 'left_attribute': 'PARSE_EXP',\n",
       " 'right_attr_tokenizer': 'PARSE_EXP',\n",
       " 'right_attribute': 'PARSE_EXP',\n",
       " 'simfunction': 'lev'}"
      ]
     },
     "execution_count": 12,
     "metadata": {},
     "output_type": "execute_result"
    }
   ],
   "source": [
    "feat_dict"
   ]
  },
  {
   "cell_type": "code",
   "execution_count": 13,
   "metadata": {
    "collapsed": false
   },
   "outputs": [
    {
     "data": {
      "text/plain": [
       "True"
      ]
     },
     "execution_count": 13,
     "metadata": {},
     "output_type": "execute_result"
    }
   ],
   "source": [
    "mg.add_feature(f, 'lev_name_name1', feat_dict)"
   ]
  },
  {
   "cell_type": "code",
   "execution_count": 14,
   "metadata": {
    "collapsed": false
   },
   "outputs": [
    {
     "data": {
      "text/html": [
       "<div>\n",
       "<table border=\"1\" class=\"dataframe\">\n",
       "  <thead>\n",
       "    <tr style=\"text-align: right;\">\n",
       "      <th></th>\n",
       "      <th>feature_name</th>\n",
       "      <th>left_attribute</th>\n",
       "      <th>right_attribute</th>\n",
       "      <th>left_attr_tokenizer</th>\n",
       "      <th>right_attr_tokenizer</th>\n",
       "      <th>simfunction</th>\n",
       "      <th>function</th>\n",
       "      <th>function_source</th>\n",
       "      <th>is_auto_generated</th>\n",
       "    </tr>\n",
       "  </thead>\n",
       "  <tbody>\n",
       "    <tr>\n",
       "      <th>0</th>\n",
       "      <td>ID_ID_lev</td>\n",
       "      <td>ID</td>\n",
       "      <td>ID</td>\n",
       "      <td>None</td>\n",
       "      <td>None</td>\n",
       "      <td>lev</td>\n",
       "      <td>&lt;function ID_ID_lev at 0x1077bfc80&gt;</td>\n",
       "      <td>from magellan.feature.simfunctions import *\\nf...</td>\n",
       "      <td>True</td>\n",
       "    </tr>\n",
       "    <tr>\n",
       "      <th>1</th>\n",
       "      <td>ID_ID_jar</td>\n",
       "      <td>ID</td>\n",
       "      <td>ID</td>\n",
       "      <td>None</td>\n",
       "      <td>None</td>\n",
       "      <td>jaro</td>\n",
       "      <td>&lt;function ID_ID_jar at 0x11756ae18&gt;</td>\n",
       "      <td>from magellan.feature.simfunctions import *\\nf...</td>\n",
       "      <td>True</td>\n",
       "    </tr>\n",
       "    <tr>\n",
       "      <th>2</th>\n",
       "      <td>ID_ID_jwn</td>\n",
       "      <td>ID</td>\n",
       "      <td>ID</td>\n",
       "      <td>None</td>\n",
       "      <td>None</td>\n",
       "      <td>jaro_winkler</td>\n",
       "      <td>&lt;function ID_ID_jwn at 0x11757c1e0&gt;</td>\n",
       "      <td>from magellan.feature.simfunctions import *\\nf...</td>\n",
       "      <td>True</td>\n",
       "    </tr>\n",
       "    <tr>\n",
       "      <th>3</th>\n",
       "      <td>ID_ID_exm</td>\n",
       "      <td>ID</td>\n",
       "      <td>ID</td>\n",
       "      <td>None</td>\n",
       "      <td>None</td>\n",
       "      <td>exact_match</td>\n",
       "      <td>&lt;function ID_ID_exm at 0x11757c268&gt;</td>\n",
       "      <td>from magellan.feature.simfunctions import *\\nf...</td>\n",
       "      <td>True</td>\n",
       "    </tr>\n",
       "    <tr>\n",
       "      <th>4</th>\n",
       "      <td>ID_ID_jac_qgm_3_qgm_3</td>\n",
       "      <td>ID</td>\n",
       "      <td>ID</td>\n",
       "      <td>qgm_3</td>\n",
       "      <td>qgm_3</td>\n",
       "      <td>jaccard</td>\n",
       "      <td>&lt;function ID_ID_jac_qgm_3_qgm_3 at 0x11757c158&gt;</td>\n",
       "      <td>from magellan.feature.simfunctions import *\\nf...</td>\n",
       "      <td>True</td>\n",
       "    </tr>\n",
       "    <tr>\n",
       "      <th>5</th>\n",
       "      <td>name_name_jac_qgm_3_qgm_3</td>\n",
       "      <td>name</td>\n",
       "      <td>name</td>\n",
       "      <td>qgm_3</td>\n",
       "      <td>qgm_3</td>\n",
       "      <td>jaccard</td>\n",
       "      <td>&lt;function name_name_jac_qgm_3_qgm_3 at 0x11757...</td>\n",
       "      <td>from magellan.feature.simfunctions import *\\nf...</td>\n",
       "      <td>True</td>\n",
       "    </tr>\n",
       "    <tr>\n",
       "      <th>6</th>\n",
       "      <td>name_name_cos_dlm_dc0_dlm_dc0</td>\n",
       "      <td>name</td>\n",
       "      <td>name</td>\n",
       "      <td>dlm_dc0</td>\n",
       "      <td>dlm_dc0</td>\n",
       "      <td>cosine</td>\n",
       "      <td>&lt;function name_name_cos_dlm_dc0_dlm_dc0 at 0x1...</td>\n",
       "      <td>from magellan.feature.simfunctions import *\\nf...</td>\n",
       "      <td>True</td>\n",
       "    </tr>\n",
       "    <tr>\n",
       "      <th>7</th>\n",
       "      <td>name_name_jac_dlm_dc0_dlm_dc0</td>\n",
       "      <td>name</td>\n",
       "      <td>name</td>\n",
       "      <td>dlm_dc0</td>\n",
       "      <td>dlm_dc0</td>\n",
       "      <td>jaccard</td>\n",
       "      <td>&lt;function name_name_jac_dlm_dc0_dlm_dc0 at 0x1...</td>\n",
       "      <td>from magellan.feature.simfunctions import *\\nf...</td>\n",
       "      <td>True</td>\n",
       "    </tr>\n",
       "    <tr>\n",
       "      <th>8</th>\n",
       "      <td>name_name_mel</td>\n",
       "      <td>name</td>\n",
       "      <td>name</td>\n",
       "      <td>None</td>\n",
       "      <td>None</td>\n",
       "      <td>monge_elkan</td>\n",
       "      <td>&lt;function name_name_mel at 0x11757c488&gt;</td>\n",
       "      <td>from magellan.feature.simfunctions import *\\nf...</td>\n",
       "      <td>True</td>\n",
       "    </tr>\n",
       "    <tr>\n",
       "      <th>9</th>\n",
       "      <td>name_name_lev</td>\n",
       "      <td>name</td>\n",
       "      <td>name</td>\n",
       "      <td>None</td>\n",
       "      <td>None</td>\n",
       "      <td>lev</td>\n",
       "      <td>&lt;function name_name_lev at 0x11757c510&gt;</td>\n",
       "      <td>from magellan.feature.simfunctions import *\\nf...</td>\n",
       "      <td>True</td>\n",
       "    </tr>\n",
       "    <tr>\n",
       "      <th>10</th>\n",
       "      <td>name_name_nmw</td>\n",
       "      <td>name</td>\n",
       "      <td>name</td>\n",
       "      <td>None</td>\n",
       "      <td>None</td>\n",
       "      <td>needleman_wunsch</td>\n",
       "      <td>&lt;function name_name_nmw at 0x11757c598&gt;</td>\n",
       "      <td>from magellan.feature.simfunctions import *\\nf...</td>\n",
       "      <td>True</td>\n",
       "    </tr>\n",
       "    <tr>\n",
       "      <th>11</th>\n",
       "      <td>name_name_sw</td>\n",
       "      <td>name</td>\n",
       "      <td>name</td>\n",
       "      <td>None</td>\n",
       "      <td>None</td>\n",
       "      <td>smith_waterman</td>\n",
       "      <td>&lt;function name_name_sw at 0x11757c620&gt;</td>\n",
       "      <td>from magellan.feature.simfunctions import *\\nf...</td>\n",
       "      <td>True</td>\n",
       "    </tr>\n",
       "    <tr>\n",
       "      <th>12</th>\n",
       "      <td>birth_year_birth_year_exm</td>\n",
       "      <td>birth_year</td>\n",
       "      <td>birth_year</td>\n",
       "      <td>None</td>\n",
       "      <td>None</td>\n",
       "      <td>exact_match</td>\n",
       "      <td>&lt;function birth_year_birth_year_exm at 0x11757...</td>\n",
       "      <td>from magellan.feature.simfunctions import *\\nf...</td>\n",
       "      <td>True</td>\n",
       "    </tr>\n",
       "    <tr>\n",
       "      <th>13</th>\n",
       "      <td>birth_year_birth_year_anm</td>\n",
       "      <td>birth_year</td>\n",
       "      <td>birth_year</td>\n",
       "      <td>None</td>\n",
       "      <td>None</td>\n",
       "      <td>abs_norm</td>\n",
       "      <td>&lt;function birth_year_birth_year_anm at 0x11757...</td>\n",
       "      <td>from magellan.feature.simfunctions import *\\nf...</td>\n",
       "      <td>True</td>\n",
       "    </tr>\n",
       "    <tr>\n",
       "      <th>14</th>\n",
       "      <td>birth_year_birth_year_lev</td>\n",
       "      <td>birth_year</td>\n",
       "      <td>birth_year</td>\n",
       "      <td>None</td>\n",
       "      <td>None</td>\n",
       "      <td>lev</td>\n",
       "      <td>&lt;function birth_year_birth_year_lev at 0x11757...</td>\n",
       "      <td>from magellan.feature.simfunctions import *\\nf...</td>\n",
       "      <td>True</td>\n",
       "    </tr>\n",
       "    <tr>\n",
       "      <th>15</th>\n",
       "      <td>hourly_wage_hourly_wage_exm</td>\n",
       "      <td>hourly_wage</td>\n",
       "      <td>hourly_wage</td>\n",
       "      <td>None</td>\n",
       "      <td>None</td>\n",
       "      <td>exact_match</td>\n",
       "      <td>&lt;function hourly_wage_hourly_wage_exm at 0x117...</td>\n",
       "      <td>from magellan.feature.simfunctions import *\\nf...</td>\n",
       "      <td>True</td>\n",
       "    </tr>\n",
       "    <tr>\n",
       "      <th>16</th>\n",
       "      <td>hourly_wage_hourly_wage_anm</td>\n",
       "      <td>hourly_wage</td>\n",
       "      <td>hourly_wage</td>\n",
       "      <td>None</td>\n",
       "      <td>None</td>\n",
       "      <td>abs_norm</td>\n",
       "      <td>&lt;function hourly_wage_hourly_wage_anm at 0x117...</td>\n",
       "      <td>from magellan.feature.simfunctions import *\\nf...</td>\n",
       "      <td>True</td>\n",
       "    </tr>\n",
       "    <tr>\n",
       "      <th>17</th>\n",
       "      <td>hourly_wage_hourly_wage_lev</td>\n",
       "      <td>hourly_wage</td>\n",
       "      <td>hourly_wage</td>\n",
       "      <td>None</td>\n",
       "      <td>None</td>\n",
       "      <td>lev</td>\n",
       "      <td>&lt;function hourly_wage_hourly_wage_lev at 0x117...</td>\n",
       "      <td>from magellan.feature.simfunctions import *\\nf...</td>\n",
       "      <td>True</td>\n",
       "    </tr>\n",
       "    <tr>\n",
       "      <th>18</th>\n",
       "      <td>zipcode_zipcode_exm</td>\n",
       "      <td>zipcode</td>\n",
       "      <td>zipcode</td>\n",
       "      <td>None</td>\n",
       "      <td>None</td>\n",
       "      <td>exact_match</td>\n",
       "      <td>&lt;function zipcode_zipcode_exm at 0x11757c9d8&gt;</td>\n",
       "      <td>from magellan.feature.simfunctions import *\\nf...</td>\n",
       "      <td>True</td>\n",
       "    </tr>\n",
       "    <tr>\n",
       "      <th>19</th>\n",
       "      <td>zipcode_zipcode_anm</td>\n",
       "      <td>zipcode</td>\n",
       "      <td>zipcode</td>\n",
       "      <td>None</td>\n",
       "      <td>None</td>\n",
       "      <td>abs_norm</td>\n",
       "      <td>&lt;function zipcode_zipcode_anm at 0x11757ca60&gt;</td>\n",
       "      <td>from magellan.feature.simfunctions import *\\nf...</td>\n",
       "      <td>True</td>\n",
       "    </tr>\n",
       "    <tr>\n",
       "      <th>20</th>\n",
       "      <td>zipcode_zipcode_lev</td>\n",
       "      <td>zipcode</td>\n",
       "      <td>zipcode</td>\n",
       "      <td>None</td>\n",
       "      <td>None</td>\n",
       "      <td>lev</td>\n",
       "      <td>&lt;function zipcode_zipcode_lev at 0x11757cae8&gt;</td>\n",
       "      <td>from magellan.feature.simfunctions import *\\nf...</td>\n",
       "      <td>True</td>\n",
       "    </tr>\n",
       "    <tr>\n",
       "      <th>21</th>\n",
       "      <td>lev_name_name1</td>\n",
       "      <td>PARSE_EXP</td>\n",
       "      <td>PARSE_EXP</td>\n",
       "      <td>PARSE_EXP</td>\n",
       "      <td>PARSE_EXP</td>\n",
       "      <td>lev</td>\n",
       "      <td>&lt;function fn at 0x121d50048&gt;</td>\n",
       "      <td>def fn(ltuple, rtuple):\\n    return lev(ltuple...</td>\n",
       "      <td>False</td>\n",
       "    </tr>\n",
       "  </tbody>\n",
       "</table>\n",
       "</div>"
      ],
      "text/plain": [
       "                     feature_name left_attribute right_attribute  \\\n",
       "0                       ID_ID_lev             ID              ID   \n",
       "1                       ID_ID_jar             ID              ID   \n",
       "2                       ID_ID_jwn             ID              ID   \n",
       "3                       ID_ID_exm             ID              ID   \n",
       "4           ID_ID_jac_qgm_3_qgm_3             ID              ID   \n",
       "5       name_name_jac_qgm_3_qgm_3           name            name   \n",
       "6   name_name_cos_dlm_dc0_dlm_dc0           name            name   \n",
       "7   name_name_jac_dlm_dc0_dlm_dc0           name            name   \n",
       "8                   name_name_mel           name            name   \n",
       "9                   name_name_lev           name            name   \n",
       "10                  name_name_nmw           name            name   \n",
       "11                   name_name_sw           name            name   \n",
       "12      birth_year_birth_year_exm     birth_year      birth_year   \n",
       "13      birth_year_birth_year_anm     birth_year      birth_year   \n",
       "14      birth_year_birth_year_lev     birth_year      birth_year   \n",
       "15    hourly_wage_hourly_wage_exm    hourly_wage     hourly_wage   \n",
       "16    hourly_wage_hourly_wage_anm    hourly_wage     hourly_wage   \n",
       "17    hourly_wage_hourly_wage_lev    hourly_wage     hourly_wage   \n",
       "18            zipcode_zipcode_exm        zipcode         zipcode   \n",
       "19            zipcode_zipcode_anm        zipcode         zipcode   \n",
       "20            zipcode_zipcode_lev        zipcode         zipcode   \n",
       "21                 lev_name_name1      PARSE_EXP       PARSE_EXP   \n",
       "\n",
       "   left_attr_tokenizer right_attr_tokenizer       simfunction  \\\n",
       "0                 None                 None               lev   \n",
       "1                 None                 None              jaro   \n",
       "2                 None                 None      jaro_winkler   \n",
       "3                 None                 None       exact_match   \n",
       "4                qgm_3                qgm_3           jaccard   \n",
       "5                qgm_3                qgm_3           jaccard   \n",
       "6              dlm_dc0              dlm_dc0            cosine   \n",
       "7              dlm_dc0              dlm_dc0           jaccard   \n",
       "8                 None                 None       monge_elkan   \n",
       "9                 None                 None               lev   \n",
       "10                None                 None  needleman_wunsch   \n",
       "11                None                 None    smith_waterman   \n",
       "12                None                 None       exact_match   \n",
       "13                None                 None          abs_norm   \n",
       "14                None                 None               lev   \n",
       "15                None                 None       exact_match   \n",
       "16                None                 None          abs_norm   \n",
       "17                None                 None               lev   \n",
       "18                None                 None       exact_match   \n",
       "19                None                 None          abs_norm   \n",
       "20                None                 None               lev   \n",
       "21           PARSE_EXP            PARSE_EXP               lev   \n",
       "\n",
       "                                             function  \\\n",
       "0                 <function ID_ID_lev at 0x1077bfc80>   \n",
       "1                 <function ID_ID_jar at 0x11756ae18>   \n",
       "2                 <function ID_ID_jwn at 0x11757c1e0>   \n",
       "3                 <function ID_ID_exm at 0x11757c268>   \n",
       "4     <function ID_ID_jac_qgm_3_qgm_3 at 0x11757c158>   \n",
       "5   <function name_name_jac_qgm_3_qgm_3 at 0x11757...   \n",
       "6   <function name_name_cos_dlm_dc0_dlm_dc0 at 0x1...   \n",
       "7   <function name_name_jac_dlm_dc0_dlm_dc0 at 0x1...   \n",
       "8             <function name_name_mel at 0x11757c488>   \n",
       "9             <function name_name_lev at 0x11757c510>   \n",
       "10            <function name_name_nmw at 0x11757c598>   \n",
       "11             <function name_name_sw at 0x11757c620>   \n",
       "12  <function birth_year_birth_year_exm at 0x11757...   \n",
       "13  <function birth_year_birth_year_anm at 0x11757...   \n",
       "14  <function birth_year_birth_year_lev at 0x11757...   \n",
       "15  <function hourly_wage_hourly_wage_exm at 0x117...   \n",
       "16  <function hourly_wage_hourly_wage_anm at 0x117...   \n",
       "17  <function hourly_wage_hourly_wage_lev at 0x117...   \n",
       "18      <function zipcode_zipcode_exm at 0x11757c9d8>   \n",
       "19      <function zipcode_zipcode_anm at 0x11757ca60>   \n",
       "20      <function zipcode_zipcode_lev at 0x11757cae8>   \n",
       "21                       <function fn at 0x121d50048>   \n",
       "\n",
       "                                      function_source is_auto_generated  \n",
       "0   from magellan.feature.simfunctions import *\\nf...              True  \n",
       "1   from magellan.feature.simfunctions import *\\nf...              True  \n",
       "2   from magellan.feature.simfunctions import *\\nf...              True  \n",
       "3   from magellan.feature.simfunctions import *\\nf...              True  \n",
       "4   from magellan.feature.simfunctions import *\\nf...              True  \n",
       "5   from magellan.feature.simfunctions import *\\nf...              True  \n",
       "6   from magellan.feature.simfunctions import *\\nf...              True  \n",
       "7   from magellan.feature.simfunctions import *\\nf...              True  \n",
       "8   from magellan.feature.simfunctions import *\\nf...              True  \n",
       "9   from magellan.feature.simfunctions import *\\nf...              True  \n",
       "10  from magellan.feature.simfunctions import *\\nf...              True  \n",
       "11  from magellan.feature.simfunctions import *\\nf...              True  \n",
       "12  from magellan.feature.simfunctions import *\\nf...              True  \n",
       "13  from magellan.feature.simfunctions import *\\nf...              True  \n",
       "14  from magellan.feature.simfunctions import *\\nf...              True  \n",
       "15  from magellan.feature.simfunctions import *\\nf...              True  \n",
       "16  from magellan.feature.simfunctions import *\\nf...              True  \n",
       "17  from magellan.feature.simfunctions import *\\nf...              True  \n",
       "18  from magellan.feature.simfunctions import *\\nf...              True  \n",
       "19  from magellan.feature.simfunctions import *\\nf...              True  \n",
       "20  from magellan.feature.simfunctions import *\\nf...              True  \n",
       "21  def fn(ltuple, rtuple):\\n    return lev(ltuple...             False  "
      ]
     },
     "execution_count": 14,
     "metadata": {},
     "output_type": "execute_result"
    }
   ],
   "source": [
    "f"
   ]
  },
  {
   "cell_type": "code",
   "execution_count": 15,
   "metadata": {
    "collapsed": true
   },
   "outputs": [],
   "source": [
    "feat_dict = mg.get_feature_fn('exact_match(ltuple.zipcode, rtuple.zipcode)', mg._block_t, mg._block_s)"
   ]
  },
  {
   "cell_type": "code",
   "execution_count": 16,
   "metadata": {
    "collapsed": false
   },
   "outputs": [
    {
     "data": {
      "text/plain": [
       "True"
      ]
     },
     "execution_count": 16,
     "metadata": {},
     "output_type": "execute_result"
    }
   ],
   "source": [
    "mg.add_feature(f, 'exm_zipcode_zipcode', feat_dict)"
   ]
  },
  {
   "cell_type": "code",
   "execution_count": 17,
   "metadata": {
    "collapsed": false
   },
   "outputs": [
    {
     "data": {
      "text/html": [
       "<div>\n",
       "<table border=\"1\" class=\"dataframe\">\n",
       "  <thead>\n",
       "    <tr style=\"text-align: right;\">\n",
       "      <th></th>\n",
       "      <th>feature_name</th>\n",
       "      <th>left_attribute</th>\n",
       "      <th>right_attribute</th>\n",
       "      <th>left_attr_tokenizer</th>\n",
       "      <th>right_attr_tokenizer</th>\n",
       "      <th>simfunction</th>\n",
       "      <th>function</th>\n",
       "      <th>function_source</th>\n",
       "      <th>is_auto_generated</th>\n",
       "    </tr>\n",
       "  </thead>\n",
       "  <tbody>\n",
       "    <tr>\n",
       "      <th>0</th>\n",
       "      <td>ID_ID_lev</td>\n",
       "      <td>ID</td>\n",
       "      <td>ID</td>\n",
       "      <td>None</td>\n",
       "      <td>None</td>\n",
       "      <td>lev</td>\n",
       "      <td>&lt;function ID_ID_lev at 0x1077bfc80&gt;</td>\n",
       "      <td>from magellan.feature.simfunctions import *\\nf...</td>\n",
       "      <td>True</td>\n",
       "    </tr>\n",
       "    <tr>\n",
       "      <th>1</th>\n",
       "      <td>ID_ID_jar</td>\n",
       "      <td>ID</td>\n",
       "      <td>ID</td>\n",
       "      <td>None</td>\n",
       "      <td>None</td>\n",
       "      <td>jaro</td>\n",
       "      <td>&lt;function ID_ID_jar at 0x11756ae18&gt;</td>\n",
       "      <td>from magellan.feature.simfunctions import *\\nf...</td>\n",
       "      <td>True</td>\n",
       "    </tr>\n",
       "    <tr>\n",
       "      <th>2</th>\n",
       "      <td>ID_ID_jwn</td>\n",
       "      <td>ID</td>\n",
       "      <td>ID</td>\n",
       "      <td>None</td>\n",
       "      <td>None</td>\n",
       "      <td>jaro_winkler</td>\n",
       "      <td>&lt;function ID_ID_jwn at 0x11757c1e0&gt;</td>\n",
       "      <td>from magellan.feature.simfunctions import *\\nf...</td>\n",
       "      <td>True</td>\n",
       "    </tr>\n",
       "    <tr>\n",
       "      <th>3</th>\n",
       "      <td>ID_ID_exm</td>\n",
       "      <td>ID</td>\n",
       "      <td>ID</td>\n",
       "      <td>None</td>\n",
       "      <td>None</td>\n",
       "      <td>exact_match</td>\n",
       "      <td>&lt;function ID_ID_exm at 0x11757c268&gt;</td>\n",
       "      <td>from magellan.feature.simfunctions import *\\nf...</td>\n",
       "      <td>True</td>\n",
       "    </tr>\n",
       "    <tr>\n",
       "      <th>4</th>\n",
       "      <td>ID_ID_jac_qgm_3_qgm_3</td>\n",
       "      <td>ID</td>\n",
       "      <td>ID</td>\n",
       "      <td>qgm_3</td>\n",
       "      <td>qgm_3</td>\n",
       "      <td>jaccard</td>\n",
       "      <td>&lt;function ID_ID_jac_qgm_3_qgm_3 at 0x11757c158&gt;</td>\n",
       "      <td>from magellan.feature.simfunctions import *\\nf...</td>\n",
       "      <td>True</td>\n",
       "    </tr>\n",
       "    <tr>\n",
       "      <th>5</th>\n",
       "      <td>name_name_jac_qgm_3_qgm_3</td>\n",
       "      <td>name</td>\n",
       "      <td>name</td>\n",
       "      <td>qgm_3</td>\n",
       "      <td>qgm_3</td>\n",
       "      <td>jaccard</td>\n",
       "      <td>&lt;function name_name_jac_qgm_3_qgm_3 at 0x11757...</td>\n",
       "      <td>from magellan.feature.simfunctions import *\\nf...</td>\n",
       "      <td>True</td>\n",
       "    </tr>\n",
       "    <tr>\n",
       "      <th>6</th>\n",
       "      <td>name_name_cos_dlm_dc0_dlm_dc0</td>\n",
       "      <td>name</td>\n",
       "      <td>name</td>\n",
       "      <td>dlm_dc0</td>\n",
       "      <td>dlm_dc0</td>\n",
       "      <td>cosine</td>\n",
       "      <td>&lt;function name_name_cos_dlm_dc0_dlm_dc0 at 0x1...</td>\n",
       "      <td>from magellan.feature.simfunctions import *\\nf...</td>\n",
       "      <td>True</td>\n",
       "    </tr>\n",
       "    <tr>\n",
       "      <th>7</th>\n",
       "      <td>name_name_jac_dlm_dc0_dlm_dc0</td>\n",
       "      <td>name</td>\n",
       "      <td>name</td>\n",
       "      <td>dlm_dc0</td>\n",
       "      <td>dlm_dc0</td>\n",
       "      <td>jaccard</td>\n",
       "      <td>&lt;function name_name_jac_dlm_dc0_dlm_dc0 at 0x1...</td>\n",
       "      <td>from magellan.feature.simfunctions import *\\nf...</td>\n",
       "      <td>True</td>\n",
       "    </tr>\n",
       "    <tr>\n",
       "      <th>8</th>\n",
       "      <td>name_name_mel</td>\n",
       "      <td>name</td>\n",
       "      <td>name</td>\n",
       "      <td>None</td>\n",
       "      <td>None</td>\n",
       "      <td>monge_elkan</td>\n",
       "      <td>&lt;function name_name_mel at 0x11757c488&gt;</td>\n",
       "      <td>from magellan.feature.simfunctions import *\\nf...</td>\n",
       "      <td>True</td>\n",
       "    </tr>\n",
       "    <tr>\n",
       "      <th>9</th>\n",
       "      <td>name_name_lev</td>\n",
       "      <td>name</td>\n",
       "      <td>name</td>\n",
       "      <td>None</td>\n",
       "      <td>None</td>\n",
       "      <td>lev</td>\n",
       "      <td>&lt;function name_name_lev at 0x11757c510&gt;</td>\n",
       "      <td>from magellan.feature.simfunctions import *\\nf...</td>\n",
       "      <td>True</td>\n",
       "    </tr>\n",
       "    <tr>\n",
       "      <th>10</th>\n",
       "      <td>name_name_nmw</td>\n",
       "      <td>name</td>\n",
       "      <td>name</td>\n",
       "      <td>None</td>\n",
       "      <td>None</td>\n",
       "      <td>needleman_wunsch</td>\n",
       "      <td>&lt;function name_name_nmw at 0x11757c598&gt;</td>\n",
       "      <td>from magellan.feature.simfunctions import *\\nf...</td>\n",
       "      <td>True</td>\n",
       "    </tr>\n",
       "    <tr>\n",
       "      <th>11</th>\n",
       "      <td>name_name_sw</td>\n",
       "      <td>name</td>\n",
       "      <td>name</td>\n",
       "      <td>None</td>\n",
       "      <td>None</td>\n",
       "      <td>smith_waterman</td>\n",
       "      <td>&lt;function name_name_sw at 0x11757c620&gt;</td>\n",
       "      <td>from magellan.feature.simfunctions import *\\nf...</td>\n",
       "      <td>True</td>\n",
       "    </tr>\n",
       "    <tr>\n",
       "      <th>12</th>\n",
       "      <td>birth_year_birth_year_exm</td>\n",
       "      <td>birth_year</td>\n",
       "      <td>birth_year</td>\n",
       "      <td>None</td>\n",
       "      <td>None</td>\n",
       "      <td>exact_match</td>\n",
       "      <td>&lt;function birth_year_birth_year_exm at 0x11757...</td>\n",
       "      <td>from magellan.feature.simfunctions import *\\nf...</td>\n",
       "      <td>True</td>\n",
       "    </tr>\n",
       "    <tr>\n",
       "      <th>13</th>\n",
       "      <td>birth_year_birth_year_anm</td>\n",
       "      <td>birth_year</td>\n",
       "      <td>birth_year</td>\n",
       "      <td>None</td>\n",
       "      <td>None</td>\n",
       "      <td>abs_norm</td>\n",
       "      <td>&lt;function birth_year_birth_year_anm at 0x11757...</td>\n",
       "      <td>from magellan.feature.simfunctions import *\\nf...</td>\n",
       "      <td>True</td>\n",
       "    </tr>\n",
       "    <tr>\n",
       "      <th>14</th>\n",
       "      <td>birth_year_birth_year_lev</td>\n",
       "      <td>birth_year</td>\n",
       "      <td>birth_year</td>\n",
       "      <td>None</td>\n",
       "      <td>None</td>\n",
       "      <td>lev</td>\n",
       "      <td>&lt;function birth_year_birth_year_lev at 0x11757...</td>\n",
       "      <td>from magellan.feature.simfunctions import *\\nf...</td>\n",
       "      <td>True</td>\n",
       "    </tr>\n",
       "    <tr>\n",
       "      <th>15</th>\n",
       "      <td>hourly_wage_hourly_wage_exm</td>\n",
       "      <td>hourly_wage</td>\n",
       "      <td>hourly_wage</td>\n",
       "      <td>None</td>\n",
       "      <td>None</td>\n",
       "      <td>exact_match</td>\n",
       "      <td>&lt;function hourly_wage_hourly_wage_exm at 0x117...</td>\n",
       "      <td>from magellan.feature.simfunctions import *\\nf...</td>\n",
       "      <td>True</td>\n",
       "    </tr>\n",
       "    <tr>\n",
       "      <th>16</th>\n",
       "      <td>hourly_wage_hourly_wage_anm</td>\n",
       "      <td>hourly_wage</td>\n",
       "      <td>hourly_wage</td>\n",
       "      <td>None</td>\n",
       "      <td>None</td>\n",
       "      <td>abs_norm</td>\n",
       "      <td>&lt;function hourly_wage_hourly_wage_anm at 0x117...</td>\n",
       "      <td>from magellan.feature.simfunctions import *\\nf...</td>\n",
       "      <td>True</td>\n",
       "    </tr>\n",
       "    <tr>\n",
       "      <th>17</th>\n",
       "      <td>hourly_wage_hourly_wage_lev</td>\n",
       "      <td>hourly_wage</td>\n",
       "      <td>hourly_wage</td>\n",
       "      <td>None</td>\n",
       "      <td>None</td>\n",
       "      <td>lev</td>\n",
       "      <td>&lt;function hourly_wage_hourly_wage_lev at 0x117...</td>\n",
       "      <td>from magellan.feature.simfunctions import *\\nf...</td>\n",
       "      <td>True</td>\n",
       "    </tr>\n",
       "    <tr>\n",
       "      <th>18</th>\n",
       "      <td>zipcode_zipcode_exm</td>\n",
       "      <td>zipcode</td>\n",
       "      <td>zipcode</td>\n",
       "      <td>None</td>\n",
       "      <td>None</td>\n",
       "      <td>exact_match</td>\n",
       "      <td>&lt;function zipcode_zipcode_exm at 0x11757c9d8&gt;</td>\n",
       "      <td>from magellan.feature.simfunctions import *\\nf...</td>\n",
       "      <td>True</td>\n",
       "    </tr>\n",
       "    <tr>\n",
       "      <th>19</th>\n",
       "      <td>zipcode_zipcode_anm</td>\n",
       "      <td>zipcode</td>\n",
       "      <td>zipcode</td>\n",
       "      <td>None</td>\n",
       "      <td>None</td>\n",
       "      <td>abs_norm</td>\n",
       "      <td>&lt;function zipcode_zipcode_anm at 0x11757ca60&gt;</td>\n",
       "      <td>from magellan.feature.simfunctions import *\\nf...</td>\n",
       "      <td>True</td>\n",
       "    </tr>\n",
       "    <tr>\n",
       "      <th>20</th>\n",
       "      <td>zipcode_zipcode_lev</td>\n",
       "      <td>zipcode</td>\n",
       "      <td>zipcode</td>\n",
       "      <td>None</td>\n",
       "      <td>None</td>\n",
       "      <td>lev</td>\n",
       "      <td>&lt;function zipcode_zipcode_lev at 0x11757cae8&gt;</td>\n",
       "      <td>from magellan.feature.simfunctions import *\\nf...</td>\n",
       "      <td>True</td>\n",
       "    </tr>\n",
       "    <tr>\n",
       "      <th>21</th>\n",
       "      <td>lev_name_name1</td>\n",
       "      <td>PARSE_EXP</td>\n",
       "      <td>PARSE_EXP</td>\n",
       "      <td>PARSE_EXP</td>\n",
       "      <td>PARSE_EXP</td>\n",
       "      <td>lev</td>\n",
       "      <td>&lt;function fn at 0x121d50048&gt;</td>\n",
       "      <td>def fn(ltuple, rtuple):\\n    return lev(ltuple...</td>\n",
       "      <td>False</td>\n",
       "    </tr>\n",
       "    <tr>\n",
       "      <th>22</th>\n",
       "      <td>exm_zipcode_zipcode</td>\n",
       "      <td>PARSE_EXP</td>\n",
       "      <td>PARSE_EXP</td>\n",
       "      <td>PARSE_EXP</td>\n",
       "      <td>PARSE_EXP</td>\n",
       "      <td>exact_match</td>\n",
       "      <td>&lt;function fn at 0x121d50158&gt;</td>\n",
       "      <td>def fn(ltuple, rtuple):\\n    return exact_matc...</td>\n",
       "      <td>False</td>\n",
       "    </tr>\n",
       "  </tbody>\n",
       "</table>\n",
       "</div>"
      ],
      "text/plain": [
       "                     feature_name left_attribute right_attribute  \\\n",
       "0                       ID_ID_lev             ID              ID   \n",
       "1                       ID_ID_jar             ID              ID   \n",
       "2                       ID_ID_jwn             ID              ID   \n",
       "3                       ID_ID_exm             ID              ID   \n",
       "4           ID_ID_jac_qgm_3_qgm_3             ID              ID   \n",
       "5       name_name_jac_qgm_3_qgm_3           name            name   \n",
       "6   name_name_cos_dlm_dc0_dlm_dc0           name            name   \n",
       "7   name_name_jac_dlm_dc0_dlm_dc0           name            name   \n",
       "8                   name_name_mel           name            name   \n",
       "9                   name_name_lev           name            name   \n",
       "10                  name_name_nmw           name            name   \n",
       "11                   name_name_sw           name            name   \n",
       "12      birth_year_birth_year_exm     birth_year      birth_year   \n",
       "13      birth_year_birth_year_anm     birth_year      birth_year   \n",
       "14      birth_year_birth_year_lev     birth_year      birth_year   \n",
       "15    hourly_wage_hourly_wage_exm    hourly_wage     hourly_wage   \n",
       "16    hourly_wage_hourly_wage_anm    hourly_wage     hourly_wage   \n",
       "17    hourly_wage_hourly_wage_lev    hourly_wage     hourly_wage   \n",
       "18            zipcode_zipcode_exm        zipcode         zipcode   \n",
       "19            zipcode_zipcode_anm        zipcode         zipcode   \n",
       "20            zipcode_zipcode_lev        zipcode         zipcode   \n",
       "21                 lev_name_name1      PARSE_EXP       PARSE_EXP   \n",
       "22            exm_zipcode_zipcode      PARSE_EXP       PARSE_EXP   \n",
       "\n",
       "   left_attr_tokenizer right_attr_tokenizer       simfunction  \\\n",
       "0                 None                 None               lev   \n",
       "1                 None                 None              jaro   \n",
       "2                 None                 None      jaro_winkler   \n",
       "3                 None                 None       exact_match   \n",
       "4                qgm_3                qgm_3           jaccard   \n",
       "5                qgm_3                qgm_3           jaccard   \n",
       "6              dlm_dc0              dlm_dc0            cosine   \n",
       "7              dlm_dc0              dlm_dc0           jaccard   \n",
       "8                 None                 None       monge_elkan   \n",
       "9                 None                 None               lev   \n",
       "10                None                 None  needleman_wunsch   \n",
       "11                None                 None    smith_waterman   \n",
       "12                None                 None       exact_match   \n",
       "13                None                 None          abs_norm   \n",
       "14                None                 None               lev   \n",
       "15                None                 None       exact_match   \n",
       "16                None                 None          abs_norm   \n",
       "17                None                 None               lev   \n",
       "18                None                 None       exact_match   \n",
       "19                None                 None          abs_norm   \n",
       "20                None                 None               lev   \n",
       "21           PARSE_EXP            PARSE_EXP               lev   \n",
       "22           PARSE_EXP            PARSE_EXP       exact_match   \n",
       "\n",
       "                                             function  \\\n",
       "0                 <function ID_ID_lev at 0x1077bfc80>   \n",
       "1                 <function ID_ID_jar at 0x11756ae18>   \n",
       "2                 <function ID_ID_jwn at 0x11757c1e0>   \n",
       "3                 <function ID_ID_exm at 0x11757c268>   \n",
       "4     <function ID_ID_jac_qgm_3_qgm_3 at 0x11757c158>   \n",
       "5   <function name_name_jac_qgm_3_qgm_3 at 0x11757...   \n",
       "6   <function name_name_cos_dlm_dc0_dlm_dc0 at 0x1...   \n",
       "7   <function name_name_jac_dlm_dc0_dlm_dc0 at 0x1...   \n",
       "8             <function name_name_mel at 0x11757c488>   \n",
       "9             <function name_name_lev at 0x11757c510>   \n",
       "10            <function name_name_nmw at 0x11757c598>   \n",
       "11             <function name_name_sw at 0x11757c620>   \n",
       "12  <function birth_year_birth_year_exm at 0x11757...   \n",
       "13  <function birth_year_birth_year_anm at 0x11757...   \n",
       "14  <function birth_year_birth_year_lev at 0x11757...   \n",
       "15  <function hourly_wage_hourly_wage_exm at 0x117...   \n",
       "16  <function hourly_wage_hourly_wage_anm at 0x117...   \n",
       "17  <function hourly_wage_hourly_wage_lev at 0x117...   \n",
       "18      <function zipcode_zipcode_exm at 0x11757c9d8>   \n",
       "19      <function zipcode_zipcode_anm at 0x11757ca60>   \n",
       "20      <function zipcode_zipcode_lev at 0x11757cae8>   \n",
       "21                       <function fn at 0x121d50048>   \n",
       "22                       <function fn at 0x121d50158>   \n",
       "\n",
       "                                      function_source is_auto_generated  \n",
       "0   from magellan.feature.simfunctions import *\\nf...              True  \n",
       "1   from magellan.feature.simfunctions import *\\nf...              True  \n",
       "2   from magellan.feature.simfunctions import *\\nf...              True  \n",
       "3   from magellan.feature.simfunctions import *\\nf...              True  \n",
       "4   from magellan.feature.simfunctions import *\\nf...              True  \n",
       "5   from magellan.feature.simfunctions import *\\nf...              True  \n",
       "6   from magellan.feature.simfunctions import *\\nf...              True  \n",
       "7   from magellan.feature.simfunctions import *\\nf...              True  \n",
       "8   from magellan.feature.simfunctions import *\\nf...              True  \n",
       "9   from magellan.feature.simfunctions import *\\nf...              True  \n",
       "10  from magellan.feature.simfunctions import *\\nf...              True  \n",
       "11  from magellan.feature.simfunctions import *\\nf...              True  \n",
       "12  from magellan.feature.simfunctions import *\\nf...              True  \n",
       "13  from magellan.feature.simfunctions import *\\nf...              True  \n",
       "14  from magellan.feature.simfunctions import *\\nf...              True  \n",
       "15  from magellan.feature.simfunctions import *\\nf...              True  \n",
       "16  from magellan.feature.simfunctions import *\\nf...              True  \n",
       "17  from magellan.feature.simfunctions import *\\nf...              True  \n",
       "18  from magellan.feature.simfunctions import *\\nf...              True  \n",
       "19  from magellan.feature.simfunctions import *\\nf...              True  \n",
       "20  from magellan.feature.simfunctions import *\\nf...              True  \n",
       "21  def fn(ltuple, rtuple):\\n    return lev(ltuple...             False  \n",
       "22  def fn(ltuple, rtuple):\\n    return exact_matc...             False  "
      ]
     },
     "execution_count": 17,
     "metadata": {},
     "output_type": "execute_result"
    }
   ],
   "source": [
    "f"
   ]
  },
  {
   "cell_type": "code",
   "execution_count": 18,
   "metadata": {
    "collapsed": false
   },
   "outputs": [
    {
     "data": {
      "text/plain": [
       "{'abs_norm': <function magellan.feature.simfunctions.abs_norm>,\n",
       " 'cosine': <function magellan.feature.simfunctions.cosine>,\n",
       " 'exact_match': <function magellan.feature.simfunctions.exact_match>,\n",
       " 'jaccard': <function magellan.feature.simfunctions.jaccard>,\n",
       " 'jaro': <function magellan.feature.simfunctions.jaro>,\n",
       " 'jaro_winkler': <function magellan.feature.simfunctions.jaro_winkler>,\n",
       " 'lev': <function magellan.feature.simfunctions.lev>,\n",
       " 'monge_elkan': <function magellan.feature.simfunctions.monge_elkan>,\n",
       " 'needleman_wunsch': <function magellan.feature.simfunctions.needleman_wunsch>,\n",
       " 'rel_diff': <function magellan.feature.simfunctions.rel_diff>,\n",
       " 'smith_waterman': <function magellan.feature.simfunctions.smith_waterman>}"
      ]
     },
     "execution_count": 18,
     "metadata": {},
     "output_type": "execute_result"
    }
   ],
   "source": [
    "mg._block_s"
   ]
  },
  {
   "cell_type": "code",
   "execution_count": 19,
   "metadata": {
    "collapsed": false
   },
   "outputs": [
    {
     "data": {
      "text/plain": [
       "1"
      ]
     },
     "execution_count": 19,
     "metadata": {},
     "output_type": "execute_result"
    }
   ],
   "source": [
    "feat_dict['function'](A.ix[1], B.ix[2])"
   ]
  },
  {
   "cell_type": "code",
   "execution_count": 20,
   "metadata": {
    "collapsed": false
   },
   "outputs": [
    {
     "data": {
      "text/plain": [
       "0.3888888888888889"
      ]
     },
     "execution_count": 20,
     "metadata": {},
     "output_type": "execute_result"
    }
   ],
   "source": [
    "f.ix[5, 'function'](A.ix[1], B.ix[2])"
   ]
  },
  {
   "cell_type": "code",
   "execution_count": 21,
   "metadata": {
    "collapsed": false
   },
   "outputs": [
    {
     "data": {
      "text/html": [
       "<div>\n",
       "<table border=\"1\" class=\"dataframe\">\n",
       "  <thead>\n",
       "    <tr style=\"text-align: right;\">\n",
       "      <th></th>\n",
       "      <th>ID</th>\n",
       "      <th>name</th>\n",
       "      <th>birth_year</th>\n",
       "      <th>hourly_wage</th>\n",
       "      <th>address</th>\n",
       "      <th>zipcode</th>\n",
       "    </tr>\n",
       "  </thead>\n",
       "  <tbody>\n",
       "    <tr>\n",
       "      <th>0</th>\n",
       "      <td>a1</td>\n",
       "      <td>Kevin Smith</td>\n",
       "      <td>1989</td>\n",
       "      <td>30.0</td>\n",
       "      <td>607 From St, San Francisco</td>\n",
       "      <td>94107</td>\n",
       "    </tr>\n",
       "    <tr>\n",
       "      <th>1</th>\n",
       "      <td>a2</td>\n",
       "      <td>Michael Franklin</td>\n",
       "      <td>1988</td>\n",
       "      <td>27.5</td>\n",
       "      <td>1652 Stockton St, San Francisco</td>\n",
       "      <td>94122</td>\n",
       "    </tr>\n",
       "    <tr>\n",
       "      <th>2</th>\n",
       "      <td>a3</td>\n",
       "      <td>William Bridge</td>\n",
       "      <td>1986</td>\n",
       "      <td>32.0</td>\n",
       "      <td>3131 Webster St, San Francisco</td>\n",
       "      <td>94107</td>\n",
       "    </tr>\n",
       "    <tr>\n",
       "      <th>3</th>\n",
       "      <td>a4</td>\n",
       "      <td>Binto George</td>\n",
       "      <td>1987</td>\n",
       "      <td>32.5</td>\n",
       "      <td>423 Powell St, San Francisco</td>\n",
       "      <td>94122</td>\n",
       "    </tr>\n",
       "    <tr>\n",
       "      <th>4</th>\n",
       "      <td>a5</td>\n",
       "      <td>Alphonse Kemper</td>\n",
       "      <td>1984</td>\n",
       "      <td>35.0</td>\n",
       "      <td>1702 Post Street, San Francisco</td>\n",
       "      <td>94122</td>\n",
       "    </tr>\n",
       "  </tbody>\n",
       "</table>\n",
       "</div>"
      ],
      "text/plain": [
       "   ID              name  birth_year  hourly_wage  \\\n",
       "0  a1       Kevin Smith        1989         30.0   \n",
       "1  a2  Michael Franklin        1988         27.5   \n",
       "2  a3    William Bridge        1986         32.0   \n",
       "3  a4      Binto George        1987         32.5   \n",
       "4  a5   Alphonse Kemper        1984         35.0   \n",
       "\n",
       "                           address  zipcode  \n",
       "0       607 From St, San Francisco    94107  \n",
       "1  1652 Stockton St, San Francisco    94122  \n",
       "2   3131 Webster St, San Francisco    94107  \n",
       "3     423 Powell St, San Francisco    94122  \n",
       "4  1702 Post Street, San Francisco    94122  "
      ]
     },
     "execution_count": 21,
     "metadata": {},
     "output_type": "execute_result"
    }
   ],
   "source": [
    "A"
   ]
  },
  {
   "cell_type": "code",
   "execution_count": 22,
   "metadata": {
    "collapsed": false
   },
   "outputs": [
    {
     "data": {
      "text/html": [
       "<div>\n",
       "<table border=\"1\" class=\"dataframe\">\n",
       "  <thead>\n",
       "    <tr style=\"text-align: right;\">\n",
       "      <th></th>\n",
       "      <th>ID</th>\n",
       "      <th>name</th>\n",
       "      <th>birth_year</th>\n",
       "      <th>hourly_wage</th>\n",
       "      <th>address</th>\n",
       "      <th>zipcode</th>\n",
       "    </tr>\n",
       "  </thead>\n",
       "  <tbody>\n",
       "    <tr>\n",
       "      <th>0</th>\n",
       "      <td>b1</td>\n",
       "      <td>Mark Levene</td>\n",
       "      <td>1987</td>\n",
       "      <td>29.5</td>\n",
       "      <td>108 Clement St, San Francisco</td>\n",
       "      <td>94107</td>\n",
       "    </tr>\n",
       "    <tr>\n",
       "      <th>1</th>\n",
       "      <td>b2</td>\n",
       "      <td>Bill Bridge</td>\n",
       "      <td>1986</td>\n",
       "      <td>32.0</td>\n",
       "      <td>3131 Webster St, San Francisco</td>\n",
       "      <td>94107</td>\n",
       "    </tr>\n",
       "    <tr>\n",
       "      <th>2</th>\n",
       "      <td>b3</td>\n",
       "      <td>Mike Franklin</td>\n",
       "      <td>1988</td>\n",
       "      <td>27.5</td>\n",
       "      <td>1652 Stockton St, San Francisco</td>\n",
       "      <td>94122</td>\n",
       "    </tr>\n",
       "    <tr>\n",
       "      <th>3</th>\n",
       "      <td>b4</td>\n",
       "      <td>Joseph Kuan</td>\n",
       "      <td>1982</td>\n",
       "      <td>26.0</td>\n",
       "      <td>108 South Park, San Francisco</td>\n",
       "      <td>94122</td>\n",
       "    </tr>\n",
       "    <tr>\n",
       "      <th>4</th>\n",
       "      <td>b5</td>\n",
       "      <td>Alfons Kemper</td>\n",
       "      <td>1984</td>\n",
       "      <td>35.0</td>\n",
       "      <td>170 Post St, Apt 4,  San Francisco</td>\n",
       "      <td>94122</td>\n",
       "    </tr>\n",
       "    <tr>\n",
       "      <th>5</th>\n",
       "      <td>b6</td>\n",
       "      <td>Michael Brodie</td>\n",
       "      <td>1987</td>\n",
       "      <td>32.5</td>\n",
       "      <td>133 Clement Street, San Francisco</td>\n",
       "      <td>94107</td>\n",
       "    </tr>\n",
       "  </tbody>\n",
       "</table>\n",
       "</div>"
      ],
      "text/plain": [
       "   ID            name  birth_year  hourly_wage  \\\n",
       "0  b1     Mark Levene        1987         29.5   \n",
       "1  b2     Bill Bridge        1986         32.0   \n",
       "2  b3   Mike Franklin        1988         27.5   \n",
       "3  b4     Joseph Kuan        1982         26.0   \n",
       "4  b5   Alfons Kemper        1984         35.0   \n",
       "5  b6  Michael Brodie        1987         32.5   \n",
       "\n",
       "                              address  zipcode  \n",
       "0       108 Clement St, San Francisco    94107  \n",
       "1      3131 Webster St, San Francisco    94107  \n",
       "2     1652 Stockton St, San Francisco    94122  \n",
       "3       108 South Park, San Francisco    94122  \n",
       "4  170 Post St, Apt 4,  San Francisco    94122  \n",
       "5   133 Clement Street, San Francisco    94107  "
      ]
     },
     "execution_count": 22,
     "metadata": {},
     "output_type": "execute_result"
    }
   ],
   "source": [
    "B"
   ]
  },
  {
   "cell_type": "code",
   "execution_count": 23,
   "metadata": {
    "collapsed": false
   },
   "outputs": [
    {
     "data": {
      "text/plain": [
       "'from magellan.feature.simfunctions import *\\nfrom magellan.feature.tokenizers import *\\ndef zipcode_zipcode_exm(ltuple, rtuple):\\n    return exact_match(ltuple[\"zipcode\"], rtuple[\"zipcode\"])'"
      ]
     },
     "execution_count": 23,
     "metadata": {},
     "output_type": "execute_result"
    }
   ],
   "source": [
    "f.ix[18, 'function_source']"
   ]
  },
  {
   "cell_type": "code",
   "execution_count": 24,
   "metadata": {
    "collapsed": false
   },
   "outputs": [
    {
     "data": {
      "text/plain": [
       "4"
      ]
     },
     "execution_count": 24,
     "metadata": {},
     "output_type": "execute_result"
    }
   ],
   "source": [
    "mg._block_s['lev'](A.ix[1, 'name'], B.ix[2, 'name'])"
   ]
  },
  {
   "cell_type": "code",
   "execution_count": 25,
   "metadata": {
    "collapsed": false
   },
   "outputs": [
    {
     "data": {
      "text/plain": [
       "1"
      ]
     },
     "execution_count": 25,
     "metadata": {},
     "output_type": "execute_result"
    }
   ],
   "source": [
    "f.ix[18, 'function'](A.ix[1], B.ix[2])"
   ]
  },
  {
   "cell_type": "code",
   "execution_count": 26,
   "metadata": {
    "collapsed": true
   },
   "outputs": [],
   "source": [
    "fd = mg.get_feature_fn('lev(ltuple[\"name\"], rtuple[\"name\"])', mg._block_s, mg._block_t)"
   ]
  },
  {
   "cell_type": "code",
   "execution_count": 27,
   "metadata": {
    "collapsed": false
   },
   "outputs": [
    {
     "data": {
      "text/plain": [
       "'def fn(ltuple, rtuple):\\n    return lev(ltuple[\"name\"], rtuple[\"name\"])'"
      ]
     },
     "execution_count": 27,
     "metadata": {},
     "output_type": "execute_result"
    }
   ],
   "source": [
    "fd['function_source']"
   ]
  },
  {
   "cell_type": "code",
   "execution_count": 28,
   "metadata": {
    "collapsed": false
   },
   "outputs": [],
   "source": [
    "l = A.ix[1]\n",
    "r = B.ix[2]"
   ]
  },
  {
   "cell_type": "code",
   "execution_count": 29,
   "metadata": {
    "collapsed": false
   },
   "outputs": [
    {
     "data": {
      "text/plain": [
       "1"
      ]
     },
     "execution_count": 29,
     "metadata": {},
     "output_type": "execute_result"
    }
   ],
   "source": [
    "l.name"
   ]
  }
 ],
 "metadata": {
  "kernelspec": {
   "display_name": "Python 3",
   "language": "python",
   "name": "python3"
  },
  "language_info": {
   "codemirror_mode": {
    "name": "ipython",
    "version": 3
   },
   "file_extension": ".py",
   "mimetype": "text/x-python",
   "name": "python",
   "nbconvert_exporter": "python",
   "pygments_lexer": "ipython3",
   "version": "3.5.1"
  }
 },
 "nbformat": 4,
 "nbformat_minor": 0
}
