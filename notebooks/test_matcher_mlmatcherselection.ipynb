{
 "cells": [
  {
   "cell_type": "code",
   "execution_count": 1,
   "metadata": {
    "collapsed": true
   },
   "outputs": [],
   "source": [
    "%load_ext autotime"
   ]
  },
  {
   "cell_type": "code",
   "execution_count": 2,
   "metadata": {
    "collapsed": false
   },
   "outputs": [
    {
     "name": "stdout",
     "output_type": "stream",
     "text": [
      "time: 148 ms\n"
     ]
    }
   ],
   "source": [
    "import sys\n",
    "import os\n",
    "sys.path.append('/scratch/pradap/python-work/anhaidgroup/magellan/')"
   ]
  },
  {
   "cell_type": "code",
   "execution_count": 3,
   "metadata": {
    "collapsed": false
   },
   "outputs": [
    {
     "name": "stdout",
     "output_type": "stream",
     "text": [
      "time: 1.47 s\n"
     ]
    }
   ],
   "source": [
    "import magellan as mg"
   ]
  },
  {
   "cell_type": "code",
   "execution_count": 4,
   "metadata": {
    "collapsed": false
   },
   "outputs": [
    {
     "name": "stdout",
     "output_type": "stream",
     "text": [
      "time: 2.3 ms\n"
     ]
    }
   ],
   "source": [
    "datasets_path = os.sep.join([mg.get_install_path(), 'datasets', 'test_datasets'])\n",
    "path_a = os.sep.join([datasets_path, 'A.csv'])\n",
    "path_b = os.sep.join([datasets_path, 'B.csv'])\n",
    "path_c = os.sep.join([datasets_path, 'C.csv'])"
   ]
  },
  {
   "cell_type": "code",
   "execution_count": 5,
   "metadata": {
    "collapsed": false
   },
   "outputs": [
    {
     "name": "stderr",
     "output_type": "stream",
     "text": [
      "WARNING:magellan.io.parsers:Metadata file is not present in the given path; proceeding to read the csv file.\n"
     ]
    },
    {
     "name": "stdout",
     "output_type": "stream",
     "text": [
      "time: 92.3 ms\n"
     ]
    }
   ],
   "source": [
    "A = mg.read_csv_metadata(path_a)\n",
    "B = mg.read_csv_metadata(path_b, key='ID')\n",
    "C = mg.read_csv_metadata(path_c, ltable=A, rtable=B)"
   ]
  },
  {
   "cell_type": "code",
   "execution_count": 6,
   "metadata": {
    "collapsed": false
   },
   "outputs": [
    {
     "name": "stderr",
     "output_type": "stream",
     "text": [
      "WARNING:magellan.feature.autofeaturegen:Magellan types: address type (str_bt_1w_5w) and address type (str_bt_5w_10w) are different.If you want to set them to be same and generate features, update output from get_attr_types and use get_features command.\n",
      "\n"
     ]
    },
    {
     "name": "stdout",
     "output_type": "stream",
     "text": [
      "time: 133 ms\n"
     ]
    }
   ],
   "source": [
    "feature_table = mg.get_features_for_matching(A, B)"
   ]
  },
  {
   "cell_type": "code",
   "execution_count": 7,
   "metadata": {
    "collapsed": false
   },
   "outputs": [
    {
     "name": "stdout",
     "output_type": "stream",
     "text": [
      "time: 111 ms\n"
     ]
    }
   ],
   "source": [
    "labels = [0]*7\n",
    "labels.extend([1]*8)\n",
    "C['labels'] = labels"
   ]
  },
  {
   "cell_type": "code",
   "execution_count": null,
   "metadata": {
    "collapsed": true
   },
   "outputs": [],
   "source": []
  },
  {
   "cell_type": "code",
   "execution_count": 8,
   "metadata": {
    "collapsed": false
   },
   "outputs": [
    {
     "name": "stdout",
     "output_type": "stream",
     "text": [
      "time: 154 ms\n"
     ]
    }
   ],
   "source": [
    "feature_vectors = mg.extract_feature_vecs(C, attrs_after='labels', feature_table=feature_table)"
   ]
  },
  {
   "cell_type": "code",
   "execution_count": 9,
   "metadata": {
    "collapsed": false
   },
   "outputs": [
    {
     "data": {
      "text/html": [
       "<div>\n",
       "<table border=\"1\" class=\"dataframe\">\n",
       "  <thead>\n",
       "    <tr style=\"text-align: right;\">\n",
       "      <th></th>\n",
       "      <th>_id</th>\n",
       "      <th>ltable_ID</th>\n",
       "      <th>rtable_ID</th>\n",
       "      <th>ID_ID_lev</th>\n",
       "      <th>ID_ID_jar</th>\n",
       "      <th>ID_ID_jwn</th>\n",
       "      <th>ID_ID_exm</th>\n",
       "      <th>ID_ID_jac_qgm_3_qgm_3</th>\n",
       "      <th>name_name_jac_qgm_3_qgm_3</th>\n",
       "      <th>name_name_cos_dlm_dc0_dlm_dc0</th>\n",
       "      <th>...</th>\n",
       "      <th>birth_year_birth_year_exm</th>\n",
       "      <th>birth_year_birth_year_anm</th>\n",
       "      <th>birth_year_birth_year_lev</th>\n",
       "      <th>hourly_wage_hourly_wage_exm</th>\n",
       "      <th>hourly_wage_hourly_wage_anm</th>\n",
       "      <th>hourly_wage_hourly_wage_lev</th>\n",
       "      <th>zipcode_zipcode_exm</th>\n",
       "      <th>zipcode_zipcode_anm</th>\n",
       "      <th>zipcode_zipcode_lev</th>\n",
       "      <th>labels</th>\n",
       "    </tr>\n",
       "  </thead>\n",
       "  <tbody>\n",
       "    <tr>\n",
       "      <th>0</th>\n",
       "      <td>0</td>\n",
       "      <td>a1</td>\n",
       "      <td>b1</td>\n",
       "      <td>1</td>\n",
       "      <td>0.666667</td>\n",
       "      <td>0.666667</td>\n",
       "      <td>0</td>\n",
       "      <td>1.0</td>\n",
       "      <td>0.000000</td>\n",
       "      <td>0.0</td>\n",
       "      <td>...</td>\n",
       "      <td>0</td>\n",
       "      <td>0.998994</td>\n",
       "      <td>1.0</td>\n",
       "      <td>0</td>\n",
       "      <td>0.983333</td>\n",
       "      <td>3.0</td>\n",
       "      <td>1</td>\n",
       "      <td>1.0</td>\n",
       "      <td>0.0</td>\n",
       "      <td>0</td>\n",
       "    </tr>\n",
       "    <tr>\n",
       "      <th>1</th>\n",
       "      <td>1</td>\n",
       "      <td>a1</td>\n",
       "      <td>b2</td>\n",
       "      <td>2</td>\n",
       "      <td>0.000000</td>\n",
       "      <td>0.000000</td>\n",
       "      <td>0</td>\n",
       "      <td>1.0</td>\n",
       "      <td>0.000000</td>\n",
       "      <td>0.0</td>\n",
       "      <td>...</td>\n",
       "      <td>0</td>\n",
       "      <td>0.998492</td>\n",
       "      <td>1.0</td>\n",
       "      <td>0</td>\n",
       "      <td>0.937500</td>\n",
       "      <td>1.0</td>\n",
       "      <td>1</td>\n",
       "      <td>1.0</td>\n",
       "      <td>0.0</td>\n",
       "      <td>0</td>\n",
       "    </tr>\n",
       "    <tr>\n",
       "      <th>2</th>\n",
       "      <td>2</td>\n",
       "      <td>a1</td>\n",
       "      <td>b6</td>\n",
       "      <td>2</td>\n",
       "      <td>0.000000</td>\n",
       "      <td>0.000000</td>\n",
       "      <td>0</td>\n",
       "      <td>1.0</td>\n",
       "      <td>0.000000</td>\n",
       "      <td>0.0</td>\n",
       "      <td>...</td>\n",
       "      <td>0</td>\n",
       "      <td>0.998994</td>\n",
       "      <td>1.0</td>\n",
       "      <td>0</td>\n",
       "      <td>0.923077</td>\n",
       "      <td>2.0</td>\n",
       "      <td>1</td>\n",
       "      <td>1.0</td>\n",
       "      <td>0.0</td>\n",
       "      <td>0</td>\n",
       "    </tr>\n",
       "    <tr>\n",
       "      <th>3</th>\n",
       "      <td>6</td>\n",
       "      <td>a2</td>\n",
       "      <td>b3</td>\n",
       "      <td>2</td>\n",
       "      <td>0.000000</td>\n",
       "      <td>0.000000</td>\n",
       "      <td>0</td>\n",
       "      <td>1.0</td>\n",
       "      <td>0.388889</td>\n",
       "      <td>0.5</td>\n",
       "      <td>...</td>\n",
       "      <td>1</td>\n",
       "      <td>1.000000</td>\n",
       "      <td>0.0</td>\n",
       "      <td>1</td>\n",
       "      <td>1.000000</td>\n",
       "      <td>0.0</td>\n",
       "      <td>1</td>\n",
       "      <td>1.0</td>\n",
       "      <td>0.0</td>\n",
       "      <td>0</td>\n",
       "    </tr>\n",
       "    <tr>\n",
       "      <th>4</th>\n",
       "      <td>7</td>\n",
       "      <td>a2</td>\n",
       "      <td>b4</td>\n",
       "      <td>2</td>\n",
       "      <td>0.000000</td>\n",
       "      <td>0.000000</td>\n",
       "      <td>0</td>\n",
       "      <td>1.0</td>\n",
       "      <td>0.000000</td>\n",
       "      <td>0.0</td>\n",
       "      <td>...</td>\n",
       "      <td>0</td>\n",
       "      <td>0.996982</td>\n",
       "      <td>1.0</td>\n",
       "      <td>0</td>\n",
       "      <td>0.945455</td>\n",
       "      <td>2.0</td>\n",
       "      <td>1</td>\n",
       "      <td>1.0</td>\n",
       "      <td>0.0</td>\n",
       "      <td>0</td>\n",
       "    </tr>\n",
       "    <tr>\n",
       "      <th>5</th>\n",
       "      <td>8</td>\n",
       "      <td>a2</td>\n",
       "      <td>b5</td>\n",
       "      <td>2</td>\n",
       "      <td>0.000000</td>\n",
       "      <td>0.000000</td>\n",
       "      <td>0</td>\n",
       "      <td>1.0</td>\n",
       "      <td>0.000000</td>\n",
       "      <td>0.0</td>\n",
       "      <td>...</td>\n",
       "      <td>0</td>\n",
       "      <td>0.997988</td>\n",
       "      <td>1.0</td>\n",
       "      <td>0</td>\n",
       "      <td>0.785714</td>\n",
       "      <td>3.0</td>\n",
       "      <td>1</td>\n",
       "      <td>1.0</td>\n",
       "      <td>0.0</td>\n",
       "      <td>0</td>\n",
       "    </tr>\n",
       "    <tr>\n",
       "      <th>6</th>\n",
       "      <td>3</td>\n",
       "      <td>a3</td>\n",
       "      <td>b1</td>\n",
       "      <td>2</td>\n",
       "      <td>0.000000</td>\n",
       "      <td>0.000000</td>\n",
       "      <td>0</td>\n",
       "      <td>1.0</td>\n",
       "      <td>0.000000</td>\n",
       "      <td>0.0</td>\n",
       "      <td>...</td>\n",
       "      <td>0</td>\n",
       "      <td>0.999497</td>\n",
       "      <td>1.0</td>\n",
       "      <td>0</td>\n",
       "      <td>0.921875</td>\n",
       "      <td>3.0</td>\n",
       "      <td>1</td>\n",
       "      <td>1.0</td>\n",
       "      <td>0.0</td>\n",
       "      <td>0</td>\n",
       "    </tr>\n",
       "    <tr>\n",
       "      <th>7</th>\n",
       "      <td>4</td>\n",
       "      <td>a3</td>\n",
       "      <td>b2</td>\n",
       "      <td>2</td>\n",
       "      <td>0.000000</td>\n",
       "      <td>0.000000</td>\n",
       "      <td>0</td>\n",
       "      <td>1.0</td>\n",
       "      <td>0.400000</td>\n",
       "      <td>0.5</td>\n",
       "      <td>...</td>\n",
       "      <td>1</td>\n",
       "      <td>1.000000</td>\n",
       "      <td>0.0</td>\n",
       "      <td>1</td>\n",
       "      <td>1.000000</td>\n",
       "      <td>0.0</td>\n",
       "      <td>1</td>\n",
       "      <td>1.0</td>\n",
       "      <td>0.0</td>\n",
       "      <td>1</td>\n",
       "    </tr>\n",
       "    <tr>\n",
       "      <th>8</th>\n",
       "      <td>5</td>\n",
       "      <td>a3</td>\n",
       "      <td>b6</td>\n",
       "      <td>2</td>\n",
       "      <td>0.000000</td>\n",
       "      <td>0.000000</td>\n",
       "      <td>0</td>\n",
       "      <td>1.0</td>\n",
       "      <td>0.043478</td>\n",
       "      <td>0.0</td>\n",
       "      <td>...</td>\n",
       "      <td>0</td>\n",
       "      <td>0.999497</td>\n",
       "      <td>1.0</td>\n",
       "      <td>0</td>\n",
       "      <td>0.984615</td>\n",
       "      <td>1.0</td>\n",
       "      <td>1</td>\n",
       "      <td>1.0</td>\n",
       "      <td>0.0</td>\n",
       "      <td>1</td>\n",
       "    </tr>\n",
       "    <tr>\n",
       "      <th>9</th>\n",
       "      <td>9</td>\n",
       "      <td>a4</td>\n",
       "      <td>b3</td>\n",
       "      <td>2</td>\n",
       "      <td>0.000000</td>\n",
       "      <td>0.000000</td>\n",
       "      <td>0</td>\n",
       "      <td>1.0</td>\n",
       "      <td>0.000000</td>\n",
       "      <td>0.0</td>\n",
       "      <td>...</td>\n",
       "      <td>0</td>\n",
       "      <td>0.999497</td>\n",
       "      <td>1.0</td>\n",
       "      <td>0</td>\n",
       "      <td>0.846154</td>\n",
       "      <td>2.0</td>\n",
       "      <td>1</td>\n",
       "      <td>1.0</td>\n",
       "      <td>0.0</td>\n",
       "      <td>1</td>\n",
       "    </tr>\n",
       "    <tr>\n",
       "      <th>10</th>\n",
       "      <td>10</td>\n",
       "      <td>a4</td>\n",
       "      <td>b4</td>\n",
       "      <td>1</td>\n",
       "      <td>0.666667</td>\n",
       "      <td>0.666667</td>\n",
       "      <td>0</td>\n",
       "      <td>1.0</td>\n",
       "      <td>0.000000</td>\n",
       "      <td>0.0</td>\n",
       "      <td>...</td>\n",
       "      <td>0</td>\n",
       "      <td>0.997484</td>\n",
       "      <td>1.0</td>\n",
       "      <td>0</td>\n",
       "      <td>0.800000</td>\n",
       "      <td>3.0</td>\n",
       "      <td>1</td>\n",
       "      <td>1.0</td>\n",
       "      <td>0.0</td>\n",
       "      <td>1</td>\n",
       "    </tr>\n",
       "    <tr>\n",
       "      <th>11</th>\n",
       "      <td>11</td>\n",
       "      <td>a4</td>\n",
       "      <td>b5</td>\n",
       "      <td>2</td>\n",
       "      <td>0.000000</td>\n",
       "      <td>0.000000</td>\n",
       "      <td>0</td>\n",
       "      <td>1.0</td>\n",
       "      <td>0.000000</td>\n",
       "      <td>0.0</td>\n",
       "      <td>...</td>\n",
       "      <td>0</td>\n",
       "      <td>0.998490</td>\n",
       "      <td>1.0</td>\n",
       "      <td>0</td>\n",
       "      <td>0.928571</td>\n",
       "      <td>2.0</td>\n",
       "      <td>1</td>\n",
       "      <td>1.0</td>\n",
       "      <td>0.0</td>\n",
       "      <td>1</td>\n",
       "    </tr>\n",
       "    <tr>\n",
       "      <th>12</th>\n",
       "      <td>12</td>\n",
       "      <td>a5</td>\n",
       "      <td>b3</td>\n",
       "      <td>2</td>\n",
       "      <td>0.000000</td>\n",
       "      <td>0.000000</td>\n",
       "      <td>0</td>\n",
       "      <td>1.0</td>\n",
       "      <td>0.000000</td>\n",
       "      <td>0.0</td>\n",
       "      <td>...</td>\n",
       "      <td>0</td>\n",
       "      <td>0.997988</td>\n",
       "      <td>1.0</td>\n",
       "      <td>0</td>\n",
       "      <td>0.785714</td>\n",
       "      <td>3.0</td>\n",
       "      <td>1</td>\n",
       "      <td>1.0</td>\n",
       "      <td>0.0</td>\n",
       "      <td>1</td>\n",
       "    </tr>\n",
       "    <tr>\n",
       "      <th>13</th>\n",
       "      <td>13</td>\n",
       "      <td>a5</td>\n",
       "      <td>b4</td>\n",
       "      <td>2</td>\n",
       "      <td>0.000000</td>\n",
       "      <td>0.000000</td>\n",
       "      <td>0</td>\n",
       "      <td>1.0</td>\n",
       "      <td>0.000000</td>\n",
       "      <td>0.0</td>\n",
       "      <td>...</td>\n",
       "      <td>0</td>\n",
       "      <td>0.998992</td>\n",
       "      <td>1.0</td>\n",
       "      <td>0</td>\n",
       "      <td>0.742857</td>\n",
       "      <td>2.0</td>\n",
       "      <td>1</td>\n",
       "      <td>1.0</td>\n",
       "      <td>0.0</td>\n",
       "      <td>1</td>\n",
       "    </tr>\n",
       "    <tr>\n",
       "      <th>14</th>\n",
       "      <td>14</td>\n",
       "      <td>a5</td>\n",
       "      <td>b5</td>\n",
       "      <td>1</td>\n",
       "      <td>0.666667</td>\n",
       "      <td>0.666667</td>\n",
       "      <td>0</td>\n",
       "      <td>1.0</td>\n",
       "      <td>0.333333</td>\n",
       "      <td>0.5</td>\n",
       "      <td>...</td>\n",
       "      <td>1</td>\n",
       "      <td>1.000000</td>\n",
       "      <td>0.0</td>\n",
       "      <td>1</td>\n",
       "      <td>1.000000</td>\n",
       "      <td>0.0</td>\n",
       "      <td>1</td>\n",
       "      <td>1.0</td>\n",
       "      <td>0.0</td>\n",
       "      <td>1</td>\n",
       "    </tr>\n",
       "  </tbody>\n",
       "</table>\n",
       "<p>15 rows × 25 columns</p>\n",
       "</div>"
      ],
      "text/plain": [
       "    _id ltable_ID rtable_ID  ID_ID_lev  ID_ID_jar  ID_ID_jwn  ID_ID_exm  \\\n",
       "0     0        a1        b1          1   0.666667   0.666667          0   \n",
       "1     1        a1        b2          2   0.000000   0.000000          0   \n",
       "2     2        a1        b6          2   0.000000   0.000000          0   \n",
       "3     6        a2        b3          2   0.000000   0.000000          0   \n",
       "4     7        a2        b4          2   0.000000   0.000000          0   \n",
       "5     8        a2        b5          2   0.000000   0.000000          0   \n",
       "6     3        a3        b1          2   0.000000   0.000000          0   \n",
       "7     4        a3        b2          2   0.000000   0.000000          0   \n",
       "8     5        a3        b6          2   0.000000   0.000000          0   \n",
       "9     9        a4        b3          2   0.000000   0.000000          0   \n",
       "10   10        a4        b4          1   0.666667   0.666667          0   \n",
       "11   11        a4        b5          2   0.000000   0.000000          0   \n",
       "12   12        a5        b3          2   0.000000   0.000000          0   \n",
       "13   13        a5        b4          2   0.000000   0.000000          0   \n",
       "14   14        a5        b5          1   0.666667   0.666667          0   \n",
       "\n",
       "    ID_ID_jac_qgm_3_qgm_3  name_name_jac_qgm_3_qgm_3  \\\n",
       "0                     1.0                   0.000000   \n",
       "1                     1.0                   0.000000   \n",
       "2                     1.0                   0.000000   \n",
       "3                     1.0                   0.388889   \n",
       "4                     1.0                   0.000000   \n",
       "5                     1.0                   0.000000   \n",
       "6                     1.0                   0.000000   \n",
       "7                     1.0                   0.400000   \n",
       "8                     1.0                   0.043478   \n",
       "9                     1.0                   0.000000   \n",
       "10                    1.0                   0.000000   \n",
       "11                    1.0                   0.000000   \n",
       "12                    1.0                   0.000000   \n",
       "13                    1.0                   0.000000   \n",
       "14                    1.0                   0.333333   \n",
       "\n",
       "    name_name_cos_dlm_dc0_dlm_dc0   ...    birth_year_birth_year_exm  \\\n",
       "0                             0.0   ...                            0   \n",
       "1                             0.0   ...                            0   \n",
       "2                             0.0   ...                            0   \n",
       "3                             0.5   ...                            1   \n",
       "4                             0.0   ...                            0   \n",
       "5                             0.0   ...                            0   \n",
       "6                             0.0   ...                            0   \n",
       "7                             0.5   ...                            1   \n",
       "8                             0.0   ...                            0   \n",
       "9                             0.0   ...                            0   \n",
       "10                            0.0   ...                            0   \n",
       "11                            0.0   ...                            0   \n",
       "12                            0.0   ...                            0   \n",
       "13                            0.0   ...                            0   \n",
       "14                            0.5   ...                            1   \n",
       "\n",
       "    birth_year_birth_year_anm  birth_year_birth_year_lev  \\\n",
       "0                    0.998994                        1.0   \n",
       "1                    0.998492                        1.0   \n",
       "2                    0.998994                        1.0   \n",
       "3                    1.000000                        0.0   \n",
       "4                    0.996982                        1.0   \n",
       "5                    0.997988                        1.0   \n",
       "6                    0.999497                        1.0   \n",
       "7                    1.000000                        0.0   \n",
       "8                    0.999497                        1.0   \n",
       "9                    0.999497                        1.0   \n",
       "10                   0.997484                        1.0   \n",
       "11                   0.998490                        1.0   \n",
       "12                   0.997988                        1.0   \n",
       "13                   0.998992                        1.0   \n",
       "14                   1.000000                        0.0   \n",
       "\n",
       "    hourly_wage_hourly_wage_exm  hourly_wage_hourly_wage_anm  \\\n",
       "0                             0                     0.983333   \n",
       "1                             0                     0.937500   \n",
       "2                             0                     0.923077   \n",
       "3                             1                     1.000000   \n",
       "4                             0                     0.945455   \n",
       "5                             0                     0.785714   \n",
       "6                             0                     0.921875   \n",
       "7                             1                     1.000000   \n",
       "8                             0                     0.984615   \n",
       "9                             0                     0.846154   \n",
       "10                            0                     0.800000   \n",
       "11                            0                     0.928571   \n",
       "12                            0                     0.785714   \n",
       "13                            0                     0.742857   \n",
       "14                            1                     1.000000   \n",
       "\n",
       "    hourly_wage_hourly_wage_lev  zipcode_zipcode_exm  zipcode_zipcode_anm  \\\n",
       "0                           3.0                    1                  1.0   \n",
       "1                           1.0                    1                  1.0   \n",
       "2                           2.0                    1                  1.0   \n",
       "3                           0.0                    1                  1.0   \n",
       "4                           2.0                    1                  1.0   \n",
       "5                           3.0                    1                  1.0   \n",
       "6                           3.0                    1                  1.0   \n",
       "7                           0.0                    1                  1.0   \n",
       "8                           1.0                    1                  1.0   \n",
       "9                           2.0                    1                  1.0   \n",
       "10                          3.0                    1                  1.0   \n",
       "11                          2.0                    1                  1.0   \n",
       "12                          3.0                    1                  1.0   \n",
       "13                          2.0                    1                  1.0   \n",
       "14                          0.0                    1                  1.0   \n",
       "\n",
       "    zipcode_zipcode_lev  labels  \n",
       "0                   0.0       0  \n",
       "1                   0.0       0  \n",
       "2                   0.0       0  \n",
       "3                   0.0       0  \n",
       "4                   0.0       0  \n",
       "5                   0.0       0  \n",
       "6                   0.0       0  \n",
       "7                   0.0       1  \n",
       "8                   0.0       1  \n",
       "9                   0.0       1  \n",
       "10                  0.0       1  \n",
       "11                  0.0       1  \n",
       "12                  0.0       1  \n",
       "13                  0.0       1  \n",
       "14                  0.0       1  \n",
       "\n",
       "[15 rows x 25 columns]"
      ]
     },
     "execution_count": 9,
     "metadata": {},
     "output_type": "execute_result"
    },
    {
     "name": "stdout",
     "output_type": "stream",
     "text": [
      "time: 126 ms\n"
     ]
    }
   ],
   "source": [
    "feature_vectors"
   ]
  },
  {
   "cell_type": "code",
   "execution_count": 10,
   "metadata": {
    "collapsed": false
   },
   "outputs": [
    {
     "name": "stdout",
     "output_type": "stream",
     "text": [
      "time: 43.7 ms\n"
     ]
    }
   ],
   "source": [
    "# matchers\n",
    "dtmatcher = mg.DTMatcher()\n",
    "nbmatcher = mg.NBMatcher()\n",
    "rfmatcher = mg.RFMatcher()\n",
    "svmmatcher = mg.SVMMatcher()\n",
    "linregmatcher = mg.LinRegMatcher()\n",
    "logregmatcher = mg.LogRegMatcher()"
   ]
  },
  {
   "cell_type": "code",
   "execution_count": 11,
   "metadata": {
    "collapsed": false
   },
   "outputs": [
    {
     "name": "stdout",
     "output_type": "stream",
     "text": [
      "time: 122 ms\n"
     ]
    }
   ],
   "source": [
    "matchers = [dtmatcher, nbmatcher, rfmatcher, svmmatcher, linregmatcher, logregmatcher]"
   ]
  },
  {
   "cell_type": "code",
   "execution_count": 12,
   "metadata": {
    "collapsed": false
   },
   "outputs": [
    {
     "name": "stdout",
     "output_type": "stream",
     "text": [
      "time: 127 ms\n"
     ]
    }
   ],
   "source": [
    "x = 'temp'\n",
    "y = ['atemp', 'btemp']\n",
    "y.append(x)"
   ]
  },
  {
   "cell_type": "code",
   "execution_count": 13,
   "metadata": {
    "collapsed": false
   },
   "outputs": [
    {
     "data": {
      "text/plain": [
       "['atemp', 'btemp', 'temp']"
      ]
     },
     "execution_count": 13,
     "metadata": {},
     "output_type": "execute_result"
    },
    {
     "name": "stdout",
     "output_type": "stream",
     "text": [
      "time: 97.8 ms\n"
     ]
    }
   ],
   "source": [
    "y"
   ]
  },
  {
   "cell_type": "code",
   "execution_count": 18,
   "metadata": {
    "collapsed": false
   },
   "outputs": [
    {
     "name": "stderr",
     "output_type": "stream",
     "text": [
      "WARNING:magellan.utils.catalog_helper:Column name (ltable_ID1) is not present in dataframe\n",
      "ERROR:magellan.matcherselector.mlmatcherselection:The attributes mentioned in exclude_attrs is not present in the input table\n"
     ]
    },
    {
     "ename": "AssertionError",
     "evalue": "The attributes mentioned in exclude_attrs is not present in the input table",
     "output_type": "error",
     "traceback": [
      "\u001b[1;31m---------------------------------------------------------------------------\u001b[0m",
      "\u001b[1;31mAssertionError\u001b[0m                            Traceback (most recent call last)",
      "\u001b[1;32m<ipython-input-18-9de75987bffb>\u001b[0m in \u001b[0;36m<module>\u001b[1;34m()\u001b[0m\n\u001b[1;32m----> 1\u001b[1;33m \u001b[0mresult\u001b[0m \u001b[1;33m=\u001b[0m \u001b[0mmg\u001b[0m\u001b[1;33m.\u001b[0m\u001b[0mselect_matcher\u001b[0m\u001b[1;33m(\u001b[0m\u001b[0mmatchers\u001b[0m\u001b[1;33m,\u001b[0m \u001b[0mtable\u001b[0m\u001b[1;33m=\u001b[0m\u001b[0mfeature_vectors\u001b[0m\u001b[1;33m,\u001b[0m \u001b[0mexclude_attrs\u001b[0m\u001b[1;33m=\u001b[0m\u001b[1;33m[\u001b[0m\u001b[1;34m'ltable_ID1'\u001b[0m\u001b[1;33m,\u001b[0m \u001b[1;34m'rtable_ID'\u001b[0m\u001b[1;33m,\u001b[0m \u001b[1;34m'labels'\u001b[0m\u001b[1;33m]\u001b[0m\u001b[1;33m,\u001b[0m \u001b[0mtarget_attr\u001b[0m\u001b[1;33m=\u001b[0m\u001b[1;33m[\u001b[0m\u001b[1;34m'labels'\u001b[0m\u001b[1;33m]\u001b[0m\u001b[1;33m)\u001b[0m\u001b[1;33m\u001b[0m\u001b[0m\n\u001b[0m",
      "\u001b[1;32m/scratch/pradap/python-work/anhaidgroup/magellan/magellan/matcherselector/mlmatcherselection.py\u001b[0m in \u001b[0;36mselect_matcher\u001b[1;34m(matchers, x, y, table, exclude_attrs, target_attr, metric, k, random_state)\u001b[0m\n\u001b[0;32m     16\u001b[0m def select_matcher(matchers, x=None, y=None, table=None, exclude_attrs=None, target_attr=None, metric='precision', k=5,\n\u001b[0;32m     17\u001b[0m                    random_state=None):\n\u001b[1;32m---> 18\u001b[1;33m     \u001b[0mx\u001b[0m\u001b[1;33m,\u001b[0m \u001b[0my\u001b[0m \u001b[1;33m=\u001b[0m \u001b[0mget_xy_data\u001b[0m\u001b[1;33m(\u001b[0m\u001b[0mx\u001b[0m\u001b[1;33m,\u001b[0m \u001b[0my\u001b[0m\u001b[1;33m,\u001b[0m \u001b[0mtable\u001b[0m\u001b[1;33m,\u001b[0m \u001b[0mexclude_attrs\u001b[0m\u001b[1;33m,\u001b[0m \u001b[0mtarget_attr\u001b[0m\u001b[1;33m)\u001b[0m\u001b[1;33m\u001b[0m\u001b[0m\n\u001b[0m\u001b[0;32m     19\u001b[0m     \u001b[0mdict_list\u001b[0m \u001b[1;33m=\u001b[0m \u001b[1;33m[\u001b[0m\u001b[1;33m]\u001b[0m\u001b[1;33m\u001b[0m\u001b[0m\n\u001b[0;32m     20\u001b[0m     \u001b[0mmax_score\u001b[0m \u001b[1;33m=\u001b[0m \u001b[1;36m0\u001b[0m\u001b[1;33m\u001b[0m\u001b[0m\n",
      "\u001b[1;32m/scratch/pradap/python-work/anhaidgroup/magellan/magellan/matcherselector/mlmatcherselection.py\u001b[0m in \u001b[0;36mget_xy_data\u001b[1;34m(x, y, table, exclude_attrs, target_attr)\u001b[0m\n\u001b[0;32m     57\u001b[0m         \u001b[1;32mreturn\u001b[0m \u001b[0mget_xy_data_prj\u001b[0m\u001b[1;33m(\u001b[0m\u001b[0mx\u001b[0m\u001b[1;33m,\u001b[0m \u001b[0my\u001b[0m\u001b[1;33m)\u001b[0m\u001b[1;33m\u001b[0m\u001b[0m\n\u001b[0;32m     58\u001b[0m     \u001b[1;32melif\u001b[0m \u001b[0mtable\u001b[0m \u001b[1;32mis\u001b[0m \u001b[1;32mnot\u001b[0m \u001b[0mNone\u001b[0m \u001b[1;32mand\u001b[0m \u001b[0mexclude_attrs\u001b[0m \u001b[1;32mis\u001b[0m \u001b[1;32mnot\u001b[0m \u001b[0mNone\u001b[0m \u001b[1;32mand\u001b[0m \u001b[0mtarget_attr\u001b[0m \u001b[1;32mis\u001b[0m \u001b[1;32mnot\u001b[0m \u001b[0mNone\u001b[0m\u001b[1;33m:\u001b[0m\u001b[1;33m\u001b[0m\u001b[0m\n\u001b[1;32m---> 59\u001b[1;33m         \u001b[1;32mreturn\u001b[0m \u001b[0mget_xy_data_ex\u001b[0m\u001b[1;33m(\u001b[0m\u001b[0mtable\u001b[0m\u001b[1;33m,\u001b[0m \u001b[0mexclude_attrs\u001b[0m\u001b[1;33m,\u001b[0m \u001b[0mtarget_attr\u001b[0m\u001b[1;33m)\u001b[0m\u001b[1;33m\u001b[0m\u001b[0m\n\u001b[0m\u001b[0;32m     60\u001b[0m     \u001b[1;32melse\u001b[0m\u001b[1;33m:\u001b[0m\u001b[1;33m\u001b[0m\u001b[0m\n\u001b[0;32m     61\u001b[0m         \u001b[1;32mraise\u001b[0m \u001b[0mSyntaxError\u001b[0m\u001b[1;33m(\u001b[0m\u001b[1;34m'The arguments supplied does not match the signatures supported !!!'\u001b[0m\u001b[1;33m)\u001b[0m\u001b[1;33m\u001b[0m\u001b[0m\n",
      "\u001b[1;32m/scratch/pradap/python-work/anhaidgroup/magellan/magellan/matcherselector/mlmatcherselection.py\u001b[0m in \u001b[0;36mget_xy_data_ex\u001b[1;34m(table, exclude_attrs, target_attr)\u001b[0m\n\u001b[0;32m     84\u001b[0m         logger.error('The attributes mentioned in exclude_attrs is not present ' \\\n\u001b[0;32m     85\u001b[0m                      'in the input table')\n\u001b[1;32m---> 86\u001b[1;33m         raise AssertionError('The attributes mentioned in exclude_attrs is not present ' \\\n\u001b[0m\u001b[0;32m     87\u001b[0m                              'in the input table')\n\u001b[0;32m     88\u001b[0m     \u001b[1;32mif\u001b[0m \u001b[1;32mnot\u001b[0m \u001b[0mcheck_attrs_present\u001b[0m\u001b[1;33m(\u001b[0m\u001b[0mtable\u001b[0m\u001b[1;33m,\u001b[0m \u001b[0mtarget_attr\u001b[0m\u001b[1;33m)\u001b[0m\u001b[1;33m:\u001b[0m\u001b[1;33m\u001b[0m\u001b[0m\n",
      "\u001b[1;31mAssertionError\u001b[0m: The attributes mentioned in exclude_attrs is not present in the input table"
     ]
    },
    {
     "name": "stdout",
     "output_type": "stream",
     "text": [
      "time: 15.8 ms\n"
     ]
    }
   ],
   "source": [
    "result = mg.select_matcher(matchers, table=feature_vectors, exclude_attrs=['ltable_ID1', 'rtable_ID', 'labels'], target_attr=['labels'])"
   ]
  },
  {
   "cell_type": "code",
   "execution_count": 22,
   "metadata": {
    "collapsed": false
   },
   "outputs": [
    {
     "name": "stdout",
     "output_type": "stream",
     "text": [
      "time: 753 µs\n"
     ]
    }
   ],
   "source": [
    "d = result['cv_stats']"
   ]
  },
  {
   "cell_type": "code",
   "execution_count": 24,
   "metadata": {
    "collapsed": false
   },
   "outputs": [
    {
     "name": "stdout",
     "output_type": "stream",
     "text": [
      "time: 1.55 ms\n"
     ]
    }
   ],
   "source": [
    "d.set_index('Name', inplace=True, drop=True)"
   ]
  },
  {
   "cell_type": "code",
   "execution_count": 27,
   "metadata": {
    "collapsed": false
   },
   "outputs": [
    {
     "name": "stdout",
     "output_type": "stream",
     "text": [
      "time: 805 µs\n"
     ]
    }
   ],
   "source": [
    "x = d.ix[result['selected_matcher'].name, 'Mean score']"
   ]
  },
  {
   "cell_type": "code",
   "execution_count": 35,
   "metadata": {
    "collapsed": false
   },
   "outputs": [
    {
     "name": "stdout",
     "output_type": "stream",
     "text": [
      "time: 721 µs\n"
     ]
    }
   ],
   "source": [
    "col_list = list(feature_vectors.columns)"
   ]
  },
  {
   "cell_type": "code",
   "execution_count": 36,
   "metadata": {
    "collapsed": false
   },
   "outputs": [
    {
     "name": "stdout",
     "output_type": "stream",
     "text": [
      "time: 720 µs\n"
     ]
    }
   ],
   "source": [
    "from magellan.utils.generic_helper import list_diff, list_drop_duplicates"
   ]
  },
  {
   "cell_type": "code",
   "execution_count": null,
   "metadata": {
    "collapsed": true
   },
   "outputs": [],
   "source": [
    "    "
   ]
  },
  {
   "cell_type": "code",
   "execution_count": 37,
   "metadata": {
    "collapsed": false
   },
   "outputs": [
    {
     "name": "stdout",
     "output_type": "stream",
     "text": [
      "time: 601 µs\n"
     ]
    }
   ],
   "source": [
    "import magellan as mg"
   ]
  },
  {
   "cell_type": "code",
   "execution_count": 38,
   "metadata": {
    "collapsed": false
   },
   "outputs": [
    {
     "name": "stdout",
     "output_type": "stream",
     "text": [
      "time: 678 µs\n"
     ]
    }
   ],
   "source": [
    "import magellan.catalog.catalog_manager as cm"
   ]
  },
  {
   "cell_type": "code",
   "execution_count": 43,
   "metadata": {
    "collapsed": false
   },
   "outputs": [
    {
     "name": "stdout",
     "output_type": "stream",
     "text": [
      "time: 1.1 ms\n"
     ]
    }
   ],
   "source": [
    "l = list_diff(col_list, [mg.get_key(feature_vectors), cm.get_fk_ltable(feature_vectors), cm.get_fk_rtable(feature_vectors)\n",
    "                     , 'labels'])"
   ]
  },
  {
   "cell_type": "code",
   "execution_count": 45,
   "metadata": {
    "collapsed": false
   },
   "outputs": [
    {
     "name": "stdout",
     "output_type": "stream",
     "text": [
      "time: 1.52 ms\n"
     ]
    }
   ],
   "source": [
    "fvl = feature_vectors[l]"
   ]
  },
  {
   "cell_type": "code",
   "execution_count": 46,
   "metadata": {
    "collapsed": false
   },
   "outputs": [
    {
     "data": {
      "text/html": [
       "<div>\n",
       "<table border=\"1\" class=\"dataframe\">\n",
       "  <thead>\n",
       "    <tr style=\"text-align: right;\">\n",
       "      <th></th>\n",
       "      <th>ID_ID_lev</th>\n",
       "      <th>ID_ID_jar</th>\n",
       "      <th>ID_ID_jwn</th>\n",
       "      <th>ID_ID_exm</th>\n",
       "      <th>ID_ID_jac_qgm_3_qgm_3</th>\n",
       "      <th>name_name_jac_qgm_3_qgm_3</th>\n",
       "      <th>name_name_cos_dlm_dc0_dlm_dc0</th>\n",
       "      <th>name_name_jac_dlm_dc0_dlm_dc0</th>\n",
       "      <th>name_name_mel</th>\n",
       "      <th>name_name_lev</th>\n",
       "      <th>...</th>\n",
       "      <th>name_name_sw</th>\n",
       "      <th>birth_year_birth_year_exm</th>\n",
       "      <th>birth_year_birth_year_anm</th>\n",
       "      <th>birth_year_birth_year_lev</th>\n",
       "      <th>hourly_wage_hourly_wage_exm</th>\n",
       "      <th>hourly_wage_hourly_wage_anm</th>\n",
       "      <th>hourly_wage_hourly_wage_lev</th>\n",
       "      <th>zipcode_zipcode_exm</th>\n",
       "      <th>zipcode_zipcode_anm</th>\n",
       "      <th>zipcode_zipcode_lev</th>\n",
       "    </tr>\n",
       "  </thead>\n",
       "  <tbody>\n",
       "    <tr>\n",
       "      <th>0</th>\n",
       "      <td>1</td>\n",
       "      <td>0.666667</td>\n",
       "      <td>0.666667</td>\n",
       "      <td>0</td>\n",
       "      <td>1.0</td>\n",
       "      <td>0.000000</td>\n",
       "      <td>0.0</td>\n",
       "      <td>0.000000</td>\n",
       "      <td>0.393939</td>\n",
       "      <td>11</td>\n",
       "      <td>...</td>\n",
       "      <td>3.0</td>\n",
       "      <td>0</td>\n",
       "      <td>0.998994</td>\n",
       "      <td>1.0</td>\n",
       "      <td>0</td>\n",
       "      <td>0.983333</td>\n",
       "      <td>3.0</td>\n",
       "      <td>1</td>\n",
       "      <td>1.0</td>\n",
       "      <td>0.0</td>\n",
       "    </tr>\n",
       "    <tr>\n",
       "      <th>1</th>\n",
       "      <td>2</td>\n",
       "      <td>0.000000</td>\n",
       "      <td>0.000000</td>\n",
       "      <td>0</td>\n",
       "      <td>1.0</td>\n",
       "      <td>0.000000</td>\n",
       "      <td>0.0</td>\n",
       "      <td>0.000000</td>\n",
       "      <td>0.515152</td>\n",
       "      <td>10</td>\n",
       "      <td>...</td>\n",
       "      <td>2.0</td>\n",
       "      <td>0</td>\n",
       "      <td>0.998492</td>\n",
       "      <td>1.0</td>\n",
       "      <td>0</td>\n",
       "      <td>0.937500</td>\n",
       "      <td>1.0</td>\n",
       "      <td>1</td>\n",
       "      <td>1.0</td>\n",
       "      <td>0.0</td>\n",
       "    </tr>\n",
       "    <tr>\n",
       "      <th>2</th>\n",
       "      <td>2</td>\n",
       "      <td>0.000000</td>\n",
       "      <td>0.000000</td>\n",
       "      <td>0</td>\n",
       "      <td>1.0</td>\n",
       "      <td>0.000000</td>\n",
       "      <td>0.0</td>\n",
       "      <td>0.000000</td>\n",
       "      <td>0.466450</td>\n",
       "      <td>13</td>\n",
       "      <td>...</td>\n",
       "      <td>2.0</td>\n",
       "      <td>0</td>\n",
       "      <td>0.998994</td>\n",
       "      <td>1.0</td>\n",
       "      <td>0</td>\n",
       "      <td>0.923077</td>\n",
       "      <td>2.0</td>\n",
       "      <td>1</td>\n",
       "      <td>1.0</td>\n",
       "      <td>0.0</td>\n",
       "    </tr>\n",
       "    <tr>\n",
       "      <th>3</th>\n",
       "      <td>2</td>\n",
       "      <td>0.000000</td>\n",
       "      <td>0.000000</td>\n",
       "      <td>0</td>\n",
       "      <td>1.0</td>\n",
       "      <td>0.388889</td>\n",
       "      <td>0.5</td>\n",
       "      <td>0.333333</td>\n",
       "      <td>0.823932</td>\n",
       "      <td>4</td>\n",
       "      <td>...</td>\n",
       "      <td>9.0</td>\n",
       "      <td>1</td>\n",
       "      <td>1.000000</td>\n",
       "      <td>0.0</td>\n",
       "      <td>1</td>\n",
       "      <td>1.000000</td>\n",
       "      <td>0.0</td>\n",
       "      <td>1</td>\n",
       "      <td>1.0</td>\n",
       "      <td>0.0</td>\n",
       "    </tr>\n",
       "    <tr>\n",
       "      <th>4</th>\n",
       "      <td>2</td>\n",
       "      <td>0.000000</td>\n",
       "      <td>0.000000</td>\n",
       "      <td>0</td>\n",
       "      <td>1.0</td>\n",
       "      <td>0.000000</td>\n",
       "      <td>0.0</td>\n",
       "      <td>0.000000</td>\n",
       "      <td>0.455682</td>\n",
       "      <td>13</td>\n",
       "      <td>...</td>\n",
       "      <td>3.0</td>\n",
       "      <td>0</td>\n",
       "      <td>0.996982</td>\n",
       "      <td>1.0</td>\n",
       "      <td>0</td>\n",
       "      <td>0.945455</td>\n",
       "      <td>2.0</td>\n",
       "      <td>1</td>\n",
       "      <td>1.0</td>\n",
       "      <td>0.0</td>\n",
       "    </tr>\n",
       "    <tr>\n",
       "      <th>5</th>\n",
       "      <td>2</td>\n",
       "      <td>0.000000</td>\n",
       "      <td>0.000000</td>\n",
       "      <td>0</td>\n",
       "      <td>1.0</td>\n",
       "      <td>0.000000</td>\n",
       "      <td>0.0</td>\n",
       "      <td>0.000000</td>\n",
       "      <td>0.432372</td>\n",
       "      <td>15</td>\n",
       "      <td>...</td>\n",
       "      <td>2.0</td>\n",
       "      <td>0</td>\n",
       "      <td>0.997988</td>\n",
       "      <td>1.0</td>\n",
       "      <td>0</td>\n",
       "      <td>0.785714</td>\n",
       "      <td>3.0</td>\n",
       "      <td>1</td>\n",
       "      <td>1.0</td>\n",
       "      <td>0.0</td>\n",
       "    </tr>\n",
       "    <tr>\n",
       "      <th>6</th>\n",
       "      <td>2</td>\n",
       "      <td>0.000000</td>\n",
       "      <td>0.000000</td>\n",
       "      <td>0</td>\n",
       "      <td>1.0</td>\n",
       "      <td>0.000000</td>\n",
       "      <td>0.0</td>\n",
       "      <td>0.000000</td>\n",
       "      <td>0.495671</td>\n",
       "      <td>12</td>\n",
       "      <td>...</td>\n",
       "      <td>2.0</td>\n",
       "      <td>0</td>\n",
       "      <td>0.999497</td>\n",
       "      <td>1.0</td>\n",
       "      <td>0</td>\n",
       "      <td>0.921875</td>\n",
       "      <td>3.0</td>\n",
       "      <td>1</td>\n",
       "      <td>1.0</td>\n",
       "      <td>0.0</td>\n",
       "    </tr>\n",
       "    <tr>\n",
       "      <th>7</th>\n",
       "      <td>2</td>\n",
       "      <td>0.000000</td>\n",
       "      <td>0.000000</td>\n",
       "      <td>0</td>\n",
       "      <td>1.0</td>\n",
       "      <td>0.400000</td>\n",
       "      <td>0.5</td>\n",
       "      <td>0.333333</td>\n",
       "      <td>0.807792</td>\n",
       "      <td>4</td>\n",
       "      <td>...</td>\n",
       "      <td>8.0</td>\n",
       "      <td>1</td>\n",
       "      <td>1.000000</td>\n",
       "      <td>0.0</td>\n",
       "      <td>1</td>\n",
       "      <td>1.000000</td>\n",
       "      <td>0.0</td>\n",
       "      <td>1</td>\n",
       "      <td>1.0</td>\n",
       "      <td>0.0</td>\n",
       "    </tr>\n",
       "    <tr>\n",
       "      <th>8</th>\n",
       "      <td>2</td>\n",
       "      <td>0.000000</td>\n",
       "      <td>0.000000</td>\n",
       "      <td>0</td>\n",
       "      <td>1.0</td>\n",
       "      <td>0.043478</td>\n",
       "      <td>0.0</td>\n",
       "      <td>0.000000</td>\n",
       "      <td>0.687831</td>\n",
       "      <td>8</td>\n",
       "      <td>...</td>\n",
       "      <td>6.0</td>\n",
       "      <td>0</td>\n",
       "      <td>0.999497</td>\n",
       "      <td>1.0</td>\n",
       "      <td>0</td>\n",
       "      <td>0.984615</td>\n",
       "      <td>1.0</td>\n",
       "      <td>1</td>\n",
       "      <td>1.0</td>\n",
       "      <td>0.0</td>\n",
       "    </tr>\n",
       "    <tr>\n",
       "      <th>9</th>\n",
       "      <td>2</td>\n",
       "      <td>0.000000</td>\n",
       "      <td>0.000000</td>\n",
       "      <td>0</td>\n",
       "      <td>1.0</td>\n",
       "      <td>0.000000</td>\n",
       "      <td>0.0</td>\n",
       "      <td>0.000000</td>\n",
       "      <td>0.463675</td>\n",
       "      <td>12</td>\n",
       "      <td>...</td>\n",
       "      <td>2.0</td>\n",
       "      <td>0</td>\n",
       "      <td>0.999497</td>\n",
       "      <td>1.0</td>\n",
       "      <td>0</td>\n",
       "      <td>0.846154</td>\n",
       "      <td>2.0</td>\n",
       "      <td>1</td>\n",
       "      <td>1.0</td>\n",
       "      <td>0.0</td>\n",
       "    </tr>\n",
       "    <tr>\n",
       "      <th>10</th>\n",
       "      <td>1</td>\n",
       "      <td>0.666667</td>\n",
       "      <td>0.666667</td>\n",
       "      <td>0</td>\n",
       "      <td>1.0</td>\n",
       "      <td>0.000000</td>\n",
       "      <td>0.0</td>\n",
       "      <td>0.000000</td>\n",
       "      <td>0.396465</td>\n",
       "      <td>12</td>\n",
       "      <td>...</td>\n",
       "      <td>1.0</td>\n",
       "      <td>0</td>\n",
       "      <td>0.997484</td>\n",
       "      <td>1.0</td>\n",
       "      <td>0</td>\n",
       "      <td>0.800000</td>\n",
       "      <td>3.0</td>\n",
       "      <td>1</td>\n",
       "      <td>1.0</td>\n",
       "      <td>0.0</td>\n",
       "    </tr>\n",
       "    <tr>\n",
       "      <th>11</th>\n",
       "      <td>2</td>\n",
       "      <td>0.000000</td>\n",
       "      <td>0.000000</td>\n",
       "      <td>0</td>\n",
       "      <td>1.0</td>\n",
       "      <td>0.000000</td>\n",
       "      <td>0.0</td>\n",
       "      <td>0.000000</td>\n",
       "      <td>0.542735</td>\n",
       "      <td>11</td>\n",
       "      <td>...</td>\n",
       "      <td>2.0</td>\n",
       "      <td>0</td>\n",
       "      <td>0.998490</td>\n",
       "      <td>1.0</td>\n",
       "      <td>0</td>\n",
       "      <td>0.928571</td>\n",
       "      <td>2.0</td>\n",
       "      <td>1</td>\n",
       "      <td>1.0</td>\n",
       "      <td>0.0</td>\n",
       "    </tr>\n",
       "    <tr>\n",
       "      <th>12</th>\n",
       "      <td>2</td>\n",
       "      <td>0.000000</td>\n",
       "      <td>0.000000</td>\n",
       "      <td>0</td>\n",
       "      <td>1.0</td>\n",
       "      <td>0.000000</td>\n",
       "      <td>0.0</td>\n",
       "      <td>0.000000</td>\n",
       "      <td>0.310256</td>\n",
       "      <td>15</td>\n",
       "      <td>...</td>\n",
       "      <td>2.0</td>\n",
       "      <td>0</td>\n",
       "      <td>0.997988</td>\n",
       "      <td>1.0</td>\n",
       "      <td>0</td>\n",
       "      <td>0.785714</td>\n",
       "      <td>3.0</td>\n",
       "      <td>1</td>\n",
       "      <td>1.0</td>\n",
       "      <td>0.0</td>\n",
       "    </tr>\n",
       "    <tr>\n",
       "      <th>13</th>\n",
       "      <td>2</td>\n",
       "      <td>0.000000</td>\n",
       "      <td>0.000000</td>\n",
       "      <td>0</td>\n",
       "      <td>1.0</td>\n",
       "      <td>0.000000</td>\n",
       "      <td>0.0</td>\n",
       "      <td>0.000000</td>\n",
       "      <td>0.586869</td>\n",
       "      <td>12</td>\n",
       "      <td>...</td>\n",
       "      <td>2.0</td>\n",
       "      <td>0</td>\n",
       "      <td>0.998992</td>\n",
       "      <td>1.0</td>\n",
       "      <td>0</td>\n",
       "      <td>0.742857</td>\n",
       "      <td>2.0</td>\n",
       "      <td>1</td>\n",
       "      <td>1.0</td>\n",
       "      <td>0.0</td>\n",
       "    </tr>\n",
       "    <tr>\n",
       "      <th>14</th>\n",
       "      <td>1</td>\n",
       "      <td>0.666667</td>\n",
       "      <td>0.666667</td>\n",
       "      <td>0</td>\n",
       "      <td>1.0</td>\n",
       "      <td>0.333333</td>\n",
       "      <td>0.5</td>\n",
       "      <td>0.333333</td>\n",
       "      <td>0.859487</td>\n",
       "      <td>3</td>\n",
       "      <td>...</td>\n",
       "      <td>10.0</td>\n",
       "      <td>1</td>\n",
       "      <td>1.000000</td>\n",
       "      <td>0.0</td>\n",
       "      <td>1</td>\n",
       "      <td>1.000000</td>\n",
       "      <td>0.0</td>\n",
       "      <td>1</td>\n",
       "      <td>1.0</td>\n",
       "      <td>0.0</td>\n",
       "    </tr>\n",
       "  </tbody>\n",
       "</table>\n",
       "<p>15 rows × 21 columns</p>\n",
       "</div>"
      ],
      "text/plain": [
       "    ID_ID_lev  ID_ID_jar  ID_ID_jwn  ID_ID_exm  ID_ID_jac_qgm_3_qgm_3  \\\n",
       "0           1   0.666667   0.666667          0                    1.0   \n",
       "1           2   0.000000   0.000000          0                    1.0   \n",
       "2           2   0.000000   0.000000          0                    1.0   \n",
       "3           2   0.000000   0.000000          0                    1.0   \n",
       "4           2   0.000000   0.000000          0                    1.0   \n",
       "5           2   0.000000   0.000000          0                    1.0   \n",
       "6           2   0.000000   0.000000          0                    1.0   \n",
       "7           2   0.000000   0.000000          0                    1.0   \n",
       "8           2   0.000000   0.000000          0                    1.0   \n",
       "9           2   0.000000   0.000000          0                    1.0   \n",
       "10          1   0.666667   0.666667          0                    1.0   \n",
       "11          2   0.000000   0.000000          0                    1.0   \n",
       "12          2   0.000000   0.000000          0                    1.0   \n",
       "13          2   0.000000   0.000000          0                    1.0   \n",
       "14          1   0.666667   0.666667          0                    1.0   \n",
       "\n",
       "    name_name_jac_qgm_3_qgm_3  name_name_cos_dlm_dc0_dlm_dc0  \\\n",
       "0                    0.000000                            0.0   \n",
       "1                    0.000000                            0.0   \n",
       "2                    0.000000                            0.0   \n",
       "3                    0.388889                            0.5   \n",
       "4                    0.000000                            0.0   \n",
       "5                    0.000000                            0.0   \n",
       "6                    0.000000                            0.0   \n",
       "7                    0.400000                            0.5   \n",
       "8                    0.043478                            0.0   \n",
       "9                    0.000000                            0.0   \n",
       "10                   0.000000                            0.0   \n",
       "11                   0.000000                            0.0   \n",
       "12                   0.000000                            0.0   \n",
       "13                   0.000000                            0.0   \n",
       "14                   0.333333                            0.5   \n",
       "\n",
       "    name_name_jac_dlm_dc0_dlm_dc0  name_name_mel  name_name_lev  \\\n",
       "0                        0.000000       0.393939             11   \n",
       "1                        0.000000       0.515152             10   \n",
       "2                        0.000000       0.466450             13   \n",
       "3                        0.333333       0.823932              4   \n",
       "4                        0.000000       0.455682             13   \n",
       "5                        0.000000       0.432372             15   \n",
       "6                        0.000000       0.495671             12   \n",
       "7                        0.333333       0.807792              4   \n",
       "8                        0.000000       0.687831              8   \n",
       "9                        0.000000       0.463675             12   \n",
       "10                       0.000000       0.396465             12   \n",
       "11                       0.000000       0.542735             11   \n",
       "12                       0.000000       0.310256             15   \n",
       "13                       0.000000       0.586869             12   \n",
       "14                       0.333333       0.859487              3   \n",
       "\n",
       "           ...           name_name_sw  birth_year_birth_year_exm  \\\n",
       "0          ...                    3.0                          0   \n",
       "1          ...                    2.0                          0   \n",
       "2          ...                    2.0                          0   \n",
       "3          ...                    9.0                          1   \n",
       "4          ...                    3.0                          0   \n",
       "5          ...                    2.0                          0   \n",
       "6          ...                    2.0                          0   \n",
       "7          ...                    8.0                          1   \n",
       "8          ...                    6.0                          0   \n",
       "9          ...                    2.0                          0   \n",
       "10         ...                    1.0                          0   \n",
       "11         ...                    2.0                          0   \n",
       "12         ...                    2.0                          0   \n",
       "13         ...                    2.0                          0   \n",
       "14         ...                   10.0                          1   \n",
       "\n",
       "    birth_year_birth_year_anm  birth_year_birth_year_lev  \\\n",
       "0                    0.998994                        1.0   \n",
       "1                    0.998492                        1.0   \n",
       "2                    0.998994                        1.0   \n",
       "3                    1.000000                        0.0   \n",
       "4                    0.996982                        1.0   \n",
       "5                    0.997988                        1.0   \n",
       "6                    0.999497                        1.0   \n",
       "7                    1.000000                        0.0   \n",
       "8                    0.999497                        1.0   \n",
       "9                    0.999497                        1.0   \n",
       "10                   0.997484                        1.0   \n",
       "11                   0.998490                        1.0   \n",
       "12                   0.997988                        1.0   \n",
       "13                   0.998992                        1.0   \n",
       "14                   1.000000                        0.0   \n",
       "\n",
       "    hourly_wage_hourly_wage_exm  hourly_wage_hourly_wage_anm  \\\n",
       "0                             0                     0.983333   \n",
       "1                             0                     0.937500   \n",
       "2                             0                     0.923077   \n",
       "3                             1                     1.000000   \n",
       "4                             0                     0.945455   \n",
       "5                             0                     0.785714   \n",
       "6                             0                     0.921875   \n",
       "7                             1                     1.000000   \n",
       "8                             0                     0.984615   \n",
       "9                             0                     0.846154   \n",
       "10                            0                     0.800000   \n",
       "11                            0                     0.928571   \n",
       "12                            0                     0.785714   \n",
       "13                            0                     0.742857   \n",
       "14                            1                     1.000000   \n",
       "\n",
       "    hourly_wage_hourly_wage_lev  zipcode_zipcode_exm  zipcode_zipcode_anm  \\\n",
       "0                           3.0                    1                  1.0   \n",
       "1                           1.0                    1                  1.0   \n",
       "2                           2.0                    1                  1.0   \n",
       "3                           0.0                    1                  1.0   \n",
       "4                           2.0                    1                  1.0   \n",
       "5                           3.0                    1                  1.0   \n",
       "6                           3.0                    1                  1.0   \n",
       "7                           0.0                    1                  1.0   \n",
       "8                           1.0                    1                  1.0   \n",
       "9                           2.0                    1                  1.0   \n",
       "10                          3.0                    1                  1.0   \n",
       "11                          2.0                    1                  1.0   \n",
       "12                          3.0                    1                  1.0   \n",
       "13                          2.0                    1                  1.0   \n",
       "14                          0.0                    1                  1.0   \n",
       "\n",
       "    zipcode_zipcode_lev  \n",
       "0                   0.0  \n",
       "1                   0.0  \n",
       "2                   0.0  \n",
       "3                   0.0  \n",
       "4                   0.0  \n",
       "5                   0.0  \n",
       "6                   0.0  \n",
       "7                   0.0  \n",
       "8                   0.0  \n",
       "9                   0.0  \n",
       "10                  0.0  \n",
       "11                  0.0  \n",
       "12                  0.0  \n",
       "13                  0.0  \n",
       "14                  0.0  \n",
       "\n",
       "[15 rows x 21 columns]"
      ]
     },
     "execution_count": 46,
     "metadata": {},
     "output_type": "execute_result"
    },
    {
     "name": "stdout",
     "output_type": "stream",
     "text": [
      "time: 52 ms\n"
     ]
    }
   ],
   "source": [
    "fvl"
   ]
  },
  {
   "cell_type": "code",
   "execution_count": 50,
   "metadata": {
    "collapsed": false
   },
   "outputs": [
    {
     "name": "stdout",
     "output_type": "stream",
     "text": [
      "time: 63.9 ms\n"
     ]
    }
   ],
   "source": [
    "result1 = mg.select_matcher(matchers, fvl, feature_vectors['labels'], k = 2)"
   ]
  },
  {
   "cell_type": "code",
   "execution_count": 51,
   "metadata": {
    "collapsed": false
   },
   "outputs": [
    {
     "data": {
      "text/html": [
       "<div>\n",
       "<table border=\"1\" class=\"dataframe\">\n",
       "  <thead>\n",
       "    <tr style=\"text-align: right;\">\n",
       "      <th></th>\n",
       "      <th>Name</th>\n",
       "      <th>Matcher</th>\n",
       "      <th>Num folds</th>\n",
       "      <th>Fold 1</th>\n",
       "      <th>Fold 2</th>\n",
       "      <th>Mean score</th>\n",
       "    </tr>\n",
       "  </thead>\n",
       "  <tbody>\n",
       "    <tr>\n",
       "      <th>0</th>\n",
       "      <td>DecisionTree_00021128457800335641</td>\n",
       "      <td>&lt;magellan.matcher.dtmatcher.DTMatcher object a...</td>\n",
       "      <td>2</td>\n",
       "      <td>0.500000</td>\n",
       "      <td>0.000000</td>\n",
       "      <td>0.250000</td>\n",
       "    </tr>\n",
       "    <tr>\n",
       "      <th>1</th>\n",
       "      <td>NaiveBayes_27895928457800335641</td>\n",
       "      <td>&lt;magellan.matcher.nbmatcher.NBMatcher object a...</td>\n",
       "      <td>2</td>\n",
       "      <td>0.500000</td>\n",
       "      <td>0.250000</td>\n",
       "      <td>0.375000</td>\n",
       "    </tr>\n",
       "    <tr>\n",
       "      <th>2</th>\n",
       "      <td>RandomForest_29315438457800335641</td>\n",
       "      <td>&lt;magellan.matcher.rfmatcher.RFMatcher object a...</td>\n",
       "      <td>2</td>\n",
       "      <td>0.250000</td>\n",
       "      <td>0.333333</td>\n",
       "      <td>0.291667</td>\n",
       "    </tr>\n",
       "    <tr>\n",
       "      <th>3</th>\n",
       "      <td>SVM_04207148457800335641</td>\n",
       "      <td>&lt;magellan.matcher.svmmatcher.SVMMatcher object...</td>\n",
       "      <td>2</td>\n",
       "      <td>0.500000</td>\n",
       "      <td>0.333333</td>\n",
       "      <td>0.416667</td>\n",
       "    </tr>\n",
       "    <tr>\n",
       "      <th>4</th>\n",
       "      <td>LinearRegression_48709748457800335641</td>\n",
       "      <td>&lt;magellan.matcher.linregmatcher.LinRegMatcher ...</td>\n",
       "      <td>2</td>\n",
       "      <td>0.400000</td>\n",
       "      <td>0.500000</td>\n",
       "      <td>0.450000</td>\n",
       "    </tr>\n",
       "    <tr>\n",
       "      <th>5</th>\n",
       "      <td>LogisticRegression_61007258457800335641</td>\n",
       "      <td>&lt;magellan.matcher.logregmatcher.LogRegMatcher ...</td>\n",
       "      <td>2</td>\n",
       "      <td>0.333333</td>\n",
       "      <td>0.500000</td>\n",
       "      <td>0.416667</td>\n",
       "    </tr>\n",
       "  </tbody>\n",
       "</table>\n",
       "</div>"
      ],
      "text/plain": [
       "                                      Name  \\\n",
       "0        DecisionTree_00021128457800335641   \n",
       "1          NaiveBayes_27895928457800335641   \n",
       "2        RandomForest_29315438457800335641   \n",
       "3                 SVM_04207148457800335641   \n",
       "4    LinearRegression_48709748457800335641   \n",
       "5  LogisticRegression_61007258457800335641   \n",
       "\n",
       "                                             Matcher  Num folds    Fold 1  \\\n",
       "0  <magellan.matcher.dtmatcher.DTMatcher object a...          2  0.500000   \n",
       "1  <magellan.matcher.nbmatcher.NBMatcher object a...          2  0.500000   \n",
       "2  <magellan.matcher.rfmatcher.RFMatcher object a...          2  0.250000   \n",
       "3  <magellan.matcher.svmmatcher.SVMMatcher object...          2  0.500000   \n",
       "4  <magellan.matcher.linregmatcher.LinRegMatcher ...          2  0.400000   \n",
       "5  <magellan.matcher.logregmatcher.LogRegMatcher ...          2  0.333333   \n",
       "\n",
       "     Fold 2  Mean score  \n",
       "0  0.000000    0.250000  \n",
       "1  0.250000    0.375000  \n",
       "2  0.333333    0.291667  \n",
       "3  0.333333    0.416667  \n",
       "4  0.500000    0.450000  \n",
       "5  0.500000    0.416667  "
      ]
     },
     "execution_count": 51,
     "metadata": {},
     "output_type": "execute_result"
    },
    {
     "name": "stdout",
     "output_type": "stream",
     "text": [
      "time: 12.9 ms\n"
     ]
    }
   ],
   "source": [
    "result1['cv_stats']"
   ]
  },
  {
   "cell_type": "code",
   "execution_count": 28,
   "metadata": {
    "collapsed": false
   },
   "outputs": [
    {
     "name": "stdout",
     "output_type": "stream",
     "text": [
      "time: 601 µs\n"
     ]
    }
   ],
   "source": [
    "import pandas as pd"
   ]
  },
  {
   "cell_type": "code",
   "execution_count": 33,
   "metadata": {
    "collapsed": false
   },
   "outputs": [
    {
     "data": {
      "text/plain": [
       "['Matcher', 'Num folds', 'Fold 1']"
      ]
     },
     "execution_count": 33,
     "metadata": {},
     "output_type": "execute_result"
    },
    {
     "name": "stdout",
     "output_type": "stream",
     "text": [
      "time: 1.83 ms\n"
     ]
    }
   ],
   "source": [
    "list(d.columns[[0, 1, 2]])"
   ]
  },
  {
   "cell_type": "code",
   "execution_count": 30,
   "metadata": {
    "collapsed": false
   },
   "outputs": [
    {
     "data": {
      "text/plain": [
       "True"
      ]
     },
     "execution_count": 30,
     "metadata": {},
     "output_type": "execute_result"
    },
    {
     "name": "stdout",
     "output_type": "stream",
     "text": [
      "time: 1.84 ms\n"
     ]
    }
   ],
   "source": [
    "pd.np.max(d['Mean score']) == x"
   ]
  }
 ],
 "metadata": {
  "kernelspec": {
   "display_name": "Python 2",
   "language": "python",
   "name": "python2"
  },
  "language_info": {
   "codemirror_mode": {
    "name": "ipython",
    "version": 2
   },
   "file_extension": ".py",
   "mimetype": "text/x-python",
   "name": "python",
   "nbconvert_exporter": "python",
   "pygments_lexer": "ipython2",
   "version": "2.7.11"
  }
 },
 "nbformat": 4,
 "nbformat_minor": 0
}
