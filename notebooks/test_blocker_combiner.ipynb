{
 "cells": [
  {
   "cell_type": "code",
   "execution_count": 1,
   "metadata": {
    "collapsed": true
   },
   "outputs": [],
   "source": [
    "%load_ext autotime"
   ]
  },
  {
   "cell_type": "code",
   "execution_count": 2,
   "metadata": {
    "collapsed": false
   },
   "outputs": [
    {
     "name": "stdout",
     "output_type": "stream",
     "text": [
      "time: 892 µs\n"
     ]
    }
   ],
   "source": [
    "import logging\n",
    "logging.basicConfig(level=logging.INFO)"
   ]
  },
  {
   "cell_type": "code",
   "execution_count": 3,
   "metadata": {
    "collapsed": false
   },
   "outputs": [
    {
     "name": "stdout",
     "output_type": "stream",
     "text": [
      "time: 799 µs\n"
     ]
    }
   ],
   "source": [
    "import sys\n",
    "sys.path.append('/scratch/pradap/python-work/anhaidgroup/magellan')"
   ]
  },
  {
   "cell_type": "code",
   "execution_count": 4,
   "metadata": {
    "collapsed": false
   },
   "outputs": [
    {
     "name": "stdout",
     "output_type": "stream",
     "text": [
      "time: 695 ms\n"
     ]
    }
   ],
   "source": [
    "import magellan as mg"
   ]
  },
  {
   "cell_type": "code",
   "execution_count": 6,
   "metadata": {
    "collapsed": false
   },
   "outputs": [
    {
     "name": "stderr",
     "output_type": "stream",
     "text": [
      "ERROR:magellan.catalog.catalog_manager:Dataframe information is not present in the catalog\n"
     ]
    },
    {
     "ename": "KeyError",
     "evalue": "'Dataframe information is not present in the catalog'",
     "output_type": "error",
     "traceback": [
      "\u001b[1;31m---------------------------------------------------------------------------\u001b[0m",
      "\u001b[1;31mKeyError\u001b[0m                                  Traceback (most recent call last)",
      "\u001b[1;32m<ipython-input-6-aaef261d244b>\u001b[0m in \u001b[0;36m<module>\u001b[1;34m()\u001b[0m\n\u001b[1;32m----> 1\u001b[1;33m \u001b[0mmg\u001b[0m\u001b[1;33m.\u001b[0m\u001b[0mget_key\u001b[0m\u001b[1;33m(\u001b[0m\u001b[0mA\u001b[0m\u001b[1;33m)\u001b[0m\u001b[1;33m\u001b[0m\u001b[0m\n\u001b[0m",
      "\u001b[1;32m/scratch/pradap/python-work/anhaidgroup/magellan/magellan/catalog/catalog_manager.pyc\u001b[0m in \u001b[0;36mget_key\u001b[1;34m(df)\u001b[0m\n\u001b[0;32m    399\u001b[0m         \u001b[1;32mraise\u001b[0m \u001b[0mAssertionError\u001b[0m\u001b[1;33m(\u001b[0m\u001b[1;34m'Input object is not of type pandas data frame'\u001b[0m\u001b[1;33m)\u001b[0m\u001b[1;33m\u001b[0m\u001b[0m\n\u001b[0;32m    400\u001b[0m \u001b[1;33m\u001b[0m\u001b[0m\n\u001b[1;32m--> 401\u001b[1;33m     \u001b[1;32mreturn\u001b[0m \u001b[0mget_property\u001b[0m\u001b[1;33m(\u001b[0m\u001b[0mdf\u001b[0m\u001b[1;33m,\u001b[0m \u001b[1;34m'key'\u001b[0m\u001b[1;33m)\u001b[0m\u001b[1;33m\u001b[0m\u001b[0m\n\u001b[0m\u001b[0;32m    402\u001b[0m \u001b[1;33m\u001b[0m\u001b[0m\n\u001b[0;32m    403\u001b[0m \u001b[1;33m\u001b[0m\u001b[0m\n",
      "\u001b[1;32m/scratch/pradap/python-work/anhaidgroup/magellan/magellan/catalog/catalog_manager.pyc\u001b[0m in \u001b[0;36mget_property\u001b[1;34m(df, name)\u001b[0m\n\u001b[0;32m     46\u001b[0m     \u001b[1;32mif\u001b[0m \u001b[1;32mnot\u001b[0m \u001b[0mcatalog\u001b[0m\u001b[1;33m.\u001b[0m\u001b[0mis_dfinfo_present\u001b[0m\u001b[1;33m(\u001b[0m\u001b[0mdf\u001b[0m\u001b[1;33m)\u001b[0m\u001b[1;33m:\u001b[0m\u001b[1;33m\u001b[0m\u001b[0m\n\u001b[0;32m     47\u001b[0m         \u001b[0mlogger\u001b[0m\u001b[1;33m.\u001b[0m\u001b[0merror\u001b[0m\u001b[1;33m(\u001b[0m\u001b[1;34m'Dataframe information is not present in the catalog'\u001b[0m\u001b[1;33m)\u001b[0m\u001b[1;33m\u001b[0m\u001b[0m\n\u001b[1;32m---> 48\u001b[1;33m         \u001b[1;32mraise\u001b[0m \u001b[0mKeyError\u001b[0m\u001b[1;33m(\u001b[0m\u001b[1;34m'Dataframe information is not present in the catalog'\u001b[0m\u001b[1;33m)\u001b[0m\u001b[1;33m\u001b[0m\u001b[0m\n\u001b[0m\u001b[0;32m     49\u001b[0m \u001b[1;33m\u001b[0m\u001b[0m\n\u001b[0;32m     50\u001b[0m     \u001b[1;32mif\u001b[0m \u001b[1;32mnot\u001b[0m \u001b[0mcatalog\u001b[0m\u001b[1;33m.\u001b[0m\u001b[0mis_property_present_for_df\u001b[0m\u001b[1;33m(\u001b[0m\u001b[0mdf\u001b[0m\u001b[1;33m,\u001b[0m \u001b[0mname\u001b[0m\u001b[1;33m)\u001b[0m\u001b[1;33m:\u001b[0m\u001b[1;33m\u001b[0m\u001b[0m\n",
      "\u001b[1;31mKeyError\u001b[0m: 'Dataframe information is not present in the catalog'"
     ]
    },
    {
     "name": "stdout",
     "output_type": "stream",
     "text": [
      "time: 171 ms\n"
     ]
    }
   ],
   "source": [
    "mg.get_key(A)"
   ]
  },
  {
   "cell_type": "code",
   "execution_count": 7,
   "metadata": {
    "collapsed": false
   },
   "outputs": [
    {
     "name": "stdout",
     "output_type": "stream",
     "text": [
      "time: 4.53 ms\n"
     ]
    }
   ],
   "source": [
    "A = mg.load_dataset('table_A', key='ID')\n",
    "B = mg.load_dataset('table_B', key='ID')"
   ]
  },
  {
   "cell_type": "code",
   "execution_count": 8,
   "metadata": {
    "collapsed": false
   },
   "outputs": [
    {
     "name": "stdout",
     "output_type": "stream",
     "text": [
      "time: 17.6 ms\n"
     ]
    }
   ],
   "source": [
    "ab = mg.AttrEquivalenceBlocker()\n",
    "C1 = ab.block_tables(A, B, 'zipcode', 'zipcode', ['name', 'address'], ['name', 'address'])\n",
    "C2 = ab.block_tables(A, B, 'birth_year', 'birth_year', ['birth_year', 'zipcode'], ['birth_year', 'zipcode'])"
   ]
  },
  {
   "cell_type": "code",
   "execution_count": 9,
   "metadata": {
    "collapsed": false
   },
   "outputs": [
    {
     "data": {
      "text/html": [
       "<div>\n",
       "<table border=\"1\" class=\"dataframe\">\n",
       "  <thead>\n",
       "    <tr style=\"text-align: right;\">\n",
       "      <th></th>\n",
       "      <th>_id</th>\n",
       "      <th>ltable_ID</th>\n",
       "      <th>rtable_ID</th>\n",
       "      <th>ltable_name</th>\n",
       "      <th>ltable_address</th>\n",
       "      <th>rtable_name</th>\n",
       "      <th>rtable_address</th>\n",
       "    </tr>\n",
       "  </thead>\n",
       "  <tbody>\n",
       "    <tr>\n",
       "      <th>0</th>\n",
       "      <td>0</td>\n",
       "      <td>a1</td>\n",
       "      <td>b1</td>\n",
       "      <td>Kevin Smith</td>\n",
       "      <td>607 From St, San Francisco</td>\n",
       "      <td>Mark Levene</td>\n",
       "      <td>108 Clement St, San Francisco</td>\n",
       "    </tr>\n",
       "    <tr>\n",
       "      <th>1</th>\n",
       "      <td>1</td>\n",
       "      <td>a1</td>\n",
       "      <td>b2</td>\n",
       "      <td>Kevin Smith</td>\n",
       "      <td>607 From St, San Francisco</td>\n",
       "      <td>Bill Bridge</td>\n",
       "      <td>3131 Webster St, San Francisco</td>\n",
       "    </tr>\n",
       "    <tr>\n",
       "      <th>2</th>\n",
       "      <td>2</td>\n",
       "      <td>a1</td>\n",
       "      <td>b6</td>\n",
       "      <td>Kevin Smith</td>\n",
       "      <td>607 From St, San Francisco</td>\n",
       "      <td>Michael Brodie</td>\n",
       "      <td>133 Clement Street, San Francisco</td>\n",
       "    </tr>\n",
       "    <tr>\n",
       "      <th>3</th>\n",
       "      <td>3</td>\n",
       "      <td>a3</td>\n",
       "      <td>b1</td>\n",
       "      <td>William Bridge</td>\n",
       "      <td>3131 Webster St, San Francisco</td>\n",
       "      <td>Mark Levene</td>\n",
       "      <td>108 Clement St, San Francisco</td>\n",
       "    </tr>\n",
       "    <tr>\n",
       "      <th>4</th>\n",
       "      <td>4</td>\n",
       "      <td>a3</td>\n",
       "      <td>b2</td>\n",
       "      <td>William Bridge</td>\n",
       "      <td>3131 Webster St, San Francisco</td>\n",
       "      <td>Bill Bridge</td>\n",
       "      <td>3131 Webster St, San Francisco</td>\n",
       "    </tr>\n",
       "    <tr>\n",
       "      <th>5</th>\n",
       "      <td>5</td>\n",
       "      <td>a3</td>\n",
       "      <td>b6</td>\n",
       "      <td>William Bridge</td>\n",
       "      <td>3131 Webster St, San Francisco</td>\n",
       "      <td>Michael Brodie</td>\n",
       "      <td>133 Clement Street, San Francisco</td>\n",
       "    </tr>\n",
       "    <tr>\n",
       "      <th>6</th>\n",
       "      <td>6</td>\n",
       "      <td>a2</td>\n",
       "      <td>b3</td>\n",
       "      <td>Michael Franklin</td>\n",
       "      <td>1652 Stockton St, San Francisco</td>\n",
       "      <td>Mike Franklin</td>\n",
       "      <td>1652 Stockton St, San Francisco</td>\n",
       "    </tr>\n",
       "    <tr>\n",
       "      <th>7</th>\n",
       "      <td>7</td>\n",
       "      <td>a2</td>\n",
       "      <td>b4</td>\n",
       "      <td>Michael Franklin</td>\n",
       "      <td>1652 Stockton St, San Francisco</td>\n",
       "      <td>Joseph Kuan</td>\n",
       "      <td>108 South Park, San Francisco</td>\n",
       "    </tr>\n",
       "    <tr>\n",
       "      <th>8</th>\n",
       "      <td>8</td>\n",
       "      <td>a2</td>\n",
       "      <td>b5</td>\n",
       "      <td>Michael Franklin</td>\n",
       "      <td>1652 Stockton St, San Francisco</td>\n",
       "      <td>Alfons Kemper</td>\n",
       "      <td>170 Post St, Apt 4,  San Francisco</td>\n",
       "    </tr>\n",
       "    <tr>\n",
       "      <th>9</th>\n",
       "      <td>9</td>\n",
       "      <td>a4</td>\n",
       "      <td>b3</td>\n",
       "      <td>Binto George</td>\n",
       "      <td>423 Powell St, San Francisco</td>\n",
       "      <td>Mike Franklin</td>\n",
       "      <td>1652 Stockton St, San Francisco</td>\n",
       "    </tr>\n",
       "    <tr>\n",
       "      <th>10</th>\n",
       "      <td>10</td>\n",
       "      <td>a4</td>\n",
       "      <td>b4</td>\n",
       "      <td>Binto George</td>\n",
       "      <td>423 Powell St, San Francisco</td>\n",
       "      <td>Joseph Kuan</td>\n",
       "      <td>108 South Park, San Francisco</td>\n",
       "    </tr>\n",
       "    <tr>\n",
       "      <th>11</th>\n",
       "      <td>11</td>\n",
       "      <td>a4</td>\n",
       "      <td>b5</td>\n",
       "      <td>Binto George</td>\n",
       "      <td>423 Powell St, San Francisco</td>\n",
       "      <td>Alfons Kemper</td>\n",
       "      <td>170 Post St, Apt 4,  San Francisco</td>\n",
       "    </tr>\n",
       "    <tr>\n",
       "      <th>12</th>\n",
       "      <td>12</td>\n",
       "      <td>a5</td>\n",
       "      <td>b3</td>\n",
       "      <td>Alphonse Kemper</td>\n",
       "      <td>1702 Post Street, San Francisco</td>\n",
       "      <td>Mike Franklin</td>\n",
       "      <td>1652 Stockton St, San Francisco</td>\n",
       "    </tr>\n",
       "    <tr>\n",
       "      <th>13</th>\n",
       "      <td>13</td>\n",
       "      <td>a5</td>\n",
       "      <td>b4</td>\n",
       "      <td>Alphonse Kemper</td>\n",
       "      <td>1702 Post Street, San Francisco</td>\n",
       "      <td>Joseph Kuan</td>\n",
       "      <td>108 South Park, San Francisco</td>\n",
       "    </tr>\n",
       "    <tr>\n",
       "      <th>14</th>\n",
       "      <td>14</td>\n",
       "      <td>a5</td>\n",
       "      <td>b5</td>\n",
       "      <td>Alphonse Kemper</td>\n",
       "      <td>1702 Post Street, San Francisco</td>\n",
       "      <td>Alfons Kemper</td>\n",
       "      <td>170 Post St, Apt 4,  San Francisco</td>\n",
       "    </tr>\n",
       "  </tbody>\n",
       "</table>\n",
       "</div>"
      ],
      "text/plain": [
       "    _id ltable_ID rtable_ID       ltable_name  \\\n",
       "0     0        a1        b1       Kevin Smith   \n",
       "1     1        a1        b2       Kevin Smith   \n",
       "2     2        a1        b6       Kevin Smith   \n",
       "3     3        a3        b1    William Bridge   \n",
       "4     4        a3        b2    William Bridge   \n",
       "5     5        a3        b6    William Bridge   \n",
       "6     6        a2        b3  Michael Franklin   \n",
       "7     7        a2        b4  Michael Franklin   \n",
       "8     8        a2        b5  Michael Franklin   \n",
       "9     9        a4        b3      Binto George   \n",
       "10   10        a4        b4      Binto George   \n",
       "11   11        a4        b5      Binto George   \n",
       "12   12        a5        b3   Alphonse Kemper   \n",
       "13   13        a5        b4   Alphonse Kemper   \n",
       "14   14        a5        b5   Alphonse Kemper   \n",
       "\n",
       "                     ltable_address     rtable_name  \\\n",
       "0        607 From St, San Francisco     Mark Levene   \n",
       "1        607 From St, San Francisco     Bill Bridge   \n",
       "2        607 From St, San Francisco  Michael Brodie   \n",
       "3    3131 Webster St, San Francisco     Mark Levene   \n",
       "4    3131 Webster St, San Francisco     Bill Bridge   \n",
       "5    3131 Webster St, San Francisco  Michael Brodie   \n",
       "6   1652 Stockton St, San Francisco   Mike Franklin   \n",
       "7   1652 Stockton St, San Francisco     Joseph Kuan   \n",
       "8   1652 Stockton St, San Francisco   Alfons Kemper   \n",
       "9      423 Powell St, San Francisco   Mike Franklin   \n",
       "10     423 Powell St, San Francisco     Joseph Kuan   \n",
       "11     423 Powell St, San Francisco   Alfons Kemper   \n",
       "12  1702 Post Street, San Francisco   Mike Franklin   \n",
       "13  1702 Post Street, San Francisco     Joseph Kuan   \n",
       "14  1702 Post Street, San Francisco   Alfons Kemper   \n",
       "\n",
       "                        rtable_address  \n",
       "0        108 Clement St, San Francisco  \n",
       "1       3131 Webster St, San Francisco  \n",
       "2    133 Clement Street, San Francisco  \n",
       "3        108 Clement St, San Francisco  \n",
       "4       3131 Webster St, San Francisco  \n",
       "5    133 Clement Street, San Francisco  \n",
       "6      1652 Stockton St, San Francisco  \n",
       "7        108 South Park, San Francisco  \n",
       "8   170 Post St, Apt 4,  San Francisco  \n",
       "9      1652 Stockton St, San Francisco  \n",
       "10       108 South Park, San Francisco  \n",
       "11  170 Post St, Apt 4,  San Francisco  \n",
       "12     1652 Stockton St, San Francisco  \n",
       "13       108 South Park, San Francisco  \n",
       "14  170 Post St, Apt 4,  San Francisco  "
      ]
     },
     "execution_count": 9,
     "metadata": {},
     "output_type": "execute_result"
    },
    {
     "name": "stdout",
     "output_type": "stream",
     "text": [
      "time: 28.9 ms\n"
     ]
    }
   ],
   "source": [
    "C1"
   ]
  },
  {
   "cell_type": "code",
   "execution_count": 10,
   "metadata": {
    "collapsed": false
   },
   "outputs": [
    {
     "data": {
      "text/html": [
       "<div>\n",
       "<table border=\"1\" class=\"dataframe\">\n",
       "  <thead>\n",
       "    <tr style=\"text-align: right;\">\n",
       "      <th></th>\n",
       "      <th>_id</th>\n",
       "      <th>ltable_ID</th>\n",
       "      <th>rtable_ID</th>\n",
       "      <th>ltable_birth_year</th>\n",
       "      <th>ltable_zipcode</th>\n",
       "      <th>rtable_birth_year</th>\n",
       "      <th>rtable_zipcode</th>\n",
       "    </tr>\n",
       "  </thead>\n",
       "  <tbody>\n",
       "    <tr>\n",
       "      <th>0</th>\n",
       "      <td>0</td>\n",
       "      <td>a2</td>\n",
       "      <td>b3</td>\n",
       "      <td>1988</td>\n",
       "      <td>94122</td>\n",
       "      <td>1988</td>\n",
       "      <td>94122</td>\n",
       "    </tr>\n",
       "    <tr>\n",
       "      <th>1</th>\n",
       "      <td>1</td>\n",
       "      <td>a3</td>\n",
       "      <td>b2</td>\n",
       "      <td>1986</td>\n",
       "      <td>94107</td>\n",
       "      <td>1986</td>\n",
       "      <td>94107</td>\n",
       "    </tr>\n",
       "    <tr>\n",
       "      <th>2</th>\n",
       "      <td>2</td>\n",
       "      <td>a4</td>\n",
       "      <td>b1</td>\n",
       "      <td>1987</td>\n",
       "      <td>94122</td>\n",
       "      <td>1987</td>\n",
       "      <td>94107</td>\n",
       "    </tr>\n",
       "    <tr>\n",
       "      <th>3</th>\n",
       "      <td>3</td>\n",
       "      <td>a4</td>\n",
       "      <td>b6</td>\n",
       "      <td>1987</td>\n",
       "      <td>94122</td>\n",
       "      <td>1987</td>\n",
       "      <td>94107</td>\n",
       "    </tr>\n",
       "    <tr>\n",
       "      <th>4</th>\n",
       "      <td>4</td>\n",
       "      <td>a5</td>\n",
       "      <td>b5</td>\n",
       "      <td>1984</td>\n",
       "      <td>94122</td>\n",
       "      <td>1984</td>\n",
       "      <td>94122</td>\n",
       "    </tr>\n",
       "  </tbody>\n",
       "</table>\n",
       "</div>"
      ],
      "text/plain": [
       "   _id ltable_ID rtable_ID  ltable_birth_year  ltable_zipcode  \\\n",
       "0    0        a2        b3               1988           94122   \n",
       "1    1        a3        b2               1986           94107   \n",
       "2    2        a4        b1               1987           94122   \n",
       "3    3        a4        b6               1987           94122   \n",
       "4    4        a5        b5               1984           94122   \n",
       "\n",
       "   rtable_birth_year  rtable_zipcode  \n",
       "0               1988           94122  \n",
       "1               1986           94107  \n",
       "2               1987           94107  \n",
       "3               1987           94107  \n",
       "4               1984           94122  "
      ]
     },
     "execution_count": 10,
     "metadata": {},
     "output_type": "execute_result"
    },
    {
     "name": "stdout",
     "output_type": "stream",
     "text": [
      "time: 11.8 ms\n"
     ]
    }
   ],
   "source": [
    "C2"
   ]
  },
  {
   "cell_type": "code",
   "execution_count": 15,
   "metadata": {
    "collapsed": false
   },
   "outputs": [
    {
     "name": "stdout",
     "output_type": "stream",
     "text": [
      "time: 616 µs\n"
     ]
    }
   ],
   "source": [
    "import pandas as pd"
   ]
  },
  {
   "cell_type": "code",
   "execution_count": null,
   "metadata": {
    "collapsed": true
   },
   "outputs": [],
   "source": []
  },
  {
   "cell_type": "code",
   "execution_count": 16,
   "metadata": {
    "collapsed": false
   },
   "outputs": [
    {
     "name": "stdout",
     "output_type": "stream",
     "text": [
      "time: 1.94 ms\n"
     ]
    }
   ],
   "source": [
    "C3 = pd.DataFrame(columns=['_id', 'ltable_ID', 'rtable_ID', 'ltable_birth_year', 'ltable_zipcode', \n",
    "                           'rtable_birth_year', 'rtable_zipcode'])"
   ]
  },
  {
   "cell_type": "code",
   "execution_count": 17,
   "metadata": {
    "collapsed": false
   },
   "outputs": [
    {
     "name": "stdout",
     "output_type": "stream",
     "text": [
      "time: 670 µs\n"
     ]
    }
   ],
   "source": [
    "import magellan.catalog.catalog_manager as cm"
   ]
  },
  {
   "cell_type": "code",
   "execution_count": 18,
   "metadata": {
    "collapsed": false
   },
   "outputs": [
    {
     "name": "stdout",
     "output_type": "stream",
     "text": [
      "Help on function set_candset_properties in module magellan.catalog.catalog_manager:\n",
      "\n",
      "set_candset_properties(candset, key, fk_ltable, fk_rtable, ltable, rtable)\n",
      "\n",
      "time: 1.02 ms\n"
     ]
    }
   ],
   "source": [
    "help(cm.set_candset_properties)"
   ]
  },
  {
   "cell_type": "code",
   "execution_count": 19,
   "metadata": {
    "collapsed": false
   },
   "outputs": [
    {
     "name": "stdout",
     "output_type": "stream",
     "text": [
      "time: 878 µs\n"
     ]
    }
   ],
   "source": [
    "cm.set_candset_properties(C3, '_id', 'ltable_ID', 'rtable_ID', A, B)"
   ]
  },
  {
   "cell_type": "code",
   "execution_count": 34,
   "metadata": {
    "collapsed": false
   },
   "outputs": [
    {
     "name": "stdout",
     "output_type": "stream",
     "text": [
      "time: 10.7 ms\n"
     ]
    }
   ],
   "source": [
    "C = mg.combine_blocker_outputs_via_union([C1, C2], verbose=True)"
   ]
  },
  {
   "cell_type": "code",
   "execution_count": 26,
   "metadata": {
    "collapsed": false
   },
   "outputs": [
    {
     "name": "stderr",
     "output_type": "stream",
     "text": [
      "WARNING:magellan.io.parsers:File already exists at ./C1_ex_1.csv; Overwriting it\n",
      "WARNING:magellan.io.parsers:Metadata file already exists at ./C1_ex_1.metadata. Overwriting it\n"
     ]
    },
    {
     "data": {
      "text/plain": [
       "True"
      ]
     },
     "execution_count": 26,
     "metadata": {},
     "output_type": "execute_result"
    },
    {
     "name": "stdout",
     "output_type": "stream",
     "text": [
      "time: 2.88 ms\n"
     ]
    }
   ],
   "source": [
    "mg.to_csv_metadata(C1, './C1_ex_1.csv')"
   ]
  },
  {
   "cell_type": "code",
   "execution_count": 27,
   "metadata": {
    "collapsed": false
   },
   "outputs": [
    {
     "name": "stderr",
     "output_type": "stream",
     "text": [
      "WARNING:magellan.io.parsers:File already exists at ./C2_ex_1.csv; Overwriting it\n",
      "WARNING:magellan.io.parsers:Metadata file already exists at ./C2_ex_1.metadata. Overwriting it\n"
     ]
    },
    {
     "data": {
      "text/plain": [
       "True"
      ]
     },
     "execution_count": 27,
     "metadata": {},
     "output_type": "execute_result"
    },
    {
     "name": "stdout",
     "output_type": "stream",
     "text": [
      "time: 2.91 ms\n"
     ]
    }
   ],
   "source": [
    "mg.to_csv_metadata(C2, './C2_ex_1.csv')"
   ]
  },
  {
   "cell_type": "code",
   "execution_count": 30,
   "metadata": {
    "collapsed": false
   },
   "outputs": [
    {
     "data": {
      "text/plain": [
       "True"
      ]
     },
     "execution_count": 30,
     "metadata": {},
     "output_type": "execute_result"
    },
    {
     "name": "stdout",
     "output_type": "stream",
     "text": [
      "time: 1.98 ms\n"
     ]
    }
   ],
   "source": [
    "mg.to_csv_metadata(C3, './C3_ex_2.csv')"
   ]
  },
  {
   "cell_type": "code",
   "execution_count": 35,
   "metadata": {
    "collapsed": false
   },
   "outputs": [
    {
     "data": {
      "text/plain": [
       "True"
      ]
     },
     "execution_count": 35,
     "metadata": {},
     "output_type": "execute_result"
    },
    {
     "name": "stdout",
     "output_type": "stream",
     "text": [
      "time: 2.57 ms\n"
     ]
    }
   ],
   "source": [
    "mg.to_csv_metadata(C, './C_ex_1.csv')"
   ]
  },
  {
   "cell_type": "code",
   "execution_count": 32,
   "metadata": {
    "collapsed": false
   },
   "outputs": [
    {
     "data": {
      "text/plain": [
       "True"
      ]
     },
     "execution_count": 32,
     "metadata": {},
     "output_type": "execute_result"
    },
    {
     "name": "stdout",
     "output_type": "stream",
     "text": [
      "time: 2.42 ms\n"
     ]
    }
   ],
   "source": [
    "mg.to_csv_metadata(C, './C_ex_2.csv')"
   ]
  },
  {
   "cell_type": "code",
   "execution_count": 21,
   "metadata": {
    "collapsed": false
   },
   "outputs": [
    {
     "data": {
      "text/html": [
       "<div>\n",
       "<table border=\"1\" class=\"dataframe\">\n",
       "  <thead>\n",
       "    <tr style=\"text-align: right;\">\n",
       "      <th></th>\n",
       "      <th>_id</th>\n",
       "      <th>ltable_ID</th>\n",
       "      <th>rtable_ID</th>\n",
       "      <th>ltable_name</th>\n",
       "      <th>ltable_address</th>\n",
       "      <th>ltable_birth_year</th>\n",
       "      <th>ltable_zipcode</th>\n",
       "      <th>rtable_name</th>\n",
       "      <th>rtable_address</th>\n",
       "      <th>rtable_birth_year</th>\n",
       "      <th>rtable_zipcode</th>\n",
       "    </tr>\n",
       "  </thead>\n",
       "  <tbody>\n",
       "    <tr>\n",
       "      <th>0</th>\n",
       "      <td>0</td>\n",
       "      <td>a1</td>\n",
       "      <td>b1</td>\n",
       "      <td>Kevin Smith</td>\n",
       "      <td>607 From St, San Francisco</td>\n",
       "      <td>1989</td>\n",
       "      <td>94107</td>\n",
       "      <td>Mark Levene</td>\n",
       "      <td>108 Clement St, San Francisco</td>\n",
       "      <td>1987</td>\n",
       "      <td>94107</td>\n",
       "    </tr>\n",
       "    <tr>\n",
       "      <th>1</th>\n",
       "      <td>1</td>\n",
       "      <td>a1</td>\n",
       "      <td>b2</td>\n",
       "      <td>Kevin Smith</td>\n",
       "      <td>607 From St, San Francisco</td>\n",
       "      <td>1989</td>\n",
       "      <td>94107</td>\n",
       "      <td>Bill Bridge</td>\n",
       "      <td>3131 Webster St, San Francisco</td>\n",
       "      <td>1986</td>\n",
       "      <td>94107</td>\n",
       "    </tr>\n",
       "    <tr>\n",
       "      <th>2</th>\n",
       "      <td>2</td>\n",
       "      <td>a1</td>\n",
       "      <td>b6</td>\n",
       "      <td>Kevin Smith</td>\n",
       "      <td>607 From St, San Francisco</td>\n",
       "      <td>1989</td>\n",
       "      <td>94107</td>\n",
       "      <td>Michael Brodie</td>\n",
       "      <td>133 Clement Street, San Francisco</td>\n",
       "      <td>1987</td>\n",
       "      <td>94107</td>\n",
       "    </tr>\n",
       "    <tr>\n",
       "      <th>3</th>\n",
       "      <td>3</td>\n",
       "      <td>a2</td>\n",
       "      <td>b3</td>\n",
       "      <td>Michael Franklin</td>\n",
       "      <td>1652 Stockton St, San Francisco</td>\n",
       "      <td>1988</td>\n",
       "      <td>94122</td>\n",
       "      <td>Mike Franklin</td>\n",
       "      <td>1652 Stockton St, San Francisco</td>\n",
       "      <td>1988</td>\n",
       "      <td>94122</td>\n",
       "    </tr>\n",
       "    <tr>\n",
       "      <th>4</th>\n",
       "      <td>4</td>\n",
       "      <td>a2</td>\n",
       "      <td>b4</td>\n",
       "      <td>Michael Franklin</td>\n",
       "      <td>1652 Stockton St, San Francisco</td>\n",
       "      <td>1988</td>\n",
       "      <td>94122</td>\n",
       "      <td>Joseph Kuan</td>\n",
       "      <td>108 South Park, San Francisco</td>\n",
       "      <td>1982</td>\n",
       "      <td>94122</td>\n",
       "    </tr>\n",
       "    <tr>\n",
       "      <th>5</th>\n",
       "      <td>5</td>\n",
       "      <td>a2</td>\n",
       "      <td>b5</td>\n",
       "      <td>Michael Franklin</td>\n",
       "      <td>1652 Stockton St, San Francisco</td>\n",
       "      <td>1988</td>\n",
       "      <td>94122</td>\n",
       "      <td>Alfons Kemper</td>\n",
       "      <td>170 Post St, Apt 4,  San Francisco</td>\n",
       "      <td>1984</td>\n",
       "      <td>94122</td>\n",
       "    </tr>\n",
       "    <tr>\n",
       "      <th>6</th>\n",
       "      <td>6</td>\n",
       "      <td>a3</td>\n",
       "      <td>b1</td>\n",
       "      <td>William Bridge</td>\n",
       "      <td>3131 Webster St, San Francisco</td>\n",
       "      <td>1986</td>\n",
       "      <td>94107</td>\n",
       "      <td>Mark Levene</td>\n",
       "      <td>108 Clement St, San Francisco</td>\n",
       "      <td>1987</td>\n",
       "      <td>94107</td>\n",
       "    </tr>\n",
       "    <tr>\n",
       "      <th>7</th>\n",
       "      <td>7</td>\n",
       "      <td>a3</td>\n",
       "      <td>b2</td>\n",
       "      <td>William Bridge</td>\n",
       "      <td>3131 Webster St, San Francisco</td>\n",
       "      <td>1986</td>\n",
       "      <td>94107</td>\n",
       "      <td>Bill Bridge</td>\n",
       "      <td>3131 Webster St, San Francisco</td>\n",
       "      <td>1986</td>\n",
       "      <td>94107</td>\n",
       "    </tr>\n",
       "    <tr>\n",
       "      <th>8</th>\n",
       "      <td>8</td>\n",
       "      <td>a3</td>\n",
       "      <td>b6</td>\n",
       "      <td>William Bridge</td>\n",
       "      <td>3131 Webster St, San Francisco</td>\n",
       "      <td>1986</td>\n",
       "      <td>94107</td>\n",
       "      <td>Michael Brodie</td>\n",
       "      <td>133 Clement Street, San Francisco</td>\n",
       "      <td>1987</td>\n",
       "      <td>94107</td>\n",
       "    </tr>\n",
       "    <tr>\n",
       "      <th>9</th>\n",
       "      <td>9</td>\n",
       "      <td>a4</td>\n",
       "      <td>b3</td>\n",
       "      <td>Binto George</td>\n",
       "      <td>423 Powell St, San Francisco</td>\n",
       "      <td>1987</td>\n",
       "      <td>94122</td>\n",
       "      <td>Mike Franklin</td>\n",
       "      <td>1652 Stockton St, San Francisco</td>\n",
       "      <td>1988</td>\n",
       "      <td>94122</td>\n",
       "    </tr>\n",
       "    <tr>\n",
       "      <th>10</th>\n",
       "      <td>10</td>\n",
       "      <td>a4</td>\n",
       "      <td>b4</td>\n",
       "      <td>Binto George</td>\n",
       "      <td>423 Powell St, San Francisco</td>\n",
       "      <td>1987</td>\n",
       "      <td>94122</td>\n",
       "      <td>Joseph Kuan</td>\n",
       "      <td>108 South Park, San Francisco</td>\n",
       "      <td>1982</td>\n",
       "      <td>94122</td>\n",
       "    </tr>\n",
       "    <tr>\n",
       "      <th>11</th>\n",
       "      <td>11</td>\n",
       "      <td>a4</td>\n",
       "      <td>b5</td>\n",
       "      <td>Binto George</td>\n",
       "      <td>423 Powell St, San Francisco</td>\n",
       "      <td>1987</td>\n",
       "      <td>94122</td>\n",
       "      <td>Alfons Kemper</td>\n",
       "      <td>170 Post St, Apt 4,  San Francisco</td>\n",
       "      <td>1984</td>\n",
       "      <td>94122</td>\n",
       "    </tr>\n",
       "    <tr>\n",
       "      <th>12</th>\n",
       "      <td>12</td>\n",
       "      <td>a5</td>\n",
       "      <td>b3</td>\n",
       "      <td>Alphonse Kemper</td>\n",
       "      <td>1702 Post Street, San Francisco</td>\n",
       "      <td>1984</td>\n",
       "      <td>94122</td>\n",
       "      <td>Mike Franklin</td>\n",
       "      <td>1652 Stockton St, San Francisco</td>\n",
       "      <td>1988</td>\n",
       "      <td>94122</td>\n",
       "    </tr>\n",
       "    <tr>\n",
       "      <th>13</th>\n",
       "      <td>13</td>\n",
       "      <td>a5</td>\n",
       "      <td>b4</td>\n",
       "      <td>Alphonse Kemper</td>\n",
       "      <td>1702 Post Street, San Francisco</td>\n",
       "      <td>1984</td>\n",
       "      <td>94122</td>\n",
       "      <td>Joseph Kuan</td>\n",
       "      <td>108 South Park, San Francisco</td>\n",
       "      <td>1982</td>\n",
       "      <td>94122</td>\n",
       "    </tr>\n",
       "    <tr>\n",
       "      <th>14</th>\n",
       "      <td>14</td>\n",
       "      <td>a5</td>\n",
       "      <td>b5</td>\n",
       "      <td>Alphonse Kemper</td>\n",
       "      <td>1702 Post Street, San Francisco</td>\n",
       "      <td>1984</td>\n",
       "      <td>94122</td>\n",
       "      <td>Alfons Kemper</td>\n",
       "      <td>170 Post St, Apt 4,  San Francisco</td>\n",
       "      <td>1984</td>\n",
       "      <td>94122</td>\n",
       "    </tr>\n",
       "  </tbody>\n",
       "</table>\n",
       "</div>"
      ],
      "text/plain": [
       "    _id ltable_ID rtable_ID       ltable_name  \\\n",
       "0     0        a1        b1       Kevin Smith   \n",
       "1     1        a1        b2       Kevin Smith   \n",
       "2     2        a1        b6       Kevin Smith   \n",
       "3     3        a2        b3  Michael Franklin   \n",
       "4     4        a2        b4  Michael Franklin   \n",
       "5     5        a2        b5  Michael Franklin   \n",
       "6     6        a3        b1    William Bridge   \n",
       "7     7        a3        b2    William Bridge   \n",
       "8     8        a3        b6    William Bridge   \n",
       "9     9        a4        b3      Binto George   \n",
       "10   10        a4        b4      Binto George   \n",
       "11   11        a4        b5      Binto George   \n",
       "12   12        a5        b3   Alphonse Kemper   \n",
       "13   13        a5        b4   Alphonse Kemper   \n",
       "14   14        a5        b5   Alphonse Kemper   \n",
       "\n",
       "                     ltable_address  ltable_birth_year  ltable_zipcode  \\\n",
       "0        607 From St, San Francisco               1989           94107   \n",
       "1        607 From St, San Francisco               1989           94107   \n",
       "2        607 From St, San Francisco               1989           94107   \n",
       "3   1652 Stockton St, San Francisco               1988           94122   \n",
       "4   1652 Stockton St, San Francisco               1988           94122   \n",
       "5   1652 Stockton St, San Francisco               1988           94122   \n",
       "6    3131 Webster St, San Francisco               1986           94107   \n",
       "7    3131 Webster St, San Francisco               1986           94107   \n",
       "8    3131 Webster St, San Francisco               1986           94107   \n",
       "9      423 Powell St, San Francisco               1987           94122   \n",
       "10     423 Powell St, San Francisco               1987           94122   \n",
       "11     423 Powell St, San Francisco               1987           94122   \n",
       "12  1702 Post Street, San Francisco               1984           94122   \n",
       "13  1702 Post Street, San Francisco               1984           94122   \n",
       "14  1702 Post Street, San Francisco               1984           94122   \n",
       "\n",
       "       rtable_name                      rtable_address  rtable_birth_year  \\\n",
       "0      Mark Levene       108 Clement St, San Francisco               1987   \n",
       "1      Bill Bridge      3131 Webster St, San Francisco               1986   \n",
       "2   Michael Brodie   133 Clement Street, San Francisco               1987   \n",
       "3    Mike Franklin     1652 Stockton St, San Francisco               1988   \n",
       "4      Joseph Kuan       108 South Park, San Francisco               1982   \n",
       "5    Alfons Kemper  170 Post St, Apt 4,  San Francisco               1984   \n",
       "6      Mark Levene       108 Clement St, San Francisco               1987   \n",
       "7      Bill Bridge      3131 Webster St, San Francisco               1986   \n",
       "8   Michael Brodie   133 Clement Street, San Francisco               1987   \n",
       "9    Mike Franklin     1652 Stockton St, San Francisco               1988   \n",
       "10     Joseph Kuan       108 South Park, San Francisco               1982   \n",
       "11   Alfons Kemper  170 Post St, Apt 4,  San Francisco               1984   \n",
       "12   Mike Franklin     1652 Stockton St, San Francisco               1988   \n",
       "13     Joseph Kuan       108 South Park, San Francisco               1982   \n",
       "14   Alfons Kemper  170 Post St, Apt 4,  San Francisco               1984   \n",
       "\n",
       "    rtable_zipcode  \n",
       "0            94107  \n",
       "1            94107  \n",
       "2            94107  \n",
       "3            94122  \n",
       "4            94122  \n",
       "5            94122  \n",
       "6            94107  \n",
       "7            94107  \n",
       "8            94107  \n",
       "9            94122  \n",
       "10           94122  \n",
       "11           94122  \n",
       "12           94122  \n",
       "13           94122  \n",
       "14           94122  "
      ]
     },
     "execution_count": 21,
     "metadata": {},
     "output_type": "execute_result"
    },
    {
     "name": "stdout",
     "output_type": "stream",
     "text": [
      "time: 30.1 ms\n"
     ]
    }
   ],
   "source": [
    "C"
   ]
  },
  {
   "cell_type": "code",
   "execution_count": 10,
   "metadata": {
    "collapsed": false
   },
   "outputs": [
    {
     "name": "stdout",
     "output_type": "stream",
     "text": [
      "1000 loops, best of 3: 335 µs per loop\n",
      "time: 1.46 s\n"
     ]
    }
   ],
   "source": [
    "%timeit C.head(5)"
   ]
  },
  {
   "cell_type": "code",
   "execution_count": 40,
   "metadata": {
    "collapsed": false
   },
   "outputs": [
    {
     "name": "stdout",
     "output_type": "stream",
     "text": [
      "time: 34.3 ms\n"
     ]
    }
   ],
   "source": [
    "C1.rename(columns={'rtable_address':'r_address'}, inplace=True)"
   ]
  },
  {
   "cell_type": "code",
   "execution_count": 44,
   "metadata": {
    "collapsed": false
   },
   "outputs": [
    {
     "name": "stdout",
     "output_type": "stream",
     "text": [
      "time: 1.75 ms\n"
     ]
    }
   ],
   "source": [
    "C1.drop('r_address', axis=1, inplace=True)"
   ]
  }
 ],
 "metadata": {
  "kernelspec": {
   "display_name": "Python 2",
   "language": "python",
   "name": "python2"
  },
  "language_info": {
   "codemirror_mode": {
    "name": "ipython",
    "version": 2
   },
   "file_extension": ".py",
   "mimetype": "text/x-python",
   "name": "python",
   "nbconvert_exporter": "python",
   "pygments_lexer": "ipython2",
   "version": "2.7.11"
  }
 },
 "nbformat": 4,
 "nbformat_minor": 0
}
